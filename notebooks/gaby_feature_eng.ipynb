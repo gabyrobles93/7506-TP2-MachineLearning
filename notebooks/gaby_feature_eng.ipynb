{
 "cells": [
  {
   "cell_type": "markdown",
   "metadata": {},
   "source": [
    "# Trabajo Práctico 2 - Organización de Datos\n",
    "## Competencia de Machine Learning\n",
    "### Facultad de Ingeniería de la Universidad de Buenos Aires\n",
    "### 95-58: Organización de Datos - 2do Cuat. 2018\n",
    "\n",
    "#### Integrantes: Gonzalo Diz,  Ariel Windey, Gabriel Robles y Matías El Dócil\n"
   ]
  },
  {
   "cell_type": "markdown",
   "metadata": {},
   "source": [
    "\n",
    "\n",
    "#### Objetivo\n",
    "Determinar, para cada usuario presentado, cuál es la probabilidad de que ese\n",
    "usuario realice una conversión en Trocafone en un periodo determinado.\n",
    "\n",
    "#### Fuentes\n",
    "El archivo \"events_up_to_01062018.csv\" contiene en el mismo formato utilizado en el TP1\n",
    "información de eventos realizado en la plataforma para un conjunto de usuarios hasta el\n",
    "31/05/2018.\n",
    "\n",
    "Por otro lado el archivo \"labels_training_set.csv\" indica para un subconjunto de los\n",
    "usuarios incluidos en el set de eventos \"events_up_to_01062018.csv\" si los mismos\n",
    "realizaron una conversión (columna label = 1) o no (columna label = 0) desde el 01/06/2018\n",
    "hasta el 15/06/2018."
   ]
  },
  {
   "cell_type": "code",
   "execution_count": 1,
   "metadata": {},
   "outputs": [],
   "source": [
    "import pandas as pd\n",
    "import numpy as np\n",
    "import matplotlib.pyplot as plt\n",
    "import seaborn as sns\n",
    "\n",
    "import sklearn as skl\n",
    "\n",
    "%matplotlib inline\n",
    "\n",
    "pd.set_option('display.max_columns', 51)"
   ]
  },
  {
   "cell_type": "code",
   "execution_count": 2,
   "metadata": {},
   "outputs": [],
   "source": [
    "# Carga del set de datos de eventos\n",
    "eventos = pd.read_csv('../dataset/events_up_to_01062018.csv', low_memory=False)\n",
    "# Carga del set de datos de labels\n",
    "labels = pd.read_csv('../dataset/labels_training_set.csv', low_memory=False)\n"
   ]
  },
  {
   "cell_type": "code",
   "execution_count": 3,
   "metadata": {},
   "outputs": [
    {
     "data": {
      "text/plain": [
       "(2341681, 23)"
      ]
     },
     "execution_count": 3,
     "metadata": {},
     "output_type": "execute_result"
    }
   ],
   "source": [
    "eventos.shape"
   ]
  },
  {
   "cell_type": "code",
   "execution_count": 4,
   "metadata": {
    "scrolled": true
   },
   "outputs": [
    {
     "data": {
      "text/html": [
       "<div>\n",
       "<style scoped>\n",
       "    .dataframe tbody tr th:only-of-type {\n",
       "        vertical-align: middle;\n",
       "    }\n",
       "\n",
       "    .dataframe tbody tr th {\n",
       "        vertical-align: top;\n",
       "    }\n",
       "\n",
       "    .dataframe thead th {\n",
       "        text-align: right;\n",
       "    }\n",
       "</style>\n",
       "<table border=\"1\" class=\"dataframe\">\n",
       "  <thead>\n",
       "    <tr style=\"text-align: right;\">\n",
       "      <th></th>\n",
       "      <th>timestamp</th>\n",
       "      <th>event</th>\n",
       "      <th>person</th>\n",
       "      <th>url</th>\n",
       "      <th>sku</th>\n",
       "      <th>model</th>\n",
       "      <th>condition</th>\n",
       "      <th>storage</th>\n",
       "      <th>color</th>\n",
       "      <th>skus</th>\n",
       "      <th>search_term</th>\n",
       "      <th>staticpage</th>\n",
       "      <th>campaign_source</th>\n",
       "      <th>search_engine</th>\n",
       "      <th>channel</th>\n",
       "      <th>new_vs_returning</th>\n",
       "      <th>city</th>\n",
       "      <th>region</th>\n",
       "      <th>country</th>\n",
       "      <th>device_type</th>\n",
       "      <th>screen_resolution</th>\n",
       "      <th>operating_system_version</th>\n",
       "      <th>browser_version</th>\n",
       "    </tr>\n",
       "  </thead>\n",
       "  <tbody>\n",
       "    <tr>\n",
       "      <th>1340575</th>\n",
       "      <td>2018-04-13 12:46:03</td>\n",
       "      <td>viewed product</td>\n",
       "      <td>399a78a8</td>\n",
       "      <td>NaN</td>\n",
       "      <td>297.0</td>\n",
       "      <td>iPhone 5s</td>\n",
       "      <td>Muito Bom</td>\n",
       "      <td>32GB</td>\n",
       "      <td>Prateado</td>\n",
       "      <td>NaN</td>\n",
       "      <td>NaN</td>\n",
       "      <td>NaN</td>\n",
       "      <td>NaN</td>\n",
       "      <td>NaN</td>\n",
       "      <td>NaN</td>\n",
       "      <td>NaN</td>\n",
       "      <td>NaN</td>\n",
       "      <td>NaN</td>\n",
       "      <td>NaN</td>\n",
       "      <td>NaN</td>\n",
       "      <td>NaN</td>\n",
       "      <td>NaN</td>\n",
       "      <td>NaN</td>\n",
       "    </tr>\n",
       "    <tr>\n",
       "      <th>993018</th>\n",
       "      <td>2018-05-02 20:17:16</td>\n",
       "      <td>viewed product</td>\n",
       "      <td>10871bbb</td>\n",
       "      <td>NaN</td>\n",
       "      <td>9398.0</td>\n",
       "      <td>Samsung Galaxy A5 2016</td>\n",
       "      <td>Bom</td>\n",
       "      <td>16GB</td>\n",
       "      <td>Preto</td>\n",
       "      <td>NaN</td>\n",
       "      <td>NaN</td>\n",
       "      <td>NaN</td>\n",
       "      <td>NaN</td>\n",
       "      <td>NaN</td>\n",
       "      <td>NaN</td>\n",
       "      <td>NaN</td>\n",
       "      <td>NaN</td>\n",
       "      <td>NaN</td>\n",
       "      <td>NaN</td>\n",
       "      <td>NaN</td>\n",
       "      <td>NaN</td>\n",
       "      <td>NaN</td>\n",
       "      <td>NaN</td>\n",
       "    </tr>\n",
       "    <tr>\n",
       "      <th>1199204</th>\n",
       "      <td>2018-05-31 15:18:38</td>\n",
       "      <td>search engine hit</td>\n",
       "      <td>017fd805</td>\n",
       "      <td>NaN</td>\n",
       "      <td>NaN</td>\n",
       "      <td>NaN</td>\n",
       "      <td>NaN</td>\n",
       "      <td>NaN</td>\n",
       "      <td>NaN</td>\n",
       "      <td>NaN</td>\n",
       "      <td>NaN</td>\n",
       "      <td>NaN</td>\n",
       "      <td>NaN</td>\n",
       "      <td>Google</td>\n",
       "      <td>NaN</td>\n",
       "      <td>NaN</td>\n",
       "      <td>NaN</td>\n",
       "      <td>NaN</td>\n",
       "      <td>NaN</td>\n",
       "      <td>NaN</td>\n",
       "      <td>NaN</td>\n",
       "      <td>NaN</td>\n",
       "      <td>NaN</td>\n",
       "    </tr>\n",
       "    <tr>\n",
       "      <th>1694765</th>\n",
       "      <td>2018-04-27 11:38:23</td>\n",
       "      <td>viewed product</td>\n",
       "      <td>89a3cd57</td>\n",
       "      <td>NaN</td>\n",
       "      <td>8512.0</td>\n",
       "      <td>Samsung Galaxy S7 Edge</td>\n",
       "      <td>Muito Bom</td>\n",
       "      <td>32GB</td>\n",
       "      <td>Preto</td>\n",
       "      <td>NaN</td>\n",
       "      <td>NaN</td>\n",
       "      <td>NaN</td>\n",
       "      <td>NaN</td>\n",
       "      <td>NaN</td>\n",
       "      <td>NaN</td>\n",
       "      <td>NaN</td>\n",
       "      <td>NaN</td>\n",
       "      <td>NaN</td>\n",
       "      <td>NaN</td>\n",
       "      <td>NaN</td>\n",
       "      <td>NaN</td>\n",
       "      <td>NaN</td>\n",
       "      <td>NaN</td>\n",
       "    </tr>\n",
       "    <tr>\n",
       "      <th>1905575</th>\n",
       "      <td>2018-05-22 00:59:43</td>\n",
       "      <td>generic listing</td>\n",
       "      <td>02208eb6</td>\n",
       "      <td>NaN</td>\n",
       "      <td>NaN</td>\n",
       "      <td>NaN</td>\n",
       "      <td>NaN</td>\n",
       "      <td>NaN</td>\n",
       "      <td>NaN</td>\n",
       "      <td>6594,6637,6665,6649,2750,2820,12618,12604,1134...</td>\n",
       "      <td>NaN</td>\n",
       "      <td>NaN</td>\n",
       "      <td>NaN</td>\n",
       "      <td>NaN</td>\n",
       "      <td>NaN</td>\n",
       "      <td>NaN</td>\n",
       "      <td>NaN</td>\n",
       "      <td>NaN</td>\n",
       "      <td>NaN</td>\n",
       "      <td>NaN</td>\n",
       "      <td>NaN</td>\n",
       "      <td>NaN</td>\n",
       "      <td>NaN</td>\n",
       "    </tr>\n",
       "  </tbody>\n",
       "</table>\n",
       "</div>"
      ],
      "text/plain": [
       "                   timestamp              event    person  url     sku  \\\n",
       "1340575  2018-04-13 12:46:03     viewed product  399a78a8  NaN   297.0   \n",
       "993018   2018-05-02 20:17:16     viewed product  10871bbb  NaN  9398.0   \n",
       "1199204  2018-05-31 15:18:38  search engine hit  017fd805  NaN     NaN   \n",
       "1694765  2018-04-27 11:38:23     viewed product  89a3cd57  NaN  8512.0   \n",
       "1905575  2018-05-22 00:59:43    generic listing  02208eb6  NaN     NaN   \n",
       "\n",
       "                          model  condition storage     color  \\\n",
       "1340575               iPhone 5s  Muito Bom    32GB  Prateado   \n",
       "993018   Samsung Galaxy A5 2016        Bom    16GB     Preto   \n",
       "1199204                     NaN        NaN     NaN       NaN   \n",
       "1694765  Samsung Galaxy S7 Edge  Muito Bom    32GB     Preto   \n",
       "1905575                     NaN        NaN     NaN       NaN   \n",
       "\n",
       "                                                      skus search_term  \\\n",
       "1340575                                                NaN         NaN   \n",
       "993018                                                 NaN         NaN   \n",
       "1199204                                                NaN         NaN   \n",
       "1694765                                                NaN         NaN   \n",
       "1905575  6594,6637,6665,6649,2750,2820,12618,12604,1134...         NaN   \n",
       "\n",
       "        staticpage campaign_source search_engine channel new_vs_returning  \\\n",
       "1340575        NaN             NaN           NaN     NaN              NaN   \n",
       "993018         NaN             NaN           NaN     NaN              NaN   \n",
       "1199204        NaN             NaN        Google     NaN              NaN   \n",
       "1694765        NaN             NaN           NaN     NaN              NaN   \n",
       "1905575        NaN             NaN           NaN     NaN              NaN   \n",
       "\n",
       "        city region country device_type screen_resolution  \\\n",
       "1340575  NaN    NaN     NaN         NaN               NaN   \n",
       "993018   NaN    NaN     NaN         NaN               NaN   \n",
       "1199204  NaN    NaN     NaN         NaN               NaN   \n",
       "1694765  NaN    NaN     NaN         NaN               NaN   \n",
       "1905575  NaN    NaN     NaN         NaN               NaN   \n",
       "\n",
       "        operating_system_version browser_version  \n",
       "1340575                      NaN             NaN  \n",
       "993018                       NaN             NaN  \n",
       "1199204                      NaN             NaN  \n",
       "1694765                      NaN             NaN  \n",
       "1905575                      NaN             NaN  "
      ]
     },
     "execution_count": 4,
     "metadata": {},
     "output_type": "execute_result"
    }
   ],
   "source": [
    "eventos.sample(5)"
   ]
  },
  {
   "cell_type": "code",
   "execution_count": 5,
   "metadata": {},
   "outputs": [],
   "source": [
    "# Formateo los eventos\n",
    "eventos['timestamp'] = pd.to_datetime(eventos['timestamp'])"
   ]
  },
  {
   "cell_type": "markdown",
   "metadata": {},
   "source": [
    "## Feature: Marca Favorita"
   ]
  },
  {
   "cell_type": "markdown",
   "metadata": {},
   "source": [
    "Para cada persona, se indicara su marca favorita, que significa la marca que mas checkouts, conversiones y viewed product.\n",
    "\n",
    "Filtro de eventos las columnas person y model"
   ]
  },
  {
   "cell_type": "code",
   "execution_count": 6,
   "metadata": {},
   "outputs": [],
   "source": [
    "marcas = eventos.loc[:, ['person', 'model']]"
   ]
  },
  {
   "cell_type": "markdown",
   "metadata": {},
   "source": [
    "Agrego columnas que categorizan el modelo por marca"
   ]
  },
  {
   "cell_type": "code",
   "execution_count": 7,
   "metadata": {},
   "outputs": [],
   "source": [
    "marcas['apple'] = (marcas['model'].str.contains('iphone', case=False)) | (marcas['model'].str.contains('ipad', case=False))\n",
    "marcas['motorola'] = marcas['model'].str.contains('motorola', case=False)\n",
    "marcas['samsung'] = marcas['model'].str.contains('samsung', case=False)\n",
    "marcas['lg'] = marcas['model'].str.contains('lg', case=False)\n",
    "marcas['blackberry'] = marcas['model'].str.contains('blackberry', case=False)\n",
    "marcas['sony'] = marcas['model'].str.contains('sony', case=False)\n",
    "marcas['asus'] = marcas['model'].str.contains('asus', case=False)\n",
    "marcas['lenovo'] = marcas['model'].str.contains('lenovo', case=False)\n",
    "marcas['quantum'] = marcas['model'].str.contains('quantum', case=False)"
   ]
  },
  {
   "cell_type": "markdown",
   "metadata": {},
   "source": [
    "Los usuarios que nunca realizaron algun evento del tipo \"checkout\", \"conversion\" o \"viewed product\" no tendrán marcas asociadas, de ahí los valores NaN. Los descarto ya que no son representativos."
   ]
  },
  {
   "cell_type": "code",
   "execution_count": 8,
   "metadata": {
    "scrolled": true
   },
   "outputs": [
    {
     "data": {
      "text/html": [
       "<div>\n",
       "<style scoped>\n",
       "    .dataframe tbody tr th:only-of-type {\n",
       "        vertical-align: middle;\n",
       "    }\n",
       "\n",
       "    .dataframe tbody tr th {\n",
       "        vertical-align: top;\n",
       "    }\n",
       "\n",
       "    .dataframe thead th {\n",
       "        text-align: right;\n",
       "    }\n",
       "</style>\n",
       "<table border=\"1\" class=\"dataframe\">\n",
       "  <thead>\n",
       "    <tr style=\"text-align: right;\">\n",
       "      <th></th>\n",
       "      <th>person</th>\n",
       "      <th>model</th>\n",
       "      <th>apple</th>\n",
       "      <th>motorola</th>\n",
       "      <th>samsung</th>\n",
       "      <th>lg</th>\n",
       "      <th>blackberry</th>\n",
       "      <th>sony</th>\n",
       "      <th>asus</th>\n",
       "      <th>lenovo</th>\n",
       "      <th>quantum</th>\n",
       "    </tr>\n",
       "  </thead>\n",
       "  <tbody>\n",
       "    <tr>\n",
       "      <th>1269392</th>\n",
       "      <td>622b4acf</td>\n",
       "      <td>Samsung Galaxy J2 4G Duos TV</td>\n",
       "      <td>False</td>\n",
       "      <td>False</td>\n",
       "      <td>True</td>\n",
       "      <td>False</td>\n",
       "      <td>False</td>\n",
       "      <td>False</td>\n",
       "      <td>False</td>\n",
       "      <td>False</td>\n",
       "      <td>False</td>\n",
       "    </tr>\n",
       "    <tr>\n",
       "      <th>1034213</th>\n",
       "      <td>91960583</td>\n",
       "      <td>Samsung Galaxy A5 2016</td>\n",
       "      <td>False</td>\n",
       "      <td>False</td>\n",
       "      <td>True</td>\n",
       "      <td>False</td>\n",
       "      <td>False</td>\n",
       "      <td>False</td>\n",
       "      <td>False</td>\n",
       "      <td>False</td>\n",
       "      <td>False</td>\n",
       "    </tr>\n",
       "    <tr>\n",
       "      <th>1546867</th>\n",
       "      <td>1bf1aeef</td>\n",
       "      <td>Samsung Galaxy A5</td>\n",
       "      <td>False</td>\n",
       "      <td>False</td>\n",
       "      <td>True</td>\n",
       "      <td>False</td>\n",
       "      <td>False</td>\n",
       "      <td>False</td>\n",
       "      <td>False</td>\n",
       "      <td>False</td>\n",
       "      <td>False</td>\n",
       "    </tr>\n",
       "    <tr>\n",
       "      <th>1394525</th>\n",
       "      <td>5b0a38d2</td>\n",
       "      <td>iPhone 6S</td>\n",
       "      <td>True</td>\n",
       "      <td>False</td>\n",
       "      <td>False</td>\n",
       "      <td>False</td>\n",
       "      <td>False</td>\n",
       "      <td>False</td>\n",
       "      <td>False</td>\n",
       "      <td>False</td>\n",
       "      <td>False</td>\n",
       "    </tr>\n",
       "    <tr>\n",
       "      <th>1452579</th>\n",
       "      <td>377de8ad</td>\n",
       "      <td>iPhone 6</td>\n",
       "      <td>True</td>\n",
       "      <td>False</td>\n",
       "      <td>False</td>\n",
       "      <td>False</td>\n",
       "      <td>False</td>\n",
       "      <td>False</td>\n",
       "      <td>False</td>\n",
       "      <td>False</td>\n",
       "      <td>False</td>\n",
       "    </tr>\n",
       "    <tr>\n",
       "      <th>933063</th>\n",
       "      <td>e289012c</td>\n",
       "      <td>Samsung Galaxy S6 Flat</td>\n",
       "      <td>False</td>\n",
       "      <td>False</td>\n",
       "      <td>True</td>\n",
       "      <td>False</td>\n",
       "      <td>False</td>\n",
       "      <td>False</td>\n",
       "      <td>False</td>\n",
       "      <td>False</td>\n",
       "      <td>False</td>\n",
       "    </tr>\n",
       "    <tr>\n",
       "      <th>365824</th>\n",
       "      <td>091d4e3a</td>\n",
       "      <td>iPhone 6S</td>\n",
       "      <td>True</td>\n",
       "      <td>False</td>\n",
       "      <td>False</td>\n",
       "      <td>False</td>\n",
       "      <td>False</td>\n",
       "      <td>False</td>\n",
       "      <td>False</td>\n",
       "      <td>False</td>\n",
       "      <td>False</td>\n",
       "    </tr>\n",
       "    <tr>\n",
       "      <th>234638</th>\n",
       "      <td>41ccd2c6</td>\n",
       "      <td>Samsung Galaxy S7 Edge</td>\n",
       "      <td>False</td>\n",
       "      <td>False</td>\n",
       "      <td>True</td>\n",
       "      <td>False</td>\n",
       "      <td>False</td>\n",
       "      <td>False</td>\n",
       "      <td>False</td>\n",
       "      <td>False</td>\n",
       "      <td>False</td>\n",
       "    </tr>\n",
       "    <tr>\n",
       "      <th>161293</th>\n",
       "      <td>dc2d6173</td>\n",
       "      <td>Samsung Galaxy S7 Edge</td>\n",
       "      <td>False</td>\n",
       "      <td>False</td>\n",
       "      <td>True</td>\n",
       "      <td>False</td>\n",
       "      <td>False</td>\n",
       "      <td>False</td>\n",
       "      <td>False</td>\n",
       "      <td>False</td>\n",
       "      <td>False</td>\n",
       "    </tr>\n",
       "    <tr>\n",
       "      <th>1510391</th>\n",
       "      <td>80b117ef</td>\n",
       "      <td>iPhone 7</td>\n",
       "      <td>True</td>\n",
       "      <td>False</td>\n",
       "      <td>False</td>\n",
       "      <td>False</td>\n",
       "      <td>False</td>\n",
       "      <td>False</td>\n",
       "      <td>False</td>\n",
       "      <td>False</td>\n",
       "      <td>False</td>\n",
       "    </tr>\n",
       "    <tr>\n",
       "      <th>624788</th>\n",
       "      <td>19ed4344</td>\n",
       "      <td>iPhone 6</td>\n",
       "      <td>True</td>\n",
       "      <td>False</td>\n",
       "      <td>False</td>\n",
       "      <td>False</td>\n",
       "      <td>False</td>\n",
       "      <td>False</td>\n",
       "      <td>False</td>\n",
       "      <td>False</td>\n",
       "      <td>False</td>\n",
       "    </tr>\n",
       "    <tr>\n",
       "      <th>177797</th>\n",
       "      <td>e17bd9f9</td>\n",
       "      <td>Motorola Moto G2 3G Dual</td>\n",
       "      <td>False</td>\n",
       "      <td>True</td>\n",
       "      <td>False</td>\n",
       "      <td>False</td>\n",
       "      <td>False</td>\n",
       "      <td>False</td>\n",
       "      <td>False</td>\n",
       "      <td>False</td>\n",
       "      <td>False</td>\n",
       "    </tr>\n",
       "    <tr>\n",
       "      <th>1140783</th>\n",
       "      <td>23a85928</td>\n",
       "      <td>iPhone 6S</td>\n",
       "      <td>True</td>\n",
       "      <td>False</td>\n",
       "      <td>False</td>\n",
       "      <td>False</td>\n",
       "      <td>False</td>\n",
       "      <td>False</td>\n",
       "      <td>False</td>\n",
       "      <td>False</td>\n",
       "      <td>False</td>\n",
       "    </tr>\n",
       "    <tr>\n",
       "      <th>456714</th>\n",
       "      <td>1dae1e78</td>\n",
       "      <td>iPhone 6</td>\n",
       "      <td>True</td>\n",
       "      <td>False</td>\n",
       "      <td>False</td>\n",
       "      <td>False</td>\n",
       "      <td>False</td>\n",
       "      <td>False</td>\n",
       "      <td>False</td>\n",
       "      <td>False</td>\n",
       "      <td>False</td>\n",
       "    </tr>\n",
       "    <tr>\n",
       "      <th>1624465</th>\n",
       "      <td>11b1b119</td>\n",
       "      <td>Samsung Galaxy A7 2017</td>\n",
       "      <td>False</td>\n",
       "      <td>False</td>\n",
       "      <td>True</td>\n",
       "      <td>False</td>\n",
       "      <td>False</td>\n",
       "      <td>False</td>\n",
       "      <td>False</td>\n",
       "      <td>False</td>\n",
       "      <td>False</td>\n",
       "    </tr>\n",
       "  </tbody>\n",
       "</table>\n",
       "</div>"
      ],
      "text/plain": [
       "           person                         model  apple motorola samsung  \\\n",
       "1269392  622b4acf  Samsung Galaxy J2 4G Duos TV  False    False    True   \n",
       "1034213  91960583        Samsung Galaxy A5 2016  False    False    True   \n",
       "1546867  1bf1aeef             Samsung Galaxy A5  False    False    True   \n",
       "1394525  5b0a38d2                     iPhone 6S   True    False   False   \n",
       "1452579  377de8ad                      iPhone 6   True    False   False   \n",
       "933063   e289012c        Samsung Galaxy S6 Flat  False    False    True   \n",
       "365824   091d4e3a                     iPhone 6S   True    False   False   \n",
       "234638   41ccd2c6        Samsung Galaxy S7 Edge  False    False    True   \n",
       "161293   dc2d6173        Samsung Galaxy S7 Edge  False    False    True   \n",
       "1510391  80b117ef                      iPhone 7   True    False   False   \n",
       "624788   19ed4344                      iPhone 6   True    False   False   \n",
       "177797   e17bd9f9      Motorola Moto G2 3G Dual  False     True   False   \n",
       "1140783  23a85928                     iPhone 6S   True    False   False   \n",
       "456714   1dae1e78                      iPhone 6   True    False   False   \n",
       "1624465  11b1b119        Samsung Galaxy A7 2017  False    False    True   \n",
       "\n",
       "            lg blackberry   sony   asus lenovo quantum  \n",
       "1269392  False      False  False  False  False   False  \n",
       "1034213  False      False  False  False  False   False  \n",
       "1546867  False      False  False  False  False   False  \n",
       "1394525  False      False  False  False  False   False  \n",
       "1452579  False      False  False  False  False   False  \n",
       "933063   False      False  False  False  False   False  \n",
       "365824   False      False  False  False  False   False  \n",
       "234638   False      False  False  False  False   False  \n",
       "161293   False      False  False  False  False   False  \n",
       "1510391  False      False  False  False  False   False  \n",
       "624788   False      False  False  False  False   False  \n",
       "177797   False      False  False  False  False   False  \n",
       "1140783  False      False  False  False  False   False  \n",
       "456714   False      False  False  False  False   False  \n",
       "1624465  False      False  False  False  False   False  "
      ]
     },
     "execution_count": 8,
     "metadata": {},
     "output_type": "execute_result"
    }
   ],
   "source": [
    "marcas = marcas[pd.notnull(marcas['model'])]\n",
    "marcas.sample(15)"
   ]
  },
  {
   "cell_type": "code",
   "execution_count": 9,
   "metadata": {
    "scrolled": true
   },
   "outputs": [
    {
     "data": {
      "text/plain": [
       "Xiaomi Redmi 2      1\n",
       "Outros TV LED 15    1\n",
       "Name: model, dtype: int64"
      ]
     },
     "execution_count": 9,
     "metadata": {},
     "output_type": "execute_result"
    }
   ],
   "source": [
    "marcas.loc[(marcas['apple'] == False) & (marcas['motorola'] == False) & (marcas['samsung'] == False) & (marcas['lg'] == False) & (marcas['blackberry'] == False) & (marcas['sony'] == False) & (marcas['asus'] == False) & (marcas['lenovo'] == False) & (marcas['quantum'] == False), :]['model'].value_counts()"
   ]
  },
  {
   "cell_type": "markdown",
   "metadata": {},
   "source": [
    "Ya no se necesita la columna \"modelo\", pues tenemos cada marca categorizada por columnas."
   ]
  },
  {
   "cell_type": "code",
   "execution_count": 10,
   "metadata": {
    "scrolled": false
   },
   "outputs": [
    {
     "data": {
      "text/html": [
       "<div>\n",
       "<style scoped>\n",
       "    .dataframe tbody tr th:only-of-type {\n",
       "        vertical-align: middle;\n",
       "    }\n",
       "\n",
       "    .dataframe tbody tr th {\n",
       "        vertical-align: top;\n",
       "    }\n",
       "\n",
       "    .dataframe thead th {\n",
       "        text-align: right;\n",
       "    }\n",
       "</style>\n",
       "<table border=\"1\" class=\"dataframe\">\n",
       "  <thead>\n",
       "    <tr style=\"text-align: right;\">\n",
       "      <th></th>\n",
       "      <th>person</th>\n",
       "      <th>apple</th>\n",
       "      <th>motorola</th>\n",
       "      <th>samsung</th>\n",
       "      <th>lg</th>\n",
       "      <th>blackberry</th>\n",
       "      <th>sony</th>\n",
       "      <th>asus</th>\n",
       "      <th>lenovo</th>\n",
       "      <th>quantum</th>\n",
       "    </tr>\n",
       "  </thead>\n",
       "  <tbody>\n",
       "    <tr>\n",
       "      <th>0</th>\n",
       "      <td>4886f805</td>\n",
       "      <td>False</td>\n",
       "      <td>False</td>\n",
       "      <td>True</td>\n",
       "      <td>False</td>\n",
       "      <td>False</td>\n",
       "      <td>False</td>\n",
       "      <td>False</td>\n",
       "      <td>False</td>\n",
       "      <td>False</td>\n",
       "    </tr>\n",
       "    <tr>\n",
       "      <th>1</th>\n",
       "      <td>ad93850f</td>\n",
       "      <td>True</td>\n",
       "      <td>False</td>\n",
       "      <td>False</td>\n",
       "      <td>False</td>\n",
       "      <td>False</td>\n",
       "      <td>False</td>\n",
       "      <td>False</td>\n",
       "      <td>False</td>\n",
       "      <td>False</td>\n",
       "    </tr>\n",
       "    <tr>\n",
       "      <th>2</th>\n",
       "      <td>0297fc1e</td>\n",
       "      <td>True</td>\n",
       "      <td>False</td>\n",
       "      <td>False</td>\n",
       "      <td>False</td>\n",
       "      <td>False</td>\n",
       "      <td>False</td>\n",
       "      <td>False</td>\n",
       "      <td>False</td>\n",
       "      <td>False</td>\n",
       "    </tr>\n",
       "    <tr>\n",
       "      <th>3</th>\n",
       "      <td>2d681dd8</td>\n",
       "      <td>True</td>\n",
       "      <td>False</td>\n",
       "      <td>False</td>\n",
       "      <td>False</td>\n",
       "      <td>False</td>\n",
       "      <td>False</td>\n",
       "      <td>False</td>\n",
       "      <td>False</td>\n",
       "      <td>False</td>\n",
       "    </tr>\n",
       "    <tr>\n",
       "      <th>4</th>\n",
       "      <td>cccea85e</td>\n",
       "      <td>False</td>\n",
       "      <td>False</td>\n",
       "      <td>False</td>\n",
       "      <td>True</td>\n",
       "      <td>False</td>\n",
       "      <td>False</td>\n",
       "      <td>False</td>\n",
       "      <td>False</td>\n",
       "      <td>False</td>\n",
       "    </tr>\n",
       "  </tbody>\n",
       "</table>\n",
       "</div>"
      ],
      "text/plain": [
       "     person  apple motorola samsung     lg blackberry   sony   asus lenovo  \\\n",
       "0  4886f805  False    False    True  False      False  False  False  False   \n",
       "1  ad93850f   True    False   False  False      False  False  False  False   \n",
       "2  0297fc1e   True    False   False  False      False  False  False  False   \n",
       "3  2d681dd8   True    False   False  False      False  False  False  False   \n",
       "4  cccea85e  False    False   False   True      False  False  False  False   \n",
       "\n",
       "  quantum  \n",
       "0   False  \n",
       "1   False  \n",
       "2   False  \n",
       "3   False  \n",
       "4   False  "
      ]
     },
     "execution_count": 10,
     "metadata": {},
     "output_type": "execute_result"
    }
   ],
   "source": [
    "marcas = marcas.drop('model', axis=1)\n",
    "marcas.head()"
   ]
  },
  {
   "cell_type": "markdown",
   "metadata": {},
   "source": [
    "Agrupamos por persona sumando cada tipo de marca asociada."
   ]
  },
  {
   "cell_type": "code",
   "execution_count": 11,
   "metadata": {
    "scrolled": true
   },
   "outputs": [],
   "source": [
    "marcas = marcas.groupby('person').agg({'apple':'sum', 'motorola':'sum', 'samsung': 'sum', 'lg':'sum', 'blackberry':'sum', 'sony':'sum', 'asus':'sum', 'lenovo':'sum', 'quantum':'sum'})"
   ]
  },
  {
   "cell_type": "markdown",
   "metadata": {},
   "source": [
    "Las sumas vuelven en tipo object, las pasamos a float."
   ]
  },
  {
   "cell_type": "code",
   "execution_count": 12,
   "metadata": {},
   "outputs": [],
   "source": [
    "marcas = marcas.astype('float64')"
   ]
  },
  {
   "cell_type": "markdown",
   "metadata": {},
   "source": [
    "Nos quedamos con la marca favorita de cada persona con idmax(axis=1)"
   ]
  },
  {
   "cell_type": "code",
   "execution_count": 13,
   "metadata": {
    "scrolled": true
   },
   "outputs": [],
   "source": [
    "marcas['marca_favorita'] = marcas.idxmax(axis=1)\n",
    "marcas.sample(10)\n",
    "marcas = marcas.reset_index()"
   ]
  },
  {
   "cell_type": "code",
   "execution_count": 14,
   "metadata": {},
   "outputs": [
    {
     "data": {
      "text/html": [
       "<div>\n",
       "<style scoped>\n",
       "    .dataframe tbody tr th:only-of-type {\n",
       "        vertical-align: middle;\n",
       "    }\n",
       "\n",
       "    .dataframe tbody tr th {\n",
       "        vertical-align: top;\n",
       "    }\n",
       "\n",
       "    .dataframe thead th {\n",
       "        text-align: right;\n",
       "    }\n",
       "</style>\n",
       "<table border=\"1\" class=\"dataframe\">\n",
       "  <thead>\n",
       "    <tr style=\"text-align: right;\">\n",
       "      <th></th>\n",
       "      <th>person</th>\n",
       "      <th>marca_favorita</th>\n",
       "    </tr>\n",
       "  </thead>\n",
       "  <tbody>\n",
       "    <tr>\n",
       "      <th>0</th>\n",
       "      <td>0008ed71</td>\n",
       "      <td>apple</td>\n",
       "    </tr>\n",
       "    <tr>\n",
       "      <th>1</th>\n",
       "      <td>00091926</td>\n",
       "      <td>apple</td>\n",
       "    </tr>\n",
       "    <tr>\n",
       "      <th>2</th>\n",
       "      <td>00091a7a</td>\n",
       "      <td>apple</td>\n",
       "    </tr>\n",
       "    <tr>\n",
       "      <th>3</th>\n",
       "      <td>000ba417</td>\n",
       "      <td>samsung</td>\n",
       "    </tr>\n",
       "    <tr>\n",
       "      <th>4</th>\n",
       "      <td>000c79fe</td>\n",
       "      <td>apple</td>\n",
       "    </tr>\n",
       "  </tbody>\n",
       "</table>\n",
       "</div>"
      ],
      "text/plain": [
       "     person marca_favorita\n",
       "0  0008ed71          apple\n",
       "1  00091926          apple\n",
       "2  00091a7a          apple\n",
       "3  000ba417        samsung\n",
       "4  000c79fe          apple"
      ]
     },
     "execution_count": 14,
     "metadata": {},
     "output_type": "execute_result"
    }
   ],
   "source": [
    "marcas_favoritas = marcas.loc[:, ['person', 'marca_favorita']]\n",
    "marcas_favoritas.head()"
   ]
  },
  {
   "cell_type": "code",
   "execution_count": 15,
   "metadata": {
    "scrolled": true
   },
   "outputs": [
    {
     "data": {
      "text/plain": [
       "apple       16613\n",
       "samsung     16410\n",
       "motorola     4406\n",
       "lg            434\n",
       "sony          192\n",
       "lenovo        158\n",
       "asus           32\n",
       "quantum        11\n",
       "Name: marca_favorita, dtype: int64"
      ]
     },
     "execution_count": 15,
     "metadata": {},
     "output_type": "execute_result"
    }
   ],
   "source": [
    "marcas_favoritas['marca_favorita'].value_counts()"
   ]
  },
  {
   "cell_type": "code",
   "execution_count": 16,
   "metadata": {},
   "outputs": [
    {
     "data": {
      "text/plain": [
       "Text(0.5,0,'Marca Favorita')"
      ]
     },
     "execution_count": 16,
     "metadata": {},
     "output_type": "execute_result"
    },
    {
     "data": {
      "image/png": "[encoded data removed]",
      "text/plain": [
       "<Figure size 576x576 with 1 Axes>"
      ]
     },
     "metadata": {},
     "output_type": "display_data"
    }
   ],
   "source": [
    "marcas_favoritas['marca_favorita'].value_counts().plot(kind='bar', figsize=(8,8), grid=True, fontsize=14, title='Marca vs. Cantidad de Favoritos').set_xlabel('Marca Favorita', size=15)"
   ]
  },
  {
   "cell_type": "code",
   "execution_count": 17,
   "metadata": {},
   "outputs": [
    {
     "data": {
      "text/plain": [
       "(38256, 2)"
      ]
     },
     "execution_count": 17,
     "metadata": {},
     "output_type": "execute_result"
    }
   ],
   "source": [
    "marcas_favoritas.shape"
   ]
  },
  {
   "cell_type": "markdown",
   "metadata": {},
   "source": [
    "Liberamos recursos"
   ]
  },
  {
   "cell_type": "code",
   "execution_count": 18,
   "metadata": {},
   "outputs": [],
   "source": [
    "marcas = 0"
   ]
  },
  {
   "cell_type": "markdown",
   "metadata": {},
   "source": [
    "## Feature: Nivel de actividad de Usuario\n",
    "\n",
    "Para cada persona, se creará una categoría que indicará su nivel de actividad en la plataforma. Para elaborar la misma, se generarán tres métricas distintas:\n",
    "\n",
    "1. (A) Cantidad de eventos totales por persona\n",
    "2. (B) Días distintos con eventos por persona\n",
    "3. (C) Tiempo en la plataforma\n",
    "\n",
    "Luego, se generarán distintos indicadores a partir de estas tres métricas, con el objetivo de obtener una medida confiable y representativa del nivel de actividad del usuario. Cada uno de estos indicadores se llamará Approach."
   ]
  },
  {
   "cell_type": "code",
   "execution_count": 19,
   "metadata": {},
   "outputs": [
    {
     "data": {
      "text/html": [
       "<div>\n",
       "<style scoped>\n",
       "    .dataframe tbody tr th:only-of-type {\n",
       "        vertical-align: middle;\n",
       "    }\n",
       "\n",
       "    .dataframe tbody tr th {\n",
       "        vertical-align: top;\n",
       "    }\n",
       "\n",
       "    .dataframe thead th {\n",
       "        text-align: right;\n",
       "    }\n",
       "</style>\n",
       "<table border=\"1\" class=\"dataframe\">\n",
       "  <thead>\n",
       "    <tr style=\"text-align: right;\">\n",
       "      <th></th>\n",
       "      <th>timestamp</th>\n",
       "      <th>event</th>\n",
       "      <th>person</th>\n",
       "      <th>url</th>\n",
       "      <th>sku</th>\n",
       "      <th>model</th>\n",
       "      <th>condition</th>\n",
       "      <th>storage</th>\n",
       "      <th>color</th>\n",
       "      <th>skus</th>\n",
       "      <th>search_term</th>\n",
       "      <th>staticpage</th>\n",
       "      <th>campaign_source</th>\n",
       "      <th>search_engine</th>\n",
       "      <th>channel</th>\n",
       "      <th>new_vs_returning</th>\n",
       "      <th>city</th>\n",
       "      <th>region</th>\n",
       "      <th>country</th>\n",
       "      <th>device_type</th>\n",
       "      <th>screen_resolution</th>\n",
       "      <th>operating_system_version</th>\n",
       "      <th>browser_version</th>\n",
       "    </tr>\n",
       "  </thead>\n",
       "  <tbody>\n",
       "    <tr>\n",
       "      <th>1082550</th>\n",
       "      <td>2018-05-27 18:28:48</td>\n",
       "      <td>viewed product</td>\n",
       "      <td>0c118b5a</td>\n",
       "      <td>NaN</td>\n",
       "      <td>290.0</td>\n",
       "      <td>iPhone 5s</td>\n",
       "      <td>Muito Bom</td>\n",
       "      <td>16GB</td>\n",
       "      <td>Dourado</td>\n",
       "      <td>NaN</td>\n",
       "      <td>NaN</td>\n",
       "      <td>NaN</td>\n",
       "      <td>NaN</td>\n",
       "      <td>NaN</td>\n",
       "      <td>NaN</td>\n",
       "      <td>NaN</td>\n",
       "      <td>NaN</td>\n",
       "      <td>NaN</td>\n",
       "      <td>NaN</td>\n",
       "      <td>NaN</td>\n",
       "      <td>NaN</td>\n",
       "      <td>NaN</td>\n",
       "      <td>NaN</td>\n",
       "    </tr>\n",
       "    <tr>\n",
       "      <th>109484</th>\n",
       "      <td>2018-05-13 12:17:06</td>\n",
       "      <td>search engine hit</td>\n",
       "      <td>c380ceab</td>\n",
       "      <td>NaN</td>\n",
       "      <td>NaN</td>\n",
       "      <td>NaN</td>\n",
       "      <td>NaN</td>\n",
       "      <td>NaN</td>\n",
       "      <td>NaN</td>\n",
       "      <td>NaN</td>\n",
       "      <td>NaN</td>\n",
       "      <td>NaN</td>\n",
       "      <td>NaN</td>\n",
       "      <td>Google</td>\n",
       "      <td>NaN</td>\n",
       "      <td>NaN</td>\n",
       "      <td>NaN</td>\n",
       "      <td>NaN</td>\n",
       "      <td>NaN</td>\n",
       "      <td>NaN</td>\n",
       "      <td>NaN</td>\n",
       "      <td>NaN</td>\n",
       "      <td>NaN</td>\n",
       "    </tr>\n",
       "    <tr>\n",
       "      <th>1164526</th>\n",
       "      <td>2018-05-29 13:12:40</td>\n",
       "      <td>ad campaign hit</td>\n",
       "      <td>569af484</td>\n",
       "      <td>/comprar/iphone/iphone-6s-plus</td>\n",
       "      <td>NaN</td>\n",
       "      <td>NaN</td>\n",
       "      <td>NaN</td>\n",
       "      <td>NaN</td>\n",
       "      <td>NaN</td>\n",
       "      <td>NaN</td>\n",
       "      <td>NaN</td>\n",
       "      <td>NaN</td>\n",
       "      <td>google</td>\n",
       "      <td>NaN</td>\n",
       "      <td>NaN</td>\n",
       "      <td>NaN</td>\n",
       "      <td>NaN</td>\n",
       "      <td>NaN</td>\n",
       "      <td>NaN</td>\n",
       "      <td>NaN</td>\n",
       "      <td>NaN</td>\n",
       "      <td>NaN</td>\n",
       "      <td>NaN</td>\n",
       "    </tr>\n",
       "    <tr>\n",
       "      <th>1927748</th>\n",
       "      <td>2018-05-20 20:41:43</td>\n",
       "      <td>generic listing</td>\n",
       "      <td>f10ec6ec</td>\n",
       "      <td>NaN</td>\n",
       "      <td>NaN</td>\n",
       "      <td>NaN</td>\n",
       "      <td>NaN</td>\n",
       "      <td>NaN</td>\n",
       "      <td>NaN</td>\n",
       "      <td>6594,6637,6649,7237,6707,2820,2750,12619,11346...</td>\n",
       "      <td>NaN</td>\n",
       "      <td>NaN</td>\n",
       "      <td>NaN</td>\n",
       "      <td>NaN</td>\n",
       "      <td>NaN</td>\n",
       "      <td>NaN</td>\n",
       "      <td>NaN</td>\n",
       "      <td>NaN</td>\n",
       "      <td>NaN</td>\n",
       "      <td>NaN</td>\n",
       "      <td>NaN</td>\n",
       "      <td>NaN</td>\n",
       "      <td>NaN</td>\n",
       "    </tr>\n",
       "    <tr>\n",
       "      <th>584649</th>\n",
       "      <td>2018-05-13 12:53:53</td>\n",
       "      <td>viewed product</td>\n",
       "      <td>80b09d78</td>\n",
       "      <td>NaN</td>\n",
       "      <td>10197.0</td>\n",
       "      <td>iPhone 7 Plus</td>\n",
       "      <td>Muito Bom</td>\n",
       "      <td>128GB</td>\n",
       "      <td>Prateado</td>\n",
       "      <td>NaN</td>\n",
       "      <td>NaN</td>\n",
       "      <td>NaN</td>\n",
       "      <td>NaN</td>\n",
       "      <td>NaN</td>\n",
       "      <td>NaN</td>\n",
       "      <td>NaN</td>\n",
       "      <td>NaN</td>\n",
       "      <td>NaN</td>\n",
       "      <td>NaN</td>\n",
       "      <td>NaN</td>\n",
       "      <td>NaN</td>\n",
       "      <td>NaN</td>\n",
       "      <td>NaN</td>\n",
       "    </tr>\n",
       "  </tbody>\n",
       "</table>\n",
       "</div>"
      ],
      "text/plain": [
       "                  timestamp              event    person  \\\n",
       "1082550 2018-05-27 18:28:48     viewed product  0c118b5a   \n",
       "109484  2018-05-13 12:17:06  search engine hit  c380ceab   \n",
       "1164526 2018-05-29 13:12:40    ad campaign hit  569af484   \n",
       "1927748 2018-05-20 20:41:43    generic listing  f10ec6ec   \n",
       "584649  2018-05-13 12:53:53     viewed product  80b09d78   \n",
       "\n",
       "                                    url      sku          model  condition  \\\n",
       "1082550                             NaN    290.0      iPhone 5s  Muito Bom   \n",
       "109484                              NaN      NaN            NaN        NaN   \n",
       "1164526  /comprar/iphone/iphone-6s-plus      NaN            NaN        NaN   \n",
       "1927748                             NaN      NaN            NaN        NaN   \n",
       "584649                              NaN  10197.0  iPhone 7 Plus  Muito Bom   \n",
       "\n",
       "        storage     color                                               skus  \\\n",
       "1082550    16GB   Dourado                                                NaN   \n",
       "109484      NaN       NaN                                                NaN   \n",
       "1164526     NaN       NaN                                                NaN   \n",
       "1927748     NaN       NaN  6594,6637,6649,7237,6707,2820,2750,12619,11346...   \n",
       "584649    128GB  Prateado                                                NaN   \n",
       "\n",
       "        search_term staticpage campaign_source search_engine channel  \\\n",
       "1082550         NaN        NaN             NaN           NaN     NaN   \n",
       "109484          NaN        NaN             NaN        Google     NaN   \n",
       "1164526         NaN        NaN          google           NaN     NaN   \n",
       "1927748         NaN        NaN             NaN           NaN     NaN   \n",
       "584649          NaN        NaN             NaN           NaN     NaN   \n",
       "\n",
       "        new_vs_returning city region country device_type screen_resolution  \\\n",
       "1082550              NaN  NaN    NaN     NaN         NaN               NaN   \n",
       "109484               NaN  NaN    NaN     NaN         NaN               NaN   \n",
       "1164526              NaN  NaN    NaN     NaN         NaN               NaN   \n",
       "1927748              NaN  NaN    NaN     NaN         NaN               NaN   \n",
       "584649               NaN  NaN    NaN     NaN         NaN               NaN   \n",
       "\n",
       "        operating_system_version browser_version  \n",
       "1082550                      NaN             NaN  \n",
       "109484                       NaN             NaN  \n",
       "1164526                      NaN             NaN  \n",
       "1927748                      NaN             NaN  \n",
       "584649                       NaN             NaN  "
      ]
     },
     "execution_count": 19,
     "metadata": {},
     "output_type": "execute_result"
    }
   ],
   "source": [
    "eventos.sample(5)"
   ]
  },
  {
   "cell_type": "code",
   "execution_count": 20,
   "metadata": {},
   "outputs": [],
   "source": [
    "actividad_timestamp = eventos[['person', 'timestamp']] "
   ]
  },
  {
   "cell_type": "markdown",
   "metadata": {},
   "source": [
    "#### (A) Obtengo la cantidad de días que cada usuario tiene en la plataforma"
   ]
  },
  {
   "cell_type": "code",
   "execution_count": 21,
   "metadata": {
    "scrolled": true
   },
   "outputs": [
    {
     "data": {
      "text/html": [
       "<div>\n",
       "<style scoped>\n",
       "    .dataframe tbody tr th:only-of-type {\n",
       "        vertical-align: middle;\n",
       "    }\n",
       "\n",
       "    .dataframe tbody tr th {\n",
       "        vertical-align: top;\n",
       "    }\n",
       "\n",
       "    .dataframe thead th {\n",
       "        text-align: right;\n",
       "    }\n",
       "</style>\n",
       "<table border=\"1\" class=\"dataframe\">\n",
       "  <thead>\n",
       "    <tr style=\"text-align: right;\">\n",
       "      <th></th>\n",
       "      <th>person</th>\n",
       "      <th>dias_en_plataforma</th>\n",
       "    </tr>\n",
       "  </thead>\n",
       "  <tbody>\n",
       "    <tr>\n",
       "      <th>0</th>\n",
       "      <td>0008ed71</td>\n",
       "      <td>0.167245</td>\n",
       "    </tr>\n",
       "    <tr>\n",
       "      <th>1</th>\n",
       "      <td>00091926</td>\n",
       "      <td>27.905255</td>\n",
       "    </tr>\n",
       "    <tr>\n",
       "      <th>2</th>\n",
       "      <td>00091a7a</td>\n",
       "      <td>0.004016</td>\n",
       "    </tr>\n",
       "    <tr>\n",
       "      <th>3</th>\n",
       "      <td>000ba417</td>\n",
       "      <td>9.081678</td>\n",
       "    </tr>\n",
       "    <tr>\n",
       "      <th>4</th>\n",
       "      <td>000c79fe</td>\n",
       "      <td>0.007176</td>\n",
       "    </tr>\n",
       "  </tbody>\n",
       "</table>\n",
       "</div>"
      ],
      "text/plain": [
       "     person  dias_en_plataforma\n",
       "0  0008ed71            0.167245\n",
       "1  00091926           27.905255\n",
       "2  00091a7a            0.004016\n",
       "3  000ba417            9.081678\n",
       "4  000c79fe            0.007176"
      ]
     },
     "execution_count": 21,
     "metadata": {},
     "output_type": "execute_result"
    }
   ],
   "source": [
    "dias_en_plataforma = actividad_timestamp.groupby('person').agg({'timestamp': ['min','max']}).reset_index()\n",
    "dias_en_plataforma.columns = ['person', 'min', 'max']\n",
    "dias_en_plataforma['dias_en_plataforma'] = dias_en_plataforma['max'] - dias_en_plataforma['min']\n",
    "dias_en_plataforma['dias_en_plataforma_float'] = (dias_en_plataforma['dias_en_plataforma'].dt.total_seconds() / (60*60*24))\n",
    "dias_en_plataforma = dias_en_plataforma.drop(['min','max','dias_en_plataforma'],axis=1)\n",
    "dias_en_plataforma = dias_en_plataforma.rename(columns={'dias_en_plataforma_float':'dias_en_plataforma'})\n",
    "dias_en_plataforma.head()"
   ]
  },
  {
   "cell_type": "code",
   "execution_count": 22,
   "metadata": {
    "scrolled": true
   },
   "outputs": [
    {
     "data": {
      "text/plain": [
       "(38829, 2)"
      ]
     },
     "execution_count": 22,
     "metadata": {},
     "output_type": "execute_result"
    }
   ],
   "source": [
    "dias_en_plataforma.shape"
   ]
  },
  {
   "cell_type": "code",
   "execution_count": 23,
   "metadata": {},
   "outputs": [
    {
     "data": {
      "text/plain": [
       "dias_en_plataforma    15.309919\n",
       "dtype: float64"
      ]
     },
     "execution_count": 23,
     "metadata": {},
     "output_type": "execute_result"
    }
   ],
   "source": [
    "dias_en_plataforma.mean()"
   ]
  },
  {
   "cell_type": "code",
   "execution_count": 24,
   "metadata": {
    "scrolled": true
   },
   "outputs": [
    {
     "data": {
      "image/png": "[encoded data removed]",
      "text/plain": [
       "<Figure size 432x432 with 1 Axes>"
      ]
     },
     "metadata": {},
     "output_type": "display_data"
    }
   ],
   "source": [
    "dplat = dias_en_plataforma.plot(kind='hist', figsize=(6,6), grid=True, fontsize=12, title= 'Dias en plataforma vs. Cantidad de personas').set_xlabel('Dias en plataforma', size=13)"
   ]
  },
  {
   "cell_type": "code",
   "execution_count": 25,
   "metadata": {},
   "outputs": [],
   "source": [
    "dias_en_plataforma.to_csv('dias_en_plataforma_por_persona.csv', index=False)"
   ]
  },
  {
   "cell_type": "markdown",
   "metadata": {},
   "source": [
    "#### (B) Obtengo la cantidad de eventos en días distintos que tiene cada persona"
   ]
  },
  {
   "cell_type": "code",
   "execution_count": 26,
   "metadata": {
    "scrolled": true
   },
   "outputs": [],
   "source": [
    "eventos['fecha'] = eventos['timestamp'].dt.date"
   ]
  },
  {
   "cell_type": "markdown",
   "metadata": {},
   "source": [
    "Obtengo un dataframe con persona y día en que realizó un evento, con duplicados."
   ]
  },
  {
   "cell_type": "code",
   "execution_count": 27,
   "metadata": {
    "scrolled": true
   },
   "outputs": [
    {
     "data": {
      "text/plain": [
       "(2341681, 2)"
      ]
     },
     "execution_count": 27,
     "metadata": {},
     "output_type": "execute_result"
    }
   ],
   "source": [
    "dias_con_eventos = eventos.loc[:,['person', 'fecha']]\n",
    "dias_con_eventos.shape"
   ]
  },
  {
   "cell_type": "code",
   "execution_count": 28,
   "metadata": {},
   "outputs": [
    {
     "data": {
      "text/html": [
       "<div>\n",
       "<style scoped>\n",
       "    .dataframe tbody tr th:only-of-type {\n",
       "        vertical-align: middle;\n",
       "    }\n",
       "\n",
       "    .dataframe tbody tr th {\n",
       "        vertical-align: top;\n",
       "    }\n",
       "\n",
       "    .dataframe thead th {\n",
       "        text-align: right;\n",
       "    }\n",
       "</style>\n",
       "<table border=\"1\" class=\"dataframe\">\n",
       "  <thead>\n",
       "    <tr style=\"text-align: right;\">\n",
       "      <th></th>\n",
       "      <th>person</th>\n",
       "      <th>fecha</th>\n",
       "    </tr>\n",
       "  </thead>\n",
       "  <tbody>\n",
       "    <tr>\n",
       "      <th>0</th>\n",
       "      <td>4886f805</td>\n",
       "      <td>2018-05-18</td>\n",
       "    </tr>\n",
       "    <tr>\n",
       "      <th>1</th>\n",
       "      <td>ad93850f</td>\n",
       "      <td>2018-05-18</td>\n",
       "    </tr>\n",
       "    <tr>\n",
       "      <th>2</th>\n",
       "      <td>0297fc1e</td>\n",
       "      <td>2018-05-18</td>\n",
       "    </tr>\n",
       "    <tr>\n",
       "      <th>3</th>\n",
       "      <td>2d681dd8</td>\n",
       "      <td>2018-05-18</td>\n",
       "    </tr>\n",
       "    <tr>\n",
       "      <th>4</th>\n",
       "      <td>cccea85e</td>\n",
       "      <td>2018-05-18</td>\n",
       "    </tr>\n",
       "  </tbody>\n",
       "</table>\n",
       "</div>"
      ],
      "text/plain": [
       "     person       fecha\n",
       "0  4886f805  2018-05-18\n",
       "1  ad93850f  2018-05-18\n",
       "2  0297fc1e  2018-05-18\n",
       "3  2d681dd8  2018-05-18\n",
       "4  cccea85e  2018-05-18"
      ]
     },
     "execution_count": 28,
     "metadata": {},
     "output_type": "execute_result"
    }
   ],
   "source": [
    "dias_con_eventos.head()"
   ]
  },
  {
   "cell_type": "markdown",
   "metadata": {},
   "source": [
    "Quito los duplicados"
   ]
  },
  {
   "cell_type": "code",
   "execution_count": 29,
   "metadata": {},
   "outputs": [
    {
     "data": {
      "text/plain": [
       "(138421, 2)"
      ]
     },
     "execution_count": 29,
     "metadata": {},
     "output_type": "execute_result"
    }
   ],
   "source": [
    "dias_con_eventos = dias_con_eventos.drop_duplicates()\n",
    "dias_con_eventos.shape"
   ]
  },
  {
   "cell_type": "code",
   "execution_count": 30,
   "metadata": {
    "scrolled": true
   },
   "outputs": [],
   "source": [
    "dias_con_eventos_agg = dias_con_eventos.groupby('person').count().reset_index()\n",
    "dias_con_eventos_agg = dias_con_eventos_agg.rename(columns={'fecha':'dias_distintos_con_eventos'})"
   ]
  },
  {
   "cell_type": "code",
   "execution_count": 31,
   "metadata": {
    "scrolled": false
   },
   "outputs": [
    {
     "data": {
      "text/html": [
       "<div>\n",
       "<style scoped>\n",
       "    .dataframe tbody tr th:only-of-type {\n",
       "        vertical-align: middle;\n",
       "    }\n",
       "\n",
       "    .dataframe tbody tr th {\n",
       "        vertical-align: top;\n",
       "    }\n",
       "\n",
       "    .dataframe thead th {\n",
       "        text-align: right;\n",
       "    }\n",
       "</style>\n",
       "<table border=\"1\" class=\"dataframe\">\n",
       "  <thead>\n",
       "    <tr style=\"text-align: right;\">\n",
       "      <th></th>\n",
       "      <th>person</th>\n",
       "      <th>dias_distintos_con_eventos</th>\n",
       "    </tr>\n",
       "  </thead>\n",
       "  <tbody>\n",
       "    <tr>\n",
       "      <th>0</th>\n",
       "      <td>0008ed71</td>\n",
       "      <td>1</td>\n",
       "    </tr>\n",
       "    <tr>\n",
       "      <th>1</th>\n",
       "      <td>00091926</td>\n",
       "      <td>22</td>\n",
       "    </tr>\n",
       "    <tr>\n",
       "      <th>2</th>\n",
       "      <td>00091a7a</td>\n",
       "      <td>1</td>\n",
       "    </tr>\n",
       "    <tr>\n",
       "      <th>3</th>\n",
       "      <td>000ba417</td>\n",
       "      <td>3</td>\n",
       "    </tr>\n",
       "    <tr>\n",
       "      <th>4</th>\n",
       "      <td>000c79fe</td>\n",
       "      <td>1</td>\n",
       "    </tr>\n",
       "  </tbody>\n",
       "</table>\n",
       "</div>"
      ],
      "text/plain": [
       "     person  dias_distintos_con_eventos\n",
       "0  0008ed71                           1\n",
       "1  00091926                          22\n",
       "2  00091a7a                           1\n",
       "3  000ba417                           3\n",
       "4  000c79fe                           1"
      ]
     },
     "execution_count": 31,
     "metadata": {},
     "output_type": "execute_result"
    }
   ],
   "source": [
    "dias_con_eventos_agg.head()"
   ]
  },
  {
   "cell_type": "code",
   "execution_count": 32,
   "metadata": {},
   "outputs": [
    {
     "data": {
      "text/plain": [
       "(38829, 2)"
      ]
     },
     "execution_count": 32,
     "metadata": {},
     "output_type": "execute_result"
    }
   ],
   "source": [
    "dias_con_eventos_agg.shape"
   ]
  },
  {
   "cell_type": "code",
   "execution_count": 33,
   "metadata": {},
   "outputs": [
    {
     "data": {
      "text/plain": [
       "dias_distintos_con_eventos    3.564887\n",
       "dtype: float64"
      ]
     },
     "execution_count": 33,
     "metadata": {},
     "output_type": "execute_result"
    }
   ],
   "source": [
    "dias_con_eventos_agg.mean()"
   ]
  },
  {
   "cell_type": "code",
   "execution_count": 74,
   "metadata": {
    "scrolled": true
   },
   "outputs": [
    {
     "data": {
      "image/png": "[encoded data removed]",
      "text/plain": [
       "<Figure size 432x432 with 1 Axes>"
      ]
     },
     "metadata": {},
     "output_type": "display_data"
    }
   ],
   "source": [
    "ddev = dias_con_eventos_agg.plot(kind='hist', figsize=(6,6), grid=True, fontsize=12, title= 'Dias distintos con eventos vs. Cantidad de personas').set_xlabel('Dias distintos con eventos', size=13)"
   ]
  },
  {
   "cell_type": "code",
   "execution_count": 35,
   "metadata": {},
   "outputs": [],
   "source": [
    "dias_con_eventos_agg.to_csv('dias_distintos_con_eventos_por_persona.csv', index=False)"
   ]
  },
  {
   "cell_type": "markdown",
   "metadata": {},
   "source": [
    "#### (C) Obtengo la cantidad de eventos totales por persona"
   ]
  },
  {
   "cell_type": "code",
   "execution_count": 36,
   "metadata": {},
   "outputs": [
    {
     "data": {
      "text/html": [
       "<div>\n",
       "<style scoped>\n",
       "    .dataframe tbody tr th:only-of-type {\n",
       "        vertical-align: middle;\n",
       "    }\n",
       "\n",
       "    .dataframe tbody tr th {\n",
       "        vertical-align: top;\n",
       "    }\n",
       "\n",
       "    .dataframe thead th {\n",
       "        text-align: right;\n",
       "    }\n",
       "</style>\n",
       "<table border=\"1\" class=\"dataframe\">\n",
       "  <thead>\n",
       "    <tr style=\"text-align: right;\">\n",
       "      <th></th>\n",
       "      <th>person</th>\n",
       "      <th>event</th>\n",
       "    </tr>\n",
       "  </thead>\n",
       "  <tbody>\n",
       "    <tr>\n",
       "      <th>0</th>\n",
       "      <td>4886f805</td>\n",
       "      <td>viewed product</td>\n",
       "    </tr>\n",
       "    <tr>\n",
       "      <th>1</th>\n",
       "      <td>ad93850f</td>\n",
       "      <td>viewed product</td>\n",
       "    </tr>\n",
       "    <tr>\n",
       "      <th>2</th>\n",
       "      <td>0297fc1e</td>\n",
       "      <td>viewed product</td>\n",
       "    </tr>\n",
       "    <tr>\n",
       "      <th>3</th>\n",
       "      <td>2d681dd8</td>\n",
       "      <td>viewed product</td>\n",
       "    </tr>\n",
       "    <tr>\n",
       "      <th>4</th>\n",
       "      <td>cccea85e</td>\n",
       "      <td>viewed product</td>\n",
       "    </tr>\n",
       "  </tbody>\n",
       "</table>\n",
       "</div>"
      ],
      "text/plain": [
       "     person           event\n",
       "0  4886f805  viewed product\n",
       "1  ad93850f  viewed product\n",
       "2  0297fc1e  viewed product\n",
       "3  2d681dd8  viewed product\n",
       "4  cccea85e  viewed product"
      ]
     },
     "execution_count": 36,
     "metadata": {},
     "output_type": "execute_result"
    }
   ],
   "source": [
    "actividad = eventos.loc[:, ['person', 'event']]\n",
    "actividad.head()"
   ]
  },
  {
   "cell_type": "code",
   "execution_count": 37,
   "metadata": {
    "scrolled": false
   },
   "outputs": [
    {
     "data": {
      "text/html": [
       "<div>\n",
       "<style scoped>\n",
       "    .dataframe tbody tr th:only-of-type {\n",
       "        vertical-align: middle;\n",
       "    }\n",
       "\n",
       "    .dataframe tbody tr th {\n",
       "        vertical-align: top;\n",
       "    }\n",
       "\n",
       "    .dataframe thead th {\n",
       "        text-align: right;\n",
       "    }\n",
       "</style>\n",
       "<table border=\"1\" class=\"dataframe\">\n",
       "  <thead>\n",
       "    <tr style=\"text-align: right;\">\n",
       "      <th></th>\n",
       "      <th>person</th>\n",
       "      <th>eventos_totales_generados</th>\n",
       "    </tr>\n",
       "  </thead>\n",
       "  <tbody>\n",
       "    <tr>\n",
       "      <th>0</th>\n",
       "      <td>0008ed71</td>\n",
       "      <td>6</td>\n",
       "    </tr>\n",
       "    <tr>\n",
       "      <th>1</th>\n",
       "      <td>00091926</td>\n",
       "      <td>448</td>\n",
       "    </tr>\n",
       "    <tr>\n",
       "      <th>2</th>\n",
       "      <td>00091a7a</td>\n",
       "      <td>10</td>\n",
       "    </tr>\n",
       "    <tr>\n",
       "      <th>3</th>\n",
       "      <td>000ba417</td>\n",
       "      <td>206</td>\n",
       "    </tr>\n",
       "    <tr>\n",
       "      <th>4</th>\n",
       "      <td>000c79fe</td>\n",
       "      <td>17</td>\n",
       "    </tr>\n",
       "  </tbody>\n",
       "</table>\n",
       "</div>"
      ],
      "text/plain": [
       "     person  eventos_totales_generados\n",
       "0  0008ed71                          6\n",
       "1  00091926                        448\n",
       "2  00091a7a                         10\n",
       "3  000ba417                        206\n",
       "4  000c79fe                         17"
      ]
     },
     "execution_count": 37,
     "metadata": {},
     "output_type": "execute_result"
    }
   ],
   "source": [
    "eventos_por_persona = actividad.groupby(['person']).count().reset_index()\n",
    "eventos_por_persona = eventos_por_persona.rename(columns={'event':'eventos_totales_generados'})\n",
    "eventos_por_persona.head()"
   ]
  },
  {
   "cell_type": "code",
   "execution_count": 75,
   "metadata": {},
   "outputs": [
    {
     "data": {
      "text/plain": [
       "Text(0.5,0,'Persona')"
      ]
     },
     "execution_count": 75,
     "metadata": {},
     "output_type": "execute_result"
    },
    {
     "data": {
      "image/png": "[encoded data removed]",
      "text/plain": [
       "<Figure size 1152x432 with 1 Axes>"
      ]
     },
     "metadata": {},
     "output_type": "display_data"
    }
   ],
   "source": [
    "eventos_por_persona.plot(kind='line', figsize=(16,6), grid=True, fontsize=12, title= 'Eventos totales generados por persona').set_xlabel('Persona', size=13)"
   ]
  },
  {
   "cell_type": "code",
   "execution_count": 39,
   "metadata": {},
   "outputs": [
    {
     "data": {
      "text/plain": [
       "eventos_totales_generados    60.307528\n",
       "dtype: float64"
      ]
     },
     "execution_count": 39,
     "metadata": {},
     "output_type": "execute_result"
    }
   ],
   "source": [
    "eventos_por_persona.mean()"
   ]
  },
  {
   "cell_type": "code",
   "execution_count": 40,
   "metadata": {},
   "outputs": [],
   "source": [
    "eventos_por_persona.to_csv('eventos_totales_por_persona.csv', index=False)"
   ]
  },
  {
   "cell_type": "markdown",
   "metadata": {},
   "source": [
    "### Approach 1"
   ]
  },
  {
   "cell_type": "markdown",
   "metadata": {},
   "source": [
    "El indicador de actividad de usuario approach 1 será generado de la siguiente manera:\n",
    "\n",
    "nivel_de_actividad_1 = ((A * B) / C)"
   ]
  },
  {
   "cell_type": "code",
   "execution_count": 41,
   "metadata": {},
   "outputs": [
    {
     "data": {
      "text/plain": [
       "(38829, 3)"
      ]
     },
     "execution_count": 41,
     "metadata": {},
     "output_type": "execute_result"
    }
   ],
   "source": [
    "actividad = pd.merge(left=dias_en_plataforma, right= dias_con_eventos_agg, on='person', how='inner')\n",
    "actividad.shape"
   ]
  },
  {
   "cell_type": "code",
   "execution_count": 42,
   "metadata": {
    "scrolled": true
   },
   "outputs": [
    {
     "data": {
      "text/html": [
       "<div>\n",
       "<style scoped>\n",
       "    .dataframe tbody tr th:only-of-type {\n",
       "        vertical-align: middle;\n",
       "    }\n",
       "\n",
       "    .dataframe tbody tr th {\n",
       "        vertical-align: top;\n",
       "    }\n",
       "\n",
       "    .dataframe thead th {\n",
       "        text-align: right;\n",
       "    }\n",
       "</style>\n",
       "<table border=\"1\" class=\"dataframe\">\n",
       "  <thead>\n",
       "    <tr style=\"text-align: right;\">\n",
       "      <th></th>\n",
       "      <th>person</th>\n",
       "      <th>dias_en_plataforma</th>\n",
       "      <th>dias_distintos_con_eventos</th>\n",
       "    </tr>\n",
       "  </thead>\n",
       "  <tbody>\n",
       "    <tr>\n",
       "      <th>0</th>\n",
       "      <td>0008ed71</td>\n",
       "      <td>0.167245</td>\n",
       "      <td>1</td>\n",
       "    </tr>\n",
       "    <tr>\n",
       "      <th>1</th>\n",
       "      <td>00091926</td>\n",
       "      <td>27.905255</td>\n",
       "      <td>22</td>\n",
       "    </tr>\n",
       "    <tr>\n",
       "      <th>2</th>\n",
       "      <td>00091a7a</td>\n",
       "      <td>0.004016</td>\n",
       "      <td>1</td>\n",
       "    </tr>\n",
       "    <tr>\n",
       "      <th>3</th>\n",
       "      <td>000ba417</td>\n",
       "      <td>9.081678</td>\n",
       "      <td>3</td>\n",
       "    </tr>\n",
       "    <tr>\n",
       "      <th>4</th>\n",
       "      <td>000c79fe</td>\n",
       "      <td>0.007176</td>\n",
       "      <td>1</td>\n",
       "    </tr>\n",
       "  </tbody>\n",
       "</table>\n",
       "</div>"
      ],
      "text/plain": [
       "     person  dias_en_plataforma  dias_distintos_con_eventos\n",
       "0  0008ed71            0.167245                           1\n",
       "1  00091926           27.905255                          22\n",
       "2  00091a7a            0.004016                           1\n",
       "3  000ba417            9.081678                           3\n",
       "4  000c79fe            0.007176                           1"
      ]
     },
     "execution_count": 42,
     "metadata": {},
     "output_type": "execute_result"
    }
   ],
   "source": [
    "actividad.head()"
   ]
  },
  {
   "cell_type": "markdown",
   "metadata": {},
   "source": [
    "Hago el merge de las 3 métricas anteriores"
   ]
  },
  {
   "cell_type": "code",
   "execution_count": 43,
   "metadata": {
    "scrolled": true
   },
   "outputs": [
    {
     "data": {
      "text/html": [
       "<div>\n",
       "<style scoped>\n",
       "    .dataframe tbody tr th:only-of-type {\n",
       "        vertical-align: middle;\n",
       "    }\n",
       "\n",
       "    .dataframe tbody tr th {\n",
       "        vertical-align: top;\n",
       "    }\n",
       "\n",
       "    .dataframe thead th {\n",
       "        text-align: right;\n",
       "    }\n",
       "</style>\n",
       "<table border=\"1\" class=\"dataframe\">\n",
       "  <thead>\n",
       "    <tr style=\"text-align: right;\">\n",
       "      <th></th>\n",
       "      <th>person</th>\n",
       "      <th>dias_en_plataforma</th>\n",
       "      <th>dias_distintos_con_eventos</th>\n",
       "      <th>eventos_totales_generados</th>\n",
       "    </tr>\n",
       "  </thead>\n",
       "  <tbody>\n",
       "    <tr>\n",
       "      <th>0</th>\n",
       "      <td>0008ed71</td>\n",
       "      <td>0.167245</td>\n",
       "      <td>1</td>\n",
       "      <td>6</td>\n",
       "    </tr>\n",
       "    <tr>\n",
       "      <th>1</th>\n",
       "      <td>00091926</td>\n",
       "      <td>27.905255</td>\n",
       "      <td>22</td>\n",
       "      <td>448</td>\n",
       "    </tr>\n",
       "    <tr>\n",
       "      <th>2</th>\n",
       "      <td>00091a7a</td>\n",
       "      <td>0.004016</td>\n",
       "      <td>1</td>\n",
       "      <td>10</td>\n",
       "    </tr>\n",
       "    <tr>\n",
       "      <th>3</th>\n",
       "      <td>000ba417</td>\n",
       "      <td>9.081678</td>\n",
       "      <td>3</td>\n",
       "      <td>206</td>\n",
       "    </tr>\n",
       "    <tr>\n",
       "      <th>4</th>\n",
       "      <td>000c79fe</td>\n",
       "      <td>0.007176</td>\n",
       "      <td>1</td>\n",
       "      <td>17</td>\n",
       "    </tr>\n",
       "  </tbody>\n",
       "</table>\n",
       "</div>"
      ],
      "text/plain": [
       "     person  dias_en_plataforma  dias_distintos_con_eventos  \\\n",
       "0  0008ed71            0.167245                           1   \n",
       "1  00091926           27.905255                          22   \n",
       "2  00091a7a            0.004016                           1   \n",
       "3  000ba417            9.081678                           3   \n",
       "4  000c79fe            0.007176                           1   \n",
       "\n",
       "   eventos_totales_generados  \n",
       "0                          6  \n",
       "1                        448  \n",
       "2                         10  \n",
       "3                        206  \n",
       "4                         17  "
      ]
     },
     "execution_count": 43,
     "metadata": {},
     "output_type": "execute_result"
    }
   ],
   "source": [
    "actividad = actividad.merge(eventos_por_persona, on='person', how='inner')\n",
    "actividad.head()"
   ]
  },
  {
   "cell_type": "markdown",
   "metadata": {},
   "source": [
    "Calculo nivel de actividad approach 1"
   ]
  },
  {
   "cell_type": "code",
   "execution_count": 44,
   "metadata": {},
   "outputs": [],
   "source": [
    "actividad['nivel_de_actividad_1'] = (actividad['eventos_totales_generados'] * actividad['dias_distintos_con_eventos']) / (actividad['dias_en_plataforma'] + 1)\n"
   ]
  },
  {
   "cell_type": "code",
   "execution_count": 77,
   "metadata": {},
   "outputs": [
    {
     "data": {
      "text/plain": [
       "Text(0.5,0,'Persona')"
      ]
     },
     "execution_count": 77,
     "metadata": {},
     "output_type": "execute_result"
    },
    {
     "data": {
      "image/png": "[encoded data removed]",
      "text/plain": [
       "<Figure size 1152x432 with 1 Axes>"
      ]
     },
     "metadata": {},
     "output_type": "display_data"
    }
   ],
   "source": [
    "actividad[['person','nivel_de_actividad_1']].plot(kind='line', figsize=(16,6), grid=True, fontsize=12, title= 'Nivel de actividad por persona').set_xlabel('Persona', size=13)"
   ]
  },
  {
   "cell_type": "code",
   "execution_count": 46,
   "metadata": {},
   "outputs": [
    {
     "data": {
      "text/plain": [
       "nivel_de_actividad_1    29.335364\n",
       "dtype: float64"
      ]
     },
     "execution_count": 46,
     "metadata": {},
     "output_type": "execute_result"
    }
   ],
   "source": [
    "actividad[['person','nivel_de_actividad_1']].mean()"
   ]
  },
  {
   "cell_type": "code",
   "execution_count": 47,
   "metadata": {},
   "outputs": [
    {
     "data": {
      "text/plain": [
       "<matplotlib.axes._subplots.AxesSubplot at 0x7fa2ad50bf60>"
      ]
     },
     "execution_count": 47,
     "metadata": {},
     "output_type": "execute_result"
    },
    {
     "data": {
      "image/png": "[encoded data removed]",
      "text/plain": [
       "<Figure size 432x288 with 1 Axes>"
      ]
     },
     "metadata": {},
     "output_type": "display_data"
    }
   ],
   "source": [
    "actividad[['person','nivel_de_actividad_1']].plot.density()"
   ]
  },
  {
   "cell_type": "markdown",
   "metadata": {},
   "source": [
    "### Approach 2"
   ]
  },
  {
   "cell_type": "markdown",
   "metadata": {},
   "source": [
    "El indicador de actividad de usuario approach 2 será generado de la siguiente manera:\n",
    "\n",
    "nivel_de_actividad_2 = ((A * B) / (C + B))"
   ]
  },
  {
   "cell_type": "code",
   "execution_count": 48,
   "metadata": {},
   "outputs": [],
   "source": [
    "actividad['nivel_de_actividad_2'] =  (actividad['eventos_totales_generados'] * actividad['dias_distintos_con_eventos']) / ((actividad['dias_en_plataforma'] + 1) + actividad['dias_distintos_con_eventos'])"
   ]
  },
  {
   "cell_type": "code",
   "execution_count": 49,
   "metadata": {
    "scrolled": true
   },
   "outputs": [
    {
     "data": {
      "text/html": [
       "<div>\n",
       "<style scoped>\n",
       "    .dataframe tbody tr th:only-of-type {\n",
       "        vertical-align: middle;\n",
       "    }\n",
       "\n",
       "    .dataframe tbody tr th {\n",
       "        vertical-align: top;\n",
       "    }\n",
       "\n",
       "    .dataframe thead th {\n",
       "        text-align: right;\n",
       "    }\n",
       "</style>\n",
       "<table border=\"1\" class=\"dataframe\">\n",
       "  <thead>\n",
       "    <tr style=\"text-align: right;\">\n",
       "      <th></th>\n",
       "      <th>person</th>\n",
       "      <th>dias_en_plataforma</th>\n",
       "      <th>dias_distintos_con_eventos</th>\n",
       "      <th>eventos_totales_generados</th>\n",
       "      <th>nivel_de_actividad_1</th>\n",
       "      <th>nivel_de_actividad_2</th>\n",
       "    </tr>\n",
       "  </thead>\n",
       "  <tbody>\n",
       "    <tr>\n",
       "      <th>0</th>\n",
       "      <td>0008ed71</td>\n",
       "      <td>0.167245</td>\n",
       "      <td>1</td>\n",
       "      <td>6</td>\n",
       "      <td>5.140307</td>\n",
       "      <td>2.768491</td>\n",
       "    </tr>\n",
       "    <tr>\n",
       "      <th>1</th>\n",
       "      <td>00091926</td>\n",
       "      <td>27.905255</td>\n",
       "      <td>22</td>\n",
       "      <td>448</td>\n",
       "      <td>340.976066</td>\n",
       "      <td>193.614590</td>\n",
       "    </tr>\n",
       "    <tr>\n",
       "      <th>2</th>\n",
       "      <td>00091a7a</td>\n",
       "      <td>0.004016</td>\n",
       "      <td>1</td>\n",
       "      <td>10</td>\n",
       "      <td>9.959999</td>\n",
       "      <td>4.989980</td>\n",
       "    </tr>\n",
       "    <tr>\n",
       "      <th>3</th>\n",
       "      <td>000ba417</td>\n",
       "      <td>9.081678</td>\n",
       "      <td>3</td>\n",
       "      <td>206</td>\n",
       "      <td>61.299318</td>\n",
       "      <td>47.241645</td>\n",
       "    </tr>\n",
       "    <tr>\n",
       "      <th>4</th>\n",
       "      <td>000c79fe</td>\n",
       "      <td>0.007176</td>\n",
       "      <td>1</td>\n",
       "      <td>17</td>\n",
       "      <td>16.878878</td>\n",
       "      <td>8.469611</td>\n",
       "    </tr>\n",
       "  </tbody>\n",
       "</table>\n",
       "</div>"
      ],
      "text/plain": [
       "     person  dias_en_plataforma  dias_distintos_con_eventos  \\\n",
       "0  0008ed71            0.167245                           1   \n",
       "1  00091926           27.905255                          22   \n",
       "2  00091a7a            0.004016                           1   \n",
       "3  000ba417            9.081678                           3   \n",
       "4  000c79fe            0.007176                           1   \n",
       "\n",
       "   eventos_totales_generados  nivel_de_actividad_1  nivel_de_actividad_2  \n",
       "0                          6              5.140307              2.768491  \n",
       "1                        448            340.976066            193.614590  \n",
       "2                         10              9.959999              4.989980  \n",
       "3                        206             61.299318             47.241645  \n",
       "4                         17             16.878878              8.469611  "
      ]
     },
     "execution_count": 49,
     "metadata": {},
     "output_type": "execute_result"
    }
   ],
   "source": [
    "actividad.head()"
   ]
  },
  {
   "cell_type": "code",
   "execution_count": 78,
   "metadata": {},
   "outputs": [
    {
     "data": {
      "text/plain": [
       "Text(0.5,0,'Persona')"
      ]
     },
     "execution_count": 78,
     "metadata": {},
     "output_type": "execute_result"
    },
    {
     "data": {
      "image/png": "[encoded data removed]",
      "text/plain": [
       "<Figure size 1152x432 with 1 Axes>"
      ]
     },
     "metadata": {},
     "output_type": "display_data"
    }
   ],
   "source": [
    "actividad[['person','nivel_de_actividad_2']].plot(kind='line', figsize=(16,6), grid=True, fontsize=12, title= 'Nivel de actividad por persona').set_xlabel('Persona', size=13)"
   ]
  },
  {
   "cell_type": "code",
   "execution_count": 51,
   "metadata": {},
   "outputs": [
    {
     "data": {
      "text/plain": [
       "nivel_de_actividad_2    17.806415\n",
       "dtype: float64"
      ]
     },
     "execution_count": 51,
     "metadata": {},
     "output_type": "execute_result"
    }
   ],
   "source": [
    "actividad[['person','nivel_de_actividad_2']].mean()"
   ]
  },
  {
   "cell_type": "code",
   "execution_count": 52,
   "metadata": {
    "scrolled": true
   },
   "outputs": [
    {
     "data": {
      "text/plain": [
       "<matplotlib.axes._subplots.AxesSubplot at 0x7fa2ad4a14e0>"
      ]
     },
     "execution_count": 52,
     "metadata": {},
     "output_type": "execute_result"
    },
    {
     "data": {
      "image/png": "[encoded data removed]",
      "text/plain": [
       "<Figure size 432x288 with 1 Axes>"
      ]
     },
     "metadata": {},
     "output_type": "display_data"
    }
   ],
   "source": [
    "actividad[['person','nivel_de_actividad_2']].plot.density()"
   ]
  },
  {
   "cell_type": "markdown",
   "metadata": {},
   "source": [
    "### Eleccion de approach y clasificación"
   ]
  },
  {
   "cell_type": "markdown",
   "metadata": {},
   "source": [
    "Elijo el approach 2 ya que mantiene la proporción del approach 1 que es el más intuitivo, pero reduce la escala."
   ]
  },
  {
   "cell_type": "code",
   "execution_count": 53,
   "metadata": {},
   "outputs": [
    {
     "data": {
      "text/html": [
       "<div>\n",
       "<style scoped>\n",
       "    .dataframe tbody tr th:only-of-type {\n",
       "        vertical-align: middle;\n",
       "    }\n",
       "\n",
       "    .dataframe tbody tr th {\n",
       "        vertical-align: top;\n",
       "    }\n",
       "\n",
       "    .dataframe thead th {\n",
       "        text-align: right;\n",
       "    }\n",
       "</style>\n",
       "<table border=\"1\" class=\"dataframe\">\n",
       "  <thead>\n",
       "    <tr style=\"text-align: right;\">\n",
       "      <th></th>\n",
       "      <th>person</th>\n",
       "      <th>nivel_de_actividad_2</th>\n",
       "    </tr>\n",
       "  </thead>\n",
       "  <tbody>\n",
       "    <tr>\n",
       "      <th>0</th>\n",
       "      <td>0008ed71</td>\n",
       "      <td>2.768491</td>\n",
       "    </tr>\n",
       "    <tr>\n",
       "      <th>1</th>\n",
       "      <td>00091926</td>\n",
       "      <td>193.614590</td>\n",
       "    </tr>\n",
       "    <tr>\n",
       "      <th>2</th>\n",
       "      <td>00091a7a</td>\n",
       "      <td>4.989980</td>\n",
       "    </tr>\n",
       "    <tr>\n",
       "      <th>3</th>\n",
       "      <td>000ba417</td>\n",
       "      <td>47.241645</td>\n",
       "    </tr>\n",
       "    <tr>\n",
       "      <th>4</th>\n",
       "      <td>000c79fe</td>\n",
       "      <td>8.469611</td>\n",
       "    </tr>\n",
       "  </tbody>\n",
       "</table>\n",
       "</div>"
      ],
      "text/plain": [
       "     person  nivel_de_actividad_2\n",
       "0  0008ed71              2.768491\n",
       "1  00091926            193.614590\n",
       "2  00091a7a              4.989980\n",
       "3  000ba417             47.241645\n",
       "4  000c79fe              8.469611"
      ]
     },
     "execution_count": 53,
     "metadata": {},
     "output_type": "execute_result"
    }
   ],
   "source": [
    "actividad_approach = actividad[['person', 'nivel_de_actividad_2']]\n",
    "actividad_approach.head()"
   ]
  },
  {
   "cell_type": "markdown",
   "metadata": {},
   "source": [
    "Criterio para clasificación:\n",
    "\n",
    "1. Muy Bajo: actividad (0, 5]\n",
    "2. Bajo:     actividad (5, 10]\n",
    "3. medio:    actividad (10, 20]\n",
    "4. alto:     actividad (20, 50]\n",
    "5. muy alto: actividad (50, +inf]"
   ]
  },
  {
   "cell_type": "code",
   "execution_count": 54,
   "metadata": {},
   "outputs": [],
   "source": [
    "actividad_aux = pd.cut(actividad_approach['nivel_de_actividad_2'].to_frame().stack(), [0, 5, 10, 20, 50, np.inf], labels=['Muy Bajo', 'Bajo', 'Medio', 'Alto', 'Muy Alto'])\n",
    "actividad_approach = actividad_approach.join(actividad_aux.unstack().add_suffix('_categoria'))"
   ]
  },
  {
   "cell_type": "code",
   "execution_count": 55,
   "metadata": {},
   "outputs": [
    {
     "data": {
      "text/html": [
       "<div>\n",
       "<style scoped>\n",
       "    .dataframe tbody tr th:only-of-type {\n",
       "        vertical-align: middle;\n",
       "    }\n",
       "\n",
       "    .dataframe tbody tr th {\n",
       "        vertical-align: top;\n",
       "    }\n",
       "\n",
       "    .dataframe thead th {\n",
       "        text-align: right;\n",
       "    }\n",
       "</style>\n",
       "<table border=\"1\" class=\"dataframe\">\n",
       "  <thead>\n",
       "    <tr style=\"text-align: right;\">\n",
       "      <th></th>\n",
       "      <th>person</th>\n",
       "      <th>nivel_de_actividad</th>\n",
       "    </tr>\n",
       "  </thead>\n",
       "  <tbody>\n",
       "    <tr>\n",
       "      <th>0</th>\n",
       "      <td>0008ed71</td>\n",
       "      <td>Muy Bajo</td>\n",
       "    </tr>\n",
       "    <tr>\n",
       "      <th>1</th>\n",
       "      <td>00091926</td>\n",
       "      <td>Muy Alto</td>\n",
       "    </tr>\n",
       "    <tr>\n",
       "      <th>2</th>\n",
       "      <td>00091a7a</td>\n",
       "      <td>Muy Bajo</td>\n",
       "    </tr>\n",
       "    <tr>\n",
       "      <th>3</th>\n",
       "      <td>000ba417</td>\n",
       "      <td>Alto</td>\n",
       "    </tr>\n",
       "    <tr>\n",
       "      <th>4</th>\n",
       "      <td>000c79fe</td>\n",
       "      <td>Bajo</td>\n",
       "    </tr>\n",
       "  </tbody>\n",
       "</table>\n",
       "</div>"
      ],
      "text/plain": [
       "     person nivel_de_actividad\n",
       "0  0008ed71           Muy Bajo\n",
       "1  00091926           Muy Alto\n",
       "2  00091a7a           Muy Bajo\n",
       "3  000ba417               Alto\n",
       "4  000c79fe               Bajo"
      ]
     },
     "execution_count": 55,
     "metadata": {},
     "output_type": "execute_result"
    }
   ],
   "source": [
    "actividad_approach = actividad_approach.rename(columns={'nivel_de_actividad_2_categoria':'nivel_de_actividad'})\n",
    "actividad_approach = actividad_approach.drop('nivel_de_actividad_2',axis=1)\n",
    "actividad_approach.head()"
   ]
  },
  {
   "cell_type": "code",
   "execution_count": 56,
   "metadata": {},
   "outputs": [
    {
     "data": {
      "text/plain": [
       "Muy Bajo    14547\n",
       "Bajo         8401\n",
       "Medio        7496\n",
       "Alto         5667\n",
       "Muy Alto     2718\n",
       "Name: nivel_de_actividad, dtype: int64"
      ]
     },
     "execution_count": 56,
     "metadata": {},
     "output_type": "execute_result"
    }
   ],
   "source": [
    "actividad_approach['nivel_de_actividad'].value_counts()"
   ]
  },
  {
   "cell_type": "code",
   "execution_count": 81,
   "metadata": {
    "scrolled": true
   },
   "outputs": [
    {
     "data": {
      "text/plain": [
       "Text(0.5,0,'Nivel de actividad')"
      ]
     },
     "execution_count": 81,
     "metadata": {},
     "output_type": "execute_result"
    },
    {
     "data": {
      "image/png": "[encoded data removed]",
      "text/plain": [
       "<Figure size 432x432 with 1 Axes>"
      ]
     },
     "metadata": {},
     "output_type": "display_data"
    }
   ],
   "source": [
    "actividad_approach.set_index('person')\n",
    "actividad_approach['nivel_de_actividad'].value_counts().plot.bar(title=\"Nivel de actividad vs. Cantidad de Usuarios\", grid=True, figsize=(6,6)).set_xlabel('Nivel de actividad', size=14)"
   ]
  },
  {
   "cell_type": "code",
   "execution_count": 58,
   "metadata": {},
   "outputs": [
    {
     "data": {
      "text/plain": [
       "(38829, 2)"
      ]
     },
     "execution_count": 58,
     "metadata": {},
     "output_type": "execute_result"
    }
   ],
   "source": [
    "actividad_approach.shape"
   ]
  },
  {
   "cell_type": "markdown",
   "metadata": {},
   "source": [
    "## Join de Features y exportación de CSV"
   ]
  },
  {
   "cell_type": "markdown",
   "metadata": {},
   "source": [
    "Para incorporar las marcas favoritas hago right join con actividad, pues hay algunos usuarios que no tienen marca favorita."
   ]
  },
  {
   "cell_type": "code",
   "execution_count": 59,
   "metadata": {},
   "outputs": [
    {
     "data": {
      "text/html": [
       "<div>\n",
       "<style scoped>\n",
       "    .dataframe tbody tr th:only-of-type {\n",
       "        vertical-align: middle;\n",
       "    }\n",
       "\n",
       "    .dataframe tbody tr th {\n",
       "        vertical-align: top;\n",
       "    }\n",
       "\n",
       "    .dataframe thead th {\n",
       "        text-align: right;\n",
       "    }\n",
       "</style>\n",
       "<table border=\"1\" class=\"dataframe\">\n",
       "  <thead>\n",
       "    <tr style=\"text-align: right;\">\n",
       "      <th></th>\n",
       "      <th>person</th>\n",
       "      <th>marca_favorita</th>\n",
       "      <th>nivel_de_actividad</th>\n",
       "    </tr>\n",
       "  </thead>\n",
       "  <tbody>\n",
       "    <tr>\n",
       "      <th>0</th>\n",
       "      <td>0008ed71</td>\n",
       "      <td>apple</td>\n",
       "      <td>Muy Bajo</td>\n",
       "    </tr>\n",
       "    <tr>\n",
       "      <th>1</th>\n",
       "      <td>00091926</td>\n",
       "      <td>apple</td>\n",
       "      <td>Muy Alto</td>\n",
       "    </tr>\n",
       "    <tr>\n",
       "      <th>2</th>\n",
       "      <td>00091a7a</td>\n",
       "      <td>apple</td>\n",
       "      <td>Muy Bajo</td>\n",
       "    </tr>\n",
       "    <tr>\n",
       "      <th>3</th>\n",
       "      <td>000ba417</td>\n",
       "      <td>samsung</td>\n",
       "      <td>Alto</td>\n",
       "    </tr>\n",
       "    <tr>\n",
       "      <th>4</th>\n",
       "      <td>000c79fe</td>\n",
       "      <td>apple</td>\n",
       "      <td>Bajo</td>\n",
       "    </tr>\n",
       "  </tbody>\n",
       "</table>\n",
       "</div>"
      ],
      "text/plain": [
       "     person marca_favorita nivel_de_actividad\n",
       "0  0008ed71          apple           Muy Bajo\n",
       "1  00091926          apple           Muy Alto\n",
       "2  00091a7a          apple           Muy Bajo\n",
       "3  000ba417        samsung               Alto\n",
       "4  000c79fe          apple               Bajo"
      ]
     },
     "execution_count": 59,
     "metadata": {},
     "output_type": "execute_result"
    }
   ],
   "source": [
    "features_gaby = pd.merge(left=marcas_favoritas, right=actividad_approach, on='person', how='right')\n",
    "features_gaby.head()"
   ]
  },
  {
   "cell_type": "code",
   "execution_count": 60,
   "metadata": {
    "scrolled": true
   },
   "outputs": [
    {
     "data": {
      "text/plain": [
       "(38829, 3)"
      ]
     },
     "execution_count": 60,
     "metadata": {},
     "output_type": "execute_result"
    }
   ],
   "source": [
    "features_gaby.shape"
   ]
  },
  {
   "cell_type": "markdown",
   "metadata": {},
   "source": [
    "Los que tienen marca favorita NULL son completados con 'no tiene'"
   ]
  },
  {
   "cell_type": "code",
   "execution_count": 61,
   "metadata": {},
   "outputs": [],
   "source": [
    "features_gaby['marca_favorita'] = features_gaby['marca_favorita'].fillna(value='no tiene')"
   ]
  },
  {
   "cell_type": "code",
   "execution_count": 62,
   "metadata": {},
   "outputs": [],
   "source": [
    "features_gaby.to_csv('features_gaby.csv', index=False)"
   ]
  },
  {
   "cell_type": "markdown",
   "metadata": {},
   "source": [
    "## Categorical Encoding"
   ]
  },
  {
   "cell_type": "markdown",
   "metadata": {},
   "source": [
    "Se utilizará One Hot Encoding para encodear los atributos categóricos"
   ]
  },
  {
   "cell_type": "code",
   "execution_count": 63,
   "metadata": {},
   "outputs": [
    {
     "data": {
      "text/html": [
       "<div>\n",
       "<style scoped>\n",
       "    .dataframe tbody tr th:only-of-type {\n",
       "        vertical-align: middle;\n",
       "    }\n",
       "\n",
       "    .dataframe tbody tr th {\n",
       "        vertical-align: top;\n",
       "    }\n",
       "\n",
       "    .dataframe thead th {\n",
       "        text-align: right;\n",
       "    }\n",
       "</style>\n",
       "<table border=\"1\" class=\"dataframe\">\n",
       "  <thead>\n",
       "    <tr style=\"text-align: right;\">\n",
       "      <th></th>\n",
       "      <th>person</th>\n",
       "      <th>marca_favorita</th>\n",
       "      <th>nivel_de_actividad</th>\n",
       "    </tr>\n",
       "  </thead>\n",
       "  <tbody>\n",
       "    <tr>\n",
       "      <th>0</th>\n",
       "      <td>0008ed71</td>\n",
       "      <td>apple</td>\n",
       "      <td>Muy Bajo</td>\n",
       "    </tr>\n",
       "    <tr>\n",
       "      <th>1</th>\n",
       "      <td>00091926</td>\n",
       "      <td>apple</td>\n",
       "      <td>Muy Alto</td>\n",
       "    </tr>\n",
       "    <tr>\n",
       "      <th>2</th>\n",
       "      <td>00091a7a</td>\n",
       "      <td>apple</td>\n",
       "      <td>Muy Bajo</td>\n",
       "    </tr>\n",
       "    <tr>\n",
       "      <th>3</th>\n",
       "      <td>000ba417</td>\n",
       "      <td>samsung</td>\n",
       "      <td>Alto</td>\n",
       "    </tr>\n",
       "    <tr>\n",
       "      <th>4</th>\n",
       "      <td>000c79fe</td>\n",
       "      <td>apple</td>\n",
       "      <td>Bajo</td>\n",
       "    </tr>\n",
       "  </tbody>\n",
       "</table>\n",
       "</div>"
      ],
      "text/plain": [
       "     person marca_favorita nivel_de_actividad\n",
       "0  0008ed71          apple           Muy Bajo\n",
       "1  00091926          apple           Muy Alto\n",
       "2  00091a7a          apple           Muy Bajo\n",
       "3  000ba417        samsung               Alto\n",
       "4  000c79fe          apple               Bajo"
      ]
     },
     "execution_count": 63,
     "metadata": {},
     "output_type": "execute_result"
    }
   ],
   "source": [
    "features_gaby.head()"
   ]
  },
  {
   "cell_type": "code",
   "execution_count": 64,
   "metadata": {},
   "outputs": [
    {
     "data": {
      "text/plain": [
       "apple       16613\n",
       "samsung     16410\n",
       "motorola     4406\n",
       "no tiene      573\n",
       "lg            434\n",
       "sony          192\n",
       "lenovo        158\n",
       "asus           32\n",
       "quantum        11\n",
       "Name: marca_favorita, dtype: int64"
      ]
     },
     "execution_count": 64,
     "metadata": {},
     "output_type": "execute_result"
    }
   ],
   "source": [
    "features_gaby['marca_favorita'].value_counts()"
   ]
  },
  {
   "cell_type": "code",
   "execution_count": 65,
   "metadata": {},
   "outputs": [
    {
     "data": {
      "text/plain": [
       "Muy Bajo    14547\n",
       "Bajo         8401\n",
       "Medio        7496\n",
       "Alto         5667\n",
       "Muy Alto     2718\n",
       "Name: nivel_de_actividad, dtype: int64"
      ]
     },
     "execution_count": 65,
     "metadata": {},
     "output_type": "execute_result"
    }
   ],
   "source": [
    "features_gaby['nivel_de_actividad'].value_counts()"
   ]
  },
  {
   "cell_type": "code",
   "execution_count": 66,
   "metadata": {},
   "outputs": [],
   "source": [
    "features_gaby_encoded = pd.get_dummies(features_gaby, columns=['marca_favorita', 'nivel_de_actividad'])"
   ]
  },
  {
   "cell_type": "code",
   "execution_count": 67,
   "metadata": {},
   "outputs": [],
   "source": [
    "features_gaby_encoded.to_csv('features_gaby.csv', index=False)"
   ]
  }
 ],
 "metadata": {
  "kernelspec": {
   "display_name": "Python 3",
   "language": "python",
   "name": "python3"
  },
  "language_info": {
   "codemirror_mode": {
    "name": "ipython",
    "version": 3
   },
   "file_extension": ".py",
   "mimetype": "text/x-python",
   "name": "python",
   "nbconvert_exporter": "python",
   "pygments_lexer": "ipython3",
   "version": "3.6.5"
  }
 },
 "nbformat": 4,
 "nbformat_minor": 2
}
