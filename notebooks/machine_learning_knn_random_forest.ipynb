{
 "cells": [
  {
   "cell_type": "code",
   "execution_count": 507,
   "metadata": {},
   "outputs": [],
   "source": [
    "# loading libraries\n",
    "import pandas as pd\n",
    "import numpy as np\n",
    "import matplotlib.pyplot as plt\n",
    "import seaborn as sns\n",
    "import warnings\n",
    "warnings.filterwarnings('ignore')\n",
    "\n",
    "import xgboost as xgb\n",
    "\n",
    "from sklearn.ensemble import (RandomForestClassifier, AdaBoostClassifier,\\\n",
    "                             GradientBoostingClassifier, ExtraTreesClassifier,\\\n",
    "                             BaggingClassifier, VotingClassifier)\n",
    "\n",
    "from sklearn.neighbors import KNeighborsClassifier\n",
    "from sklearn.svm import SVC\n",
    "from sklearn.linear_model import LogisticRegression\n",
    "from sklearn.linear_model import Perceptron\n",
    "from sklearn.naive_bayes import GaussianNB\n",
    "from sklearn.tree import DecisionTreeClassifier\n",
    "from sklearn.cross_validation import KFold\n",
    "\n",
    "from sklearn.model_selection import train_test_split\n",
    "from sklearn.model_selection import cross_val_score\n",
    "from sklearn.metrics import accuracy_score\n",
    "\n",
    "from time import time"
   ]
  },
  {
   "cell_type": "markdown",
   "metadata": {},
   "source": [
    "### Entre cada uno de los integrantes del grupo fuimos obteniendo distintos features que nos parecieron interesantes y que consideramos que podrian servir para las predicciones.\n",
    "\n",
    "#### Leemos los distintos CSVs que contienen los features\n"
   ]
  },
  {
   "cell_type": "code",
   "execution_count": 508,
   "metadata": {},
   "outputs": [],
   "source": [
    "features_gaby = pd.read_csv('../features/features_gaby.csv')\n",
    "features_gonza = pd.read_csv('../features/features_gonza.csv').drop(columns='Unnamed: 0')\n",
    "features_ari = pd.read_csv('../features/features_ariel.csv')\n",
    "features_mati = pd.read_csv('../features/features_frecuencia.csv')\n",
    "labels_training_set = pd.read_csv('~/Escritorio/dataset/labels_training_set.csv')\n",
    "test_set = pd.read_csv('~/Escritorio/dataset/trocafone_kaggle_test.csv')\n",
    "features_gonza2 = pd.read_csv('../features/features_gonza2.csv')"
   ]
  },
  {
   "cell_type": "markdown",
   "metadata": {},
   "source": [
    "## Mergeamos todos los features en un solo dataframe de la forma <persona, feature1, feature2,...,...>"
   ]
  },
  {
   "cell_type": "code",
   "execution_count": 509,
   "metadata": {
    "scrolled": true
   },
   "outputs": [
    {
     "data": {
      "text/html": [
       "<div>\n",
       "<style scoped>\n",
       "    .dataframe tbody tr th:only-of-type {\n",
       "        vertical-align: middle;\n",
       "    }\n",
       "\n",
       "    .dataframe tbody tr th {\n",
       "        vertical-align: top;\n",
       "    }\n",
       "\n",
       "    .dataframe thead th {\n",
       "        text-align: right;\n",
       "    }\n",
       "</style>\n",
       "<table border=\"1\" class=\"dataframe\">\n",
       "  <thead>\n",
       "    <tr style=\"text-align: right;\">\n",
       "      <th></th>\n",
       "      <th>person</th>\n",
       "      <th>marca_favorita_apple</th>\n",
       "      <th>marca_favorita_asus</th>\n",
       "      <th>marca_favorita_lenovo</th>\n",
       "      <th>marca_favorita_lg</th>\n",
       "      <th>marca_favorita_motorola</th>\n",
       "      <th>marca_favorita_no tiene</th>\n",
       "      <th>marca_favorita_quantum</th>\n",
       "      <th>marca_favorita_samsung</th>\n",
       "      <th>marca_favorita_sony</th>\n",
       "      <th>...</th>\n",
       "      <th>visited site</th>\n",
       "      <th>completa_flujo</th>\n",
       "      <th>favorite_device_Computer</th>\n",
       "      <th>favorite_device_Smartphone</th>\n",
       "      <th>favorite_device_Tablet</th>\n",
       "      <th>favorite_device_Unknown</th>\n",
       "      <th>Frecuencia_Casi_nunca</th>\n",
       "      <th>Frecuencia_Esporadico</th>\n",
       "      <th>Frecuencia_Frecuente</th>\n",
       "      <th>Frecuencia_Nunca</th>\n",
       "    </tr>\n",
       "  </thead>\n",
       "  <tbody>\n",
       "    <tr>\n",
       "      <th>0</th>\n",
       "      <td>0008ed71</td>\n",
       "      <td>1</td>\n",
       "      <td>0</td>\n",
       "      <td>0</td>\n",
       "      <td>0</td>\n",
       "      <td>0</td>\n",
       "      <td>0</td>\n",
       "      <td>0</td>\n",
       "      <td>0</td>\n",
       "      <td>0</td>\n",
       "      <td>...</td>\n",
       "      <td>2.0</td>\n",
       "      <td>False</td>\n",
       "      <td>1</td>\n",
       "      <td>0</td>\n",
       "      <td>0</td>\n",
       "      <td>0</td>\n",
       "      <td>0</td>\n",
       "      <td>0</td>\n",
       "      <td>0</td>\n",
       "      <td>1</td>\n",
       "    </tr>\n",
       "    <tr>\n",
       "      <th>1</th>\n",
       "      <td>00091926</td>\n",
       "      <td>1</td>\n",
       "      <td>0</td>\n",
       "      <td>0</td>\n",
       "      <td>0</td>\n",
       "      <td>0</td>\n",
       "      <td>0</td>\n",
       "      <td>0</td>\n",
       "      <td>0</td>\n",
       "      <td>0</td>\n",
       "      <td>...</td>\n",
       "      <td>34.0</td>\n",
       "      <td>False</td>\n",
       "      <td>1</td>\n",
       "      <td>0</td>\n",
       "      <td>0</td>\n",
       "      <td>0</td>\n",
       "      <td>0</td>\n",
       "      <td>0</td>\n",
       "      <td>0</td>\n",
       "      <td>1</td>\n",
       "    </tr>\n",
       "    <tr>\n",
       "      <th>2</th>\n",
       "      <td>00091a7a</td>\n",
       "      <td>1</td>\n",
       "      <td>0</td>\n",
       "      <td>0</td>\n",
       "      <td>0</td>\n",
       "      <td>0</td>\n",
       "      <td>0</td>\n",
       "      <td>0</td>\n",
       "      <td>0</td>\n",
       "      <td>0</td>\n",
       "      <td>...</td>\n",
       "      <td>1.0</td>\n",
       "      <td>False</td>\n",
       "      <td>0</td>\n",
       "      <td>1</td>\n",
       "      <td>0</td>\n",
       "      <td>0</td>\n",
       "      <td>0</td>\n",
       "      <td>0</td>\n",
       "      <td>0</td>\n",
       "      <td>1</td>\n",
       "    </tr>\n",
       "    <tr>\n",
       "      <th>3</th>\n",
       "      <td>000ba417</td>\n",
       "      <td>0</td>\n",
       "      <td>0</td>\n",
       "      <td>0</td>\n",
       "      <td>0</td>\n",
       "      <td>0</td>\n",
       "      <td>0</td>\n",
       "      <td>0</td>\n",
       "      <td>1</td>\n",
       "      <td>0</td>\n",
       "      <td>...</td>\n",
       "      <td>6.0</td>\n",
       "      <td>False</td>\n",
       "      <td>1</td>\n",
       "      <td>0</td>\n",
       "      <td>0</td>\n",
       "      <td>0</td>\n",
       "      <td>1</td>\n",
       "      <td>0</td>\n",
       "      <td>0</td>\n",
       "      <td>0</td>\n",
       "    </tr>\n",
       "    <tr>\n",
       "      <th>4</th>\n",
       "      <td>000c79fe</td>\n",
       "      <td>1</td>\n",
       "      <td>0</td>\n",
       "      <td>0</td>\n",
       "      <td>0</td>\n",
       "      <td>0</td>\n",
       "      <td>0</td>\n",
       "      <td>0</td>\n",
       "      <td>0</td>\n",
       "      <td>0</td>\n",
       "      <td>...</td>\n",
       "      <td>1.0</td>\n",
       "      <td>False</td>\n",
       "      <td>0</td>\n",
       "      <td>1</td>\n",
       "      <td>0</td>\n",
       "      <td>0</td>\n",
       "      <td>0</td>\n",
       "      <td>0</td>\n",
       "      <td>0</td>\n",
       "      <td>1</td>\n",
       "    </tr>\n",
       "  </tbody>\n",
       "</table>\n",
       "<p>5 rows × 68 columns</p>\n",
       "</div>"
      ],
      "text/plain": [
       "     person  marca_favorita_apple  marca_favorita_asus  marca_favorita_lenovo  \\\n",
       "0  0008ed71                     1                    0                      0   \n",
       "1  00091926                     1                    0                      0   \n",
       "2  00091a7a                     1                    0                      0   \n",
       "3  000ba417                     0                    0                      0   \n",
       "4  000c79fe                     1                    0                      0   \n",
       "\n",
       "   marca_favorita_lg  marca_favorita_motorola  marca_favorita_no tiene  \\\n",
       "0                  0                        0                        0   \n",
       "1                  0                        0                        0   \n",
       "2                  0                        0                        0   \n",
       "3                  0                        0                        0   \n",
       "4                  0                        0                        0   \n",
       "\n",
       "   marca_favorita_quantum  marca_favorita_samsung  marca_favorita_sony  \\\n",
       "0                       0                       0                    0   \n",
       "1                       0                       0                    0   \n",
       "2                       0                       0                    0   \n",
       "3                       0                       1                    0   \n",
       "4                       0                       0                    0   \n",
       "\n",
       "         ...         visited site  completa_flujo  favorite_device_Computer  \\\n",
       "0        ...                  2.0           False                         1   \n",
       "1        ...                 34.0           False                         1   \n",
       "2        ...                  1.0           False                         0   \n",
       "3        ...                  6.0           False                         1   \n",
       "4        ...                  1.0           False                         0   \n",
       "\n",
       "   favorite_device_Smartphone  favorite_device_Tablet  \\\n",
       "0                           0                       0   \n",
       "1                           0                       0   \n",
       "2                           1                       0   \n",
       "3                           0                       0   \n",
       "4                           1                       0   \n",
       "\n",
       "   favorite_device_Unknown  Frecuencia_Casi_nunca  Frecuencia_Esporadico  \\\n",
       "0                        0                      0                      0   \n",
       "1                        0                      0                      0   \n",
       "2                        0                      0                      0   \n",
       "3                        0                      1                      0   \n",
       "4                        0                      0                      0   \n",
       "\n",
       "   Frecuencia_Frecuente  Frecuencia_Nunca  \n",
       "0                     0                 1  \n",
       "1                     0                 1  \n",
       "2                     0                 1  \n",
       "3                     0                 0  \n",
       "4                     0                 1  \n",
       "\n",
       "[5 rows x 68 columns]"
      ]
     },
     "execution_count": 509,
     "metadata": {},
     "output_type": "execute_result"
    }
   ],
   "source": [
    "#model_df = pd.merge(features_gaby, features_gonza, how='inner', on='person')\n",
    "model_df = pd.merge(features_gaby, features_ari, how='inner', on='person')\n",
    "model_df = pd.merge(model_df, features_gonza, how='inner', on='person')\n",
    "model_df = pd.merge(model_df, features_gonza2, how='inner', on='person')\n",
    "model_df = pd.merge(model_df, features_mati, how='inner', on='person')\n",
    "model_df.head()"
   ]
  },
  {
   "cell_type": "code",
   "execution_count": 510,
   "metadata": {},
   "outputs": [],
   "source": [
    "model_df.fillna(value=0, inplace=True)"
   ]
  },
  {
   "cell_type": "markdown",
   "metadata": {},
   "source": [
    "## Al dataframe de las personas con sus features le agregamos los labels para saber si cada persona o no realizo una compra.\n",
    "\n",
    "## Tambien tenemos un dataframe de test, el cual contiene todas las personas que queremos predecir y sus features ( queremos predecir sus labels)"
   ]
  },
  {
   "cell_type": "code",
   "execution_count": 511,
   "metadata": {},
   "outputs": [],
   "source": [
    "training_set = pd.merge(model_df, labels_training_set, how='inner', on='person')\n",
    "test_set = pd.merge(model_df, test_set, how='inner', on='person')\n",
    "#training_set.drop(columns= 'Unnamed: 0', inplace=True)"
   ]
  },
  {
   "cell_type": "markdown",
   "metadata": {},
   "source": [
    "## Como se puede observar en nuestro set de entrenamiento predomina el label 0, la mayoria de las personas no realizo una conversion, esto debemos balancearlo."
   ]
  },
  {
   "cell_type": "code",
   "execution_count": 512,
   "metadata": {
    "scrolled": false
   },
   "outputs": [
    {
     "data": {
      "text/plain": [
       "0    18434\n",
       "1      980\n",
       "Name: label, dtype: int64"
      ]
     },
     "execution_count": 512,
     "metadata": {},
     "output_type": "execute_result"
    }
   ],
   "source": [
    "training_set['label'].value_counts()"
   ]
  },
  {
   "cell_type": "markdown",
   "metadata": {},
   "source": [
    "## Elimino 17500 filas que contienen el label 0 para balancear el set de entrenamiento.\n",
    "\n",
    "# <font color='red'> Preguntar de cual es la mejor manera de hacer esto</font>"
   ]
  },
  {
   "cell_type": "code",
   "execution_count": 513,
   "metadata": {},
   "outputs": [],
   "source": [
    "#training_set.sort_values(by='month_moda', ascending=True, inplace=True)\n",
    "#r_training_set = training_set.drop(training_set[training_set.label.eq(0)].head(17500).index)"
   ]
  },
  {
   "cell_type": "code",
   "execution_count": 514,
   "metadata": {
    "scrolled": true
   },
   "outputs": [
    {
     "data": {
      "text/plain": [
       "1    980\n",
       "0    980\n",
       "Name: label, dtype: int64"
      ]
     },
     "execution_count": 514,
     "metadata": {},
     "output_type": "execute_result"
    }
   ],
   "source": [
    "r_training_set = training_set.drop(training_set[training_set.label.eq(0)].sample(17454).index)\n",
    "r_training_set['label'].value_counts()"
   ]
  },
  {
   "cell_type": "code",
   "execution_count": 515,
   "metadata": {
    "scrolled": true
   },
   "outputs": [
    {
     "data": {
      "text/plain": [
       "5    1556\n",
       "4     185\n",
       "3     122\n",
       "2      51\n",
       "1      46\n",
       "Name: month_moda, dtype: int64"
      ]
     },
     "execution_count": 515,
     "metadata": {},
     "output_type": "execute_result"
    }
   ],
   "source": [
    "r_training_set.month_moda.value_counts()"
   ]
  },
  {
   "cell_type": "code",
   "execution_count": 516,
   "metadata": {},
   "outputs": [
    {
     "data": {
      "text/plain": [
       "5    17242\n",
       "4     1044\n",
       "3      643\n",
       "2      274\n",
       "1      211\n",
       "Name: month_moda, dtype: int64"
      ]
     },
     "execution_count": 516,
     "metadata": {},
     "output_type": "execute_result"
    }
   ],
   "source": [
    "training_set['month_moda'].value_counts()"
   ]
  },
  {
   "cell_type": "code",
   "execution_count": 517,
   "metadata": {
    "scrolled": true
   },
   "outputs": [
    {
     "name": "stdout",
     "output_type": "stream",
     "text": [
      "<class 'pandas.core.frame.DataFrame'>\n",
      "Int64Index: 1960 entries, 10 to 19397\n",
      "Data columns (total 69 columns):\n",
      "person                                   1960 non-null object\n",
      "marca_favorita_apple                     1960 non-null int64\n",
      "marca_favorita_asus                      1960 non-null int64\n",
      "marca_favorita_lenovo                    1960 non-null int64\n",
      "marca_favorita_lg                        1960 non-null int64\n",
      "marca_favorita_motorola                  1960 non-null int64\n",
      "marca_favorita_no tiene                  1960 non-null int64\n",
      "marca_favorita_quantum                   1960 non-null int64\n",
      "marca_favorita_samsung                   1960 non-null int64\n",
      "marca_favorita_sony                      1960 non-null int64\n",
      "nivel_de_actividad_Muy Bajo              1960 non-null int64\n",
      "nivel_de_actividad_Bajo                  1960 non-null int64\n",
      "nivel_de_actividad_Medio                 1960 non-null int64\n",
      "nivel_de_actividad_Alto                  1960 non-null int64\n",
      "nivel_de_actividad_Muy Alto              1960 non-null int64\n",
      "Unnamed: 0_x                             1960 non-null int64\n",
      "cant_accesos_north                       1960 non-null int64\n",
      "cant_accesos_center_west                 1960 non-null int64\n",
      "cant_accesos_southeast                   1960 non-null int64\n",
      "cant_accesos_south                       1960 non-null int64\n",
      "cant_accesos_northeast                   1960 non-null int64\n",
      "time_first_event                         1960 non-null object\n",
      "time_last_event                          1960 non-null object\n",
      "how_long_ago_was_first_event             1960 non-null object\n",
      "how_long_ago_was_last_event              1960 non-null object\n",
      "first_and_last_event_distance            1960 non-null object\n",
      "cant_total_eventos                       1960 non-null int64\n",
      "first_and_last_event_distance_in_days    1960 non-null int64\n",
      "mean_events_per_day                      1960 non-null float64\n",
      "cant_ev_madrugada                        1960 non-null int64\n",
      "cant_ev_tarde                            1960 non-null int64\n",
      "cant_ev_manana                           1960 non-null int64\n",
      "cant_ev_noche                            1960 non-null int64\n",
      "franja_horaria_moda                      1960 non-null object\n",
      "cant_muy_buenos                          1960 non-null int64\n",
      "cant_excelentes                          1960 non-null int64\n",
      "cant_nuevos                              1960 non-null int64\n",
      "cant_buenos                              1960 non-null int64\n",
      "condicion_de_producto_moda               1960 non-null object\n",
      "has_converted_before                     1960 non-null float64\n",
      "most_viewed_sku                          1960 non-null float64\n",
      "most_viewed_color_Preto                  1960 non-null int64\n",
      "most_viewed_color_Branco                 1960 non-null int64\n",
      "most_viewed_color_Dourado                1960 non-null int64\n",
      "region_brasil_Sao Paulo                  1960 non-null int64\n",
      "region_brasil_Unknown                    1960 non-null int64\n",
      "region_brasil_Minas Gerais               1960 non-null int64\n",
      "Unnamed: 0_y                             1960 non-null int64\n",
      "cantidad_checkouts                       1960 non-null float64\n",
      "cantidad_conversions                     1960 non-null float64\n",
      "tasa_cc                                  1960 non-null float64\n",
      "cantidad_lead                            1960 non-null float64\n",
      "month_moda                               1960 non-null int64\n",
      "brand listing                            1960 non-null float64\n",
      "checkout                                 1960 non-null float64\n",
      "generic listing                          1960 non-null float64\n",
      "searched products                        1960 non-null float64\n",
      "viewed product                           1960 non-null float64\n",
      "visited site                             1960 non-null float64\n",
      "completa_flujo                           1960 non-null object\n",
      "favorite_device_Computer                 1960 non-null int64\n",
      "favorite_device_Smartphone               1960 non-null int64\n",
      "favorite_device_Tablet                   1960 non-null int64\n",
      "favorite_device_Unknown                  1960 non-null int64\n",
      "Frecuencia_Casi_nunca                    1960 non-null int64\n",
      "Frecuencia_Esporadico                    1960 non-null int64\n",
      "Frecuencia_Frecuente                     1960 non-null int64\n",
      "Frecuencia_Nunca                         1960 non-null int64\n",
      "label                                    1960 non-null int64\n",
      "dtypes: float64(13), int64(47), object(9)\n",
      "memory usage: 1.0+ MB\n"
     ]
    }
   ],
   "source": [
    "r_training_set.info()"
   ]
  },
  {
   "cell_type": "markdown",
   "metadata": {},
   "source": [
    "## En el siguiente array incluimos los features que mas aportan para las predicciones"
   ]
  },
  {
   "cell_type": "code",
   "execution_count": 518,
   "metadata": {},
   "outputs": [],
   "source": [
    "features = ['cant_total_eventos', #f1\n",
    "            #'marca_favorita_apple',#f2\n",
    "            'mean_events_per_day',#f3\n",
    "           # 'has_converted_before',#f4\n",
    "            'most_viewed_sku',#f5\n",
    "            #'most_viewed_color_Preto',#f6\n",
    "            #'most_viewed_color_Branco',#f7\n",
    "            #'most_viewed_color_Dourado', #f8\n",
    "            #'region_brasil_Sao Paulo',#f9\n",
    "            #'region_brasil_Unknown',#f10\n",
    "            #'region_brasil_Minas Gerais',#f11\n",
    "            #'marca_favorita_samsung',#f12\n",
    "            'cant_ev_noche',#f13\n",
    "            'cant_ev_manana',#f14\n",
    "            'cant_ev_tarde',#f15\n",
    "            'cant_ev_madrugada',#f16\n",
    "            'cant_buenos',#f17\n",
    "            'cant_muy_buenos',#f18\n",
    "            'cant_excelentes',#f19\n",
    "            #'nivel_de_actividad_Muy Bajo',#f20\n",
    "            #'nivel_de_actividad_Muy Alto',#f21\n",
    "            #'nivel_de_actividad_Bajo',#f22\n",
    "            #'nivel_de_actividad_Medio',#f23\n",
    "            #'nivel_de_actividad_Alto',#f24\n",
    "            #'favorite_device_Smartphone',#f25\n",
    "            'favorite_device_Computer',#f26\n",
    "            'cantidad_checkouts',#f27\n",
    "            'cantidad_conversions',#f28\n",
    "            #'tasa_cc',\n",
    "            #'cantidad_lead',\n",
    "            #'cantidad_searchs',\n",
    "            'month_moda',\n",
    "            \"Frecuencia_Casi_nunca\",\n",
    "            \"Frecuencia_Esporadico\",\n",
    "            \"Frecuencia_Frecuente\",\n",
    "            \"Frecuencia_Nunca\"\n",
    "           ]"
   ]
  },
  {
   "cell_type": "markdown",
   "metadata": {},
   "source": [
    "## Creo dos arrays el llamado X es generado a partir de mi dataframe de entrenamiento y los features que quiero tener en cuenta\n",
    "## Y el segundo Y es generado a partir de sus labels"
   ]
  },
  {
   "cell_type": "code",
   "execution_count": 519,
   "metadata": {},
   "outputs": [],
   "source": [
    "x = np.array(r_training_set[features])\n",
    "y = np.array(r_training_set['label'])"
   ]
  },
  {
   "cell_type": "markdown",
   "metadata": {},
   "source": [
    "## Usamos train_test_split para dividir el dataframe de entrenamiento en uno de test y otro de entrenamiento"
   ]
  },
  {
   "cell_type": "code",
   "execution_count": 520,
   "metadata": {
    "scrolled": true
   },
   "outputs": [],
   "source": [
    "X_train, X_test, y_train, y_test = train_test_split(x,y, test_size=0.10, random_state=0)"
   ]
  },
  {
   "cell_type": "markdown",
   "metadata": {},
   "source": [
    "## El primer algoritmo que utilizamos es KNN\n",
    "\n",
    "### En el siguiente loop iremos probando KNN con distintos Ks y nos quedaremos con la que obtuvimos mayor accuracy."
   ]
  },
  {
   "cell_type": "code",
   "execution_count": 521,
   "metadata": {},
   "outputs": [],
   "source": [
    "best_accuracy = 0\n",
    "worst_accuracy = 1\n",
    "best_k = 1\n",
    "worst_k = 0\n",
    "best_prediction = []\n",
    "#acumulated_acuracy = 0\n",
    "#loop_count = 0;\n",
    "\n",
    "for i in range(1,203,2):\n",
    "    knn = KNeighborsClassifier(n_neighbors=i)\n",
    "    knn.fit(X_train, y_train)\n",
    "    pred = (knn.predict_proba(X_test)[:,1])\n",
    "    accuracy = accuracy_score(y_test,pred.round(), normalize=False)\n",
    "    if (accuracy > best_accuracy) :\n",
    "        best_k = i\n",
    "        best_accuracy = accuracy\n",
    "        best_prediction = pred\n",
    "    if (accuracy < worst_accuracy) : \n",
    "        worst_accuracy = accuracy\n",
    "        worst_k = i\n",
    "    #loop_count += 1\n",
    "    #acumulated_acuracy += accuracy\n",
    "    #X_train, X_test, y_train, y_test = train_test_split(x,y, test_size=0.10)\n",
    "        "
   ]
  },
  {
   "cell_type": "code",
   "execution_count": 522,
   "metadata": {
    "scrolled": true
   },
   "outputs": [
    {
     "name": "stdout",
     "output_type": "stream",
     "text": [
      "Best accuracy: 0.6428571428571429 with k=5\n",
      "Worst accuracy: 0.00510204081632653 with k= 0\n"
     ]
    }
   ],
   "source": [
    "print ('Best accuracy: ' + str(best_accuracy / float(best_prediction.size)) + ' with k='  + str(best_k))\n",
    "print ('Worst accuracy: ' + str(worst_accuracy / float(best_prediction.size)) + ' with k= ' + str(worst_k))\n",
    "#print \"Median accuracy \" + str(acumulated_acuracy / (float(loop_count) * float(best_prediction.size)))"
   ]
  },
  {
   "cell_type": "markdown",
   "metadata": {},
   "source": [
    "## Finalmente corremos KNN con el mejor K obtenido en el entrenamiento y el set que queremos predecir"
   ]
  },
  {
   "cell_type": "code",
   "execution_count": 523,
   "metadata": {},
   "outputs": [],
   "source": [
    "z = np.array(test_set[features])\n",
    "knn = KNeighborsClassifier(n_neighbors=best_k)\n",
    "knn.fit(x,y)\n",
    "pred = knn.predict_proba(z)[:,1]"
   ]
  },
  {
   "cell_type": "markdown",
   "metadata": {},
   "source": [
    "## Le agregamos las predicciones a los IDs de las personas y lo guardamos en un archivo.\n"
   ]
  },
  {
   "cell_type": "code",
   "execution_count": 524,
   "metadata": {
    "scrolled": true
   },
   "outputs": [],
   "source": [
    "persons = test_set['person']\n",
    "submit = pd.DataFrame({'label': pred, 'person': persons})\n",
    "submit = submit[['person', 'label']]\n",
    "submit.to_csv('../submits/knn.csv', index=False)"
   ]
  },
  {
   "cell_type": "markdown",
   "metadata": {},
   "source": [
    "## Revisamos la cantidad de conversiones y no conversiones predichas\n",
    "\n",
    "### Se tienen que repartir en un 50/50"
   ]
  },
  {
   "cell_type": "code",
   "execution_count": 525,
   "metadata": {
    "scrolled": true
   },
   "outputs": [
    {
     "name": "stdout",
     "output_type": "stream",
     "text": [
      "Cantidad de no conversiones: 11241\n",
      "Cantidad de conversiones: 8174\n"
     ]
    }
   ],
   "source": [
    "no_conversiones = submit.loc[submit['label'] < 0.5]['label'].count()\n",
    "print ('Cantidad de no conversiones: ' + str(no_conversiones))\n",
    "\n",
    "conversiones = submit.loc[submit['label'] >= 0.5]['label'].count()\n",
    "print ('Cantidad de conversiones: ' + str(conversiones))"
   ]
  },
  {
   "cell_type": "markdown",
   "metadata": {},
   "source": [
    "## XGBoost"
   ]
  },
  {
   "cell_type": "markdown",
   "metadata": {},
   "source": [
    "### En los siguientes arrays, ponemos los posibles hiperparametros que concideramos que mejor funcionarian para las predicciones.\n",
    "\n",
    "### Con grid search probamos todas las combinaciones posibles y nos quedamos con la que mayor accuracy nos dio."
   ]
  },
  {
   "cell_type": "code",
   "execution_count": 526,
   "metadata": {},
   "outputs": [],
   "source": [
    "#n_estimators = [100, 200, 1500, 2000]\n",
    "#max_depth = [2, 4, 6, 8]\n",
    "#learning_rate = [0.0001, 0.001, 0.01]\n",
    "#subsample = [0.3, 0.5, 0.7]\n",
    "#gamma = [0.6, 0.7]\n",
    "#colsample_bytree = [0.5, 0.7]\n",
    "min_child_leaf = []\n",
    "max_depth = [3, 4, 5, 6, 7, 8, 9, 10]\n",
    "\n",
    "#param_grid = dict(max_depth=max_depth, n_estimators=n_estimators,\n",
    "#                 learning_rate=learning_rate, subsample=subsample,\n",
    "#                 gamma=gamma)\n"
   ]
  },
  {
   "cell_type": "code",
   "execution_count": 527,
   "metadata": {
    "scrolled": true
   },
   "outputs": [],
   "source": [
    "#xgboost = xgb.XGBClassifier()\n",
    "#kfold = StratifiedKFold(n_splits = 2, shuffle=True, random_state=7)\n",
    "#grid_search = GridSearch(xgboost, param_grid, scoring=\"neg_log_loss\", n_jobs = 1, cv=kfold, verbose=1)\n",
    "#result = grid_search.fit(x,y)"
   ]
  },
  {
   "cell_type": "code",
   "execution_count": 528,
   "metadata": {},
   "outputs": [],
   "source": [
    "#pred = (xgboost.predict_proba(z)[:,1])"
   ]
  },
  {
   "cell_type": "code",
   "execution_count": 529,
   "metadata": {},
   "outputs": [],
   "source": [
    "#pred"
   ]
  },
  {
   "cell_type": "code",
   "execution_count": 530,
   "metadata": {},
   "outputs": [],
   "source": [
    "#print(\"Best: %f using %s\" % (result.best_score_, result.best_params_))"
   ]
  },
  {
   "cell_type": "code",
   "execution_count": 531,
   "metadata": {},
   "outputs": [],
   "source": [
    "#means = result.cv_results_['mean_test_score']\n",
    "#stds = result.cv_results_['std_test_score']\n",
    "#params = result.cv_results_['params']\n",
    "#for mean, stdev, param in zip(means, stds, params):\n",
    "#\tprint(\"%f (%f) with: %r\" % (mean, stdev, param))"
   ]
  },
  {
   "cell_type": "markdown",
   "metadata": {},
   "source": [
    "### Corremos XGBoost para el set de entrenamiento y medimos su precision"
   ]
  },
  {
   "cell_type": "code",
   "execution_count": 532,
   "metadata": {
    "scrolled": true
   },
   "outputs": [
    {
     "name": "stdout",
     "output_type": "stream",
     "text": [
      "Accuracy:  0.8163265306122449\n"
     ]
    }
   ],
   "source": [
    "xgboost = xgb.XGBClassifier(learning_rate = 0.001,\\\n",
    "                            n_estimators= 2000,\\\n",
    "                            max_depth= 10,\\\n",
    "                            min_child_weight= 2,\\\n",
    "                            gamma=0.7,\\\n",
    "                            subsample=0.7,\\\n",
    "                            colsample_bytree=0.7,\\\n",
    "                            objective= 'binary:logistic',\\\n",
    "                            scale_pos_weight=1\n",
    "                           )\n",
    "\n",
    "xgboost.fit(X_train, y_train)\n",
    "pred = (xgboost.predict_proba(X_test)[:,1])\n",
    "accuracy = accuracy_score(y_test, pred.round(), normalize=False)\n",
    "\n",
    "print(\"Accuracy: \", accuracy / float(pred.size))"
   ]
  },
  {
   "cell_type": "code",
   "execution_count": 533,
   "metadata": {},
   "outputs": [],
   "source": [
    "x_test_df = pd.DataFrame(data=X_test, columns=features)\n",
    "x_test_df['index'] = x_test_df.index\n",
    "x_label_pred = pd.DataFrame({'label': y_test, 'pred': pred})\n",
    "x_label_pred['index'] = x_label_pred.index"
   ]
  },
  {
   "cell_type": "code",
   "execution_count": 534,
   "metadata": {},
   "outputs": [],
   "source": [
    "merged = pd.merge(x_test_df, x_label_pred, how='inner', on='index')\n",
    "bad_pred = merged.loc[(merged['label'] == 0) & (merged['pred'] >= 0.5)]"
   ]
  },
  {
   "cell_type": "code",
   "execution_count": 535,
   "metadata": {},
   "outputs": [
    {
     "data": {
      "text/html": [
       "<div>\n",
       "<style scoped>\n",
       "    .dataframe tbody tr th:only-of-type {\n",
       "        vertical-align: middle;\n",
       "    }\n",
       "\n",
       "    .dataframe tbody tr th {\n",
       "        vertical-align: top;\n",
       "    }\n",
       "\n",
       "    .dataframe thead th {\n",
       "        text-align: right;\n",
       "    }\n",
       "</style>\n",
       "<table border=\"1\" class=\"dataframe\">\n",
       "  <thead>\n",
       "    <tr style=\"text-align: right;\">\n",
       "      <th></th>\n",
       "      <th>cant_total_eventos</th>\n",
       "      <th>mean_events_per_day</th>\n",
       "      <th>most_viewed_sku</th>\n",
       "      <th>cant_ev_noche</th>\n",
       "      <th>cant_ev_manana</th>\n",
       "      <th>cant_ev_tarde</th>\n",
       "      <th>cant_ev_madrugada</th>\n",
       "      <th>cant_buenos</th>\n",
       "      <th>cant_muy_buenos</th>\n",
       "      <th>cant_excelentes</th>\n",
       "      <th>...</th>\n",
       "      <th>cantidad_checkouts</th>\n",
       "      <th>cantidad_conversions</th>\n",
       "      <th>month_moda</th>\n",
       "      <th>Frecuencia_Casi_nunca</th>\n",
       "      <th>Frecuencia_Esporadico</th>\n",
       "      <th>Frecuencia_Frecuente</th>\n",
       "      <th>Frecuencia_Nunca</th>\n",
       "      <th>index</th>\n",
       "      <th>label</th>\n",
       "      <th>pred</th>\n",
       "    </tr>\n",
       "  </thead>\n",
       "  <tbody>\n",
       "    <tr>\n",
       "      <th>2</th>\n",
       "      <td>144.0</td>\n",
       "      <td>2.149254</td>\n",
       "      <td>6874.0</td>\n",
       "      <td>41.0</td>\n",
       "      <td>30.0</td>\n",
       "      <td>27.0</td>\n",
       "      <td>46.0</td>\n",
       "      <td>30.0</td>\n",
       "      <td>23.0</td>\n",
       "      <td>7.0</td>\n",
       "      <td>...</td>\n",
       "      <td>3.0</td>\n",
       "      <td>1.0</td>\n",
       "      <td>2.0</td>\n",
       "      <td>0.0</td>\n",
       "      <td>1.0</td>\n",
       "      <td>0.0</td>\n",
       "      <td>0.0</td>\n",
       "      <td>2</td>\n",
       "      <td>0</td>\n",
       "      <td>0.797049</td>\n",
       "    </tr>\n",
       "    <tr>\n",
       "      <th>6</th>\n",
       "      <td>15.0</td>\n",
       "      <td>15.000000</td>\n",
       "      <td>6023.0</td>\n",
       "      <td>5.0</td>\n",
       "      <td>0.0</td>\n",
       "      <td>10.0</td>\n",
       "      <td>0.0</td>\n",
       "      <td>4.0</td>\n",
       "      <td>0.0</td>\n",
       "      <td>1.0</td>\n",
       "      <td>...</td>\n",
       "      <td>0.0</td>\n",
       "      <td>0.0</td>\n",
       "      <td>5.0</td>\n",
       "      <td>0.0</td>\n",
       "      <td>0.0</td>\n",
       "      <td>0.0</td>\n",
       "      <td>1.0</td>\n",
       "      <td>6</td>\n",
       "      <td>0</td>\n",
       "      <td>0.630259</td>\n",
       "    </tr>\n",
       "    <tr>\n",
       "      <th>7</th>\n",
       "      <td>7.0</td>\n",
       "      <td>0.125000</td>\n",
       "      <td>3180.0</td>\n",
       "      <td>7.0</td>\n",
       "      <td>0.0</td>\n",
       "      <td>0.0</td>\n",
       "      <td>0.0</td>\n",
       "      <td>0.0</td>\n",
       "      <td>1.0</td>\n",
       "      <td>0.0</td>\n",
       "      <td>...</td>\n",
       "      <td>0.0</td>\n",
       "      <td>0.0</td>\n",
       "      <td>2.0</td>\n",
       "      <td>0.0</td>\n",
       "      <td>0.0</td>\n",
       "      <td>0.0</td>\n",
       "      <td>1.0</td>\n",
       "      <td>7</td>\n",
       "      <td>0</td>\n",
       "      <td>0.764442</td>\n",
       "    </tr>\n",
       "    <tr>\n",
       "      <th>8</th>\n",
       "      <td>9.0</td>\n",
       "      <td>9.000000</td>\n",
       "      <td>6343.0</td>\n",
       "      <td>9.0</td>\n",
       "      <td>0.0</td>\n",
       "      <td>0.0</td>\n",
       "      <td>0.0</td>\n",
       "      <td>2.0</td>\n",
       "      <td>0.0</td>\n",
       "      <td>0.0</td>\n",
       "      <td>...</td>\n",
       "      <td>0.0</td>\n",
       "      <td>0.0</td>\n",
       "      <td>5.0</td>\n",
       "      <td>0.0</td>\n",
       "      <td>0.0</td>\n",
       "      <td>0.0</td>\n",
       "      <td>1.0</td>\n",
       "      <td>8</td>\n",
       "      <td>0</td>\n",
       "      <td>0.590103</td>\n",
       "    </tr>\n",
       "    <tr>\n",
       "      <th>13</th>\n",
       "      <td>19.0</td>\n",
       "      <td>3.166667</td>\n",
       "      <td>6889.0</td>\n",
       "      <td>0.0</td>\n",
       "      <td>12.0</td>\n",
       "      <td>2.0</td>\n",
       "      <td>5.0</td>\n",
       "      <td>4.0</td>\n",
       "      <td>2.0</td>\n",
       "      <td>0.0</td>\n",
       "      <td>...</td>\n",
       "      <td>0.0</td>\n",
       "      <td>0.0</td>\n",
       "      <td>5.0</td>\n",
       "      <td>0.0</td>\n",
       "      <td>0.0</td>\n",
       "      <td>0.0</td>\n",
       "      <td>1.0</td>\n",
       "      <td>13</td>\n",
       "      <td>0</td>\n",
       "      <td>0.647146</td>\n",
       "    </tr>\n",
       "    <tr>\n",
       "      <th>19</th>\n",
       "      <td>26.0</td>\n",
       "      <td>26.000000</td>\n",
       "      <td>2692.0</td>\n",
       "      <td>26.0</td>\n",
       "      <td>0.0</td>\n",
       "      <td>0.0</td>\n",
       "      <td>0.0</td>\n",
       "      <td>11.0</td>\n",
       "      <td>0.0</td>\n",
       "      <td>0.0</td>\n",
       "      <td>...</td>\n",
       "      <td>0.0</td>\n",
       "      <td>0.0</td>\n",
       "      <td>5.0</td>\n",
       "      <td>0.0</td>\n",
       "      <td>0.0</td>\n",
       "      <td>0.0</td>\n",
       "      <td>1.0</td>\n",
       "      <td>19</td>\n",
       "      <td>0</td>\n",
       "      <td>0.745725</td>\n",
       "    </tr>\n",
       "    <tr>\n",
       "      <th>20</th>\n",
       "      <td>94.0</td>\n",
       "      <td>9.400000</td>\n",
       "      <td>10462.0</td>\n",
       "      <td>24.0</td>\n",
       "      <td>1.0</td>\n",
       "      <td>58.0</td>\n",
       "      <td>11.0</td>\n",
       "      <td>20.0</td>\n",
       "      <td>3.0</td>\n",
       "      <td>6.0</td>\n",
       "      <td>...</td>\n",
       "      <td>1.0</td>\n",
       "      <td>1.0</td>\n",
       "      <td>5.0</td>\n",
       "      <td>0.0</td>\n",
       "      <td>0.0</td>\n",
       "      <td>1.0</td>\n",
       "      <td>0.0</td>\n",
       "      <td>20</td>\n",
       "      <td>0</td>\n",
       "      <td>0.567265</td>\n",
       "    </tr>\n",
       "    <tr>\n",
       "      <th>23</th>\n",
       "      <td>162.0</td>\n",
       "      <td>2.945455</td>\n",
       "      <td>8483.0</td>\n",
       "      <td>0.0</td>\n",
       "      <td>0.0</td>\n",
       "      <td>162.0</td>\n",
       "      <td>0.0</td>\n",
       "      <td>40.0</td>\n",
       "      <td>49.0</td>\n",
       "      <td>43.0</td>\n",
       "      <td>...</td>\n",
       "      <td>0.0</td>\n",
       "      <td>0.0</td>\n",
       "      <td>4.0</td>\n",
       "      <td>0.0</td>\n",
       "      <td>0.0</td>\n",
       "      <td>0.0</td>\n",
       "      <td>1.0</td>\n",
       "      <td>23</td>\n",
       "      <td>0</td>\n",
       "      <td>0.778723</td>\n",
       "    </tr>\n",
       "    <tr>\n",
       "      <th>58</th>\n",
       "      <td>41.0</td>\n",
       "      <td>41.000000</td>\n",
       "      <td>12758.0</td>\n",
       "      <td>0.0</td>\n",
       "      <td>0.0</td>\n",
       "      <td>38.0</td>\n",
       "      <td>3.0</td>\n",
       "      <td>6.0</td>\n",
       "      <td>2.0</td>\n",
       "      <td>0.0</td>\n",
       "      <td>...</td>\n",
       "      <td>0.0</td>\n",
       "      <td>0.0</td>\n",
       "      <td>5.0</td>\n",
       "      <td>0.0</td>\n",
       "      <td>0.0</td>\n",
       "      <td>0.0</td>\n",
       "      <td>1.0</td>\n",
       "      <td>58</td>\n",
       "      <td>0</td>\n",
       "      <td>0.599829</td>\n",
       "    </tr>\n",
       "    <tr>\n",
       "      <th>59</th>\n",
       "      <td>73.0</td>\n",
       "      <td>12.166667</td>\n",
       "      <td>10086.0</td>\n",
       "      <td>0.0</td>\n",
       "      <td>0.0</td>\n",
       "      <td>73.0</td>\n",
       "      <td>0.0</td>\n",
       "      <td>12.0</td>\n",
       "      <td>14.0</td>\n",
       "      <td>38.0</td>\n",
       "      <td>...</td>\n",
       "      <td>0.0</td>\n",
       "      <td>0.0</td>\n",
       "      <td>5.0</td>\n",
       "      <td>0.0</td>\n",
       "      <td>0.0</td>\n",
       "      <td>0.0</td>\n",
       "      <td>1.0</td>\n",
       "      <td>59</td>\n",
       "      <td>0</td>\n",
       "      <td>0.763277</td>\n",
       "    </tr>\n",
       "    <tr>\n",
       "      <th>66</th>\n",
       "      <td>13.0</td>\n",
       "      <td>13.000000</td>\n",
       "      <td>10085.0</td>\n",
       "      <td>0.0</td>\n",
       "      <td>4.0</td>\n",
       "      <td>9.0</td>\n",
       "      <td>0.0</td>\n",
       "      <td>1.0</td>\n",
       "      <td>3.0</td>\n",
       "      <td>2.0</td>\n",
       "      <td>...</td>\n",
       "      <td>0.0</td>\n",
       "      <td>0.0</td>\n",
       "      <td>5.0</td>\n",
       "      <td>0.0</td>\n",
       "      <td>0.0</td>\n",
       "      <td>0.0</td>\n",
       "      <td>1.0</td>\n",
       "      <td>66</td>\n",
       "      <td>0</td>\n",
       "      <td>0.681032</td>\n",
       "    </tr>\n",
       "    <tr>\n",
       "      <th>80</th>\n",
       "      <td>159.0</td>\n",
       "      <td>79.500000</td>\n",
       "      <td>2941.0</td>\n",
       "      <td>0.0</td>\n",
       "      <td>0.0</td>\n",
       "      <td>0.0</td>\n",
       "      <td>159.0</td>\n",
       "      <td>65.0</td>\n",
       "      <td>29.0</td>\n",
       "      <td>41.0</td>\n",
       "      <td>...</td>\n",
       "      <td>5.0</td>\n",
       "      <td>0.0</td>\n",
       "      <td>5.0</td>\n",
       "      <td>0.0</td>\n",
       "      <td>0.0</td>\n",
       "      <td>0.0</td>\n",
       "      <td>1.0</td>\n",
       "      <td>80</td>\n",
       "      <td>0</td>\n",
       "      <td>0.500148</td>\n",
       "    </tr>\n",
       "    <tr>\n",
       "      <th>94</th>\n",
       "      <td>4.0</td>\n",
       "      <td>4.000000</td>\n",
       "      <td>2777.0</td>\n",
       "      <td>4.0</td>\n",
       "      <td>0.0</td>\n",
       "      <td>0.0</td>\n",
       "      <td>0.0</td>\n",
       "      <td>1.0</td>\n",
       "      <td>0.0</td>\n",
       "      <td>0.0</td>\n",
       "      <td>...</td>\n",
       "      <td>0.0</td>\n",
       "      <td>0.0</td>\n",
       "      <td>3.0</td>\n",
       "      <td>0.0</td>\n",
       "      <td>0.0</td>\n",
       "      <td>0.0</td>\n",
       "      <td>1.0</td>\n",
       "      <td>94</td>\n",
       "      <td>0</td>\n",
       "      <td>0.749475</td>\n",
       "    </tr>\n",
       "    <tr>\n",
       "      <th>112</th>\n",
       "      <td>92.0</td>\n",
       "      <td>92.000000</td>\n",
       "      <td>9272.0</td>\n",
       "      <td>0.0</td>\n",
       "      <td>4.0</td>\n",
       "      <td>7.0</td>\n",
       "      <td>81.0</td>\n",
       "      <td>43.0</td>\n",
       "      <td>6.0</td>\n",
       "      <td>4.0</td>\n",
       "      <td>...</td>\n",
       "      <td>6.0</td>\n",
       "      <td>1.0</td>\n",
       "      <td>5.0</td>\n",
       "      <td>1.0</td>\n",
       "      <td>0.0</td>\n",
       "      <td>0.0</td>\n",
       "      <td>0.0</td>\n",
       "      <td>112</td>\n",
       "      <td>0</td>\n",
       "      <td>0.563990</td>\n",
       "    </tr>\n",
       "    <tr>\n",
       "      <th>113</th>\n",
       "      <td>103.0</td>\n",
       "      <td>11.444444</td>\n",
       "      <td>2711.0</td>\n",
       "      <td>54.0</td>\n",
       "      <td>7.0</td>\n",
       "      <td>6.0</td>\n",
       "      <td>36.0</td>\n",
       "      <td>58.0</td>\n",
       "      <td>4.0</td>\n",
       "      <td>3.0</td>\n",
       "      <td>...</td>\n",
       "      <td>4.0</td>\n",
       "      <td>0.0</td>\n",
       "      <td>5.0</td>\n",
       "      <td>0.0</td>\n",
       "      <td>0.0</td>\n",
       "      <td>0.0</td>\n",
       "      <td>1.0</td>\n",
       "      <td>113</td>\n",
       "      <td>0</td>\n",
       "      <td>0.548166</td>\n",
       "    </tr>\n",
       "    <tr>\n",
       "      <th>158</th>\n",
       "      <td>122.0</td>\n",
       "      <td>11.090909</td>\n",
       "      <td>6371.0</td>\n",
       "      <td>13.0</td>\n",
       "      <td>0.0</td>\n",
       "      <td>109.0</td>\n",
       "      <td>0.0</td>\n",
       "      <td>34.0</td>\n",
       "      <td>46.0</td>\n",
       "      <td>13.0</td>\n",
       "      <td>...</td>\n",
       "      <td>3.0</td>\n",
       "      <td>0.0</td>\n",
       "      <td>5.0</td>\n",
       "      <td>0.0</td>\n",
       "      <td>0.0</td>\n",
       "      <td>0.0</td>\n",
       "      <td>1.0</td>\n",
       "      <td>158</td>\n",
       "      <td>0</td>\n",
       "      <td>0.565959</td>\n",
       "    </tr>\n",
       "    <tr>\n",
       "      <th>167</th>\n",
       "      <td>16.0</td>\n",
       "      <td>5.333333</td>\n",
       "      <td>15340.0</td>\n",
       "      <td>6.0</td>\n",
       "      <td>0.0</td>\n",
       "      <td>0.0</td>\n",
       "      <td>10.0</td>\n",
       "      <td>2.0</td>\n",
       "      <td>0.0</td>\n",
       "      <td>6.0</td>\n",
       "      <td>...</td>\n",
       "      <td>0.0</td>\n",
       "      <td>0.0</td>\n",
       "      <td>5.0</td>\n",
       "      <td>0.0</td>\n",
       "      <td>0.0</td>\n",
       "      <td>0.0</td>\n",
       "      <td>1.0</td>\n",
       "      <td>167</td>\n",
       "      <td>0</td>\n",
       "      <td>0.536766</td>\n",
       "    </tr>\n",
       "    <tr>\n",
       "      <th>174</th>\n",
       "      <td>7.0</td>\n",
       "      <td>7.000000</td>\n",
       "      <td>3203.0</td>\n",
       "      <td>7.0</td>\n",
       "      <td>0.0</td>\n",
       "      <td>0.0</td>\n",
       "      <td>0.0</td>\n",
       "      <td>3.0</td>\n",
       "      <td>1.0</td>\n",
       "      <td>0.0</td>\n",
       "      <td>...</td>\n",
       "      <td>0.0</td>\n",
       "      <td>0.0</td>\n",
       "      <td>5.0</td>\n",
       "      <td>0.0</td>\n",
       "      <td>0.0</td>\n",
       "      <td>0.0</td>\n",
       "      <td>1.0</td>\n",
       "      <td>174</td>\n",
       "      <td>0</td>\n",
       "      <td>0.628150</td>\n",
       "    </tr>\n",
       "    <tr>\n",
       "      <th>178</th>\n",
       "      <td>164.0</td>\n",
       "      <td>14.909091</td>\n",
       "      <td>6873.0</td>\n",
       "      <td>51.0</td>\n",
       "      <td>0.0</td>\n",
       "      <td>53.0</td>\n",
       "      <td>60.0</td>\n",
       "      <td>16.0</td>\n",
       "      <td>16.0</td>\n",
       "      <td>109.0</td>\n",
       "      <td>...</td>\n",
       "      <td>8.0</td>\n",
       "      <td>0.0</td>\n",
       "      <td>5.0</td>\n",
       "      <td>0.0</td>\n",
       "      <td>0.0</td>\n",
       "      <td>0.0</td>\n",
       "      <td>1.0</td>\n",
       "      <td>178</td>\n",
       "      <td>0</td>\n",
       "      <td>0.624976</td>\n",
       "    </tr>\n",
       "    <tr>\n",
       "      <th>186</th>\n",
       "      <td>45.0</td>\n",
       "      <td>0.725806</td>\n",
       "      <td>283.0</td>\n",
       "      <td>14.0</td>\n",
       "      <td>2.0</td>\n",
       "      <td>4.0</td>\n",
       "      <td>25.0</td>\n",
       "      <td>2.0</td>\n",
       "      <td>10.0</td>\n",
       "      <td>1.0</td>\n",
       "      <td>...</td>\n",
       "      <td>2.0</td>\n",
       "      <td>1.0</td>\n",
       "      <td>5.0</td>\n",
       "      <td>0.0</td>\n",
       "      <td>1.0</td>\n",
       "      <td>0.0</td>\n",
       "      <td>0.0</td>\n",
       "      <td>186</td>\n",
       "      <td>0</td>\n",
       "      <td>0.516353</td>\n",
       "    </tr>\n",
       "  </tbody>\n",
       "</table>\n",
       "<p>20 rows × 21 columns</p>\n",
       "</div>"
      ],
      "text/plain": [
       "     cant_total_eventos  mean_events_per_day  most_viewed_sku  cant_ev_noche  \\\n",
       "2                 144.0             2.149254           6874.0           41.0   \n",
       "6                  15.0            15.000000           6023.0            5.0   \n",
       "7                   7.0             0.125000           3180.0            7.0   \n",
       "8                   9.0             9.000000           6343.0            9.0   \n",
       "13                 19.0             3.166667           6889.0            0.0   \n",
       "19                 26.0            26.000000           2692.0           26.0   \n",
       "20                 94.0             9.400000          10462.0           24.0   \n",
       "23                162.0             2.945455           8483.0            0.0   \n",
       "58                 41.0            41.000000          12758.0            0.0   \n",
       "59                 73.0            12.166667          10086.0            0.0   \n",
       "66                 13.0            13.000000          10085.0            0.0   \n",
       "80                159.0            79.500000           2941.0            0.0   \n",
       "94                  4.0             4.000000           2777.0            4.0   \n",
       "112                92.0            92.000000           9272.0            0.0   \n",
       "113               103.0            11.444444           2711.0           54.0   \n",
       "158               122.0            11.090909           6371.0           13.0   \n",
       "167                16.0             5.333333          15340.0            6.0   \n",
       "174                 7.0             7.000000           3203.0            7.0   \n",
       "178               164.0            14.909091           6873.0           51.0   \n",
       "186                45.0             0.725806            283.0           14.0   \n",
       "\n",
       "     cant_ev_manana  cant_ev_tarde  cant_ev_madrugada  cant_buenos  \\\n",
       "2              30.0           27.0               46.0         30.0   \n",
       "6               0.0           10.0                0.0          4.0   \n",
       "7               0.0            0.0                0.0          0.0   \n",
       "8               0.0            0.0                0.0          2.0   \n",
       "13             12.0            2.0                5.0          4.0   \n",
       "19              0.0            0.0                0.0         11.0   \n",
       "20              1.0           58.0               11.0         20.0   \n",
       "23              0.0          162.0                0.0         40.0   \n",
       "58              0.0           38.0                3.0          6.0   \n",
       "59              0.0           73.0                0.0         12.0   \n",
       "66              4.0            9.0                0.0          1.0   \n",
       "80              0.0            0.0              159.0         65.0   \n",
       "94              0.0            0.0                0.0          1.0   \n",
       "112             4.0            7.0               81.0         43.0   \n",
       "113             7.0            6.0               36.0         58.0   \n",
       "158             0.0          109.0                0.0         34.0   \n",
       "167             0.0            0.0               10.0          2.0   \n",
       "174             0.0            0.0                0.0          3.0   \n",
       "178             0.0           53.0               60.0         16.0   \n",
       "186             2.0            4.0               25.0          2.0   \n",
       "\n",
       "     cant_muy_buenos  cant_excelentes    ...     cantidad_checkouts  \\\n",
       "2               23.0              7.0    ...                    3.0   \n",
       "6                0.0              1.0    ...                    0.0   \n",
       "7                1.0              0.0    ...                    0.0   \n",
       "8                0.0              0.0    ...                    0.0   \n",
       "13               2.0              0.0    ...                    0.0   \n",
       "19               0.0              0.0    ...                    0.0   \n",
       "20               3.0              6.0    ...                    1.0   \n",
       "23              49.0             43.0    ...                    0.0   \n",
       "58               2.0              0.0    ...                    0.0   \n",
       "59              14.0             38.0    ...                    0.0   \n",
       "66               3.0              2.0    ...                    0.0   \n",
       "80              29.0             41.0    ...                    5.0   \n",
       "94               0.0              0.0    ...                    0.0   \n",
       "112              6.0              4.0    ...                    6.0   \n",
       "113              4.0              3.0    ...                    4.0   \n",
       "158             46.0             13.0    ...                    3.0   \n",
       "167              0.0              6.0    ...                    0.0   \n",
       "174              1.0              0.0    ...                    0.0   \n",
       "178             16.0            109.0    ...                    8.0   \n",
       "186             10.0              1.0    ...                    2.0   \n",
       "\n",
       "     cantidad_conversions  month_moda  Frecuencia_Casi_nunca  \\\n",
       "2                     1.0         2.0                    0.0   \n",
       "6                     0.0         5.0                    0.0   \n",
       "7                     0.0         2.0                    0.0   \n",
       "8                     0.0         5.0                    0.0   \n",
       "13                    0.0         5.0                    0.0   \n",
       "19                    0.0         5.0                    0.0   \n",
       "20                    1.0         5.0                    0.0   \n",
       "23                    0.0         4.0                    0.0   \n",
       "58                    0.0         5.0                    0.0   \n",
       "59                    0.0         5.0                    0.0   \n",
       "66                    0.0         5.0                    0.0   \n",
       "80                    0.0         5.0                    0.0   \n",
       "94                    0.0         3.0                    0.0   \n",
       "112                   1.0         5.0                    1.0   \n",
       "113                   0.0         5.0                    0.0   \n",
       "158                   0.0         5.0                    0.0   \n",
       "167                   0.0         5.0                    0.0   \n",
       "174                   0.0         5.0                    0.0   \n",
       "178                   0.0         5.0                    0.0   \n",
       "186                   1.0         5.0                    0.0   \n",
       "\n",
       "     Frecuencia_Esporadico  Frecuencia_Frecuente  Frecuencia_Nunca  index  \\\n",
       "2                      1.0                   0.0               0.0      2   \n",
       "6                      0.0                   0.0               1.0      6   \n",
       "7                      0.0                   0.0               1.0      7   \n",
       "8                      0.0                   0.0               1.0      8   \n",
       "13                     0.0                   0.0               1.0     13   \n",
       "19                     0.0                   0.0               1.0     19   \n",
       "20                     0.0                   1.0               0.0     20   \n",
       "23                     0.0                   0.0               1.0     23   \n",
       "58                     0.0                   0.0               1.0     58   \n",
       "59                     0.0                   0.0               1.0     59   \n",
       "66                     0.0                   0.0               1.0     66   \n",
       "80                     0.0                   0.0               1.0     80   \n",
       "94                     0.0                   0.0               1.0     94   \n",
       "112                    0.0                   0.0               0.0    112   \n",
       "113                    0.0                   0.0               1.0    113   \n",
       "158                    0.0                   0.0               1.0    158   \n",
       "167                    0.0                   0.0               1.0    167   \n",
       "174                    0.0                   0.0               1.0    174   \n",
       "178                    0.0                   0.0               1.0    178   \n",
       "186                    1.0                   0.0               0.0    186   \n",
       "\n",
       "     label      pred  \n",
       "2        0  0.797049  \n",
       "6        0  0.630259  \n",
       "7        0  0.764442  \n",
       "8        0  0.590103  \n",
       "13       0  0.647146  \n",
       "19       0  0.745725  \n",
       "20       0  0.567265  \n",
       "23       0  0.778723  \n",
       "58       0  0.599829  \n",
       "59       0  0.763277  \n",
       "66       0  0.681032  \n",
       "80       0  0.500148  \n",
       "94       0  0.749475  \n",
       "112      0  0.563990  \n",
       "113      0  0.548166  \n",
       "158      0  0.565959  \n",
       "167      0  0.536766  \n",
       "174      0  0.628150  \n",
       "178      0  0.624976  \n",
       "186      0  0.516353  \n",
       "\n",
       "[20 rows x 21 columns]"
      ]
     },
     "execution_count": 535,
     "metadata": {},
     "output_type": "execute_result"
    }
   ],
   "source": [
    "bad_pred"
   ]
  },
  {
   "cell_type": "markdown",
   "metadata": {},
   "source": [
    "## Analizamos cuales son los features que mayor peso tienen para xgboost."
   ]
  },
  {
   "cell_type": "code",
   "execution_count": 536,
   "metadata": {},
   "outputs": [
    {
     "name": "stdout",
     "output_type": "stream",
     "text": [
      "[0.11559692 0.11864573 0.15121375 0.08675324 0.02701261 0.09243309\n",
      " 0.05942064 0.0842822  0.0732336  0.06845151 0.02539488 0.03607015\n",
      " 0.01973281 0.02842591 0.00058665 0.00216883 0.00499542 0.00558207]\n"
     ]
    }
   ],
   "source": [
    "print(xgboost.feature_importances_)"
   ]
  },
  {
   "cell_type": "code",
   "execution_count": 537,
   "metadata": {
    "scrolled": true
   },
   "outputs": [
    {
     "data": {
      "image/png": "[encoded data removed]",
      "text/plain": [
       "<Figure size 432x288 with 1 Axes>"
      ]
     },
     "metadata": {},
     "output_type": "display_data"
    }
   ],
   "source": [
    "plot = plot_importance(xgboost)\n",
    "plot.set_yticklabels(features, fontdict=None, minor=False)\n",
    "pyplot.show()"
   ]
  },
  {
   "cell_type": "code",
   "execution_count": 538,
   "metadata": {},
   "outputs": [],
   "source": [
    "xgboost = xgb.XGBClassifier(learning_rate = 0.001,\\\n",
    "                            n_estimators= 2000,\\\n",
    "                            max_depth= 6,\\\n",
    "                            min_child_weight= 2,\\\n",
    "                            gamma=0.7,\\\n",
    "                            subsample=0.7,\\\n",
    "                            colsample_bytree=0.7,\\\n",
    "                            objective= 'binary:logistic',\\\n",
    "                            scale_pos_weight=1\n",
    "                           )\n",
    "xgboost.fit(x,y)\n",
    "pred = (xgboost.predict_proba(z)[:,1])"
   ]
  },
  {
   "cell_type": "code",
   "execution_count": 539,
   "metadata": {},
   "outputs": [],
   "source": [
    "submit = pd.DataFrame({'label': pred, 'person': persons})\n",
    "submit = submit[['person', 'label']]\n",
    "submit.to_csv('../submits/xgboost.csv', index=False)"
   ]
  },
  {
   "cell_type": "code",
   "execution_count": 540,
   "metadata": {},
   "outputs": [
    {
     "name": "stdout",
     "output_type": "stream",
     "text": [
      "Cantidad de no conversiones: 13068\n",
      "Cantidad de conversiones: 6347\n"
     ]
    }
   ],
   "source": [
    "no_conversiones = submit.loc[submit['label'] < 0.5]['label'].count()\n",
    "print ('Cantidad de no conversiones: ' + str(no_conversiones))\n",
    "\n",
    "conversiones = submit.loc[submit['label'] >= 0.5]['label'].count()\n",
    "print ('Cantidad de conversiones: ' + str(conversiones))"
   ]
  },
  {
   "cell_type": "code",
   "execution_count": 541,
   "metadata": {
    "scrolled": true
   },
   "outputs": [
    {
     "data": {
      "text/plain": [
       "0.3771174"
      ]
     },
     "execution_count": 541,
     "metadata": {},
     "output_type": "execute_result"
    }
   ],
   "source": [
    "submit['label'].mean()"
   ]
  },
  {
   "cell_type": "markdown",
   "metadata": {},
   "source": [
    "# Random Forest"
   ]
  },
  {
   "cell_type": "code",
   "execution_count": 542,
   "metadata": {},
   "outputs": [
    {
     "data": {
      "text/plain": [
       "0.8316326530612245"
      ]
     },
     "execution_count": 542,
     "metadata": {},
     "output_type": "execute_result"
    }
   ],
   "source": [
    "# Creamos el Random Forest\n",
    "random_forest = RandomForestClassifier(n_estimators=100, max_features='sqrt', max_depth=6, min_samples_split=3,\\\n",
    "                                   min_samples_leaf=10, bootstrap=True, oob_score=True, warm_start=True)\n",
    "\n",
    "# Lo entrenamos con nuestro set de entrenamiento\n",
    "random_forest.fit(X_train,y_train)\n",
    "\n",
    "# Predecimos valores de nuestro set de datos\n",
    "pred = random_forest.predict(X_test)\n",
    "\n",
    "# Evaluamos la precisión\n",
    "precision = accuracy_score(y_test, pred)\n",
    "\n",
    "precision"
   ]
  },
  {
   "cell_type": "code",
   "execution_count": 543,
   "metadata": {},
   "outputs": [],
   "source": [
    "random_forest = RandomForestClassifier(n_estimators=100, max_features='sqrt', max_depth=6, min_samples_split=3,\\\n",
    "                                   min_samples_leaf=10, bootstrap=False, oob_score=False, warm_start=False)\n",
    "\n",
    "# Lo entrenamos con la totalidad del set de datos\n",
    "random_forest.fit(x,y)\n",
    "\n",
    "# Predecimos las postulaciones del set final\n",
    "pred_final = random_forest.predict(z)"
   ]
  },
  {
   "cell_type": "code",
   "execution_count": 544,
   "metadata": {},
   "outputs": [],
   "source": [
    "submit = pd.DataFrame({'label': pred_final, 'person': persons})\n",
    "submit = submit[['person', 'label']]\n",
    "submit.to_csv('../submits/forest.csv', index=False)"
   ]
  },
  {
   "cell_type": "code",
   "execution_count": 545,
   "metadata": {},
   "outputs": [
    {
     "name": "stdout",
     "output_type": "stream",
     "text": [
      "Cantidad de no conversiones: 13099\n",
      "Cantidad de conversiones: 6316\n"
     ]
    }
   ],
   "source": [
    "no_conversiones = submit.loc[submit['label'] < 0.5]['label'].count()\n",
    "print ('Cantidad de no conversiones: ' + str(no_conversiones))\n",
    "\n",
    "conversiones = submit.loc[submit['label'] >= 0.5]['label'].count()\n",
    "print ('Cantidad de conversiones: ' + str(conversiones))"
   ]
  },
  {
   "cell_type": "markdown",
   "metadata": {},
   "source": [
    "# Extra Trees"
   ]
  },
  {
   "cell_type": "code",
   "execution_count": 546,
   "metadata": {},
   "outputs": [
    {
     "name": "stdout",
     "output_type": "stream",
     "text": [
      "Precisión:  0.7959183673469388\n",
      "Tiempo de ejecución: 0.28375 seconds.\n"
     ]
    }
   ],
   "source": [
    "t0 = time()\n",
    "\n",
    "# Parámetros óptimos\n",
    "params_optimos_et = {'n_estimators':100, 'max_features':'sqrt', 'max_depth':5, 'min_samples_split':2,\\\n",
    "                     'min_samples_leaf':2, 'bootstrap':True, 'oob_score':True, 'warm_start':True}\n",
    "\n",
    "# Creamos el extra_trees\n",
    "extra_trees = ExtraTreesClassifier(**params_optimos_et)\n",
    "\n",
    "# Lo entrenamos con nuestro set de entrenamiento\n",
    "extra_trees.fit(X_train,y_train)\n",
    "\n",
    "# Predecimos valores de nuestro set de datos\n",
    "pred = extra_trees.predict(X_test)\n",
    "\n",
    "# Evaluamos la precisión\n",
    "precision = accuracy_score(y_test, pred)\n",
    "\n",
    "print(\"Precisión: \", precision)\n",
    "\n",
    "tf = time() - t0\n",
    "print (\"Tiempo de ejecución: %0.5f seconds.\" % tf)"
   ]
  },
  {
   "cell_type": "code",
   "execution_count": 547,
   "metadata": {},
   "outputs": [
    {
     "name": "stdout",
     "output_type": "stream",
     "text": [
      "Tiempo de ejecución: 0.45238 seconds.\n"
     ]
    }
   ],
   "source": [
    "t0 = time()\n",
    "\n",
    "# Creamos el extra trees\n",
    "extra_trees = ExtraTreesClassifier(**params_optimos_et)\n",
    "\n",
    "# Lo entrenamos con la totalidad del set de datos\n",
    "extra_trees.fit(x,y)\n",
    "\n",
    "# Predecimos las postulaciones del set final\n",
    "pred_final = extra_trees.predict(z)\n",
    "\n",
    "tf = time() - t0\n",
    "print (\"Tiempo de ejecución: %0.5f seconds.\" % tf)"
   ]
  },
  {
   "cell_type": "code",
   "execution_count": 548,
   "metadata": {},
   "outputs": [
    {
     "name": "stdout",
     "output_type": "stream",
     "text": [
      "69.33 %\n"
     ]
    }
   ],
   "source": [
    "# Logistic Regression\n",
    "logreg = LogisticRegression()\n",
    "logreg.fit(X_train, y_train)\n",
    "\n",
    "Y_pred = logreg.predict(X_test)\n",
    "\n",
    "acc_log = round(logreg.score(X_train, y_train) * 100, 2)\n",
    "print(round(acc_log,2,), \"%\")"
   ]
  },
  {
   "cell_type": "code",
   "execution_count": 554,
   "metadata": {},
   "outputs": [],
   "source": [
    "from sklearn.model_selection import cross_val_score\n",
    "rf = RandomForestClassifier(n_estimators=200)\n",
    "scores = cross_val_score(rf, X_train, y_train, cv=20, scoring = \"f1\")"
   ]
  },
  {
   "cell_type": "code",
   "execution_count": 555,
   "metadata": {},
   "outputs": [
    {
     "name": "stdout",
     "output_type": "stream",
     "text": [
      "Scores: [0.77419355 0.72727273 0.77419355 0.68131868 0.7173913  0.73684211\n",
      " 0.7311828  0.80434783 0.73913043 0.8        0.72       0.8172043\n",
      " 0.76190476 0.74468085 0.69565217 0.77272727 0.82222222 0.77777778\n",
      " 0.79591837 0.72941176]\n",
      "Mean: 0.7561686232141038\n",
      "Standard Deviation: 0.038975841207909666\n"
     ]
    }
   ],
   "source": [
    "print(\"Scores:\", scores)\n",
    "print(\"Mean:\", scores.mean())\n",
    "print(\"Standard Deviation:\", scores.std())"
   ]
  },
  {
   "cell_type": "code",
   "execution_count": 556,
   "metadata": {},
   "outputs": [],
   "source": [
    "importances = pd.DataFrame({'feature':features,'importance':np.round(random_forest.feature_importances_,3)})\n",
    "importances = importances.sort_values('importance',ascending=False).set_index('feature')"
   ]
  },
  {
   "cell_type": "code",
   "execution_count": 557,
   "metadata": {},
   "outputs": [
    {
     "data": {
      "text/html": [
       "<div>\n",
       "<style scoped>\n",
       "    .dataframe tbody tr th:only-of-type {\n",
       "        vertical-align: middle;\n",
       "    }\n",
       "\n",
       "    .dataframe tbody tr th {\n",
       "        vertical-align: top;\n",
       "    }\n",
       "\n",
       "    .dataframe thead th {\n",
       "        text-align: right;\n",
       "    }\n",
       "</style>\n",
       "<table border=\"1\" class=\"dataframe\">\n",
       "  <thead>\n",
       "    <tr style=\"text-align: right;\">\n",
       "      <th></th>\n",
       "      <th>importance</th>\n",
       "    </tr>\n",
       "    <tr>\n",
       "      <th>feature</th>\n",
       "      <th></th>\n",
       "    </tr>\n",
       "  </thead>\n",
       "  <tbody>\n",
       "    <tr>\n",
       "      <th>cantidad_checkouts</th>\n",
       "      <td>0.432</td>\n",
       "    </tr>\n",
       "    <tr>\n",
       "      <th>month_moda</th>\n",
       "      <td>0.128</td>\n",
       "    </tr>\n",
       "    <tr>\n",
       "      <th>cant_total_eventos</th>\n",
       "      <td>0.086</td>\n",
       "    </tr>\n",
       "    <tr>\n",
       "      <th>cant_buenos</th>\n",
       "      <td>0.046</td>\n",
       "    </tr>\n",
       "    <tr>\n",
       "      <th>cant_ev_tarde</th>\n",
       "      <td>0.046</td>\n",
       "    </tr>\n",
       "    <tr>\n",
       "      <th>mean_events_per_day</th>\n",
       "      <td>0.042</td>\n",
       "    </tr>\n",
       "    <tr>\n",
       "      <th>cantidad_conversions</th>\n",
       "      <td>0.037</td>\n",
       "    </tr>\n",
       "    <tr>\n",
       "      <th>Frecuencia_Nunca</th>\n",
       "      <td>0.036</td>\n",
       "    </tr>\n",
       "    <tr>\n",
       "      <th>cant_ev_noche</th>\n",
       "      <td>0.032</td>\n",
       "    </tr>\n",
       "    <tr>\n",
       "      <th>favorite_device_Computer</th>\n",
       "      <td>0.031</td>\n",
       "    </tr>\n",
       "    <tr>\n",
       "      <th>cant_muy_buenos</th>\n",
       "      <td>0.019</td>\n",
       "    </tr>\n",
       "    <tr>\n",
       "      <th>most_viewed_sku</th>\n",
       "      <td>0.019</td>\n",
       "    </tr>\n",
       "    <tr>\n",
       "      <th>cant_excelentes</th>\n",
       "      <td>0.019</td>\n",
       "    </tr>\n",
       "    <tr>\n",
       "      <th>cant_ev_madrugada</th>\n",
       "      <td>0.014</td>\n",
       "    </tr>\n",
       "    <tr>\n",
       "      <th>cant_ev_manana</th>\n",
       "      <td>0.006</td>\n",
       "    </tr>\n",
       "    <tr>\n",
       "      <th>Frecuencia_Frecuente</th>\n",
       "      <td>0.004</td>\n",
       "    </tr>\n",
       "    <tr>\n",
       "      <th>Frecuencia_Esporadico</th>\n",
       "      <td>0.003</td>\n",
       "    </tr>\n",
       "    <tr>\n",
       "      <th>Frecuencia_Casi_nunca</th>\n",
       "      <td>0.000</td>\n",
       "    </tr>\n",
       "  </tbody>\n",
       "</table>\n",
       "</div>"
      ],
      "text/plain": [
       "                          importance\n",
       "feature                             \n",
       "cantidad_checkouts             0.432\n",
       "month_moda                     0.128\n",
       "cant_total_eventos             0.086\n",
       "cant_buenos                    0.046\n",
       "cant_ev_tarde                  0.046\n",
       "mean_events_per_day            0.042\n",
       "cantidad_conversions           0.037\n",
       "Frecuencia_Nunca               0.036\n",
       "cant_ev_noche                  0.032\n",
       "favorite_device_Computer       0.031\n",
       "cant_muy_buenos                0.019\n",
       "most_viewed_sku                0.019\n",
       "cant_excelentes                0.019\n",
       "cant_ev_madrugada              0.014\n",
       "cant_ev_manana                 0.006\n",
       "Frecuencia_Frecuente           0.004\n",
       "Frecuencia_Esporadico          0.003\n",
       "Frecuencia_Casi_nunca          0.000"
      ]
     },
     "execution_count": 557,
     "metadata": {},
     "output_type": "execute_result"
    }
   ],
   "source": [
    "importances"
   ]
  },
  {
   "cell_type": "code",
   "execution_count": 553,
   "metadata": {},
   "outputs": [
    {
     "data": {
      "text/plain": [
       "<matplotlib.axes._subplots.AxesSubplot at 0x7efbf16387b8>"
      ]
     },
     "execution_count": 553,
     "metadata": {},
     "output_type": "execute_result"
    },
    {
     "data": {
      "image/png": "[encoded data removed]",
      "text/plain": [
       "<Figure size 432x288 with 1 Axes>"
      ]
     },
     "metadata": {},
     "output_type": "display_data"
    }
   ],
   "source": [
    "importances.plot.bar()"
   ]
  },
  {
   "cell_type": "code",
   "execution_count": 1,
   "metadata": {},
   "outputs": [
    {
     "ename": "NameError",
     "evalue": "name 'X_train' is not defined",
     "output_type": "error",
     "traceback": [
      "\u001b[0;31m---------------------------------------------------------------------------\u001b[0m",
      "\u001b[0;31mNameError\u001b[0m                                 Traceback (most recent call last)",
      "\u001b[0;32m<ipython-input-1-8ee98a45e694>\u001b[0m in \u001b[0;36m<module>\u001b[0;34m()\u001b[0m\n\u001b[1;32m      2\u001b[0m \u001b[0;34m\u001b[0m\u001b[0m\n\u001b[1;32m      3\u001b[0m \u001b[0mclf\u001b[0m \u001b[0;34m=\u001b[0m \u001b[0mRandomForestClassifier\u001b[0m\u001b[0;34m(\u001b[0m\u001b[0mn_estimators\u001b[0m \u001b[0;34m=\u001b[0m \u001b[0;36m100\u001b[0m\u001b[0;34m)\u001b[0m\u001b[0;34m\u001b[0m\u001b[0m\n\u001b[0;32m----> 4\u001b[0;31m \u001b[0mclf\u001b[0m\u001b[0;34m.\u001b[0m\u001b[0mfit\u001b[0m\u001b[0;34m(\u001b[0m\u001b[0mX_train\u001b[0m\u001b[0;34m,\u001b[0m \u001b[0my_train\u001b[0m\u001b[0;34m)\u001b[0m\u001b[0;34m\u001b[0m\u001b[0m\n\u001b[0m",
      "\u001b[0;31mNameError\u001b[0m: name 'X_train' is not defined"
     ]
    }
   ],
   "source": []
  },
  {
   "cell_type": "code",
   "execution_count": 2,
   "metadata": {},
   "outputs": [],
   "source": [
    "from sklearn.ensemble import VotingClassifier"
   ]
  },
  {
   "cell_type": "code",
   "execution_count": null,
   "metadata": {},
   "outputs": [],
   "source": [
    "vc = VotingClassifier()"
   ]
  }
 ],
 "metadata": {
  "kernelspec": {
   "display_name": "Python 3",
   "language": "python",
   "name": "python3"
  },
  "language_info": {
   "codemirror_mode": {
    "name": "ipython",
    "version": 3
   },
   "file_extension": ".py",
   "mimetype": "text/x-python",
   "name": "python",
   "nbconvert_exporter": "python",
   "pygments_lexer": "ipython3",
   "version": "3.6.5"
  }
 },
 "nbformat": 4,
 "nbformat_minor": 2
}
