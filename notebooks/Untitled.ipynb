{
 "cells": [
  {
   "cell_type": "code",
   "execution_count": 138,
   "metadata": {},
   "outputs": [],
   "source": [
    "# loading libraries\n",
    "import warnings\n",
    "warnings.filterwarnings('ignore')\n",
    "import pandas as pd\n",
    "import pandas as pd\n",
    "import numpy as np\n",
    "from sklearn.cross_validation import train_test_split\n",
    "from sklearn.neighbors import KNeighborsClassifier\n",
    "from sklearn.metrics import accuracy_score\n",
    "from sklearn.metrics import log_loss\n",
    "import xgboost as xgb\n",
    "from xgboost import plot_importance\n",
    "from matplotlib import pyplot\n",
    "from sklearn.model_selection import StratifiedKFold\n",
    "from sklearn.model_selection import GridSearchCV as GridSearch\n",
    "from sklearn.ensemble import RandomForestClassifier\n",
    "from sklearn.metrics import roc_auc_score\n",
    "from sklearn.metrics import classification_report, confusion_matrix, roc_curve, auc, precision_recall_curve,roc_curve\n"
   ]
  },
  {
   "cell_type": "code",
   "execution_count": 139,
   "metadata": {},
   "outputs": [],
   "source": [
    "features_gaby = pd.read_csv('../features/features_gaby.csv')\n",
    "features_gonza = pd.read_csv('../features/features_gonza.csv').drop(columns='Unnamed: 0')\n",
    "features_ari = pd.read_csv('../features/features_ariel.csv')\n",
    "features_mati = pd.read_csv('../features/features_frecuencia.csv')\n",
    "labels_training_set = pd.read_csv('../dataset/labels_training_set.csv')\n",
    "test_set = pd.read_csv('../dataset/trocafone_kaggle_test.csv')\n",
    "features_gonza2 = pd.read_csv('../features/features_gonza2.csv')"
   ]
  },
  {
   "cell_type": "code",
   "execution_count": 140,
   "metadata": {},
   "outputs": [
    {
     "data": {
      "text/html": [
       "<div>\n",
       "<style scoped>\n",
       "    .dataframe tbody tr th:only-of-type {\n",
       "        vertical-align: middle;\n",
       "    }\n",
       "\n",
       "    .dataframe tbody tr th {\n",
       "        vertical-align: top;\n",
       "    }\n",
       "\n",
       "    .dataframe thead th {\n",
       "        text-align: right;\n",
       "    }\n",
       "</style>\n",
       "<table border=\"1\" class=\"dataframe\">\n",
       "  <thead>\n",
       "    <tr style=\"text-align: right;\">\n",
       "      <th></th>\n",
       "      <th>person</th>\n",
       "      <th>marca_favorita_apple</th>\n",
       "      <th>marca_favorita_asus</th>\n",
       "      <th>marca_favorita_lenovo</th>\n",
       "      <th>marca_favorita_lg</th>\n",
       "      <th>marca_favorita_motorola</th>\n",
       "      <th>marca_favorita_no tiene</th>\n",
       "      <th>marca_favorita_quantum</th>\n",
       "      <th>marca_favorita_samsung</th>\n",
       "      <th>marca_favorita_sony</th>\n",
       "      <th>...</th>\n",
       "      <th>checkout</th>\n",
       "      <th>generic listing</th>\n",
       "      <th>searched products</th>\n",
       "      <th>viewed product</th>\n",
       "      <th>visited site</th>\n",
       "      <th>completa_flujo</th>\n",
       "      <th>favorite_device_Computer</th>\n",
       "      <th>favorite_device_Smartphone</th>\n",
       "      <th>favorite_device_Tablet</th>\n",
       "      <th>favorite_device_Unknown</th>\n",
       "    </tr>\n",
       "  </thead>\n",
       "  <tbody>\n",
       "    <tr>\n",
       "      <th>0</th>\n",
       "      <td>0008ed71</td>\n",
       "      <td>1</td>\n",
       "      <td>0</td>\n",
       "      <td>0</td>\n",
       "      <td>0</td>\n",
       "      <td>0</td>\n",
       "      <td>0</td>\n",
       "      <td>0</td>\n",
       "      <td>0</td>\n",
       "      <td>0</td>\n",
       "      <td>...</td>\n",
       "      <td>3.0</td>\n",
       "      <td>1.0</td>\n",
       "      <td>NaN</td>\n",
       "      <td>NaN</td>\n",
       "      <td>2.0</td>\n",
       "      <td>False</td>\n",
       "      <td>1</td>\n",
       "      <td>0</td>\n",
       "      <td>0</td>\n",
       "      <td>0</td>\n",
       "    </tr>\n",
       "    <tr>\n",
       "      <th>1</th>\n",
       "      <td>00091926</td>\n",
       "      <td>1</td>\n",
       "      <td>0</td>\n",
       "      <td>0</td>\n",
       "      <td>0</td>\n",
       "      <td>0</td>\n",
       "      <td>0</td>\n",
       "      <td>0</td>\n",
       "      <td>0</td>\n",
       "      <td>0</td>\n",
       "      <td>...</td>\n",
       "      <td>2.0</td>\n",
       "      <td>NaN</td>\n",
       "      <td>NaN</td>\n",
       "      <td>372.0</td>\n",
       "      <td>34.0</td>\n",
       "      <td>False</td>\n",
       "      <td>1</td>\n",
       "      <td>0</td>\n",
       "      <td>0</td>\n",
       "      <td>0</td>\n",
       "    </tr>\n",
       "    <tr>\n",
       "      <th>2</th>\n",
       "      <td>00091a7a</td>\n",
       "      <td>1</td>\n",
       "      <td>0</td>\n",
       "      <td>0</td>\n",
       "      <td>0</td>\n",
       "      <td>0</td>\n",
       "      <td>0</td>\n",
       "      <td>0</td>\n",
       "      <td>0</td>\n",
       "      <td>0</td>\n",
       "      <td>...</td>\n",
       "      <td>NaN</td>\n",
       "      <td>NaN</td>\n",
       "      <td>NaN</td>\n",
       "      <td>3.0</td>\n",
       "      <td>1.0</td>\n",
       "      <td>False</td>\n",
       "      <td>0</td>\n",
       "      <td>1</td>\n",
       "      <td>0</td>\n",
       "      <td>0</td>\n",
       "    </tr>\n",
       "    <tr>\n",
       "      <th>3</th>\n",
       "      <td>000ba417</td>\n",
       "      <td>0</td>\n",
       "      <td>0</td>\n",
       "      <td>0</td>\n",
       "      <td>0</td>\n",
       "      <td>0</td>\n",
       "      <td>0</td>\n",
       "      <td>0</td>\n",
       "      <td>1</td>\n",
       "      <td>0</td>\n",
       "      <td>...</td>\n",
       "      <td>6.0</td>\n",
       "      <td>14.0</td>\n",
       "      <td>NaN</td>\n",
       "      <td>153.0</td>\n",
       "      <td>6.0</td>\n",
       "      <td>False</td>\n",
       "      <td>1</td>\n",
       "      <td>0</td>\n",
       "      <td>0</td>\n",
       "      <td>0</td>\n",
       "    </tr>\n",
       "    <tr>\n",
       "      <th>4</th>\n",
       "      <td>000c79fe</td>\n",
       "      <td>1</td>\n",
       "      <td>0</td>\n",
       "      <td>0</td>\n",
       "      <td>0</td>\n",
       "      <td>0</td>\n",
       "      <td>0</td>\n",
       "      <td>0</td>\n",
       "      <td>0</td>\n",
       "      <td>0</td>\n",
       "      <td>...</td>\n",
       "      <td>1.0</td>\n",
       "      <td>1.0</td>\n",
       "      <td>9.0</td>\n",
       "      <td>3.0</td>\n",
       "      <td>1.0</td>\n",
       "      <td>False</td>\n",
       "      <td>0</td>\n",
       "      <td>1</td>\n",
       "      <td>0</td>\n",
       "      <td>0</td>\n",
       "    </tr>\n",
       "  </tbody>\n",
       "</table>\n",
       "<p>5 rows × 64 columns</p>\n",
       "</div>"
      ],
      "text/plain": [
       "     person  marca_favorita_apple  marca_favorita_asus  marca_favorita_lenovo  \\\n",
       "0  0008ed71                     1                    0                      0   \n",
       "1  00091926                     1                    0                      0   \n",
       "2  00091a7a                     1                    0                      0   \n",
       "3  000ba417                     0                    0                      0   \n",
       "4  000c79fe                     1                    0                      0   \n",
       "\n",
       "   marca_favorita_lg  marca_favorita_motorola  marca_favorita_no tiene  \\\n",
       "0                  0                        0                        0   \n",
       "1                  0                        0                        0   \n",
       "2                  0                        0                        0   \n",
       "3                  0                        0                        0   \n",
       "4                  0                        0                        0   \n",
       "\n",
       "   marca_favorita_quantum  marca_favorita_samsung  marca_favorita_sony  \\\n",
       "0                       0                       0                    0   \n",
       "1                       0                       0                    0   \n",
       "2                       0                       0                    0   \n",
       "3                       0                       1                    0   \n",
       "4                       0                       0                    0   \n",
       "\n",
       "            ...             checkout  generic listing  searched products  \\\n",
       "0           ...                  3.0              1.0                NaN   \n",
       "1           ...                  2.0              NaN                NaN   \n",
       "2           ...                  NaN              NaN                NaN   \n",
       "3           ...                  6.0             14.0                NaN   \n",
       "4           ...                  1.0              1.0                9.0   \n",
       "\n",
       "   viewed product  visited site  completa_flujo  favorite_device_Computer  \\\n",
       "0             NaN           2.0           False                         1   \n",
       "1           372.0          34.0           False                         1   \n",
       "2             3.0           1.0           False                         0   \n",
       "3           153.0           6.0           False                         1   \n",
       "4             3.0           1.0           False                         0   \n",
       "\n",
       "   favorite_device_Smartphone  favorite_device_Tablet  favorite_device_Unknown  \n",
       "0                           0                       0                        0  \n",
       "1                           0                       0                        0  \n",
       "2                           1                       0                        0  \n",
       "3                           0                       0                        0  \n",
       "4                           1                       0                        0  \n",
       "\n",
       "[5 rows x 64 columns]"
      ]
     },
     "execution_count": 140,
     "metadata": {},
     "output_type": "execute_result"
    }
   ],
   "source": [
    "#model_df = pd.merge(features_gaby, features_gonza, how='inner', on='person')\n",
    "model_df = pd.merge(features_gaby, features_ari, how='inner', on='person')\n",
    "model_df = pd.merge(model_df, features_gonza, how='inner', on='person')\n",
    "model_df = pd.merge(model_df, features_gonza2, how='inner', on='person')\n",
    "#model_df = pd.merge(model_df, features_mati, how='inner', on='person')\n",
    "model_df.head()"
   ]
  },
  {
   "cell_type": "code",
   "execution_count": 141,
   "metadata": {},
   "outputs": [],
   "source": [
    "#model_df.fillna(value=0, inplace=True)\n",
    "model_df['most_viewed_sku'] = model_df['most_viewed_sku'].astype('category')\n",
    "model_df['favorite_device_Computer'] = model_df['favorite_device_Computer'].astype('category')\n",
    "model_df['viewed product'] = model_df['viewed product'].astype('category')\n",
    "training_set = pd.merge(model_df, labels_training_set, how='inner', on='person')\n",
    "test_set = pd.merge(model_df, test_set, how='inner', on='person')\n",
    "#training_set.drop(columns= 'Unnamed: 0', inplace=True)"
   ]
  },
  {
   "cell_type": "code",
   "execution_count": 142,
   "metadata": {},
   "outputs": [],
   "source": [
    "features = ['cant_total_eventos', #f1\n",
    "            #'marca_favorita_apple',#f2\n",
    "            'mean_events_per_day',#f3\n",
    "            #'has_converted_before',#f4\n",
    "            #'most_viewed_sku',#f5\n",
    "            #'most_viewed_color_Preto',#f6\n",
    "            #'most_viewed_color_Branco',#f7\n",
    "            #'most_viewed_color_Dourado', #f8\n",
    "            #'region_brasil_Sao Paulo',#f9\n",
    "            #'region_brasil_Unknown',#f10\n",
    "            #'region_brasil_Minas Gerais',#f11\n",
    "            #'marca_favorita_samsung',#f12\n",
    "            #'cant_ev_noche',#f13\n",
    "            #'cant_ev_manana',#f14\n",
    "            #'cant_ev_tarde',#f15\n",
    "            #'cant_ev_madrugada',#f16\n",
    "            #'cant_buenos',#f17\n",
    "            #'cant_muy_buenos',#f18\n",
    "            #'cant_excelentes',#f19\n",
    "            #'nivel_de_actividad_Muy Bajo',#f20\n",
    "            #'nivel_de_actividad_Muy Alto',#f21\n",
    "            #'nivel_de_actividad_Bajo',#f22\n",
    "            #'nivel_de_actividad_Medio',#f23\n",
    "            #'nivel_de_actividad_Alto',#f24\n",
    "            #'favorite_device_Smartphone',#f25\n",
    "            'favorite_device_Computer',#f26\n",
    "            'cantidad_checkouts',#f27\n",
    "            'cantidad_conversions',#f28\n",
    "            'tasa_cc',\n",
    "            'viewed product',\n",
    "            #'cantidad_lead',\n",
    "            #'searched products',\n",
    "            #'first_and_last_event_distance_in_days',\n",
    "            'month_moda',\n",
    "            #'completa_flujo'\n",
    "           ]"
   ]
  },
  {
   "cell_type": "code",
   "execution_count": 143,
   "metadata": {},
   "outputs": [],
   "source": [
    "x = np.array(training_set[features])\n",
    "y = np.array(training_set['label'])\n",
    "z = np.array(test_set[features])\n",
    "X_train, X_test, y_train, y_test = train_test_split(x,y, test_size=0.20)"
   ]
  },
  {
   "cell_type": "code",
   "execution_count": 144,
   "metadata": {},
   "outputs": [],
   "source": [
    "def modelfit(alg):\n",
    "    alg.fit(X_train, y_train, eval_metric='aucpr')\n",
    "    pred = (alg.predict_proba(X_test)[:,1])\n",
    "    accuracy = accuracy_score(y_test, pred.round(), normalize=False)\n",
    "    pred_proba = pred\n",
    "    print(\"Accuracy: \", accuracy / float(pred.size))\n",
    "\n",
    "    for i in xrange(0,pred.size):\n",
    "        if (pred[i] >= 0.5):\n",
    "            pred[i] = 1\n",
    "        else: \n",
    "            pred[i] = 0\n",
    "\n",
    "    print('---Classification Report---')\n",
    "    print(classification_report(y_test,pred))\n",
    "    print('AUROC :' + str(roc_auc_score(y_test, pred_proba)))\n",
    "    \n",
    "    \n",
    "    "
   ]
  },
  {
   "cell_type": "code",
   "execution_count": 173,
   "metadata": {},
   "outputs": [
    {
     "name": "stdout",
     "output_type": "stream",
     "text": [
      "('Accuracy: ', 0.8879732165851146)\n",
      "---Classification Report---\n",
      "             precision    recall  f1-score   support\n",
      "\n",
      "          0       0.96      0.92      0.94      3685\n",
      "          1       0.16      0.28      0.20       198\n",
      "\n",
      "avg / total       0.92      0.89      0.90      3883\n",
      "\n",
      "AUROC :0.6016583747927031\n"
     ]
    }
   ],
   "source": [
    "xgb1 = xgb.XGBClassifier(\n",
    " learning_rate =0.1,\n",
    " n_estimators=1000,\n",
    " max_depth=5,\n",
    " min_child_weight=1,\n",
    " gamma=0,\n",
    " subsample=0.8,\n",
    " colsample_bytree=0.8,\n",
    " objective= 'binary:logistic',\n",
    " nthread=4,\n",
    " scale_pos_weight=18,\n",
    " seed=27)\n",
    "modelfit(xgb1)"
   ]
  },
  {
   "cell_type": "code",
   "execution_count": 23,
   "metadata": {},
   "outputs": [
    {
     "name": "stderr",
     "output_type": "stream",
     "text": [
      "/home/gonzalodiz/anaconda2/lib/python2.7/site-packages/sklearn/model_selection/_search.py:762: DeprecationWarning: The grid_scores_ attribute was deprecated in version 0.18 in favor of the more elaborate cv_results_ attribute. The grid_scores_ attribute will not be available from 0.20\n",
      "  DeprecationWarning)\n"
     ]
    },
    {
     "data": {
      "text/plain": [
       "([mean: 0.82340, std: 0.00867, params: {'max_depth': 3, 'min_child_weight': 1},\n",
       "  mean: 0.82474, std: 0.00837, params: {'max_depth': 3, 'min_child_weight': 3},\n",
       "  mean: 0.82608, std: 0.00986, params: {'max_depth': 3, 'min_child_weight': 5},\n",
       "  mean: 0.80007, std: 0.01205, params: {'max_depth': 5, 'min_child_weight': 1},\n",
       "  mean: 0.80125, std: 0.01319, params: {'max_depth': 5, 'min_child_weight': 3},\n",
       "  mean: 0.80381, std: 0.01322, params: {'max_depth': 5, 'min_child_weight': 5},\n",
       "  mean: 0.77699, std: 0.01427, params: {'max_depth': 7, 'min_child_weight': 1},\n",
       "  mean: 0.77662, std: 0.01608, params: {'max_depth': 7, 'min_child_weight': 3},\n",
       "  mean: 0.78440, std: 0.01697, params: {'max_depth': 7, 'min_child_weight': 5},\n",
       "  mean: 0.75554, std: 0.01537, params: {'max_depth': 9, 'min_child_weight': 1},\n",
       "  mean: 0.75762, std: 0.01802, params: {'max_depth': 9, 'min_child_weight': 3},\n",
       "  mean: 0.76888, std: 0.01677, params: {'max_depth': 9, 'min_child_weight': 5}],\n",
       " {'max_depth': 3, 'min_child_weight': 5},\n",
       " 0.826080481598833)"
      ]
     },
     "execution_count": 23,
     "metadata": {},
     "output_type": "execute_result"
    }
   ],
   "source": [
    "param_test1 = {\n",
    "    'max_depth':range(3,10,2),\n",
    "    'min_child_weight':range(1,6,2)\n",
    "}\n",
    "\n",
    "gsearch1 = GridSearch(estimator = xgb.XGBClassifier( learning_rate =0.1, n_estimators=140, max_depth=5,\n",
    " min_child_weight=1, gamma=0, subsample=0.8, colsample_bytree=0.8,\n",
    " objective= 'binary:logistic', nthread=4, scale_pos_weight=18, seed=27), \n",
    " param_grid = param_test1, scoring='roc_auc',n_jobs=4,iid=False, cv=5)\n",
    "\n",
    "gsearch1.fit(X_train, y_train)\n",
    "gsearch1.grid_scores_, gsearch1.best_params_, gsearch1.best_score_"
   ]
  },
  {
   "cell_type": "code",
   "execution_count": 27,
   "metadata": {},
   "outputs": [
    {
     "name": "stderr",
     "output_type": "stream",
     "text": [
      "/home/gonzalodiz/anaconda2/lib/python2.7/site-packages/sklearn/model_selection/_search.py:762: DeprecationWarning: The grid_scores_ attribute was deprecated in version 0.18 in favor of the more elaborate cv_results_ attribute. The grid_scores_ attribute will not be available from 0.20\n",
      "  DeprecationWarning)\n"
     ]
    },
    {
     "data": {
      "text/plain": [
       "([mean: 0.83085, std: 0.01097, params: {'max_depth': 1, 'min_child_weight': 4},\n",
       "  mean: 0.83080, std: 0.01090, params: {'max_depth': 1, 'min_child_weight': 5},\n",
       "  mean: 0.83081, std: 0.01092, params: {'max_depth': 1, 'min_child_weight': 6},\n",
       "  mean: 0.83077, std: 0.01075, params: {'max_depth': 2, 'min_child_weight': 4},\n",
       "  mean: 0.83120, std: 0.01159, params: {'max_depth': 2, 'min_child_weight': 5},\n",
       "  mean: 0.83076, std: 0.01113, params: {'max_depth': 2, 'min_child_weight': 6},\n",
       "  mean: 0.82580, std: 0.00933, params: {'max_depth': 3, 'min_child_weight': 4},\n",
       "  mean: 0.82608, std: 0.00986, params: {'max_depth': 3, 'min_child_weight': 5},\n",
       "  mean: 0.82481, std: 0.01007, params: {'max_depth': 3, 'min_child_weight': 6}],\n",
       " {'max_depth': 2, 'min_child_weight': 5},\n",
       " 0.8312013260081222)"
      ]
     },
     "execution_count": 27,
     "metadata": {},
     "output_type": "execute_result"
    }
   ],
   "source": [
    "param_test2 = {\n",
    "    'max_depth':[1,2,3],\n",
    "    'min_child_weight':[4,5,6]\n",
    "}\n",
    "\n",
    "gsearch2 = GridSearch(estimator = xgb.XGBClassifier( learning_rate =0.1, n_estimators=140, max_depth=5,\n",
    " min_child_weight=1, gamma=0, subsample=0.8, colsample_bytree=0.8,\n",
    " objective= 'binary:logistic', nthread=4, scale_pos_weight=18, seed=27), \n",
    " param_grid = param_test2, scoring='roc_auc',n_jobs=4,iid=False, cv=5)\n",
    "\n",
    "gsearch2.fit(X_train, y_train)\n",
    "gsearch2.grid_scores_, gsearch2.best_params_, gsearch2.best_score_"
   ]
  },
  {
   "cell_type": "code",
   "execution_count": 87,
   "metadata": {},
   "outputs": [
    {
     "data": {
      "text/plain": [
       "([mean: 0.22617, std: 0.01726, params: {'min_child_weight': 4},\n",
       "  mean: 0.22624, std: 0.01454, params: {'min_child_weight': 5},\n",
       "  mean: 0.22535, std: 0.01492, params: {'min_child_weight': 6}],\n",
       " {'min_child_weight': 5},\n",
       " 0.2262385879618499)"
      ]
     },
     "execution_count": 87,
     "metadata": {},
     "output_type": "execute_result"
    }
   ],
   "source": [
    "param_test2b = {\n",
    "    'min_child_weight':[4,5,6]\n",
    "}\n",
    "\n",
    "gsearch2 = GridSearch(estimator = xgb.XGBClassifier( learning_rate =0.1, n_estimators=140, max_depth=3,\n",
    " min_child_weight=1, gamma=0, subsample=0.8, colsample_bytree=0.8,\n",
    " objective= 'binary:logistic', nthread=4, scale_pos_weight=25, seed=27), \n",
    " param_grid = param_test2b, scoring='f1',n_jobs=4,iid=False, cv=5)\n",
    "\n",
    "gsearch2.fit(X_train, y_train)\n",
    "gsearch2.grid_scores_, gsearch2.best_params_, gsearch2.best_score_"
   ]
  },
  {
   "cell_type": "code",
   "execution_count": 28,
   "metadata": {},
   "outputs": [
    {
     "name": "stdout",
     "output_type": "stream",
     "text": [
      "('Accuracy: ', 0.7828998197270152)\n",
      "---Classification Report---\n",
      "             precision    recall  f1-score   support\n",
      "\n",
      "          0       0.98      0.78      0.87      3693\n",
      "          1       0.15      0.75      0.25       190\n",
      "\n",
      "avg / total       0.94      0.78      0.84      3883\n",
      "\n",
      "AUROC :0.7660481422891103\n"
     ]
    }
   ],
   "source": [
    "xgb1 = xgb.XGBClassifier(\n",
    " learning_rate =0.1,\n",
    " n_estimators=1000,\n",
    " max_depth=2,\n",
    " min_child_weight=5,\n",
    " gamma=0,\n",
    " subsample=0.8,\n",
    " colsample_bytree=0.8,\n",
    " objective= 'binary:logistic',\n",
    " nthread=4,\n",
    " scale_pos_weight=18,\n",
    " seed=27)\n",
    "modelfit(xgb1)"
   ]
  },
  {
   "cell_type": "code",
   "execution_count": 29,
   "metadata": {
    "scrolled": false
   },
   "outputs": [
    {
     "name": "stderr",
     "output_type": "stream",
     "text": [
      "/home/gonzalodiz/anaconda2/lib/python2.7/site-packages/sklearn/model_selection/_search.py:762: DeprecationWarning: The grid_scores_ attribute was deprecated in version 0.18 in favor of the more elaborate cv_results_ attribute. The grid_scores_ attribute will not be available from 0.20\n",
      "  DeprecationWarning)\n"
     ]
    },
    {
     "data": {
      "text/plain": [
       "([mean: 0.83120, std: 0.01159, params: {'gamma': 0.0},\n",
       "  mean: 0.83120, std: 0.01159, params: {'gamma': 0.1},\n",
       "  mean: 0.83120, std: 0.01159, params: {'gamma': 0.2},\n",
       "  mean: 0.83120, std: 0.01159, params: {'gamma': 0.3},\n",
       "  mean: 0.83120, std: 0.01159, params: {'gamma': 0.4}],\n",
       " {'gamma': 0.0},\n",
       " 0.8312013260081222)"
      ]
     },
     "execution_count": 29,
     "metadata": {},
     "output_type": "execute_result"
    }
   ],
   "source": [
    "param_test3 = {\n",
    " 'gamma':[i/10.0 for i in range(0,5)]\n",
    "}\n",
    "gsearch3 = GridSearch(estimator = xgb.XGBClassifier( learning_rate =0.1, n_estimators=140, max_depth=2,\n",
    " min_child_weight=5, gamma=0, subsample=0.8, colsample_bytree=0.8,\n",
    " objective= 'binary:logistic', nthread=4, scale_pos_weight=18,seed=27), \n",
    " param_grid = param_test3, scoring='roc_auc',n_jobs=4,iid=False, cv=5)\n",
    "gsearch3.fit(X_train,y_train)\n",
    "gsearch3.grid_scores_, gsearch3.best_params_, gsearch3.best_score_"
   ]
  },
  {
   "cell_type": "code",
   "execution_count": 30,
   "metadata": {},
   "outputs": [
    {
     "name": "stdout",
     "output_type": "stream",
     "text": [
      "('Accuracy: ', 0.7828998197270152)\n",
      "---Classification Report---\n",
      "             precision    recall  f1-score   support\n",
      "\n",
      "          0       0.98      0.78      0.87      3693\n",
      "          1       0.15      0.75      0.25       190\n",
      "\n",
      "avg / total       0.94      0.78      0.84      3883\n",
      "\n",
      "AUROC :0.7660481422891103\n"
     ]
    }
   ],
   "source": [
    "xgb1 = xgb.XGBClassifier(\n",
    " learning_rate =0.1,\n",
    " n_estimators=1000,\n",
    " max_depth=2,\n",
    " min_child_weight=5,\n",
    " gamma=0,\n",
    " subsample=0.8,\n",
    " colsample_bytree=0.8,\n",
    " objective= 'binary:logistic',\n",
    " nthread=4,\n",
    " scale_pos_weight=18,\n",
    " seed=27)\n",
    "modelfit(xgb1)"
   ]
  },
  {
   "cell_type": "code",
   "execution_count": 31,
   "metadata": {},
   "outputs": [
    {
     "name": "stderr",
     "output_type": "stream",
     "text": [
      "/home/gonzalodiz/anaconda2/lib/python2.7/site-packages/sklearn/model_selection/_search.py:762: DeprecationWarning: The grid_scores_ attribute was deprecated in version 0.18 in favor of the more elaborate cv_results_ attribute. The grid_scores_ attribute will not be available from 0.20\n",
      "  DeprecationWarning)\n"
     ]
    },
    {
     "data": {
      "text/plain": [
       "([mean: 0.83152, std: 0.01084, params: {'subsample': 0.6, 'colsample_bytree': 0.6},\n",
       "  mean: 0.83127, std: 0.01021, params: {'subsample': 0.7, 'colsample_bytree': 0.6},\n",
       "  mean: 0.83172, std: 0.01065, params: {'subsample': 0.8, 'colsample_bytree': 0.6},\n",
       "  mean: 0.83103, std: 0.00936, params: {'subsample': 0.9, 'colsample_bytree': 0.6},\n",
       "  mean: 0.83021, std: 0.01188, params: {'subsample': 0.6, 'colsample_bytree': 0.7},\n",
       "  mean: 0.83121, std: 0.01101, params: {'subsample': 0.7, 'colsample_bytree': 0.7},\n",
       "  mean: 0.83199, std: 0.01124, params: {'subsample': 0.8, 'colsample_bytree': 0.7},\n",
       "  mean: 0.83198, std: 0.01026, params: {'subsample': 0.9, 'colsample_bytree': 0.7},\n",
       "  mean: 0.82918, std: 0.01267, params: {'subsample': 0.6, 'colsample_bytree': 0.8},\n",
       "  mean: 0.83021, std: 0.01191, params: {'subsample': 0.7, 'colsample_bytree': 0.8},\n",
       "  mean: 0.83120, std: 0.01159, params: {'subsample': 0.8, 'colsample_bytree': 0.8},\n",
       "  mean: 0.83104, std: 0.01014, params: {'subsample': 0.9, 'colsample_bytree': 0.8},\n",
       "  mean: 0.82845, std: 0.01176, params: {'subsample': 0.6, 'colsample_bytree': 0.9},\n",
       "  mean: 0.82942, std: 0.01281, params: {'subsample': 0.7, 'colsample_bytree': 0.9},\n",
       "  mean: 0.82993, std: 0.00955, params: {'subsample': 0.8, 'colsample_bytree': 0.9},\n",
       "  mean: 0.82987, std: 0.01016, params: {'subsample': 0.9, 'colsample_bytree': 0.9}],\n",
       " {'colsample_bytree': 0.7, 'subsample': 0.8},\n",
       " 0.8319902466940128)"
      ]
     },
     "execution_count": 31,
     "metadata": {},
     "output_type": "execute_result"
    }
   ],
   "source": [
    "param_test4 = {\n",
    " 'subsample':[i/10.0 for i in range(6,10)],\n",
    " 'colsample_bytree':[i/10.0 for i in range(6,10)]\n",
    "}\n",
    "\n",
    "gsearch4 = GridSearch(estimator = xgb.XGBClassifier( learning_rate =0.1, n_estimators=140, max_depth=2,\n",
    " min_child_weight=5, gamma=0, subsample=0.8, colsample_bytree=0.8,\n",
    " objective= 'binary:logistic', nthread=4, scale_pos_weight=18,seed=27), \n",
    " param_grid = param_test4, scoring='roc_auc',n_jobs=4,iid=False, cv=5)\n",
    "gsearch4.fit(X_train,y_train)\n",
    "gsearch4.grid_scores_, gsearch4.best_params_, gsearch4.best_score_"
   ]
  },
  {
   "cell_type": "code",
   "execution_count": 33,
   "metadata": {},
   "outputs": [
    {
     "name": "stderr",
     "output_type": "stream",
     "text": [
      "/home/gonzalodiz/anaconda2/lib/python2.7/site-packages/sklearn/model_selection/_search.py:762: DeprecationWarning: The grid_scores_ attribute was deprecated in version 0.18 in favor of the more elaborate cv_results_ attribute. The grid_scores_ attribute will not be available from 0.20\n",
      "  DeprecationWarning)\n"
     ]
    },
    {
     "data": {
      "text/plain": [
       "([mean: 0.83225, std: 0.00973, params: {'subsample': 0.7, 'colsample_bytree': 0.4},\n",
       "  mean: 0.83087, std: 0.00947, params: {'subsample': 0.75, 'colsample_bytree': 0.4},\n",
       "  mean: 0.83131, std: 0.00947, params: {'subsample': 0.8, 'colsample_bytree': 0.4},\n",
       "  mean: 0.83110, std: 0.00865, params: {'subsample': 0.85, 'colsample_bytree': 0.4},\n",
       "  mean: 0.83225, std: 0.00973, params: {'subsample': 0.7, 'colsample_bytree': 0.45},\n",
       "  mean: 0.83087, std: 0.00947, params: {'subsample': 0.75, 'colsample_bytree': 0.45},\n",
       "  mean: 0.83131, std: 0.00947, params: {'subsample': 0.8, 'colsample_bytree': 0.45},\n",
       "  mean: 0.83110, std: 0.00865, params: {'subsample': 0.85, 'colsample_bytree': 0.45},\n",
       "  mean: 0.83127, std: 0.01021, params: {'subsample': 0.7, 'colsample_bytree': 0.5},\n",
       "  mean: 0.83117, std: 0.01012, params: {'subsample': 0.75, 'colsample_bytree': 0.5},\n",
       "  mean: 0.83172, std: 0.01065, params: {'subsample': 0.8, 'colsample_bytree': 0.5},\n",
       "  mean: 0.83273, std: 0.00992, params: {'subsample': 0.85, 'colsample_bytree': 0.5},\n",
       "  mean: 0.83127, std: 0.01021, params: {'subsample': 0.7, 'colsample_bytree': 0.55},\n",
       "  mean: 0.83117, std: 0.01012, params: {'subsample': 0.75, 'colsample_bytree': 0.55},\n",
       "  mean: 0.83172, std: 0.01065, params: {'subsample': 0.8, 'colsample_bytree': 0.55},\n",
       "  mean: 0.83273, std: 0.00992, params: {'subsample': 0.85, 'colsample_bytree': 0.55},\n",
       "  mean: 0.83127, std: 0.01021, params: {'subsample': 0.7, 'colsample_bytree': 0.6},\n",
       "  mean: 0.83117, std: 0.01012, params: {'subsample': 0.75, 'colsample_bytree': 0.6},\n",
       "  mean: 0.83172, std: 0.01065, params: {'subsample': 0.8, 'colsample_bytree': 0.6},\n",
       "  mean: 0.83273, std: 0.00992, params: {'subsample': 0.85, 'colsample_bytree': 0.6},\n",
       "  mean: 0.83121, std: 0.01101, params: {'subsample': 0.7, 'colsample_bytree': 0.65},\n",
       "  mean: 0.83140, std: 0.01022, params: {'subsample': 0.75, 'colsample_bytree': 0.65},\n",
       "  mean: 0.83199, std: 0.01124, params: {'subsample': 0.8, 'colsample_bytree': 0.65},\n",
       "  mean: 0.83226, std: 0.01097, params: {'subsample': 0.85, 'colsample_bytree': 0.65}],\n",
       " {'colsample_bytree': 0.5, 'subsample': 0.85},\n",
       " 0.8327291351657975)"
      ]
     },
     "execution_count": 33,
     "metadata": {},
     "output_type": "execute_result"
    }
   ],
   "source": [
    "param_test5 = {\n",
    "    'subsample':[i/100.0 for i in range(70,90,5)],\n",
    "    'colsample_bytree':[i/100.0 for i in range(40,70,5)]\n",
    "}\n",
    "\n",
    "gsearch5 = GridSearch(estimator = xgb.XGBClassifier( learning_rate =0.1, n_estimators=140, max_depth=2,\n",
    "min_child_weight=5, gamma=0, subsample=0.8, colsample_bytree=0.8,\n",
    "objective= 'binary:logistic', nthread=4, scale_pos_weight=18,seed=27), \n",
    "param_grid = param_test5, scoring='roc_auc',n_jobs=4,iid=False, cv=5)\n",
    "gsearch5.fit(X_train,y_train)\n",
    "gsearch5.grid_scores_, gsearch5.best_params_, gsearch5.best_score_"
   ]
  },
  {
   "cell_type": "code",
   "execution_count": 41,
   "metadata": {},
   "outputs": [
    {
     "name": "stdout",
     "output_type": "stream",
     "text": [
      "('Accuracy: ', 0.7865052794231264)\n",
      "---Classification Report---\n",
      "             precision    recall  f1-score   support\n",
      "\n",
      "          0       0.98      0.79      0.88      3693\n",
      "          1       0.15      0.75      0.26       190\n",
      "\n",
      "avg / total       0.94      0.79      0.85      3883\n",
      "\n",
      "AUROC :0.7679436202203316\n"
     ]
    }
   ],
   "source": [
    "xgb1 = xgb.XGBClassifier(\n",
    " learning_rate =0.1,\n",
    " n_estimators=1000,\n",
    " max_depth=2,\n",
    " min_child_weight=5,\n",
    " gamma=0,\n",
    " subsample=0.8,\n",
    " colsample_bytree=0.9,\n",
    " objective= 'binary:logistic',\n",
    " nthread=4,\n",
    " scale_pos_weight=18,\n",
    " seed=27)\n",
    "modelfit(xgb1)"
   ]
  },
  {
   "cell_type": "code",
   "execution_count": 42,
   "metadata": {},
   "outputs": [
    {
     "name": "stderr",
     "output_type": "stream",
     "text": [
      "/home/gonzalodiz/anaconda2/lib/python2.7/site-packages/sklearn/model_selection/_search.py:762: DeprecationWarning: The grid_scores_ attribute was deprecated in version 0.18 in favor of the more elaborate cv_results_ attribute. The grid_scores_ attribute will not be available from 0.20\n",
      "  DeprecationWarning)\n"
     ]
    },
    {
     "data": {
      "text/plain": [
       "([mean: 0.82993, std: 0.00955, params: {'reg_alpha': 1e-05},\n",
       "  mean: 0.83033, std: 0.00974, params: {'reg_alpha': 0.01},\n",
       "  mean: 0.82997, std: 0.00976, params: {'reg_alpha': 0.1},\n",
       "  mean: 0.82967, std: 0.00999, params: {'reg_alpha': 1},\n",
       "  mean: 0.83323, std: 0.00994, params: {'reg_alpha': 100}],\n",
       " {'reg_alpha': 100},\n",
       " 0.8332269153677311)"
      ]
     },
     "execution_count": 42,
     "metadata": {},
     "output_type": "execute_result"
    }
   ],
   "source": [
    "param_test6 = {\n",
    " 'reg_alpha':[1e-5, 1e-2, 0.1, 1, 100]\n",
    "}\n",
    "\n",
    "gsearch6 = GridSearch(estimator = xgb.XGBClassifier( learning_rate =0.1, n_estimators=140, max_depth=2,\n",
    "min_child_weight=5, gamma=0, subsample=0.8, colsample_bytree=0.9,\n",
    "objective= 'binary:logistic', nthread=4, scale_pos_weight=18,seed=27), \n",
    "param_grid = param_test6, scoring='roc_auc',n_jobs=4,iid=False, cv=5)\n",
    "gsearch6.fit(X_train,y_train)\n",
    "gsearch6.grid_scores_, gsearch6.best_params_, gsearch6.best_score_"
   ]
  },
  {
   "cell_type": "code",
   "execution_count": 45,
   "metadata": {},
   "outputs": [
    {
     "name": "stderr",
     "output_type": "stream",
     "text": [
      "/home/gonzalodiz/anaconda2/lib/python2.7/site-packages/sklearn/model_selection/_search.py:762: DeprecationWarning: The grid_scores_ attribute was deprecated in version 0.18 in favor of the more elaborate cv_results_ attribute. The grid_scores_ attribute will not be available from 0.20\n",
      "  DeprecationWarning)\n"
     ]
    },
    {
     "data": {
      "text/plain": [
       "([mean: 0.83323, std: 0.00994, params: {'reg_alpha': 100},\n",
       "  mean: 0.83352, std: 0.01065, params: {'reg_alpha': 120}],\n",
       " {'reg_alpha': 120},\n",
       " 0.8332269153677311)"
      ]
     },
     "execution_count": 45,
     "metadata": {},
     "output_type": "execute_result"
    }
   ],
   "source": [
    "param_test7 = {\n",
    "    'reg_alpha':[100,120]\n",
    "}\n",
    "\n",
    "gsearch7 = GridSearch(estimator = xgb.XGBClassifier( learning_rate =0.1, n_estimators=140, max_depth=2,\n",
    "min_child_weight=3, gamma=0, subsample=0.8, colsample_bytree=0.9,\n",
    "objective= 'binary:logistic', nthread=4, scale_pos_weight=18,seed=27), \n",
    "param_grid = param_test7, scoring='roc_auc',n_jobs=4,iid=False, cv=5)\n",
    "gsearch7.fit(X_train,y_train)\n",
    "gsearch7.grid_scores_, gsearch7.best_params_, gsearch6.best_score_"
   ]
  },
  {
   "cell_type": "code",
   "execution_count": 46,
   "metadata": {},
   "outputs": [
    {
     "name": "stderr",
     "output_type": "stream",
     "text": [
      "/home/gonzalodiz/anaconda2/lib/python2.7/site-packages/sklearn/model_selection/_search.py:762: DeprecationWarning: The grid_scores_ attribute was deprecated in version 0.18 in favor of the more elaborate cv_results_ attribute. The grid_scores_ attribute will not be available from 0.20\n",
      "  DeprecationWarning)\n"
     ]
    },
    {
     "data": {
      "text/plain": [
       "([mean: 0.50000, std: 0.00000, params: {'learning_rate': 0},\n",
       "  mean: 0.81517, std: 0.00731, params: {'learning_rate': 0.001},\n",
       "  mean: 0.82684, std: 0.01067, params: {'learning_rate': 0.01},\n",
       "  mean: 0.83323, std: 0.00994, params: {'learning_rate': 0.1},\n",
       "  mean: 0.83217, std: 0.01041, params: {'learning_rate': 0.2}],\n",
       " {'learning_rate': 0.1},\n",
       " 0.8332269153677311)"
      ]
     },
     "execution_count": 46,
     "metadata": {},
     "output_type": "execute_result"
    }
   ],
   "source": [
    "param_test8 = {\n",
    "    'learning_rate':[0, 0.001, 0.01, 0.1, 0.2]\n",
    "}\n",
    "\n",
    "gsearch8 = GridSearch(estimator = xgb.XGBClassifier( learning_rate =0.1, n_estimators=140, max_depth=2,\n",
    "min_child_weight=5, gamma=0, subsample=0.8, colsample_bytree=0.9, reg_alpha=100,\n",
    "objective= 'binary:logistic', nthread=4, scale_pos_weight=18,seed=27), \n",
    "param_grid = param_test8, scoring='roc_auc',n_jobs=4,iid=False, cv=5)\n",
    "gsearch8.fit(X_train,y_train)\n",
    "gsearch8.grid_scores_, gsearch8.best_params_, gsearch8.best_score_"
   ]
  },
  {
   "cell_type": "code",
   "execution_count": null,
   "metadata": {},
   "outputs": [],
   "source": [
    "param_test8 = {\n",
    "    'learning_rate':[0, 0.0001, 0.001]\n",
    "}\n",
    "\n",
    "gsearch8 = GridSearch(estimator = xgb.XGBClassifier( learning_rate =0.1, n_estimators=140, max_depth=7,\n",
    "min_child_weight=3, gamma=0.3, subsample=0.6, colsample_bytree=0.45,\n",
    "objective= 'binary:logistic', nthread=4, scale_pos_weight=18,seed=27), \n",
    "param_grid = param_test8, scoring='f1',n_jobs=4,iid=False, cv=5)\n",
    "gsearch8.fit(X_train,y_train)\n",
    "gsearch8.grid_scores_, gsearch8.best_params_, gsearch8.best_score_"
   ]
  },
  {
   "cell_type": "code",
   "execution_count": 167,
   "metadata": {},
   "outputs": [],
   "source": [
    "X_train, X_test, y_train, y_test = train_test_split(x,y, test_size=0.20)"
   ]
  },
  {
   "cell_type": "code",
   "execution_count": 172,
   "metadata": {
    "scrolled": true
   },
   "outputs": [
    {
     "name": "stdout",
     "output_type": "stream",
     "text": [
      "('Accuracy: ', 0.7414370332217358)\n",
      "---Classification Report---\n",
      "             precision    recall  f1-score   support\n",
      "\n",
      "          0       0.98      0.74      0.84      3685\n",
      "          1       0.14      0.77      0.23       198\n",
      "\n",
      "avg / total       0.94      0.74      0.81      3883\n",
      "\n",
      "AUROC :0.7538519523594149\n"
     ]
    }
   ],
   "source": [
    "xgb1 = xgb.XGBClassifier(\n",
    " learning_rate =0.1,\n",
    " n_estimators=1000,\n",
    " max_depth=18,\n",
    " min_child_weight=5,\n",
    " gamma=0,\n",
    " subsample=0.8,\n",
    " colsample_bytree=0.9,\n",
    " reg_alpha=100,\n",
    " objective= 'binary:logistic',\n",
    " nthread=-1,\n",
    " scale_pos_weight=18,\n",
    " seed=27)\n",
    "modelfit(xgb1)"
   ]
  },
  {
   "cell_type": "code",
   "execution_count": 177,
   "metadata": {},
   "outputs": [],
   "source": [
    "xgb1.fit(x,y, eval_metric='aucpr')\n",
    "pred = (xgb1.predict_proba(z)[:,1])"
   ]
  },
  {
   "cell_type": "code",
   "execution_count": 178,
   "metadata": {},
   "outputs": [
    {
     "name": "stdout",
     "output_type": "stream",
     "text": [
      "Cantidad de no conversiones: 17337\n",
      "Cantidad de conversiones: 2078\n"
     ]
    }
   ],
   "source": [
    "persons = test_set['person']\n",
    "submit = pd.DataFrame({'label': pred, 'person': persons})\n",
    "submit = submit[['person', 'label']]\n",
    "submit.to_csv('../submits/xgboost.csv', index=False)\n",
    "no_conversiones = submit.loc[submit['label'] < 0.5]['label'].count()\n",
    "print 'Cantidad de no conversiones: ' + str(no_conversiones)\n",
    "\n",
    "conversiones = submit.loc[submit['label'] >= 0.5]['label'].count()\n",
    "print 'Cantidad de conversiones: ' + str(conversiones)"
   ]
  },
  {
   "cell_type": "code",
   "execution_count": 179,
   "metadata": {},
   "outputs": [
    {
     "data": {
      "text/plain": [
       "0.14328482747077942"
      ]
     },
     "execution_count": 179,
     "metadata": {},
     "output_type": "execute_result"
    }
   ],
   "source": [
    "submit['label'].mean()"
   ]
  },
  {
   "cell_type": "markdown",
   "metadata": {},
   "source": [
    "## RANDOM FOREST"
   ]
  },
  {
   "cell_type": "code",
   "execution_count": 283,
   "metadata": {},
   "outputs": [
    {
     "data": {
      "text/plain": [
       "RandomForestClassifier(bootstrap=True, class_weight=None, criterion='gini',\n",
       "            max_depth=None, max_features='auto', max_leaf_nodes=None,\n",
       "            min_impurity_decrease=0.0, min_impurity_split=None,\n",
       "            min_samples_leaf=1, min_samples_split=2,\n",
       "            min_weight_fraction_leaf=0.0, n_estimators=100, n_jobs=1,\n",
       "            oob_score=False, random_state=None, verbose=0,\n",
       "            warm_start=False)"
      ]
     },
     "execution_count": 283,
     "metadata": {},
     "output_type": "execute_result"
    }
   ],
   "source": [
    "from sklearn.ensemble import RandomForestClassifier\n",
    "\n",
    "clf = RandomForestClassifier(n_estimators = 100, )\n",
    "clf.fit(X_train, y_train)"
   ]
  },
  {
   "cell_type": "code",
   "execution_count": 284,
   "metadata": {},
   "outputs": [],
   "source": [
    "pred = clf.predict_proba(X_test)[:,1]"
   ]
  },
  {
   "cell_type": "code",
   "execution_count": null,
   "metadata": {},
   "outputs": [],
   "source": [
    "cantidad_unos = 0\n",
    "cantidad_ceros = 0\n",
    "for i in xrange(0,pred.size):\n",
    "        if (pred[i] >= 0.5):\n",
    "            pred[i] = 1\n",
    "            cantidad_unos += 1\n",
    "        else: \n",
    "            pred[i] = 0\n",
    "            cantidad_ceros += 1\n",
    "            \n",
    "print (accuracy_score(y_test, pred, ))          \n",
    "print (classification_report(y_test, pred))\n",
    "print ('Cantidad de 0 :' + str(cantidad_ceros))\n",
    "print ('Cantidad de 1 :' + str(cantidad_unos))"
   ]
  },
  {
   "cell_type": "code",
   "execution_count": null,
   "metadata": {},
   "outputs": [],
   "source": [
    "pred"
   ]
  },
  {
   "cell_type": "code",
   "execution_count": null,
   "metadata": {},
   "outputs": [],
   "source": [
    "roc_auc_score(y_test,pred)"
   ]
  },
  {
   "cell_type": "code",
   "execution_count": 160,
   "metadata": {},
   "outputs": [
    {
     "name": "stdout",
     "output_type": "stream",
     "text": [
      "{'bootstrap': [True, False], 'min_samples_leaf': [1, 2, 4], 'n_estimators': [200, 400, 600, 800, 1000, 1200, 1400, 1600, 1800, 2000], 'min_samples_split': [2, 5, 10], 'max_features': ['auto', 'sqrt'], 'max_depth': [10, 20, 30, 40, 50, 60, 70, 80, 90, 100, 110, None], 'class_weight': [{0: 1, 1: 25}]}\n"
     ]
    }
   ],
   "source": [
    "from sklearn.model_selection import RandomizedSearchCV\n",
    "# Number of trees in random forest\n",
    "n_estimators = [int(x) for x in np.linspace(start = 200, stop = 2000, num = 10)]\n",
    "# Number of features to consider at every split\n",
    "max_features = ['auto', 'sqrt']\n",
    "# Maximum number of levels in tree\n",
    "max_depth = [int(x) for x in np.linspace(10, 110, num = 11)]\n",
    "max_depth.append(None)\n",
    "# Minimum number of samples required to split a node\n",
    "min_samples_split = [2, 5, 10]\n",
    "# Minimum number of samples required at each leaf node\n",
    "min_samples_leaf = [1, 2, 4]\n",
    "# Method of selecting samples for training each tree\n",
    "bootstrap = [True, False]\n",
    "class_weight=[{0:1, 1:25}]\n",
    "# Create the random grid\n",
    "random_grid = {'n_estimators': n_estimators,\n",
    "               'max_features': max_features,\n",
    "               'max_depth': max_depth,\n",
    "               'min_samples_split': min_samples_split,\n",
    "               'min_samples_leaf': min_samples_leaf,\n",
    "               'bootstrap': bootstrap,\n",
    "               'class_weight': class_weight\n",
    "              }\n",
    "print(random_grid)"
   ]
  },
  {
   "cell_type": "code",
   "execution_count": 166,
   "metadata": {},
   "outputs": [],
   "source": [
    "crf = RandomForestClassifier()\n",
    "crf_random = RandomizedSearchCV(estimator= crf, param_distributions= random_grid,\n",
    "                               n_iter = 100, cv = 3, verbose = 2, random_state=42, n_jobs=-1, scoring='roc_auc')"
   ]
  },
  {
   "cell_type": "code",
   "execution_count": 167,
   "metadata": {},
   "outputs": [
    {
     "name": "stdout",
     "output_type": "stream",
     "text": [
      "Fitting 3 folds for each of 100 candidates, totalling 300 fits\n",
      "[CV] bootstrap=True, min_samples_leaf=1, n_estimators=400, min_samples_split=5, max_features=sqrt, max_depth=30, class_weight={0: 1, 1: 25} \n",
      "[CV] bootstrap=True, min_samples_leaf=1, n_estimators=400, min_samples_split=5, max_features=sqrt, max_depth=30, class_weight={0: 1, 1: 25} \n",
      "[CV] bootstrap=True, min_samples_leaf=1, n_estimators=400, min_samples_split=5, max_features=sqrt, max_depth=30, class_weight={0: 1, 1: 25} \n",
      "[CV] bootstrap=True, min_samples_leaf=1, n_estimators=2000, min_samples_split=5, max_features=sqrt, max_depth=10, class_weight={0: 1, 1: 25} \n",
      "[CV] bootstrap=True, min_samples_leaf=1, n_estimators=2000, min_samples_split=5, max_features=sqrt, max_depth=10, class_weight={0: 1, 1: 25} \n",
      "[CV] bootstrap=True, min_samples_leaf=1, n_estimators=2000, min_samples_split=5, max_features=sqrt, max_depth=10, class_weight={0: 1, 1: 25} \n",
      "[CV] bootstrap=False, min_samples_leaf=2, n_estimators=1200, min_samples_split=5, max_features=sqrt, max_depth=10, class_weight={0: 1, 1: 25} \n",
      "[CV] bootstrap=False, min_samples_leaf=2, n_estimators=1200, min_samples_split=5, max_features=sqrt, max_depth=10, class_weight={0: 1, 1: 25} \n",
      "[CV]  bootstrap=True, min_samples_leaf=1, n_estimators=400, min_samples_split=5, max_features=sqrt, max_depth=30, class_weight={0: 1, 1: 25}, total=   6.2s\n",
      "[CV] bootstrap=False, min_samples_leaf=2, n_estimators=1200, min_samples_split=5, max_features=sqrt, max_depth=10, class_weight={0: 1, 1: 25} \n",
      "[CV]  bootstrap=True, min_samples_leaf=1, n_estimators=400, min_samples_split=5, max_features=sqrt, max_depth=30, class_weight={0: 1, 1: 25}, total=   6.3s\n",
      "[CV] bootstrap=False, min_samples_leaf=4, n_estimators=2000, min_samples_split=2, max_features=auto, max_depth=30, class_weight={0: 1, 1: 25} \n",
      "[CV]  bootstrap=True, min_samples_leaf=1, n_estimators=400, min_samples_split=5, max_features=sqrt, max_depth=30, class_weight={0: 1, 1: 25}, total=   6.4s\n",
      "[CV] bootstrap=False, min_samples_leaf=4, n_estimators=2000, min_samples_split=2, max_features=auto, max_depth=30, class_weight={0: 1, 1: 25} \n",
      "[CV]  bootstrap=False, min_samples_leaf=2, n_estimators=1200, min_samples_split=5, max_features=sqrt, max_depth=10, class_weight={0: 1, 1: 25}, total=  21.5s\n",
      "[CV] bootstrap=False, min_samples_leaf=4, n_estimators=2000, min_samples_split=2, max_features=auto, max_depth=30, class_weight={0: 1, 1: 25} \n",
      "[CV]  bootstrap=False, min_samples_leaf=2, n_estimators=1200, min_samples_split=5, max_features=sqrt, max_depth=10, class_weight={0: 1, 1: 25}, total=  21.5s\n",
      "[CV] bootstrap=True, min_samples_leaf=4, n_estimators=1600, min_samples_split=2, max_features=sqrt, max_depth=10, class_weight={0: 1, 1: 25} \n",
      "[CV]  bootstrap=False, min_samples_leaf=2, n_estimators=1200, min_samples_split=5, max_features=sqrt, max_depth=10, class_weight={0: 1, 1: 25}, total=  21.3s\n",
      "[CV] bootstrap=True, min_samples_leaf=4, n_estimators=1600, min_samples_split=2, max_features=sqrt, max_depth=10, class_weight={0: 1, 1: 25} \n",
      "[CV]  bootstrap=True, min_samples_leaf=1, n_estimators=2000, min_samples_split=5, max_features=sqrt, max_depth=10, class_weight={0: 1, 1: 25}, total=  27.1s\n",
      "[CV] bootstrap=True, min_samples_leaf=4, n_estimators=1600, min_samples_split=2, max_features=sqrt, max_depth=10, class_weight={0: 1, 1: 25} \n",
      "[CV]  bootstrap=True, min_samples_leaf=1, n_estimators=2000, min_samples_split=5, max_features=sqrt, max_depth=10, class_weight={0: 1, 1: 25}, total=  27.7s\n",
      "[CV] bootstrap=False, min_samples_leaf=4, n_estimators=800, min_samples_split=5, max_features=sqrt, max_depth=30, class_weight={0: 1, 1: 25} \n",
      "[CV]  bootstrap=True, min_samples_leaf=1, n_estimators=2000, min_samples_split=5, max_features=sqrt, max_depth=10, class_weight={0: 1, 1: 25}, total=  27.9s\n",
      "[CV] bootstrap=False, min_samples_leaf=4, n_estimators=800, min_samples_split=5, max_features=sqrt, max_depth=30, class_weight={0: 1, 1: 25} \n",
      "[CV]  bootstrap=True, min_samples_leaf=4, n_estimators=1600, min_samples_split=2, max_features=sqrt, max_depth=10, class_weight={0: 1, 1: 25}, total=  21.1s\n",
      "[CV] bootstrap=False, min_samples_leaf=4, n_estimators=800, min_samples_split=5, max_features=sqrt, max_depth=30, class_weight={0: 1, 1: 25} \n",
      "[CV]  bootstrap=False, min_samples_leaf=4, n_estimators=800, min_samples_split=5, max_features=sqrt, max_depth=30, class_weight={0: 1, 1: 25}, total=  15.4s\n",
      "[CV]  bootstrap=False, min_samples_leaf=4, n_estimators=800, min_samples_split=5, max_features=sqrt, max_depth=30, class_weight={0: 1, 1: 25}, total=  15.6s\n",
      "[CV] bootstrap=False, min_samples_leaf=2, n_estimators=1000, min_samples_split=5, max_features=sqrt, max_depth=100, class_weight={0: 1, 1: 25} \n",
      "[CV] bootstrap=False, min_samples_leaf=2, n_estimators=1000, min_samples_split=5, max_features=sqrt, max_depth=100, class_weight={0: 1, 1: 25} \n",
      "[CV]  bootstrap=False, min_samples_leaf=4, n_estimators=2000, min_samples_split=2, max_features=auto, max_depth=30, class_weight={0: 1, 1: 25}, total=  39.6s\n",
      "[CV] bootstrap=False, min_samples_leaf=2, n_estimators=1000, min_samples_split=5, max_features=sqrt, max_depth=100, class_weight={0: 1, 1: 25} \n",
      "[CV]  bootstrap=False, min_samples_leaf=4, n_estimators=2000, min_samples_split=2, max_features=auto, max_depth=30, class_weight={0: 1, 1: 25}, total=  41.4s\n",
      "[CV] bootstrap=False, min_samples_leaf=1, n_estimators=600, min_samples_split=5, max_features=sqrt, max_depth=60, class_weight={0: 1, 1: 25} \n",
      "[CV]  bootstrap=True, min_samples_leaf=4, n_estimators=1600, min_samples_split=2, max_features=sqrt, max_depth=10, class_weight={0: 1, 1: 25}, total=  20.9s\n",
      "[CV] bootstrap=False, min_samples_leaf=1, n_estimators=600, min_samples_split=5, max_features=sqrt, max_depth=60, class_weight={0: 1, 1: 25} \n",
      "[CV]  bootstrap=True, min_samples_leaf=4, n_estimators=1600, min_samples_split=2, max_features=sqrt, max_depth=10, class_weight={0: 1, 1: 25}, total=  20.9s\n",
      "[CV] bootstrap=False, min_samples_leaf=1, n_estimators=600, min_samples_split=5, max_features=sqrt, max_depth=60, class_weight={0: 1, 1: 25} \n",
      "[CV]  bootstrap=False, min_samples_leaf=4, n_estimators=800, min_samples_split=5, max_features=sqrt, max_depth=30, class_weight={0: 1, 1: 25}, total=  16.4s\n",
      "[CV] bootstrap=False, min_samples_leaf=1, n_estimators=1000, min_samples_split=2, max_features=auto, max_depth=50, class_weight={0: 1, 1: 25} \n",
      "[CV]  bootstrap=False, min_samples_leaf=1, n_estimators=600, min_samples_split=5, max_features=sqrt, max_depth=60, class_weight={0: 1, 1: 25}, total=  12.8s\n",
      "[CV] bootstrap=False, min_samples_leaf=1, n_estimators=1000, min_samples_split=2, max_features=auto, max_depth=50, class_weight={0: 1, 1: 25} \n",
      "[CV]  bootstrap=False, min_samples_leaf=4, n_estimators=2000, min_samples_split=2, max_features=auto, max_depth=30, class_weight={0: 1, 1: 25}, total=  39.8s\n",
      "[CV] bootstrap=False, min_samples_leaf=1, n_estimators=1000, min_samples_split=2, max_features=auto, max_depth=50, class_weight={0: 1, 1: 25} \n",
      "[CV]  bootstrap=False, min_samples_leaf=1, n_estimators=600, min_samples_split=5, max_features=sqrt, max_depth=60, class_weight={0: 1, 1: 25}, total=  12.6s\n",
      "[CV] bootstrap=False, min_samples_leaf=4, n_estimators=1800, min_samples_split=5, max_features=auto, max_depth=10, class_weight={0: 1, 1: 25} \n",
      "[CV]  bootstrap=False, min_samples_leaf=1, n_estimators=600, min_samples_split=5, max_features=sqrt, max_depth=60, class_weight={0: 1, 1: 25}, total=  13.0s\n",
      "[CV] bootstrap=False, min_samples_leaf=4, n_estimators=1800, min_samples_split=5, max_features=auto, max_depth=10, class_weight={0: 1, 1: 25} \n",
      "[CV]  bootstrap=False, min_samples_leaf=2, n_estimators=1000, min_samples_split=5, max_features=sqrt, max_depth=100, class_weight={0: 1, 1: 25}, total=  20.9s\n",
      "[CV] bootstrap=False, min_samples_leaf=4, n_estimators=1800, min_samples_split=5, max_features=auto, max_depth=10, class_weight={0: 1, 1: 25} \n",
      "[CV]  bootstrap=False, min_samples_leaf=2, n_estimators=1000, min_samples_split=5, max_features=sqrt, max_depth=100, class_weight={0: 1, 1: 25}, total=  21.1s\n",
      "[CV] bootstrap=True, min_samples_leaf=4, n_estimators=400, min_samples_split=10, max_features=auto, max_depth=70, class_weight={0: 1, 1: 25} \n",
      "[CV]  bootstrap=False, min_samples_leaf=2, n_estimators=1000, min_samples_split=5, max_features=sqrt, max_depth=100, class_weight={0: 1, 1: 25}, total=  21.3s\n"
     ]
    },
    {
     "name": "stdout",
     "output_type": "stream",
     "text": [
      "[CV] bootstrap=True, min_samples_leaf=4, n_estimators=400, min_samples_split=10, max_features=auto, max_depth=70, class_weight={0: 1, 1: 25} \n",
      "[CV]  bootstrap=True, min_samples_leaf=4, n_estimators=400, min_samples_split=10, max_features=auto, max_depth=70, class_weight={0: 1, 1: 25}, total=   5.7s\n",
      "[CV] bootstrap=True, min_samples_leaf=4, n_estimators=400, min_samples_split=10, max_features=auto, max_depth=70, class_weight={0: 1, 1: 25} \n"
     ]
    },
    {
     "name": "stderr",
     "output_type": "stream",
     "text": [
      "[Parallel(n_jobs=-1)]: Done  25 tasks      | elapsed:  1.3min\n"
     ]
    },
    {
     "name": "stdout",
     "output_type": "stream",
     "text": [
      "[CV]  bootstrap=True, min_samples_leaf=4, n_estimators=400, min_samples_split=10, max_features=auto, max_depth=70, class_weight={0: 1, 1: 25}, total=   5.6s\n",
      "[CV] bootstrap=False, min_samples_leaf=1, n_estimators=800, min_samples_split=5, max_features=sqrt, max_depth=90, class_weight={0: 1, 1: 25} \n",
      "[CV]  bootstrap=True, min_samples_leaf=4, n_estimators=400, min_samples_split=10, max_features=auto, max_depth=70, class_weight={0: 1, 1: 25}, total=   5.7s\n",
      "[CV] bootstrap=False, min_samples_leaf=1, n_estimators=800, min_samples_split=5, max_features=sqrt, max_depth=90, class_weight={0: 1, 1: 25} \n",
      "[CV]  bootstrap=False, min_samples_leaf=1, n_estimators=1000, min_samples_split=2, max_features=auto, max_depth=50, class_weight={0: 1, 1: 25}, total=  21.7s\n",
      "[CV] bootstrap=False, min_samples_leaf=1, n_estimators=800, min_samples_split=5, max_features=sqrt, max_depth=90, class_weight={0: 1, 1: 25} \n",
      "[CV]  bootstrap=False, min_samples_leaf=1, n_estimators=1000, min_samples_split=2, max_features=auto, max_depth=50, class_weight={0: 1, 1: 25}, total=  21.1s\n",
      "[CV] bootstrap=False, min_samples_leaf=1, n_estimators=2000, min_samples_split=10, max_features=sqrt, max_depth=10, class_weight={0: 1, 1: 25} \n",
      "[CV]  bootstrap=False, min_samples_leaf=1, n_estimators=1000, min_samples_split=2, max_features=auto, max_depth=50, class_weight={0: 1, 1: 25}, total=  21.7s\n",
      "[CV] bootstrap=False, min_samples_leaf=1, n_estimators=2000, min_samples_split=10, max_features=sqrt, max_depth=10, class_weight={0: 1, 1: 25} \n",
      "[CV]  bootstrap=False, min_samples_leaf=1, n_estimators=800, min_samples_split=5, max_features=sqrt, max_depth=90, class_weight={0: 1, 1: 25}, total=  17.0s\n",
      "[CV] bootstrap=False, min_samples_leaf=1, n_estimators=2000, min_samples_split=10, max_features=sqrt, max_depth=10, class_weight={0: 1, 1: 25} \n",
      "[CV]  bootstrap=False, min_samples_leaf=4, n_estimators=1800, min_samples_split=5, max_features=auto, max_depth=10, class_weight={0: 1, 1: 25}, total=  30.9s\n",
      "[CV] bootstrap=False, min_samples_leaf=2, n_estimators=1600, min_samples_split=5, max_features=sqrt, max_depth=10, class_weight={0: 1, 1: 25} \n",
      "[CV]  bootstrap=False, min_samples_leaf=1, n_estimators=800, min_samples_split=5, max_features=sqrt, max_depth=90, class_weight={0: 1, 1: 25}, total=  16.6s\n",
      "[CV] bootstrap=False, min_samples_leaf=2, n_estimators=1600, min_samples_split=5, max_features=sqrt, max_depth=10, class_weight={0: 1, 1: 25} \n",
      "[CV]  bootstrap=False, min_samples_leaf=4, n_estimators=1800, min_samples_split=5, max_features=auto, max_depth=10, class_weight={0: 1, 1: 25}, total=  31.8s\n",
      "[CV] bootstrap=False, min_samples_leaf=2, n_estimators=1600, min_samples_split=5, max_features=sqrt, max_depth=10, class_weight={0: 1, 1: 25} \n",
      "[CV]  bootstrap=False, min_samples_leaf=4, n_estimators=1800, min_samples_split=5, max_features=auto, max_depth=10, class_weight={0: 1, 1: 25}, total=  31.1s\n",
      "[CV] bootstrap=False, min_samples_leaf=2, n_estimators=800, min_samples_split=10, max_features=sqrt, max_depth=30, class_weight={0: 1, 1: 25} \n",
      "[CV]  bootstrap=False, min_samples_leaf=1, n_estimators=800, min_samples_split=5, max_features=sqrt, max_depth=90, class_weight={0: 1, 1: 25}, total=  16.9s\n",
      "[CV] bootstrap=False, min_samples_leaf=2, n_estimators=800, min_samples_split=10, max_features=sqrt, max_depth=30, class_weight={0: 1, 1: 25} \n",
      "[CV]  bootstrap=False, min_samples_leaf=2, n_estimators=800, min_samples_split=10, max_features=sqrt, max_depth=30, class_weight={0: 1, 1: 25}, total=  16.3s\n",
      "[CV] bootstrap=False, min_samples_leaf=2, n_estimators=800, min_samples_split=10, max_features=sqrt, max_depth=30, class_weight={0: 1, 1: 25} \n",
      "[CV]  bootstrap=False, min_samples_leaf=2, n_estimators=800, min_samples_split=10, max_features=sqrt, max_depth=30, class_weight={0: 1, 1: 25}, total=  15.8s\n",
      "[CV] bootstrap=False, min_samples_leaf=4, n_estimators=1800, min_samples_split=2, max_features=auto, max_depth=50, class_weight={0: 1, 1: 25} \n",
      "[CV]  bootstrap=False, min_samples_leaf=1, n_estimators=2000, min_samples_split=10, max_features=sqrt, max_depth=10, class_weight={0: 1, 1: 25}, total=  34.6s\n",
      "[CV] bootstrap=False, min_samples_leaf=4, n_estimators=1800, min_samples_split=2, max_features=auto, max_depth=50, class_weight={0: 1, 1: 25} \n",
      "[CV]  bootstrap=False, min_samples_leaf=1, n_estimators=2000, min_samples_split=10, max_features=sqrt, max_depth=10, class_weight={0: 1, 1: 25}, total=  34.9s\n",
      "[CV] bootstrap=False, min_samples_leaf=4, n_estimators=1800, min_samples_split=2, max_features=auto, max_depth=50, class_weight={0: 1, 1: 25} \n",
      "[CV]  bootstrap=False, min_samples_leaf=2, n_estimators=1600, min_samples_split=5, max_features=sqrt, max_depth=10, class_weight={0: 1, 1: 25}, total=  27.7s\n",
      "[CV] bootstrap=False, min_samples_leaf=2, n_estimators=600, min_samples_split=5, max_features=auto, max_depth=70, class_weight={0: 1, 1: 25} \n",
      "[CV]  bootstrap=False, min_samples_leaf=2, n_estimators=1600, min_samples_split=5, max_features=sqrt, max_depth=10, class_weight={0: 1, 1: 25}, total=  27.7s\n",
      "[CV] bootstrap=False, min_samples_leaf=2, n_estimators=600, min_samples_split=5, max_features=auto, max_depth=70, class_weight={0: 1, 1: 25} \n",
      "[CV]  bootstrap=False, min_samples_leaf=2, n_estimators=1600, min_samples_split=5, max_features=sqrt, max_depth=10, class_weight={0: 1, 1: 25}, total=  27.8s\n",
      "[CV] bootstrap=False, min_samples_leaf=2, n_estimators=600, min_samples_split=5, max_features=auto, max_depth=70, class_weight={0: 1, 1: 25} \n",
      "[CV]  bootstrap=False, min_samples_leaf=1, n_estimators=2000, min_samples_split=10, max_features=sqrt, max_depth=10, class_weight={0: 1, 1: 25}, total=  34.7s\n",
      "[CV] bootstrap=True, min_samples_leaf=1, n_estimators=1000, min_samples_split=2, max_features=sqrt, max_depth=20, class_weight={0: 1, 1: 25} \n",
      "[CV]  bootstrap=False, min_samples_leaf=2, n_estimators=800, min_samples_split=10, max_features=sqrt, max_depth=30, class_weight={0: 1, 1: 25}, total=  16.3s\n",
      "[CV] bootstrap=True, min_samples_leaf=1, n_estimators=1000, min_samples_split=2, max_features=sqrt, max_depth=20, class_weight={0: 1, 1: 25} \n",
      "[CV]  bootstrap=False, min_samples_leaf=2, n_estimators=600, min_samples_split=5, max_features=auto, max_depth=70, class_weight={0: 1, 1: 25}, total=  12.4s\n",
      "[CV] bootstrap=True, min_samples_leaf=1, n_estimators=1000, min_samples_split=2, max_features=sqrt, max_depth=20, class_weight={0: 1, 1: 25} \n",
      "[CV]  bootstrap=False, min_samples_leaf=2, n_estimators=600, min_samples_split=5, max_features=auto, max_depth=70, class_weight={0: 1, 1: 25}, total=  12.2s\n",
      "[CV] bootstrap=False, min_samples_leaf=2, n_estimators=1800, min_samples_split=10, max_features=auto, max_depth=110, class_weight={0: 1, 1: 25} \n",
      "[CV]  bootstrap=False, min_samples_leaf=2, n_estimators=600, min_samples_split=5, max_features=auto, max_depth=70, class_weight={0: 1, 1: 25}, total=  12.5s\n",
      "[CV] bootstrap=False, min_samples_leaf=2, n_estimators=1800, min_samples_split=10, max_features=auto, max_depth=110, class_weight={0: 1, 1: 25} \n",
      "[CV]  bootstrap=True, min_samples_leaf=1, n_estimators=1000, min_samples_split=2, max_features=sqrt, max_depth=20, class_weight={0: 1, 1: 25}, total=  15.3s\n",
      "[CV] bootstrap=False, min_samples_leaf=2, n_estimators=1800, min_samples_split=10, max_features=auto, max_depth=110, class_weight={0: 1, 1: 25} \n",
      "[CV]  bootstrap=True, min_samples_leaf=1, n_estimators=1000, min_samples_split=2, max_features=sqrt, max_depth=20, class_weight={0: 1, 1: 25}, total=  15.1s\n",
      "[CV] bootstrap=True, min_samples_leaf=1, n_estimators=600, min_samples_split=5, max_features=auto, max_depth=80, class_weight={0: 1, 1: 25} \n",
      "[CV]  bootstrap=True, min_samples_leaf=1, n_estimators=1000, min_samples_split=2, max_features=sqrt, max_depth=20, class_weight={0: 1, 1: 25}, total=  15.4s\n",
      "[CV] bootstrap=True, min_samples_leaf=1, n_estimators=600, min_samples_split=5, max_features=auto, max_depth=80, class_weight={0: 1, 1: 25} \n",
      "[CV]  bootstrap=False, min_samples_leaf=4, n_estimators=1800, min_samples_split=2, max_features=auto, max_depth=50, class_weight={0: 1, 1: 25}, total=  36.1s\n",
      "[CV] bootstrap=True, min_samples_leaf=1, n_estimators=600, min_samples_split=5, max_features=auto, max_depth=80, class_weight={0: 1, 1: 25} \n",
      "[CV]  bootstrap=False, min_samples_leaf=4, n_estimators=1800, min_samples_split=2, max_features=auto, max_depth=50, class_weight={0: 1, 1: 25}, total=  35.1s\n"
     ]
    },
    {
     "name": "stdout",
     "output_type": "stream",
     "text": [
      "[CV] bootstrap=False, min_samples_leaf=1, n_estimators=1800, min_samples_split=10, max_features=sqrt, max_depth=30, class_weight={0: 1, 1: 25} \n",
      "[CV]  bootstrap=True, min_samples_leaf=1, n_estimators=600, min_samples_split=5, max_features=auto, max_depth=80, class_weight={0: 1, 1: 25}, total=   9.1s\n",
      "[CV] bootstrap=False, min_samples_leaf=1, n_estimators=1800, min_samples_split=10, max_features=sqrt, max_depth=30, class_weight={0: 1, 1: 25} \n",
      "[CV]  bootstrap=False, min_samples_leaf=4, n_estimators=1800, min_samples_split=2, max_features=auto, max_depth=50, class_weight={0: 1, 1: 25}, total=  36.1s\n",
      "[CV] bootstrap=False, min_samples_leaf=1, n_estimators=1800, min_samples_split=10, max_features=sqrt, max_depth=30, class_weight={0: 1, 1: 25} \n",
      "[CV]  bootstrap=True, min_samples_leaf=1, n_estimators=600, min_samples_split=5, max_features=auto, max_depth=80, class_weight={0: 1, 1: 25}, total=   9.2s\n",
      "[CV] bootstrap=False, min_samples_leaf=1, n_estimators=1600, min_samples_split=5, max_features=sqrt, max_depth=70, class_weight={0: 1, 1: 25} \n",
      "[CV]  bootstrap=True, min_samples_leaf=1, n_estimators=600, min_samples_split=5, max_features=auto, max_depth=80, class_weight={0: 1, 1: 25}, total=   9.1s\n",
      "[CV] bootstrap=False, min_samples_leaf=1, n_estimators=1600, min_samples_split=5, max_features=sqrt, max_depth=70, class_weight={0: 1, 1: 25} \n",
      "[CV]  bootstrap=False, min_samples_leaf=2, n_estimators=1800, min_samples_split=10, max_features=auto, max_depth=110, class_weight={0: 1, 1: 25}, total=  36.9s\n",
      "[CV] bootstrap=False, min_samples_leaf=1, n_estimators=1600, min_samples_split=5, max_features=sqrt, max_depth=70, class_weight={0: 1, 1: 25} \n",
      "[CV]  bootstrap=False, min_samples_leaf=2, n_estimators=1800, min_samples_split=10, max_features=auto, max_depth=110, class_weight={0: 1, 1: 25}, total=  36.4s\n",
      "[CV] bootstrap=True, min_samples_leaf=4, n_estimators=1400, min_samples_split=5, max_features=sqrt, max_depth=80, class_weight={0: 1, 1: 25} \n",
      "[CV]  bootstrap=False, min_samples_leaf=2, n_estimators=1800, min_samples_split=10, max_features=auto, max_depth=110, class_weight={0: 1, 1: 25}, total=  36.9s\n",
      "[CV] bootstrap=True, min_samples_leaf=4, n_estimators=1400, min_samples_split=5, max_features=sqrt, max_depth=80, class_weight={0: 1, 1: 25} \n",
      "[CV]  bootstrap=False, min_samples_leaf=1, n_estimators=1800, min_samples_split=10, max_features=sqrt, max_depth=30, class_weight={0: 1, 1: 25}, total=  37.5s\n",
      "[CV] bootstrap=True, min_samples_leaf=4, n_estimators=1400, min_samples_split=5, max_features=sqrt, max_depth=80, class_weight={0: 1, 1: 25} \n",
      "[CV]  bootstrap=False, min_samples_leaf=1, n_estimators=1800, min_samples_split=10, max_features=sqrt, max_depth=30, class_weight={0: 1, 1: 25}, total=  36.7s\n",
      "[CV] bootstrap=True, min_samples_leaf=2, n_estimators=1800, min_samples_split=2, max_features=auto, max_depth=None, class_weight={0: 1, 1: 25} \n",
      "[CV]  bootstrap=True, min_samples_leaf=4, n_estimators=1400, min_samples_split=5, max_features=sqrt, max_depth=80, class_weight={0: 1, 1: 25}, total=  20.0s\n",
      "[CV] bootstrap=True, min_samples_leaf=2, n_estimators=1800, min_samples_split=2, max_features=auto, max_depth=None, class_weight={0: 1, 1: 25} \n",
      "[CV]  bootstrap=False, min_samples_leaf=1, n_estimators=1800, min_samples_split=10, max_features=sqrt, max_depth=30, class_weight={0: 1, 1: 25}, total=  37.4s\n",
      "[CV] bootstrap=True, min_samples_leaf=2, n_estimators=1800, min_samples_split=2, max_features=auto, max_depth=None, class_weight={0: 1, 1: 25} \n",
      "[CV]  bootstrap=False, min_samples_leaf=1, n_estimators=1600, min_samples_split=5, max_features=sqrt, max_depth=70, class_weight={0: 1, 1: 25}, total=  34.1s\n",
      "[CV] bootstrap=False, min_samples_leaf=1, n_estimators=1400, min_samples_split=5, max_features=sqrt, max_depth=80, class_weight={0: 1, 1: 25} \n",
      "[CV]  bootstrap=False, min_samples_leaf=1, n_estimators=1600, min_samples_split=5, max_features=sqrt, max_depth=70, class_weight={0: 1, 1: 25}, total=  33.3s\n",
      "[CV] bootstrap=False, min_samples_leaf=1, n_estimators=1400, min_samples_split=5, max_features=sqrt, max_depth=80, class_weight={0: 1, 1: 25} \n",
      "[CV]  bootstrap=True, min_samples_leaf=4, n_estimators=1400, min_samples_split=5, max_features=sqrt, max_depth=80, class_weight={0: 1, 1: 25}, total=  20.0s\n",
      "[CV] bootstrap=False, min_samples_leaf=1, n_estimators=1400, min_samples_split=5, max_features=sqrt, max_depth=80, class_weight={0: 1, 1: 25} \n",
      "[CV]  bootstrap=False, min_samples_leaf=1, n_estimators=1600, min_samples_split=5, max_features=sqrt, max_depth=70, class_weight={0: 1, 1: 25}, total=  33.8s\n",
      "[CV] bootstrap=False, min_samples_leaf=1, n_estimators=400, min_samples_split=2, max_features=sqrt, max_depth=None, class_weight={0: 1, 1: 25} \n",
      "[CV]  bootstrap=True, min_samples_leaf=4, n_estimators=1400, min_samples_split=5, max_features=sqrt, max_depth=80, class_weight={0: 1, 1: 25}, total=  20.2s\n",
      "[CV] bootstrap=False, min_samples_leaf=1, n_estimators=400, min_samples_split=2, max_features=sqrt, max_depth=None, class_weight={0: 1, 1: 25} \n",
      "[CV]  bootstrap=False, min_samples_leaf=1, n_estimators=400, min_samples_split=2, max_features=sqrt, max_depth=None, class_weight={0: 1, 1: 25}, total=   8.7s\n",
      "[CV] bootstrap=False, min_samples_leaf=1, n_estimators=400, min_samples_split=2, max_features=sqrt, max_depth=None, class_weight={0: 1, 1: 25} \n",
      "[CV]  bootstrap=True, min_samples_leaf=2, n_estimators=1800, min_samples_split=2, max_features=auto, max_depth=None, class_weight={0: 1, 1: 25}, total=  27.1s\n",
      "[CV] bootstrap=False, min_samples_leaf=1, n_estimators=1400, min_samples_split=2, max_features=auto, max_depth=40, class_weight={0: 1, 1: 25} \n",
      "[CV]  bootstrap=True, min_samples_leaf=2, n_estimators=1800, min_samples_split=2, max_features=auto, max_depth=None, class_weight={0: 1, 1: 25}, total=  26.6s\n",
      "[CV]  bootstrap=False, min_samples_leaf=1, n_estimators=400, min_samples_split=2, max_features=sqrt, max_depth=None, class_weight={0: 1, 1: 25}, total=   8.4s\n",
      "[CV] bootstrap=False, min_samples_leaf=1, n_estimators=1400, min_samples_split=2, max_features=auto, max_depth=40, class_weight={0: 1, 1: 25} \n",
      "[CV] bootstrap=False, min_samples_leaf=1, n_estimators=1400, min_samples_split=2, max_features=auto, max_depth=40, class_weight={0: 1, 1: 25} \n",
      "[CV]  bootstrap=True, min_samples_leaf=2, n_estimators=1800, min_samples_split=2, max_features=auto, max_depth=None, class_weight={0: 1, 1: 25}, total=  27.0s\n",
      "[CV] bootstrap=True, min_samples_leaf=2, n_estimators=1000, min_samples_split=5, max_features=sqrt, max_depth=20, class_weight={0: 1, 1: 25} \n",
      "[CV]  bootstrap=False, min_samples_leaf=1, n_estimators=400, min_samples_split=2, max_features=sqrt, max_depth=None, class_weight={0: 1, 1: 25}, total=   8.7s\n",
      "[CV] bootstrap=True, min_samples_leaf=2, n_estimators=1000, min_samples_split=5, max_features=sqrt, max_depth=20, class_weight={0: 1, 1: 25} \n",
      "[CV]  bootstrap=False, min_samples_leaf=1, n_estimators=1400, min_samples_split=5, max_features=sqrt, max_depth=80, class_weight={0: 1, 1: 25}, total=  28.9s\n",
      "[CV] bootstrap=True, min_samples_leaf=2, n_estimators=1000, min_samples_split=5, max_features=sqrt, max_depth=20, class_weight={0: 1, 1: 25} \n",
      "[CV]  bootstrap=False, min_samples_leaf=1, n_estimators=1400, min_samples_split=5, max_features=sqrt, max_depth=80, class_weight={0: 1, 1: 25}, total=  29.5s\n",
      "[CV] bootstrap=False, min_samples_leaf=4, n_estimators=2000, min_samples_split=10, max_features=auto, max_depth=100, class_weight={0: 1, 1: 25} \n",
      "[CV]  bootstrap=False, min_samples_leaf=1, n_estimators=1400, min_samples_split=5, max_features=sqrt, max_depth=80, class_weight={0: 1, 1: 25}, total=  29.7s\n",
      "[CV] bootstrap=False, min_samples_leaf=4, n_estimators=2000, min_samples_split=10, max_features=auto, max_depth=100, class_weight={0: 1, 1: 25} \n",
      "[CV]  bootstrap=True, min_samples_leaf=2, n_estimators=1000, min_samples_split=5, max_features=sqrt, max_depth=20, class_weight={0: 1, 1: 25}, total=  15.1s\n",
      "[CV] bootstrap=False, min_samples_leaf=4, n_estimators=2000, min_samples_split=10, max_features=auto, max_depth=100, class_weight={0: 1, 1: 25} \n",
      "[CV]  bootstrap=True, min_samples_leaf=2, n_estimators=1000, min_samples_split=5, max_features=sqrt, max_depth=20, class_weight={0: 1, 1: 25}, total=  14.7s\n",
      "[CV] bootstrap=True, min_samples_leaf=2, n_estimators=1200, min_samples_split=2, max_features=sqrt, max_depth=20, class_weight={0: 1, 1: 25} \n"
     ]
    },
    {
     "name": "stdout",
     "output_type": "stream",
     "text": [
      "[CV]  bootstrap=True, min_samples_leaf=2, n_estimators=1000, min_samples_split=5, max_features=sqrt, max_depth=20, class_weight={0: 1, 1: 25}, total=  14.9s\n",
      "[CV] bootstrap=True, min_samples_leaf=2, n_estimators=1200, min_samples_split=2, max_features=sqrt, max_depth=20, class_weight={0: 1, 1: 25} \n",
      "[CV]  bootstrap=False, min_samples_leaf=1, n_estimators=1400, min_samples_split=2, max_features=auto, max_depth=40, class_weight={0: 1, 1: 25}, total=  29.6s\n",
      "[CV] bootstrap=True, min_samples_leaf=2, n_estimators=1200, min_samples_split=2, max_features=sqrt, max_depth=20, class_weight={0: 1, 1: 25} \n",
      "[CV]  bootstrap=False, min_samples_leaf=1, n_estimators=1400, min_samples_split=2, max_features=auto, max_depth=40, class_weight={0: 1, 1: 25}, total=  30.2s\n",
      "[CV] bootstrap=False, min_samples_leaf=4, n_estimators=1200, min_samples_split=10, max_features=sqrt, max_depth=20, class_weight={0: 1, 1: 25} \n",
      "[CV]  bootstrap=False, min_samples_leaf=1, n_estimators=1400, min_samples_split=2, max_features=auto, max_depth=40, class_weight={0: 1, 1: 25}, total=  30.4s\n",
      "[CV] bootstrap=False, min_samples_leaf=4, n_estimators=1200, min_samples_split=10, max_features=sqrt, max_depth=20, class_weight={0: 1, 1: 25} \n",
      "[CV]  bootstrap=True, min_samples_leaf=2, n_estimators=1200, min_samples_split=2, max_features=sqrt, max_depth=20, class_weight={0: 1, 1: 25}, total=  18.0s\n",
      "[CV] bootstrap=False, min_samples_leaf=4, n_estimators=1200, min_samples_split=10, max_features=sqrt, max_depth=20, class_weight={0: 1, 1: 25} \n",
      "[CV]  bootstrap=True, min_samples_leaf=2, n_estimators=1200, min_samples_split=2, max_features=sqrt, max_depth=20, class_weight={0: 1, 1: 25}, total=  17.6s\n",
      "[CV] bootstrap=False, min_samples_leaf=2, n_estimators=800, min_samples_split=2, max_features=sqrt, max_depth=50, class_weight={0: 1, 1: 25} \n",
      "[CV]  bootstrap=False, min_samples_leaf=4, n_estimators=2000, min_samples_split=10, max_features=auto, max_depth=100, class_weight={0: 1, 1: 25}, total=  40.4s\n",
      "[CV] bootstrap=False, min_samples_leaf=2, n_estimators=800, min_samples_split=2, max_features=sqrt, max_depth=50, class_weight={0: 1, 1: 25} \n",
      "[CV]  bootstrap=True, min_samples_leaf=2, n_estimators=1200, min_samples_split=2, max_features=sqrt, max_depth=20, class_weight={0: 1, 1: 25}, total=  17.9s\n",
      "[CV] bootstrap=False, min_samples_leaf=2, n_estimators=800, min_samples_split=2, max_features=sqrt, max_depth=50, class_weight={0: 1, 1: 25} \n",
      "[CV]  bootstrap=False, min_samples_leaf=4, n_estimators=2000, min_samples_split=10, max_features=auto, max_depth=100, class_weight={0: 1, 1: 25}, total=  39.1s\n",
      "[CV] bootstrap=False, min_samples_leaf=1, n_estimators=800, min_samples_split=5, max_features=sqrt, max_depth=100, class_weight={0: 1, 1: 25} \n",
      "[CV]  bootstrap=False, min_samples_leaf=4, n_estimators=1200, min_samples_split=10, max_features=sqrt, max_depth=20, class_weight={0: 1, 1: 25}, total=  23.8s\n",
      "[CV] bootstrap=False, min_samples_leaf=1, n_estimators=800, min_samples_split=5, max_features=sqrt, max_depth=100, class_weight={0: 1, 1: 25} \n",
      "[CV]  bootstrap=False, min_samples_leaf=4, n_estimators=1200, min_samples_split=10, max_features=sqrt, max_depth=20, class_weight={0: 1, 1: 25}, total=  23.3s\n",
      "[CV] bootstrap=False, min_samples_leaf=1, n_estimators=800, min_samples_split=5, max_features=sqrt, max_depth=100, class_weight={0: 1, 1: 25} \n",
      "[CV]  bootstrap=False, min_samples_leaf=2, n_estimators=800, min_samples_split=2, max_features=sqrt, max_depth=50, class_weight={0: 1, 1: 25}, total=  16.7s\n",
      "[CV] bootstrap=True, min_samples_leaf=4, n_estimators=800, min_samples_split=10, max_features=sqrt, max_depth=50, class_weight={0: 1, 1: 25} \n",
      "[CV]  bootstrap=False, min_samples_leaf=4, n_estimators=2000, min_samples_split=10, max_features=auto, max_depth=100, class_weight={0: 1, 1: 25}, total=  39.9s\n",
      "[CV] bootstrap=True, min_samples_leaf=4, n_estimators=800, min_samples_split=10, max_features=sqrt, max_depth=50, class_weight={0: 1, 1: 25} \n",
      "[CV]  bootstrap=False, min_samples_leaf=2, n_estimators=800, min_samples_split=2, max_features=sqrt, max_depth=50, class_weight={0: 1, 1: 25}, total=  16.5s\n",
      "[CV] bootstrap=True, min_samples_leaf=4, n_estimators=800, min_samples_split=10, max_features=sqrt, max_depth=50, class_weight={0: 1, 1: 25} \n",
      "[CV]  bootstrap=False, min_samples_leaf=4, n_estimators=1200, min_samples_split=10, max_features=sqrt, max_depth=20, class_weight={0: 1, 1: 25}, total=  24.1s\n",
      "[CV] bootstrap=True, min_samples_leaf=4, n_estimators=1800, min_samples_split=2, max_features=sqrt, max_depth=90, class_weight={0: 1, 1: 25} \n",
      "[CV]  bootstrap=False, min_samples_leaf=2, n_estimators=800, min_samples_split=2, max_features=sqrt, max_depth=50, class_weight={0: 1, 1: 25}, total=  16.6s\n",
      "[CV] bootstrap=True, min_samples_leaf=4, n_estimators=1800, min_samples_split=2, max_features=sqrt, max_depth=90, class_weight={0: 1, 1: 25} \n",
      "[CV]  bootstrap=False, min_samples_leaf=1, n_estimators=800, min_samples_split=5, max_features=sqrt, max_depth=100, class_weight={0: 1, 1: 25}, total=  17.2s\n",
      "[CV] bootstrap=True, min_samples_leaf=4, n_estimators=1800, min_samples_split=2, max_features=sqrt, max_depth=90, class_weight={0: 1, 1: 25} \n",
      "[CV]  bootstrap=True, min_samples_leaf=4, n_estimators=800, min_samples_split=10, max_features=sqrt, max_depth=50, class_weight={0: 1, 1: 25}, total=  11.6s\n",
      "[CV] bootstrap=False, min_samples_leaf=2, n_estimators=800, min_samples_split=10, max_features=sqrt, max_depth=20, class_weight={0: 1, 1: 25} \n",
      "[CV]  bootstrap=True, min_samples_leaf=4, n_estimators=800, min_samples_split=10, max_features=sqrt, max_depth=50, class_weight={0: 1, 1: 25}, total=  11.5s\n",
      "[CV] bootstrap=False, min_samples_leaf=2, n_estimators=800, min_samples_split=10, max_features=sqrt, max_depth=20, class_weight={0: 1, 1: 25} \n",
      "[CV]  bootstrap=False, min_samples_leaf=1, n_estimators=800, min_samples_split=5, max_features=sqrt, max_depth=100, class_weight={0: 1, 1: 25}, total=  16.8s\n",
      "[CV] bootstrap=False, min_samples_leaf=2, n_estimators=800, min_samples_split=10, max_features=sqrt, max_depth=20, class_weight={0: 1, 1: 25} \n",
      "[CV]  bootstrap=False, min_samples_leaf=1, n_estimators=800, min_samples_split=5, max_features=sqrt, max_depth=100, class_weight={0: 1, 1: 25}, total=  17.1s\n",
      "[CV] bootstrap=True, min_samples_leaf=2, n_estimators=1200, min_samples_split=5, max_features=sqrt, max_depth=20, class_weight={0: 1, 1: 25} \n",
      "[CV]  bootstrap=True, min_samples_leaf=4, n_estimators=800, min_samples_split=10, max_features=sqrt, max_depth=50, class_weight={0: 1, 1: 25}, total=  11.9s\n",
      "[CV] bootstrap=True, min_samples_leaf=2, n_estimators=1200, min_samples_split=5, max_features=sqrt, max_depth=20, class_weight={0: 1, 1: 25} \n",
      "[CV]  bootstrap=False, min_samples_leaf=2, n_estimators=800, min_samples_split=10, max_features=sqrt, max_depth=20, class_weight={0: 1, 1: 25}, total=  16.2s\n",
      "[CV] bootstrap=True, min_samples_leaf=2, n_estimators=1200, min_samples_split=5, max_features=sqrt, max_depth=20, class_weight={0: 1, 1: 25} \n",
      "[CV]  bootstrap=False, min_samples_leaf=2, n_estimators=800, min_samples_split=10, max_features=sqrt, max_depth=20, class_weight={0: 1, 1: 25}, total=  15.9s\n",
      "[CV] bootstrap=True, min_samples_leaf=1, n_estimators=800, min_samples_split=2, max_features=auto, max_depth=100, class_weight={0: 1, 1: 25} \n",
      "[CV]  bootstrap=False, min_samples_leaf=2, n_estimators=800, min_samples_split=10, max_features=sqrt, max_depth=20, class_weight={0: 1, 1: 25}, total=  16.2s\n",
      "[CV] bootstrap=True, min_samples_leaf=1, n_estimators=800, min_samples_split=2, max_features=auto, max_depth=100, class_weight={0: 1, 1: 25} \n",
      "[CV]  bootstrap=True, min_samples_leaf=4, n_estimators=1800, min_samples_split=2, max_features=sqrt, max_depth=90, class_weight={0: 1, 1: 25}, total=  26.1s\n",
      "[CV] bootstrap=True, min_samples_leaf=1, n_estimators=800, min_samples_split=2, max_features=auto, max_depth=100, class_weight={0: 1, 1: 25} \n",
      "[CV]  bootstrap=True, min_samples_leaf=2, n_estimators=1200, min_samples_split=5, max_features=sqrt, max_depth=20, class_weight={0: 1, 1: 25}, total=  17.8s\n",
      "[CV] bootstrap=True, min_samples_leaf=2, n_estimators=800, min_samples_split=5, max_features=auto, max_depth=None, class_weight={0: 1, 1: 25} \n",
      "[CV]  bootstrap=True, min_samples_leaf=4, n_estimators=1800, min_samples_split=2, max_features=sqrt, max_depth=90, class_weight={0: 1, 1: 25}, total=  25.7s\n"
     ]
    },
    {
     "name": "stdout",
     "output_type": "stream",
     "text": [
      "[CV] bootstrap=True, min_samples_leaf=2, n_estimators=800, min_samples_split=5, max_features=auto, max_depth=None, class_weight={0: 1, 1: 25} \n",
      "[CV]  bootstrap=True, min_samples_leaf=2, n_estimators=1200, min_samples_split=5, max_features=sqrt, max_depth=20, class_weight={0: 1, 1: 25}, total=  17.7s\n",
      "[CV] bootstrap=True, min_samples_leaf=2, n_estimators=800, min_samples_split=5, max_features=auto, max_depth=None, class_weight={0: 1, 1: 25} \n",
      "[CV]  bootstrap=True, min_samples_leaf=4, n_estimators=1800, min_samples_split=2, max_features=sqrt, max_depth=90, class_weight={0: 1, 1: 25}, total=  26.1s\n",
      "[CV] bootstrap=True, min_samples_leaf=2, n_estimators=1000, min_samples_split=2, max_features=sqrt, max_depth=60, class_weight={0: 1, 1: 25} \n",
      "[CV]  bootstrap=True, min_samples_leaf=1, n_estimators=800, min_samples_split=2, max_features=auto, max_depth=100, class_weight={0: 1, 1: 25}, total=  12.6s\n",
      "[CV] bootstrap=True, min_samples_leaf=2, n_estimators=1000, min_samples_split=2, max_features=sqrt, max_depth=60, class_weight={0: 1, 1: 25} \n",
      "[CV]  bootstrap=True, min_samples_leaf=1, n_estimators=800, min_samples_split=2, max_features=auto, max_depth=100, class_weight={0: 1, 1: 25}, total=  12.1s\n",
      "[CV] bootstrap=True, min_samples_leaf=2, n_estimators=1000, min_samples_split=2, max_features=sqrt, max_depth=60, class_weight={0: 1, 1: 25} \n",
      "[CV]  bootstrap=True, min_samples_leaf=2, n_estimators=1200, min_samples_split=5, max_features=sqrt, max_depth=20, class_weight={0: 1, 1: 25}, total=  17.9s\n",
      "[CV] bootstrap=True, min_samples_leaf=4, n_estimators=200, min_samples_split=5, max_features=auto, max_depth=10, class_weight={0: 1, 1: 25} \n",
      "[CV]  bootstrap=True, min_samples_leaf=1, n_estimators=800, min_samples_split=2, max_features=auto, max_depth=100, class_weight={0: 1, 1: 25}, total=  12.5s\n",
      "[CV] bootstrap=True, min_samples_leaf=4, n_estimators=200, min_samples_split=5, max_features=auto, max_depth=10, class_weight={0: 1, 1: 25} \n",
      "[CV]  bootstrap=True, min_samples_leaf=2, n_estimators=800, min_samples_split=5, max_features=auto, max_depth=None, class_weight={0: 1, 1: 25}, total=  11.9s\n",
      "[CV] bootstrap=True, min_samples_leaf=4, n_estimators=200, min_samples_split=5, max_features=auto, max_depth=10, class_weight={0: 1, 1: 25} \n",
      "[CV]  bootstrap=True, min_samples_leaf=2, n_estimators=800, min_samples_split=5, max_features=auto, max_depth=None, class_weight={0: 1, 1: 25}, total=  11.8s\n",
      "[CV] bootstrap=True, min_samples_leaf=2, n_estimators=600, min_samples_split=10, max_features=sqrt, max_depth=60, class_weight={0: 1, 1: 25} \n",
      "[CV]  bootstrap=True, min_samples_leaf=4, n_estimators=200, min_samples_split=5, max_features=auto, max_depth=10, class_weight={0: 1, 1: 25}, total=   2.7s\n",
      "[CV] bootstrap=True, min_samples_leaf=2, n_estimators=600, min_samples_split=10, max_features=sqrt, max_depth=60, class_weight={0: 1, 1: 25} \n",
      "[CV]  bootstrap=True, min_samples_leaf=4, n_estimators=200, min_samples_split=5, max_features=auto, max_depth=10, class_weight={0: 1, 1: 25}, total=   2.6s\n",
      "[CV] bootstrap=True, min_samples_leaf=2, n_estimators=600, min_samples_split=10, max_features=sqrt, max_depth=60, class_weight={0: 1, 1: 25} \n",
      "[CV]  bootstrap=True, min_samples_leaf=2, n_estimators=800, min_samples_split=5, max_features=auto, max_depth=None, class_weight={0: 1, 1: 25}, total=  12.0s\n",
      "[CV] bootstrap=True, min_samples_leaf=4, n_estimators=800, min_samples_split=2, max_features=sqrt, max_depth=90, class_weight={0: 1, 1: 25} \n",
      "[CV]  bootstrap=True, min_samples_leaf=4, n_estimators=200, min_samples_split=5, max_features=auto, max_depth=10, class_weight={0: 1, 1: 25}, total=   2.6s\n",
      "[CV] bootstrap=True, min_samples_leaf=4, n_estimators=800, min_samples_split=2, max_features=sqrt, max_depth=90, class_weight={0: 1, 1: 25} \n",
      "[CV]  bootstrap=True, min_samples_leaf=2, n_estimators=1000, min_samples_split=2, max_features=sqrt, max_depth=60, class_weight={0: 1, 1: 25}, total=  15.3s\n",
      "[CV] bootstrap=True, min_samples_leaf=4, n_estimators=800, min_samples_split=2, max_features=sqrt, max_depth=90, class_weight={0: 1, 1: 25} \n",
      "[CV]  bootstrap=True, min_samples_leaf=2, n_estimators=1000, min_samples_split=2, max_features=sqrt, max_depth=60, class_weight={0: 1, 1: 25}, total=  14.9s\n",
      "[CV] bootstrap=True, min_samples_leaf=4, n_estimators=400, min_samples_split=10, max_features=sqrt, max_depth=90, class_weight={0: 1, 1: 25} \n",
      "[CV]  bootstrap=True, min_samples_leaf=2, n_estimators=600, min_samples_split=10, max_features=sqrt, max_depth=60, class_weight={0: 1, 1: 25}, total=   8.9s\n",
      "[CV] bootstrap=True, min_samples_leaf=4, n_estimators=400, min_samples_split=10, max_features=sqrt, max_depth=90, class_weight={0: 1, 1: 25} \n",
      "[CV]  bootstrap=True, min_samples_leaf=2, n_estimators=600, min_samples_split=10, max_features=sqrt, max_depth=60, class_weight={0: 1, 1: 25}, total=   8.7s\n",
      "[CV]  bootstrap=True, min_samples_leaf=2, n_estimators=600, min_samples_split=10, max_features=sqrt, max_depth=60, class_weight={0: 1, 1: 25}, total=   8.7s\n",
      "[CV] bootstrap=True, min_samples_leaf=4, n_estimators=400, min_samples_split=10, max_features=sqrt, max_depth=90, class_weight={0: 1, 1: 25} \n",
      "[CV] bootstrap=False, min_samples_leaf=2, n_estimators=200, min_samples_split=5, max_features=auto, max_depth=90, class_weight={0: 1, 1: 25} \n",
      "[CV]  bootstrap=True, min_samples_leaf=2, n_estimators=1000, min_samples_split=2, max_features=sqrt, max_depth=60, class_weight={0: 1, 1: 25}, total=  15.0s\n",
      "[CV] bootstrap=False, min_samples_leaf=2, n_estimators=200, min_samples_split=5, max_features=auto, max_depth=90, class_weight={0: 1, 1: 25} \n",
      "[CV]  bootstrap=True, min_samples_leaf=4, n_estimators=800, min_samples_split=2, max_features=sqrt, max_depth=90, class_weight={0: 1, 1: 25}, total=  11.6s\n",
      "[CV] bootstrap=False, min_samples_leaf=2, n_estimators=200, min_samples_split=5, max_features=auto, max_depth=90, class_weight={0: 1, 1: 25} \n",
      "[CV]  bootstrap=True, min_samples_leaf=4, n_estimators=800, min_samples_split=2, max_features=sqrt, max_depth=90, class_weight={0: 1, 1: 25}, total=  11.3s\n",
      "[CV] bootstrap=True, min_samples_leaf=1, n_estimators=1000, min_samples_split=2, max_features=sqrt, max_depth=110, class_weight={0: 1, 1: 25} \n",
      "[CV]  bootstrap=False, min_samples_leaf=2, n_estimators=200, min_samples_split=5, max_features=auto, max_depth=90, class_weight={0: 1, 1: 25}, total=   4.2s\n",
      "[CV] bootstrap=True, min_samples_leaf=1, n_estimators=1000, min_samples_split=2, max_features=sqrt, max_depth=110, class_weight={0: 1, 1: 25} \n",
      "[CV]  bootstrap=True, min_samples_leaf=4, n_estimators=400, min_samples_split=10, max_features=sqrt, max_depth=90, class_weight={0: 1, 1: 25}, total=   6.0s\n",
      "[CV] bootstrap=True, min_samples_leaf=1, n_estimators=1000, min_samples_split=2, max_features=sqrt, max_depth=110, class_weight={0: 1, 1: 25} \n",
      "[CV]  bootstrap=True, min_samples_leaf=4, n_estimators=400, min_samples_split=10, max_features=sqrt, max_depth=90, class_weight={0: 1, 1: 25}, total=   5.8s\n",
      "[CV] bootstrap=True, min_samples_leaf=2, n_estimators=2000, min_samples_split=2, max_features=auto, max_depth=90, class_weight={0: 1, 1: 25} \n",
      "[CV]  bootstrap=True, min_samples_leaf=4, n_estimators=400, min_samples_split=10, max_features=sqrt, max_depth=90, class_weight={0: 1, 1: 25}, total=   5.9s\n",
      "[CV] bootstrap=True, min_samples_leaf=2, n_estimators=2000, min_samples_split=2, max_features=auto, max_depth=90, class_weight={0: 1, 1: 25} \n",
      "[CV]  bootstrap=False, min_samples_leaf=2, n_estimators=200, min_samples_split=5, max_features=auto, max_depth=90, class_weight={0: 1, 1: 25}, total=   4.1s\n",
      "[CV] bootstrap=True, min_samples_leaf=2, n_estimators=2000, min_samples_split=2, max_features=auto, max_depth=90, class_weight={0: 1, 1: 25} \n",
      "[CV]  bootstrap=False, min_samples_leaf=2, n_estimators=200, min_samples_split=5, max_features=auto, max_depth=90, class_weight={0: 1, 1: 25}, total=   4.4s\n",
      "[CV] bootstrap=False, min_samples_leaf=4, n_estimators=400, min_samples_split=10, max_features=sqrt, max_depth=80, class_weight={0: 1, 1: 25} \n",
      "[CV]  bootstrap=True, min_samples_leaf=4, n_estimators=800, min_samples_split=2, max_features=sqrt, max_depth=90, class_weight={0: 1, 1: 25}, total=  11.7s\n",
      "[CV] bootstrap=False, min_samples_leaf=4, n_estimators=400, min_samples_split=10, max_features=sqrt, max_depth=80, class_weight={0: 1, 1: 25} \n"
     ]
    },
    {
     "name": "stdout",
     "output_type": "stream",
     "text": [
      "[CV]  bootstrap=False, min_samples_leaf=4, n_estimators=400, min_samples_split=10, max_features=sqrt, max_depth=80, class_weight={0: 1, 1: 25}, total=   8.0s\n",
      "[CV] bootstrap=False, min_samples_leaf=4, n_estimators=400, min_samples_split=10, max_features=sqrt, max_depth=80, class_weight={0: 1, 1: 25} \n",
      "[CV]  bootstrap=False, min_samples_leaf=4, n_estimators=400, min_samples_split=10, max_features=sqrt, max_depth=80, class_weight={0: 1, 1: 25}, total=   7.9s\n",
      "[CV] bootstrap=False, min_samples_leaf=4, n_estimators=1200, min_samples_split=2, max_features=sqrt, max_depth=70, class_weight={0: 1, 1: 25} \n",
      "[CV]  bootstrap=True, min_samples_leaf=1, n_estimators=1000, min_samples_split=2, max_features=sqrt, max_depth=110, class_weight={0: 1, 1: 25}, total=  15.4s\n",
      "[CV] bootstrap=False, min_samples_leaf=4, n_estimators=1200, min_samples_split=2, max_features=sqrt, max_depth=70, class_weight={0: 1, 1: 25} \n",
      "[CV]  bootstrap=True, min_samples_leaf=1, n_estimators=1000, min_samples_split=2, max_features=sqrt, max_depth=110, class_weight={0: 1, 1: 25}, total=  15.5s\n",
      "[CV] bootstrap=False, min_samples_leaf=4, n_estimators=1200, min_samples_split=2, max_features=sqrt, max_depth=70, class_weight={0: 1, 1: 25} \n",
      "[CV]  bootstrap=True, min_samples_leaf=1, n_estimators=1000, min_samples_split=2, max_features=sqrt, max_depth=110, class_weight={0: 1, 1: 25}, total=  15.6s\n",
      "[CV] bootstrap=False, min_samples_leaf=2, n_estimators=600, min_samples_split=2, max_features=sqrt, max_depth=110, class_weight={0: 1, 1: 25} \n",
      "[CV]  bootstrap=False, min_samples_leaf=4, n_estimators=400, min_samples_split=10, max_features=sqrt, max_depth=80, class_weight={0: 1, 1: 25}, total=   7.9s\n",
      "[CV] bootstrap=False, min_samples_leaf=2, n_estimators=600, min_samples_split=2, max_features=sqrt, max_depth=110, class_weight={0: 1, 1: 25} \n",
      "[CV]  bootstrap=False, min_samples_leaf=2, n_estimators=600, min_samples_split=2, max_features=sqrt, max_depth=110, class_weight={0: 1, 1: 25}, total=  12.4s\n",
      "[CV] bootstrap=False, min_samples_leaf=2, n_estimators=600, min_samples_split=2, max_features=sqrt, max_depth=110, class_weight={0: 1, 1: 25} \n",
      "[CV]  bootstrap=False, min_samples_leaf=2, n_estimators=600, min_samples_split=2, max_features=sqrt, max_depth=110, class_weight={0: 1, 1: 25}, total=  12.2s\n",
      "[CV] bootstrap=False, min_samples_leaf=1, n_estimators=1800, min_samples_split=2, max_features=auto, max_depth=20, class_weight={0: 1, 1: 25} \n",
      "[CV]  bootstrap=True, min_samples_leaf=2, n_estimators=2000, min_samples_split=2, max_features=auto, max_depth=90, class_weight={0: 1, 1: 25}, total=  29.5s\n",
      "[CV] bootstrap=False, min_samples_leaf=1, n_estimators=1800, min_samples_split=2, max_features=auto, max_depth=20, class_weight={0: 1, 1: 25} \n",
      "[CV]  bootstrap=True, min_samples_leaf=2, n_estimators=2000, min_samples_split=2, max_features=auto, max_depth=90, class_weight={0: 1, 1: 25}, total=  30.0s\n",
      "[CV] bootstrap=False, min_samples_leaf=1, n_estimators=1800, min_samples_split=2, max_features=auto, max_depth=20, class_weight={0: 1, 1: 25} \n",
      "[CV]  bootstrap=True, min_samples_leaf=2, n_estimators=2000, min_samples_split=2, max_features=auto, max_depth=90, class_weight={0: 1, 1: 25}, total=  30.4s\n",
      "[CV] bootstrap=False, min_samples_leaf=2, n_estimators=2000, min_samples_split=10, max_features=auto, max_depth=50, class_weight={0: 1, 1: 25} \n"
     ]
    },
    {
     "name": "stderr",
     "output_type": "stream",
     "text": [
      "[Parallel(n_jobs=-1)]: Done 146 tasks      | elapsed:  6.7min\n"
     ]
    },
    {
     "name": "stdout",
     "output_type": "stream",
     "text": [
      "[CV]  bootstrap=False, min_samples_leaf=4, n_estimators=1200, min_samples_split=2, max_features=sqrt, max_depth=70, class_weight={0: 1, 1: 25}, total=  23.9s\n",
      "[CV] bootstrap=False, min_samples_leaf=2, n_estimators=2000, min_samples_split=10, max_features=auto, max_depth=50, class_weight={0: 1, 1: 25} \n",
      "[CV]  bootstrap=False, min_samples_leaf=4, n_estimators=1200, min_samples_split=2, max_features=sqrt, max_depth=70, class_weight={0: 1, 1: 25}, total=  23.4s\n",
      "[CV] bootstrap=False, min_samples_leaf=2, n_estimators=2000, min_samples_split=10, max_features=auto, max_depth=50, class_weight={0: 1, 1: 25} \n",
      "[CV]  bootstrap=False, min_samples_leaf=4, n_estimators=1200, min_samples_split=2, max_features=sqrt, max_depth=70, class_weight={0: 1, 1: 25}, total=  24.5s\n",
      "[CV] bootstrap=False, min_samples_leaf=4, n_estimators=1000, min_samples_split=10, max_features=auto, max_depth=50, class_weight={0: 1, 1: 25} \n",
      "[CV]  bootstrap=False, min_samples_leaf=2, n_estimators=600, min_samples_split=2, max_features=sqrt, max_depth=110, class_weight={0: 1, 1: 25}, total=  12.7s\n",
      "[CV] bootstrap=False, min_samples_leaf=4, n_estimators=1000, min_samples_split=10, max_features=auto, max_depth=50, class_weight={0: 1, 1: 25} \n",
      "[CV]  bootstrap=False, min_samples_leaf=4, n_estimators=1000, min_samples_split=10, max_features=auto, max_depth=50, class_weight={0: 1, 1: 25}, total=  19.6s\n",
      "[CV] bootstrap=False, min_samples_leaf=4, n_estimators=1000, min_samples_split=10, max_features=auto, max_depth=50, class_weight={0: 1, 1: 25} \n",
      "[CV]  bootstrap=False, min_samples_leaf=4, n_estimators=1000, min_samples_split=10, max_features=auto, max_depth=50, class_weight={0: 1, 1: 25}, total=  19.1s\n",
      "[CV] bootstrap=False, min_samples_leaf=4, n_estimators=1000, min_samples_split=5, max_features=auto, max_depth=30, class_weight={0: 1, 1: 25} \n",
      "[CV]  bootstrap=False, min_samples_leaf=1, n_estimators=1800, min_samples_split=2, max_features=auto, max_depth=20, class_weight={0: 1, 1: 25}, total=  38.1s\n",
      "[CV] bootstrap=False, min_samples_leaf=4, n_estimators=1000, min_samples_split=5, max_features=auto, max_depth=30, class_weight={0: 1, 1: 25} \n",
      "[CV]  bootstrap=False, min_samples_leaf=1, n_estimators=1800, min_samples_split=2, max_features=auto, max_depth=20, class_weight={0: 1, 1: 25}, total=  37.5s\n",
      "[CV] bootstrap=False, min_samples_leaf=4, n_estimators=1000, min_samples_split=5, max_features=auto, max_depth=30, class_weight={0: 1, 1: 25} \n",
      "[CV]  bootstrap=False, min_samples_leaf=1, n_estimators=1800, min_samples_split=2, max_features=auto, max_depth=20, class_weight={0: 1, 1: 25}, total=  38.8s\n",
      "[CV] bootstrap=False, min_samples_leaf=2, n_estimators=1400, min_samples_split=5, max_features=sqrt, max_depth=None, class_weight={0: 1, 1: 25} \n",
      "[CV]  bootstrap=False, min_samples_leaf=2, n_estimators=2000, min_samples_split=10, max_features=auto, max_depth=50, class_weight={0: 1, 1: 25}, total=  40.9s\n",
      "[CV] bootstrap=False, min_samples_leaf=2, n_estimators=1400, min_samples_split=5, max_features=sqrt, max_depth=None, class_weight={0: 1, 1: 25} \n",
      "[CV]  bootstrap=False, min_samples_leaf=2, n_estimators=2000, min_samples_split=10, max_features=auto, max_depth=50, class_weight={0: 1, 1: 25}, total=  40.0s\n",
      "[CV] bootstrap=False, min_samples_leaf=2, n_estimators=1400, min_samples_split=5, max_features=sqrt, max_depth=None, class_weight={0: 1, 1: 25} \n",
      "[CV]  bootstrap=False, min_samples_leaf=2, n_estimators=2000, min_samples_split=10, max_features=auto, max_depth=50, class_weight={0: 1, 1: 25}, total=  40.5s\n",
      "[CV] bootstrap=False, min_samples_leaf=4, n_estimators=600, min_samples_split=2, max_features=sqrt, max_depth=60, class_weight={0: 1, 1: 25} \n",
      "[CV]  bootstrap=False, min_samples_leaf=4, n_estimators=1000, min_samples_split=10, max_features=auto, max_depth=50, class_weight={0: 1, 1: 25}, total=  19.7s\n",
      "[CV] bootstrap=False, min_samples_leaf=4, n_estimators=600, min_samples_split=2, max_features=sqrt, max_depth=60, class_weight={0: 1, 1: 25} \n",
      "[CV]  bootstrap=False, min_samples_leaf=4, n_estimators=1000, min_samples_split=5, max_features=auto, max_depth=30, class_weight={0: 1, 1: 25}, total=  20.1s\n",
      "[CV] bootstrap=False, min_samples_leaf=4, n_estimators=600, min_samples_split=2, max_features=sqrt, max_depth=60, class_weight={0: 1, 1: 25} \n",
      "[CV]  bootstrap=False, min_samples_leaf=4, n_estimators=1000, min_samples_split=5, max_features=auto, max_depth=30, class_weight={0: 1, 1: 25}, total=  19.4s\n",
      "[CV] bootstrap=True, min_samples_leaf=1, n_estimators=1600, min_samples_split=5, max_features=auto, max_depth=10, class_weight={0: 1, 1: 25} \n",
      "[CV]  bootstrap=False, min_samples_leaf=4, n_estimators=1000, min_samples_split=5, max_features=auto, max_depth=30, class_weight={0: 1, 1: 25}, total=  19.8s\n",
      "[CV] bootstrap=True, min_samples_leaf=1, n_estimators=1600, min_samples_split=5, max_features=auto, max_depth=10, class_weight={0: 1, 1: 25} \n",
      "[CV]  bootstrap=False, min_samples_leaf=4, n_estimators=600, min_samples_split=2, max_features=sqrt, max_depth=60, class_weight={0: 1, 1: 25}, total=  11.9s\n",
      "[CV] bootstrap=True, min_samples_leaf=1, n_estimators=1600, min_samples_split=5, max_features=auto, max_depth=10, class_weight={0: 1, 1: 25} \n",
      "[CV]  bootstrap=False, min_samples_leaf=4, n_estimators=600, min_samples_split=2, max_features=sqrt, max_depth=60, class_weight={0: 1, 1: 25}, total=  11.6s\n",
      "[CV] bootstrap=True, min_samples_leaf=2, n_estimators=1800, min_samples_split=2, max_features=auto, max_depth=80, class_weight={0: 1, 1: 25} \n",
      "[CV]  bootstrap=False, min_samples_leaf=4, n_estimators=600, min_samples_split=2, max_features=sqrt, max_depth=60, class_weight={0: 1, 1: 25}, total=  11.8s\n",
      "[CV] bootstrap=True, min_samples_leaf=2, n_estimators=1800, min_samples_split=2, max_features=auto, max_depth=80, class_weight={0: 1, 1: 25} \n",
      "[CV]  bootstrap=False, min_samples_leaf=2, n_estimators=1400, min_samples_split=5, max_features=sqrt, max_depth=None, class_weight={0: 1, 1: 25}, total=  30.4s\n",
      "[CV] bootstrap=True, min_samples_leaf=2, n_estimators=1800, min_samples_split=2, max_features=auto, max_depth=80, class_weight={0: 1, 1: 25} \n",
      "[CV]  bootstrap=False, min_samples_leaf=2, n_estimators=1400, min_samples_split=5, max_features=sqrt, max_depth=None, class_weight={0: 1, 1: 25}, total=  29.1s\n",
      "[CV] bootstrap=True, min_samples_leaf=1, n_estimators=1400, min_samples_split=2, max_features=auto, max_depth=100, class_weight={0: 1, 1: 25} \n",
      "[CV]  bootstrap=False, min_samples_leaf=2, n_estimators=1400, min_samples_split=5, max_features=sqrt, max_depth=None, class_weight={0: 1, 1: 25}, total=  29.9s\n",
      "[CV] bootstrap=True, min_samples_leaf=1, n_estimators=1400, min_samples_split=2, max_features=auto, max_depth=100, class_weight={0: 1, 1: 25} \n",
      "[CV]  bootstrap=True, min_samples_leaf=1, n_estimators=1600, min_samples_split=5, max_features=auto, max_depth=10, class_weight={0: 1, 1: 25}, total=  23.4s\n",
      "[CV] bootstrap=True, min_samples_leaf=1, n_estimators=1400, min_samples_split=2, max_features=auto, max_depth=100, class_weight={0: 1, 1: 25} \n",
      "[CV]  bootstrap=True, min_samples_leaf=1, n_estimators=1600, min_samples_split=5, max_features=auto, max_depth=10, class_weight={0: 1, 1: 25}, total=  23.5s\n",
      "[CV] bootstrap=True, min_samples_leaf=2, n_estimators=1400, min_samples_split=10, max_features=sqrt, max_depth=80, class_weight={0: 1, 1: 25} \n",
      "[CV]  bootstrap=True, min_samples_leaf=1, n_estimators=1600, min_samples_split=5, max_features=auto, max_depth=10, class_weight={0: 1, 1: 25}, total=  23.5s\n",
      "[CV] bootstrap=True, min_samples_leaf=2, n_estimators=1400, min_samples_split=10, max_features=sqrt, max_depth=80, class_weight={0: 1, 1: 25} \n",
      "[CV]  bootstrap=True, min_samples_leaf=2, n_estimators=1800, min_samples_split=2, max_features=auto, max_depth=80, class_weight={0: 1, 1: 25}, total=  29.0s\n",
      "[CV] bootstrap=True, min_samples_leaf=2, n_estimators=1400, min_samples_split=10, max_features=sqrt, max_depth=80, class_weight={0: 1, 1: 25} \n",
      "[CV]  bootstrap=True, min_samples_leaf=2, n_estimators=1800, min_samples_split=2, max_features=auto, max_depth=80, class_weight={0: 1, 1: 25}, total=  30.0s\n",
      "[CV] bootstrap=True, min_samples_leaf=1, n_estimators=200, min_samples_split=2, max_features=sqrt, max_depth=50, class_weight={0: 1, 1: 25} \n",
      "[CV]  bootstrap=True, min_samples_leaf=1, n_estimators=200, min_samples_split=2, max_features=sqrt, max_depth=50, class_weight={0: 1, 1: 25}, total=   3.5s\n"
     ]
    },
    {
     "name": "stdout",
     "output_type": "stream",
     "text": [
      "[CV] bootstrap=True, min_samples_leaf=1, n_estimators=200, min_samples_split=2, max_features=sqrt, max_depth=50, class_weight={0: 1, 1: 25} \n",
      "[CV]  bootstrap=True, min_samples_leaf=1, n_estimators=1400, min_samples_split=2, max_features=auto, max_depth=100, class_weight={0: 1, 1: 25}, total=  24.4s\n",
      "[CV] bootstrap=True, min_samples_leaf=1, n_estimators=200, min_samples_split=2, max_features=sqrt, max_depth=50, class_weight={0: 1, 1: 25} \n",
      "[CV]  bootstrap=True, min_samples_leaf=1, n_estimators=1400, min_samples_split=2, max_features=auto, max_depth=100, class_weight={0: 1, 1: 25}, total=  23.9s\n",
      "[CV] bootstrap=True, min_samples_leaf=4, n_estimators=400, min_samples_split=2, max_features=sqrt, max_depth=10, class_weight={0: 1, 1: 25} \n",
      "[CV]  bootstrap=True, min_samples_leaf=1, n_estimators=200, min_samples_split=2, max_features=sqrt, max_depth=50, class_weight={0: 1, 1: 25}, total=   3.6s\n",
      "[CV] bootstrap=True, min_samples_leaf=4, n_estimators=400, min_samples_split=2, max_features=sqrt, max_depth=10, class_weight={0: 1, 1: 25} \n",
      "[CV]  bootstrap=True, min_samples_leaf=1, n_estimators=200, min_samples_split=2, max_features=sqrt, max_depth=50, class_weight={0: 1, 1: 25}, total=   3.8s\n",
      "[CV] bootstrap=True, min_samples_leaf=4, n_estimators=400, min_samples_split=2, max_features=sqrt, max_depth=10, class_weight={0: 1, 1: 25} \n",
      "[CV]  bootstrap=True, min_samples_leaf=2, n_estimators=1800, min_samples_split=2, max_features=auto, max_depth=80, class_weight={0: 1, 1: 25}, total=  31.0s\n",
      "[CV] bootstrap=False, min_samples_leaf=4, n_estimators=1000, min_samples_split=10, max_features=auto, max_depth=80, class_weight={0: 1, 1: 25} \n",
      "[CV]  bootstrap=True, min_samples_leaf=4, n_estimators=400, min_samples_split=2, max_features=sqrt, max_depth=10, class_weight={0: 1, 1: 25}, total=   5.9s\n",
      "[CV] bootstrap=False, min_samples_leaf=4, n_estimators=1000, min_samples_split=10, max_features=auto, max_depth=80, class_weight={0: 1, 1: 25} \n",
      "[CV]  bootstrap=True, min_samples_leaf=2, n_estimators=1400, min_samples_split=10, max_features=sqrt, max_depth=80, class_weight={0: 1, 1: 25}, total=  21.9s\n",
      "[CV] bootstrap=False, min_samples_leaf=4, n_estimators=1000, min_samples_split=10, max_features=auto, max_depth=80, class_weight={0: 1, 1: 25} \n",
      "[CV]  bootstrap=True, min_samples_leaf=4, n_estimators=400, min_samples_split=2, max_features=sqrt, max_depth=10, class_weight={0: 1, 1: 25}, total=   5.3s\n",
      "[CV] bootstrap=False, min_samples_leaf=2, n_estimators=1200, min_samples_split=10, max_features=auto, max_depth=None, class_weight={0: 1, 1: 25} \n",
      "[CV]  bootstrap=True, min_samples_leaf=2, n_estimators=1400, min_samples_split=10, max_features=sqrt, max_depth=80, class_weight={0: 1, 1: 25}, total=  23.9s\n",
      "[CV] bootstrap=False, min_samples_leaf=2, n_estimators=1200, min_samples_split=10, max_features=auto, max_depth=None, class_weight={0: 1, 1: 25} \n",
      "[CV]  bootstrap=True, min_samples_leaf=4, n_estimators=400, min_samples_split=2, max_features=sqrt, max_depth=10, class_weight={0: 1, 1: 25}, total=   5.6s\n",
      "[CV] bootstrap=False, min_samples_leaf=2, n_estimators=1200, min_samples_split=10, max_features=auto, max_depth=None, class_weight={0: 1, 1: 25} \n",
      "[CV]  bootstrap=True, min_samples_leaf=1, n_estimators=1400, min_samples_split=2, max_features=auto, max_depth=100, class_weight={0: 1, 1: 25}, total=  25.2s\n",
      "[CV] bootstrap=True, min_samples_leaf=1, n_estimators=1600, min_samples_split=10, max_features=sqrt, max_depth=20, class_weight={0: 1, 1: 25} \n",
      "[CV]  bootstrap=True, min_samples_leaf=2, n_estimators=1400, min_samples_split=10, max_features=sqrt, max_depth=80, class_weight={0: 1, 1: 25}, total=  22.5s\n",
      "[CV] bootstrap=True, min_samples_leaf=1, n_estimators=1600, min_samples_split=10, max_features=sqrt, max_depth=20, class_weight={0: 1, 1: 25} \n",
      "[CV]  bootstrap=False, min_samples_leaf=4, n_estimators=1000, min_samples_split=10, max_features=auto, max_depth=80, class_weight={0: 1, 1: 25}, total=  20.1s\n",
      "[CV] bootstrap=True, min_samples_leaf=1, n_estimators=1600, min_samples_split=10, max_features=sqrt, max_depth=20, class_weight={0: 1, 1: 25} \n",
      "[CV]  bootstrap=False, min_samples_leaf=4, n_estimators=1000, min_samples_split=10, max_features=auto, max_depth=80, class_weight={0: 1, 1: 25}, total=  19.6s\n",
      "[CV] bootstrap=True, min_samples_leaf=2, n_estimators=1600, min_samples_split=10, max_features=auto, max_depth=None, class_weight={0: 1, 1: 25} \n",
      "[CV]  bootstrap=False, min_samples_leaf=4, n_estimators=1000, min_samples_split=10, max_features=auto, max_depth=80, class_weight={0: 1, 1: 25}, total=  20.0s\n",
      "[CV] bootstrap=True, min_samples_leaf=2, n_estimators=1600, min_samples_split=10, max_features=auto, max_depth=None, class_weight={0: 1, 1: 25} \n",
      "[CV]  bootstrap=False, min_samples_leaf=2, n_estimators=1200, min_samples_split=10, max_features=auto, max_depth=None, class_weight={0: 1, 1: 25}, total=  24.4s\n",
      "[CV] bootstrap=True, min_samples_leaf=2, n_estimators=1600, min_samples_split=10, max_features=auto, max_depth=None, class_weight={0: 1, 1: 25} \n",
      "[CV]  bootstrap=False, min_samples_leaf=2, n_estimators=1200, min_samples_split=10, max_features=auto, max_depth=None, class_weight={0: 1, 1: 25}, total=  24.6s\n",
      "[CV] bootstrap=False, min_samples_leaf=4, n_estimators=1800, min_samples_split=2, max_features=auto, max_depth=10, class_weight={0: 1, 1: 25} \n",
      "[CV]  bootstrap=True, min_samples_leaf=1, n_estimators=1600, min_samples_split=10, max_features=sqrt, max_depth=20, class_weight={0: 1, 1: 25}, total=  23.9s\n",
      "[CV] bootstrap=False, min_samples_leaf=4, n_estimators=1800, min_samples_split=2, max_features=auto, max_depth=10, class_weight={0: 1, 1: 25} \n",
      "[CV]  bootstrap=False, min_samples_leaf=2, n_estimators=1200, min_samples_split=10, max_features=auto, max_depth=None, class_weight={0: 1, 1: 25}, total=  24.9s\n",
      "[CV] bootstrap=False, min_samples_leaf=4, n_estimators=1800, min_samples_split=2, max_features=auto, max_depth=10, class_weight={0: 1, 1: 25} \n",
      "[CV]  bootstrap=True, min_samples_leaf=1, n_estimators=1600, min_samples_split=10, max_features=sqrt, max_depth=20, class_weight={0: 1, 1: 25}, total=  23.9s\n",
      "[CV] bootstrap=True, min_samples_leaf=2, n_estimators=1400, min_samples_split=2, max_features=auto, max_depth=70, class_weight={0: 1, 1: 25} \n",
      "[CV]  bootstrap=True, min_samples_leaf=1, n_estimators=1600, min_samples_split=10, max_features=sqrt, max_depth=20, class_weight={0: 1, 1: 25}, total=  24.0s\n",
      "[CV] bootstrap=True, min_samples_leaf=2, n_estimators=1400, min_samples_split=2, max_features=auto, max_depth=70, class_weight={0: 1, 1: 25} \n",
      "[CV]  bootstrap=True, min_samples_leaf=2, n_estimators=1600, min_samples_split=10, max_features=auto, max_depth=None, class_weight={0: 1, 1: 25}, total=  23.7s\n",
      "[CV] bootstrap=True, min_samples_leaf=2, n_estimators=1400, min_samples_split=2, max_features=auto, max_depth=70, class_weight={0: 1, 1: 25} \n",
      "[CV]  bootstrap=True, min_samples_leaf=2, n_estimators=1600, min_samples_split=10, max_features=auto, max_depth=None, class_weight={0: 1, 1: 25}, total=  23.5s\n",
      "[CV] bootstrap=False, min_samples_leaf=1, n_estimators=1000, min_samples_split=10, max_features=sqrt, max_depth=80, class_weight={0: 1, 1: 25} \n",
      "[CV]  bootstrap=True, min_samples_leaf=2, n_estimators=1600, min_samples_split=10, max_features=auto, max_depth=None, class_weight={0: 1, 1: 25}, total=  23.8s\n",
      "[CV] bootstrap=False, min_samples_leaf=1, n_estimators=1000, min_samples_split=10, max_features=sqrt, max_depth=80, class_weight={0: 1, 1: 25} \n",
      "[CV]  bootstrap=True, min_samples_leaf=2, n_estimators=1400, min_samples_split=2, max_features=auto, max_depth=70, class_weight={0: 1, 1: 25}, total=  20.9s\n",
      "[CV] bootstrap=False, min_samples_leaf=1, n_estimators=1000, min_samples_split=10, max_features=sqrt, max_depth=80, class_weight={0: 1, 1: 25} \n",
      "[CV]  bootstrap=False, min_samples_leaf=4, n_estimators=1800, min_samples_split=2, max_features=auto, max_depth=10, class_weight={0: 1, 1: 25}, total=  31.5s\n",
      "[CV] bootstrap=False, min_samples_leaf=2, n_estimators=2000, min_samples_split=10, max_features=auto, max_depth=60, class_weight={0: 1, 1: 25} \n",
      "[CV]  bootstrap=False, min_samples_leaf=4, n_estimators=1800, min_samples_split=2, max_features=auto, max_depth=10, class_weight={0: 1, 1: 25}, total=  31.2s\n",
      "[CV] bootstrap=False, min_samples_leaf=2, n_estimators=2000, min_samples_split=10, max_features=auto, max_depth=60, class_weight={0: 1, 1: 25} \n"
     ]
    },
    {
     "name": "stdout",
     "output_type": "stream",
     "text": [
      "[CV]  bootstrap=False, min_samples_leaf=4, n_estimators=1800, min_samples_split=2, max_features=auto, max_depth=10, class_weight={0: 1, 1: 25}, total=  31.2s\n",
      "[CV] bootstrap=False, min_samples_leaf=2, n_estimators=2000, min_samples_split=10, max_features=auto, max_depth=60, class_weight={0: 1, 1: 25} \n",
      "[CV]  bootstrap=True, min_samples_leaf=2, n_estimators=1400, min_samples_split=2, max_features=auto, max_depth=70, class_weight={0: 1, 1: 25}, total=  20.7s\n",
      "[CV] bootstrap=False, min_samples_leaf=4, n_estimators=1400, min_samples_split=2, max_features=sqrt, max_depth=80, class_weight={0: 1, 1: 25} \n",
      "[CV]  bootstrap=True, min_samples_leaf=2, n_estimators=1400, min_samples_split=2, max_features=auto, max_depth=70, class_weight={0: 1, 1: 25}, total=  21.0s\n",
      "[CV] bootstrap=False, min_samples_leaf=4, n_estimators=1400, min_samples_split=2, max_features=sqrt, max_depth=80, class_weight={0: 1, 1: 25} \n",
      "[CV]  bootstrap=False, min_samples_leaf=1, n_estimators=1000, min_samples_split=10, max_features=sqrt, max_depth=80, class_weight={0: 1, 1: 25}, total=  20.9s\n",
      "[CV] bootstrap=False, min_samples_leaf=4, n_estimators=1400, min_samples_split=2, max_features=sqrt, max_depth=80, class_weight={0: 1, 1: 25} \n",
      "[CV]  bootstrap=False, min_samples_leaf=1, n_estimators=1000, min_samples_split=10, max_features=sqrt, max_depth=80, class_weight={0: 1, 1: 25}, total=  20.6s\n",
      "[CV] bootstrap=False, min_samples_leaf=4, n_estimators=800, min_samples_split=2, max_features=sqrt, max_depth=20, class_weight={0: 1, 1: 25} \n",
      "[CV]  bootstrap=False, min_samples_leaf=1, n_estimators=1000, min_samples_split=10, max_features=sqrt, max_depth=80, class_weight={0: 1, 1: 25}, total=  21.3s\n",
      "[CV] bootstrap=False, min_samples_leaf=4, n_estimators=800, min_samples_split=2, max_features=sqrt, max_depth=20, class_weight={0: 1, 1: 25} \n",
      "[CV]  bootstrap=False, min_samples_leaf=4, n_estimators=800, min_samples_split=2, max_features=sqrt, max_depth=20, class_weight={0: 1, 1: 25}, total=  15.7s\n",
      "[CV] bootstrap=False, min_samples_leaf=4, n_estimators=800, min_samples_split=2, max_features=sqrt, max_depth=20, class_weight={0: 1, 1: 25} \n",
      "[CV]  bootstrap=False, min_samples_leaf=4, n_estimators=800, min_samples_split=2, max_features=sqrt, max_depth=20, class_weight={0: 1, 1: 25}, total=  15.5s\n",
      "[CV] bootstrap=True, min_samples_leaf=2, n_estimators=1800, min_samples_split=5, max_features=sqrt, max_depth=60, class_weight={0: 1, 1: 25} \n",
      "[CV]  bootstrap=False, min_samples_leaf=4, n_estimators=1400, min_samples_split=2, max_features=sqrt, max_depth=80, class_weight={0: 1, 1: 25}, total=  27.7s\n",
      "[CV] bootstrap=True, min_samples_leaf=2, n_estimators=1800, min_samples_split=5, max_features=sqrt, max_depth=60, class_weight={0: 1, 1: 25} \n",
      "[CV]  bootstrap=False, min_samples_leaf=4, n_estimators=1400, min_samples_split=2, max_features=sqrt, max_depth=80, class_weight={0: 1, 1: 25}, total=  27.2s\n",
      "[CV] bootstrap=True, min_samples_leaf=2, n_estimators=1800, min_samples_split=5, max_features=sqrt, max_depth=60, class_weight={0: 1, 1: 25} \n",
      "[CV]  bootstrap=False, min_samples_leaf=4, n_estimators=1400, min_samples_split=2, max_features=sqrt, max_depth=80, class_weight={0: 1, 1: 25}, total=  27.8s\n",
      "[CV] bootstrap=False, min_samples_leaf=1, n_estimators=400, min_samples_split=5, max_features=auto, max_depth=90, class_weight={0: 1, 1: 25} \n",
      "[CV]  bootstrap=False, min_samples_leaf=2, n_estimators=2000, min_samples_split=10, max_features=auto, max_depth=60, class_weight={0: 1, 1: 25}, total=  40.8s\n",
      "[CV] bootstrap=False, min_samples_leaf=1, n_estimators=400, min_samples_split=5, max_features=auto, max_depth=90, class_weight={0: 1, 1: 25} \n",
      "[CV]  bootstrap=False, min_samples_leaf=2, n_estimators=2000, min_samples_split=10, max_features=auto, max_depth=60, class_weight={0: 1, 1: 25}, total=  40.3s\n",
      "[CV] bootstrap=False, min_samples_leaf=1, n_estimators=400, min_samples_split=5, max_features=auto, max_depth=90, class_weight={0: 1, 1: 25} \n",
      "[CV]  bootstrap=False, min_samples_leaf=2, n_estimators=2000, min_samples_split=10, max_features=auto, max_depth=60, class_weight={0: 1, 1: 25}, total=  40.9s\n",
      "[CV] bootstrap=True, min_samples_leaf=1, n_estimators=1600, min_samples_split=5, max_features=auto, max_depth=90, class_weight={0: 1, 1: 25} \n",
      "[CV]  bootstrap=False, min_samples_leaf=1, n_estimators=400, min_samples_split=5, max_features=auto, max_depth=90, class_weight={0: 1, 1: 25}, total=   8.5s\n",
      "[CV] bootstrap=True, min_samples_leaf=1, n_estimators=1600, min_samples_split=5, max_features=auto, max_depth=90, class_weight={0: 1, 1: 25} \n",
      "[CV]  bootstrap=False, min_samples_leaf=4, n_estimators=800, min_samples_split=2, max_features=sqrt, max_depth=20, class_weight={0: 1, 1: 25}, total=  16.0s\n",
      "[CV] bootstrap=True, min_samples_leaf=1, n_estimators=1600, min_samples_split=5, max_features=auto, max_depth=90, class_weight={0: 1, 1: 25} \n",
      "[CV]  bootstrap=False, min_samples_leaf=1, n_estimators=400, min_samples_split=5, max_features=auto, max_depth=90, class_weight={0: 1, 1: 25}, total=   8.4s\n",
      "[CV] bootstrap=False, min_samples_leaf=2, n_estimators=400, min_samples_split=10, max_features=sqrt, max_depth=90, class_weight={0: 1, 1: 25} \n",
      "[CV]  bootstrap=False, min_samples_leaf=1, n_estimators=400, min_samples_split=5, max_features=auto, max_depth=90, class_weight={0: 1, 1: 25}, total=   8.6s\n",
      "[CV] bootstrap=False, min_samples_leaf=2, n_estimators=400, min_samples_split=10, max_features=sqrt, max_depth=90, class_weight={0: 1, 1: 25} \n",
      "[CV]  bootstrap=False, min_samples_leaf=2, n_estimators=400, min_samples_split=10, max_features=sqrt, max_depth=90, class_weight={0: 1, 1: 25}, total=   8.3s\n",
      "[CV] bootstrap=False, min_samples_leaf=2, n_estimators=400, min_samples_split=10, max_features=sqrt, max_depth=90, class_weight={0: 1, 1: 25} \n",
      "[CV]  bootstrap=False, min_samples_leaf=2, n_estimators=400, min_samples_split=10, max_features=sqrt, max_depth=90, class_weight={0: 1, 1: 25}, total=   8.0s\n",
      "[CV] bootstrap=True, min_samples_leaf=1, n_estimators=1600, min_samples_split=10, max_features=sqrt, max_depth=None, class_weight={0: 1, 1: 25} \n",
      "[CV]  bootstrap=True, min_samples_leaf=2, n_estimators=1800, min_samples_split=5, max_features=sqrt, max_depth=60, class_weight={0: 1, 1: 25}, total=  26.4s\n",
      "[CV] bootstrap=True, min_samples_leaf=1, n_estimators=1600, min_samples_split=10, max_features=sqrt, max_depth=None, class_weight={0: 1, 1: 25} \n",
      "[CV]  bootstrap=True, min_samples_leaf=2, n_estimators=1800, min_samples_split=5, max_features=sqrt, max_depth=60, class_weight={0: 1, 1: 25}, total=  26.9s\n",
      "[CV] bootstrap=True, min_samples_leaf=1, n_estimators=1600, min_samples_split=10, max_features=sqrt, max_depth=None, class_weight={0: 1, 1: 25} \n",
      "[CV]  bootstrap=True, min_samples_leaf=2, n_estimators=1800, min_samples_split=5, max_features=sqrt, max_depth=60, class_weight={0: 1, 1: 25}, total=  27.0s\n",
      "[CV] bootstrap=True, min_samples_leaf=1, n_estimators=2000, min_samples_split=5, max_features=sqrt, max_depth=100, class_weight={0: 1, 1: 25} \n",
      "[CV]  bootstrap=False, min_samples_leaf=2, n_estimators=400, min_samples_split=10, max_features=sqrt, max_depth=90, class_weight={0: 1, 1: 25}, total=   8.4s\n",
      "[CV] bootstrap=True, min_samples_leaf=1, n_estimators=2000, min_samples_split=5, max_features=sqrt, max_depth=100, class_weight={0: 1, 1: 25} \n",
      "[CV]  bootstrap=True, min_samples_leaf=1, n_estimators=1600, min_samples_split=5, max_features=auto, max_depth=90, class_weight={0: 1, 1: 25}, total=  24.3s\n",
      "[CV] bootstrap=True, min_samples_leaf=1, n_estimators=2000, min_samples_split=5, max_features=sqrt, max_depth=100, class_weight={0: 1, 1: 25} \n",
      "[CV]  bootstrap=True, min_samples_leaf=1, n_estimators=1600, min_samples_split=5, max_features=auto, max_depth=90, class_weight={0: 1, 1: 25}, total=  24.1s\n",
      "[CV] bootstrap=True, min_samples_leaf=2, n_estimators=1000, min_samples_split=5, max_features=sqrt, max_depth=10, class_weight={0: 1, 1: 25} \n",
      "[CV]  bootstrap=True, min_samples_leaf=1, n_estimators=1600, min_samples_split=5, max_features=auto, max_depth=90, class_weight={0: 1, 1: 25}, total=  24.7s\n",
      "[CV] bootstrap=True, min_samples_leaf=2, n_estimators=1000, min_samples_split=5, max_features=sqrt, max_depth=10, class_weight={0: 1, 1: 25} \n",
      "[CV]  bootstrap=True, min_samples_leaf=1, n_estimators=1600, min_samples_split=10, max_features=sqrt, max_depth=None, class_weight={0: 1, 1: 25}, total=  24.1s\n"
     ]
    },
    {
     "name": "stdout",
     "output_type": "stream",
     "text": [
      "[CV] bootstrap=True, min_samples_leaf=2, n_estimators=1000, min_samples_split=5, max_features=sqrt, max_depth=10, class_weight={0: 1, 1: 25} \n",
      "[CV]  bootstrap=True, min_samples_leaf=2, n_estimators=1000, min_samples_split=5, max_features=sqrt, max_depth=10, class_weight={0: 1, 1: 25}, total=  13.3s\n",
      "[CV] bootstrap=True, min_samples_leaf=4, n_estimators=200, min_samples_split=5, max_features=auto, max_depth=80, class_weight={0: 1, 1: 25} \n",
      "[CV]  bootstrap=True, min_samples_leaf=2, n_estimators=1000, min_samples_split=5, max_features=sqrt, max_depth=10, class_weight={0: 1, 1: 25}, total=  13.1s\n",
      "[CV] bootstrap=True, min_samples_leaf=4, n_estimators=200, min_samples_split=5, max_features=auto, max_depth=80, class_weight={0: 1, 1: 25} \n",
      "[CV]  bootstrap=True, min_samples_leaf=1, n_estimators=1600, min_samples_split=10, max_features=sqrt, max_depth=None, class_weight={0: 1, 1: 25}, total=  24.1s\n",
      "[CV] bootstrap=True, min_samples_leaf=4, n_estimators=200, min_samples_split=5, max_features=auto, max_depth=80, class_weight={0: 1, 1: 25} \n",
      "[CV]  bootstrap=True, min_samples_leaf=1, n_estimators=1600, min_samples_split=10, max_features=sqrt, max_depth=None, class_weight={0: 1, 1: 25}, total=  23.8s\n",
      "[CV] bootstrap=False, min_samples_leaf=4, n_estimators=2000, min_samples_split=2, max_features=auto, max_depth=60, class_weight={0: 1, 1: 25} \n",
      "[CV]  bootstrap=True, min_samples_leaf=4, n_estimators=200, min_samples_split=5, max_features=auto, max_depth=80, class_weight={0: 1, 1: 25}, total=   2.9s\n",
      "[CV] bootstrap=False, min_samples_leaf=4, n_estimators=2000, min_samples_split=2, max_features=auto, max_depth=60, class_weight={0: 1, 1: 25} \n",
      "[CV]  bootstrap=True, min_samples_leaf=4, n_estimators=200, min_samples_split=5, max_features=auto, max_depth=80, class_weight={0: 1, 1: 25}, total=   2.9s\n",
      "[CV] bootstrap=False, min_samples_leaf=4, n_estimators=2000, min_samples_split=2, max_features=auto, max_depth=60, class_weight={0: 1, 1: 25} \n",
      "[CV]  bootstrap=True, min_samples_leaf=4, n_estimators=200, min_samples_split=5, max_features=auto, max_depth=80, class_weight={0: 1, 1: 25}, total=   3.0s\n",
      "[CV] bootstrap=True, min_samples_leaf=2, n_estimators=600, min_samples_split=10, max_features=auto, max_depth=100, class_weight={0: 1, 1: 25} \n",
      "[CV]  bootstrap=True, min_samples_leaf=1, n_estimators=2000, min_samples_split=5, max_features=sqrt, max_depth=100, class_weight={0: 1, 1: 25}, total=  30.5s\n",
      "[CV] bootstrap=True, min_samples_leaf=2, n_estimators=600, min_samples_split=10, max_features=auto, max_depth=100, class_weight={0: 1, 1: 25} \n",
      "[CV]  bootstrap=True, min_samples_leaf=2, n_estimators=1000, min_samples_split=5, max_features=sqrt, max_depth=10, class_weight={0: 1, 1: 25}, total=  13.7s\n",
      "[CV] bootstrap=True, min_samples_leaf=2, n_estimators=600, min_samples_split=10, max_features=auto, max_depth=100, class_weight={0: 1, 1: 25} \n",
      "[CV]  bootstrap=True, min_samples_leaf=1, n_estimators=2000, min_samples_split=5, max_features=sqrt, max_depth=100, class_weight={0: 1, 1: 25}, total=  30.1s\n",
      "[CV] bootstrap=True, min_samples_leaf=4, n_estimators=1000, min_samples_split=5, max_features=auto, max_depth=100, class_weight={0: 1, 1: 25} \n",
      "[CV]  bootstrap=True, min_samples_leaf=2, n_estimators=600, min_samples_split=10, max_features=auto, max_depth=100, class_weight={0: 1, 1: 25}, total=   8.9s\n",
      "[CV] bootstrap=True, min_samples_leaf=4, n_estimators=1000, min_samples_split=5, max_features=auto, max_depth=100, class_weight={0: 1, 1: 25} \n",
      "[CV]  bootstrap=True, min_samples_leaf=1, n_estimators=2000, min_samples_split=5, max_features=sqrt, max_depth=100, class_weight={0: 1, 1: 25}, total=  30.7s\n",
      "[CV] bootstrap=True, min_samples_leaf=4, n_estimators=1000, min_samples_split=5, max_features=auto, max_depth=100, class_weight={0: 1, 1: 25} \n",
      "[CV]  bootstrap=True, min_samples_leaf=2, n_estimators=600, min_samples_split=10, max_features=auto, max_depth=100, class_weight={0: 1, 1: 25}, total=   8.9s\n",
      "[CV] bootstrap=False, min_samples_leaf=2, n_estimators=800, min_samples_split=10, max_features=auto, max_depth=None, class_weight={0: 1, 1: 25} \n",
      "[CV]  bootstrap=True, min_samples_leaf=2, n_estimators=600, min_samples_split=10, max_features=auto, max_depth=100, class_weight={0: 1, 1: 25}, total=   8.8s\n",
      "[CV] bootstrap=False, min_samples_leaf=2, n_estimators=800, min_samples_split=10, max_features=auto, max_depth=None, class_weight={0: 1, 1: 25} \n",
      "[CV]  bootstrap=True, min_samples_leaf=4, n_estimators=1000, min_samples_split=5, max_features=auto, max_depth=100, class_weight={0: 1, 1: 25}, total=  14.3s\n",
      "[CV] bootstrap=False, min_samples_leaf=2, n_estimators=800, min_samples_split=10, max_features=auto, max_depth=None, class_weight={0: 1, 1: 25} \n",
      "[CV]  bootstrap=True, min_samples_leaf=4, n_estimators=1000, min_samples_split=5, max_features=auto, max_depth=100, class_weight={0: 1, 1: 25}, total=  14.2s\n",
      "[CV] bootstrap=False, min_samples_leaf=4, n_estimators=800, min_samples_split=5, max_features=sqrt, max_depth=70, class_weight={0: 1, 1: 25} \n",
      "[CV]  bootstrap=True, min_samples_leaf=4, n_estimators=1000, min_samples_split=5, max_features=auto, max_depth=100, class_weight={0: 1, 1: 25}, total=  14.4s\n",
      "[CV] bootstrap=False, min_samples_leaf=4, n_estimators=800, min_samples_split=5, max_features=sqrt, max_depth=70, class_weight={0: 1, 1: 25} \n",
      "[CV]  bootstrap=False, min_samples_leaf=2, n_estimators=800, min_samples_split=10, max_features=auto, max_depth=None, class_weight={0: 1, 1: 25}, total=  16.4s\n",
      "[CV] bootstrap=False, min_samples_leaf=4, n_estimators=800, min_samples_split=5, max_features=sqrt, max_depth=70, class_weight={0: 1, 1: 25} \n",
      "[CV]  bootstrap=False, min_samples_leaf=2, n_estimators=800, min_samples_split=10, max_features=auto, max_depth=None, class_weight={0: 1, 1: 25}, total=  16.1s\n",
      "[CV] bootstrap=False, min_samples_leaf=1, n_estimators=600, min_samples_split=10, max_features=sqrt, max_depth=40, class_weight={0: 1, 1: 25} \n",
      "[CV]  bootstrap=False, min_samples_leaf=4, n_estimators=2000, min_samples_split=2, max_features=auto, max_depth=60, class_weight={0: 1, 1: 25}, total=  40.1s\n",
      "[CV] bootstrap=False, min_samples_leaf=1, n_estimators=600, min_samples_split=10, max_features=sqrt, max_depth=40, class_weight={0: 1, 1: 25} \n",
      "[CV]  bootstrap=False, min_samples_leaf=4, n_estimators=2000, min_samples_split=2, max_features=auto, max_depth=60, class_weight={0: 1, 1: 25}, total=  39.4s\n",
      "[CV] bootstrap=False, min_samples_leaf=1, n_estimators=600, min_samples_split=10, max_features=sqrt, max_depth=40, class_weight={0: 1, 1: 25} \n",
      "[CV]  bootstrap=False, min_samples_leaf=4, n_estimators=2000, min_samples_split=2, max_features=auto, max_depth=60, class_weight={0: 1, 1: 25}, total=  39.8s\n",
      "[CV] bootstrap=True, min_samples_leaf=1, n_estimators=400, min_samples_split=5, max_features=sqrt, max_depth=100, class_weight={0: 1, 1: 25} \n",
      "[CV]  bootstrap=False, min_samples_leaf=2, n_estimators=800, min_samples_split=10, max_features=auto, max_depth=None, class_weight={0: 1, 1: 25}, total=  16.6s\n",
      "[CV] bootstrap=True, min_samples_leaf=1, n_estimators=400, min_samples_split=5, max_features=sqrt, max_depth=100, class_weight={0: 1, 1: 25} \n",
      "[CV]  bootstrap=False, min_samples_leaf=4, n_estimators=800, min_samples_split=5, max_features=sqrt, max_depth=70, class_weight={0: 1, 1: 25}, total=  16.2s\n",
      "[CV] bootstrap=True, min_samples_leaf=1, n_estimators=400, min_samples_split=5, max_features=sqrt, max_depth=100, class_weight={0: 1, 1: 25} \n",
      "[CV]  bootstrap=False, min_samples_leaf=4, n_estimators=800, min_samples_split=5, max_features=sqrt, max_depth=70, class_weight={0: 1, 1: 25}, total=  15.6s\n",
      "[CV] bootstrap=True, min_samples_leaf=4, n_estimators=1600, min_samples_split=2, max_features=sqrt, max_depth=80, class_weight={0: 1, 1: 25} \n",
      "[CV]  bootstrap=True, min_samples_leaf=1, n_estimators=400, min_samples_split=5, max_features=sqrt, max_depth=100, class_weight={0: 1, 1: 25}, total=   6.2s\n",
      "[CV] bootstrap=True, min_samples_leaf=4, n_estimators=1600, min_samples_split=2, max_features=sqrt, max_depth=80, class_weight={0: 1, 1: 25} \n",
      "[CV]  bootstrap=False, min_samples_leaf=1, n_estimators=600, min_samples_split=10, max_features=sqrt, max_depth=40, class_weight={0: 1, 1: 25}, total=  12.5s\n",
      "[CV] bootstrap=True, min_samples_leaf=4, n_estimators=1600, min_samples_split=2, max_features=sqrt, max_depth=80, class_weight={0: 1, 1: 25} \n"
     ]
    },
    {
     "name": "stdout",
     "output_type": "stream",
     "text": [
      "[CV]  bootstrap=True, min_samples_leaf=1, n_estimators=400, min_samples_split=5, max_features=sqrt, max_depth=100, class_weight={0: 1, 1: 25}, total=   6.1s\n",
      "[CV] bootstrap=True, min_samples_leaf=4, n_estimators=800, min_samples_split=10, max_features=sqrt, max_depth=100, class_weight={0: 1, 1: 25} \n",
      "[CV]  bootstrap=True, min_samples_leaf=1, n_estimators=400, min_samples_split=5, max_features=sqrt, max_depth=100, class_weight={0: 1, 1: 25}, total=   6.1s\n",
      "[CV] bootstrap=True, min_samples_leaf=4, n_estimators=800, min_samples_split=10, max_features=sqrt, max_depth=100, class_weight={0: 1, 1: 25} \n",
      "[CV]  bootstrap=False, min_samples_leaf=4, n_estimators=800, min_samples_split=5, max_features=sqrt, max_depth=70, class_weight={0: 1, 1: 25}, total=  16.0s\n",
      "[CV] bootstrap=True, min_samples_leaf=4, n_estimators=800, min_samples_split=10, max_features=sqrt, max_depth=100, class_weight={0: 1, 1: 25} \n",
      "[CV]  bootstrap=False, min_samples_leaf=1, n_estimators=600, min_samples_split=10, max_features=sqrt, max_depth=40, class_weight={0: 1, 1: 25}, total=  12.5s\n",
      "[CV] bootstrap=True, min_samples_leaf=2, n_estimators=1000, min_samples_split=10, max_features=sqrt, max_depth=10, class_weight={0: 1, 1: 25} \n",
      "[CV]  bootstrap=False, min_samples_leaf=1, n_estimators=600, min_samples_split=10, max_features=sqrt, max_depth=40, class_weight={0: 1, 1: 25}, total=  12.6s\n",
      "[CV] bootstrap=True, min_samples_leaf=2, n_estimators=1000, min_samples_split=10, max_features=sqrt, max_depth=10, class_weight={0: 1, 1: 25} \n",
      "[CV]  bootstrap=True, min_samples_leaf=4, n_estimators=800, min_samples_split=10, max_features=sqrt, max_depth=100, class_weight={0: 1, 1: 25}, total=  11.6s\n",
      "[CV]  bootstrap=True, min_samples_leaf=4, n_estimators=800, min_samples_split=10, max_features=sqrt, max_depth=100, class_weight={0: 1, 1: 25}, total=  11.5s\n",
      "[CV] bootstrap=True, min_samples_leaf=2, n_estimators=1000, min_samples_split=10, max_features=sqrt, max_depth=10, class_weight={0: 1, 1: 25} \n",
      "[CV] bootstrap=True, min_samples_leaf=1, n_estimators=600, min_samples_split=10, max_features=sqrt, max_depth=110, class_weight={0: 1, 1: 25} \n",
      "[CV]  bootstrap=True, min_samples_leaf=4, n_estimators=800, min_samples_split=10, max_features=sqrt, max_depth=100, class_weight={0: 1, 1: 25}, total=  11.5s\n",
      "[CV] bootstrap=True, min_samples_leaf=1, n_estimators=600, min_samples_split=10, max_features=sqrt, max_depth=110, class_weight={0: 1, 1: 25} \n",
      "[CV]  bootstrap=True, min_samples_leaf=2, n_estimators=1000, min_samples_split=10, max_features=sqrt, max_depth=10, class_weight={0: 1, 1: 25}, total=  13.4s\n",
      "[CV] bootstrap=True, min_samples_leaf=1, n_estimators=600, min_samples_split=10, max_features=sqrt, max_depth=110, class_weight={0: 1, 1: 25} \n",
      "[CV]  bootstrap=True, min_samples_leaf=2, n_estimators=1000, min_samples_split=10, max_features=sqrt, max_depth=10, class_weight={0: 1, 1: 25}, total=  13.3s\n",
      "[CV] bootstrap=False, min_samples_leaf=4, n_estimators=2000, min_samples_split=5, max_features=sqrt, max_depth=None, class_weight={0: 1, 1: 25} \n",
      "[CV]  bootstrap=True, min_samples_leaf=4, n_estimators=1600, min_samples_split=2, max_features=sqrt, max_depth=80, class_weight={0: 1, 1: 25}, total=  23.2s\n",
      "[CV] bootstrap=False, min_samples_leaf=4, n_estimators=2000, min_samples_split=5, max_features=sqrt, max_depth=None, class_weight={0: 1, 1: 25} \n",
      "[CV]  bootstrap=True, min_samples_leaf=1, n_estimators=600, min_samples_split=10, max_features=sqrt, max_depth=110, class_weight={0: 1, 1: 25}, total=   8.9s\n",
      "[CV] bootstrap=False, min_samples_leaf=4, n_estimators=2000, min_samples_split=5, max_features=sqrt, max_depth=None, class_weight={0: 1, 1: 25} \n",
      "[CV]  bootstrap=True, min_samples_leaf=1, n_estimators=600, min_samples_split=10, max_features=sqrt, max_depth=110, class_weight={0: 1, 1: 25}, total=   8.9s\n",
      "[CV] bootstrap=True, min_samples_leaf=1, n_estimators=800, min_samples_split=5, max_features=sqrt, max_depth=40, class_weight={0: 1, 1: 25} \n",
      "[CV]  bootstrap=True, min_samples_leaf=4, n_estimators=1600, min_samples_split=2, max_features=sqrt, max_depth=80, class_weight={0: 1, 1: 25}, total=  23.2s\n",
      "[CV] bootstrap=True, min_samples_leaf=1, n_estimators=800, min_samples_split=5, max_features=sqrt, max_depth=40, class_weight={0: 1, 1: 25} \n",
      "[CV]  bootstrap=True, min_samples_leaf=4, n_estimators=1600, min_samples_split=2, max_features=sqrt, max_depth=80, class_weight={0: 1, 1: 25}, total=  23.4s\n",
      "[CV] bootstrap=True, min_samples_leaf=1, n_estimators=800, min_samples_split=5, max_features=sqrt, max_depth=40, class_weight={0: 1, 1: 25} \n",
      "[CV]  bootstrap=True, min_samples_leaf=2, n_estimators=1000, min_samples_split=10, max_features=sqrt, max_depth=10, class_weight={0: 1, 1: 25}, total=  13.8s\n",
      "[CV] bootstrap=True, min_samples_leaf=4, n_estimators=600, min_samples_split=2, max_features=auto, max_depth=40, class_weight={0: 1, 1: 25} \n",
      "[CV]  bootstrap=True, min_samples_leaf=1, n_estimators=600, min_samples_split=10, max_features=sqrt, max_depth=110, class_weight={0: 1, 1: 25}, total=   9.3s\n",
      "[CV] bootstrap=True, min_samples_leaf=4, n_estimators=600, min_samples_split=2, max_features=auto, max_depth=40, class_weight={0: 1, 1: 25} \n",
      "[CV]  bootstrap=True, min_samples_leaf=1, n_estimators=800, min_samples_split=5, max_features=sqrt, max_depth=40, class_weight={0: 1, 1: 25}, total=  12.0s\n",
      "[CV] bootstrap=True, min_samples_leaf=4, n_estimators=600, min_samples_split=2, max_features=auto, max_depth=40, class_weight={0: 1, 1: 25} \n",
      "[CV]  bootstrap=True, min_samples_leaf=1, n_estimators=800, min_samples_split=5, max_features=sqrt, max_depth=40, class_weight={0: 1, 1: 25}, total=  12.2s\n",
      "[CV] bootstrap=False, min_samples_leaf=4, n_estimators=600, min_samples_split=2, max_features=sqrt, max_depth=30, class_weight={0: 1, 1: 25} \n",
      "[CV]  bootstrap=True, min_samples_leaf=4, n_estimators=600, min_samples_split=2, max_features=auto, max_depth=40, class_weight={0: 1, 1: 25}, total=   8.7s\n",
      "[CV] bootstrap=False, min_samples_leaf=4, n_estimators=600, min_samples_split=2, max_features=sqrt, max_depth=30, class_weight={0: 1, 1: 25} \n",
      "[CV]  bootstrap=True, min_samples_leaf=4, n_estimators=600, min_samples_split=2, max_features=auto, max_depth=40, class_weight={0: 1, 1: 25}, total=   8.5s\n",
      "[CV] bootstrap=False, min_samples_leaf=4, n_estimators=600, min_samples_split=2, max_features=sqrt, max_depth=30, class_weight={0: 1, 1: 25} \n",
      "[CV]  bootstrap=True, min_samples_leaf=1, n_estimators=800, min_samples_split=5, max_features=sqrt, max_depth=40, class_weight={0: 1, 1: 25}, total=  12.4s\n",
      "[CV] bootstrap=False, min_samples_leaf=2, n_estimators=400, min_samples_split=10, max_features=auto, max_depth=40, class_weight={0: 1, 1: 25} \n",
      "[CV]  bootstrap=True, min_samples_leaf=4, n_estimators=600, min_samples_split=2, max_features=auto, max_depth=40, class_weight={0: 1, 1: 25}, total=   8.7s\n",
      "[CV] bootstrap=False, min_samples_leaf=2, n_estimators=400, min_samples_split=10, max_features=auto, max_depth=40, class_weight={0: 1, 1: 25} \n",
      "[CV]  bootstrap=False, min_samples_leaf=2, n_estimators=400, min_samples_split=10, max_features=auto, max_depth=40, class_weight={0: 1, 1: 25}, total=   8.2s\n",
      "[CV] bootstrap=False, min_samples_leaf=2, n_estimators=400, min_samples_split=10, max_features=auto, max_depth=40, class_weight={0: 1, 1: 25} \n",
      "[CV]  bootstrap=False, min_samples_leaf=4, n_estimators=600, min_samples_split=2, max_features=sqrt, max_depth=30, class_weight={0: 1, 1: 25}, total=  11.9s\n",
      "[CV] bootstrap=False, min_samples_leaf=1, n_estimators=1000, min_samples_split=2, max_features=auto, max_depth=10, class_weight={0: 1, 1: 25} \n",
      "[CV]  bootstrap=False, min_samples_leaf=4, n_estimators=600, min_samples_split=2, max_features=sqrt, max_depth=30, class_weight={0: 1, 1: 25}, total=  12.2s\n",
      "[CV] bootstrap=False, min_samples_leaf=1, n_estimators=1000, min_samples_split=2, max_features=auto, max_depth=10, class_weight={0: 1, 1: 25} \n",
      "[CV]  bootstrap=False, min_samples_leaf=4, n_estimators=600, min_samples_split=2, max_features=sqrt, max_depth=30, class_weight={0: 1, 1: 25}, total=  12.0s\n",
      "[CV] bootstrap=False, min_samples_leaf=1, n_estimators=1000, min_samples_split=2, max_features=auto, max_depth=10, class_weight={0: 1, 1: 25} \n",
      "[CV]  bootstrap=False, min_samples_leaf=2, n_estimators=400, min_samples_split=10, max_features=auto, max_depth=40, class_weight={0: 1, 1: 25}, total=   8.2s\n"
     ]
    },
    {
     "name": "stdout",
     "output_type": "stream",
     "text": [
      "[CV] bootstrap=False, min_samples_leaf=4, n_estimators=200, min_samples_split=5, max_features=auto, max_depth=100, class_weight={0: 1, 1: 25} \n",
      "[CV]  bootstrap=False, min_samples_leaf=2, n_estimators=400, min_samples_split=10, max_features=auto, max_depth=40, class_weight={0: 1, 1: 25}, total=   8.3s\n",
      "[CV] bootstrap=False, min_samples_leaf=4, n_estimators=200, min_samples_split=5, max_features=auto, max_depth=100, class_weight={0: 1, 1: 25} \n",
      "[CV]  bootstrap=False, min_samples_leaf=4, n_estimators=200, min_samples_split=5, max_features=auto, max_depth=100, class_weight={0: 1, 1: 25}, total=   4.0s\n",
      "[CV] bootstrap=False, min_samples_leaf=4, n_estimators=200, min_samples_split=5, max_features=auto, max_depth=100, class_weight={0: 1, 1: 25} \n",
      "[CV]  bootstrap=False, min_samples_leaf=4, n_estimators=200, min_samples_split=5, max_features=auto, max_depth=100, class_weight={0: 1, 1: 25}, total=   3.9s\n",
      "[CV] bootstrap=True, min_samples_leaf=2, n_estimators=2000, min_samples_split=2, max_features=sqrt, max_depth=20, class_weight={0: 1, 1: 25} \n",
      "[CV]  bootstrap=False, min_samples_leaf=4, n_estimators=2000, min_samples_split=5, max_features=sqrt, max_depth=None, class_weight={0: 1, 1: 25}, total=  39.4s\n",
      "[CV] bootstrap=True, min_samples_leaf=2, n_estimators=2000, min_samples_split=2, max_features=sqrt, max_depth=20, class_weight={0: 1, 1: 25} \n",
      "[CV]  bootstrap=False, min_samples_leaf=4, n_estimators=2000, min_samples_split=5, max_features=sqrt, max_depth=None, class_weight={0: 1, 1: 25}, total=  40.3s\n",
      "[CV] bootstrap=True, min_samples_leaf=2, n_estimators=2000, min_samples_split=2, max_features=sqrt, max_depth=20, class_weight={0: 1, 1: 25} \n",
      "[CV]  bootstrap=False, min_samples_leaf=4, n_estimators=200, min_samples_split=5, max_features=auto, max_depth=100, class_weight={0: 1, 1: 25}, total=   4.0s\n",
      "[CV] bootstrap=True, min_samples_leaf=2, n_estimators=2000, min_samples_split=10, max_features=auto, max_depth=40, class_weight={0: 1, 1: 25} \n",
      "[CV]  bootstrap=False, min_samples_leaf=4, n_estimators=2000, min_samples_split=5, max_features=sqrt, max_depth=None, class_weight={0: 1, 1: 25}, total=  40.4s\n",
      "[CV] bootstrap=True, min_samples_leaf=2, n_estimators=2000, min_samples_split=10, max_features=auto, max_depth=40, class_weight={0: 1, 1: 25} \n",
      "[CV]  bootstrap=False, min_samples_leaf=1, n_estimators=1000, min_samples_split=2, max_features=auto, max_depth=10, class_weight={0: 1, 1: 25}, total=  17.8s\n",
      "[CV] bootstrap=True, min_samples_leaf=2, n_estimators=2000, min_samples_split=10, max_features=auto, max_depth=40, class_weight={0: 1, 1: 25} \n",
      "[CV]  bootstrap=False, min_samples_leaf=1, n_estimators=1000, min_samples_split=2, max_features=auto, max_depth=10, class_weight={0: 1, 1: 25}, total=  17.7s\n",
      "[CV]  bootstrap=False, min_samples_leaf=1, n_estimators=1000, min_samples_split=2, max_features=auto, max_depth=10, class_weight={0: 1, 1: 25}, total=  17.8s\n",
      "[CV]  bootstrap=True, min_samples_leaf=2, n_estimators=2000, min_samples_split=2, max_features=sqrt, max_depth=20, class_weight={0: 1, 1: 25}, total=  22.9s\n",
      "[CV]  bootstrap=True, min_samples_leaf=2, n_estimators=2000, min_samples_split=10, max_features=auto, max_depth=40, class_weight={0: 1, 1: 25}, total=  21.2s\n",
      "[CV]  bootstrap=True, min_samples_leaf=2, n_estimators=2000, min_samples_split=2, max_features=sqrt, max_depth=20, class_weight={0: 1, 1: 25}, total=  28.0s\n",
      "[CV]  bootstrap=True, min_samples_leaf=2, n_estimators=2000, min_samples_split=2, max_features=sqrt, max_depth=20, class_weight={0: 1, 1: 25}, total=  28.6s\n",
      "[CV]  bootstrap=True, min_samples_leaf=2, n_estimators=2000, min_samples_split=10, max_features=auto, max_depth=40, class_weight={0: 1, 1: 25}, total=  25.2s\n",
      "[CV]  bootstrap=True, min_samples_leaf=2, n_estimators=2000, min_samples_split=10, max_features=auto, max_depth=40, class_weight={0: 1, 1: 25}, total=  24.5s\n"
     ]
    },
    {
     "name": "stderr",
     "output_type": "stream",
     "text": [
      "[Parallel(n_jobs=-1)]: Done 300 out of 300 | elapsed: 13.7min finished\n"
     ]
    },
    {
     "data": {
      "text/plain": [
       "RandomizedSearchCV(cv=3, error_score='raise',\n",
       "          estimator=RandomForestClassifier(bootstrap=True, class_weight=None, criterion='gini',\n",
       "            max_depth=None, max_features='auto', max_leaf_nodes=None,\n",
       "            min_impurity_decrease=0.0, min_impurity_split=None,\n",
       "            min_samples_leaf=1, min_samples_split=2,\n",
       "            min_weight_fraction_leaf=0.0, n_estimators=10, n_jobs=1,\n",
       "            oob_score=False, random_state=None, verbose=0,\n",
       "            warm_start=False),\n",
       "          fit_params=None, iid=True, n_iter=100, n_jobs=-1,\n",
       "          param_distributions={'bootstrap': [True, False], 'min_samples_leaf': [1, 2, 4], 'n_estimators': [200, 400, 600, 800, 1000, 1200, 1400, 1600, 1800, 2000], 'min_samples_split': [2, 5, 10], 'max_features': ['auto', 'sqrt'], 'max_depth': [10, 20, 30, 40, 50, 60, 70, 80, 90, 100, 110, None], 'class_weight': [{0: 1, 1: 25}]},\n",
       "          pre_dispatch='2*n_jobs', random_state=42, refit=True,\n",
       "          return_train_score='warn', scoring='roc_auc', verbose=2)"
      ]
     },
     "execution_count": 167,
     "metadata": {},
     "output_type": "execute_result"
    }
   ],
   "source": [
    "crf_random.fit(X_train, y_train)"
   ]
  },
  {
   "cell_type": "code",
   "execution_count": 168,
   "metadata": {
    "scrolled": true
   },
   "outputs": [
    {
     "data": {
      "text/plain": [
       "{'bootstrap': True,\n",
       " 'class_weight': {0: 1, 1: 25},\n",
       " 'max_depth': 10,\n",
       " 'max_features': 'sqrt',\n",
       " 'min_samples_leaf': 4,\n",
       " 'min_samples_split': 2,\n",
       " 'n_estimators': 400}"
      ]
     },
     "execution_count": 168,
     "metadata": {},
     "output_type": "execute_result"
    }
   ],
   "source": [
    "crf_random.best_params_\n",
    "\n",
    "#{'bootstrap': False,\n",
    "# 'max_depth': 10,\n",
    "# 'max_features': 'auto',\n",
    "# 'min_samples_leaf': 4,\n",
    "# 'min_samples_split': 5,\n",
    "# 'n_estimators': 1800}"
   ]
  },
  {
   "cell_type": "code",
   "execution_count": 285,
   "metadata": {},
   "outputs": [
    {
     "data": {
      "text/plain": [
       "RandomForestClassifier(bootstrap=True, class_weight={0: 1, 1: 25},\n",
       "            criterion='gini', max_depth=10, max_features='sqrt',\n",
       "            max_leaf_nodes=None, min_impurity_decrease=0.0,\n",
       "            min_impurity_split=None, min_samples_leaf=4,\n",
       "            min_samples_split=2, min_weight_fraction_leaf=0.0,\n",
       "            n_estimators=400, n_jobs=1, oob_score=False, random_state=None,\n",
       "            verbose=0, warm_start=False)"
      ]
     },
     "execution_count": 285,
     "metadata": {},
     "output_type": "execute_result"
    }
   ],
   "source": [
    "clf = RandomForestClassifier(n_estimators = 400, max_depth = 10,\n",
    "                            max_features='sqrt',\n",
    "                            min_samples_leaf=4,\n",
    "                            min_samples_split=2,\n",
    "                            bootstrap=True,\n",
    "                            class_weight={0:1, 1:25}\n",
    "                        )\n",
    "clf.fit(X_train, y_train)"
   ]
  },
  {
   "cell_type": "code",
   "execution_count": 286,
   "metadata": {
    "scrolled": true
   },
   "outputs": [
    {
     "name": "stdout",
     "output_type": "stream",
     "text": [
      "0.8441926345609065\n",
      "             precision    recall  f1-score   support\n",
      "\n",
      "          0       0.98      0.86      0.91      3684\n",
      "          1       0.19      0.64      0.30       199\n",
      "\n",
      "avg / total       0.94      0.84      0.88      3883\n",
      "\n",
      "Cantidad de 0 :3221\n",
      "Cantidad de 1 :662\n",
      "AUC ROC 0.7491324701684317\n"
     ]
    }
   ],
   "source": [
    "pred = clf.predict_proba(X_test)[:,1]\n",
    "cantidad_unos = 0\n",
    "cantidad_ceros = 0\n",
    "for i in xrange(0,pred.size):\n",
    "        if (pred[i] >= 0.5):\n",
    "            pred[i] = 1\n",
    "            cantidad_unos += 1\n",
    "        else: \n",
    "            pred[i] = 0\n",
    "            cantidad_ceros += 1\n",
    "            \n",
    "print (accuracy_score(y_test, pred, ))          \n",
    "print (classification_report(y_test, pred))\n",
    "print ('Cantidad de 0 :' + str(cantidad_ceros))\n",
    "print ('Cantidad de 1 :' + str(cantidad_unos))\n",
    "print ('AUC ROC ' + str(roc_auc_score(y_test, pred)))\n"
   ]
  },
  {
   "cell_type": "code",
   "execution_count": 177,
   "metadata": {},
   "outputs": [],
   "source": [
    "clf.fit(x,y)\n",
    "pred = (clf.predict_proba(z)[:,1])"
   ]
  },
  {
   "cell_type": "code",
   "execution_count": 287,
   "metadata": {},
   "outputs": [
    {
     "ename": "ValueError",
     "evalue": "array length 3883 does not match index length 19415",
     "output_type": "error",
     "traceback": [
      "\u001b[0;31m---------------------------------------------------------------------------\u001b[0m",
      "\u001b[0;31mValueError\u001b[0m                                Traceback (most recent call last)",
      "\u001b[0;32m<ipython-input-287-2202126e156a>\u001b[0m in \u001b[0;36m<module>\u001b[0;34m()\u001b[0m\n\u001b[1;32m      1\u001b[0m \u001b[0mpersons\u001b[0m \u001b[0;34m=\u001b[0m \u001b[0mtest_set\u001b[0m\u001b[0;34m[\u001b[0m\u001b[0;34m'person'\u001b[0m\u001b[0;34m]\u001b[0m\u001b[0;34m\u001b[0m\u001b[0m\n\u001b[0;32m----> 2\u001b[0;31m \u001b[0msubmit\u001b[0m \u001b[0;34m=\u001b[0m \u001b[0mpd\u001b[0m\u001b[0;34m.\u001b[0m\u001b[0mDataFrame\u001b[0m\u001b[0;34m(\u001b[0m\u001b[0;34m{\u001b[0m\u001b[0;34m'label'\u001b[0m\u001b[0;34m:\u001b[0m \u001b[0mpred\u001b[0m\u001b[0;34m,\u001b[0m \u001b[0;34m'person'\u001b[0m\u001b[0;34m:\u001b[0m \u001b[0mpersons\u001b[0m\u001b[0;34m}\u001b[0m\u001b[0;34m)\u001b[0m\u001b[0;34m\u001b[0m\u001b[0m\n\u001b[0m\u001b[1;32m      3\u001b[0m \u001b[0msubmit\u001b[0m \u001b[0;34m=\u001b[0m \u001b[0msubmit\u001b[0m\u001b[0;34m[\u001b[0m\u001b[0;34m[\u001b[0m\u001b[0;34m'person'\u001b[0m\u001b[0;34m,\u001b[0m \u001b[0;34m'label'\u001b[0m\u001b[0;34m]\u001b[0m\u001b[0;34m]\u001b[0m\u001b[0;34m\u001b[0m\u001b[0m\n\u001b[1;32m      4\u001b[0m \u001b[0msubmit\u001b[0m\u001b[0;34m.\u001b[0m\u001b[0mto_csv\u001b[0m\u001b[0;34m(\u001b[0m\u001b[0;34m'../submits/random_forest.csv'\u001b[0m\u001b[0;34m,\u001b[0m \u001b[0mindex\u001b[0m\u001b[0;34m=\u001b[0m\u001b[0mFalse\u001b[0m\u001b[0;34m)\u001b[0m\u001b[0;34m\u001b[0m\u001b[0m\n\u001b[1;32m      5\u001b[0m \u001b[0mno_conversiones\u001b[0m \u001b[0;34m=\u001b[0m \u001b[0msubmit\u001b[0m\u001b[0;34m.\u001b[0m\u001b[0mloc\u001b[0m\u001b[0;34m[\u001b[0m\u001b[0msubmit\u001b[0m\u001b[0;34m[\u001b[0m\u001b[0;34m'label'\u001b[0m\u001b[0;34m]\u001b[0m \u001b[0;34m<\u001b[0m \u001b[0;36m0.5\u001b[0m\u001b[0;34m]\u001b[0m\u001b[0;34m[\u001b[0m\u001b[0;34m'label'\u001b[0m\u001b[0;34m]\u001b[0m\u001b[0;34m.\u001b[0m\u001b[0mcount\u001b[0m\u001b[0;34m(\u001b[0m\u001b[0;34m)\u001b[0m\u001b[0;34m\u001b[0m\u001b[0m\n",
      "\u001b[0;32m/home/gonzalodiz/anaconda2/lib/python2.7/site-packages/pandas/core/frame.pyc\u001b[0m in \u001b[0;36m__init__\u001b[0;34m(self, data, index, columns, dtype, copy)\u001b[0m\n\u001b[1;32m    346\u001b[0m                                  dtype=dtype, copy=copy)\n\u001b[1;32m    347\u001b[0m         \u001b[0;32melif\u001b[0m \u001b[0misinstance\u001b[0m\u001b[0;34m(\u001b[0m\u001b[0mdata\u001b[0m\u001b[0;34m,\u001b[0m \u001b[0mdict\u001b[0m\u001b[0;34m)\u001b[0m\u001b[0;34m:\u001b[0m\u001b[0;34m\u001b[0m\u001b[0m\n\u001b[0;32m--> 348\u001b[0;31m             \u001b[0mmgr\u001b[0m \u001b[0;34m=\u001b[0m \u001b[0mself\u001b[0m\u001b[0;34m.\u001b[0m\u001b[0m_init_dict\u001b[0m\u001b[0;34m(\u001b[0m\u001b[0mdata\u001b[0m\u001b[0;34m,\u001b[0m \u001b[0mindex\u001b[0m\u001b[0;34m,\u001b[0m \u001b[0mcolumns\u001b[0m\u001b[0;34m,\u001b[0m \u001b[0mdtype\u001b[0m\u001b[0;34m=\u001b[0m\u001b[0mdtype\u001b[0m\u001b[0;34m)\u001b[0m\u001b[0;34m\u001b[0m\u001b[0m\n\u001b[0m\u001b[1;32m    349\u001b[0m         \u001b[0;32melif\u001b[0m \u001b[0misinstance\u001b[0m\u001b[0;34m(\u001b[0m\u001b[0mdata\u001b[0m\u001b[0;34m,\u001b[0m \u001b[0mma\u001b[0m\u001b[0;34m.\u001b[0m\u001b[0mMaskedArray\u001b[0m\u001b[0;34m)\u001b[0m\u001b[0;34m:\u001b[0m\u001b[0;34m\u001b[0m\u001b[0m\n\u001b[1;32m    350\u001b[0m             \u001b[0;32mimport\u001b[0m \u001b[0mnumpy\u001b[0m\u001b[0;34m.\u001b[0m\u001b[0mma\u001b[0m\u001b[0;34m.\u001b[0m\u001b[0mmrecords\u001b[0m \u001b[0;32mas\u001b[0m \u001b[0mmrecords\u001b[0m\u001b[0;34m\u001b[0m\u001b[0m\n",
      "\u001b[0;32m/home/gonzalodiz/anaconda2/lib/python2.7/site-packages/pandas/core/frame.pyc\u001b[0m in \u001b[0;36m_init_dict\u001b[0;34m(self, data, index, columns, dtype)\u001b[0m\n\u001b[1;32m    457\u001b[0m             \u001b[0marrays\u001b[0m \u001b[0;34m=\u001b[0m \u001b[0;34m[\u001b[0m\u001b[0mdata\u001b[0m\u001b[0;34m[\u001b[0m\u001b[0mk\u001b[0m\u001b[0;34m]\u001b[0m \u001b[0;32mfor\u001b[0m \u001b[0mk\u001b[0m \u001b[0;32min\u001b[0m \u001b[0mkeys\u001b[0m\u001b[0;34m]\u001b[0m\u001b[0;34m\u001b[0m\u001b[0m\n\u001b[1;32m    458\u001b[0m \u001b[0;34m\u001b[0m\u001b[0m\n\u001b[0;32m--> 459\u001b[0;31m         \u001b[0;32mreturn\u001b[0m \u001b[0m_arrays_to_mgr\u001b[0m\u001b[0;34m(\u001b[0m\u001b[0marrays\u001b[0m\u001b[0;34m,\u001b[0m \u001b[0mdata_names\u001b[0m\u001b[0;34m,\u001b[0m \u001b[0mindex\u001b[0m\u001b[0;34m,\u001b[0m \u001b[0mcolumns\u001b[0m\u001b[0;34m,\u001b[0m \u001b[0mdtype\u001b[0m\u001b[0;34m=\u001b[0m\u001b[0mdtype\u001b[0m\u001b[0;34m)\u001b[0m\u001b[0;34m\u001b[0m\u001b[0m\n\u001b[0m\u001b[1;32m    460\u001b[0m \u001b[0;34m\u001b[0m\u001b[0m\n\u001b[1;32m    461\u001b[0m     \u001b[0;32mdef\u001b[0m \u001b[0m_init_ndarray\u001b[0m\u001b[0;34m(\u001b[0m\u001b[0mself\u001b[0m\u001b[0;34m,\u001b[0m \u001b[0mvalues\u001b[0m\u001b[0;34m,\u001b[0m \u001b[0mindex\u001b[0m\u001b[0;34m,\u001b[0m \u001b[0mcolumns\u001b[0m\u001b[0;34m,\u001b[0m \u001b[0mdtype\u001b[0m\u001b[0;34m=\u001b[0m\u001b[0mNone\u001b[0m\u001b[0;34m,\u001b[0m \u001b[0mcopy\u001b[0m\u001b[0;34m=\u001b[0m\u001b[0mFalse\u001b[0m\u001b[0;34m)\u001b[0m\u001b[0;34m:\u001b[0m\u001b[0;34m\u001b[0m\u001b[0m\n",
      "\u001b[0;32m/home/gonzalodiz/anaconda2/lib/python2.7/site-packages/pandas/core/frame.pyc\u001b[0m in \u001b[0;36m_arrays_to_mgr\u001b[0;34m(arrays, arr_names, index, columns, dtype)\u001b[0m\n\u001b[1;32m   7354\u001b[0m     \u001b[0;31m# figure out the index, if necessary\u001b[0m\u001b[0;34m\u001b[0m\u001b[0;34m\u001b[0m\u001b[0m\n\u001b[1;32m   7355\u001b[0m     \u001b[0;32mif\u001b[0m \u001b[0mindex\u001b[0m \u001b[0;32mis\u001b[0m \u001b[0mNone\u001b[0m\u001b[0;34m:\u001b[0m\u001b[0;34m\u001b[0m\u001b[0m\n\u001b[0;32m-> 7356\u001b[0;31m         \u001b[0mindex\u001b[0m \u001b[0;34m=\u001b[0m \u001b[0mextract_index\u001b[0m\u001b[0;34m(\u001b[0m\u001b[0marrays\u001b[0m\u001b[0;34m)\u001b[0m\u001b[0;34m\u001b[0m\u001b[0m\n\u001b[0m\u001b[1;32m   7357\u001b[0m \u001b[0;34m\u001b[0m\u001b[0m\n\u001b[1;32m   7358\u001b[0m     \u001b[0;31m# don't force copy because getting jammed in an ndarray anyway\u001b[0m\u001b[0;34m\u001b[0m\u001b[0;34m\u001b[0m\u001b[0m\n",
      "\u001b[0;32m/home/gonzalodiz/anaconda2/lib/python2.7/site-packages/pandas/core/frame.pyc\u001b[0m in \u001b[0;36mextract_index\u001b[0;34m(data)\u001b[0m\n\u001b[1;32m   7410\u001b[0m                     msg = ('array length %d does not match index length %d' %\n\u001b[1;32m   7411\u001b[0m                            (lengths[0], len(index)))\n\u001b[0;32m-> 7412\u001b[0;31m                     \u001b[0;32mraise\u001b[0m \u001b[0mValueError\u001b[0m\u001b[0;34m(\u001b[0m\u001b[0mmsg\u001b[0m\u001b[0;34m)\u001b[0m\u001b[0;34m\u001b[0m\u001b[0m\n\u001b[0m\u001b[1;32m   7413\u001b[0m             \u001b[0;32melse\u001b[0m\u001b[0;34m:\u001b[0m\u001b[0;34m\u001b[0m\u001b[0m\n\u001b[1;32m   7414\u001b[0m                 \u001b[0mindex\u001b[0m \u001b[0;34m=\u001b[0m \u001b[0mcom\u001b[0m\u001b[0;34m.\u001b[0m\u001b[0m_default_index\u001b[0m\u001b[0;34m(\u001b[0m\u001b[0mlengths\u001b[0m\u001b[0;34m[\u001b[0m\u001b[0;36m0\u001b[0m\u001b[0;34m]\u001b[0m\u001b[0;34m)\u001b[0m\u001b[0;34m\u001b[0m\u001b[0m\n",
      "\u001b[0;31mValueError\u001b[0m: array length 3883 does not match index length 19415"
     ]
    }
   ],
   "source": [
    "persons = test_set['person']\n",
    "submit = pd.DataFrame({'label': pred, 'person': persons})\n",
    "submit = submit[['person', 'label']]\n",
    "submit.to_csv('../submits/random_forest.csv', index=False)\n",
    "no_conversiones = submit.loc[submit['label'] < 0.5]['label'].count()\n",
    "print 'Cantidad de no conversiones: ' + str(no_conversiones)\n",
    "\n",
    "conversiones = submit.loc[submit['label'] >= 0.5]['label'].count()\n",
    "print 'Cantidad de conversiones: ' + str(conversiones)"
   ]
  },
  {
   "cell_type": "code",
   "execution_count": 179,
   "metadata": {},
   "outputs": [],
   "source": [
    "from sklearn.ensemble import VotingClassifier"
   ]
  },
  {
   "cell_type": "code",
   "execution_count": 288,
   "metadata": {},
   "outputs": [],
   "source": [
    "classifiers = []\n",
    "classifiers.append(('xgb',xgb1))\n",
    "classifiers.append(('rf',clf))"
   ]
  },
  {
   "cell_type": "code",
   "execution_count": 289,
   "metadata": {},
   "outputs": [],
   "source": [
    "vc = VotingClassifier(classifiers, voting='soft', n_jobs=-1,\n",
    "                    weights=[20,1])"
   ]
  },
  {
   "cell_type": "code",
   "execution_count": 290,
   "metadata": {},
   "outputs": [
    {
     "data": {
      "text/plain": [
       "VotingClassifier(estimators=[('xgb', XGBClassifier(base_score=0.5, booster='gbtree', colsample_bylevel=1,\n",
       "       colsample_bytree=0.8, gamma=0, learning_rate=0.1, max_delta_step=0,\n",
       "       max_depth=1, min_child_weight=3, missing=None, n_estimators=1000,\n",
       "       n_jobs=1, nthread=4, objective='binary:logistic', random...mators=400, n_jobs=1, oob_score=False, random_state=None,\n",
       "            verbose=0, warm_start=False))],\n",
       "         flatten_transform=None, n_jobs=-1, voting='soft', weights=[20, 1])"
      ]
     },
     "execution_count": 290,
     "metadata": {},
     "output_type": "execute_result"
    }
   ],
   "source": [
    "vc.fit(X_train, y_train)"
   ]
  },
  {
   "cell_type": "code",
   "execution_count": 294,
   "metadata": {},
   "outputs": [],
   "source": [
    "pred = vc.predict_proba(X_test)[:,1]"
   ]
  },
  {
   "cell_type": "code",
   "execution_count": 295,
   "metadata": {},
   "outputs": [
    {
     "name": "stdout",
     "output_type": "stream",
     "text": [
      "0.730620654133402\n",
      "             precision    recall  f1-score   support\n",
      "\n",
      "          0       0.98      0.73      0.84      3684\n",
      "          1       0.13      0.77      0.23       199\n",
      "\n",
      "avg / total       0.94      0.73      0.81      3883\n",
      "\n",
      "Cantidad de 0 :2730\n",
      "Cantidad de 1 :1153\n",
      "AUC ROC 0.7487000692932634\n"
     ]
    }
   ],
   "source": [
    "cantidad_unos = 0\n",
    "cantidad_ceros = 0\n",
    "for i in xrange(0,pred.size):\n",
    "        if (pred[i] >= 0.5):\n",
    "            pred[i] = 1\n",
    "            cantidad_unos += 1\n",
    "        else: \n",
    "            pred[i] = 0\n",
    "            cantidad_ceros += 1\n",
    "            \n",
    "print (accuracy_score(y_test, pred, ))          \n",
    "print (classification_report(y_test, pred))\n",
    "print ('Cantidad de 0 :' + str(cantidad_ceros))\n",
    "print ('Cantidad de 1 :' + str(cantidad_unos))\n",
    "print ('AUC ROC ' + str(roc_auc_score(y_test, pred)))"
   ]
  },
  {
   "cell_type": "code",
   "execution_count": null,
   "metadata": {},
   "outputs": [],
   "source": []
  },
  {
   "cell_type": "code",
   "execution_count": 263,
   "metadata": {},
   "outputs": [],
   "source": [
    "vc.fit(x,y)\n",
    "pred = (vc.predict_proba(z)[:,1])"
   ]
  },
  {
   "cell_type": "code",
   "execution_count": 264,
   "metadata": {},
   "outputs": [
    {
     "name": "stdout",
     "output_type": "stream",
     "text": [
      "Cantidad de no conversiones: 13210\n",
      "Cantidad de conversiones: 6205\n"
     ]
    }
   ],
   "source": [
    "persons = test_set['person']\n",
    "submit = pd.DataFrame({'label': pred, 'person': persons})\n",
    "submit = submit[['person', 'label']]\n",
    "submit.to_csv('../submits/vc_xgb_rf.csv', index=False)\n",
    "no_conversiones = submit.loc[submit['label'] < 0.5]['label'].count()\n",
    "print 'Cantidad de no conversiones: ' + str(no_conversiones)\n",
    "\n",
    "conversiones = submit.loc[submit['label'] >= 0.5]['label'].count()\n",
    "print 'Cantidad de conversiones: ' + str(conversiones)"
   ]
  },
  {
   "cell_type": "code",
   "execution_count": null,
   "metadata": {},
   "outputs": [],
   "source": []
  }
 ],
 "metadata": {
  "kernelspec": {
   "display_name": "Python 2",
   "language": "python",
   "name": "python2"
  },
  "language_info": {
   "codemirror_mode": {
    "name": "ipython",
    "version": 2
   },
   "file_extension": ".py",
   "mimetype": "text/x-python",
   "name": "python",
   "nbconvert_exporter": "python",
   "pygments_lexer": "ipython2",
   "version": "2.7.15"
  }
 },
 "nbformat": 4,
 "nbformat_minor": 2
}
