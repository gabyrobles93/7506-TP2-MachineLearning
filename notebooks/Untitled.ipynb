{
 "cells": [
  {
   "cell_type": "code",
   "execution_count": 50,
   "metadata": {},
   "outputs": [],
   "source": [
    "# loading libraries\n",
    "import warnings\n",
    "warnings.filterwarnings('ignore')\n",
    "import pandas as pd\n",
    "import pandas as pd\n",
    "import numpy as np\n",
    "from sklearn.cross_validation import train_test_split\n",
    "from sklearn.neighbors import KNeighborsClassifier\n",
    "from sklearn.metrics import accuracy_score\n",
    "from sklearn.metrics import log_loss\n",
    "import xgboost as xgb\n",
    "from xgboost import plot_importance\n",
    "from matplotlib import pyplot\n",
    "from sklearn.model_selection import StratifiedKFold\n",
    "from sklearn.model_selection import GridSearchCV as GridSearch\n",
    "from sklearn.ensemble import RandomForestClassifier\n",
    "from sklearn.metrics import classification_report, confusion_matrix, roc_curve, auc, precision_recall_curve,roc_curve\n"
   ]
  },
  {
   "cell_type": "code",
   "execution_count": 51,
   "metadata": {},
   "outputs": [],
   "source": [
    "features_gaby = pd.read_csv('../features/features_gaby.csv')\n",
    "features_gonza = pd.read_csv('../features/features_gonza.csv').drop(columns='Unnamed: 0')\n",
    "features_ari = pd.read_csv('../features/features_ariel.csv')\n",
    "features_mati = pd.read_csv('../features/features_frecuencia.csv')\n",
    "labels_training_set = pd.read_csv('../dataset/labels_training_set.csv')\n",
    "test_set = pd.read_csv('../dataset/trocafone_kaggle_test.csv')\n",
    "features_gonza2 = pd.read_csv('../features/features_gonza2.csv')"
   ]
  },
  {
   "cell_type": "code",
   "execution_count": 52,
   "metadata": {},
   "outputs": [
    {
     "data": {
      "text/html": [
       "<div>\n",
       "<style scoped>\n",
       "    .dataframe tbody tr th:only-of-type {\n",
       "        vertical-align: middle;\n",
       "    }\n",
       "\n",
       "    .dataframe tbody tr th {\n",
       "        vertical-align: top;\n",
       "    }\n",
       "\n",
       "    .dataframe thead th {\n",
       "        text-align: right;\n",
       "    }\n",
       "</style>\n",
       "<table border=\"1\" class=\"dataframe\">\n",
       "  <thead>\n",
       "    <tr style=\"text-align: right;\">\n",
       "      <th></th>\n",
       "      <th>person</th>\n",
       "      <th>marca_favorita_apple</th>\n",
       "      <th>marca_favorita_asus</th>\n",
       "      <th>marca_favorita_lenovo</th>\n",
       "      <th>marca_favorita_lg</th>\n",
       "      <th>marca_favorita_motorola</th>\n",
       "      <th>marca_favorita_no tiene</th>\n",
       "      <th>marca_favorita_quantum</th>\n",
       "      <th>marca_favorita_samsung</th>\n",
       "      <th>marca_favorita_sony</th>\n",
       "      <th>...</th>\n",
       "      <th>checkout</th>\n",
       "      <th>generic listing</th>\n",
       "      <th>searched products</th>\n",
       "      <th>viewed product</th>\n",
       "      <th>visited site</th>\n",
       "      <th>completa_flujo</th>\n",
       "      <th>favorite_device_Computer</th>\n",
       "      <th>favorite_device_Smartphone</th>\n",
       "      <th>favorite_device_Tablet</th>\n",
       "      <th>favorite_device_Unknown</th>\n",
       "    </tr>\n",
       "  </thead>\n",
       "  <tbody>\n",
       "    <tr>\n",
       "      <th>0</th>\n",
       "      <td>0008ed71</td>\n",
       "      <td>1</td>\n",
       "      <td>0</td>\n",
       "      <td>0</td>\n",
       "      <td>0</td>\n",
       "      <td>0</td>\n",
       "      <td>0</td>\n",
       "      <td>0</td>\n",
       "      <td>0</td>\n",
       "      <td>0</td>\n",
       "      <td>...</td>\n",
       "      <td>3.0</td>\n",
       "      <td>1.0</td>\n",
       "      <td>NaN</td>\n",
       "      <td>NaN</td>\n",
       "      <td>2.0</td>\n",
       "      <td>False</td>\n",
       "      <td>1</td>\n",
       "      <td>0</td>\n",
       "      <td>0</td>\n",
       "      <td>0</td>\n",
       "    </tr>\n",
       "    <tr>\n",
       "      <th>1</th>\n",
       "      <td>00091926</td>\n",
       "      <td>1</td>\n",
       "      <td>0</td>\n",
       "      <td>0</td>\n",
       "      <td>0</td>\n",
       "      <td>0</td>\n",
       "      <td>0</td>\n",
       "      <td>0</td>\n",
       "      <td>0</td>\n",
       "      <td>0</td>\n",
       "      <td>...</td>\n",
       "      <td>2.0</td>\n",
       "      <td>NaN</td>\n",
       "      <td>NaN</td>\n",
       "      <td>372.0</td>\n",
       "      <td>34.0</td>\n",
       "      <td>False</td>\n",
       "      <td>1</td>\n",
       "      <td>0</td>\n",
       "      <td>0</td>\n",
       "      <td>0</td>\n",
       "    </tr>\n",
       "    <tr>\n",
       "      <th>2</th>\n",
       "      <td>00091a7a</td>\n",
       "      <td>1</td>\n",
       "      <td>0</td>\n",
       "      <td>0</td>\n",
       "      <td>0</td>\n",
       "      <td>0</td>\n",
       "      <td>0</td>\n",
       "      <td>0</td>\n",
       "      <td>0</td>\n",
       "      <td>0</td>\n",
       "      <td>...</td>\n",
       "      <td>NaN</td>\n",
       "      <td>NaN</td>\n",
       "      <td>NaN</td>\n",
       "      <td>3.0</td>\n",
       "      <td>1.0</td>\n",
       "      <td>False</td>\n",
       "      <td>0</td>\n",
       "      <td>1</td>\n",
       "      <td>0</td>\n",
       "      <td>0</td>\n",
       "    </tr>\n",
       "    <tr>\n",
       "      <th>3</th>\n",
       "      <td>000ba417</td>\n",
       "      <td>0</td>\n",
       "      <td>0</td>\n",
       "      <td>0</td>\n",
       "      <td>0</td>\n",
       "      <td>0</td>\n",
       "      <td>0</td>\n",
       "      <td>0</td>\n",
       "      <td>1</td>\n",
       "      <td>0</td>\n",
       "      <td>...</td>\n",
       "      <td>6.0</td>\n",
       "      <td>14.0</td>\n",
       "      <td>NaN</td>\n",
       "      <td>153.0</td>\n",
       "      <td>6.0</td>\n",
       "      <td>False</td>\n",
       "      <td>1</td>\n",
       "      <td>0</td>\n",
       "      <td>0</td>\n",
       "      <td>0</td>\n",
       "    </tr>\n",
       "    <tr>\n",
       "      <th>4</th>\n",
       "      <td>000c79fe</td>\n",
       "      <td>1</td>\n",
       "      <td>0</td>\n",
       "      <td>0</td>\n",
       "      <td>0</td>\n",
       "      <td>0</td>\n",
       "      <td>0</td>\n",
       "      <td>0</td>\n",
       "      <td>0</td>\n",
       "      <td>0</td>\n",
       "      <td>...</td>\n",
       "      <td>1.0</td>\n",
       "      <td>1.0</td>\n",
       "      <td>9.0</td>\n",
       "      <td>3.0</td>\n",
       "      <td>1.0</td>\n",
       "      <td>False</td>\n",
       "      <td>0</td>\n",
       "      <td>1</td>\n",
       "      <td>0</td>\n",
       "      <td>0</td>\n",
       "    </tr>\n",
       "  </tbody>\n",
       "</table>\n",
       "<p>5 rows × 64 columns</p>\n",
       "</div>"
      ],
      "text/plain": [
       "     person  marca_favorita_apple  marca_favorita_asus  marca_favorita_lenovo  \\\n",
       "0  0008ed71                     1                    0                      0   \n",
       "1  00091926                     1                    0                      0   \n",
       "2  00091a7a                     1                    0                      0   \n",
       "3  000ba417                     0                    0                      0   \n",
       "4  000c79fe                     1                    0                      0   \n",
       "\n",
       "   marca_favorita_lg  marca_favorita_motorola  marca_favorita_no tiene  \\\n",
       "0                  0                        0                        0   \n",
       "1                  0                        0                        0   \n",
       "2                  0                        0                        0   \n",
       "3                  0                        0                        0   \n",
       "4                  0                        0                        0   \n",
       "\n",
       "   marca_favorita_quantum  marca_favorita_samsung  marca_favorita_sony  \\\n",
       "0                       0                       0                    0   \n",
       "1                       0                       0                    0   \n",
       "2                       0                       0                    0   \n",
       "3                       0                       1                    0   \n",
       "4                       0                       0                    0   \n",
       "\n",
       "            ...             checkout  generic listing  searched products  \\\n",
       "0           ...                  3.0              1.0                NaN   \n",
       "1           ...                  2.0              NaN                NaN   \n",
       "2           ...                  NaN              NaN                NaN   \n",
       "3           ...                  6.0             14.0                NaN   \n",
       "4           ...                  1.0              1.0                9.0   \n",
       "\n",
       "   viewed product  visited site  completa_flujo  favorite_device_Computer  \\\n",
       "0             NaN           2.0           False                         1   \n",
       "1           372.0          34.0           False                         1   \n",
       "2             3.0           1.0           False                         0   \n",
       "3           153.0           6.0           False                         1   \n",
       "4             3.0           1.0           False                         0   \n",
       "\n",
       "   favorite_device_Smartphone  favorite_device_Tablet  favorite_device_Unknown  \n",
       "0                           0                       0                        0  \n",
       "1                           0                       0                        0  \n",
       "2                           1                       0                        0  \n",
       "3                           0                       0                        0  \n",
       "4                           1                       0                        0  \n",
       "\n",
       "[5 rows x 64 columns]"
      ]
     },
     "execution_count": 52,
     "metadata": {},
     "output_type": "execute_result"
    }
   ],
   "source": [
    "#model_df = pd.merge(features_gaby, features_gonza, how='inner', on='person')\n",
    "model_df = pd.merge(features_gaby, features_ari, how='inner', on='person')\n",
    "model_df = pd.merge(model_df, features_gonza, how='inner', on='person')\n",
    "model_df = pd.merge(model_df, features_gonza2, how='inner', on='person')\n",
    "#model_df = pd.merge(model_df, features_mati, how='inner', on='person')\n",
    "model_df.head()"
   ]
  },
  {
   "cell_type": "code",
   "execution_count": 53,
   "metadata": {},
   "outputs": [],
   "source": [
    "model_df.fillna(value=0, inplace=True)\n",
    "training_set = pd.merge(model_df, labels_training_set, how='inner', on='person')\n",
    "test_set = pd.merge(model_df, test_set, how='inner', on='person')\n",
    "#training_set.drop(columns= 'Unnamed: 0', inplace=True)"
   ]
  },
  {
   "cell_type": "code",
   "execution_count": 54,
   "metadata": {},
   "outputs": [],
   "source": [
    "features = [#'cant_total_eventos', #f1\n",
    "            'marca_favorita_apple',#f2\n",
    "            'mean_events_per_day',#f3\n",
    "            #'has_converted_before',#f4\n",
    "            #'most_viewed_sku',#f5\n",
    "            #'most_viewed_color_Preto',#f6\n",
    "            #'most_viewed_color_Branco',#f7\n",
    "            #'most_viewed_color_Dourado', #f8\n",
    "            #'region_brasil_Sao Paulo',#f9\n",
    "            #'region_brasil_Unknown',#f10\n",
    "            #'region_brasil_Minas Gerais',#f11\n",
    "            'marca_favorita_samsung',#f12\n",
    "            #'cant_ev_noche',#f13\n",
    "            #'cant_ev_manana',#f14\n",
    "            #'cant_ev_tarde',#f15\n",
    "            #'cant_ev_madrugada',#f16\n",
    "            #'cant_buenos',#f17\n",
    "            #'cant_muy_buenos',#f18\n",
    "            #'cant_excelentes',#f19\n",
    "            #'nivel_de_actividad_Muy Bajo',#f20\n",
    "            #'nivel_de_actividad_Muy Alto',#f21\n",
    "            #'nivel_de_actividad_Bajo',#f22\n",
    "            #'nivel_de_actividad_Medio',#f23\n",
    "            #'nivel_de_actividad_Alto',#f24\n",
    "            #'favorite_device_Smartphone',#f25\n",
    "            'favorite_device_Computer',#f26\n",
    "            'cantidad_checkouts',#f27\n",
    "            'cantidad_conversions',#f28\n",
    "            'tasa_cc',\n",
    "            'viewed product',\n",
    "            #'cantidad_lead',\n",
    "            #'searched products',\n",
    "            #'first_and_last_event_distance_in_days',\n",
    "            #'month_moda',\n",
    "            'completa_flujo'\n",
    "           ]"
   ]
  },
  {
   "cell_type": "code",
   "execution_count": 112,
   "metadata": {},
   "outputs": [],
   "source": [
    "x = np.array(training_set[features])\n",
    "y = np.array(training_set['label'])\n",
    "z = np.array(test_set[features])\n",
    "X_train, X_test, y_train, y_test = train_test_split(x,y, test_size=0.20)"
   ]
  },
  {
   "cell_type": "code",
   "execution_count": 56,
   "metadata": {},
   "outputs": [],
   "source": [
    "def modelfit(alg):\n",
    "    alg.fit(X_train, y_train, eval_metric='aucpr')\n",
    "    pred = (alg.predict_proba(X_test)[:,1])\n",
    "    accuracy = accuracy_score(y_test, pred.round(), normalize=False)\n",
    "\n",
    "    print(\"Accuracy: \", accuracy / float(pred.size))\n",
    "\n",
    "    for i in xrange(0,pred.size):\n",
    "        if (pred[i] >= 0.5):\n",
    "            pred[i] = 1\n",
    "        else: \n",
    "            pred[i] = 0\n",
    "\n",
    "    print('---Classification Report---')\n",
    "    print(classification_report(y_test,pred))\n",
    "    "
   ]
  },
  {
   "cell_type": "code",
   "execution_count": 69,
   "metadata": {},
   "outputs": [
    {
     "name": "stdout",
     "output_type": "stream",
     "text": [
      "('Accuracy: ', 0.8776719031676539)\n",
      "---Classification Report---\n",
      "             precision    recall  f1-score   support\n",
      "\n",
      "          0       0.96      0.91      0.93      3699\n",
      "          1       0.15      0.33      0.20       184\n",
      "\n",
      "avg / total       0.93      0.88      0.90      3883\n",
      "\n"
     ]
    }
   ],
   "source": [
    "xgb1 = xgb.XGBClassifier(\n",
    " learning_rate =0.1,\n",
    " n_estimators=1000,\n",
    " max_depth=5,\n",
    " min_child_weight=1,\n",
    " gamma=0,\n",
    " subsample=0.8,\n",
    " colsample_bytree=0.8,\n",
    " objective= 'binary:logistic',\n",
    " nthread=4,\n",
    " scale_pos_weight=18,\n",
    " seed=27)\n",
    "modelfit(xgb1)"
   ]
  },
  {
   "cell_type": "code",
   "execution_count": 70,
   "metadata": {},
   "outputs": [
    {
     "data": {
      "text/plain": [
       "([mean: 0.23813, std: 0.00827, params: {'max_depth': 3, 'min_child_weight': 1},\n",
       "  mean: 0.23784, std: 0.00909, params: {'max_depth': 3, 'min_child_weight': 3},\n",
       "  mean: 0.23781, std: 0.00641, params: {'max_depth': 3, 'min_child_weight': 5},\n",
       "  mean: 0.24713, std: 0.01387, params: {'max_depth': 5, 'min_child_weight': 1},\n",
       "  mean: 0.24851, std: 0.00983, params: {'max_depth': 5, 'min_child_weight': 3},\n",
       "  mean: 0.25191, std: 0.00993, params: {'max_depth': 5, 'min_child_weight': 5},\n",
       "  mean: 0.24786, std: 0.01413, params: {'max_depth': 7, 'min_child_weight': 1},\n",
       "  mean: 0.25588, std: 0.01112, params: {'max_depth': 7, 'min_child_weight': 3},\n",
       "  mean: 0.25226, std: 0.01876, params: {'max_depth': 7, 'min_child_weight': 5},\n",
       "  mean: 0.22704, std: 0.00919, params: {'max_depth': 9, 'min_child_weight': 1},\n",
       "  mean: 0.23347, std: 0.01035, params: {'max_depth': 9, 'min_child_weight': 3},\n",
       "  mean: 0.24663, std: 0.01700, params: {'max_depth': 9, 'min_child_weight': 5}],\n",
       " {'max_depth': 7, 'min_child_weight': 3},\n",
       " 0.2558757170438187)"
      ]
     },
     "execution_count": 70,
     "metadata": {},
     "output_type": "execute_result"
    }
   ],
   "source": [
    "param_test1 = {\n",
    "    'max_depth':range(3,10,2),\n",
    "    'min_child_weight':range(1,6,2)\n",
    "}\n",
    "\n",
    "gsearch1 = GridSearch(estimator = xgb.XGBClassifier( learning_rate =0.1, n_estimators=140, max_depth=5,\n",
    " min_child_weight=1, gamma=0, subsample=0.8, colsample_bytree=0.8,\n",
    " objective= 'binary:logistic', nthread=4, scale_pos_weight=18, seed=27), \n",
    " param_grid = param_test1, scoring='f1',n_jobs=4,iid=False, cv=5)\n",
    "\n",
    "gsearch1.fit(X_train, y_train)\n",
    "gsearch1.grid_scores_, gsearch1.best_params_, gsearch1.best_score_"
   ]
  },
  {
   "cell_type": "code",
   "execution_count": 72,
   "metadata": {},
   "outputs": [
    {
     "data": {
      "text/plain": [
       "([mean: 0.24968, std: 0.00951, params: {'max_depth': 6, 'min_child_weight': 2},\n",
       "  mean: 0.24702, std: 0.01202, params: {'max_depth': 6, 'min_child_weight': 3},\n",
       "  mean: 0.25468, std: 0.01214, params: {'max_depth': 6, 'min_child_weight': 4},\n",
       "  mean: 0.25320, std: 0.01593, params: {'max_depth': 7, 'min_child_weight': 2},\n",
       "  mean: 0.25588, std: 0.01112, params: {'max_depth': 7, 'min_child_weight': 3},\n",
       "  mean: 0.25612, std: 0.01667, params: {'max_depth': 7, 'min_child_weight': 4},\n",
       "  mean: 0.24968, std: 0.00951, params: {'max_depth': 6, 'min_child_weight': 2},\n",
       "  mean: 0.24702, std: 0.01202, params: {'max_depth': 6, 'min_child_weight': 3},\n",
       "  mean: 0.25468, std: 0.01214, params: {'max_depth': 6, 'min_child_weight': 4}],\n",
       " {'max_depth': 7, 'min_child_weight': 4},\n",
       " 0.25612001135528206)"
      ]
     },
     "execution_count": 72,
     "metadata": {},
     "output_type": "execute_result"
    }
   ],
   "source": [
    "param_test2 = {\n",
    "    'max_depth':[6,7,6],\n",
    "    'min_child_weight':[2,3,4]\n",
    "}\n",
    "\n",
    "gsearch2 = GridSearch(estimator = xgb.XGBClassifier( learning_rate =0.1, n_estimators=140, max_depth=5,\n",
    " min_child_weight=1, gamma=0, subsample=0.8, colsample_bytree=0.8,\n",
    " objective= 'binary:logistic', nthread=4, scale_pos_weight=18, seed=27), \n",
    " param_grid = param_test2, scoring='f1',n_jobs=4,iid=False, cv=5)\n",
    "\n",
    "gsearch2.fit(X_train, y_train)\n",
    "gsearch2.grid_scores_, gsearch2.best_params_, gsearch2.best_score_"
   ]
  },
  {
   "cell_type": "code",
   "execution_count": 73,
   "metadata": {},
   "outputs": [
    {
     "data": {
      "text/plain": [
       "([mean: 0.25612, std: 0.01667, params: {'min_child_weight': 4},\n",
       "  mean: 0.25226, std: 0.01876, params: {'min_child_weight': 5},\n",
       "  mean: 0.25558, std: 0.01727, params: {'min_child_weight': 6}],\n",
       " {'min_child_weight': 4},\n",
       " 0.25612001135528206)"
      ]
     },
     "execution_count": 73,
     "metadata": {},
     "output_type": "execute_result"
    }
   ],
   "source": [
    "param_test2b = {\n",
    "    'min_child_weight':[4,5,6]\n",
    "}\n",
    "\n",
    "gsearch2 = GridSearch(estimator = xgb.XGBClassifier( learning_rate =0.1, n_estimators=140, max_depth=7,\n",
    " min_child_weight=1, gamma=0, subsample=0.8, colsample_bytree=0.8,\n",
    " objective= 'binary:logistic', nthread=4, scale_pos_weight=18, seed=27), \n",
    " param_grid = param_test2b, scoring='f1',n_jobs=4,iid=False, cv=5)\n",
    "\n",
    "gsearch2.fit(X_train, y_train)\n",
    "gsearch2.grid_scores_, gsearch2.best_params_, gsearch2.best_score_"
   ]
  },
  {
   "cell_type": "code",
   "execution_count": 75,
   "metadata": {},
   "outputs": [
    {
     "name": "stdout",
     "output_type": "stream",
     "text": [
      "('Accuracy: ', 0.8908060777749163)\n",
      "---Classification Report---\n",
      "             precision    recall  f1-score   support\n",
      "\n",
      "          0       0.96      0.92      0.94      3699\n",
      "          1       0.12      0.21      0.16       184\n",
      "\n",
      "avg / total       0.92      0.89      0.90      3883\n",
      "\n"
     ]
    }
   ],
   "source": [
    "xgb1 = xgb.XGBClassifier(\n",
    " learning_rate =0.1,\n",
    " n_estimators=1000,\n",
    " max_depth=7,\n",
    " min_child_weight=4,\n",
    " gamma=0,\n",
    " subsample=0.8,\n",
    " colsample_bytree=0.8,\n",
    " objective= 'binary:logistic',\n",
    " nthread=4,\n",
    " scale_pos_weight=18,\n",
    " seed=27)\n",
    "modelfit(xgb1)"
   ]
  },
  {
   "cell_type": "code",
   "execution_count": 76,
   "metadata": {},
   "outputs": [
    {
     "data": {
      "text/plain": [
       "([mean: 0.25612, std: 0.01667, params: {'gamma': 0.0},\n",
       "  mean: 0.25319, std: 0.01327, params: {'gamma': 0.1},\n",
       "  mean: 0.25185, std: 0.01329, params: {'gamma': 0.2},\n",
       "  mean: 0.25992, std: 0.01513, params: {'gamma': 0.3},\n",
       "  mean: 0.25641, std: 0.01641, params: {'gamma': 0.4}],\n",
       " {'gamma': 0.3},\n",
       " 0.25991551769644705)"
      ]
     },
     "execution_count": 76,
     "metadata": {},
     "output_type": "execute_result"
    }
   ],
   "source": [
    "aram_test3 = {\n",
    " 'gamma':[i/10.0 for i in range(0,5)]\n",
    "}\n",
    "gsearch3 = GridSearch(estimator = xgb.XGBClassifier( learning_rate =0.1, n_estimators=140, max_depth=7,\n",
    " min_child_weight=4, gamma=0, subsample=0.8, colsample_bytree=0.8,\n",
    " objective= 'binary:logistic', nthread=4, scale_pos_weight=18,seed=27), \n",
    " param_grid = param_test3, scoring='f1',n_jobs=4,iid=False, cv=5)\n",
    "gsearch3.fit(X_train,y_train)\n",
    "gsearch3.grid_scores_, gsearch3.best_params_, gsearch3.best_score_"
   ]
  },
  {
   "cell_type": "code",
   "execution_count": 77,
   "metadata": {},
   "outputs": [
    {
     "name": "stdout",
     "output_type": "stream",
     "text": [
      "('Accuracy: ', 0.8928663404584084)\n",
      "---Classification Report---\n",
      "             precision    recall  f1-score   support\n",
      "\n",
      "          0       0.96      0.93      0.94      3699\n",
      "          1       0.14      0.23      0.17       184\n",
      "\n",
      "avg / total       0.92      0.89      0.91      3883\n",
      "\n"
     ]
    }
   ],
   "source": [
    "xgb1 = xgb.XGBClassifier(\n",
    " learning_rate =0.1,\n",
    " n_estimators=1000,\n",
    " max_depth=7,\n",
    " min_child_weight=3,\n",
    " gamma=0.3,\n",
    " subsample=0.8,\n",
    " colsample_bytree=0.8,\n",
    " objective= 'binary:logistic',\n",
    " nthread=4,\n",
    " scale_pos_weight=18,\n",
    " seed=27)\n",
    "modelfit(xgb1)"
   ]
  },
  {
   "cell_type": "code",
   "execution_count": 78,
   "metadata": {},
   "outputs": [
    {
     "data": {
      "text/plain": [
       "([mean: 0.25768, std: 0.01199, params: {'subsample': 0.6, 'colsample_bytree': 0.6},\n",
       "  mean: 0.25542, std: 0.01620, params: {'subsample': 0.7, 'colsample_bytree': 0.6},\n",
       "  mean: 0.26177, std: 0.01515, params: {'subsample': 0.8, 'colsample_bytree': 0.6},\n",
       "  mean: 0.25683, std: 0.01895, params: {'subsample': 0.9, 'colsample_bytree': 0.6},\n",
       "  mean: 0.25646, std: 0.01072, params: {'subsample': 0.6, 'colsample_bytree': 0.7},\n",
       "  mean: 0.25814, std: 0.00534, params: {'subsample': 0.7, 'colsample_bytree': 0.7},\n",
       "  mean: 0.25398, std: 0.01626, params: {'subsample': 0.8, 'colsample_bytree': 0.7},\n",
       "  mean: 0.25646, std: 0.01750, params: {'subsample': 0.9, 'colsample_bytree': 0.7},\n",
       "  mean: 0.24773, std: 0.01391, params: {'subsample': 0.6, 'colsample_bytree': 0.8},\n",
       "  mean: 0.25478, std: 0.01404, params: {'subsample': 0.7, 'colsample_bytree': 0.8},\n",
       "  mean: 0.25982, std: 0.01284, params: {'subsample': 0.8, 'colsample_bytree': 0.8},\n",
       "  mean: 0.26012, std: 0.01816, params: {'subsample': 0.9, 'colsample_bytree': 0.8},\n",
       "  mean: 0.24974, std: 0.00814, params: {'subsample': 0.6, 'colsample_bytree': 0.9},\n",
       "  mean: 0.25286, std: 0.01684, params: {'subsample': 0.7, 'colsample_bytree': 0.9},\n",
       "  mean: 0.25752, std: 0.01052, params: {'subsample': 0.8, 'colsample_bytree': 0.9},\n",
       "  mean: 0.25178, std: 0.01260, params: {'subsample': 0.9, 'colsample_bytree': 0.9}],\n",
       " {'colsample_bytree': 0.6, 'subsample': 0.8},\n",
       " 0.2617744525244635)"
      ]
     },
     "execution_count": 78,
     "metadata": {},
     "output_type": "execute_result"
    }
   ],
   "source": [
    "param_test4 = {\n",
    " 'subsample':[i/10.0 for i in range(6,10)],\n",
    " 'colsample_bytree':[i/10.0 for i in range(6,10)]\n",
    "}\n",
    "\n",
    "gsearch4 = GridSearch(estimator = xgb.XGBClassifier( learning_rate =0.1, n_estimators=140, max_depth=7,\n",
    " min_child_weight=3, gamma=0.3, subsample=0.8, colsample_bytree=0.8,\n",
    " objective= 'binary:logistic', nthread=4, scale_pos_weight=18,seed=27), \n",
    " param_grid = param_test4, scoring='f1',n_jobs=4,iid=False, cv=5)\n",
    "gsearch4.fit(X_train,y_train)\n",
    "gsearch4.grid_scores_, gsearch4.best_params_, gsearch4.best_score_"
   ]
  },
  {
   "cell_type": "code",
   "execution_count": 80,
   "metadata": {},
   "outputs": [
    {
     "data": {
      "text/plain": [
       "([mean: 0.24466, std: 0.01174, params: {'subsample': 0.45, 'colsample_bytree': 0.3},\n",
       "  mean: 0.24000, std: 0.01060, params: {'subsample': 0.5, 'colsample_bytree': 0.3},\n",
       "  mean: 0.24070, std: 0.00544, params: {'subsample': 0.55, 'colsample_bytree': 0.3},\n",
       "  mean: 0.24153, std: 0.00982, params: {'subsample': 0.6, 'colsample_bytree': 0.3},\n",
       "  mean: 0.24378, std: 0.01392, params: {'subsample': 0.65, 'colsample_bytree': 0.3},\n",
       "  mean: 0.24443, std: 0.00912, params: {'subsample': 0.7, 'colsample_bytree': 0.3},\n",
       "  mean: 0.24664, std: 0.00536, params: {'subsample': 0.75, 'colsample_bytree': 0.3},\n",
       "  mean: 0.25301, std: 0.01710, params: {'subsample': 0.45, 'colsample_bytree': 0.35},\n",
       "  mean: 0.25022, std: 0.01480, params: {'subsample': 0.5, 'colsample_bytree': 0.35},\n",
       "  mean: 0.25390, std: 0.00926, params: {'subsample': 0.55, 'colsample_bytree': 0.35},\n",
       "  mean: 0.24994, std: 0.00919, params: {'subsample': 0.6, 'colsample_bytree': 0.35},\n",
       "  mean: 0.24615, std: 0.00898, params: {'subsample': 0.65, 'colsample_bytree': 0.35},\n",
       "  mean: 0.25381, std: 0.01251, params: {'subsample': 0.7, 'colsample_bytree': 0.35},\n",
       "  mean: 0.25337, std: 0.00809, params: {'subsample': 0.75, 'colsample_bytree': 0.35},\n",
       "  mean: 0.25301, std: 0.01710, params: {'subsample': 0.45, 'colsample_bytree': 0.4},\n",
       "  mean: 0.25022, std: 0.01480, params: {'subsample': 0.5, 'colsample_bytree': 0.4},\n",
       "  mean: 0.25390, std: 0.00926, params: {'subsample': 0.55, 'colsample_bytree': 0.4},\n",
       "  mean: 0.24994, std: 0.00919, params: {'subsample': 0.6, 'colsample_bytree': 0.4},\n",
       "  mean: 0.24615, std: 0.00898, params: {'subsample': 0.65, 'colsample_bytree': 0.4},\n",
       "  mean: 0.25381, std: 0.01251, params: {'subsample': 0.7, 'colsample_bytree': 0.4},\n",
       "  mean: 0.25337, std: 0.00809, params: {'subsample': 0.75, 'colsample_bytree': 0.4},\n",
       "  mean: 0.25551, std: 0.01393, params: {'subsample': 0.45, 'colsample_bytree': 0.45},\n",
       "  mean: 0.25622, std: 0.00877, params: {'subsample': 0.5, 'colsample_bytree': 0.45},\n",
       "  mean: 0.25052, std: 0.00739, params: {'subsample': 0.55, 'colsample_bytree': 0.45},\n",
       "  mean: 0.25626, std: 0.01702, params: {'subsample': 0.6, 'colsample_bytree': 0.45},\n",
       "  mean: 0.25186, std: 0.01354, params: {'subsample': 0.65, 'colsample_bytree': 0.45},\n",
       "  mean: 0.25389, std: 0.01105, params: {'subsample': 0.7, 'colsample_bytree': 0.45},\n",
       "  mean: 0.25486, std: 0.01344, params: {'subsample': 0.75, 'colsample_bytree': 0.45},\n",
       "  mean: 0.25551, std: 0.01393, params: {'subsample': 0.45, 'colsample_bytree': 0.5},\n",
       "  mean: 0.25622, std: 0.00877, params: {'subsample': 0.5, 'colsample_bytree': 0.5},\n",
       "  mean: 0.25052, std: 0.00739, params: {'subsample': 0.55, 'colsample_bytree': 0.5},\n",
       "  mean: 0.25626, std: 0.01702, params: {'subsample': 0.6, 'colsample_bytree': 0.5},\n",
       "  mean: 0.25186, std: 0.01354, params: {'subsample': 0.65, 'colsample_bytree': 0.5},\n",
       "  mean: 0.25389, std: 0.01105, params: {'subsample': 0.7, 'colsample_bytree': 0.5},\n",
       "  mean: 0.25486, std: 0.01344, params: {'subsample': 0.75, 'colsample_bytree': 0.5},\n",
       "  mean: 0.25551, std: 0.01393, params: {'subsample': 0.45, 'colsample_bytree': 0.55},\n",
       "  mean: 0.25622, std: 0.00877, params: {'subsample': 0.5, 'colsample_bytree': 0.55},\n",
       "  mean: 0.25052, std: 0.00739, params: {'subsample': 0.55, 'colsample_bytree': 0.55},\n",
       "  mean: 0.25626, std: 0.01702, params: {'subsample': 0.6, 'colsample_bytree': 0.55},\n",
       "  mean: 0.25186, std: 0.01354, params: {'subsample': 0.65, 'colsample_bytree': 0.55},\n",
       "  mean: 0.25389, std: 0.01105, params: {'subsample': 0.7, 'colsample_bytree': 0.55},\n",
       "  mean: 0.25486, std: 0.01344, params: {'subsample': 0.75, 'colsample_bytree': 0.55},\n",
       "  mean: 0.26311, std: 0.01658, params: {'subsample': 0.45, 'colsample_bytree': 0.6},\n",
       "  mean: 0.25637, std: 0.00665, params: {'subsample': 0.5, 'colsample_bytree': 0.6},\n",
       "  mean: 0.25546, std: 0.00800, params: {'subsample': 0.55, 'colsample_bytree': 0.6},\n",
       "  mean: 0.25768, std: 0.01199, params: {'subsample': 0.6, 'colsample_bytree': 0.6},\n",
       "  mean: 0.25803, std: 0.01186, params: {'subsample': 0.65, 'colsample_bytree': 0.6},\n",
       "  mean: 0.25542, std: 0.01620, params: {'subsample': 0.7, 'colsample_bytree': 0.6},\n",
       "  mean: 0.25486, std: 0.01363, params: {'subsample': 0.75, 'colsample_bytree': 0.6},\n",
       "  mean: 0.26311, std: 0.01658, params: {'subsample': 0.45, 'colsample_bytree': 0.65},\n",
       "  mean: 0.25637, std: 0.00665, params: {'subsample': 0.5, 'colsample_bytree': 0.65},\n",
       "  mean: 0.25546, std: 0.00800, params: {'subsample': 0.55, 'colsample_bytree': 0.65},\n",
       "  mean: 0.25768, std: 0.01199, params: {'subsample': 0.6, 'colsample_bytree': 0.65},\n",
       "  mean: 0.25803, std: 0.01186, params: {'subsample': 0.65, 'colsample_bytree': 0.65},\n",
       "  mean: 0.25542, std: 0.01620, params: {'subsample': 0.7, 'colsample_bytree': 0.65},\n",
       "  mean: 0.25486, std: 0.01363, params: {'subsample': 0.75, 'colsample_bytree': 0.65},\n",
       "  mean: 0.25396, std: 0.00796, params: {'subsample': 0.45, 'colsample_bytree': 0.7},\n",
       "  mean: 0.25733, std: 0.01297, params: {'subsample': 0.5, 'colsample_bytree': 0.7},\n",
       "  mean: 0.25641, std: 0.01476, params: {'subsample': 0.55, 'colsample_bytree': 0.7},\n",
       "  mean: 0.25646, std: 0.01072, params: {'subsample': 0.6, 'colsample_bytree': 0.7},\n",
       "  mean: 0.25212, std: 0.01737, params: {'subsample': 0.65, 'colsample_bytree': 0.7},\n",
       "  mean: 0.25814, std: 0.00534, params: {'subsample': 0.7, 'colsample_bytree': 0.7},\n",
       "  mean: 0.25908, std: 0.01655, params: {'subsample': 0.75, 'colsample_bytree': 0.7}],\n",
       " {'colsample_bytree': 0.6, 'subsample': 0.45},\n",
       " 0.26310836052056114)"
      ]
     },
     "execution_count": 80,
     "metadata": {},
     "output_type": "execute_result"
    }
   ],
   "source": [
    "param_test5 = {\n",
    "    'subsample':[i/100.0 for i in range(45,80,5)],\n",
    "    'colsample_bytree':[i/100.0 for i in range(30,75,5)]\n",
    "}\n",
    "\n",
    "gsearch5 = GridSearch(estimator = xgb.XGBClassifier( learning_rate =0.1, n_estimators=140, max_depth=7,\n",
    "min_child_weight=3, gamma=0.3, subsample=0.8, colsample_bytree=0.8,\n",
    "objective= 'binary:logistic', nthread=4, scale_pos_weight=18,seed=27), \n",
    "param_grid = param_test5, scoring='f1',n_jobs=4,iid=False, cv=5)\n",
    "gsearch5.fit(X_train,y_train)\n",
    "gsearch5.grid_scores_, gsearch5.best_params_, gsearch5.best_score_"
   ]
  },
  {
   "cell_type": "code",
   "execution_count": 89,
   "metadata": {},
   "outputs": [
    {
     "name": "stdout",
     "output_type": "stream",
     "text": [
      "('Accuracy: ', 0.8776719031676539)\n",
      "---Classification Report---\n",
      "             precision    recall  f1-score   support\n",
      "\n",
      "          0       0.96      0.91      0.93      3699\n",
      "          1       0.14      0.30      0.19       184\n",
      "\n",
      "avg / total       0.92      0.88      0.90      3883\n",
      "\n"
     ]
    }
   ],
   "source": [
    "xgb1 = xgb.XGBClassifier(\n",
    " learning_rate =0.1,\n",
    " n_estimators=1000,\n",
    " max_depth=7,\n",
    " min_child_weight=3,\n",
    " gamma=0.3,\n",
    " subsample=0.6,\n",
    " colsample_bytree=0.45,\n",
    " objective= 'binary:logistic',\n",
    " nthread=4,\n",
    " scale_pos_weight=18,\n",
    " seed=27)\n",
    "modelfit(xgb1)"
   ]
  },
  {
   "cell_type": "code",
   "execution_count": 90,
   "metadata": {},
   "outputs": [
    {
     "data": {
      "text/plain": [
       "([mean: 0.25626, std: 0.01702, params: {'reg_alpha': 1e-05},\n",
       "  mean: 0.25920, std: 0.01421, params: {'reg_alpha': 0.01},\n",
       "  mean: 0.26144, std: 0.01275, params: {'reg_alpha': 0.1},\n",
       "  mean: 0.25641, std: 0.01145, params: {'reg_alpha': 1},\n",
       "  mean: 0.23634, std: 0.00960, params: {'reg_alpha': 100}],\n",
       " {'reg_alpha': 0.1},\n",
       " 0.26143842493851477)"
      ]
     },
     "execution_count": 90,
     "metadata": {},
     "output_type": "execute_result"
    }
   ],
   "source": [
    "param_test6 = {\n",
    " 'reg_alpha':[1e-5, 1e-2, 0.1, 1, 100]\n",
    "}\n",
    "\n",
    "gsearch6 = GridSearch(estimator = xgb.XGBClassifier( learning_rate =0.1, n_estimators=140, max_depth=7,\n",
    "min_child_weight=3, gamma=0.3, subsample=0.6, colsample_bytree=0.45,\n",
    "objective= 'binary:logistic', nthread=4, scale_pos_weight=18,seed=27), \n",
    "param_grid = param_test6, scoring='f1',n_jobs=4,iid=False, cv=5)\n",
    "gsearch6.fit(X_train,y_train)\n",
    "gsearch6.grid_scores_, gsearch6.best_params_, gsearch6.best_score_"
   ]
  },
  {
   "cell_type": "code",
   "execution_count": 96,
   "metadata": {},
   "outputs": [
    {
     "data": {
      "text/plain": [
       "([mean: 0.25349, std: 0.01759, params: {'reg_alpha': 0.08},\n",
       "  mean: 0.26191, std: 0.01513, params: {'reg_alpha': 0.09},\n",
       "  mean: 0.26144, std: 0.01275, params: {'reg_alpha': 0.1},\n",
       "  mean: 0.25684, std: 0.01606, params: {'reg_alpha': 0.2},\n",
       "  mean: 0.25641, std: 0.01145, params: {'reg_alpha': 1}],\n",
       " {'reg_alpha': 0.09},\n",
       " 0.26143842493851477)"
      ]
     },
     "execution_count": 96,
     "metadata": {},
     "output_type": "execute_result"
    }
   ],
   "source": [
    "param_test7 = {\n",
    "    'reg_alpha':[0.08, 0.09, 0.1, 0.2, 1]\n",
    "}\n",
    "\n",
    "gsearch7 = GridSearch(estimator = xgb.XGBClassifier( learning_rate =0.1, n_estimators=140, max_depth=7,\n",
    "min_child_weight=3, gamma=0.3, subsample=0.6, colsample_bytree=0.45,\n",
    "objective= 'binary:logistic', nthread=4, scale_pos_weight=18,seed=27), \n",
    "param_grid = param_test7, scoring='f1',n_jobs=4,iid=False, cv=5)\n",
    "gsearch7.fit(X_train,y_train)\n",
    "gsearch7.grid_scores_, gsearch7.best_params_, gsearch6.best_score_"
   ]
  },
  {
   "cell_type": "code",
   "execution_count": 97,
   "metadata": {},
   "outputs": [
    {
     "data": {
      "text/plain": [
       "([mean: 0.00000, std: 0.00000, params: {'learning_rate': 0},\n",
       "  mean: 0.26716, std: 0.01292, params: {'learning_rate': 0.001},\n",
       "  mean: 0.26698, std: 0.01459, params: {'learning_rate': 0.01},\n",
       "  mean: 0.25626, std: 0.01702, params: {'learning_rate': 0.1},\n",
       "  mean: 0.23881, std: 0.01001, params: {'learning_rate': 0.2}],\n",
       " {'learning_rate': 0.001},\n",
       " 0.2671625212684202)"
      ]
     },
     "execution_count": 97,
     "metadata": {},
     "output_type": "execute_result"
    }
   ],
   "source": [
    "param_test8 = {\n",
    "    'learning_rate':[0, 0.001, 0.01, 0.1, 0.2]\n",
    "}\n",
    "\n",
    "gsearch8 = GridSearch(estimator = xgb.XGBClassifier( learning_rate =0.1, n_estimators=140, max_depth=7,\n",
    "min_child_weight=3, gamma=0.3, subsample=0.6, colsample_bytree=0.45,\n",
    "objective= 'binary:logistic', nthread=4, scale_pos_weight=18,seed=27), \n",
    "param_grid = param_test8, scoring='f1',n_jobs=4,iid=False, cv=5)\n",
    "gsearch8.fit(X_train,y_train)\n",
    "gsearch8.grid_scores_, gsearch8.best_params_, gsearch8.best_score_"
   ]
  },
  {
   "cell_type": "code",
   "execution_count": 98,
   "metadata": {},
   "outputs": [
    {
     "data": {
      "text/plain": [
       "([mean: 0.00000, std: 0.00000, params: {'learning_rate': 0},\n",
       "  mean: 0.26723, std: 0.01292, params: {'learning_rate': 0.0001},\n",
       "  mean: 0.26716, std: 0.01292, params: {'learning_rate': 0.001}],\n",
       " {'learning_rate': 0.0001},\n",
       " 0.26723255205681934)"
      ]
     },
     "execution_count": 98,
     "metadata": {},
     "output_type": "execute_result"
    }
   ],
   "source": [
    "param_test8 = {\n",
    "    'learning_rate':[0, 0.0001, 0.001]\n",
    "}\n",
    "\n",
    "gsearch8 = GridSearch(estimator = xgb.XGBClassifier( learning_rate =0.1, n_estimators=140, max_depth=7,\n",
    "min_child_weight=3, gamma=0.3, subsample=0.6, colsample_bytree=0.45,\n",
    "objective= 'binary:logistic', nthread=4, scale_pos_weight=18,seed=27), \n",
    "param_grid = param_test8, scoring='f1',n_jobs=4,iid=False, cv=5)\n",
    "gsearch8.fit(X_train,y_train)\n",
    "gsearch8.grid_scores_, gsearch8.best_params_, gsearch8.best_score_"
   ]
  },
  {
   "cell_type": "code",
   "execution_count": 108,
   "metadata": {
    "scrolled": true
   },
   "outputs": [
    {
     "name": "stdout",
     "output_type": "stream",
     "text": [
      "('Accuracy: ', 0.8117434972959052)\n",
      "---Classification Report---\n",
      "             precision    recall  f1-score   support\n",
      "\n",
      "          0       0.98      0.82      0.89      3699\n",
      "          1       0.15      0.66      0.25       184\n",
      "\n",
      "avg / total       0.94      0.81      0.86      3883\n",
      "\n"
     ]
    }
   ],
   "source": [
    "xgb1 = xgb.XGBClassifier(\n",
    " learning_rate =0.0001,\n",
    " n_estimators=1000,\n",
    " max_depth=7,\n",
    " min_child_weight=3,\n",
    " gamma=0.3,\n",
    " subsample=0.6,\n",
    " colsample_bytree=0.45,\n",
    " objective= 'binary:logistic',\n",
    " nthread=4,\n",
    " scale_pos_weight=18,\n",
    " seed=27)\n",
    "modelfit(xgb1)"
   ]
  },
  {
   "cell_type": "code",
   "execution_count": 113,
   "metadata": {},
   "outputs": [],
   "source": [
    "xgb1.fit(x,y, eval_metric='aucpr')\n",
    "pred = (xgb1.predict_proba(z)[:,1])"
   ]
  },
  {
   "cell_type": "code",
   "execution_count": 115,
   "metadata": {},
   "outputs": [
    {
     "name": "stdout",
     "output_type": "stream",
     "text": [
      "Cantidad de no conversiones: 14985\n",
      "Cantidad de conversiones: 4430\n"
     ]
    }
   ],
   "source": [
    "persons = test_set['person']\n",
    "submit = pd.DataFrame({'label': pred, 'person': persons})\n",
    "submit = submit[['person', 'label']]\n",
    "submit.to_csv('../submits/xgboost.csv', index=False)\n",
    "no_conversiones = submit.loc[submit['label'] < 0.5]['label'].count()\n",
    "print 'Cantidad de no conversiones: ' + str(no_conversiones)\n",
    "\n",
    "conversiones = submit.loc[submit['label'] >= 0.5]['label'].count()\n",
    "print 'Cantidad de conversiones: ' + str(conversiones)"
   ]
  },
  {
   "cell_type": "code",
   "execution_count": 116,
   "metadata": {},
   "outputs": [
    {
     "data": {
      "text/plain": [
       "0.4895712733268738"
      ]
     },
     "execution_count": 116,
     "metadata": {},
     "output_type": "execute_result"
    }
   ],
   "source": [
    "submit['label'].mean()"
   ]
  },
  {
   "cell_type": "code",
   "execution_count": null,
   "metadata": {},
   "outputs": [],
   "source": []
  }
 ],
 "metadata": {
  "kernelspec": {
   "display_name": "Python 2",
   "language": "python",
   "name": "python2"
  },
  "language_info": {
   "codemirror_mode": {
    "name": "ipython",
    "version": 2
   },
   "file_extension": ".py",
   "mimetype": "text/x-python",
   "name": "python",
   "nbconvert_exporter": "python",
   "pygments_lexer": "ipython2",
   "version": "2.7.15"
  }
 },
 "nbformat": 4,
 "nbformat_minor": 2
}
