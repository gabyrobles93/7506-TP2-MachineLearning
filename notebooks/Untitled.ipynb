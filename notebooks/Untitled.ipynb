{
 "cells": [
  {
   "cell_type": "code",
   "execution_count": 7,
   "metadata": {},
   "outputs": [],
   "source": [
    "# loading libraries\n",
    "import warnings\n",
    "warnings.filterwarnings('ignore')\n",
    "import pandas as pd\n",
    "import pandas as pd\n",
    "import numpy as np\n",
    "from sklearn.cross_validation import train_test_split\n",
    "from sklearn.neighbors import KNeighborsClassifier\n",
    "from sklearn.metrics import accuracy_score\n",
    "from sklearn.metrics import log_loss\n",
    "import xgboost as xgb\n",
    "from xgboost import plot_importance\n",
    "from matplotlib import pyplot\n",
    "from sklearn.model_selection import StratifiedKFold\n",
    "from sklearn.model_selection import GridSearchCV as GridSearch\n",
    "from sklearn.ensemble import RandomForestClassifier\n",
    "from sklearn.metrics import roc_auc_score\n",
    "from sklearn.metrics import classification_report, confusion_matrix, roc_curve, auc, precision_recall_curve,roc_curve\n"
   ]
  },
  {
   "cell_type": "code",
   "execution_count": 5,
   "metadata": {},
   "outputs": [],
   "source": [
    "features_gaby = pd.read_csv('../features/features_gaby.csv')\n",
    "features_gonza = pd.read_csv('../features/features_gonza.csv').drop(columns='Unnamed: 0')\n",
    "features_ari = pd.read_csv('../features/features_ariel.csv')\n",
    "features_mati = pd.read_csv('../features/features_frecuencia.csv')\n",
    "labels_training_set = pd.read_csv('../dataset/labels_training_set.csv')\n",
    "test_set = pd.read_csv('../dataset/trocafone_kaggle_test.csv')\n",
    "features_gonza2 = pd.read_csv('../features/features_gonza2.csv')"
   ]
  },
  {
   "cell_type": "code",
   "execution_count": 6,
   "metadata": {},
   "outputs": [
    {
     "data": {
      "text/html": [
       "<div>\n",
       "<style scoped>\n",
       "    .dataframe tbody tr th:only-of-type {\n",
       "        vertical-align: middle;\n",
       "    }\n",
       "\n",
       "    .dataframe tbody tr th {\n",
       "        vertical-align: top;\n",
       "    }\n",
       "\n",
       "    .dataframe thead th {\n",
       "        text-align: right;\n",
       "    }\n",
       "</style>\n",
       "<table border=\"1\" class=\"dataframe\">\n",
       "  <thead>\n",
       "    <tr style=\"text-align: right;\">\n",
       "      <th></th>\n",
       "      <th>person</th>\n",
       "      <th>marca_favorita_apple</th>\n",
       "      <th>marca_favorita_asus</th>\n",
       "      <th>marca_favorita_lenovo</th>\n",
       "      <th>marca_favorita_lg</th>\n",
       "      <th>marca_favorita_motorola</th>\n",
       "      <th>marca_favorita_no tiene</th>\n",
       "      <th>marca_favorita_quantum</th>\n",
       "      <th>marca_favorita_samsung</th>\n",
       "      <th>marca_favorita_sony</th>\n",
       "      <th>...</th>\n",
       "      <th>generic listing</th>\n",
       "      <th>searched products</th>\n",
       "      <th>viewed product</th>\n",
       "      <th>visited site</th>\n",
       "      <th>completa_flujo</th>\n",
       "      <th>cantidad_lead_y</th>\n",
       "      <th>favorite_device_Computer</th>\n",
       "      <th>favorite_device_Smartphone</th>\n",
       "      <th>favorite_device_Tablet</th>\n",
       "      <th>favorite_device_Unknown</th>\n",
       "    </tr>\n",
       "  </thead>\n",
       "  <tbody>\n",
       "    <tr>\n",
       "      <th>0</th>\n",
       "      <td>0008ed71</td>\n",
       "      <td>1</td>\n",
       "      <td>0</td>\n",
       "      <td>0</td>\n",
       "      <td>0</td>\n",
       "      <td>0</td>\n",
       "      <td>0</td>\n",
       "      <td>0</td>\n",
       "      <td>0</td>\n",
       "      <td>0</td>\n",
       "      <td>...</td>\n",
       "      <td>1.0</td>\n",
       "      <td>NaN</td>\n",
       "      <td>NaN</td>\n",
       "      <td>2.0</td>\n",
       "      <td>False</td>\n",
       "      <td>NaN</td>\n",
       "      <td>1</td>\n",
       "      <td>0</td>\n",
       "      <td>0</td>\n",
       "      <td>0</td>\n",
       "    </tr>\n",
       "    <tr>\n",
       "      <th>1</th>\n",
       "      <td>00091926</td>\n",
       "      <td>1</td>\n",
       "      <td>0</td>\n",
       "      <td>0</td>\n",
       "      <td>0</td>\n",
       "      <td>0</td>\n",
       "      <td>0</td>\n",
       "      <td>0</td>\n",
       "      <td>0</td>\n",
       "      <td>0</td>\n",
       "      <td>...</td>\n",
       "      <td>NaN</td>\n",
       "      <td>NaN</td>\n",
       "      <td>372.0</td>\n",
       "      <td>34.0</td>\n",
       "      <td>False</td>\n",
       "      <td>NaN</td>\n",
       "      <td>1</td>\n",
       "      <td>0</td>\n",
       "      <td>0</td>\n",
       "      <td>0</td>\n",
       "    </tr>\n",
       "    <tr>\n",
       "      <th>2</th>\n",
       "      <td>00091a7a</td>\n",
       "      <td>1</td>\n",
       "      <td>0</td>\n",
       "      <td>0</td>\n",
       "      <td>0</td>\n",
       "      <td>0</td>\n",
       "      <td>0</td>\n",
       "      <td>0</td>\n",
       "      <td>0</td>\n",
       "      <td>0</td>\n",
       "      <td>...</td>\n",
       "      <td>NaN</td>\n",
       "      <td>NaN</td>\n",
       "      <td>3.0</td>\n",
       "      <td>1.0</td>\n",
       "      <td>False</td>\n",
       "      <td>NaN</td>\n",
       "      <td>0</td>\n",
       "      <td>1</td>\n",
       "      <td>0</td>\n",
       "      <td>0</td>\n",
       "    </tr>\n",
       "    <tr>\n",
       "      <th>3</th>\n",
       "      <td>000ba417</td>\n",
       "      <td>0</td>\n",
       "      <td>0</td>\n",
       "      <td>0</td>\n",
       "      <td>0</td>\n",
       "      <td>0</td>\n",
       "      <td>0</td>\n",
       "      <td>0</td>\n",
       "      <td>1</td>\n",
       "      <td>0</td>\n",
       "      <td>...</td>\n",
       "      <td>14.0</td>\n",
       "      <td>NaN</td>\n",
       "      <td>153.0</td>\n",
       "      <td>6.0</td>\n",
       "      <td>False</td>\n",
       "      <td>NaN</td>\n",
       "      <td>1</td>\n",
       "      <td>0</td>\n",
       "      <td>0</td>\n",
       "      <td>0</td>\n",
       "    </tr>\n",
       "    <tr>\n",
       "      <th>4</th>\n",
       "      <td>000c79fe</td>\n",
       "      <td>1</td>\n",
       "      <td>0</td>\n",
       "      <td>0</td>\n",
       "      <td>0</td>\n",
       "      <td>0</td>\n",
       "      <td>0</td>\n",
       "      <td>0</td>\n",
       "      <td>0</td>\n",
       "      <td>0</td>\n",
       "      <td>...</td>\n",
       "      <td>1.0</td>\n",
       "      <td>9.0</td>\n",
       "      <td>3.0</td>\n",
       "      <td>1.0</td>\n",
       "      <td>False</td>\n",
       "      <td>NaN</td>\n",
       "      <td>0</td>\n",
       "      <td>1</td>\n",
       "      <td>0</td>\n",
       "      <td>0</td>\n",
       "    </tr>\n",
       "  </tbody>\n",
       "</table>\n",
       "<p>5 rows × 233 columns</p>\n",
       "</div>"
      ],
      "text/plain": [
       "     person  marca_favorita_apple  marca_favorita_asus  marca_favorita_lenovo  \\\n",
       "0  0008ed71                     1                    0                      0   \n",
       "1  00091926                     1                    0                      0   \n",
       "2  00091a7a                     1                    0                      0   \n",
       "3  000ba417                     0                    0                      0   \n",
       "4  000c79fe                     1                    0                      0   \n",
       "\n",
       "   marca_favorita_lg  marca_favorita_motorola  marca_favorita_no tiene  \\\n",
       "0                  0                        0                        0   \n",
       "1                  0                        0                        0   \n",
       "2                  0                        0                        0   \n",
       "3                  0                        0                        0   \n",
       "4                  0                        0                        0   \n",
       "\n",
       "   marca_favorita_quantum  marca_favorita_samsung  marca_favorita_sony  \\\n",
       "0                       0                       0                    0   \n",
       "1                       0                       0                    0   \n",
       "2                       0                       0                    0   \n",
       "3                       0                       1                    0   \n",
       "4                       0                       0                    0   \n",
       "\n",
       "            ...             generic listing  searched products  \\\n",
       "0           ...                         1.0                NaN   \n",
       "1           ...                         NaN                NaN   \n",
       "2           ...                         NaN                NaN   \n",
       "3           ...                        14.0                NaN   \n",
       "4           ...                         1.0                9.0   \n",
       "\n",
       "   viewed product  visited site  completa_flujo  cantidad_lead_y  \\\n",
       "0             NaN           2.0           False              NaN   \n",
       "1           372.0          34.0           False              NaN   \n",
       "2             3.0           1.0           False              NaN   \n",
       "3           153.0           6.0           False              NaN   \n",
       "4             3.0           1.0           False              NaN   \n",
       "\n",
       "   favorite_device_Computer  favorite_device_Smartphone  \\\n",
       "0                         1                           0   \n",
       "1                         1                           0   \n",
       "2                         0                           1   \n",
       "3                         1                           0   \n",
       "4                         0                           1   \n",
       "\n",
       "   favorite_device_Tablet  favorite_device_Unknown  \n",
       "0                       0                        0  \n",
       "1                       0                        0  \n",
       "2                       0                        0  \n",
       "3                       0                        0  \n",
       "4                       0                        0  \n",
       "\n",
       "[5 rows x 233 columns]"
      ]
     },
     "execution_count": 6,
     "metadata": {},
     "output_type": "execute_result"
    }
   ],
   "source": [
    "#model_df = pd.merge(features_gaby, features_gonza, how='inner', on='person')\n",
    "model_df = pd.merge(features_gaby, features_ari, how='inner', on='person')\n",
    "model_df = pd.merge(model_df, features_gonza, how='inner', on='person')\n",
    "model_df = pd.merge(model_df, features_gonza2, how='inner', on='person')\n",
    "#model_df = pd.merge(model_df, features_mati, how='inner', on='person')\n",
    "model_df.head()"
   ]
  },
  {
   "cell_type": "code",
   "execution_count": 71,
   "metadata": {},
   "outputs": [],
   "source": [
    "model_df.fillna(value=0, inplace=True)\n",
    "model_df['most_viewed_sku'] = model_df['most_viewed_sku'].astype('category')\n",
    "model_df['favorite_device_Computer'] = model_df['favorite_device_Computer'].astype('category')\n",
    "training_set = pd.merge(model_df, labels_training_set, how='inner', on='person')\n",
    "test_set = pd.merge(model_df, test_set, how='inner', on='person')\n",
    "#training_set.drop(columns= 'Unnamed: 0', inplace=True)"
   ]
  },
  {
   "cell_type": "code",
   "execution_count": 72,
   "metadata": {},
   "outputs": [],
   "source": [
    "#training_set = training_set.drop(((training_set['label'] == 1) & (training_set['visited site'] == 0)).index)\n",
    "#df = df.drop(df[(df.score < 50) & (df.score > 20)].index)\n",
    "\n",
    "\n",
    "training_set = training_set.drop(training_set[(training_set.label == 1) & (training_set['visited site'] == 0)].index)"
   ]
  },
  {
   "cell_type": "code",
   "execution_count": 73,
   "metadata": {},
   "outputs": [
    {
     "data": {
      "text/plain": [
       "Index([u'Unnamed: 0', u'person', u'cant_accesos_southeast',\n",
       "       u'cant_accesos_northeast', u'cant_accesos_south',\n",
       "       u'cant_accesos_center_west', u'cant_accesos_north', u'time_first_event',\n",
       "       u'time_last_event', u'how_long_ago_was_first_event',\n",
       "       ...\n",
       "       u'interest_last_142_days', u'interest_last_143_days',\n",
       "       u'interest_last_144_days', u'interest_last_145_days',\n",
       "       u'interest_last_146_days', u'interest_last_147_days',\n",
       "       u'interest_last_148_days', u'interest_last_149_days',\n",
       "       u'interest_last_150_days', u'interest_last_151_days'],\n",
       "      dtype='object', length=190)"
      ]
     },
     "execution_count": 73,
     "metadata": {},
     "output_type": "execute_result"
    }
   ],
   "source": [
    "features_ari.columns"
   ]
  },
  {
   "cell_type": "code",
   "execution_count": 74,
   "metadata": {},
   "outputs": [],
   "source": [
    "compradores = training_set.loc[training_set['label'] == 1]\n",
    "no_compradores = training_set.loc[training_set['label'] == 0]"
   ]
  },
  {
   "cell_type": "code",
   "execution_count": 75,
   "metadata": {},
   "outputs": [],
   "source": [
    "features = ['cant_total_eventos', #f1\n",
    "            #'marca_favorita_apple',#f2\n",
    "            'mean_events_per_day',#f3\n",
    "            #'has_converted_before',#f4\n",
    "            #'most_viewed_sku',#f5\n",
    "            #'most_viewed_color_Preto',#f6\n",
    "            #'most_viewed_color_Branco',#f7\n",
    "            #'most_viewed_color_Dourado', #f8\n",
    "            #'region_brasil_Sao Paulo',#f9\n",
    "            #'region_brasil_Unknown',#f10\n",
    "            #'region_brasil_Minas Gerais',#f11\n",
    "            #'marca_favorita_samsung',#f12\n",
    "            #'cant_ev_noche',#f13\n",
    "            #'cant_ev_manana',#f14\n",
    "            #'cant_ev_tarde',#f15\n",
    "            #'cant_ev_madrugada',#f16\n",
    "            #'cant_buenos',#f17\n",
    "            #'cant_muy_buenos',#f18\n",
    "            #'cant_excelentes',#f19\n",
    "            #'nivel_de_actividad_Muy Bajo',#f20\n",
    "            #'nivel_de_actividad_Muy Alto',#f21\n",
    "            'nivel_de_actividad_Bajo',#f22\n",
    "            'nivel_de_actividad_Medio',#f23\n",
    "            'nivel_de_actividad_Alto',#f24\n",
    "            #'favorite_device_Smartphone',#f25\n",
    "            'favorite_device_Computer',#f26\n",
    "            'cantidad_checkouts',#f27\n",
    "            'cantidad_conversions',#f28\n",
    "            'tasa_cc',\n",
    "            'viewed product',\n",
    "            #'cantidad_lead',\n",
    "            #'searched products',\n",
    "            #'first_and_last_event_distance_in_days',\n",
    "            'month_moda',\n",
    "            #'dias_distintos_con_eventos',\n",
    "            #'eventos_totales_generados'\n",
    "            #'completa_flujo'\n",
    "            #'cant_modelo_iphone',\n",
    "            #'cant_modelo_samsung',\n",
    "            #'cant_modelo_motorola',\n",
    "            #'cant_modelo_otro',\n",
    "            #'porcentaje_modelo_iphone', \n",
    "            #'porcentaje_modelo_samsung',\n",
    "            #'porcentaje_modelo_motorola', \n",
    "            #'porcentaje_modelo_otro',\n",
    "            #'modelo_moda',\n",
    "            'interest_last_151_days',\n",
    "            'interest_last_4_days',\n",
    "            'interest_last_6_days',\n",
    "            'interest_last_8_days',\n",
    "            'interest_last_10_days',\n",
    "            'interest_last_12_days',\n",
    "            'interest_last_14_days',\n",
    "            'interest_last_16_days',\n",
    "            'interest_last_18_days',\n",
    "            'interest_last_20_days',\n",
    "            'interest_last_22_days',\n",
    "            'interest_last_24_days',\n",
    "            'interest_last_26_days',\n",
    "            'interest_last_28_days',\n",
    "            'interest_last_30_days'\n",
    "           ]"
   ]
  },
  {
   "cell_type": "code",
   "execution_count": 76,
   "metadata": {},
   "outputs": [],
   "source": [
    "x = np.array(training_set[features])\n",
    "y = np.array(training_set['label'])\n",
    "z = np.array(test_set[features])\n",
    "X_train, X_test, y_train, y_test = train_test_split(x,y, test_size=0.20)"
   ]
  },
  {
   "cell_type": "code",
   "execution_count": 77,
   "metadata": {},
   "outputs": [],
   "source": [
    "def modelfit(alg):\n",
    "    alg.fit(X_train, y_train, eval_metric='aucpr')\n",
    "    pred = (alg.predict_proba(X_test)[:,1])\n",
    "    accuracy = accuracy_score(y_test, pred.round(), normalize=False)\n",
    "    pred_proba = pred\n",
    "    print(\"Accuracy: \", accuracy / float(pred.size))\n",
    "\n",
    "    for i in xrange(0,pred.size):\n",
    "        if (pred[i] >= 0.5):\n",
    "            pred[i] = 1\n",
    "        else: \n",
    "            pred[i] = 0\n",
    "\n",
    "    print('---Classification Report---')\n",
    "    print(classification_report(y_test,pred))\n",
    "    print('AUROC :' + str(roc_auc_score(y_test, pred_proba)))\n",
    "    \n",
    "    \n",
    "    "
   ]
  },
  {
   "cell_type": "code",
   "execution_count": 37,
   "metadata": {},
   "outputs": [
    {
     "name": "stdout",
     "output_type": "stream",
     "text": [
      "('Accuracy: ', 0.919629057187017)\n",
      "---Classification Report---\n",
      "             precision    recall  f1-score   support\n",
      "\n",
      "          0       0.96      0.95      0.96      3708\n",
      "          1       0.18      0.22      0.20       174\n",
      "\n",
      "avg / total       0.93      0.92      0.92      3882\n",
      "\n",
      "AUROC :0.5882016516013837\n"
     ]
    }
   ],
   "source": [
    "xgb1 = xgb.XGBClassifier(\n",
    " learning_rate =0.1,\n",
    " n_estimators=1000,\n",
    " max_depth=5,\n",
    " min_child_weight=1,\n",
    " gamma=0,\n",
    " subsample=0.8,\n",
    " colsample_bytree=0.8,\n",
    " objective= 'binary:logistic',\n",
    " nthread=4,\n",
    " scale_pos_weight=18,\n",
    " seed=27)\n",
    "modelfit(xgb1)"
   ]
  },
  {
   "cell_type": "code",
   "execution_count": 11,
   "metadata": {},
   "outputs": [
    {
     "ename": "NameError",
     "evalue": "name 'X_train' is not defined",
     "output_type": "error",
     "traceback": [
      "\u001b[0;31m---------------------------------------------------------------------------\u001b[0m",
      "\u001b[0;31mNameError\u001b[0m                                 Traceback (most recent call last)",
      "\u001b[0;32m<ipython-input-11-898705909d49>\u001b[0m in \u001b[0;36m<module>\u001b[0;34m()\u001b[0m\n\u001b[1;32m      9\u001b[0m  param_grid = param_test1, scoring='roc_auc',n_jobs=4,iid=False, cv=5)\n\u001b[1;32m     10\u001b[0m \u001b[0;34m\u001b[0m\u001b[0m\n\u001b[0;32m---> 11\u001b[0;31m \u001b[0mgsearch1\u001b[0m\u001b[0;34m.\u001b[0m\u001b[0mfit\u001b[0m\u001b[0;34m(\u001b[0m\u001b[0mX_train\u001b[0m\u001b[0;34m,\u001b[0m \u001b[0my_train\u001b[0m\u001b[0;34m)\u001b[0m\u001b[0;34m\u001b[0m\u001b[0m\n\u001b[0m\u001b[1;32m     12\u001b[0m \u001b[0mgsearch1\u001b[0m\u001b[0;34m.\u001b[0m\u001b[0mgrid_scores_\u001b[0m\u001b[0;34m,\u001b[0m \u001b[0mgsearch1\u001b[0m\u001b[0;34m.\u001b[0m\u001b[0mbest_params_\u001b[0m\u001b[0;34m,\u001b[0m \u001b[0mgsearch1\u001b[0m\u001b[0;34m.\u001b[0m\u001b[0mbest_score_\u001b[0m\u001b[0;34m\u001b[0m\u001b[0m\n",
      "\u001b[0;31mNameError\u001b[0m: name 'X_train' is not defined"
     ]
    }
   ],
   "source": [
    "param_test1 = {\n",
    "    'max_depth':range(3,10,2),\n",
    "    'min_child_weight':range(1,6,2)\n",
    "}\n",
    "\n",
    "gsearch1 = GridSearch(estimator = xgb.XGBClassifier( learning_rate =0.1, n_estimators=140, max_depth=5,\n",
    " min_child_weight=1, gamma=0, subsample=0.8, colsample_bytree=0.8,\n",
    " objective= 'binary:logistic', nthread=4, scale_pos_weight=18, seed=27), \n",
    " param_grid = param_test1, scoring='roc_auc',n_jobs=4,iid=False, cv=5)\n",
    "\n",
    "gsearch1.fit(X_train, y_train)\n",
    "gsearch1.grid_scores_, gsearch1.best_params_, gsearch1.best_score_"
   ]
  },
  {
   "cell_type": "code",
   "execution_count": 88,
   "metadata": {},
   "outputs": [
    {
     "data": {
      "text/plain": [
       "([mean: 0.82451, std: 0.01062, params: {'max_depth': 1, 'min_child_weight': 1},\n",
       "  mean: 0.82452, std: 0.01062, params: {'max_depth': 1, 'min_child_weight': 2},\n",
       "  mean: 0.82468, std: 0.01060, params: {'max_depth': 1, 'min_child_weight': 3},\n",
       "  mean: 0.82455, std: 0.01055, params: {'max_depth': 1, 'min_child_weight': 4},\n",
       "  mean: 0.80235, std: 0.00895, params: {'max_depth': 2, 'min_child_weight': 1},\n",
       "  mean: 0.80190, std: 0.00950, params: {'max_depth': 2, 'min_child_weight': 2},\n",
       "  mean: 0.80569, std: 0.01098, params: {'max_depth': 2, 'min_child_weight': 3},\n",
       "  mean: 0.80306, std: 0.00772, params: {'max_depth': 2, 'min_child_weight': 4},\n",
       "  mean: 0.78432, std: 0.01053, params: {'max_depth': 3, 'min_child_weight': 1},\n",
       "  mean: 0.78757, std: 0.01015, params: {'max_depth': 3, 'min_child_weight': 2},\n",
       "  mean: 0.78781, std: 0.01354, params: {'max_depth': 3, 'min_child_weight': 3},\n",
       "  mean: 0.78656, std: 0.00786, params: {'max_depth': 3, 'min_child_weight': 4},\n",
       "  mean: 0.77456, std: 0.00870, params: {'max_depth': 4, 'min_child_weight': 1},\n",
       "  mean: 0.77519, std: 0.01160, params: {'max_depth': 4, 'min_child_weight': 2},\n",
       "  mean: 0.77463, std: 0.00864, params: {'max_depth': 4, 'min_child_weight': 3},\n",
       "  mean: 0.77996, std: 0.00848, params: {'max_depth': 4, 'min_child_weight': 4}],\n",
       " {'max_depth': 1, 'min_child_weight': 3},\n",
       " 0.824680868534786)"
      ]
     },
     "execution_count": 88,
     "metadata": {},
     "output_type": "execute_result"
    }
   ],
   "source": [
    "param_test2 = {\n",
    "    'max_depth':[1,2,3,4],\n",
    "    'min_child_weight':[1,2,3,4]\n",
    "}\n",
    "\n",
    "gsearch2 = GridSearch(estimator = xgb.XGBClassifier( learning_rate =0.1, n_estimators=1000, max_depth=5,\n",
    " min_child_weight=1, gamma=0, subsample=0.8, colsample_bytree=0.8,\n",
    " objective= 'binary:logistic', nthread=4, scale_pos_weight=18, seed=27), \n",
    " param_grid = param_test2, scoring='roc_auc',n_jobs=4,iid=False, cv=5)\n",
    "\n",
    "gsearch2.fit(X_train, y_train)\n",
    "gsearch2.grid_scores_, gsearch2.best_params_, gsearch2.best_score_"
   ]
  },
  {
   "cell_type": "code",
   "execution_count": 87,
   "metadata": {},
   "outputs": [
    {
     "data": {
      "text/plain": [
       "([mean: 0.22617, std: 0.01726, params: {'min_child_weight': 4},\n",
       "  mean: 0.22624, std: 0.01454, params: {'min_child_weight': 5},\n",
       "  mean: 0.22535, std: 0.01492, params: {'min_child_weight': 6}],\n",
       " {'min_child_weight': 5},\n",
       " 0.2262385879618499)"
      ]
     },
     "execution_count": 87,
     "metadata": {},
     "output_type": "execute_result"
    }
   ],
   "source": [
    "param_test2b = {\n",
    "    'min_child_weight':[4,5,6]\n",
    "}\n",
    "\n",
    "gsearch2 = GridSearch(estimator = xgb.XGBClassifier( learning_rate =0.1, n_estimators=140, max_depth=3,\n",
    " min_child_weight=1, gamma=0, subsample=0.8, colsample_bytree=0.8,\n",
    " objective= 'binary:logistic', nthread=4, scale_pos_weight=25, seed=27), \n",
    " param_grid = param_test2b, scoring='f1',n_jobs=4,iid=False, cv=5)\n",
    "\n",
    "gsearch2.fit(X_train, y_train)\n",
    "gsearch2.grid_scores_, gsearch2.best_params_, gsearch2.best_score_"
   ]
  },
  {
   "cell_type": "code",
   "execution_count": 89,
   "metadata": {},
   "outputs": [
    {
     "name": "stdout",
     "output_type": "stream",
     "text": [
      "('Accuracy: ', 0.7733127253992788)\n",
      "---Classification Report---\n",
      "             precision    recall  f1-score   support\n",
      "\n",
      "          0       0.98      0.78      0.87      3696\n",
      "          1       0.14      0.74      0.24       186\n",
      "\n",
      "avg / total       0.94      0.77      0.84      3882\n",
      "\n",
      "AUROC :0.755860738723642\n"
     ]
    }
   ],
   "source": [
    "xgb1 = xgb.XGBClassifier(\n",
    " learning_rate =0.1,\n",
    " n_estimators=1000,\n",
    " max_depth=1,\n",
    " min_child_weight=3,\n",
    " gamma=0,\n",
    " subsample=0.8,\n",
    " colsample_bytree=0.8,\n",
    " objective= 'binary:logistic',\n",
    " nthread=4,\n",
    " scale_pos_weight=18,\n",
    " seed=27)\n",
    "modelfit(xgb1)"
   ]
  },
  {
   "cell_type": "code",
   "execution_count": 90,
   "metadata": {
    "scrolled": false
   },
   "outputs": [
    {
     "data": {
      "text/plain": [
       "([mean: 0.83645, std: 0.00961, params: {'gamma': 0.0},\n",
       "  mean: 0.83645, std: 0.00961, params: {'gamma': 0.1},\n",
       "  mean: 0.83645, std: 0.00961, params: {'gamma': 0.2},\n",
       "  mean: 0.83645, std: 0.00961, params: {'gamma': 0.3},\n",
       "  mean: 0.83645, std: 0.00961, params: {'gamma': 0.4}],\n",
       " {'gamma': 0.0},\n",
       " 0.8364477617947672)"
      ]
     },
     "execution_count": 90,
     "metadata": {},
     "output_type": "execute_result"
    }
   ],
   "source": [
    "param_test3 = {\n",
    " 'gamma':[i/10.0 for i in range(0,5)]\n",
    "}\n",
    "gsearch3 = GridSearch(estimator = xgb.XGBClassifier( learning_rate =0.1, n_estimators=140, max_depth=1,\n",
    " min_child_weight=3, gamma=0, subsample=0.8, colsample_bytree=0.8,\n",
    " objective= 'binary:logistic', nthread=4, scale_pos_weight=18,seed=27), \n",
    " param_grid = param_test3, scoring='roc_auc',n_jobs=4,iid=False, cv=5)\n",
    "gsearch3.fit(X_train,y_train)\n",
    "gsearch3.grid_scores_, gsearch3.best_params_, gsearch3.best_score_"
   ]
  },
  {
   "cell_type": "code",
   "execution_count": 30,
   "metadata": {},
   "outputs": [
    {
     "name": "stdout",
     "output_type": "stream",
     "text": [
      "('Accuracy: ', 0.7828998197270152)\n",
      "---Classification Report---\n",
      "             precision    recall  f1-score   support\n",
      "\n",
      "          0       0.98      0.78      0.87      3693\n",
      "          1       0.15      0.75      0.25       190\n",
      "\n",
      "avg / total       0.94      0.78      0.84      3883\n",
      "\n",
      "AUROC :0.7660481422891103\n"
     ]
    }
   ],
   "source": [
    "xgb1 = xgb.XGBClassifier(\n",
    " learning_rate =0.1,\n",
    " n_estimators=1000,\n",
    " max_depth=2,\n",
    " min_child_weight=5,\n",
    " gamma=0,\n",
    " subsample=0.8,\n",
    " colsample_bytree=0.8,\n",
    " objective= 'binary:logistic',\n",
    " nthread=4,\n",
    " scale_pos_weight=18,\n",
    " seed=27)\n",
    "modelfit(xgb1)"
   ]
  },
  {
   "cell_type": "code",
   "execution_count": 91,
   "metadata": {},
   "outputs": [
    {
     "data": {
      "text/plain": [
       "([mean: 0.83639, std: 0.00932, params: {'subsample': 0.6, 'colsample_bytree': 0.6},\n",
       "  mean: 0.83579, std: 0.00941, params: {'subsample': 0.7, 'colsample_bytree': 0.6},\n",
       "  mean: 0.83635, std: 0.00936, params: {'subsample': 0.8, 'colsample_bytree': 0.6},\n",
       "  mean: 0.83705, std: 0.00907, params: {'subsample': 0.9, 'colsample_bytree': 0.6},\n",
       "  mean: 0.83666, std: 0.00955, params: {'subsample': 0.6, 'colsample_bytree': 0.7},\n",
       "  mean: 0.83574, std: 0.00950, params: {'subsample': 0.7, 'colsample_bytree': 0.7},\n",
       "  mean: 0.83643, std: 0.00947, params: {'subsample': 0.8, 'colsample_bytree': 0.7},\n",
       "  mean: 0.83664, std: 0.00893, params: {'subsample': 0.9, 'colsample_bytree': 0.7},\n",
       "  mean: 0.83630, std: 0.00966, params: {'subsample': 0.6, 'colsample_bytree': 0.8},\n",
       "  mean: 0.83568, std: 0.01002, params: {'subsample': 0.7, 'colsample_bytree': 0.8},\n",
       "  mean: 0.83645, std: 0.00961, params: {'subsample': 0.8, 'colsample_bytree': 0.8},\n",
       "  mean: 0.83670, std: 0.00903, params: {'subsample': 0.9, 'colsample_bytree': 0.8},\n",
       "  mean: 0.83699, std: 0.00995, params: {'subsample': 0.6, 'colsample_bytree': 0.9},\n",
       "  mean: 0.83636, std: 0.00970, params: {'subsample': 0.7, 'colsample_bytree': 0.9},\n",
       "  mean: 0.83594, std: 0.00913, params: {'subsample': 0.8, 'colsample_bytree': 0.9},\n",
       "  mean: 0.83697, std: 0.00899, params: {'subsample': 0.9, 'colsample_bytree': 0.9}],\n",
       " {'colsample_bytree': 0.6, 'subsample': 0.9},\n",
       " 0.8370519117832863)"
      ]
     },
     "execution_count": 91,
     "metadata": {},
     "output_type": "execute_result"
    }
   ],
   "source": [
    "param_test4 = {\n",
    " 'subsample':[i/10.0 for i in range(6,10)],\n",
    " 'colsample_bytree':[i/10.0 for i in range(6,10)]\n",
    "}\n",
    "\n",
    "gsearch4 = GridSearch(estimator = xgb.XGBClassifier( learning_rate =0.1, n_estimators=140, max_depth=1,\n",
    " min_child_weight=3, gamma=0, subsample=0.8, colsample_bytree=0.8,\n",
    " objective= 'binary:logistic', nthread=4, scale_pos_weight=18,seed=27), \n",
    " param_grid = param_test4, scoring='roc_auc',n_jobs=4,iid=False, cv=5)\n",
    "gsearch4.fit(X_train,y_train)\n",
    "gsearch4.grid_scores_, gsearch4.best_params_, gsearch4.best_score_"
   ]
  },
  {
   "cell_type": "code",
   "execution_count": 33,
   "metadata": {},
   "outputs": [
    {
     "name": "stderr",
     "output_type": "stream",
     "text": [
      "/home/gonzalodiz/anaconda2/lib/python2.7/site-packages/sklearn/model_selection/_search.py:762: DeprecationWarning: The grid_scores_ attribute was deprecated in version 0.18 in favor of the more elaborate cv_results_ attribute. The grid_scores_ attribute will not be available from 0.20\n",
      "  DeprecationWarning)\n"
     ]
    },
    {
     "data": {
      "text/plain": [
       "([mean: 0.83225, std: 0.00973, params: {'subsample': 0.7, 'colsample_bytree': 0.4},\n",
       "  mean: 0.83087, std: 0.00947, params: {'subsample': 0.75, 'colsample_bytree': 0.4},\n",
       "  mean: 0.83131, std: 0.00947, params: {'subsample': 0.8, 'colsample_bytree': 0.4},\n",
       "  mean: 0.83110, std: 0.00865, params: {'subsample': 0.85, 'colsample_bytree': 0.4},\n",
       "  mean: 0.83225, std: 0.00973, params: {'subsample': 0.7, 'colsample_bytree': 0.45},\n",
       "  mean: 0.83087, std: 0.00947, params: {'subsample': 0.75, 'colsample_bytree': 0.45},\n",
       "  mean: 0.83131, std: 0.00947, params: {'subsample': 0.8, 'colsample_bytree': 0.45},\n",
       "  mean: 0.83110, std: 0.00865, params: {'subsample': 0.85, 'colsample_bytree': 0.45},\n",
       "  mean: 0.83127, std: 0.01021, params: {'subsample': 0.7, 'colsample_bytree': 0.5},\n",
       "  mean: 0.83117, std: 0.01012, params: {'subsample': 0.75, 'colsample_bytree': 0.5},\n",
       "  mean: 0.83172, std: 0.01065, params: {'subsample': 0.8, 'colsample_bytree': 0.5},\n",
       "  mean: 0.83273, std: 0.00992, params: {'subsample': 0.85, 'colsample_bytree': 0.5},\n",
       "  mean: 0.83127, std: 0.01021, params: {'subsample': 0.7, 'colsample_bytree': 0.55},\n",
       "  mean: 0.83117, std: 0.01012, params: {'subsample': 0.75, 'colsample_bytree': 0.55},\n",
       "  mean: 0.83172, std: 0.01065, params: {'subsample': 0.8, 'colsample_bytree': 0.55},\n",
       "  mean: 0.83273, std: 0.00992, params: {'subsample': 0.85, 'colsample_bytree': 0.55},\n",
       "  mean: 0.83127, std: 0.01021, params: {'subsample': 0.7, 'colsample_bytree': 0.6},\n",
       "  mean: 0.83117, std: 0.01012, params: {'subsample': 0.75, 'colsample_bytree': 0.6},\n",
       "  mean: 0.83172, std: 0.01065, params: {'subsample': 0.8, 'colsample_bytree': 0.6},\n",
       "  mean: 0.83273, std: 0.00992, params: {'subsample': 0.85, 'colsample_bytree': 0.6},\n",
       "  mean: 0.83121, std: 0.01101, params: {'subsample': 0.7, 'colsample_bytree': 0.65},\n",
       "  mean: 0.83140, std: 0.01022, params: {'subsample': 0.75, 'colsample_bytree': 0.65},\n",
       "  mean: 0.83199, std: 0.01124, params: {'subsample': 0.8, 'colsample_bytree': 0.65},\n",
       "  mean: 0.83226, std: 0.01097, params: {'subsample': 0.85, 'colsample_bytree': 0.65}],\n",
       " {'colsample_bytree': 0.5, 'subsample': 0.85},\n",
       " 0.8327291351657975)"
      ]
     },
     "execution_count": 33,
     "metadata": {},
     "output_type": "execute_result"
    }
   ],
   "source": [
    "param_test5 = {\n",
    "    'subsample':[i/100.0 for i in range(70,90,5)],\n",
    "    'colsample_bytree':[i/100.0 for i in range(40,70,5)]\n",
    "}\n",
    "\n",
    "gsearch5 = GridSearch(estimator = xgb.XGBClassifier( learning_rate =0.1, n_estimators=140, max_depth=2,\n",
    "min_child_weight=5, gamma=0, subsample=0.8, colsample_bytree=0.8,\n",
    "objective= 'binary:logistic', nthread=4, scale_pos_weight=18,seed=27), \n",
    "param_grid = param_test5, scoring='roc_auc',n_jobs=4,iid=False, cv=5)\n",
    "gsearch5.fit(X_train,y_train)\n",
    "gsearch5.grid_scores_, gsearch5.best_params_, gsearch5.best_score_"
   ]
  },
  {
   "cell_type": "code",
   "execution_count": 215,
   "metadata": {},
   "outputs": [
    {
     "name": "stdout",
     "output_type": "stream",
     "text": [
      "('Accuracy: ', 0.8042750450682462)\n",
      "---Classification Report---\n",
      "             precision    recall  f1-score   support\n",
      "\n",
      "          0       0.98      0.81      0.89      3685\n",
      "          1       0.15      0.62      0.24       198\n",
      "\n",
      "avg / total       0.93      0.80      0.85      3883\n",
      "\n",
      "AUROC :0.7176616915422885\n"
     ]
    }
   ],
   "source": [
    "xgb1 = xgb.XGBClassifier(\n",
    " learning_rate =0.1,\n",
    " n_estimators=1000,\n",
    " max_depth=2,\n",
    " min_child_weight=6,\n",
    " gamma=0,\n",
    " subsample=0.8,\n",
    " colsample_bytree=0.9,\n",
    " objective= 'binary:logistic',\n",
    " nthread=4,\n",
    " scale_pos_weight=18,\n",
    " seed=27)\n",
    "modelfit(xgb1)"
   ]
  },
  {
   "cell_type": "code",
   "execution_count": 42,
   "metadata": {},
   "outputs": [
    {
     "name": "stderr",
     "output_type": "stream",
     "text": [
      "/home/gonzalodiz/anaconda2/lib/python2.7/site-packages/sklearn/model_selection/_search.py:762: DeprecationWarning: The grid_scores_ attribute was deprecated in version 0.18 in favor of the more elaborate cv_results_ attribute. The grid_scores_ attribute will not be available from 0.20\n",
      "  DeprecationWarning)\n"
     ]
    },
    {
     "data": {
      "text/plain": [
       "([mean: 0.82993, std: 0.00955, params: {'reg_alpha': 1e-05},\n",
       "  mean: 0.83033, std: 0.00974, params: {'reg_alpha': 0.01},\n",
       "  mean: 0.82997, std: 0.00976, params: {'reg_alpha': 0.1},\n",
       "  mean: 0.82967, std: 0.00999, params: {'reg_alpha': 1},\n",
       "  mean: 0.83323, std: 0.00994, params: {'reg_alpha': 100}],\n",
       " {'reg_alpha': 100},\n",
       " 0.8332269153677311)"
      ]
     },
     "execution_count": 42,
     "metadata": {},
     "output_type": "execute_result"
    }
   ],
   "source": [
    "param_test6 = {\n",
    " 'reg_alpha':[1e-5, 1e-2, 0.1, 1, 100]\n",
    "}\n",
    "\n",
    "gsearch6 = GridSearch(estimator = xgb.XGBClassifier( learning_rate =0.1, n_estimators=140, max_depth=2,\n",
    "min_child_weight=5, gamma=0, subsample=0.8, colsample_bytree=0.9,\n",
    "objective= 'binary:logistic', nthread=4, scale_pos_weight=18,seed=27), \n",
    "param_grid = param_test6, scoring='roc_auc',n_jobs=4,iid=False, cv=5)\n",
    "gsearch6.fit(X_train,y_train)\n",
    "gsearch6.grid_scores_, gsearch6.best_params_, gsearch6.best_score_"
   ]
  },
  {
   "cell_type": "code",
   "execution_count": 216,
   "metadata": {},
   "outputs": [
    {
     "data": {
      "text/plain": [
       "([mean: 0.84056, std: 0.00119, params: {'reg_alpha': 100},\n",
       "  mean: 0.84011, std: 0.00123, params: {'reg_alpha': 120}],\n",
       " {'reg_alpha': 100},\n",
       " 0.8332269153677311)"
      ]
     },
     "execution_count": 216,
     "metadata": {},
     "output_type": "execute_result"
    }
   ],
   "source": [
    "param_test7 = {\n",
    "    'reg_alpha':[100,120]\n",
    "}\n",
    "\n",
    "gsearch7 = GridSearch(estimator = xgb.XGBClassifier( learning_rate =0.1, n_estimators=140, max_depth=2,\n",
    "min_child_weight=6, gamma=0, subsample=0.8, colsample_bytree=0.9,\n",
    "objective= 'binary:logistic', nthread=4, scale_pos_weight=18,seed=27), \n",
    "param_grid = param_test7, scoring='roc_auc',n_jobs=4,iid=False, cv=5)\n",
    "gsearch7.fit(X_train,y_train)\n",
    "gsearch7.grid_scores_, gsearch7.best_params_, gsearch6.best_score_"
   ]
  },
  {
   "cell_type": "code",
   "execution_count": 92,
   "metadata": {},
   "outputs": [
    {
     "data": {
      "text/plain": [
       "([mean: 0.50000, std: 0.00000, params: {'learning_rate': 0},\n",
       "  mean: 0.82104, std: 0.01072, params: {'learning_rate': 0.001},\n",
       "  mean: 0.82240, std: 0.01120, params: {'learning_rate': 0.01},\n",
       "  mean: 0.83643, std: 0.01012, params: {'learning_rate': 0.1},\n",
       "  mean: 0.83656, std: 0.00934, params: {'learning_rate': 0.2}],\n",
       " {'learning_rate': 0.2},\n",
       " 0.8365580274280002)"
      ]
     },
     "execution_count": 92,
     "metadata": {},
     "output_type": "execute_result"
    }
   ],
   "source": [
    "param_test8 = {\n",
    "    'learning_rate':[0, 0.001, 0.01, 0.1, 0.2]\n",
    "}\n",
    "\n",
    "gsearch8 = GridSearch(estimator = xgb.XGBClassifier( learning_rate =0.1, n_estimators=140, max_depth=1,\n",
    "min_child_weight=3, gamma=0, subsample=0.9, colsample_bytree=0.6, reg_alpha=100,\n",
    "objective= 'binary:logistic', nthread=4, scale_pos_weight=18,seed=27), \n",
    "param_grid = param_test8, scoring='roc_auc',n_jobs=4,iid=False, cv=5)\n",
    "gsearch8.fit(X_train,y_train)\n",
    "gsearch8.grid_scores_, gsearch8.best_params_, gsearch8.best_score_"
   ]
  },
  {
   "cell_type": "code",
   "execution_count": 94,
   "metadata": {},
   "outputs": [
    {
     "data": {
      "text/plain": [
       "([mean: 0.50000, std: 0.00000, params: {'learning_rate': 0},\n",
       "  mean: 0.76101, std: 0.01939, params: {'learning_rate': 0.0001},\n",
       "  mean: 0.76101, std: 0.01939, params: {'learning_rate': 0.001},\n",
       "  mean: 0.83049, std: 0.01162, params: {'learning_rate': 0.3},\n",
       "  mean: 0.82811, std: 0.00950, params: {'learning_rate': 0.4}],\n",
       " {'learning_rate': 0.3},\n",
       " 0.8304906223022327)"
      ]
     },
     "execution_count": 94,
     "metadata": {},
     "output_type": "execute_result"
    }
   ],
   "source": [
    "param_test8 = {\n",
    "    'learning_rate':[0, 0.0001, 0.001, 0.3, 0.4]\n",
    "}\n",
    "\n",
    "gsearch8 = GridSearch(estimator = xgb.XGBClassifier( learning_rate =0.1, n_estimators=140, max_depth=1,\n",
    "min_child_weight=3, gamma=0, subsample=0.6, colsample_bytree=0.9,\n",
    "objective= 'binary:logistic', nthread=4, scale_pos_weight=18,seed=27), \n",
    "param_grid = param_test8, scoring='roc_auc',n_jobs=4,iid=False, cv=5)\n",
    "gsearch8.fit(X_train,y_train)\n",
    "gsearch8.grid_scores_, gsearch8.best_params_, gsearch8.best_score_"
   ]
  },
  {
   "cell_type": "code",
   "execution_count": 78,
   "metadata": {},
   "outputs": [],
   "source": [
    "X_train, X_test, y_train, y_test = train_test_split(x,y, test_size=0.20)"
   ]
  },
  {
   "cell_type": "code",
   "execution_count": 79,
   "metadata": {
    "scrolled": true
   },
   "outputs": [
    {
     "name": "stdout",
     "output_type": "stream",
     "text": [
      "('Accuracy: ', 0.7691911385883565)\n",
      "---Classification Report---\n",
      "             precision    recall  f1-score   support\n",
      "\n",
      "          0       0.98      0.77      0.86      3674\n",
      "          1       0.15      0.72      0.25       208\n",
      "\n",
      "avg / total       0.94      0.77      0.83      3882\n",
      "\n",
      "AUROC :0.7465322850801893\n"
     ]
    }
   ],
   "source": [
    "xgb1 = xgb.XGBClassifier(\n",
    " learning_rate =0.1,\n",
    " n_estimators=1000,\n",
    " max_depth=1,\n",
    " min_child_weight=3,\n",
    " gamma=0,\n",
    " subsample=0.6,\n",
    " colsample_bytree=0.9,\n",
    " reg_alpha=100,\n",
    " objective= 'binary:logistic',\n",
    " nthread=-1,\n",
    " scale_pos_weight=18,\n",
    " seed=27)\n",
    "modelfit(xgb1)"
   ]
  },
  {
   "cell_type": "code",
   "execution_count": 81,
   "metadata": {},
   "outputs": [],
   "source": [
    "importances = pd.DataFrame({'feature':features,'importance':np.round(xgb1.feature_importances_,3)})\n",
    "importances = importances.sort_values('importance',ascending=False).set_index('feature')"
   ]
  },
  {
   "cell_type": "code",
   "execution_count": 82,
   "metadata": {
    "scrolled": true
   },
   "outputs": [
    {
     "data": {
      "text/plain": [
       "<matplotlib.axes._subplots.AxesSubplot at 0x7f2b2c296850>"
      ]
     },
     "execution_count": 82,
     "metadata": {},
     "output_type": "execute_result"
    },
    {
     "data": {
      "image/png": "[encoded data removed]",
      "text/plain": [
       "<Figure size 432x288 with 1 Axes>"
      ]
     },
     "metadata": {
      "needs_background": "light"
     },
     "output_type": "display_data"
    }
   ],
   "source": [
    "importances.plot.bar()"
   ]
  },
  {
   "cell_type": "code",
   "execution_count": 84,
   "metadata": {},
   "outputs": [
    {
     "data": {
      "text/plain": [
       "<matplotlib.axes._subplots.AxesSubplot at 0x7f2b2c479390>"
      ]
     },
     "execution_count": 84,
     "metadata": {},
     "output_type": "execute_result"
    },
    {
     "data": {
      "image/png": "[encoded data removed]",
      "text/plain": [
       "<Figure size 432x288 with 1 Axes>"
      ]
     },
     "metadata": {
      "needs_background": "light"
     },
     "output_type": "display_data"
    }
   ],
   "source": [
    "plot_importance(xgb1)"
   ]
  },
  {
   "cell_type": "code",
   "execution_count": 88,
   "metadata": {},
   "outputs": [],
   "source": [
    "xgb1.fit(x,y, eval_metric='aucpr')\n",
    "pred = (xgb1.predict_proba(z)[:,1])"
   ]
  },
  {
   "cell_type": "code",
   "execution_count": 89,
   "metadata": {},
   "outputs": [
    {
     "name": "stdout",
     "output_type": "stream",
     "text": [
      "Cantidad de no conversiones: 14304\n",
      "Cantidad de conversiones: 5111\n"
     ]
    }
   ],
   "source": [
    "persons = test_set['person']\n",
    "submit = pd.DataFrame({'label': pred, 'person': persons})\n",
    "submit = submit[['person', 'label']]\n",
    "submit.to_csv('../submits/xgboost.csv', index=False)\n",
    "no_conversiones = submit.loc[submit['label'] < 0.5]['label'].count()\n",
    "print 'Cantidad de no conversiones: ' + str(no_conversiones)\n",
    "\n",
    "conversiones = submit.loc[submit['label'] >= 0.5]['label'].count()\n",
    "print 'Cantidad de conversiones: ' + str(conversiones)"
   ]
  },
  {
   "cell_type": "code",
   "execution_count": 87,
   "metadata": {},
   "outputs": [
    {
     "data": {
      "text/plain": [
       "0.3287714421749115"
      ]
     },
     "execution_count": 87,
     "metadata": {},
     "output_type": "execute_result"
    }
   ],
   "source": [
    "submit['label'].mean()"
   ]
  },
  {
   "cell_type": "markdown",
   "metadata": {},
   "source": [
    "## RANDOM FOREST"
   ]
  },
  {
   "cell_type": "code",
   "execution_count": 425,
   "metadata": {},
   "outputs": [
    {
     "data": {
      "text/plain": [
       "RandomForestClassifier(bootstrap=True, class_weight=None, criterion='gini',\n",
       "            max_depth=None, max_features='auto', max_leaf_nodes=None,\n",
       "            min_impurity_decrease=0.0, min_impurity_split=None,\n",
       "            min_samples_leaf=1, min_samples_split=2,\n",
       "            min_weight_fraction_leaf=0.0, n_estimators=100, n_jobs=1,\n",
       "            oob_score=False, random_state=None, verbose=0,\n",
       "            warm_start=False)"
      ]
     },
     "execution_count": 425,
     "metadata": {},
     "output_type": "execute_result"
    }
   ],
   "source": [
    "from sklearn.ensemble import RandomForestClassifier\n",
    "\n",
    "clf = RandomForestClassifier(n_estimators = 100, )\n",
    "clf.fit(X_train, y_train)"
   ]
  },
  {
   "cell_type": "code",
   "execution_count": 426,
   "metadata": {},
   "outputs": [],
   "source": [
    "pred = clf.predict_proba(X_test)[:,1]"
   ]
  },
  {
   "cell_type": "code",
   "execution_count": 427,
   "metadata": {},
   "outputs": [
    {
     "name": "stdout",
     "output_type": "stream",
     "text": [
      "0.9430852433685295\n",
      "             precision    recall  f1-score   support\n",
      "\n",
      "          0       0.95      0.99      0.97      3687\n",
      "          1       0.10      0.02      0.03       196\n",
      "\n",
      "avg / total       0.91      0.94      0.92      3883\n",
      "\n",
      "Cantidad de 0 :3852\n",
      "Cantidad de 1 :31\n"
     ]
    }
   ],
   "source": [
    "cantidad_unos = 0\n",
    "cantidad_ceros = 0\n",
    "for i in xrange(0,pred.size):\n",
    "        if (pred[i] >= 0.5):\n",
    "            pred[i] = 1\n",
    "            cantidad_unos += 1\n",
    "        else: \n",
    "            pred[i] = 0\n",
    "            cantidad_ceros += 1\n",
    "            \n",
    "print (accuracy_score(y_test, pred, ))          \n",
    "print (classification_report(y_test, pred))\n",
    "print ('Cantidad de 0 :' + str(cantidad_ceros))\n",
    "print ('Cantidad de 1 :' + str(cantidad_unos))"
   ]
  },
  {
   "cell_type": "code",
   "execution_count": 428,
   "metadata": {},
   "outputs": [
    {
     "data": {
      "text/plain": [
       "array([0., 0., 0., ..., 0., 0., 0.])"
      ]
     },
     "execution_count": 428,
     "metadata": {},
     "output_type": "execute_result"
    }
   ],
   "source": [
    "pred"
   ]
  },
  {
   "cell_type": "code",
   "execution_count": 429,
   "metadata": {},
   "outputs": [
    {
     "data": {
      "text/plain": [
       "0.5038559361905869"
      ]
     },
     "execution_count": 429,
     "metadata": {},
     "output_type": "execute_result"
    }
   ],
   "source": [
    "roc_auc_score(y_test,pred)"
   ]
  },
  {
   "cell_type": "code",
   "execution_count": 160,
   "metadata": {},
   "outputs": [
    {
     "name": "stdout",
     "output_type": "stream",
     "text": [
      "{'bootstrap': [True, False], 'min_samples_leaf': [1, 2, 4], 'n_estimators': [200, 400, 600, 800, 1000, 1200, 1400, 1600, 1800, 2000], 'min_samples_split': [2, 5, 10], 'max_features': ['auto', 'sqrt'], 'max_depth': [10, 20, 30, 40, 50, 60, 70, 80, 90, 100, 110, None], 'class_weight': [{0: 1, 1: 25}]}\n"
     ]
    }
   ],
   "source": [
    "from sklearn.model_selection import RandomizedSearchCV\n",
    "# Number of trees in random forest\n",
    "n_estimators = [int(x) for x in np.linspace(start = 200, stop = 2000, num = 10)]\n",
    "# Number of features to consider at every split\n",
    "max_features = ['auto', 'sqrt']\n",
    "# Maximum number of levels in tree\n",
    "max_depth = [int(x) for x in np.linspace(10, 110, num = 11)]\n",
    "max_depth.append(None)\n",
    "# Minimum number of samples required to split a node\n",
    "min_samples_split = [2, 5, 10]\n",
    "# Minimum number of samples required at each leaf node\n",
    "min_samples_leaf = [1, 2, 4]\n",
    "# Method of selecting samples for training each tree\n",
    "bootstrap = [True, False]\n",
    "class_weight=[{0:1, 1:25}]\n",
    "# Create the random grid\n",
    "random_grid = {'n_estimators': n_estimators,\n",
    "               'max_features': max_features,\n",
    "               'max_depth': max_depth,\n",
    "               'min_samples_split': min_samples_split,\n",
    "               'min_samples_leaf': min_samples_leaf,\n",
    "               'bootstrap': bootstrap,\n",
    "               'class_weight': class_weight\n",
    "              }\n",
    "print(random_grid)"
   ]
  },
  {
   "cell_type": "code",
   "execution_count": 166,
   "metadata": {},
   "outputs": [],
   "source": [
    "crf = RandomForestClassifier()\n",
    "crf_random = RandomizedSearchCV(estimator= crf, param_distributions= random_grid,\n",
    "                               n_iter = 100, cv = 3, verbose = 2, random_state=42, n_jobs=-1, scoring='roc_auc')"
   ]
  },
  {
   "cell_type": "code",
   "execution_count": 167,
   "metadata": {},
   "outputs": [
    {
     "name": "stdout",
     "output_type": "stream",
     "text": [
      "Fitting 3 folds for each of 100 candidates, totalling 300 fits\n",
      "[CV] bootstrap=True, min_samples_leaf=1, n_estimators=400, min_samples_split=5, max_features=sqrt, max_depth=30, class_weight={0: 1, 1: 25} \n",
      "[CV] bootstrap=True, min_samples_leaf=1, n_estimators=400, min_samples_split=5, max_features=sqrt, max_depth=30, class_weight={0: 1, 1: 25} \n",
      "[CV] bootstrap=True, min_samples_leaf=1, n_estimators=400, min_samples_split=5, max_features=sqrt, max_depth=30, class_weight={0: 1, 1: 25} \n",
      "[CV] bootstrap=True, min_samples_leaf=1, n_estimators=2000, min_samples_split=5, max_features=sqrt, max_depth=10, class_weight={0: 1, 1: 25} \n",
      "[CV] bootstrap=True, min_samples_leaf=1, n_estimators=2000, min_samples_split=5, max_features=sqrt, max_depth=10, class_weight={0: 1, 1: 25} \n",
      "[CV] bootstrap=True, min_samples_leaf=1, n_estimators=2000, min_samples_split=5, max_features=sqrt, max_depth=10, class_weight={0: 1, 1: 25} \n",
      "[CV] bootstrap=False, min_samples_leaf=2, n_estimators=1200, min_samples_split=5, max_features=sqrt, max_depth=10, class_weight={0: 1, 1: 25} \n",
      "[CV] bootstrap=False, min_samples_leaf=2, n_estimators=1200, min_samples_split=5, max_features=sqrt, max_depth=10, class_weight={0: 1, 1: 25} \n",
      "[CV]  bootstrap=True, min_samples_leaf=1, n_estimators=400, min_samples_split=5, max_features=sqrt, max_depth=30, class_weight={0: 1, 1: 25}, total=   6.2s\n",
      "[CV] bootstrap=False, min_samples_leaf=2, n_estimators=1200, min_samples_split=5, max_features=sqrt, max_depth=10, class_weight={0: 1, 1: 25} \n",
      "[CV]  bootstrap=True, min_samples_leaf=1, n_estimators=400, min_samples_split=5, max_features=sqrt, max_depth=30, class_weight={0: 1, 1: 25}, total=   6.3s\n",
      "[CV] bootstrap=False, min_samples_leaf=4, n_estimators=2000, min_samples_split=2, max_features=auto, max_depth=30, class_weight={0: 1, 1: 25} \n",
      "[CV]  bootstrap=True, min_samples_leaf=1, n_estimators=400, min_samples_split=5, max_features=sqrt, max_depth=30, class_weight={0: 1, 1: 25}, total=   6.4s\n",
      "[CV] bootstrap=False, min_samples_leaf=4, n_estimators=2000, min_samples_split=2, max_features=auto, max_depth=30, class_weight={0: 1, 1: 25} \n",
      "[CV]  bootstrap=False, min_samples_leaf=2, n_estimators=1200, min_samples_split=5, max_features=sqrt, max_depth=10, class_weight={0: 1, 1: 25}, total=  21.5s\n",
      "[CV] bootstrap=False, min_samples_leaf=4, n_estimators=2000, min_samples_split=2, max_features=auto, max_depth=30, class_weight={0: 1, 1: 25} \n",
      "[CV]  bootstrap=False, min_samples_leaf=2, n_estimators=1200, min_samples_split=5, max_features=sqrt, max_depth=10, class_weight={0: 1, 1: 25}, total=  21.5s\n",
      "[CV] bootstrap=True, min_samples_leaf=4, n_estimators=1600, min_samples_split=2, max_features=sqrt, max_depth=10, class_weight={0: 1, 1: 25} \n",
      "[CV]  bootstrap=False, min_samples_leaf=2, n_estimators=1200, min_samples_split=5, max_features=sqrt, max_depth=10, class_weight={0: 1, 1: 25}, total=  21.3s\n",
      "[CV] bootstrap=True, min_samples_leaf=4, n_estimators=1600, min_samples_split=2, max_features=sqrt, max_depth=10, class_weight={0: 1, 1: 25} \n",
      "[CV]  bootstrap=True, min_samples_leaf=1, n_estimators=2000, min_samples_split=5, max_features=sqrt, max_depth=10, class_weight={0: 1, 1: 25}, total=  27.1s\n",
      "[CV] bootstrap=True, min_samples_leaf=4, n_estimators=1600, min_samples_split=2, max_features=sqrt, max_depth=10, class_weight={0: 1, 1: 25} \n",
      "[CV]  bootstrap=True, min_samples_leaf=1, n_estimators=2000, min_samples_split=5, max_features=sqrt, max_depth=10, class_weight={0: 1, 1: 25}, total=  27.7s\n",
      "[CV] bootstrap=False, min_samples_leaf=4, n_estimators=800, min_samples_split=5, max_features=sqrt, max_depth=30, class_weight={0: 1, 1: 25} \n",
      "[CV]  bootstrap=True, min_samples_leaf=1, n_estimators=2000, min_samples_split=5, max_features=sqrt, max_depth=10, class_weight={0: 1, 1: 25}, total=  27.9s\n",
      "[CV] bootstrap=False, min_samples_leaf=4, n_estimators=800, min_samples_split=5, max_features=sqrt, max_depth=30, class_weight={0: 1, 1: 25} \n",
      "[CV]  bootstrap=True, min_samples_leaf=4, n_estimators=1600, min_samples_split=2, max_features=sqrt, max_depth=10, class_weight={0: 1, 1: 25}, total=  21.1s\n",
      "[CV] bootstrap=False, min_samples_leaf=4, n_estimators=800, min_samples_split=5, max_features=sqrt, max_depth=30, class_weight={0: 1, 1: 25} \n",
      "[CV]  bootstrap=False, min_samples_leaf=4, n_estimators=800, min_samples_split=5, max_features=sqrt, max_depth=30, class_weight={0: 1, 1: 25}, total=  15.4s\n",
      "[CV]  bootstrap=False, min_samples_leaf=4, n_estimators=800, min_samples_split=5, max_features=sqrt, max_depth=30, class_weight={0: 1, 1: 25}, total=  15.6s\n",
      "[CV] bootstrap=False, min_samples_leaf=2, n_estimators=1000, min_samples_split=5, max_features=sqrt, max_depth=100, class_weight={0: 1, 1: 25} \n",
      "[CV] bootstrap=False, min_samples_leaf=2, n_estimators=1000, min_samples_split=5, max_features=sqrt, max_depth=100, class_weight={0: 1, 1: 25} \n",
      "[CV]  bootstrap=False, min_samples_leaf=4, n_estimators=2000, min_samples_split=2, max_features=auto, max_depth=30, class_weight={0: 1, 1: 25}, total=  39.6s\n",
      "[CV] bootstrap=False, min_samples_leaf=2, n_estimators=1000, min_samples_split=5, max_features=sqrt, max_depth=100, class_weight={0: 1, 1: 25} \n",
      "[CV]  bootstrap=False, min_samples_leaf=4, n_estimators=2000, min_samples_split=2, max_features=auto, max_depth=30, class_weight={0: 1, 1: 25}, total=  41.4s\n",
      "[CV] bootstrap=False, min_samples_leaf=1, n_estimators=600, min_samples_split=5, max_features=sqrt, max_depth=60, class_weight={0: 1, 1: 25} \n",
      "[CV]  bootstrap=True, min_samples_leaf=4, n_estimators=1600, min_samples_split=2, max_features=sqrt, max_depth=10, class_weight={0: 1, 1: 25}, total=  20.9s\n",
      "[CV] bootstrap=False, min_samples_leaf=1, n_estimators=600, min_samples_split=5, max_features=sqrt, max_depth=60, class_weight={0: 1, 1: 25} \n",
      "[CV]  bootstrap=True, min_samples_leaf=4, n_estimators=1600, min_samples_split=2, max_features=sqrt, max_depth=10, class_weight={0: 1, 1: 25}, total=  20.9s\n",
      "[CV] bootstrap=False, min_samples_leaf=1, n_estimators=600, min_samples_split=5, max_features=sqrt, max_depth=60, class_weight={0: 1, 1: 25} \n",
      "[CV]  bootstrap=False, min_samples_leaf=4, n_estimators=800, min_samples_split=5, max_features=sqrt, max_depth=30, class_weight={0: 1, 1: 25}, total=  16.4s\n",
      "[CV] bootstrap=False, min_samples_leaf=1, n_estimators=1000, min_samples_split=2, max_features=auto, max_depth=50, class_weight={0: 1, 1: 25} \n",
      "[CV]  bootstrap=False, min_samples_leaf=1, n_estimators=600, min_samples_split=5, max_features=sqrt, max_depth=60, class_weight={0: 1, 1: 25}, total=  12.8s\n",
      "[CV] bootstrap=False, min_samples_leaf=1, n_estimators=1000, min_samples_split=2, max_features=auto, max_depth=50, class_weight={0: 1, 1: 25} \n",
      "[CV]  bootstrap=False, min_samples_leaf=4, n_estimators=2000, min_samples_split=2, max_features=auto, max_depth=30, class_weight={0: 1, 1: 25}, total=  39.8s\n",
      "[CV] bootstrap=False, min_samples_leaf=1, n_estimators=1000, min_samples_split=2, max_features=auto, max_depth=50, class_weight={0: 1, 1: 25} \n",
      "[CV]  bootstrap=False, min_samples_leaf=1, n_estimators=600, min_samples_split=5, max_features=sqrt, max_depth=60, class_weight={0: 1, 1: 25}, total=  12.6s\n",
      "[CV] bootstrap=False, min_samples_leaf=4, n_estimators=1800, min_samples_split=5, max_features=auto, max_depth=10, class_weight={0: 1, 1: 25} \n",
      "[CV]  bootstrap=False, min_samples_leaf=1, n_estimators=600, min_samples_split=5, max_features=sqrt, max_depth=60, class_weight={0: 1, 1: 25}, total=  13.0s\n",
      "[CV] bootstrap=False, min_samples_leaf=4, n_estimators=1800, min_samples_split=5, max_features=auto, max_depth=10, class_weight={0: 1, 1: 25} \n",
      "[CV]  bootstrap=False, min_samples_leaf=2, n_estimators=1000, min_samples_split=5, max_features=sqrt, max_depth=100, class_weight={0: 1, 1: 25}, total=  20.9s\n",
      "[CV] bootstrap=False, min_samples_leaf=4, n_estimators=1800, min_samples_split=5, max_features=auto, max_depth=10, class_weight={0: 1, 1: 25} \n",
      "[CV]  bootstrap=False, min_samples_leaf=2, n_estimators=1000, min_samples_split=5, max_features=sqrt, max_depth=100, class_weight={0: 1, 1: 25}, total=  21.1s\n",
      "[CV] bootstrap=True, min_samples_leaf=4, n_estimators=400, min_samples_split=10, max_features=auto, max_depth=70, class_weight={0: 1, 1: 25} \n",
      "[CV]  bootstrap=False, min_samples_leaf=2, n_estimators=1000, min_samples_split=5, max_features=sqrt, max_depth=100, class_weight={0: 1, 1: 25}, total=  21.3s\n"
     ]
    },
    {
     "name": "stdout",
     "output_type": "stream",
     "text": [
      "[CV] bootstrap=True, min_samples_leaf=4, n_estimators=400, min_samples_split=10, max_features=auto, max_depth=70, class_weight={0: 1, 1: 25} \n",
      "[CV]  bootstrap=True, min_samples_leaf=4, n_estimators=400, min_samples_split=10, max_features=auto, max_depth=70, class_weight={0: 1, 1: 25}, total=   5.7s\n",
      "[CV] bootstrap=True, min_samples_leaf=4, n_estimators=400, min_samples_split=10, max_features=auto, max_depth=70, class_weight={0: 1, 1: 25} \n"
     ]
    },
    {
     "name": "stderr",
     "output_type": "stream",
     "text": [
      "[Parallel(n_jobs=-1)]: Done  25 tasks      | elapsed:  1.3min\n"
     ]
    },
    {
     "name": "stdout",
     "output_type": "stream",
     "text": [
      "[CV]  bootstrap=True, min_samples_leaf=4, n_estimators=400, min_samples_split=10, max_features=auto, max_depth=70, class_weight={0: 1, 1: 25}, total=   5.6s\n",
      "[CV] bootstrap=False, min_samples_leaf=1, n_estimators=800, min_samples_split=5, max_features=sqrt, max_depth=90, class_weight={0: 1, 1: 25} \n",
      "[CV]  bootstrap=True, min_samples_leaf=4, n_estimators=400, min_samples_split=10, max_features=auto, max_depth=70, class_weight={0: 1, 1: 25}, total=   5.7s\n",
      "[CV] bootstrap=False, min_samples_leaf=1, n_estimators=800, min_samples_split=5, max_features=sqrt, max_depth=90, class_weight={0: 1, 1: 25} \n",
      "[CV]  bootstrap=False, min_samples_leaf=1, n_estimators=1000, min_samples_split=2, max_features=auto, max_depth=50, class_weight={0: 1, 1: 25}, total=  21.7s\n",
      "[CV] bootstrap=False, min_samples_leaf=1, n_estimators=800, min_samples_split=5, max_features=sqrt, max_depth=90, class_weight={0: 1, 1: 25} \n",
      "[CV]  bootstrap=False, min_samples_leaf=1, n_estimators=1000, min_samples_split=2, max_features=auto, max_depth=50, class_weight={0: 1, 1: 25}, total=  21.1s\n",
      "[CV] bootstrap=False, min_samples_leaf=1, n_estimators=2000, min_samples_split=10, max_features=sqrt, max_depth=10, class_weight={0: 1, 1: 25} \n",
      "[CV]  bootstrap=False, min_samples_leaf=1, n_estimators=1000, min_samples_split=2, max_features=auto, max_depth=50, class_weight={0: 1, 1: 25}, total=  21.7s\n",
      "[CV] bootstrap=False, min_samples_leaf=1, n_estimators=2000, min_samples_split=10, max_features=sqrt, max_depth=10, class_weight={0: 1, 1: 25} \n",
      "[CV]  bootstrap=False, min_samples_leaf=1, n_estimators=800, min_samples_split=5, max_features=sqrt, max_depth=90, class_weight={0: 1, 1: 25}, total=  17.0s\n",
      "[CV] bootstrap=False, min_samples_leaf=1, n_estimators=2000, min_samples_split=10, max_features=sqrt, max_depth=10, class_weight={0: 1, 1: 25} \n",
      "[CV]  bootstrap=False, min_samples_leaf=4, n_estimators=1800, min_samples_split=5, max_features=auto, max_depth=10, class_weight={0: 1, 1: 25}, total=  30.9s\n",
      "[CV] bootstrap=False, min_samples_leaf=2, n_estimators=1600, min_samples_split=5, max_features=sqrt, max_depth=10, class_weight={0: 1, 1: 25} \n",
      "[CV]  bootstrap=False, min_samples_leaf=1, n_estimators=800, min_samples_split=5, max_features=sqrt, max_depth=90, class_weight={0: 1, 1: 25}, total=  16.6s\n",
      "[CV] bootstrap=False, min_samples_leaf=2, n_estimators=1600, min_samples_split=5, max_features=sqrt, max_depth=10, class_weight={0: 1, 1: 25} \n",
      "[CV]  bootstrap=False, min_samples_leaf=4, n_estimators=1800, min_samples_split=5, max_features=auto, max_depth=10, class_weight={0: 1, 1: 25}, total=  31.8s\n",
      "[CV] bootstrap=False, min_samples_leaf=2, n_estimators=1600, min_samples_split=5, max_features=sqrt, max_depth=10, class_weight={0: 1, 1: 25} \n",
      "[CV]  bootstrap=False, min_samples_leaf=4, n_estimators=1800, min_samples_split=5, max_features=auto, max_depth=10, class_weight={0: 1, 1: 25}, total=  31.1s\n",
      "[CV] bootstrap=False, min_samples_leaf=2, n_estimators=800, min_samples_split=10, max_features=sqrt, max_depth=30, class_weight={0: 1, 1: 25} \n",
      "[CV]  bootstrap=False, min_samples_leaf=1, n_estimators=800, min_samples_split=5, max_features=sqrt, max_depth=90, class_weight={0: 1, 1: 25}, total=  16.9s\n",
      "[CV] bootstrap=False, min_samples_leaf=2, n_estimators=800, min_samples_split=10, max_features=sqrt, max_depth=30, class_weight={0: 1, 1: 25} \n",
      "[CV]  bootstrap=False, min_samples_leaf=2, n_estimators=800, min_samples_split=10, max_features=sqrt, max_depth=30, class_weight={0: 1, 1: 25}, total=  16.3s\n",
      "[CV] bootstrap=False, min_samples_leaf=2, n_estimators=800, min_samples_split=10, max_features=sqrt, max_depth=30, class_weight={0: 1, 1: 25} \n",
      "[CV]  bootstrap=False, min_samples_leaf=2, n_estimators=800, min_samples_split=10, max_features=sqrt, max_depth=30, class_weight={0: 1, 1: 25}, total=  15.8s\n",
      "[CV] bootstrap=False, min_samples_leaf=4, n_estimators=1800, min_samples_split=2, max_features=auto, max_depth=50, class_weight={0: 1, 1: 25} \n",
      "[CV]  bootstrap=False, min_samples_leaf=1, n_estimators=2000, min_samples_split=10, max_features=sqrt, max_depth=10, class_weight={0: 1, 1: 25}, total=  34.6s\n",
      "[CV] bootstrap=False, min_samples_leaf=4, n_estimators=1800, min_samples_split=2, max_features=auto, max_depth=50, class_weight={0: 1, 1: 25} \n",
      "[CV]  bootstrap=False, min_samples_leaf=1, n_estimators=2000, min_samples_split=10, max_features=sqrt, max_depth=10, class_weight={0: 1, 1: 25}, total=  34.9s\n",
      "[CV] bootstrap=False, min_samples_leaf=4, n_estimators=1800, min_samples_split=2, max_features=auto, max_depth=50, class_weight={0: 1, 1: 25} \n",
      "[CV]  bootstrap=False, min_samples_leaf=2, n_estimators=1600, min_samples_split=5, max_features=sqrt, max_depth=10, class_weight={0: 1, 1: 25}, total=  27.7s\n",
      "[CV] bootstrap=False, min_samples_leaf=2, n_estimators=600, min_samples_split=5, max_features=auto, max_depth=70, class_weight={0: 1, 1: 25} \n",
      "[CV]  bootstrap=False, min_samples_leaf=2, n_estimators=1600, min_samples_split=5, max_features=sqrt, max_depth=10, class_weight={0: 1, 1: 25}, total=  27.7s\n",
      "[CV] bootstrap=False, min_samples_leaf=2, n_estimators=600, min_samples_split=5, max_features=auto, max_depth=70, class_weight={0: 1, 1: 25} \n",
      "[CV]  bootstrap=False, min_samples_leaf=2, n_estimators=1600, min_samples_split=5, max_features=sqrt, max_depth=10, class_weight={0: 1, 1: 25}, total=  27.8s\n",
      "[CV] bootstrap=False, min_samples_leaf=2, n_estimators=600, min_samples_split=5, max_features=auto, max_depth=70, class_weight={0: 1, 1: 25} \n",
      "[CV]  bootstrap=False, min_samples_leaf=1, n_estimators=2000, min_samples_split=10, max_features=sqrt, max_depth=10, class_weight={0: 1, 1: 25}, total=  34.7s\n",
      "[CV] bootstrap=True, min_samples_leaf=1, n_estimators=1000, min_samples_split=2, max_features=sqrt, max_depth=20, class_weight={0: 1, 1: 25} \n",
      "[CV]  bootstrap=False, min_samples_leaf=2, n_estimators=800, min_samples_split=10, max_features=sqrt, max_depth=30, class_weight={0: 1, 1: 25}, total=  16.3s\n",
      "[CV] bootstrap=True, min_samples_leaf=1, n_estimators=1000, min_samples_split=2, max_features=sqrt, max_depth=20, class_weight={0: 1, 1: 25} \n",
      "[CV]  bootstrap=False, min_samples_leaf=2, n_estimators=600, min_samples_split=5, max_features=auto, max_depth=70, class_weight={0: 1, 1: 25}, total=  12.4s\n",
      "[CV] bootstrap=True, min_samples_leaf=1, n_estimators=1000, min_samples_split=2, max_features=sqrt, max_depth=20, class_weight={0: 1, 1: 25} \n",
      "[CV]  bootstrap=False, min_samples_leaf=2, n_estimators=600, min_samples_split=5, max_features=auto, max_depth=70, class_weight={0: 1, 1: 25}, total=  12.2s\n",
      "[CV] bootstrap=False, min_samples_leaf=2, n_estimators=1800, min_samples_split=10, max_features=auto, max_depth=110, class_weight={0: 1, 1: 25} \n",
      "[CV]  bootstrap=False, min_samples_leaf=2, n_estimators=600, min_samples_split=5, max_features=auto, max_depth=70, class_weight={0: 1, 1: 25}, total=  12.5s\n",
      "[CV] bootstrap=False, min_samples_leaf=2, n_estimators=1800, min_samples_split=10, max_features=auto, max_depth=110, class_weight={0: 1, 1: 25} \n",
      "[CV]  bootstrap=True, min_samples_leaf=1, n_estimators=1000, min_samples_split=2, max_features=sqrt, max_depth=20, class_weight={0: 1, 1: 25}, total=  15.3s\n",
      "[CV] bootstrap=False, min_samples_leaf=2, n_estimators=1800, min_samples_split=10, max_features=auto, max_depth=110, class_weight={0: 1, 1: 25} \n",
      "[CV]  bootstrap=True, min_samples_leaf=1, n_estimators=1000, min_samples_split=2, max_features=sqrt, max_depth=20, class_weight={0: 1, 1: 25}, total=  15.1s\n",
      "[CV] bootstrap=True, min_samples_leaf=1, n_estimators=600, min_samples_split=5, max_features=auto, max_depth=80, class_weight={0: 1, 1: 25} \n",
      "[CV]  bootstrap=True, min_samples_leaf=1, n_estimators=1000, min_samples_split=2, max_features=sqrt, max_depth=20, class_weight={0: 1, 1: 25}, total=  15.4s\n",
      "[CV] bootstrap=True, min_samples_leaf=1, n_estimators=600, min_samples_split=5, max_features=auto, max_depth=80, class_weight={0: 1, 1: 25} \n",
      "[CV]  bootstrap=False, min_samples_leaf=4, n_estimators=1800, min_samples_split=2, max_features=auto, max_depth=50, class_weight={0: 1, 1: 25}, total=  36.1s\n",
      "[CV] bootstrap=True, min_samples_leaf=1, n_estimators=600, min_samples_split=5, max_features=auto, max_depth=80, class_weight={0: 1, 1: 25} \n",
      "[CV]  bootstrap=False, min_samples_leaf=4, n_estimators=1800, min_samples_split=2, max_features=auto, max_depth=50, class_weight={0: 1, 1: 25}, total=  35.1s\n"
     ]
    },
    {
     "name": "stdout",
     "output_type": "stream",
     "text": [
      "[CV] bootstrap=False, min_samples_leaf=1, n_estimators=1800, min_samples_split=10, max_features=sqrt, max_depth=30, class_weight={0: 1, 1: 25} \n",
      "[CV]  bootstrap=True, min_samples_leaf=1, n_estimators=600, min_samples_split=5, max_features=auto, max_depth=80, class_weight={0: 1, 1: 25}, total=   9.1s\n",
      "[CV] bootstrap=False, min_samples_leaf=1, n_estimators=1800, min_samples_split=10, max_features=sqrt, max_depth=30, class_weight={0: 1, 1: 25} \n",
      "[CV]  bootstrap=False, min_samples_leaf=4, n_estimators=1800, min_samples_split=2, max_features=auto, max_depth=50, class_weight={0: 1, 1: 25}, total=  36.1s\n",
      "[CV] bootstrap=False, min_samples_leaf=1, n_estimators=1800, min_samples_split=10, max_features=sqrt, max_depth=30, class_weight={0: 1, 1: 25} \n",
      "[CV]  bootstrap=True, min_samples_leaf=1, n_estimators=600, min_samples_split=5, max_features=auto, max_depth=80, class_weight={0: 1, 1: 25}, total=   9.2s\n",
      "[CV] bootstrap=False, min_samples_leaf=1, n_estimators=1600, min_samples_split=5, max_features=sqrt, max_depth=70, class_weight={0: 1, 1: 25} \n",
      "[CV]  bootstrap=True, min_samples_leaf=1, n_estimators=600, min_samples_split=5, max_features=auto, max_depth=80, class_weight={0: 1, 1: 25}, total=   9.1s\n",
      "[CV] bootstrap=False, min_samples_leaf=1, n_estimators=1600, min_samples_split=5, max_features=sqrt, max_depth=70, class_weight={0: 1, 1: 25} \n",
      "[CV]  bootstrap=False, min_samples_leaf=2, n_estimators=1800, min_samples_split=10, max_features=auto, max_depth=110, class_weight={0: 1, 1: 25}, total=  36.9s\n",
      "[CV] bootstrap=False, min_samples_leaf=1, n_estimators=1600, min_samples_split=5, max_features=sqrt, max_depth=70, class_weight={0: 1, 1: 25} \n",
      "[CV]  bootstrap=False, min_samples_leaf=2, n_estimators=1800, min_samples_split=10, max_features=auto, max_depth=110, class_weight={0: 1, 1: 25}, total=  36.4s\n",
      "[CV] bootstrap=True, min_samples_leaf=4, n_estimators=1400, min_samples_split=5, max_features=sqrt, max_depth=80, class_weight={0: 1, 1: 25} \n",
      "[CV]  bootstrap=False, min_samples_leaf=2, n_estimators=1800, min_samples_split=10, max_features=auto, max_depth=110, class_weight={0: 1, 1: 25}, total=  36.9s\n",
      "[CV] bootstrap=True, min_samples_leaf=4, n_estimators=1400, min_samples_split=5, max_features=sqrt, max_depth=80, class_weight={0: 1, 1: 25} \n",
      "[CV]  bootstrap=False, min_samples_leaf=1, n_estimators=1800, min_samples_split=10, max_features=sqrt, max_depth=30, class_weight={0: 1, 1: 25}, total=  37.5s\n",
      "[CV] bootstrap=True, min_samples_leaf=4, n_estimators=1400, min_samples_split=5, max_features=sqrt, max_depth=80, class_weight={0: 1, 1: 25} \n",
      "[CV]  bootstrap=False, min_samples_leaf=1, n_estimators=1800, min_samples_split=10, max_features=sqrt, max_depth=30, class_weight={0: 1, 1: 25}, total=  36.7s\n",
      "[CV] bootstrap=True, min_samples_leaf=2, n_estimators=1800, min_samples_split=2, max_features=auto, max_depth=None, class_weight={0: 1, 1: 25} \n",
      "[CV]  bootstrap=True, min_samples_leaf=4, n_estimators=1400, min_samples_split=5, max_features=sqrt, max_depth=80, class_weight={0: 1, 1: 25}, total=  20.0s\n",
      "[CV] bootstrap=True, min_samples_leaf=2, n_estimators=1800, min_samples_split=2, max_features=auto, max_depth=None, class_weight={0: 1, 1: 25} \n",
      "[CV]  bootstrap=False, min_samples_leaf=1, n_estimators=1800, min_samples_split=10, max_features=sqrt, max_depth=30, class_weight={0: 1, 1: 25}, total=  37.4s\n",
      "[CV] bootstrap=True, min_samples_leaf=2, n_estimators=1800, min_samples_split=2, max_features=auto, max_depth=None, class_weight={0: 1, 1: 25} \n",
      "[CV]  bootstrap=False, min_samples_leaf=1, n_estimators=1600, min_samples_split=5, max_features=sqrt, max_depth=70, class_weight={0: 1, 1: 25}, total=  34.1s\n",
      "[CV] bootstrap=False, min_samples_leaf=1, n_estimators=1400, min_samples_split=5, max_features=sqrt, max_depth=80, class_weight={0: 1, 1: 25} \n",
      "[CV]  bootstrap=False, min_samples_leaf=1, n_estimators=1600, min_samples_split=5, max_features=sqrt, max_depth=70, class_weight={0: 1, 1: 25}, total=  33.3s\n",
      "[CV] bootstrap=False, min_samples_leaf=1, n_estimators=1400, min_samples_split=5, max_features=sqrt, max_depth=80, class_weight={0: 1, 1: 25} \n",
      "[CV]  bootstrap=True, min_samples_leaf=4, n_estimators=1400, min_samples_split=5, max_features=sqrt, max_depth=80, class_weight={0: 1, 1: 25}, total=  20.0s\n",
      "[CV] bootstrap=False, min_samples_leaf=1, n_estimators=1400, min_samples_split=5, max_features=sqrt, max_depth=80, class_weight={0: 1, 1: 25} \n",
      "[CV]  bootstrap=False, min_samples_leaf=1, n_estimators=1600, min_samples_split=5, max_features=sqrt, max_depth=70, class_weight={0: 1, 1: 25}, total=  33.8s\n",
      "[CV] bootstrap=False, min_samples_leaf=1, n_estimators=400, min_samples_split=2, max_features=sqrt, max_depth=None, class_weight={0: 1, 1: 25} \n",
      "[CV]  bootstrap=True, min_samples_leaf=4, n_estimators=1400, min_samples_split=5, max_features=sqrt, max_depth=80, class_weight={0: 1, 1: 25}, total=  20.2s\n",
      "[CV] bootstrap=False, min_samples_leaf=1, n_estimators=400, min_samples_split=2, max_features=sqrt, max_depth=None, class_weight={0: 1, 1: 25} \n",
      "[CV]  bootstrap=False, min_samples_leaf=1, n_estimators=400, min_samples_split=2, max_features=sqrt, max_depth=None, class_weight={0: 1, 1: 25}, total=   8.7s\n",
      "[CV] bootstrap=False, min_samples_leaf=1, n_estimators=400, min_samples_split=2, max_features=sqrt, max_depth=None, class_weight={0: 1, 1: 25} \n",
      "[CV]  bootstrap=True, min_samples_leaf=2, n_estimators=1800, min_samples_split=2, max_features=auto, max_depth=None, class_weight={0: 1, 1: 25}, total=  27.1s\n",
      "[CV] bootstrap=False, min_samples_leaf=1, n_estimators=1400, min_samples_split=2, max_features=auto, max_depth=40, class_weight={0: 1, 1: 25} \n",
      "[CV]  bootstrap=True, min_samples_leaf=2, n_estimators=1800, min_samples_split=2, max_features=auto, max_depth=None, class_weight={0: 1, 1: 25}, total=  26.6s\n",
      "[CV]  bootstrap=False, min_samples_leaf=1, n_estimators=400, min_samples_split=2, max_features=sqrt, max_depth=None, class_weight={0: 1, 1: 25}, total=   8.4s\n",
      "[CV] bootstrap=False, min_samples_leaf=1, n_estimators=1400, min_samples_split=2, max_features=auto, max_depth=40, class_weight={0: 1, 1: 25} \n",
      "[CV] bootstrap=False, min_samples_leaf=1, n_estimators=1400, min_samples_split=2, max_features=auto, max_depth=40, class_weight={0: 1, 1: 25} \n",
      "[CV]  bootstrap=True, min_samples_leaf=2, n_estimators=1800, min_samples_split=2, max_features=auto, max_depth=None, class_weight={0: 1, 1: 25}, total=  27.0s\n",
      "[CV] bootstrap=True, min_samples_leaf=2, n_estimators=1000, min_samples_split=5, max_features=sqrt, max_depth=20, class_weight={0: 1, 1: 25} \n",
      "[CV]  bootstrap=False, min_samples_leaf=1, n_estimators=400, min_samples_split=2, max_features=sqrt, max_depth=None, class_weight={0: 1, 1: 25}, total=   8.7s\n",
      "[CV] bootstrap=True, min_samples_leaf=2, n_estimators=1000, min_samples_split=5, max_features=sqrt, max_depth=20, class_weight={0: 1, 1: 25} \n",
      "[CV]  bootstrap=False, min_samples_leaf=1, n_estimators=1400, min_samples_split=5, max_features=sqrt, max_depth=80, class_weight={0: 1, 1: 25}, total=  28.9s\n",
      "[CV] bootstrap=True, min_samples_leaf=2, n_estimators=1000, min_samples_split=5, max_features=sqrt, max_depth=20, class_weight={0: 1, 1: 25} \n",
      "[CV]  bootstrap=False, min_samples_leaf=1, n_estimators=1400, min_samples_split=5, max_features=sqrt, max_depth=80, class_weight={0: 1, 1: 25}, total=  29.5s\n",
      "[CV] bootstrap=False, min_samples_leaf=4, n_estimators=2000, min_samples_split=10, max_features=auto, max_depth=100, class_weight={0: 1, 1: 25} \n",
      "[CV]  bootstrap=False, min_samples_leaf=1, n_estimators=1400, min_samples_split=5, max_features=sqrt, max_depth=80, class_weight={0: 1, 1: 25}, total=  29.7s\n",
      "[CV] bootstrap=False, min_samples_leaf=4, n_estimators=2000, min_samples_split=10, max_features=auto, max_depth=100, class_weight={0: 1, 1: 25} \n",
      "[CV]  bootstrap=True, min_samples_leaf=2, n_estimators=1000, min_samples_split=5, max_features=sqrt, max_depth=20, class_weight={0: 1, 1: 25}, total=  15.1s\n",
      "[CV] bootstrap=False, min_samples_leaf=4, n_estimators=2000, min_samples_split=10, max_features=auto, max_depth=100, class_weight={0: 1, 1: 25} \n",
      "[CV]  bootstrap=True, min_samples_leaf=2, n_estimators=1000, min_samples_split=5, max_features=sqrt, max_depth=20, class_weight={0: 1, 1: 25}, total=  14.7s\n",
      "[CV] bootstrap=True, min_samples_leaf=2, n_estimators=1200, min_samples_split=2, max_features=sqrt, max_depth=20, class_weight={0: 1, 1: 25} \n"
     ]
    },
    {
     "name": "stdout",
     "output_type": "stream",
     "text": [
      "[CV]  bootstrap=True, min_samples_leaf=2, n_estimators=1000, min_samples_split=5, max_features=sqrt, max_depth=20, class_weight={0: 1, 1: 25}, total=  14.9s\n",
      "[CV] bootstrap=True, min_samples_leaf=2, n_estimators=1200, min_samples_split=2, max_features=sqrt, max_depth=20, class_weight={0: 1, 1: 25} \n",
      "[CV]  bootstrap=False, min_samples_leaf=1, n_estimators=1400, min_samples_split=2, max_features=auto, max_depth=40, class_weight={0: 1, 1: 25}, total=  29.6s\n",
      "[CV] bootstrap=True, min_samples_leaf=2, n_estimators=1200, min_samples_split=2, max_features=sqrt, max_depth=20, class_weight={0: 1, 1: 25} \n",
      "[CV]  bootstrap=False, min_samples_leaf=1, n_estimators=1400, min_samples_split=2, max_features=auto, max_depth=40, class_weight={0: 1, 1: 25}, total=  30.2s\n",
      "[CV] bootstrap=False, min_samples_leaf=4, n_estimators=1200, min_samples_split=10, max_features=sqrt, max_depth=20, class_weight={0: 1, 1: 25} \n",
      "[CV]  bootstrap=False, min_samples_leaf=1, n_estimators=1400, min_samples_split=2, max_features=auto, max_depth=40, class_weight={0: 1, 1: 25}, total=  30.4s\n",
      "[CV] bootstrap=False, min_samples_leaf=4, n_estimators=1200, min_samples_split=10, max_features=sqrt, max_depth=20, class_weight={0: 1, 1: 25} \n",
      "[CV]  bootstrap=True, min_samples_leaf=2, n_estimators=1200, min_samples_split=2, max_features=sqrt, max_depth=20, class_weight={0: 1, 1: 25}, total=  18.0s\n",
      "[CV] bootstrap=False, min_samples_leaf=4, n_estimators=1200, min_samples_split=10, max_features=sqrt, max_depth=20, class_weight={0: 1, 1: 25} \n",
      "[CV]  bootstrap=True, min_samples_leaf=2, n_estimators=1200, min_samples_split=2, max_features=sqrt, max_depth=20, class_weight={0: 1, 1: 25}, total=  17.6s\n",
      "[CV] bootstrap=False, min_samples_leaf=2, n_estimators=800, min_samples_split=2, max_features=sqrt, max_depth=50, class_weight={0: 1, 1: 25} \n",
      "[CV]  bootstrap=False, min_samples_leaf=4, n_estimators=2000, min_samples_split=10, max_features=auto, max_depth=100, class_weight={0: 1, 1: 25}, total=  40.4s\n",
      "[CV] bootstrap=False, min_samples_leaf=2, n_estimators=800, min_samples_split=2, max_features=sqrt, max_depth=50, class_weight={0: 1, 1: 25} \n",
      "[CV]  bootstrap=True, min_samples_leaf=2, n_estimators=1200, min_samples_split=2, max_features=sqrt, max_depth=20, class_weight={0: 1, 1: 25}, total=  17.9s\n",
      "[CV] bootstrap=False, min_samples_leaf=2, n_estimators=800, min_samples_split=2, max_features=sqrt, max_depth=50, class_weight={0: 1, 1: 25} \n",
      "[CV]  bootstrap=False, min_samples_leaf=4, n_estimators=2000, min_samples_split=10, max_features=auto, max_depth=100, class_weight={0: 1, 1: 25}, total=  39.1s\n",
      "[CV] bootstrap=False, min_samples_leaf=1, n_estimators=800, min_samples_split=5, max_features=sqrt, max_depth=100, class_weight={0: 1, 1: 25} \n",
      "[CV]  bootstrap=False, min_samples_leaf=4, n_estimators=1200, min_samples_split=10, max_features=sqrt, max_depth=20, class_weight={0: 1, 1: 25}, total=  23.8s\n",
      "[CV] bootstrap=False, min_samples_leaf=1, n_estimators=800, min_samples_split=5, max_features=sqrt, max_depth=100, class_weight={0: 1, 1: 25} \n",
      "[CV]  bootstrap=False, min_samples_leaf=4, n_estimators=1200, min_samples_split=10, max_features=sqrt, max_depth=20, class_weight={0: 1, 1: 25}, total=  23.3s\n",
      "[CV] bootstrap=False, min_samples_leaf=1, n_estimators=800, min_samples_split=5, max_features=sqrt, max_depth=100, class_weight={0: 1, 1: 25} \n",
      "[CV]  bootstrap=False, min_samples_leaf=2, n_estimators=800, min_samples_split=2, max_features=sqrt, max_depth=50, class_weight={0: 1, 1: 25}, total=  16.7s\n",
      "[CV] bootstrap=True, min_samples_leaf=4, n_estimators=800, min_samples_split=10, max_features=sqrt, max_depth=50, class_weight={0: 1, 1: 25} \n",
      "[CV]  bootstrap=False, min_samples_leaf=4, n_estimators=2000, min_samples_split=10, max_features=auto, max_depth=100, class_weight={0: 1, 1: 25}, total=  39.9s\n",
      "[CV] bootstrap=True, min_samples_leaf=4, n_estimators=800, min_samples_split=10, max_features=sqrt, max_depth=50, class_weight={0: 1, 1: 25} \n",
      "[CV]  bootstrap=False, min_samples_leaf=2, n_estimators=800, min_samples_split=2, max_features=sqrt, max_depth=50, class_weight={0: 1, 1: 25}, total=  16.5s\n",
      "[CV] bootstrap=True, min_samples_leaf=4, n_estimators=800, min_samples_split=10, max_features=sqrt, max_depth=50, class_weight={0: 1, 1: 25} \n",
      "[CV]  bootstrap=False, min_samples_leaf=4, n_estimators=1200, min_samples_split=10, max_features=sqrt, max_depth=20, class_weight={0: 1, 1: 25}, total=  24.1s\n",
      "[CV] bootstrap=True, min_samples_leaf=4, n_estimators=1800, min_samples_split=2, max_features=sqrt, max_depth=90, class_weight={0: 1, 1: 25} \n",
      "[CV]  bootstrap=False, min_samples_leaf=2, n_estimators=800, min_samples_split=2, max_features=sqrt, max_depth=50, class_weight={0: 1, 1: 25}, total=  16.6s\n",
      "[CV] bootstrap=True, min_samples_leaf=4, n_estimators=1800, min_samples_split=2, max_features=sqrt, max_depth=90, class_weight={0: 1, 1: 25} \n",
      "[CV]  bootstrap=False, min_samples_leaf=1, n_estimators=800, min_samples_split=5, max_features=sqrt, max_depth=100, class_weight={0: 1, 1: 25}, total=  17.2s\n",
      "[CV] bootstrap=True, min_samples_leaf=4, n_estimators=1800, min_samples_split=2, max_features=sqrt, max_depth=90, class_weight={0: 1, 1: 25} \n",
      "[CV]  bootstrap=True, min_samples_leaf=4, n_estimators=800, min_samples_split=10, max_features=sqrt, max_depth=50, class_weight={0: 1, 1: 25}, total=  11.6s\n",
      "[CV] bootstrap=False, min_samples_leaf=2, n_estimators=800, min_samples_split=10, max_features=sqrt, max_depth=20, class_weight={0: 1, 1: 25} \n",
      "[CV]  bootstrap=True, min_samples_leaf=4, n_estimators=800, min_samples_split=10, max_features=sqrt, max_depth=50, class_weight={0: 1, 1: 25}, total=  11.5s\n",
      "[CV] bootstrap=False, min_samples_leaf=2, n_estimators=800, min_samples_split=10, max_features=sqrt, max_depth=20, class_weight={0: 1, 1: 25} \n",
      "[CV]  bootstrap=False, min_samples_leaf=1, n_estimators=800, min_samples_split=5, max_features=sqrt, max_depth=100, class_weight={0: 1, 1: 25}, total=  16.8s\n",
      "[CV] bootstrap=False, min_samples_leaf=2, n_estimators=800, min_samples_split=10, max_features=sqrt, max_depth=20, class_weight={0: 1, 1: 25} \n",
      "[CV]  bootstrap=False, min_samples_leaf=1, n_estimators=800, min_samples_split=5, max_features=sqrt, max_depth=100, class_weight={0: 1, 1: 25}, total=  17.1s\n",
      "[CV] bootstrap=True, min_samples_leaf=2, n_estimators=1200, min_samples_split=5, max_features=sqrt, max_depth=20, class_weight={0: 1, 1: 25} \n",
      "[CV]  bootstrap=True, min_samples_leaf=4, n_estimators=800, min_samples_split=10, max_features=sqrt, max_depth=50, class_weight={0: 1, 1: 25}, total=  11.9s\n",
      "[CV] bootstrap=True, min_samples_leaf=2, n_estimators=1200, min_samples_split=5, max_features=sqrt, max_depth=20, class_weight={0: 1, 1: 25} \n",
      "[CV]  bootstrap=False, min_samples_leaf=2, n_estimators=800, min_samples_split=10, max_features=sqrt, max_depth=20, class_weight={0: 1, 1: 25}, total=  16.2s\n",
      "[CV] bootstrap=True, min_samples_leaf=2, n_estimators=1200, min_samples_split=5, max_features=sqrt, max_depth=20, class_weight={0: 1, 1: 25} \n",
      "[CV]  bootstrap=False, min_samples_leaf=2, n_estimators=800, min_samples_split=10, max_features=sqrt, max_depth=20, class_weight={0: 1, 1: 25}, total=  15.9s\n",
      "[CV] bootstrap=True, min_samples_leaf=1, n_estimators=800, min_samples_split=2, max_features=auto, max_depth=100, class_weight={0: 1, 1: 25} \n",
      "[CV]  bootstrap=False, min_samples_leaf=2, n_estimators=800, min_samples_split=10, max_features=sqrt, max_depth=20, class_weight={0: 1, 1: 25}, total=  16.2s\n",
      "[CV] bootstrap=True, min_samples_leaf=1, n_estimators=800, min_samples_split=2, max_features=auto, max_depth=100, class_weight={0: 1, 1: 25} \n",
      "[CV]  bootstrap=True, min_samples_leaf=4, n_estimators=1800, min_samples_split=2, max_features=sqrt, max_depth=90, class_weight={0: 1, 1: 25}, total=  26.1s\n",
      "[CV] bootstrap=True, min_samples_leaf=1, n_estimators=800, min_samples_split=2, max_features=auto, max_depth=100, class_weight={0: 1, 1: 25} \n",
      "[CV]  bootstrap=True, min_samples_leaf=2, n_estimators=1200, min_samples_split=5, max_features=sqrt, max_depth=20, class_weight={0: 1, 1: 25}, total=  17.8s\n",
      "[CV] bootstrap=True, min_samples_leaf=2, n_estimators=800, min_samples_split=5, max_features=auto, max_depth=None, class_weight={0: 1, 1: 25} \n",
      "[CV]  bootstrap=True, min_samples_leaf=4, n_estimators=1800, min_samples_split=2, max_features=sqrt, max_depth=90, class_weight={0: 1, 1: 25}, total=  25.7s\n"
     ]
    },
    {
     "name": "stdout",
     "output_type": "stream",
     "text": [
      "[CV] bootstrap=True, min_samples_leaf=2, n_estimators=800, min_samples_split=5, max_features=auto, max_depth=None, class_weight={0: 1, 1: 25} \n",
      "[CV]  bootstrap=True, min_samples_leaf=2, n_estimators=1200, min_samples_split=5, max_features=sqrt, max_depth=20, class_weight={0: 1, 1: 25}, total=  17.7s\n",
      "[CV] bootstrap=True, min_samples_leaf=2, n_estimators=800, min_samples_split=5, max_features=auto, max_depth=None, class_weight={0: 1, 1: 25} \n",
      "[CV]  bootstrap=True, min_samples_leaf=4, n_estimators=1800, min_samples_split=2, max_features=sqrt, max_depth=90, class_weight={0: 1, 1: 25}, total=  26.1s\n",
      "[CV] bootstrap=True, min_samples_leaf=2, n_estimators=1000, min_samples_split=2, max_features=sqrt, max_depth=60, class_weight={0: 1, 1: 25} \n",
      "[CV]  bootstrap=True, min_samples_leaf=1, n_estimators=800, min_samples_split=2, max_features=auto, max_depth=100, class_weight={0: 1, 1: 25}, total=  12.6s\n",
      "[CV] bootstrap=True, min_samples_leaf=2, n_estimators=1000, min_samples_split=2, max_features=sqrt, max_depth=60, class_weight={0: 1, 1: 25} \n",
      "[CV]  bootstrap=True, min_samples_leaf=1, n_estimators=800, min_samples_split=2, max_features=auto, max_depth=100, class_weight={0: 1, 1: 25}, total=  12.1s\n",
      "[CV] bootstrap=True, min_samples_leaf=2, n_estimators=1000, min_samples_split=2, max_features=sqrt, max_depth=60, class_weight={0: 1, 1: 25} \n",
      "[CV]  bootstrap=True, min_samples_leaf=2, n_estimators=1200, min_samples_split=5, max_features=sqrt, max_depth=20, class_weight={0: 1, 1: 25}, total=  17.9s\n",
      "[CV] bootstrap=True, min_samples_leaf=4, n_estimators=200, min_samples_split=5, max_features=auto, max_depth=10, class_weight={0: 1, 1: 25} \n",
      "[CV]  bootstrap=True, min_samples_leaf=1, n_estimators=800, min_samples_split=2, max_features=auto, max_depth=100, class_weight={0: 1, 1: 25}, total=  12.5s\n",
      "[CV] bootstrap=True, min_samples_leaf=4, n_estimators=200, min_samples_split=5, max_features=auto, max_depth=10, class_weight={0: 1, 1: 25} \n",
      "[CV]  bootstrap=True, min_samples_leaf=2, n_estimators=800, min_samples_split=5, max_features=auto, max_depth=None, class_weight={0: 1, 1: 25}, total=  11.9s\n",
      "[CV] bootstrap=True, min_samples_leaf=4, n_estimators=200, min_samples_split=5, max_features=auto, max_depth=10, class_weight={0: 1, 1: 25} \n",
      "[CV]  bootstrap=True, min_samples_leaf=2, n_estimators=800, min_samples_split=5, max_features=auto, max_depth=None, class_weight={0: 1, 1: 25}, total=  11.8s\n",
      "[CV] bootstrap=True, min_samples_leaf=2, n_estimators=600, min_samples_split=10, max_features=sqrt, max_depth=60, class_weight={0: 1, 1: 25} \n",
      "[CV]  bootstrap=True, min_samples_leaf=4, n_estimators=200, min_samples_split=5, max_features=auto, max_depth=10, class_weight={0: 1, 1: 25}, total=   2.7s\n",
      "[CV] bootstrap=True, min_samples_leaf=2, n_estimators=600, min_samples_split=10, max_features=sqrt, max_depth=60, class_weight={0: 1, 1: 25} \n",
      "[CV]  bootstrap=True, min_samples_leaf=4, n_estimators=200, min_samples_split=5, max_features=auto, max_depth=10, class_weight={0: 1, 1: 25}, total=   2.6s\n",
      "[CV] bootstrap=True, min_samples_leaf=2, n_estimators=600, min_samples_split=10, max_features=sqrt, max_depth=60, class_weight={0: 1, 1: 25} \n",
      "[CV]  bootstrap=True, min_samples_leaf=2, n_estimators=800, min_samples_split=5, max_features=auto, max_depth=None, class_weight={0: 1, 1: 25}, total=  12.0s\n",
      "[CV] bootstrap=True, min_samples_leaf=4, n_estimators=800, min_samples_split=2, max_features=sqrt, max_depth=90, class_weight={0: 1, 1: 25} \n",
      "[CV]  bootstrap=True, min_samples_leaf=4, n_estimators=200, min_samples_split=5, max_features=auto, max_depth=10, class_weight={0: 1, 1: 25}, total=   2.6s\n",
      "[CV] bootstrap=True, min_samples_leaf=4, n_estimators=800, min_samples_split=2, max_features=sqrt, max_depth=90, class_weight={0: 1, 1: 25} \n",
      "[CV]  bootstrap=True, min_samples_leaf=2, n_estimators=1000, min_samples_split=2, max_features=sqrt, max_depth=60, class_weight={0: 1, 1: 25}, total=  15.3s\n",
      "[CV] bootstrap=True, min_samples_leaf=4, n_estimators=800, min_samples_split=2, max_features=sqrt, max_depth=90, class_weight={0: 1, 1: 25} \n",
      "[CV]  bootstrap=True, min_samples_leaf=2, n_estimators=1000, min_samples_split=2, max_features=sqrt, max_depth=60, class_weight={0: 1, 1: 25}, total=  14.9s\n",
      "[CV] bootstrap=True, min_samples_leaf=4, n_estimators=400, min_samples_split=10, max_features=sqrt, max_depth=90, class_weight={0: 1, 1: 25} \n",
      "[CV]  bootstrap=True, min_samples_leaf=2, n_estimators=600, min_samples_split=10, max_features=sqrt, max_depth=60, class_weight={0: 1, 1: 25}, total=   8.9s\n",
      "[CV] bootstrap=True, min_samples_leaf=4, n_estimators=400, min_samples_split=10, max_features=sqrt, max_depth=90, class_weight={0: 1, 1: 25} \n",
      "[CV]  bootstrap=True, min_samples_leaf=2, n_estimators=600, min_samples_split=10, max_features=sqrt, max_depth=60, class_weight={0: 1, 1: 25}, total=   8.7s\n",
      "[CV]  bootstrap=True, min_samples_leaf=2, n_estimators=600, min_samples_split=10, max_features=sqrt, max_depth=60, class_weight={0: 1, 1: 25}, total=   8.7s\n",
      "[CV] bootstrap=True, min_samples_leaf=4, n_estimators=400, min_samples_split=10, max_features=sqrt, max_depth=90, class_weight={0: 1, 1: 25} \n",
      "[CV] bootstrap=False, min_samples_leaf=2, n_estimators=200, min_samples_split=5, max_features=auto, max_depth=90, class_weight={0: 1, 1: 25} \n",
      "[CV]  bootstrap=True, min_samples_leaf=2, n_estimators=1000, min_samples_split=2, max_features=sqrt, max_depth=60, class_weight={0: 1, 1: 25}, total=  15.0s\n",
      "[CV] bootstrap=False, min_samples_leaf=2, n_estimators=200, min_samples_split=5, max_features=auto, max_depth=90, class_weight={0: 1, 1: 25} \n",
      "[CV]  bootstrap=True, min_samples_leaf=4, n_estimators=800, min_samples_split=2, max_features=sqrt, max_depth=90, class_weight={0: 1, 1: 25}, total=  11.6s\n",
      "[CV] bootstrap=False, min_samples_leaf=2, n_estimators=200, min_samples_split=5, max_features=auto, max_depth=90, class_weight={0: 1, 1: 25} \n",
      "[CV]  bootstrap=True, min_samples_leaf=4, n_estimators=800, min_samples_split=2, max_features=sqrt, max_depth=90, class_weight={0: 1, 1: 25}, total=  11.3s\n",
      "[CV] bootstrap=True, min_samples_leaf=1, n_estimators=1000, min_samples_split=2, max_features=sqrt, max_depth=110, class_weight={0: 1, 1: 25} \n",
      "[CV]  bootstrap=False, min_samples_leaf=2, n_estimators=200, min_samples_split=5, max_features=auto, max_depth=90, class_weight={0: 1, 1: 25}, total=   4.2s\n",
      "[CV] bootstrap=True, min_samples_leaf=1, n_estimators=1000, min_samples_split=2, max_features=sqrt, max_depth=110, class_weight={0: 1, 1: 25} \n",
      "[CV]  bootstrap=True, min_samples_leaf=4, n_estimators=400, min_samples_split=10, max_features=sqrt, max_depth=90, class_weight={0: 1, 1: 25}, total=   6.0s\n",
      "[CV] bootstrap=True, min_samples_leaf=1, n_estimators=1000, min_samples_split=2, max_features=sqrt, max_depth=110, class_weight={0: 1, 1: 25} \n",
      "[CV]  bootstrap=True, min_samples_leaf=4, n_estimators=400, min_samples_split=10, max_features=sqrt, max_depth=90, class_weight={0: 1, 1: 25}, total=   5.8s\n",
      "[CV] bootstrap=True, min_samples_leaf=2, n_estimators=2000, min_samples_split=2, max_features=auto, max_depth=90, class_weight={0: 1, 1: 25} \n",
      "[CV]  bootstrap=True, min_samples_leaf=4, n_estimators=400, min_samples_split=10, max_features=sqrt, max_depth=90, class_weight={0: 1, 1: 25}, total=   5.9s\n",
      "[CV] bootstrap=True, min_samples_leaf=2, n_estimators=2000, min_samples_split=2, max_features=auto, max_depth=90, class_weight={0: 1, 1: 25} \n",
      "[CV]  bootstrap=False, min_samples_leaf=2, n_estimators=200, min_samples_split=5, max_features=auto, max_depth=90, class_weight={0: 1, 1: 25}, total=   4.1s\n",
      "[CV] bootstrap=True, min_samples_leaf=2, n_estimators=2000, min_samples_split=2, max_features=auto, max_depth=90, class_weight={0: 1, 1: 25} \n",
      "[CV]  bootstrap=False, min_samples_leaf=2, n_estimators=200, min_samples_split=5, max_features=auto, max_depth=90, class_weight={0: 1, 1: 25}, total=   4.4s\n",
      "[CV] bootstrap=False, min_samples_leaf=4, n_estimators=400, min_samples_split=10, max_features=sqrt, max_depth=80, class_weight={0: 1, 1: 25} \n",
      "[CV]  bootstrap=True, min_samples_leaf=4, n_estimators=800, min_samples_split=2, max_features=sqrt, max_depth=90, class_weight={0: 1, 1: 25}, total=  11.7s\n",
      "[CV] bootstrap=False, min_samples_leaf=4, n_estimators=400, min_samples_split=10, max_features=sqrt, max_depth=80, class_weight={0: 1, 1: 25} \n"
     ]
    },
    {
     "name": "stdout",
     "output_type": "stream",
     "text": [
      "[CV]  bootstrap=False, min_samples_leaf=4, n_estimators=400, min_samples_split=10, max_features=sqrt, max_depth=80, class_weight={0: 1, 1: 25}, total=   8.0s\n",
      "[CV] bootstrap=False, min_samples_leaf=4, n_estimators=400, min_samples_split=10, max_features=sqrt, max_depth=80, class_weight={0: 1, 1: 25} \n",
      "[CV]  bootstrap=False, min_samples_leaf=4, n_estimators=400, min_samples_split=10, max_features=sqrt, max_depth=80, class_weight={0: 1, 1: 25}, total=   7.9s\n",
      "[CV] bootstrap=False, min_samples_leaf=4, n_estimators=1200, min_samples_split=2, max_features=sqrt, max_depth=70, class_weight={0: 1, 1: 25} \n",
      "[CV]  bootstrap=True, min_samples_leaf=1, n_estimators=1000, min_samples_split=2, max_features=sqrt, max_depth=110, class_weight={0: 1, 1: 25}, total=  15.4s\n",
      "[CV] bootstrap=False, min_samples_leaf=4, n_estimators=1200, min_samples_split=2, max_features=sqrt, max_depth=70, class_weight={0: 1, 1: 25} \n",
      "[CV]  bootstrap=True, min_samples_leaf=1, n_estimators=1000, min_samples_split=2, max_features=sqrt, max_depth=110, class_weight={0: 1, 1: 25}, total=  15.5s\n",
      "[CV] bootstrap=False, min_samples_leaf=4, n_estimators=1200, min_samples_split=2, max_features=sqrt, max_depth=70, class_weight={0: 1, 1: 25} \n",
      "[CV]  bootstrap=True, min_samples_leaf=1, n_estimators=1000, min_samples_split=2, max_features=sqrt, max_depth=110, class_weight={0: 1, 1: 25}, total=  15.6s\n",
      "[CV] bootstrap=False, min_samples_leaf=2, n_estimators=600, min_samples_split=2, max_features=sqrt, max_depth=110, class_weight={0: 1, 1: 25} \n",
      "[CV]  bootstrap=False, min_samples_leaf=4, n_estimators=400, min_samples_split=10, max_features=sqrt, max_depth=80, class_weight={0: 1, 1: 25}, total=   7.9s\n",
      "[CV] bootstrap=False, min_samples_leaf=2, n_estimators=600, min_samples_split=2, max_features=sqrt, max_depth=110, class_weight={0: 1, 1: 25} \n",
      "[CV]  bootstrap=False, min_samples_leaf=2, n_estimators=600, min_samples_split=2, max_features=sqrt, max_depth=110, class_weight={0: 1, 1: 25}, total=  12.4s\n",
      "[CV] bootstrap=False, min_samples_leaf=2, n_estimators=600, min_samples_split=2, max_features=sqrt, max_depth=110, class_weight={0: 1, 1: 25} \n",
      "[CV]  bootstrap=False, min_samples_leaf=2, n_estimators=600, min_samples_split=2, max_features=sqrt, max_depth=110, class_weight={0: 1, 1: 25}, total=  12.2s\n",
      "[CV] bootstrap=False, min_samples_leaf=1, n_estimators=1800, min_samples_split=2, max_features=auto, max_depth=20, class_weight={0: 1, 1: 25} \n",
      "[CV]  bootstrap=True, min_samples_leaf=2, n_estimators=2000, min_samples_split=2, max_features=auto, max_depth=90, class_weight={0: 1, 1: 25}, total=  29.5s\n",
      "[CV] bootstrap=False, min_samples_leaf=1, n_estimators=1800, min_samples_split=2, max_features=auto, max_depth=20, class_weight={0: 1, 1: 25} \n",
      "[CV]  bootstrap=True, min_samples_leaf=2, n_estimators=2000, min_samples_split=2, max_features=auto, max_depth=90, class_weight={0: 1, 1: 25}, total=  30.0s\n",
      "[CV] bootstrap=False, min_samples_leaf=1, n_estimators=1800, min_samples_split=2, max_features=auto, max_depth=20, class_weight={0: 1, 1: 25} \n",
      "[CV]  bootstrap=True, min_samples_leaf=2, n_estimators=2000, min_samples_split=2, max_features=auto, max_depth=90, class_weight={0: 1, 1: 25}, total=  30.4s\n",
      "[CV] bootstrap=False, min_samples_leaf=2, n_estimators=2000, min_samples_split=10, max_features=auto, max_depth=50, class_weight={0: 1, 1: 25} \n"
     ]
    },
    {
     "name": "stderr",
     "output_type": "stream",
     "text": [
      "[Parallel(n_jobs=-1)]: Done 146 tasks      | elapsed:  6.7min\n"
     ]
    },
    {
     "name": "stdout",
     "output_type": "stream",
     "text": [
      "[CV]  bootstrap=False, min_samples_leaf=4, n_estimators=1200, min_samples_split=2, max_features=sqrt, max_depth=70, class_weight={0: 1, 1: 25}, total=  23.9s\n",
      "[CV] bootstrap=False, min_samples_leaf=2, n_estimators=2000, min_samples_split=10, max_features=auto, max_depth=50, class_weight={0: 1, 1: 25} \n",
      "[CV]  bootstrap=False, min_samples_leaf=4, n_estimators=1200, min_samples_split=2, max_features=sqrt, max_depth=70, class_weight={0: 1, 1: 25}, total=  23.4s\n",
      "[CV] bootstrap=False, min_samples_leaf=2, n_estimators=2000, min_samples_split=10, max_features=auto, max_depth=50, class_weight={0: 1, 1: 25} \n",
      "[CV]  bootstrap=False, min_samples_leaf=4, n_estimators=1200, min_samples_split=2, max_features=sqrt, max_depth=70, class_weight={0: 1, 1: 25}, total=  24.5s\n",
      "[CV] bootstrap=False, min_samples_leaf=4, n_estimators=1000, min_samples_split=10, max_features=auto, max_depth=50, class_weight={0: 1, 1: 25} \n",
      "[CV]  bootstrap=False, min_samples_leaf=2, n_estimators=600, min_samples_split=2, max_features=sqrt, max_depth=110, class_weight={0: 1, 1: 25}, total=  12.7s\n",
      "[CV] bootstrap=False, min_samples_leaf=4, n_estimators=1000, min_samples_split=10, max_features=auto, max_depth=50, class_weight={0: 1, 1: 25} \n",
      "[CV]  bootstrap=False, min_samples_leaf=4, n_estimators=1000, min_samples_split=10, max_features=auto, max_depth=50, class_weight={0: 1, 1: 25}, total=  19.6s\n",
      "[CV] bootstrap=False, min_samples_leaf=4, n_estimators=1000, min_samples_split=10, max_features=auto, max_depth=50, class_weight={0: 1, 1: 25} \n",
      "[CV]  bootstrap=False, min_samples_leaf=4, n_estimators=1000, min_samples_split=10, max_features=auto, max_depth=50, class_weight={0: 1, 1: 25}, total=  19.1s\n",
      "[CV] bootstrap=False, min_samples_leaf=4, n_estimators=1000, min_samples_split=5, max_features=auto, max_depth=30, class_weight={0: 1, 1: 25} \n",
      "[CV]  bootstrap=False, min_samples_leaf=1, n_estimators=1800, min_samples_split=2, max_features=auto, max_depth=20, class_weight={0: 1, 1: 25}, total=  38.1s\n",
      "[CV] bootstrap=False, min_samples_leaf=4, n_estimators=1000, min_samples_split=5, max_features=auto, max_depth=30, class_weight={0: 1, 1: 25} \n",
      "[CV]  bootstrap=False, min_samples_leaf=1, n_estimators=1800, min_samples_split=2, max_features=auto, max_depth=20, class_weight={0: 1, 1: 25}, total=  37.5s\n",
      "[CV] bootstrap=False, min_samples_leaf=4, n_estimators=1000, min_samples_split=5, max_features=auto, max_depth=30, class_weight={0: 1, 1: 25} \n",
      "[CV]  bootstrap=False, min_samples_leaf=1, n_estimators=1800, min_samples_split=2, max_features=auto, max_depth=20, class_weight={0: 1, 1: 25}, total=  38.8s\n",
      "[CV] bootstrap=False, min_samples_leaf=2, n_estimators=1400, min_samples_split=5, max_features=sqrt, max_depth=None, class_weight={0: 1, 1: 25} \n",
      "[CV]  bootstrap=False, min_samples_leaf=2, n_estimators=2000, min_samples_split=10, max_features=auto, max_depth=50, class_weight={0: 1, 1: 25}, total=  40.9s\n",
      "[CV] bootstrap=False, min_samples_leaf=2, n_estimators=1400, min_samples_split=5, max_features=sqrt, max_depth=None, class_weight={0: 1, 1: 25} \n",
      "[CV]  bootstrap=False, min_samples_leaf=2, n_estimators=2000, min_samples_split=10, max_features=auto, max_depth=50, class_weight={0: 1, 1: 25}, total=  40.0s\n",
      "[CV] bootstrap=False, min_samples_leaf=2, n_estimators=1400, min_samples_split=5, max_features=sqrt, max_depth=None, class_weight={0: 1, 1: 25} \n",
      "[CV]  bootstrap=False, min_samples_leaf=2, n_estimators=2000, min_samples_split=10, max_features=auto, max_depth=50, class_weight={0: 1, 1: 25}, total=  40.5s\n",
      "[CV] bootstrap=False, min_samples_leaf=4, n_estimators=600, min_samples_split=2, max_features=sqrt, max_depth=60, class_weight={0: 1, 1: 25} \n",
      "[CV]  bootstrap=False, min_samples_leaf=4, n_estimators=1000, min_samples_split=10, max_features=auto, max_depth=50, class_weight={0: 1, 1: 25}, total=  19.7s\n",
      "[CV] bootstrap=False, min_samples_leaf=4, n_estimators=600, min_samples_split=2, max_features=sqrt, max_depth=60, class_weight={0: 1, 1: 25} \n",
      "[CV]  bootstrap=False, min_samples_leaf=4, n_estimators=1000, min_samples_split=5, max_features=auto, max_depth=30, class_weight={0: 1, 1: 25}, total=  20.1s\n",
      "[CV] bootstrap=False, min_samples_leaf=4, n_estimators=600, min_samples_split=2, max_features=sqrt, max_depth=60, class_weight={0: 1, 1: 25} \n",
      "[CV]  bootstrap=False, min_samples_leaf=4, n_estimators=1000, min_samples_split=5, max_features=auto, max_depth=30, class_weight={0: 1, 1: 25}, total=  19.4s\n",
      "[CV] bootstrap=True, min_samples_leaf=1, n_estimators=1600, min_samples_split=5, max_features=auto, max_depth=10, class_weight={0: 1, 1: 25} \n",
      "[CV]  bootstrap=False, min_samples_leaf=4, n_estimators=1000, min_samples_split=5, max_features=auto, max_depth=30, class_weight={0: 1, 1: 25}, total=  19.8s\n",
      "[CV] bootstrap=True, min_samples_leaf=1, n_estimators=1600, min_samples_split=5, max_features=auto, max_depth=10, class_weight={0: 1, 1: 25} \n",
      "[CV]  bootstrap=False, min_samples_leaf=4, n_estimators=600, min_samples_split=2, max_features=sqrt, max_depth=60, class_weight={0: 1, 1: 25}, total=  11.9s\n",
      "[CV] bootstrap=True, min_samples_leaf=1, n_estimators=1600, min_samples_split=5, max_features=auto, max_depth=10, class_weight={0: 1, 1: 25} \n",
      "[CV]  bootstrap=False, min_samples_leaf=4, n_estimators=600, min_samples_split=2, max_features=sqrt, max_depth=60, class_weight={0: 1, 1: 25}, total=  11.6s\n",
      "[CV] bootstrap=True, min_samples_leaf=2, n_estimators=1800, min_samples_split=2, max_features=auto, max_depth=80, class_weight={0: 1, 1: 25} \n",
      "[CV]  bootstrap=False, min_samples_leaf=4, n_estimators=600, min_samples_split=2, max_features=sqrt, max_depth=60, class_weight={0: 1, 1: 25}, total=  11.8s\n",
      "[CV] bootstrap=True, min_samples_leaf=2, n_estimators=1800, min_samples_split=2, max_features=auto, max_depth=80, class_weight={0: 1, 1: 25} \n",
      "[CV]  bootstrap=False, min_samples_leaf=2, n_estimators=1400, min_samples_split=5, max_features=sqrt, max_depth=None, class_weight={0: 1, 1: 25}, total=  30.4s\n",
      "[CV] bootstrap=True, min_samples_leaf=2, n_estimators=1800, min_samples_split=2, max_features=auto, max_depth=80, class_weight={0: 1, 1: 25} \n",
      "[CV]  bootstrap=False, min_samples_leaf=2, n_estimators=1400, min_samples_split=5, max_features=sqrt, max_depth=None, class_weight={0: 1, 1: 25}, total=  29.1s\n",
      "[CV] bootstrap=True, min_samples_leaf=1, n_estimators=1400, min_samples_split=2, max_features=auto, max_depth=100, class_weight={0: 1, 1: 25} \n",
      "[CV]  bootstrap=False, min_samples_leaf=2, n_estimators=1400, min_samples_split=5, max_features=sqrt, max_depth=None, class_weight={0: 1, 1: 25}, total=  29.9s\n",
      "[CV] bootstrap=True, min_samples_leaf=1, n_estimators=1400, min_samples_split=2, max_features=auto, max_depth=100, class_weight={0: 1, 1: 25} \n",
      "[CV]  bootstrap=True, min_samples_leaf=1, n_estimators=1600, min_samples_split=5, max_features=auto, max_depth=10, class_weight={0: 1, 1: 25}, total=  23.4s\n",
      "[CV] bootstrap=True, min_samples_leaf=1, n_estimators=1400, min_samples_split=2, max_features=auto, max_depth=100, class_weight={0: 1, 1: 25} \n",
      "[CV]  bootstrap=True, min_samples_leaf=1, n_estimators=1600, min_samples_split=5, max_features=auto, max_depth=10, class_weight={0: 1, 1: 25}, total=  23.5s\n",
      "[CV] bootstrap=True, min_samples_leaf=2, n_estimators=1400, min_samples_split=10, max_features=sqrt, max_depth=80, class_weight={0: 1, 1: 25} \n",
      "[CV]  bootstrap=True, min_samples_leaf=1, n_estimators=1600, min_samples_split=5, max_features=auto, max_depth=10, class_weight={0: 1, 1: 25}, total=  23.5s\n",
      "[CV] bootstrap=True, min_samples_leaf=2, n_estimators=1400, min_samples_split=10, max_features=sqrt, max_depth=80, class_weight={0: 1, 1: 25} \n",
      "[CV]  bootstrap=True, min_samples_leaf=2, n_estimators=1800, min_samples_split=2, max_features=auto, max_depth=80, class_weight={0: 1, 1: 25}, total=  29.0s\n",
      "[CV] bootstrap=True, min_samples_leaf=2, n_estimators=1400, min_samples_split=10, max_features=sqrt, max_depth=80, class_weight={0: 1, 1: 25} \n",
      "[CV]  bootstrap=True, min_samples_leaf=2, n_estimators=1800, min_samples_split=2, max_features=auto, max_depth=80, class_weight={0: 1, 1: 25}, total=  30.0s\n",
      "[CV] bootstrap=True, min_samples_leaf=1, n_estimators=200, min_samples_split=2, max_features=sqrt, max_depth=50, class_weight={0: 1, 1: 25} \n",
      "[CV]  bootstrap=True, min_samples_leaf=1, n_estimators=200, min_samples_split=2, max_features=sqrt, max_depth=50, class_weight={0: 1, 1: 25}, total=   3.5s\n"
     ]
    },
    {
     "name": "stdout",
     "output_type": "stream",
     "text": [
      "[CV] bootstrap=True, min_samples_leaf=1, n_estimators=200, min_samples_split=2, max_features=sqrt, max_depth=50, class_weight={0: 1, 1: 25} \n",
      "[CV]  bootstrap=True, min_samples_leaf=1, n_estimators=1400, min_samples_split=2, max_features=auto, max_depth=100, class_weight={0: 1, 1: 25}, total=  24.4s\n",
      "[CV] bootstrap=True, min_samples_leaf=1, n_estimators=200, min_samples_split=2, max_features=sqrt, max_depth=50, class_weight={0: 1, 1: 25} \n",
      "[CV]  bootstrap=True, min_samples_leaf=1, n_estimators=1400, min_samples_split=2, max_features=auto, max_depth=100, class_weight={0: 1, 1: 25}, total=  23.9s\n",
      "[CV] bootstrap=True, min_samples_leaf=4, n_estimators=400, min_samples_split=2, max_features=sqrt, max_depth=10, class_weight={0: 1, 1: 25} \n",
      "[CV]  bootstrap=True, min_samples_leaf=1, n_estimators=200, min_samples_split=2, max_features=sqrt, max_depth=50, class_weight={0: 1, 1: 25}, total=   3.6s\n",
      "[CV] bootstrap=True, min_samples_leaf=4, n_estimators=400, min_samples_split=2, max_features=sqrt, max_depth=10, class_weight={0: 1, 1: 25} \n",
      "[CV]  bootstrap=True, min_samples_leaf=1, n_estimators=200, min_samples_split=2, max_features=sqrt, max_depth=50, class_weight={0: 1, 1: 25}, total=   3.8s\n",
      "[CV] bootstrap=True, min_samples_leaf=4, n_estimators=400, min_samples_split=2, max_features=sqrt, max_depth=10, class_weight={0: 1, 1: 25} \n",
      "[CV]  bootstrap=True, min_samples_leaf=2, n_estimators=1800, min_samples_split=2, max_features=auto, max_depth=80, class_weight={0: 1, 1: 25}, total=  31.0s\n",
      "[CV] bootstrap=False, min_samples_leaf=4, n_estimators=1000, min_samples_split=10, max_features=auto, max_depth=80, class_weight={0: 1, 1: 25} \n",
      "[CV]  bootstrap=True, min_samples_leaf=4, n_estimators=400, min_samples_split=2, max_features=sqrt, max_depth=10, class_weight={0: 1, 1: 25}, total=   5.9s\n",
      "[CV] bootstrap=False, min_samples_leaf=4, n_estimators=1000, min_samples_split=10, max_features=auto, max_depth=80, class_weight={0: 1, 1: 25} \n",
      "[CV]  bootstrap=True, min_samples_leaf=2, n_estimators=1400, min_samples_split=10, max_features=sqrt, max_depth=80, class_weight={0: 1, 1: 25}, total=  21.9s\n",
      "[CV] bootstrap=False, min_samples_leaf=4, n_estimators=1000, min_samples_split=10, max_features=auto, max_depth=80, class_weight={0: 1, 1: 25} \n",
      "[CV]  bootstrap=True, min_samples_leaf=4, n_estimators=400, min_samples_split=2, max_features=sqrt, max_depth=10, class_weight={0: 1, 1: 25}, total=   5.3s\n",
      "[CV] bootstrap=False, min_samples_leaf=2, n_estimators=1200, min_samples_split=10, max_features=auto, max_depth=None, class_weight={0: 1, 1: 25} \n",
      "[CV]  bootstrap=True, min_samples_leaf=2, n_estimators=1400, min_samples_split=10, max_features=sqrt, max_depth=80, class_weight={0: 1, 1: 25}, total=  23.9s\n",
      "[CV] bootstrap=False, min_samples_leaf=2, n_estimators=1200, min_samples_split=10, max_features=auto, max_depth=None, class_weight={0: 1, 1: 25} \n",
      "[CV]  bootstrap=True, min_samples_leaf=4, n_estimators=400, min_samples_split=2, max_features=sqrt, max_depth=10, class_weight={0: 1, 1: 25}, total=   5.6s\n",
      "[CV] bootstrap=False, min_samples_leaf=2, n_estimators=1200, min_samples_split=10, max_features=auto, max_depth=None, class_weight={0: 1, 1: 25} \n",
      "[CV]  bootstrap=True, min_samples_leaf=1, n_estimators=1400, min_samples_split=2, max_features=auto, max_depth=100, class_weight={0: 1, 1: 25}, total=  25.2s\n",
      "[CV] bootstrap=True, min_samples_leaf=1, n_estimators=1600, min_samples_split=10, max_features=sqrt, max_depth=20, class_weight={0: 1, 1: 25} \n",
      "[CV]  bootstrap=True, min_samples_leaf=2, n_estimators=1400, min_samples_split=10, max_features=sqrt, max_depth=80, class_weight={0: 1, 1: 25}, total=  22.5s\n",
      "[CV] bootstrap=True, min_samples_leaf=1, n_estimators=1600, min_samples_split=10, max_features=sqrt, max_depth=20, class_weight={0: 1, 1: 25} \n",
      "[CV]  bootstrap=False, min_samples_leaf=4, n_estimators=1000, min_samples_split=10, max_features=auto, max_depth=80, class_weight={0: 1, 1: 25}, total=  20.1s\n",
      "[CV] bootstrap=True, min_samples_leaf=1, n_estimators=1600, min_samples_split=10, max_features=sqrt, max_depth=20, class_weight={0: 1, 1: 25} \n",
      "[CV]  bootstrap=False, min_samples_leaf=4, n_estimators=1000, min_samples_split=10, max_features=auto, max_depth=80, class_weight={0: 1, 1: 25}, total=  19.6s\n",
      "[CV] bootstrap=True, min_samples_leaf=2, n_estimators=1600, min_samples_split=10, max_features=auto, max_depth=None, class_weight={0: 1, 1: 25} \n",
      "[CV]  bootstrap=False, min_samples_leaf=4, n_estimators=1000, min_samples_split=10, max_features=auto, max_depth=80, class_weight={0: 1, 1: 25}, total=  20.0s\n",
      "[CV] bootstrap=True, min_samples_leaf=2, n_estimators=1600, min_samples_split=10, max_features=auto, max_depth=None, class_weight={0: 1, 1: 25} \n",
      "[CV]  bootstrap=False, min_samples_leaf=2, n_estimators=1200, min_samples_split=10, max_features=auto, max_depth=None, class_weight={0: 1, 1: 25}, total=  24.4s\n",
      "[CV] bootstrap=True, min_samples_leaf=2, n_estimators=1600, min_samples_split=10, max_features=auto, max_depth=None, class_weight={0: 1, 1: 25} \n",
      "[CV]  bootstrap=False, min_samples_leaf=2, n_estimators=1200, min_samples_split=10, max_features=auto, max_depth=None, class_weight={0: 1, 1: 25}, total=  24.6s\n",
      "[CV] bootstrap=False, min_samples_leaf=4, n_estimators=1800, min_samples_split=2, max_features=auto, max_depth=10, class_weight={0: 1, 1: 25} \n",
      "[CV]  bootstrap=True, min_samples_leaf=1, n_estimators=1600, min_samples_split=10, max_features=sqrt, max_depth=20, class_weight={0: 1, 1: 25}, total=  23.9s\n",
      "[CV] bootstrap=False, min_samples_leaf=4, n_estimators=1800, min_samples_split=2, max_features=auto, max_depth=10, class_weight={0: 1, 1: 25} \n",
      "[CV]  bootstrap=False, min_samples_leaf=2, n_estimators=1200, min_samples_split=10, max_features=auto, max_depth=None, class_weight={0: 1, 1: 25}, total=  24.9s\n",
      "[CV] bootstrap=False, min_samples_leaf=4, n_estimators=1800, min_samples_split=2, max_features=auto, max_depth=10, class_weight={0: 1, 1: 25} \n",
      "[CV]  bootstrap=True, min_samples_leaf=1, n_estimators=1600, min_samples_split=10, max_features=sqrt, max_depth=20, class_weight={0: 1, 1: 25}, total=  23.9s\n",
      "[CV] bootstrap=True, min_samples_leaf=2, n_estimators=1400, min_samples_split=2, max_features=auto, max_depth=70, class_weight={0: 1, 1: 25} \n",
      "[CV]  bootstrap=True, min_samples_leaf=1, n_estimators=1600, min_samples_split=10, max_features=sqrt, max_depth=20, class_weight={0: 1, 1: 25}, total=  24.0s\n",
      "[CV] bootstrap=True, min_samples_leaf=2, n_estimators=1400, min_samples_split=2, max_features=auto, max_depth=70, class_weight={0: 1, 1: 25} \n",
      "[CV]  bootstrap=True, min_samples_leaf=2, n_estimators=1600, min_samples_split=10, max_features=auto, max_depth=None, class_weight={0: 1, 1: 25}, total=  23.7s\n",
      "[CV] bootstrap=True, min_samples_leaf=2, n_estimators=1400, min_samples_split=2, max_features=auto, max_depth=70, class_weight={0: 1, 1: 25} \n",
      "[CV]  bootstrap=True, min_samples_leaf=2, n_estimators=1600, min_samples_split=10, max_features=auto, max_depth=None, class_weight={0: 1, 1: 25}, total=  23.5s\n",
      "[CV] bootstrap=False, min_samples_leaf=1, n_estimators=1000, min_samples_split=10, max_features=sqrt, max_depth=80, class_weight={0: 1, 1: 25} \n",
      "[CV]  bootstrap=True, min_samples_leaf=2, n_estimators=1600, min_samples_split=10, max_features=auto, max_depth=None, class_weight={0: 1, 1: 25}, total=  23.8s\n",
      "[CV] bootstrap=False, min_samples_leaf=1, n_estimators=1000, min_samples_split=10, max_features=sqrt, max_depth=80, class_weight={0: 1, 1: 25} \n",
      "[CV]  bootstrap=True, min_samples_leaf=2, n_estimators=1400, min_samples_split=2, max_features=auto, max_depth=70, class_weight={0: 1, 1: 25}, total=  20.9s\n",
      "[CV] bootstrap=False, min_samples_leaf=1, n_estimators=1000, min_samples_split=10, max_features=sqrt, max_depth=80, class_weight={0: 1, 1: 25} \n",
      "[CV]  bootstrap=False, min_samples_leaf=4, n_estimators=1800, min_samples_split=2, max_features=auto, max_depth=10, class_weight={0: 1, 1: 25}, total=  31.5s\n",
      "[CV] bootstrap=False, min_samples_leaf=2, n_estimators=2000, min_samples_split=10, max_features=auto, max_depth=60, class_weight={0: 1, 1: 25} \n",
      "[CV]  bootstrap=False, min_samples_leaf=4, n_estimators=1800, min_samples_split=2, max_features=auto, max_depth=10, class_weight={0: 1, 1: 25}, total=  31.2s\n",
      "[CV] bootstrap=False, min_samples_leaf=2, n_estimators=2000, min_samples_split=10, max_features=auto, max_depth=60, class_weight={0: 1, 1: 25} \n"
     ]
    },
    {
     "name": "stdout",
     "output_type": "stream",
     "text": [
      "[CV]  bootstrap=False, min_samples_leaf=4, n_estimators=1800, min_samples_split=2, max_features=auto, max_depth=10, class_weight={0: 1, 1: 25}, total=  31.2s\n",
      "[CV] bootstrap=False, min_samples_leaf=2, n_estimators=2000, min_samples_split=10, max_features=auto, max_depth=60, class_weight={0: 1, 1: 25} \n",
      "[CV]  bootstrap=True, min_samples_leaf=2, n_estimators=1400, min_samples_split=2, max_features=auto, max_depth=70, class_weight={0: 1, 1: 25}, total=  20.7s\n",
      "[CV] bootstrap=False, min_samples_leaf=4, n_estimators=1400, min_samples_split=2, max_features=sqrt, max_depth=80, class_weight={0: 1, 1: 25} \n",
      "[CV]  bootstrap=True, min_samples_leaf=2, n_estimators=1400, min_samples_split=2, max_features=auto, max_depth=70, class_weight={0: 1, 1: 25}, total=  21.0s\n",
      "[CV] bootstrap=False, min_samples_leaf=4, n_estimators=1400, min_samples_split=2, max_features=sqrt, max_depth=80, class_weight={0: 1, 1: 25} \n",
      "[CV]  bootstrap=False, min_samples_leaf=1, n_estimators=1000, min_samples_split=10, max_features=sqrt, max_depth=80, class_weight={0: 1, 1: 25}, total=  20.9s\n",
      "[CV] bootstrap=False, min_samples_leaf=4, n_estimators=1400, min_samples_split=2, max_features=sqrt, max_depth=80, class_weight={0: 1, 1: 25} \n",
      "[CV]  bootstrap=False, min_samples_leaf=1, n_estimators=1000, min_samples_split=10, max_features=sqrt, max_depth=80, class_weight={0: 1, 1: 25}, total=  20.6s\n",
      "[CV] bootstrap=False, min_samples_leaf=4, n_estimators=800, min_samples_split=2, max_features=sqrt, max_depth=20, class_weight={0: 1, 1: 25} \n",
      "[CV]  bootstrap=False, min_samples_leaf=1, n_estimators=1000, min_samples_split=10, max_features=sqrt, max_depth=80, class_weight={0: 1, 1: 25}, total=  21.3s\n",
      "[CV] bootstrap=False, min_samples_leaf=4, n_estimators=800, min_samples_split=2, max_features=sqrt, max_depth=20, class_weight={0: 1, 1: 25} \n",
      "[CV]  bootstrap=False, min_samples_leaf=4, n_estimators=800, min_samples_split=2, max_features=sqrt, max_depth=20, class_weight={0: 1, 1: 25}, total=  15.7s\n",
      "[CV] bootstrap=False, min_samples_leaf=4, n_estimators=800, min_samples_split=2, max_features=sqrt, max_depth=20, class_weight={0: 1, 1: 25} \n",
      "[CV]  bootstrap=False, min_samples_leaf=4, n_estimators=800, min_samples_split=2, max_features=sqrt, max_depth=20, class_weight={0: 1, 1: 25}, total=  15.5s\n",
      "[CV] bootstrap=True, min_samples_leaf=2, n_estimators=1800, min_samples_split=5, max_features=sqrt, max_depth=60, class_weight={0: 1, 1: 25} \n",
      "[CV]  bootstrap=False, min_samples_leaf=4, n_estimators=1400, min_samples_split=2, max_features=sqrt, max_depth=80, class_weight={0: 1, 1: 25}, total=  27.7s\n",
      "[CV] bootstrap=True, min_samples_leaf=2, n_estimators=1800, min_samples_split=5, max_features=sqrt, max_depth=60, class_weight={0: 1, 1: 25} \n",
      "[CV]  bootstrap=False, min_samples_leaf=4, n_estimators=1400, min_samples_split=2, max_features=sqrt, max_depth=80, class_weight={0: 1, 1: 25}, total=  27.2s\n",
      "[CV] bootstrap=True, min_samples_leaf=2, n_estimators=1800, min_samples_split=5, max_features=sqrt, max_depth=60, class_weight={0: 1, 1: 25} \n",
      "[CV]  bootstrap=False, min_samples_leaf=4, n_estimators=1400, min_samples_split=2, max_features=sqrt, max_depth=80, class_weight={0: 1, 1: 25}, total=  27.8s\n",
      "[CV] bootstrap=False, min_samples_leaf=1, n_estimators=400, min_samples_split=5, max_features=auto, max_depth=90, class_weight={0: 1, 1: 25} \n",
      "[CV]  bootstrap=False, min_samples_leaf=2, n_estimators=2000, min_samples_split=10, max_features=auto, max_depth=60, class_weight={0: 1, 1: 25}, total=  40.8s\n",
      "[CV] bootstrap=False, min_samples_leaf=1, n_estimators=400, min_samples_split=5, max_features=auto, max_depth=90, class_weight={0: 1, 1: 25} \n",
      "[CV]  bootstrap=False, min_samples_leaf=2, n_estimators=2000, min_samples_split=10, max_features=auto, max_depth=60, class_weight={0: 1, 1: 25}, total=  40.3s\n",
      "[CV] bootstrap=False, min_samples_leaf=1, n_estimators=400, min_samples_split=5, max_features=auto, max_depth=90, class_weight={0: 1, 1: 25} \n",
      "[CV]  bootstrap=False, min_samples_leaf=2, n_estimators=2000, min_samples_split=10, max_features=auto, max_depth=60, class_weight={0: 1, 1: 25}, total=  40.9s\n",
      "[CV] bootstrap=True, min_samples_leaf=1, n_estimators=1600, min_samples_split=5, max_features=auto, max_depth=90, class_weight={0: 1, 1: 25} \n",
      "[CV]  bootstrap=False, min_samples_leaf=1, n_estimators=400, min_samples_split=5, max_features=auto, max_depth=90, class_weight={0: 1, 1: 25}, total=   8.5s\n",
      "[CV] bootstrap=True, min_samples_leaf=1, n_estimators=1600, min_samples_split=5, max_features=auto, max_depth=90, class_weight={0: 1, 1: 25} \n",
      "[CV]  bootstrap=False, min_samples_leaf=4, n_estimators=800, min_samples_split=2, max_features=sqrt, max_depth=20, class_weight={0: 1, 1: 25}, total=  16.0s\n",
      "[CV] bootstrap=True, min_samples_leaf=1, n_estimators=1600, min_samples_split=5, max_features=auto, max_depth=90, class_weight={0: 1, 1: 25} \n",
      "[CV]  bootstrap=False, min_samples_leaf=1, n_estimators=400, min_samples_split=5, max_features=auto, max_depth=90, class_weight={0: 1, 1: 25}, total=   8.4s\n",
      "[CV] bootstrap=False, min_samples_leaf=2, n_estimators=400, min_samples_split=10, max_features=sqrt, max_depth=90, class_weight={0: 1, 1: 25} \n",
      "[CV]  bootstrap=False, min_samples_leaf=1, n_estimators=400, min_samples_split=5, max_features=auto, max_depth=90, class_weight={0: 1, 1: 25}, total=   8.6s\n",
      "[CV] bootstrap=False, min_samples_leaf=2, n_estimators=400, min_samples_split=10, max_features=sqrt, max_depth=90, class_weight={0: 1, 1: 25} \n",
      "[CV]  bootstrap=False, min_samples_leaf=2, n_estimators=400, min_samples_split=10, max_features=sqrt, max_depth=90, class_weight={0: 1, 1: 25}, total=   8.3s\n",
      "[CV] bootstrap=False, min_samples_leaf=2, n_estimators=400, min_samples_split=10, max_features=sqrt, max_depth=90, class_weight={0: 1, 1: 25} \n",
      "[CV]  bootstrap=False, min_samples_leaf=2, n_estimators=400, min_samples_split=10, max_features=sqrt, max_depth=90, class_weight={0: 1, 1: 25}, total=   8.0s\n",
      "[CV] bootstrap=True, min_samples_leaf=1, n_estimators=1600, min_samples_split=10, max_features=sqrt, max_depth=None, class_weight={0: 1, 1: 25} \n",
      "[CV]  bootstrap=True, min_samples_leaf=2, n_estimators=1800, min_samples_split=5, max_features=sqrt, max_depth=60, class_weight={0: 1, 1: 25}, total=  26.4s\n",
      "[CV] bootstrap=True, min_samples_leaf=1, n_estimators=1600, min_samples_split=10, max_features=sqrt, max_depth=None, class_weight={0: 1, 1: 25} \n",
      "[CV]  bootstrap=True, min_samples_leaf=2, n_estimators=1800, min_samples_split=5, max_features=sqrt, max_depth=60, class_weight={0: 1, 1: 25}, total=  26.9s\n",
      "[CV] bootstrap=True, min_samples_leaf=1, n_estimators=1600, min_samples_split=10, max_features=sqrt, max_depth=None, class_weight={0: 1, 1: 25} \n",
      "[CV]  bootstrap=True, min_samples_leaf=2, n_estimators=1800, min_samples_split=5, max_features=sqrt, max_depth=60, class_weight={0: 1, 1: 25}, total=  27.0s\n",
      "[CV] bootstrap=True, min_samples_leaf=1, n_estimators=2000, min_samples_split=5, max_features=sqrt, max_depth=100, class_weight={0: 1, 1: 25} \n",
      "[CV]  bootstrap=False, min_samples_leaf=2, n_estimators=400, min_samples_split=10, max_features=sqrt, max_depth=90, class_weight={0: 1, 1: 25}, total=   8.4s\n",
      "[CV] bootstrap=True, min_samples_leaf=1, n_estimators=2000, min_samples_split=5, max_features=sqrt, max_depth=100, class_weight={0: 1, 1: 25} \n",
      "[CV]  bootstrap=True, min_samples_leaf=1, n_estimators=1600, min_samples_split=5, max_features=auto, max_depth=90, class_weight={0: 1, 1: 25}, total=  24.3s\n",
      "[CV] bootstrap=True, min_samples_leaf=1, n_estimators=2000, min_samples_split=5, max_features=sqrt, max_depth=100, class_weight={0: 1, 1: 25} \n",
      "[CV]  bootstrap=True, min_samples_leaf=1, n_estimators=1600, min_samples_split=5, max_features=auto, max_depth=90, class_weight={0: 1, 1: 25}, total=  24.1s\n",
      "[CV] bootstrap=True, min_samples_leaf=2, n_estimators=1000, min_samples_split=5, max_features=sqrt, max_depth=10, class_weight={0: 1, 1: 25} \n",
      "[CV]  bootstrap=True, min_samples_leaf=1, n_estimators=1600, min_samples_split=5, max_features=auto, max_depth=90, class_weight={0: 1, 1: 25}, total=  24.7s\n",
      "[CV] bootstrap=True, min_samples_leaf=2, n_estimators=1000, min_samples_split=5, max_features=sqrt, max_depth=10, class_weight={0: 1, 1: 25} \n",
      "[CV]  bootstrap=True, min_samples_leaf=1, n_estimators=1600, min_samples_split=10, max_features=sqrt, max_depth=None, class_weight={0: 1, 1: 25}, total=  24.1s\n"
     ]
    },
    {
     "name": "stdout",
     "output_type": "stream",
     "text": [
      "[CV] bootstrap=True, min_samples_leaf=2, n_estimators=1000, min_samples_split=5, max_features=sqrt, max_depth=10, class_weight={0: 1, 1: 25} \n",
      "[CV]  bootstrap=True, min_samples_leaf=2, n_estimators=1000, min_samples_split=5, max_features=sqrt, max_depth=10, class_weight={0: 1, 1: 25}, total=  13.3s\n",
      "[CV] bootstrap=True, min_samples_leaf=4, n_estimators=200, min_samples_split=5, max_features=auto, max_depth=80, class_weight={0: 1, 1: 25} \n",
      "[CV]  bootstrap=True, min_samples_leaf=2, n_estimators=1000, min_samples_split=5, max_features=sqrt, max_depth=10, class_weight={0: 1, 1: 25}, total=  13.1s\n",
      "[CV] bootstrap=True, min_samples_leaf=4, n_estimators=200, min_samples_split=5, max_features=auto, max_depth=80, class_weight={0: 1, 1: 25} \n",
      "[CV]  bootstrap=True, min_samples_leaf=1, n_estimators=1600, min_samples_split=10, max_features=sqrt, max_depth=None, class_weight={0: 1, 1: 25}, total=  24.1s\n",
      "[CV] bootstrap=True, min_samples_leaf=4, n_estimators=200, min_samples_split=5, max_features=auto, max_depth=80, class_weight={0: 1, 1: 25} \n",
      "[CV]  bootstrap=True, min_samples_leaf=1, n_estimators=1600, min_samples_split=10, max_features=sqrt, max_depth=None, class_weight={0: 1, 1: 25}, total=  23.8s\n",
      "[CV] bootstrap=False, min_samples_leaf=4, n_estimators=2000, min_samples_split=2, max_features=auto, max_depth=60, class_weight={0: 1, 1: 25} \n",
      "[CV]  bootstrap=True, min_samples_leaf=4, n_estimators=200, min_samples_split=5, max_features=auto, max_depth=80, class_weight={0: 1, 1: 25}, total=   2.9s\n",
      "[CV] bootstrap=False, min_samples_leaf=4, n_estimators=2000, min_samples_split=2, max_features=auto, max_depth=60, class_weight={0: 1, 1: 25} \n",
      "[CV]  bootstrap=True, min_samples_leaf=4, n_estimators=200, min_samples_split=5, max_features=auto, max_depth=80, class_weight={0: 1, 1: 25}, total=   2.9s\n",
      "[CV] bootstrap=False, min_samples_leaf=4, n_estimators=2000, min_samples_split=2, max_features=auto, max_depth=60, class_weight={0: 1, 1: 25} \n",
      "[CV]  bootstrap=True, min_samples_leaf=4, n_estimators=200, min_samples_split=5, max_features=auto, max_depth=80, class_weight={0: 1, 1: 25}, total=   3.0s\n",
      "[CV] bootstrap=True, min_samples_leaf=2, n_estimators=600, min_samples_split=10, max_features=auto, max_depth=100, class_weight={0: 1, 1: 25} \n",
      "[CV]  bootstrap=True, min_samples_leaf=1, n_estimators=2000, min_samples_split=5, max_features=sqrt, max_depth=100, class_weight={0: 1, 1: 25}, total=  30.5s\n",
      "[CV] bootstrap=True, min_samples_leaf=2, n_estimators=600, min_samples_split=10, max_features=auto, max_depth=100, class_weight={0: 1, 1: 25} \n",
      "[CV]  bootstrap=True, min_samples_leaf=2, n_estimators=1000, min_samples_split=5, max_features=sqrt, max_depth=10, class_weight={0: 1, 1: 25}, total=  13.7s\n",
      "[CV] bootstrap=True, min_samples_leaf=2, n_estimators=600, min_samples_split=10, max_features=auto, max_depth=100, class_weight={0: 1, 1: 25} \n",
      "[CV]  bootstrap=True, min_samples_leaf=1, n_estimators=2000, min_samples_split=5, max_features=sqrt, max_depth=100, class_weight={0: 1, 1: 25}, total=  30.1s\n",
      "[CV] bootstrap=True, min_samples_leaf=4, n_estimators=1000, min_samples_split=5, max_features=auto, max_depth=100, class_weight={0: 1, 1: 25} \n",
      "[CV]  bootstrap=True, min_samples_leaf=2, n_estimators=600, min_samples_split=10, max_features=auto, max_depth=100, class_weight={0: 1, 1: 25}, total=   8.9s\n",
      "[CV] bootstrap=True, min_samples_leaf=4, n_estimators=1000, min_samples_split=5, max_features=auto, max_depth=100, class_weight={0: 1, 1: 25} \n",
      "[CV]  bootstrap=True, min_samples_leaf=1, n_estimators=2000, min_samples_split=5, max_features=sqrt, max_depth=100, class_weight={0: 1, 1: 25}, total=  30.7s\n",
      "[CV] bootstrap=True, min_samples_leaf=4, n_estimators=1000, min_samples_split=5, max_features=auto, max_depth=100, class_weight={0: 1, 1: 25} \n",
      "[CV]  bootstrap=True, min_samples_leaf=2, n_estimators=600, min_samples_split=10, max_features=auto, max_depth=100, class_weight={0: 1, 1: 25}, total=   8.9s\n",
      "[CV] bootstrap=False, min_samples_leaf=2, n_estimators=800, min_samples_split=10, max_features=auto, max_depth=None, class_weight={0: 1, 1: 25} \n",
      "[CV]  bootstrap=True, min_samples_leaf=2, n_estimators=600, min_samples_split=10, max_features=auto, max_depth=100, class_weight={0: 1, 1: 25}, total=   8.8s\n",
      "[CV] bootstrap=False, min_samples_leaf=2, n_estimators=800, min_samples_split=10, max_features=auto, max_depth=None, class_weight={0: 1, 1: 25} \n",
      "[CV]  bootstrap=True, min_samples_leaf=4, n_estimators=1000, min_samples_split=5, max_features=auto, max_depth=100, class_weight={0: 1, 1: 25}, total=  14.3s\n",
      "[CV] bootstrap=False, min_samples_leaf=2, n_estimators=800, min_samples_split=10, max_features=auto, max_depth=None, class_weight={0: 1, 1: 25} \n",
      "[CV]  bootstrap=True, min_samples_leaf=4, n_estimators=1000, min_samples_split=5, max_features=auto, max_depth=100, class_weight={0: 1, 1: 25}, total=  14.2s\n",
      "[CV] bootstrap=False, min_samples_leaf=4, n_estimators=800, min_samples_split=5, max_features=sqrt, max_depth=70, class_weight={0: 1, 1: 25} \n",
      "[CV]  bootstrap=True, min_samples_leaf=4, n_estimators=1000, min_samples_split=5, max_features=auto, max_depth=100, class_weight={0: 1, 1: 25}, total=  14.4s\n",
      "[CV] bootstrap=False, min_samples_leaf=4, n_estimators=800, min_samples_split=5, max_features=sqrt, max_depth=70, class_weight={0: 1, 1: 25} \n",
      "[CV]  bootstrap=False, min_samples_leaf=2, n_estimators=800, min_samples_split=10, max_features=auto, max_depth=None, class_weight={0: 1, 1: 25}, total=  16.4s\n",
      "[CV] bootstrap=False, min_samples_leaf=4, n_estimators=800, min_samples_split=5, max_features=sqrt, max_depth=70, class_weight={0: 1, 1: 25} \n",
      "[CV]  bootstrap=False, min_samples_leaf=2, n_estimators=800, min_samples_split=10, max_features=auto, max_depth=None, class_weight={0: 1, 1: 25}, total=  16.1s\n",
      "[CV] bootstrap=False, min_samples_leaf=1, n_estimators=600, min_samples_split=10, max_features=sqrt, max_depth=40, class_weight={0: 1, 1: 25} \n",
      "[CV]  bootstrap=False, min_samples_leaf=4, n_estimators=2000, min_samples_split=2, max_features=auto, max_depth=60, class_weight={0: 1, 1: 25}, total=  40.1s\n",
      "[CV] bootstrap=False, min_samples_leaf=1, n_estimators=600, min_samples_split=10, max_features=sqrt, max_depth=40, class_weight={0: 1, 1: 25} \n",
      "[CV]  bootstrap=False, min_samples_leaf=4, n_estimators=2000, min_samples_split=2, max_features=auto, max_depth=60, class_weight={0: 1, 1: 25}, total=  39.4s\n",
      "[CV] bootstrap=False, min_samples_leaf=1, n_estimators=600, min_samples_split=10, max_features=sqrt, max_depth=40, class_weight={0: 1, 1: 25} \n",
      "[CV]  bootstrap=False, min_samples_leaf=4, n_estimators=2000, min_samples_split=2, max_features=auto, max_depth=60, class_weight={0: 1, 1: 25}, total=  39.8s\n",
      "[CV] bootstrap=True, min_samples_leaf=1, n_estimators=400, min_samples_split=5, max_features=sqrt, max_depth=100, class_weight={0: 1, 1: 25} \n",
      "[CV]  bootstrap=False, min_samples_leaf=2, n_estimators=800, min_samples_split=10, max_features=auto, max_depth=None, class_weight={0: 1, 1: 25}, total=  16.6s\n",
      "[CV] bootstrap=True, min_samples_leaf=1, n_estimators=400, min_samples_split=5, max_features=sqrt, max_depth=100, class_weight={0: 1, 1: 25} \n",
      "[CV]  bootstrap=False, min_samples_leaf=4, n_estimators=800, min_samples_split=5, max_features=sqrt, max_depth=70, class_weight={0: 1, 1: 25}, total=  16.2s\n",
      "[CV] bootstrap=True, min_samples_leaf=1, n_estimators=400, min_samples_split=5, max_features=sqrt, max_depth=100, class_weight={0: 1, 1: 25} \n",
      "[CV]  bootstrap=False, min_samples_leaf=4, n_estimators=800, min_samples_split=5, max_features=sqrt, max_depth=70, class_weight={0: 1, 1: 25}, total=  15.6s\n",
      "[CV] bootstrap=True, min_samples_leaf=4, n_estimators=1600, min_samples_split=2, max_features=sqrt, max_depth=80, class_weight={0: 1, 1: 25} \n",
      "[CV]  bootstrap=True, min_samples_leaf=1, n_estimators=400, min_samples_split=5, max_features=sqrt, max_depth=100, class_weight={0: 1, 1: 25}, total=   6.2s\n",
      "[CV] bootstrap=True, min_samples_leaf=4, n_estimators=1600, min_samples_split=2, max_features=sqrt, max_depth=80, class_weight={0: 1, 1: 25} \n",
      "[CV]  bootstrap=False, min_samples_leaf=1, n_estimators=600, min_samples_split=10, max_features=sqrt, max_depth=40, class_weight={0: 1, 1: 25}, total=  12.5s\n",
      "[CV] bootstrap=True, min_samples_leaf=4, n_estimators=1600, min_samples_split=2, max_features=sqrt, max_depth=80, class_weight={0: 1, 1: 25} \n"
     ]
    },
    {
     "name": "stdout",
     "output_type": "stream",
     "text": [
      "[CV]  bootstrap=True, min_samples_leaf=1, n_estimators=400, min_samples_split=5, max_features=sqrt, max_depth=100, class_weight={0: 1, 1: 25}, total=   6.1s\n",
      "[CV] bootstrap=True, min_samples_leaf=4, n_estimators=800, min_samples_split=10, max_features=sqrt, max_depth=100, class_weight={0: 1, 1: 25} \n",
      "[CV]  bootstrap=True, min_samples_leaf=1, n_estimators=400, min_samples_split=5, max_features=sqrt, max_depth=100, class_weight={0: 1, 1: 25}, total=   6.1s\n",
      "[CV] bootstrap=True, min_samples_leaf=4, n_estimators=800, min_samples_split=10, max_features=sqrt, max_depth=100, class_weight={0: 1, 1: 25} \n",
      "[CV]  bootstrap=False, min_samples_leaf=4, n_estimators=800, min_samples_split=5, max_features=sqrt, max_depth=70, class_weight={0: 1, 1: 25}, total=  16.0s\n",
      "[CV] bootstrap=True, min_samples_leaf=4, n_estimators=800, min_samples_split=10, max_features=sqrt, max_depth=100, class_weight={0: 1, 1: 25} \n",
      "[CV]  bootstrap=False, min_samples_leaf=1, n_estimators=600, min_samples_split=10, max_features=sqrt, max_depth=40, class_weight={0: 1, 1: 25}, total=  12.5s\n",
      "[CV] bootstrap=True, min_samples_leaf=2, n_estimators=1000, min_samples_split=10, max_features=sqrt, max_depth=10, class_weight={0: 1, 1: 25} \n",
      "[CV]  bootstrap=False, min_samples_leaf=1, n_estimators=600, min_samples_split=10, max_features=sqrt, max_depth=40, class_weight={0: 1, 1: 25}, total=  12.6s\n",
      "[CV] bootstrap=True, min_samples_leaf=2, n_estimators=1000, min_samples_split=10, max_features=sqrt, max_depth=10, class_weight={0: 1, 1: 25} \n",
      "[CV]  bootstrap=True, min_samples_leaf=4, n_estimators=800, min_samples_split=10, max_features=sqrt, max_depth=100, class_weight={0: 1, 1: 25}, total=  11.6s\n",
      "[CV]  bootstrap=True, min_samples_leaf=4, n_estimators=800, min_samples_split=10, max_features=sqrt, max_depth=100, class_weight={0: 1, 1: 25}, total=  11.5s\n",
      "[CV] bootstrap=True, min_samples_leaf=2, n_estimators=1000, min_samples_split=10, max_features=sqrt, max_depth=10, class_weight={0: 1, 1: 25} \n",
      "[CV] bootstrap=True, min_samples_leaf=1, n_estimators=600, min_samples_split=10, max_features=sqrt, max_depth=110, class_weight={0: 1, 1: 25} \n",
      "[CV]  bootstrap=True, min_samples_leaf=4, n_estimators=800, min_samples_split=10, max_features=sqrt, max_depth=100, class_weight={0: 1, 1: 25}, total=  11.5s\n",
      "[CV] bootstrap=True, min_samples_leaf=1, n_estimators=600, min_samples_split=10, max_features=sqrt, max_depth=110, class_weight={0: 1, 1: 25} \n",
      "[CV]  bootstrap=True, min_samples_leaf=2, n_estimators=1000, min_samples_split=10, max_features=sqrt, max_depth=10, class_weight={0: 1, 1: 25}, total=  13.4s\n",
      "[CV] bootstrap=True, min_samples_leaf=1, n_estimators=600, min_samples_split=10, max_features=sqrt, max_depth=110, class_weight={0: 1, 1: 25} \n",
      "[CV]  bootstrap=True, min_samples_leaf=2, n_estimators=1000, min_samples_split=10, max_features=sqrt, max_depth=10, class_weight={0: 1, 1: 25}, total=  13.3s\n",
      "[CV] bootstrap=False, min_samples_leaf=4, n_estimators=2000, min_samples_split=5, max_features=sqrt, max_depth=None, class_weight={0: 1, 1: 25} \n",
      "[CV]  bootstrap=True, min_samples_leaf=4, n_estimators=1600, min_samples_split=2, max_features=sqrt, max_depth=80, class_weight={0: 1, 1: 25}, total=  23.2s\n",
      "[CV] bootstrap=False, min_samples_leaf=4, n_estimators=2000, min_samples_split=5, max_features=sqrt, max_depth=None, class_weight={0: 1, 1: 25} \n",
      "[CV]  bootstrap=True, min_samples_leaf=1, n_estimators=600, min_samples_split=10, max_features=sqrt, max_depth=110, class_weight={0: 1, 1: 25}, total=   8.9s\n",
      "[CV] bootstrap=False, min_samples_leaf=4, n_estimators=2000, min_samples_split=5, max_features=sqrt, max_depth=None, class_weight={0: 1, 1: 25} \n",
      "[CV]  bootstrap=True, min_samples_leaf=1, n_estimators=600, min_samples_split=10, max_features=sqrt, max_depth=110, class_weight={0: 1, 1: 25}, total=   8.9s\n",
      "[CV] bootstrap=True, min_samples_leaf=1, n_estimators=800, min_samples_split=5, max_features=sqrt, max_depth=40, class_weight={0: 1, 1: 25} \n",
      "[CV]  bootstrap=True, min_samples_leaf=4, n_estimators=1600, min_samples_split=2, max_features=sqrt, max_depth=80, class_weight={0: 1, 1: 25}, total=  23.2s\n",
      "[CV] bootstrap=True, min_samples_leaf=1, n_estimators=800, min_samples_split=5, max_features=sqrt, max_depth=40, class_weight={0: 1, 1: 25} \n",
      "[CV]  bootstrap=True, min_samples_leaf=4, n_estimators=1600, min_samples_split=2, max_features=sqrt, max_depth=80, class_weight={0: 1, 1: 25}, total=  23.4s\n",
      "[CV] bootstrap=True, min_samples_leaf=1, n_estimators=800, min_samples_split=5, max_features=sqrt, max_depth=40, class_weight={0: 1, 1: 25} \n",
      "[CV]  bootstrap=True, min_samples_leaf=2, n_estimators=1000, min_samples_split=10, max_features=sqrt, max_depth=10, class_weight={0: 1, 1: 25}, total=  13.8s\n",
      "[CV] bootstrap=True, min_samples_leaf=4, n_estimators=600, min_samples_split=2, max_features=auto, max_depth=40, class_weight={0: 1, 1: 25} \n",
      "[CV]  bootstrap=True, min_samples_leaf=1, n_estimators=600, min_samples_split=10, max_features=sqrt, max_depth=110, class_weight={0: 1, 1: 25}, total=   9.3s\n",
      "[CV] bootstrap=True, min_samples_leaf=4, n_estimators=600, min_samples_split=2, max_features=auto, max_depth=40, class_weight={0: 1, 1: 25} \n",
      "[CV]  bootstrap=True, min_samples_leaf=1, n_estimators=800, min_samples_split=5, max_features=sqrt, max_depth=40, class_weight={0: 1, 1: 25}, total=  12.0s\n",
      "[CV] bootstrap=True, min_samples_leaf=4, n_estimators=600, min_samples_split=2, max_features=auto, max_depth=40, class_weight={0: 1, 1: 25} \n",
      "[CV]  bootstrap=True, min_samples_leaf=1, n_estimators=800, min_samples_split=5, max_features=sqrt, max_depth=40, class_weight={0: 1, 1: 25}, total=  12.2s\n",
      "[CV] bootstrap=False, min_samples_leaf=4, n_estimators=600, min_samples_split=2, max_features=sqrt, max_depth=30, class_weight={0: 1, 1: 25} \n",
      "[CV]  bootstrap=True, min_samples_leaf=4, n_estimators=600, min_samples_split=2, max_features=auto, max_depth=40, class_weight={0: 1, 1: 25}, total=   8.7s\n",
      "[CV] bootstrap=False, min_samples_leaf=4, n_estimators=600, min_samples_split=2, max_features=sqrt, max_depth=30, class_weight={0: 1, 1: 25} \n",
      "[CV]  bootstrap=True, min_samples_leaf=4, n_estimators=600, min_samples_split=2, max_features=auto, max_depth=40, class_weight={0: 1, 1: 25}, total=   8.5s\n",
      "[CV] bootstrap=False, min_samples_leaf=4, n_estimators=600, min_samples_split=2, max_features=sqrt, max_depth=30, class_weight={0: 1, 1: 25} \n",
      "[CV]  bootstrap=True, min_samples_leaf=1, n_estimators=800, min_samples_split=5, max_features=sqrt, max_depth=40, class_weight={0: 1, 1: 25}, total=  12.4s\n",
      "[CV] bootstrap=False, min_samples_leaf=2, n_estimators=400, min_samples_split=10, max_features=auto, max_depth=40, class_weight={0: 1, 1: 25} \n",
      "[CV]  bootstrap=True, min_samples_leaf=4, n_estimators=600, min_samples_split=2, max_features=auto, max_depth=40, class_weight={0: 1, 1: 25}, total=   8.7s\n",
      "[CV] bootstrap=False, min_samples_leaf=2, n_estimators=400, min_samples_split=10, max_features=auto, max_depth=40, class_weight={0: 1, 1: 25} \n",
      "[CV]  bootstrap=False, min_samples_leaf=2, n_estimators=400, min_samples_split=10, max_features=auto, max_depth=40, class_weight={0: 1, 1: 25}, total=   8.2s\n",
      "[CV] bootstrap=False, min_samples_leaf=2, n_estimators=400, min_samples_split=10, max_features=auto, max_depth=40, class_weight={0: 1, 1: 25} \n",
      "[CV]  bootstrap=False, min_samples_leaf=4, n_estimators=600, min_samples_split=2, max_features=sqrt, max_depth=30, class_weight={0: 1, 1: 25}, total=  11.9s\n",
      "[CV] bootstrap=False, min_samples_leaf=1, n_estimators=1000, min_samples_split=2, max_features=auto, max_depth=10, class_weight={0: 1, 1: 25} \n",
      "[CV]  bootstrap=False, min_samples_leaf=4, n_estimators=600, min_samples_split=2, max_features=sqrt, max_depth=30, class_weight={0: 1, 1: 25}, total=  12.2s\n",
      "[CV] bootstrap=False, min_samples_leaf=1, n_estimators=1000, min_samples_split=2, max_features=auto, max_depth=10, class_weight={0: 1, 1: 25} \n",
      "[CV]  bootstrap=False, min_samples_leaf=4, n_estimators=600, min_samples_split=2, max_features=sqrt, max_depth=30, class_weight={0: 1, 1: 25}, total=  12.0s\n",
      "[CV] bootstrap=False, min_samples_leaf=1, n_estimators=1000, min_samples_split=2, max_features=auto, max_depth=10, class_weight={0: 1, 1: 25} \n",
      "[CV]  bootstrap=False, min_samples_leaf=2, n_estimators=400, min_samples_split=10, max_features=auto, max_depth=40, class_weight={0: 1, 1: 25}, total=   8.2s\n"
     ]
    },
    {
     "name": "stdout",
     "output_type": "stream",
     "text": [
      "[CV] bootstrap=False, min_samples_leaf=4, n_estimators=200, min_samples_split=5, max_features=auto, max_depth=100, class_weight={0: 1, 1: 25} \n",
      "[CV]  bootstrap=False, min_samples_leaf=2, n_estimators=400, min_samples_split=10, max_features=auto, max_depth=40, class_weight={0: 1, 1: 25}, total=   8.3s\n",
      "[CV] bootstrap=False, min_samples_leaf=4, n_estimators=200, min_samples_split=5, max_features=auto, max_depth=100, class_weight={0: 1, 1: 25} \n",
      "[CV]  bootstrap=False, min_samples_leaf=4, n_estimators=200, min_samples_split=5, max_features=auto, max_depth=100, class_weight={0: 1, 1: 25}, total=   4.0s\n",
      "[CV] bootstrap=False, min_samples_leaf=4, n_estimators=200, min_samples_split=5, max_features=auto, max_depth=100, class_weight={0: 1, 1: 25} \n",
      "[CV]  bootstrap=False, min_samples_leaf=4, n_estimators=200, min_samples_split=5, max_features=auto, max_depth=100, class_weight={0: 1, 1: 25}, total=   3.9s\n",
      "[CV] bootstrap=True, min_samples_leaf=2, n_estimators=2000, min_samples_split=2, max_features=sqrt, max_depth=20, class_weight={0: 1, 1: 25} \n",
      "[CV]  bootstrap=False, min_samples_leaf=4, n_estimators=2000, min_samples_split=5, max_features=sqrt, max_depth=None, class_weight={0: 1, 1: 25}, total=  39.4s\n",
      "[CV] bootstrap=True, min_samples_leaf=2, n_estimators=2000, min_samples_split=2, max_features=sqrt, max_depth=20, class_weight={0: 1, 1: 25} \n",
      "[CV]  bootstrap=False, min_samples_leaf=4, n_estimators=2000, min_samples_split=5, max_features=sqrt, max_depth=None, class_weight={0: 1, 1: 25}, total=  40.3s\n",
      "[CV] bootstrap=True, min_samples_leaf=2, n_estimators=2000, min_samples_split=2, max_features=sqrt, max_depth=20, class_weight={0: 1, 1: 25} \n",
      "[CV]  bootstrap=False, min_samples_leaf=4, n_estimators=200, min_samples_split=5, max_features=auto, max_depth=100, class_weight={0: 1, 1: 25}, total=   4.0s\n",
      "[CV] bootstrap=True, min_samples_leaf=2, n_estimators=2000, min_samples_split=10, max_features=auto, max_depth=40, class_weight={0: 1, 1: 25} \n",
      "[CV]  bootstrap=False, min_samples_leaf=4, n_estimators=2000, min_samples_split=5, max_features=sqrt, max_depth=None, class_weight={0: 1, 1: 25}, total=  40.4s\n",
      "[CV] bootstrap=True, min_samples_leaf=2, n_estimators=2000, min_samples_split=10, max_features=auto, max_depth=40, class_weight={0: 1, 1: 25} \n",
      "[CV]  bootstrap=False, min_samples_leaf=1, n_estimators=1000, min_samples_split=2, max_features=auto, max_depth=10, class_weight={0: 1, 1: 25}, total=  17.8s\n",
      "[CV] bootstrap=True, min_samples_leaf=2, n_estimators=2000, min_samples_split=10, max_features=auto, max_depth=40, class_weight={0: 1, 1: 25} \n",
      "[CV]  bootstrap=False, min_samples_leaf=1, n_estimators=1000, min_samples_split=2, max_features=auto, max_depth=10, class_weight={0: 1, 1: 25}, total=  17.7s\n",
      "[CV]  bootstrap=False, min_samples_leaf=1, n_estimators=1000, min_samples_split=2, max_features=auto, max_depth=10, class_weight={0: 1, 1: 25}, total=  17.8s\n",
      "[CV]  bootstrap=True, min_samples_leaf=2, n_estimators=2000, min_samples_split=2, max_features=sqrt, max_depth=20, class_weight={0: 1, 1: 25}, total=  22.9s\n",
      "[CV]  bootstrap=True, min_samples_leaf=2, n_estimators=2000, min_samples_split=10, max_features=auto, max_depth=40, class_weight={0: 1, 1: 25}, total=  21.2s\n",
      "[CV]  bootstrap=True, min_samples_leaf=2, n_estimators=2000, min_samples_split=2, max_features=sqrt, max_depth=20, class_weight={0: 1, 1: 25}, total=  28.0s\n",
      "[CV]  bootstrap=True, min_samples_leaf=2, n_estimators=2000, min_samples_split=2, max_features=sqrt, max_depth=20, class_weight={0: 1, 1: 25}, total=  28.6s\n",
      "[CV]  bootstrap=True, min_samples_leaf=2, n_estimators=2000, min_samples_split=10, max_features=auto, max_depth=40, class_weight={0: 1, 1: 25}, total=  25.2s\n",
      "[CV]  bootstrap=True, min_samples_leaf=2, n_estimators=2000, min_samples_split=10, max_features=auto, max_depth=40, class_weight={0: 1, 1: 25}, total=  24.5s\n"
     ]
    },
    {
     "name": "stderr",
     "output_type": "stream",
     "text": [
      "[Parallel(n_jobs=-1)]: Done 300 out of 300 | elapsed: 13.7min finished\n"
     ]
    },
    {
     "data": {
      "text/plain": [
       "RandomizedSearchCV(cv=3, error_score='raise',\n",
       "          estimator=RandomForestClassifier(bootstrap=True, class_weight=None, criterion='gini',\n",
       "            max_depth=None, max_features='auto', max_leaf_nodes=None,\n",
       "            min_impurity_decrease=0.0, min_impurity_split=None,\n",
       "            min_samples_leaf=1, min_samples_split=2,\n",
       "            min_weight_fraction_leaf=0.0, n_estimators=10, n_jobs=1,\n",
       "            oob_score=False, random_state=None, verbose=0,\n",
       "            warm_start=False),\n",
       "          fit_params=None, iid=True, n_iter=100, n_jobs=-1,\n",
       "          param_distributions={'bootstrap': [True, False], 'min_samples_leaf': [1, 2, 4], 'n_estimators': [200, 400, 600, 800, 1000, 1200, 1400, 1600, 1800, 2000], 'min_samples_split': [2, 5, 10], 'max_features': ['auto', 'sqrt'], 'max_depth': [10, 20, 30, 40, 50, 60, 70, 80, 90, 100, 110, None], 'class_weight': [{0: 1, 1: 25}]},\n",
       "          pre_dispatch='2*n_jobs', random_state=42, refit=True,\n",
       "          return_train_score='warn', scoring='roc_auc', verbose=2)"
      ]
     },
     "execution_count": 167,
     "metadata": {},
     "output_type": "execute_result"
    }
   ],
   "source": [
    "crf_random.fit(X_train, y_train)"
   ]
  },
  {
   "cell_type": "code",
   "execution_count": 168,
   "metadata": {
    "scrolled": true
   },
   "outputs": [
    {
     "data": {
      "text/plain": [
       "{'bootstrap': True,\n",
       " 'class_weight': {0: 1, 1: 25},\n",
       " 'max_depth': 10,\n",
       " 'max_features': 'sqrt',\n",
       " 'min_samples_leaf': 4,\n",
       " 'min_samples_split': 2,\n",
       " 'n_estimators': 400}"
      ]
     },
     "execution_count": 168,
     "metadata": {},
     "output_type": "execute_result"
    }
   ],
   "source": [
    "crf_random.best_params_\n",
    "\n",
    "#{'bootstrap': False,\n",
    "# 'max_depth': 10,\n",
    "# 'max_features': 'auto',\n",
    "# 'min_samples_leaf': 4,\n",
    "# 'min_samples_split': 5,\n",
    "# 'n_estimators': 1800}"
   ]
  },
  {
   "cell_type": "code",
   "execution_count": 440,
   "metadata": {},
   "outputs": [
    {
     "data": {
      "text/plain": [
       "RandomForestClassifier(bootstrap=True, class_weight={0: 1, 1: 25},\n",
       "            criterion='gini', max_depth=10, max_features='sqrt',\n",
       "            max_leaf_nodes=None, min_impurity_decrease=0.0,\n",
       "            min_impurity_split=None, min_samples_leaf=4,\n",
       "            min_samples_split=2, min_weight_fraction_leaf=0.0,\n",
       "            n_estimators=400, n_jobs=1, oob_score=False, random_state=None,\n",
       "            verbose=0, warm_start=False)"
      ]
     },
     "execution_count": 440,
     "metadata": {},
     "output_type": "execute_result"
    }
   ],
   "source": [
    "clf = RandomForestClassifier(n_estimators = 400, max_depth = 10,\n",
    "                            max_features='sqrt',\n",
    "                            min_samples_leaf=4,\n",
    "                            min_samples_split=2,\n",
    "                            bootstrap=True,\n",
    "                            class_weight={0:1, 1:25}\n",
    "                        )\n",
    "clf.fit(X_train, y_train)"
   ]
  },
  {
   "cell_type": "code",
   "execution_count": 441,
   "metadata": {
    "scrolled": false
   },
   "outputs": [
    {
     "name": "stdout",
     "output_type": "stream",
     "text": [
      "0.8328611898016998\n",
      "             precision    recall  f1-score   support\n",
      "\n",
      "          0       0.97      0.85      0.91      3687\n",
      "          1       0.17      0.58      0.26       196\n",
      "\n",
      "avg / total       0.93      0.83      0.87      3883\n",
      "\n",
      "Cantidad de 0 :3202\n",
      "Cantidad de 1 :681\n",
      "AUC ROC 0.7139245445940785\n"
     ]
    }
   ],
   "source": [
    "pred = clf.predict_proba(X_test)[:,1]\n",
    "cantidad_unos = 0\n",
    "cantidad_ceros = 0\n",
    "for i in xrange(0,pred.size):\n",
    "        if (pred[i] >= 0.5):\n",
    "            pred[i] = 1\n",
    "            cantidad_unos += 1\n",
    "        else: \n",
    "            pred[i] = 0\n",
    "            cantidad_ceros += 1\n",
    "            \n",
    "print (accuracy_score(y_test, pred, ))          \n",
    "print (classification_report(y_test, pred))\n",
    "print ('Cantidad de 0 :' + str(cantidad_ceros))\n",
    "print ('Cantidad de 1 :' + str(cantidad_unos))\n",
    "print ('AUC ROC ' + str(roc_auc_score(y_test, pred)))\n"
   ]
  },
  {
   "cell_type": "code",
   "execution_count": 435,
   "metadata": {},
   "outputs": [],
   "source": [
    "clf.fit(x,y)\n",
    "pred = (clf.predict_proba(z)[:,1])"
   ]
  },
  {
   "cell_type": "code",
   "execution_count": 433,
   "metadata": {},
   "outputs": [
    {
     "name": "stdout",
     "output_type": "stream",
     "text": [
      "Cantidad de no conversiones: 15535\n",
      "Cantidad de conversiones: 3880\n"
     ]
    }
   ],
   "source": [
    "persons = test_set['person']\n",
    "submit = pd.DataFrame({'label': pred, 'person': persons})\n",
    "submit = submit[['person', 'label']]\n",
    "submit.to_csv('../submits/random_forest.csv', index=False)\n",
    "no_conversiones = submit.loc[submit['label'] < 0.5]['label'].count()\n",
    "print 'Cantidad de no conversiones: ' + str(no_conversiones)\n",
    "\n",
    "conversiones = submit.loc[submit['label'] >= 0.5]['label'].count()\n",
    "print 'Cantidad de conversiones: ' + str(conversiones)"
   ]
  },
  {
   "cell_type": "code",
   "execution_count": 179,
   "metadata": {},
   "outputs": [],
   "source": [
    "from sklearn.ensemble import VotingClassifier"
   ]
  },
  {
   "cell_type": "code",
   "execution_count": 288,
   "metadata": {},
   "outputs": [],
   "source": [
    "classifiers = []\n",
    "classifiers.append(('xgb',xgb1))\n",
    "classifiers.append(('rf',clf))"
   ]
  },
  {
   "cell_type": "code",
   "execution_count": 289,
   "metadata": {},
   "outputs": [],
   "source": [
    "vc = VotingClassifier(classifiers, voting='soft', n_jobs=-1,\n",
    "                    weights=[20,1])"
   ]
  },
  {
   "cell_type": "code",
   "execution_count": 290,
   "metadata": {},
   "outputs": [
    {
     "data": {
      "text/plain": [
       "VotingClassifier(estimators=[('xgb', XGBClassifier(base_score=0.5, booster='gbtree', colsample_bylevel=1,\n",
       "       colsample_bytree=0.8, gamma=0, learning_rate=0.1, max_delta_step=0,\n",
       "       max_depth=1, min_child_weight=3, missing=None, n_estimators=1000,\n",
       "       n_jobs=1, nthread=4, objective='binary:logistic', random...mators=400, n_jobs=1, oob_score=False, random_state=None,\n",
       "            verbose=0, warm_start=False))],\n",
       "         flatten_transform=None, n_jobs=-1, voting='soft', weights=[20, 1])"
      ]
     },
     "execution_count": 290,
     "metadata": {},
     "output_type": "execute_result"
    }
   ],
   "source": [
    "vc.fit(X_train, y_train)"
   ]
  },
  {
   "cell_type": "code",
   "execution_count": 294,
   "metadata": {},
   "outputs": [],
   "source": [
    "pred = vc.predict_proba(X_test)[:,1]"
   ]
  },
  {
   "cell_type": "code",
   "execution_count": 295,
   "metadata": {},
   "outputs": [
    {
     "name": "stdout",
     "output_type": "stream",
     "text": [
      "0.730620654133402\n",
      "             precision    recall  f1-score   support\n",
      "\n",
      "          0       0.98      0.73      0.84      3684\n",
      "          1       0.13      0.77      0.23       199\n",
      "\n",
      "avg / total       0.94      0.73      0.81      3883\n",
      "\n",
      "Cantidad de 0 :2730\n",
      "Cantidad de 1 :1153\n",
      "AUC ROC 0.7487000692932634\n"
     ]
    }
   ],
   "source": [
    "cantidad_unos = 0\n",
    "cantidad_ceros = 0\n",
    "for i in xrange(0,pred.size):\n",
    "        if (pred[i] >= 0.5):\n",
    "            pred[i] = 1\n",
    "            cantidad_unos += 1\n",
    "        else: \n",
    "            pred[i] = 0\n",
    "            cantidad_ceros += 1\n",
    "            \n",
    "print (accuracy_score(y_test, pred, ))          \n",
    "print (classification_report(y_test, pred))\n",
    "print ('Cantidad de 0 :' + str(cantidad_ceros))\n",
    "print ('Cantidad de 1 :' + str(cantidad_unos))\n",
    "print ('AUC ROC ' + str(roc_auc_score(y_test, pred)))"
   ]
  },
  {
   "cell_type": "code",
   "execution_count": null,
   "metadata": {},
   "outputs": [],
   "source": []
  },
  {
   "cell_type": "code",
   "execution_count": 263,
   "metadata": {},
   "outputs": [],
   "source": [
    "vc.fit(x,y)\n",
    "pred = (vc.predict_proba(z)[:,1])"
   ]
  },
  {
   "cell_type": "code",
   "execution_count": 264,
   "metadata": {},
   "outputs": [
    {
     "name": "stdout",
     "output_type": "stream",
     "text": [
      "Cantidad de no conversiones: 13210\n",
      "Cantidad de conversiones: 6205\n"
     ]
    }
   ],
   "source": [
    "persons = test_set['person']\n",
    "submit = pd.DataFrame({'label': pred, 'person': persons})\n",
    "submit = submit[['person', 'label']]\n",
    "submit.to_csv('../submits/vc_xgb_rf.csv', index=False)\n",
    "no_conversiones = submit.loc[submit['label'] < 0.5]['label'].count()\n",
    "print 'Cantidad de no conversiones: ' + str(no_conversiones)\n",
    "\n",
    "conversiones = submit.loc[submit['label'] >= 0.5]['label'].count()\n",
    "print 'Cantidad de conversiones: ' + str(conversiones)"
   ]
  },
  {
   "cell_type": "code",
   "execution_count": null,
   "metadata": {},
   "outputs": [],
   "source": []
  }
 ],
 "metadata": {
  "kernelspec": {
   "display_name": "Python 2",
   "language": "python",
   "name": "python2"
  },
  "language_info": {
   "codemirror_mode": {
    "name": "ipython",
    "version": 2
   },
   "file_extension": ".py",
   "mimetype": "text/x-python",
   "name": "python",
   "nbconvert_exporter": "python",
   "pygments_lexer": "ipython2",
   "version": "2.7.15"
  }
 },
 "nbformat": 4,
 "nbformat_minor": 2
}
