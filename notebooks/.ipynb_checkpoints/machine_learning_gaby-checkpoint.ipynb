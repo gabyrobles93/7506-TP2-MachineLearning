{
 "cells": [
  {
   "cell_type": "markdown",
   "metadata": {},
   "source": [
    "## Machine Learning - XGboost"
   ]
  },
  {
   "cell_type": "markdown",
   "metadata": {},
   "source": [
    "#### Importación de librerías"
   ]
  },
  {
   "cell_type": "code",
   "execution_count": 1,
   "metadata": {},
   "outputs": [
    {
     "name": "stderr",
     "output_type": "stream",
     "text": [
      "/home/grobles/FIUBA/anaconda3/lib/python3.6/site-packages/sklearn/cross_validation.py:41: DeprecationWarning: This module was deprecated in version 0.18 in favor of the model_selection module into which all the refactored classes and functions are moved. Also note that the interface of the new CV iterators are different from that of this module. This module will be removed in 0.20.\n",
      "  \"This module will be removed in 0.20.\", DeprecationWarning)\n"
     ]
    }
   ],
   "source": [
    "import warnings\n",
    "warnings.filterwarnings('ignore')\n",
    "import pandas as pd\n",
    "import pandas as pd\n",
    "from datetime import datetime\n",
    "import numpy as np\n",
    "from sklearn.cross_validation import train_test_split\n",
    "from sklearn.neighbors import KNeighborsClassifier\n",
    "from sklearn.metrics import accuracy_score\n",
    "from sklearn.metrics import log_loss\n",
    "import xgboost as xgb\n",
    "from xgboost import plot_importance\n",
    "from matplotlib import pyplot\n",
    "from sklearn.model_selection import StratifiedKFold\n",
    "from sklearn.model_selection import GridSearchCV as GridSearch\n",
    "from sklearn.ensemble import RandomForestClassifier\n",
    "from sklearn.metrics import roc_auc_score\n",
    "from sklearn.metrics import classification_report, confusion_matrix, roc_curve, auc, precision_recall_curve,roc_curve\n",
    "from sklearn.model_selection import RandomizedSearchCV, GridSearchCV"
   ]
  },
  {
   "cell_type": "markdown",
   "metadata": {},
   "source": [
    "#### Importación de features"
   ]
  },
  {
   "cell_type": "code",
   "execution_count": 2,
   "metadata": {
    "scrolled": true
   },
   "outputs": [
    {
     "data": {
      "text/plain": [
       "(38829, 92)"
      ]
     },
     "execution_count": 2,
     "metadata": {},
     "output_type": "execute_result"
    }
   ],
   "source": [
    "features = pd.read_csv('../features/features_todos.csv')\n",
    "features.shape"
   ]
  },
  {
   "cell_type": "code",
   "execution_count": 3,
   "metadata": {},
   "outputs": [
    {
     "data": {
      "text/plain": [
       "person                                    object\n",
       "marca_favorita_apple                       int64\n",
       "marca_favorita_asus                        int64\n",
       "marca_favorita_lenovo                      int64\n",
       "marca_favorita_lg                          int64\n",
       "marca_favorita_motorola                    int64\n",
       "marca_favorita_no_tiene                    int64\n",
       "marca_favorita_quantum                     int64\n",
       "marca_favorita_samsung                     int64\n",
       "marca_favorita_sony                        int64\n",
       "nivel_de_actividad_muy_bajo                int64\n",
       "nivel_de_actividad_bajo                    int64\n",
       "nivel_de_actividad_medio                   int64\n",
       "nivel_de_actividad_alto                    int64\n",
       "nivel_de_actividad_muy_alto                int64\n",
       "dias_en_plataforma                       float64\n",
       "dias_distintos_con_eventos                 int64\n",
       "eventos_totales_generados                  int64\n",
       "cant_accesos_southeast                     int64\n",
       "cant_accesos_northeast                     int64\n",
       "cant_accesos_south                         int64\n",
       "cant_accesos_center_west                   int64\n",
       "cant_accesos_north                         int64\n",
       "cant_total_eventos                         int64\n",
       "first_and_last_event_distance_in_days      int64\n",
       "mean_events_per_day                      float64\n",
       "cant_ev_madrugada                          int64\n",
       "cant_ev_manana                             int64\n",
       "cant_ev_tarde                              int64\n",
       "cant_ev_noche                              int64\n",
       "franja_horaria_moda                        int64\n",
       "cant_buenos                                int64\n",
       "cant_excelentes                            int64\n",
       "cant_muy_buenos                            int64\n",
       "cant_nuevos                                int64\n",
       "condicion_de_producto_moda                 int64\n",
       "cant_ev_primer_semana_mes                  int64\n",
       "cant_ev_segunda_semana_mes                 int64\n",
       "cant_ev_tercera_semana_mes                 int64\n",
       "cant_ev_cuarta_semana_mes                  int64\n",
       "semana_del_mes_moda                        int64\n",
       "porcentaje_eventos_en_fin_de_semana      float64\n",
       "cant_modelo_iphone                         int64\n",
       "cant_modelo_samsung                        int64\n",
       "cant_modelo_motorola                       int64\n",
       "cant_modelo_otro                           int64\n",
       "porcentaje_modelo_iphone                 float64\n",
       "porcentaje_modelo_samsung                float64\n",
       "porcentaje_modelo_motorola               float64\n",
       "porcentaje_modelo_otro                   float64\n",
       "modelo_moda                                int64\n",
       "interest_last_2_days                       int64\n",
       "interest_last_4_days                     float64\n",
       "interest_last_6_days                     float64\n",
       "interest_last_8_days                     float64\n",
       "interest_last_10_days                    float64\n",
       "interest_last_12_days                    float64\n",
       "interest_last_14_days                    float64\n",
       "interest_last_16_days                    float64\n",
       "interest_last_18_days                    float64\n",
       "interest_last_20_days                    float64\n",
       "interest_last_22_days                    float64\n",
       "interest_last_24_days                    float64\n",
       "interest_last_26_days                    float64\n",
       "interest_last_28_days                    float64\n",
       "interest_last_30_days                    float64\n",
       "has_converted_before                       int64\n",
       "most_viewed_sku                            int64\n",
       "most_viewed_color_preto                    int64\n",
       "most_viewed_color_branco                   int64\n",
       "most_viewed_color_dourado                  int64\n",
       "region_brasil_sao_paulo                    int64\n",
       "region_brasil_unknown                      int64\n",
       "region_brasil_minas_gerais                 int64\n",
       "tasa_cc                                  float64\n",
       "month_moda                                 int64\n",
       "completa_flujo                             int64\n",
       "favorite_device_computer                   int64\n",
       "favorite_device_smartphone                 int64\n",
       "favorite_device_tablet                     int64\n",
       "favorite_device_unknown                    int64\n",
       "viewed_product                             int64\n",
       "searched_products                          int64\n",
       "ad_campaign_hit                            int64\n",
       "staticpage                                 int64\n",
       "checkout                                   int64\n",
       "search_engine_hit                          int64\n",
       "conversion                                 int64\n",
       "generic_listing                            int64\n",
       "brand_listing                              int64\n",
       "visited_site                               int64\n",
       "lead                                       int64\n",
       "dtype: object"
      ]
     },
     "execution_count": 3,
     "metadata": {},
     "output_type": "execute_result"
    }
   ],
   "source": [
    "pd.set_option('display.max_rows', 100)\n",
    "features.dtypes"
   ]
  },
  {
   "cell_type": "markdown",
   "metadata": {},
   "source": [
    "#### Categorización de features categóricos"
   ]
  },
  {
   "cell_type": "code",
   "execution_count": 4,
   "metadata": {},
   "outputs": [],
   "source": [
    "# Según Marca\n",
    "features['marca_favorita_apple'] = features['marca_favorita_apple'].astype('category')\n",
    "features['marca_favorita_asus'] = features['marca_favorita_asus'].astype('category')\n",
    "features['marca_favorita_lenovo'] = features['marca_favorita_lenovo'].astype('category')\n",
    "features['marca_favorita_lg'] = features['marca_favorita_lg'].astype('category')\n",
    "features['marca_favorita_motorola'] = features['marca_favorita_motorola'].astype('category')\n",
    "features['marca_favorita_no_tiene'] = features['marca_favorita_no_tiene'].astype('category')\n",
    "features['marca_favorita_quantum'] = features['marca_favorita_quantum'].astype('category')\n",
    "features['marca_favorita_samsung'] = features['marca_favorita_samsung'].astype('category')\n",
    "features['marca_favorita_sony'] = features['marca_favorita_sony'].astype('category')\n",
    "\n",
    "features['cant_modelo_iphone'] = features['cant_modelo_iphone'].astype('category')\n",
    "features['cant_modelo_samsung'] = features['cant_modelo_samsung'].astype('category')\n",
    "features['cant_modelo_motorola'] = features['cant_modelo_motorola'].astype('category')\n",
    "features['cant_modelo_otro'] = features['cant_modelo_otro'].astype('category')\n",
    "features['modelo_moda'] = features['modelo_moda'].astype('category')\n",
    "\n",
    "features['porcentaje_modelo_iphone'] = features['porcentaje_modelo_iphone'].astype('category')\n",
    "features['porcentaje_modelo_samsung'] = features['porcentaje_modelo_samsung'].astype('category')\n",
    "features['porcentaje_modelo_motorola'] = features['porcentaje_modelo_motorola'].astype('category')\n",
    "features['porcentaje_modelo_otro'] = features['porcentaje_modelo_otro'].astype('category')\n",
    "\n",
    "# Nivel de Actividad\n",
    "features['nivel_de_actividad_muy_bajo'] = features['nivel_de_actividad_muy_bajo'].astype('category')\n",
    "features['nivel_de_actividad_bajo'] = features['nivel_de_actividad_bajo'].astype('category')\n",
    "features['nivel_de_actividad_medio'] = features['nivel_de_actividad_medio'].astype('category')\n",
    "features['nivel_de_actividad_alto'] = features['nivel_de_actividad_alto'].astype('category')\n",
    "features['nivel_de_actividad_muy_alto'] = features['nivel_de_actividad_muy_alto'].astype('category')\n",
    "features['has_converted_before'] = features['has_converted_before'].astype('category')\n",
    "features['month_moda'] = features['month_moda'].astype('category')\n",
    "features['completa_flujo'] = features['completa_flujo'].astype('category')\n",
    "# No es Categorico: features['dias_en_plataforma'] = features['dias_en_plataforma'].astype('category')\n",
    "# No es Categorico: features['dias_distintos_con_eventos'] = features['dias_distintos_con_eventos'].astype('category')\n",
    "# No es Categorico: features['eventos_totales_generados'] = features['eventos_totales_generados'].astype('category')\n",
    "# No es Categorico: features['first_and_last_event_distance_in_days'] = features['first_and_last_event_distance_in_days'].astype('category')\n",
    "# No es Categorico: features['mean_events_per_day'] = features['mean_events_per_day'].astype('category')\n",
    "# No es Categorico: features['most_viewed_sku'] = features['most_viewed_sku'].astype('category')\n",
    "# No es Categorico: features['most_viewed_color_Preto'] = features['most_viewed_color_Preto'].astype('category')\n",
    "# No es Categorico: features['most_viewed_color_Branco'] = features['most_viewed_color_Branco'].astype('category')\n",
    "# No es Categorico: features['most_viewed_color_Dourado'] = features['most_viewed_color_Dourado'].astype('category')\n",
    "# No es Categorico: features['most_viewed_sky'] = features['most_viewed_sky'].astype('category')\n",
    "# No es Categorico: features['cantidad_checkouts'] = features['cantidad_checkouts'].astype('category')\n",
    "# No es Categorico: features['tasa_cc'] = features['tasa_cc'].astype('category')\n",
    "\n",
    "\n",
    "# Según Dispositivo\n",
    "features['favorite_device_computer'] = features['favorite_device_computer'].astype('category')\n",
    "features['favorite_device_smartphone'] = features['favorite_device_smartphone'].astype('category')\n",
    "features['favorite_device_tablet'] = features['favorite_device_tablet'].astype('category')\n",
    "features['favorite_device_unknown'] = features['favorite_device_unknown'].astype('category')\n",
    "\n",
    "\n",
    "# Accesos Según Región\n",
    "# No es Categorico: features['cant_accesos_southeast'] = features['cant_accesos_southeast'].astype('category')\n",
    "# No es Categorico: features['cant_accesos_northeast'] = features['cant_accesos_northeast'].astype('category')\n",
    "# No es Categorico: features['cant_accesos_south'] = features['cant_accesos_south'].astype('category')\n",
    "# No es Categorico: features['cant_accesos_center_west'] = features['cant_accesos_center_west'].astype('category')\n",
    "# No es Categorico: features['cant_accesos_north'] = features['cant_accesos_north'].astype('category')\n",
    "\n",
    "# Eventos Según Franja Horaria\n",
    "# No es Categorico: features['cant_ev_madrugada'] = features['cant_ev_madrugada'].astype('category')\n",
    "# No es Categorico: features['cant_ev_manana'] = features['cant_ev_manana'].astype('category')\n",
    "# No es Categorico: features['cant_ev_tarde'] = features['cant_ev_tarde'].astype('category')\n",
    "# No es Categorico: features['cant_ev_noche'] = features['cant_ev_noche'].astype('category')\n",
    "features['franja_horaria_moda'] = features['franja_horaria_moda'].astype('category')\n",
    "\n",
    "# Según Estado del Celular\n",
    "# No es Categorico: features['cant_buenos'] = features['cant_buenos'].astype('category')\n",
    "# No es Categorico: features['cant_excelentes'] = features['cant_excelentes'].astype('category')\n",
    "# No es Categorico: features['cant_muy_buenos'] = features['cant_muy_buenos'].astype('category')\n",
    "# No es Categorico: features['cant_nuevos'] = features['cant_nuevos'].astype('category')\n",
    "features['condicion_de_producto_moda'] = features['condicion_de_producto_moda'].astype('category')\n",
    "\n",
    "# Según Semana del Mes\n",
    "# No es Categorico: features['cant_ev_primer_semana_mes'] = features['cant_ev_primer_semana_mes'].astype('category')\n",
    "# No es Categorico: features['cant_ev_segunda_semana_mes'] = features['cant_ev_segunda_semana_mes'].astype('category')\n",
    "# No es Categorico: features['cant_ev_tercera_semana_mes'] = features['cant_ev_tercera_semana_mes'].astype('category')\n",
    "# No es Categorico: features['cant_ev_cuarta_semana_mes'] = features['cant_ev_cuarta_semana_mes'].astype('category')\n",
    "features['semana_del_mes_moda'] = features['semana_del_mes_moda'].astype('category')\n",
    "# No es Categorico: features['porcentaje_eventos_en_fin_de_semana'] = features['porcentaje_eventos_en_fin_de_semana'].astype('category')\n",
    "\n",
    "# Interes En Los Últimos Días\n",
    "# No es Categorico: features['interest_last_2_days'] = features['interest_last_2_days'].astype('category')\n",
    "# No es Categorico: features['interest_last_4_days'] = features['interest_last_4_days'].astype('category')\n",
    "# No es Categorico: features['interest_last_6_days'] = features['interest_last_6_days'].astype('category')\n",
    "# No es Categorico: features['interest_last_8_days'] = features['interest_last_8_days'].astype('category')\n",
    "# No es Categorico: features['interest_last_10_days'] = features['interest_last_10_days'].astype('category')\n",
    "# No es Categorico: features['interest_last_12_days'] = features['interest_last_12_days'].astype('category')\n",
    "# No es Categorico: features['interest_last_14_days'] = features['interest_last_14_days'].astype('category')\n",
    "# No es Categorico: features['interest_last_16_days'] = features['interest_last_16_days'].astype('category')\n",
    "# No es Categorico: features['interest_last_18_days'] = features['interest_last_18_days'].astype('category')\n",
    "# No es Categorico: features['interest_last_20_days'] = features['interest_last_20_days'].astype('category')\n",
    "# No es Categorico: features['interest_last_22_days'] = features['interest_last_22_days'].astype('category')\n",
    "# No es Categorico: features['interest_last_24_days'] = features['interest_last_24_days'].astype('category')\n",
    "# No es Categorico: features['interest_last_26_days'] = features['interest_last_26_days'].astype('category')\n",
    "# No es Categorico: features['interest_last_28_days'] = features['interest_last_28_days'].astype('category')\n",
    "# No es Categorico: features['interest_last_30_days'] = features['interest_last_30_days'].astype('category')\n",
    "\n",
    "# Cantidad Total de Eventos\n",
    "\n",
    "# No es Categorico: features['ad_campaign_hit'] = features['ad_campaign_hit'].astype('category')\n",
    "# No es Categorico: features['brand_listing'] = features['brand_listing'].astype('category')\n",
    "# No es Categorico: features['checkout'] = features['checkout'].astype('category')\n",
    "# No es Categorico: features['conversion'] = features['conversion'].astype('category')\n",
    "# No es Categorico: features['generic_listing'] = features['generic_listing'].astype('category')\n",
    "# No es Categorico: features['lead'] = features['lead'].astype('category')\n",
    "# No es Categorico: features['search_engine_hit'] = features['search_engine_hit'].astype('category')\n",
    "# No es Categorico: features['searched_products'] = features['searched_products'].astype('category')\n",
    "# No es Categorico: features['staticpage_ev'] = features['staticpage_ev'].astype('category')\n",
    "# No es Categorico: features['viewed_product'] = features['viewed_product'].astype('category')\n",
    "# No es Categorico: features['visited_site'] = features['visited_site'].astype('category')\n",
    "# No es Categorico: features['cant_total_eventos'] = features['cant_total_eventos'].astype('category')"
   ]
  },
  {
   "cell_type": "code",
   "execution_count": 5,
   "metadata": {
    "scrolled": true
   },
   "outputs": [
    {
     "data": {
      "text/html": [
       "<div>\n",
       "<style scoped>\n",
       "    .dataframe tbody tr th:only-of-type {\n",
       "        vertical-align: middle;\n",
       "    }\n",
       "\n",
       "    .dataframe tbody tr th {\n",
       "        vertical-align: top;\n",
       "    }\n",
       "\n",
       "    .dataframe thead th {\n",
       "        text-align: right;\n",
       "    }\n",
       "</style>\n",
       "<table border=\"1\" class=\"dataframe\">\n",
       "  <thead>\n",
       "    <tr style=\"text-align: right;\">\n",
       "      <th></th>\n",
       "      <th>person</th>\n",
       "      <th>marca_favorita_apple</th>\n",
       "      <th>marca_favorita_asus</th>\n",
       "      <th>marca_favorita_lenovo</th>\n",
       "      <th>marca_favorita_lg</th>\n",
       "      <th>marca_favorita_motorola</th>\n",
       "      <th>marca_favorita_no_tiene</th>\n",
       "      <th>marca_favorita_quantum</th>\n",
       "      <th>marca_favorita_samsung</th>\n",
       "      <th>marca_favorita_sony</th>\n",
       "      <th>...</th>\n",
       "      <th>searched_products</th>\n",
       "      <th>ad_campaign_hit</th>\n",
       "      <th>staticpage</th>\n",
       "      <th>checkout</th>\n",
       "      <th>search_engine_hit</th>\n",
       "      <th>conversion</th>\n",
       "      <th>generic_listing</th>\n",
       "      <th>brand_listing</th>\n",
       "      <th>visited_site</th>\n",
       "      <th>lead</th>\n",
       "    </tr>\n",
       "  </thead>\n",
       "  <tbody>\n",
       "    <tr>\n",
       "      <th>0</th>\n",
       "      <td>0008ed71</td>\n",
       "      <td>1</td>\n",
       "      <td>0</td>\n",
       "      <td>0</td>\n",
       "      <td>0</td>\n",
       "      <td>0</td>\n",
       "      <td>0</td>\n",
       "      <td>0</td>\n",
       "      <td>0</td>\n",
       "      <td>0</td>\n",
       "      <td>...</td>\n",
       "      <td>0</td>\n",
       "      <td>0</td>\n",
       "      <td>0</td>\n",
       "      <td>3</td>\n",
       "      <td>0</td>\n",
       "      <td>0</td>\n",
       "      <td>1</td>\n",
       "      <td>0</td>\n",
       "      <td>2</td>\n",
       "      <td>0</td>\n",
       "    </tr>\n",
       "    <tr>\n",
       "      <th>1</th>\n",
       "      <td>00091926</td>\n",
       "      <td>1</td>\n",
       "      <td>0</td>\n",
       "      <td>0</td>\n",
       "      <td>0</td>\n",
       "      <td>0</td>\n",
       "      <td>0</td>\n",
       "      <td>0</td>\n",
       "      <td>0</td>\n",
       "      <td>0</td>\n",
       "      <td>...</td>\n",
       "      <td>0</td>\n",
       "      <td>15</td>\n",
       "      <td>0</td>\n",
       "      <td>2</td>\n",
       "      <td>0</td>\n",
       "      <td>0</td>\n",
       "      <td>0</td>\n",
       "      <td>25</td>\n",
       "      <td>34</td>\n",
       "      <td>0</td>\n",
       "    </tr>\n",
       "    <tr>\n",
       "      <th>2</th>\n",
       "      <td>00091a7a</td>\n",
       "      <td>1</td>\n",
       "      <td>0</td>\n",
       "      <td>0</td>\n",
       "      <td>0</td>\n",
       "      <td>0</td>\n",
       "      <td>0</td>\n",
       "      <td>0</td>\n",
       "      <td>0</td>\n",
       "      <td>0</td>\n",
       "      <td>...</td>\n",
       "      <td>0</td>\n",
       "      <td>1</td>\n",
       "      <td>0</td>\n",
       "      <td>0</td>\n",
       "      <td>0</td>\n",
       "      <td>0</td>\n",
       "      <td>0</td>\n",
       "      <td>5</td>\n",
       "      <td>1</td>\n",
       "      <td>0</td>\n",
       "    </tr>\n",
       "    <tr>\n",
       "      <th>3</th>\n",
       "      <td>000ba417</td>\n",
       "      <td>0</td>\n",
       "      <td>0</td>\n",
       "      <td>0</td>\n",
       "      <td>0</td>\n",
       "      <td>0</td>\n",
       "      <td>0</td>\n",
       "      <td>0</td>\n",
       "      <td>1</td>\n",
       "      <td>0</td>\n",
       "      <td>...</td>\n",
       "      <td>0</td>\n",
       "      <td>1</td>\n",
       "      <td>0</td>\n",
       "      <td>6</td>\n",
       "      <td>1</td>\n",
       "      <td>1</td>\n",
       "      <td>14</td>\n",
       "      <td>24</td>\n",
       "      <td>6</td>\n",
       "      <td>0</td>\n",
       "    </tr>\n",
       "    <tr>\n",
       "      <th>4</th>\n",
       "      <td>000c79fe</td>\n",
       "      <td>1</td>\n",
       "      <td>0</td>\n",
       "      <td>0</td>\n",
       "      <td>0</td>\n",
       "      <td>0</td>\n",
       "      <td>0</td>\n",
       "      <td>0</td>\n",
       "      <td>0</td>\n",
       "      <td>0</td>\n",
       "      <td>...</td>\n",
       "      <td>9</td>\n",
       "      <td>1</td>\n",
       "      <td>0</td>\n",
       "      <td>1</td>\n",
       "      <td>1</td>\n",
       "      <td>0</td>\n",
       "      <td>1</td>\n",
       "      <td>0</td>\n",
       "      <td>1</td>\n",
       "      <td>0</td>\n",
       "    </tr>\n",
       "  </tbody>\n",
       "</table>\n",
       "<p>5 rows × 92 columns</p>\n",
       "</div>"
      ],
      "text/plain": [
       "     person marca_favorita_apple marca_favorita_asus marca_favorita_lenovo  \\\n",
       "0  0008ed71                    1                   0                     0   \n",
       "1  00091926                    1                   0                     0   \n",
       "2  00091a7a                    1                   0                     0   \n",
       "3  000ba417                    0                   0                     0   \n",
       "4  000c79fe                    1                   0                     0   \n",
       "\n",
       "  marca_favorita_lg marca_favorita_motorola marca_favorita_no_tiene  \\\n",
       "0                 0                       0                       0   \n",
       "1                 0                       0                       0   \n",
       "2                 0                       0                       0   \n",
       "3                 0                       0                       0   \n",
       "4                 0                       0                       0   \n",
       "\n",
       "  marca_favorita_quantum marca_favorita_samsung marca_favorita_sony  ...   \\\n",
       "0                      0                      0                   0  ...    \n",
       "1                      0                      0                   0  ...    \n",
       "2                      0                      0                   0  ...    \n",
       "3                      0                      1                   0  ...    \n",
       "4                      0                      0                   0  ...    \n",
       "\n",
       "  searched_products ad_campaign_hit staticpage checkout search_engine_hit  \\\n",
       "0                 0               0          0        3                 0   \n",
       "1                 0              15          0        2                 0   \n",
       "2                 0               1          0        0                 0   \n",
       "3                 0               1          0        6                 1   \n",
       "4                 9               1          0        1                 1   \n",
       "\n",
       "   conversion  generic_listing  brand_listing  visited_site  lead  \n",
       "0           0                1              0             2     0  \n",
       "1           0                0             25            34     0  \n",
       "2           0                0              5             1     0  \n",
       "3           1               14             24             6     0  \n",
       "4           0                1              0             1     0  \n",
       "\n",
       "[5 rows x 92 columns]"
      ]
     },
     "execution_count": 5,
     "metadata": {},
     "output_type": "execute_result"
    }
   ],
   "source": [
    "features.head()"
   ]
  },
  {
   "cell_type": "code",
   "execution_count": 6,
   "metadata": {},
   "outputs": [
    {
     "data": {
      "text/plain": [
       "(38829, 92)"
      ]
     },
     "execution_count": 6,
     "metadata": {},
     "output_type": "execute_result"
    }
   ],
   "source": [
    "features.shape"
   ]
  },
  {
   "cell_type": "markdown",
   "metadata": {},
   "source": [
    "Obtengo el **nombre de las columnas** de los features"
   ]
  },
  {
   "cell_type": "code",
   "execution_count": 7,
   "metadata": {
    "scrolled": true
   },
   "outputs": [
    {
     "name": "stdout",
     "output_type": "stream",
     "text": [
      "'person',\n",
      "'marca_favorita_apple',\n",
      "'marca_favorita_asus',\n",
      "'marca_favorita_lenovo',\n",
      "'marca_favorita_lg',\n",
      "'marca_favorita_motorola',\n",
      "'marca_favorita_no_tiene',\n",
      "'marca_favorita_quantum',\n",
      "'marca_favorita_samsung',\n",
      "'marca_favorita_sony',\n",
      "'nivel_de_actividad_muy_bajo',\n",
      "'nivel_de_actividad_bajo',\n",
      "'nivel_de_actividad_medio',\n",
      "'nivel_de_actividad_alto',\n",
      "'nivel_de_actividad_muy_alto',\n",
      "'dias_en_plataforma',\n",
      "'dias_distintos_con_eventos',\n",
      "'eventos_totales_generados',\n",
      "'cant_accesos_southeast',\n",
      "'cant_accesos_northeast',\n",
      "'cant_accesos_south',\n",
      "'cant_accesos_center_west',\n",
      "'cant_accesos_north',\n",
      "'cant_total_eventos',\n",
      "'first_and_last_event_distance_in_days',\n",
      "'mean_events_per_day',\n",
      "'cant_ev_madrugada',\n",
      "'cant_ev_manana',\n",
      "'cant_ev_tarde',\n",
      "'cant_ev_noche',\n",
      "'franja_horaria_moda',\n",
      "'cant_buenos',\n",
      "'cant_excelentes',\n",
      "'cant_muy_buenos',\n",
      "'cant_nuevos',\n",
      "'condicion_de_producto_moda',\n",
      "'cant_ev_primer_semana_mes',\n",
      "'cant_ev_segunda_semana_mes',\n",
      "'cant_ev_tercera_semana_mes',\n",
      "'cant_ev_cuarta_semana_mes',\n",
      "'semana_del_mes_moda',\n",
      "'porcentaje_eventos_en_fin_de_semana',\n",
      "'cant_modelo_iphone',\n",
      "'cant_modelo_samsung',\n",
      "'cant_modelo_motorola',\n",
      "'cant_modelo_otro',\n",
      "'porcentaje_modelo_iphone',\n",
      "'porcentaje_modelo_samsung',\n",
      "'porcentaje_modelo_motorola',\n",
      "'porcentaje_modelo_otro',\n",
      "'modelo_moda',\n",
      "'interest_last_2_days',\n",
      "'interest_last_4_days',\n",
      "'interest_last_6_days',\n",
      "'interest_last_8_days',\n",
      "'interest_last_10_days',\n",
      "'interest_last_12_days',\n",
      "'interest_last_14_days',\n",
      "'interest_last_16_days',\n",
      "'interest_last_18_days',\n",
      "'interest_last_20_days',\n",
      "'interest_last_22_days',\n",
      "'interest_last_24_days',\n",
      "'interest_last_26_days',\n",
      "'interest_last_28_days',\n",
      "'interest_last_30_days',\n",
      "'has_converted_before',\n",
      "'most_viewed_sku',\n",
      "'most_viewed_color_preto',\n",
      "'most_viewed_color_branco',\n",
      "'most_viewed_color_dourado',\n",
      "'region_brasil_sao_paulo',\n",
      "'region_brasil_unknown',\n",
      "'region_brasil_minas_gerais',\n",
      "'tasa_cc',\n",
      "'month_moda',\n",
      "'completa_flujo',\n",
      "'favorite_device_computer',\n",
      "'favorite_device_smartphone',\n",
      "'favorite_device_tablet',\n",
      "'favorite_device_unknown',\n",
      "'viewed_product',\n",
      "'searched_products',\n",
      "'ad_campaign_hit',\n",
      "'staticpage',\n",
      "'checkout',\n",
      "'search_engine_hit',\n",
      "'conversion',\n",
      "'generic_listing',\n",
      "'brand_listing',\n",
      "'visited_site',\n",
      "'lead',\n"
     ]
    }
   ],
   "source": [
    "for column in features.columns:\n",
    "    print (\"'\" + column + \"'\" + \",\")\n"
   ]
  },
  {
   "cell_type": "code",
   "execution_count": 8,
   "metadata": {},
   "outputs": [],
   "source": [
    "features_names = [\n",
    "'marca_favorita_apple',\n",
    "#'marca_favorita_asus',\n",
    "#'marca_favorita_lenovo',\n",
    "#'marca_favorita_lg',\n",
    "#'marca_favorita_motorola',\n",
    "#'marca_favorita_no_tiene',\n",
    "#'marca_favorita_quantum',\n",
    "'marca_favorita_samsung',\n",
    "#'marca_favorita_sony',\n",
    "#'nivel_de_actividad_muy_bajo',\n",
    "#'nivel_de_actividad_bajo',\n",
    "#'nivel_de_actividad_medio',\n",
    "#'nivel_de_actividad_alto',\n",
    "'nivel_de_actividad_muy_alto',\n",
    "'dias_en_plataforma',\n",
    "'dias_distintos_con_eventos',\n",
    "'eventos_totales_generados',\n",
    "#'cant_accesos_southeast',\n",
    "'cant_accesos_northeast',\n",
    "'cant_accesos_south',\n",
    "#'cant_accesos_center_west',\n",
    "#'cant_accesos_north',\n",
    "'cant_total_eventos',\n",
    "'first_and_last_event_distance_in_days',\n",
    "'mean_events_per_day',\n",
    "'cant_ev_madrugada',\n",
    "'cant_ev_manana',\n",
    "'cant_ev_tarde',\n",
    "'cant_ev_noche',\n",
    "'franja_horaria_moda',\n",
    "'cant_buenos',\n",
    "'cant_excelentes',\n",
    "'cant_muy_buenos',\n",
    "#'cant_nuevos',\n",
    "'condicion_de_producto_moda',\n",
    "'cant_ev_primer_semana_mes',\n",
    "'cant_ev_segunda_semana_mes',\n",
    "'cant_ev_tercera_semana_mes',\n",
    "'cant_ev_cuarta_semana_mes',\n",
    "'semana_del_mes_moda',\n",
    "'porcentaje_eventos_en_fin_de_semana',\n",
    "'cant_modelo_iphone',\n",
    "'cant_modelo_samsung',\n",
    "'cant_modelo_motorola',\n",
    "'cant_modelo_otro',\n",
    "'porcentaje_modelo_iphone',\n",
    "'porcentaje_modelo_samsung',\n",
    "'porcentaje_modelo_motorola',\n",
    "'porcentaje_modelo_otro',\n",
    "'modelo_moda',\n",
    "'interest_last_2_days',\n",
    "'interest_last_4_days',\n",
    "'interest_last_6_days',\n",
    "'interest_last_8_days',\n",
    "'interest_last_10_days',\n",
    "'interest_last_12_days',\n",
    "'interest_last_14_days',\n",
    "'interest_last_16_days',\n",
    "'interest_last_18_days',\n",
    "'interest_last_20_days',\n",
    "'interest_last_22_days',\n",
    "'interest_last_24_days',\n",
    "'interest_last_26_days',\n",
    "'interest_last_28_days',\n",
    "'interest_last_30_days',\n",
    "'has_converted_before',\n",
    "'most_viewed_sku',\n",
    "#'most_viewed_color_preto',\n",
    "#'most_viewed_color_branco',\n",
    "'most_viewed_color_dourado',\n",
    "'region_brasil_sao_paulo',\n",
    "'region_brasil_unknown',\n",
    "'region_brasil_minas_gerais',\n",
    "'tasa_cc',\n",
    "'month_moda',\n",
    "#'completa_flujo',\n",
    "'favorite_device_computer',\n",
    "'favorite_device_smartphone',\n",
    "#'favorite_device_tablet',\n",
    "#'favorite_device_unknown',\n",
    "'viewed_product',\n",
    "'searched_products',\n",
    "'ad_campaign_hit',\n",
    "'staticpage',\n",
    "'checkout',\n",
    "'search_engine_hit',\n",
    "'conversion',\n",
    "'generic_listing',\n",
    "'brand_listing',\n",
    "'visited_site',\n",
    "'lead'\n",
    "\n",
    "]"
   ]
  },
  {
   "cell_type": "markdown",
   "metadata": {},
   "source": [
    "### Creación del Training Set"
   ]
  },
  {
   "cell_type": "code",
   "execution_count": 9,
   "metadata": {},
   "outputs": [
    {
     "data": {
      "text/plain": [
       "(19415, 1)"
      ]
     },
     "execution_count": 9,
     "metadata": {},
     "output_type": "execute_result"
    }
   ],
   "source": [
    "labels_training_set = pd.read_csv('../dataset/labels_training_set.csv')\n",
    "test_set = pd.read_csv('../dataset/trocafone_kaggle_test.csv')\n",
    "test_set.shape"
   ]
  },
  {
   "cell_type": "markdown",
   "metadata": {},
   "source": [
    "En **labels_training_set** están los usuarios con los labels, los resultados que conocemos de compras (1) o no (0) en los primeros 15 días de Junio.\n",
    "\n",
    "En **test_set** están solamente las personas que queremos predecir si compraron o no.\n",
    "\n",
    "Realizamos un merge entre el modelo con los **features** y **labels_training_set** para generar un modelo completo con los labels, con el fin de entrenar los algoritmos. Este modelo se guarda en **training_set**."
   ]
  },
  {
   "cell_type": "code",
   "execution_count": 10,
   "metadata": {
    "scrolled": false
   },
   "outputs": [
    {
     "data": {
      "text/html": [
       "<div>\n",
       "<style scoped>\n",
       "    .dataframe tbody tr th:only-of-type {\n",
       "        vertical-align: middle;\n",
       "    }\n",
       "\n",
       "    .dataframe tbody tr th {\n",
       "        vertical-align: top;\n",
       "    }\n",
       "\n",
       "    .dataframe thead th {\n",
       "        text-align: right;\n",
       "    }\n",
       "</style>\n",
       "<table border=\"1\" class=\"dataframe\">\n",
       "  <thead>\n",
       "    <tr style=\"text-align: right;\">\n",
       "      <th></th>\n",
       "      <th>person</th>\n",
       "      <th>marca_favorita_apple</th>\n",
       "      <th>marca_favorita_asus</th>\n",
       "      <th>marca_favorita_lenovo</th>\n",
       "      <th>marca_favorita_lg</th>\n",
       "      <th>marca_favorita_motorola</th>\n",
       "      <th>marca_favorita_no_tiene</th>\n",
       "      <th>marca_favorita_quantum</th>\n",
       "      <th>marca_favorita_samsung</th>\n",
       "      <th>marca_favorita_sony</th>\n",
       "      <th>...</th>\n",
       "      <th>ad_campaign_hit</th>\n",
       "      <th>staticpage</th>\n",
       "      <th>checkout</th>\n",
       "      <th>search_engine_hit</th>\n",
       "      <th>conversion</th>\n",
       "      <th>generic_listing</th>\n",
       "      <th>brand_listing</th>\n",
       "      <th>visited_site</th>\n",
       "      <th>lead</th>\n",
       "      <th>label</th>\n",
       "    </tr>\n",
       "  </thead>\n",
       "  <tbody>\n",
       "    <tr>\n",
       "      <th>0</th>\n",
       "      <td>0008ed71</td>\n",
       "      <td>1</td>\n",
       "      <td>0</td>\n",
       "      <td>0</td>\n",
       "      <td>0</td>\n",
       "      <td>0</td>\n",
       "      <td>0</td>\n",
       "      <td>0</td>\n",
       "      <td>0</td>\n",
       "      <td>0</td>\n",
       "      <td>...</td>\n",
       "      <td>0</td>\n",
       "      <td>0</td>\n",
       "      <td>3</td>\n",
       "      <td>0</td>\n",
       "      <td>0</td>\n",
       "      <td>1</td>\n",
       "      <td>0</td>\n",
       "      <td>2</td>\n",
       "      <td>0</td>\n",
       "      <td>0</td>\n",
       "    </tr>\n",
       "    <tr>\n",
       "      <th>1</th>\n",
       "      <td>000c79fe</td>\n",
       "      <td>1</td>\n",
       "      <td>0</td>\n",
       "      <td>0</td>\n",
       "      <td>0</td>\n",
       "      <td>0</td>\n",
       "      <td>0</td>\n",
       "      <td>0</td>\n",
       "      <td>0</td>\n",
       "      <td>0</td>\n",
       "      <td>...</td>\n",
       "      <td>1</td>\n",
       "      <td>0</td>\n",
       "      <td>1</td>\n",
       "      <td>1</td>\n",
       "      <td>0</td>\n",
       "      <td>1</td>\n",
       "      <td>0</td>\n",
       "      <td>1</td>\n",
       "      <td>0</td>\n",
       "      <td>0</td>\n",
       "    </tr>\n",
       "    <tr>\n",
       "      <th>2</th>\n",
       "      <td>001802e4</td>\n",
       "      <td>1</td>\n",
       "      <td>0</td>\n",
       "      <td>0</td>\n",
       "      <td>0</td>\n",
       "      <td>0</td>\n",
       "      <td>0</td>\n",
       "      <td>0</td>\n",
       "      <td>0</td>\n",
       "      <td>0</td>\n",
       "      <td>...</td>\n",
       "      <td>5</td>\n",
       "      <td>0</td>\n",
       "      <td>1</td>\n",
       "      <td>0</td>\n",
       "      <td>0</td>\n",
       "      <td>4</td>\n",
       "      <td>0</td>\n",
       "      <td>1</td>\n",
       "      <td>0</td>\n",
       "      <td>0</td>\n",
       "    </tr>\n",
       "    <tr>\n",
       "      <th>3</th>\n",
       "      <td>0019e639</td>\n",
       "      <td>0</td>\n",
       "      <td>0</td>\n",
       "      <td>0</td>\n",
       "      <td>0</td>\n",
       "      <td>1</td>\n",
       "      <td>0</td>\n",
       "      <td>0</td>\n",
       "      <td>0</td>\n",
       "      <td>0</td>\n",
       "      <td>...</td>\n",
       "      <td>29</td>\n",
       "      <td>0</td>\n",
       "      <td>15</td>\n",
       "      <td>13</td>\n",
       "      <td>2</td>\n",
       "      <td>28</td>\n",
       "      <td>165</td>\n",
       "      <td>19</td>\n",
       "      <td>0</td>\n",
       "      <td>0</td>\n",
       "    </tr>\n",
       "    <tr>\n",
       "      <th>4</th>\n",
       "      <td>001b0bf9</td>\n",
       "      <td>0</td>\n",
       "      <td>0</td>\n",
       "      <td>0</td>\n",
       "      <td>0</td>\n",
       "      <td>0</td>\n",
       "      <td>0</td>\n",
       "      <td>0</td>\n",
       "      <td>1</td>\n",
       "      <td>0</td>\n",
       "      <td>...</td>\n",
       "      <td>0</td>\n",
       "      <td>0</td>\n",
       "      <td>2</td>\n",
       "      <td>0</td>\n",
       "      <td>1</td>\n",
       "      <td>1</td>\n",
       "      <td>1</td>\n",
       "      <td>0</td>\n",
       "      <td>0</td>\n",
       "      <td>0</td>\n",
       "    </tr>\n",
       "  </tbody>\n",
       "</table>\n",
       "<p>5 rows × 93 columns</p>\n",
       "</div>"
      ],
      "text/plain": [
       "     person marca_favorita_apple marca_favorita_asus marca_favorita_lenovo  \\\n",
       "0  0008ed71                    1                   0                     0   \n",
       "1  000c79fe                    1                   0                     0   \n",
       "2  001802e4                    1                   0                     0   \n",
       "3  0019e639                    0                   0                     0   \n",
       "4  001b0bf9                    0                   0                     0   \n",
       "\n",
       "  marca_favorita_lg marca_favorita_motorola marca_favorita_no_tiene  \\\n",
       "0                 0                       0                       0   \n",
       "1                 0                       0                       0   \n",
       "2                 0                       0                       0   \n",
       "3                 0                       1                       0   \n",
       "4                 0                       0                       0   \n",
       "\n",
       "  marca_favorita_quantum marca_favorita_samsung marca_favorita_sony  ...    \\\n",
       "0                      0                      0                   0  ...     \n",
       "1                      0                      0                   0  ...     \n",
       "2                      0                      0                   0  ...     \n",
       "3                      0                      0                   0  ...     \n",
       "4                      0                      1                   0  ...     \n",
       "\n",
       "  ad_campaign_hit staticpage checkout search_engine_hit conversion  \\\n",
       "0               0          0        3                 0          0   \n",
       "1               1          0        1                 1          0   \n",
       "2               5          0        1                 0          0   \n",
       "3              29          0       15                13          2   \n",
       "4               0          0        2                 0          1   \n",
       "\n",
       "   generic_listing  brand_listing  visited_site  lead  label  \n",
       "0                1              0             2     0      0  \n",
       "1                1              0             1     0      0  \n",
       "2                4              0             1     0      0  \n",
       "3               28            165            19     0      0  \n",
       "4                1              1             0     0      0  \n",
       "\n",
       "[5 rows x 93 columns]"
      ]
     },
     "execution_count": 10,
     "metadata": {},
     "output_type": "execute_result"
    }
   ],
   "source": [
    "training_set_global = pd.merge(features, labels_training_set, how='inner', on='person')\n",
    "training_set_global.head()"
   ]
  },
  {
   "cell_type": "code",
   "execution_count": 11,
   "metadata": {},
   "outputs": [
    {
     "data": {
      "text/plain": [
       "(19414, 93)"
      ]
     },
     "execution_count": 11,
     "metadata": {},
     "output_type": "execute_result"
    }
   ],
   "source": [
    "training_set_global.shape"
   ]
  },
  {
   "cell_type": "markdown",
   "metadata": {},
   "source": [
    "Merge de **test_set**, que son las personas que queremos predecir si compraron o no con el resto del modelo con features."
   ]
  },
  {
   "cell_type": "code",
   "execution_count": 12,
   "metadata": {},
   "outputs": [],
   "source": [
    "test_set = pd.merge(features, test_set, how='inner', on='person')"
   ]
  },
  {
   "cell_type": "markdown",
   "metadata": {},
   "source": [
    "Teniendo el **training_set_global** completo, lo dividimos en dos partes:\n",
    "1. Un training set propiamente dicho.\n",
    "2. Un test set.\n",
    "\n",
    "Esto se hace con la función train_test_split, que recibe:\n",
    "\n",
    "1. x - Arreglo con todas las columnas del training_set original menos la última (que es el label)\n",
    "\n",
    "2. y - Arreglo con la última columna del training_set original (que es el label)\n",
    "\n",
    "3. % del tamaño del test set sobre el total del tamaño del training_set original\n",
    "\n",
    "De yapa:\n",
    "\n",
    "z - arreglo con todas las columnas del test_set original. Este data frame tiene las predicciones que tenemos que hacer y comparar en Kaggle para obtener el resultado."
   ]
  },
  {
   "cell_type": "code",
   "execution_count": 13,
   "metadata": {},
   "outputs": [
    {
     "data": {
      "text/plain": [
       "(19415, 71)"
      ]
     },
     "execution_count": 13,
     "metadata": {},
     "output_type": "execute_result"
    }
   ],
   "source": [
    "x = np.array(training_set_global[features_names])\n",
    "y = np.array(training_set_global['label'])\n",
    "z = np.array(test_set[features_names])\n",
    "X_train, X_test, y_train, y_test = train_test_split(x,y, test_size=0.2)\n",
    "z.shape"
   ]
  },
  {
   "cell_type": "markdown",
   "metadata": {},
   "source": [
    "### XGBoost + RandomSearch"
   ]
  },
  {
   "cell_type": "markdown",
   "metadata": {},
   "source": [
    "Defino una función **model_fit()** que recibe el algoritmo clasificador y realiza estas tareas:\n",
    "\n",
    "1. Fitting: Entrena el algoritmo con el training set X (person + features) e Y (labels)\n",
    "2. Predicción: Predice los labels en el set de testing\n",
    "3. Cálculo de accuracy: Calcula el accuracy de la predicción anterior comparando con los labels conocidos (y_test)\n",
    "\n",
    "La predicción del punto 2 retorna una probabilidad [0, 1] por eso:\n",
    "\n",
    "4. Clasificación: etiqueta con 0 o 1 dependiendo de la probabilidad.\n"
   ]
  },
  {
   "cell_type": "code",
   "execution_count": 14,
   "metadata": {},
   "outputs": [],
   "source": [
    "def modelfit(alg):\n",
    "    alg.fit(X_train, y_train, eval_metric='aucpr')\n",
    "    pred = (alg.predict_proba(X_test)[:,1])\n",
    "    accuracy = accuracy_score(y_test, pred.round(), normalize=False)\n",
    "    pred_proba = pred\n",
    "    print(\"Accuracy: \", accuracy / float(pred.size))\n",
    "\n",
    "    for i in range(0,pred.size):\n",
    "        if (pred[i] >= 0.5):\n",
    "            pred[i] = 1\n",
    "        else: \n",
    "            pred[i] = 0\n",
    "\n",
    "    print('---Classification Report---')\n",
    "    print(classification_report(y_test,pred))\n",
    "    print('AUROC :' + str(roc_auc_score(y_test, pred_proba)))"
   ]
  },
  {
   "cell_type": "markdown",
   "metadata": {},
   "source": [
    "Defino función Timer que servirá para tomar los tiempos de ejecución de los algoritmos"
   ]
  },
  {
   "cell_type": "code",
   "execution_count": 15,
   "metadata": {},
   "outputs": [],
   "source": [
    "def timer(start_time=None):\n",
    "    if not start_time:\n",
    "        start_time = datetime.now()\n",
    "        return start_time\n",
    "    elif start_time:\n",
    "        thour, temp_sec = divmod((datetime.now() - start_time).total_seconds(), 3600)\n",
    "        tmin, tsec = divmod(temp_sec, 60)\n",
    "        print('\\n Time taken: %i hours %i minutes and %s seconds.' % (thour, tmin, round(tsec, 2)))"
   ]
  },
  {
   "cell_type": "markdown",
   "metadata": {},
   "source": [
    "#### Random Search"
   ]
  },
  {
   "cell_type": "markdown",
   "metadata": {},
   "source": [
    "Buscaremos los mejores hiperparámetros para XGBoost utilizando la técnica de Random Search, a modo de tener una primera aproximación."
   ]
  },
  {
   "cell_type": "code",
   "execution_count": 16,
   "metadata": {},
   "outputs": [],
   "source": [
    "# A parameter grid for XGBoost\n",
    "params = {\n",
    "        'min_child_weight': [1, 3, 5, 7, 8, 9, 10, 11, 12],\n",
    "        'gamma': [0.5, 1, 1.5, 2, 3, 4, 5, 6, 6.5, 7, 7.5, 8, 10],\n",
    "        'subsample': [0.6, 0.65, 0.7, 0.75, 0.8, 0.9, 1.0],\n",
    "        'colsample_bytree': [0.6, 0.8, 0.9, 1.0],\n",
    "        'max_depth': [1, 2, 3, 4, 5, 6, 7, 9, 10],\n",
    "        'n_estimators': [500, 600, 700, 800, 900, 1000, 1100],\n",
    "        'learning_rate': [0.01, 0.05, 0.08, 0.1, 0.2, 0.3],\n",
    "        'scale_pos_weight' : [1, 5, 10, 15, 20, 25]\n",
    "        }\n",
    "\n",
    "\n",
    "# Best hyperparameters:\n",
    "#{'subsample': 0.7, 'min_child_weight': 1, 'max_depth': 4, 'gamma': 0.5, 'colsample_bytree': 1.0}\n",
    "\n",
    "# Best hyperparameters:\n",
    "#{'subsample': 1.0, 'n_estimators': 500, 'min_child_weight': 1, 'max_depth': 3, 'learning_rate': 0.05, 'gamma': 8, 'colsample_bytree': 0.8}\n"
   ]
  },
  {
   "cell_type": "code",
   "execution_count": 17,
   "metadata": {},
   "outputs": [],
   "source": [
    "xgb1 = xgb.XGBClassifier(learning_rate=0.02, n_estimators=600, objective='binary:logistic',\n",
    "                    silent=True, nthread=1)"
   ]
  },
  {
   "cell_type": "markdown",
   "metadata": {},
   "source": [
    "folds = 10\n",
    "param_comb = 20\n",
    "\n",
    "skf = StratifiedKFold(n_splits=folds, shuffle = True, random_state = 1001)\n",
    "\n",
    "random_search = RandomizedSearchCV(xgb1, param_distributions=params, n_iter=param_comb, scoring='roc_auc', n_jobs=4, cv=skf.split(X_train,y_train), verbose=3, random_state=1001 )\n",
    "\n",
    "# Here we go\n",
    "start_time = timer(None) # timing starts from this point for \"start_time\" variable\n",
    "random_search.fit(X_train, y_train)\n",
    "timer(start_time) # timing ends here for \"start_time\" variable"
   ]
  },
  {
   "cell_type": "markdown",
   "metadata": {
    "scrolled": false
   },
   "source": [
    "print('\\n All results:')\n",
    "print(random_search.cv_results_)\n",
    "print('\\n Best estimator:')\n",
    "print(random_search.best_estimator_)\n",
    "print('\\n Best normalized gini score for %d-fold search with %d parameter combinations:' % (folds, param_comb))\n",
    "print(random_search.best_score_ * 2 - 1)\n",
    "print('\\n Best hyperparameters:')\n",
    "print(random_search.best_params_)\n",
    "results = pd.DataFrame(random_search.cv_results_)\n",
    "results.to_csv('xgb-random-grid-search-results-01.csv', index=False)"
   ]
  },
  {
   "cell_type": "code",
   "execution_count": 18,
   "metadata": {},
   "outputs": [],
   "source": [
    "xgbf = xgb.XGBClassifier(base_score=0.5, booster='gbtree', colsample_bylevel=1,\n",
    "       colsample_bytree=0.8, gamma=10, learning_rate=0.01,\n",
    "       max_delta_step=0, max_depth=4, min_child_weight=10, missing=None,\n",
    "       n_estimators=700, n_jobs=1, nthread=1, objective='binary:logistic',\n",
    "       random_state=0, reg_alpha=0, reg_lambda=1, scale_pos_weight=10,\n",
    "       seed=None, silent=True, subsample=0.6)"
   ]
  },
  {
   "cell_type": "code",
   "execution_count": 19,
   "metadata": {},
   "outputs": [
    {
     "name": "stdout",
     "output_type": "stream",
     "text": [
      "Accuracy:  0.8125160958022147\n",
      "---Classification Report---\n",
      "             precision    recall  f1-score   support\n",
      "\n",
      "          0       0.98      0.82      0.89      3691\n",
      "          1       0.17      0.72      0.28       192\n",
      "\n",
      "avg / total       0.94      0.81      0.86      3883\n",
      "\n",
      "AUROC :0.7705405321502755\n"
     ]
    }
   ],
   "source": [
    "modelfit(xgbf)"
   ]
  },
  {
   "cell_type": "code",
   "execution_count": 20,
   "metadata": {
    "scrolled": true
   },
   "outputs": [
    {
     "data": {
      "text/plain": [
       "<matplotlib.axes._subplots.AxesSubplot at 0x7fb9675c2358>"
      ]
     },
     "execution_count": 20,
     "metadata": {},
     "output_type": "execute_result"
    },
    {
     "data": {
      "image/png": "[encoded data removed]",
      "text/plain": [
       "<Figure size 1440x720 with 1 Axes>"
      ]
     },
     "metadata": {},
     "output_type": "display_data"
    }
   ],
   "source": [
    "#ax =plot_importance(xgbf)\n",
    "#fig = ax.figure\n",
    "#fig.set_size_inches(10, 10)\n",
    "\n",
    "importances = pd.DataFrame({'feature':features_names,'importance':np.round(xgbf.feature_importances_,3)})\n",
    "importances = importances.sort_values('importance',ascending=False).set_index('feature')\n",
    "\n",
    "importances.plot.bar(figsize=(20,10))"
   ]
  },
  {
   "cell_type": "code",
   "execution_count": 21,
   "metadata": {},
   "outputs": [],
   "source": [
    "pred = (xgbf.predict_proba(z)[:,1])"
   ]
  },
  {
   "cell_type": "code",
   "execution_count": 22,
   "metadata": {},
   "outputs": [
    {
     "data": {
      "text/plain": [
       "(19415, 71)"
      ]
     },
     "execution_count": 22,
     "metadata": {},
     "output_type": "execute_result"
    }
   ],
   "source": [
    "z.shape"
   ]
  },
  {
   "cell_type": "code",
   "execution_count": 23,
   "metadata": {},
   "outputs": [
    {
     "name": "stdout",
     "output_type": "stream",
     "text": [
      "Cantidad de no conversiones: 15208\n",
      "Cantidad de conversiones: 4207\n"
     ]
    }
   ],
   "source": [
    "# Tomo las personas que tengo que predecir\n",
    "persons = test_set['person']\n",
    "\n",
    "\n",
    "\n",
    "submit = pd.DataFrame({'label': pred, 'person': persons})\n",
    "submit = submit[['person', 'label']]\n",
    "submit.to_csv('../submits/xgboost_gaby.csv', index=False)\n",
    "no_conversiones = submit.loc[submit['label'] < 0.5]['label'].count()\n",
    "print('Cantidad de no conversiones: ' + str(no_conversiones))\n",
    "\n",
    "conversiones = submit.loc[submit['label'] >= 0.5]['label'].count()\n",
    "print('Cantidad de conversiones: ' + str(conversiones))"
   ]
  },
  {
   "cell_type": "code",
   "execution_count": 24,
   "metadata": {},
   "outputs": [
    {
     "data": {
      "text/plain": [
       "(19415, 2)"
      ]
     },
     "execution_count": 24,
     "metadata": {},
     "output_type": "execute_result"
    }
   ],
   "source": [
    "submit.shape"
   ]
  }
 ],
 "metadata": {
  "kernelspec": {
   "display_name": "Python 2",
   "language": "python",
   "name": "python2"
  },
  "language_info": {
   "codemirror_mode": {
    "name": "ipython",
    "version": 2
   },
   "file_extension": ".py",
   "mimetype": "text/x-python",
   "name": "python",
   "nbconvert_exporter": "python",
   "pygments_lexer": "ipython2",
   "version": "2.7.15"
  }
 },
 "nbformat": 4,
 "nbformat_minor": 2
}
