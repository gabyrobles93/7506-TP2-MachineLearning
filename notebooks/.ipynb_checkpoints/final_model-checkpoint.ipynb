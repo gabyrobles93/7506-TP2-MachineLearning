{
 "cells": [
  {
   "cell_type": "code",
   "execution_count": 11,
   "metadata": {},
   "outputs": [],
   "source": [
    "# loading libraries\n",
    "\n",
    "import pandas as pd\n",
    "import pandas as pd\n",
    "import numpy as np\n",
    "from sklearn.cross_validation import train_test_split\n",
    "from sklearn.neighbors import KNeighborsClassifier\n",
    "from sklearn.metrics import accuracy_score\n",
    "from sklearn.metrics import log_loss\n",
    "import xgboost as xgb\n",
    "from xgboost import plot_importance\n",
    "from matplotlib import pyplot\n",
    "from sklearn.model_selection import StratifiedKFold\n",
    "from sklearn.model_selection import GridSearchCV as GridSearch\n",
    "from sklearn.ensemble import RandomForestClassifier\n",
    "from sklearn.metrics import classification_report, confusion_matrix, roc_curve, auc, precision_recall_curve,roc_curve\n"
   ]
  },
  {
   "cell_type": "markdown",
   "metadata": {},
   "source": [
    "### Entre cada uno de los integrantes del grupo fuimos obteniendo distintos features que nos parecieron interesantes y que consideramos que podrian servir para las predicciones.\n",
    "\n",
    "#### Leemos los distintos CSVs que contienen los features\n"
   ]
  },
  {
   "cell_type": "code",
   "execution_count": 12,
   "metadata": {},
   "outputs": [],
   "source": [
    "features_gaby = pd.read_csv('../features/features_gaby.csv')\n",
    "features_gonza = pd.read_csv('../features/features_gonza.csv').drop(columns='Unnamed: 0')\n",
    "features_ari = pd.read_csv('../features/features_ariel.csv')\n",
    "features_mati = pd.read_csv('../features/features_frecuencia.csv')\n",
    "labels_training_set = pd.read_csv('../dataset/labels_training_set.csv')\n",
    "test_set = pd.read_csv('../dataset/trocafone_kaggle_test.csv')\n",
    "features_gonza2 = pd.read_csv('../features/features_gonza2.csv')"
   ]
  },
  {
   "cell_type": "markdown",
   "metadata": {},
   "source": [
    "## Mergeamos todos los features en un solo dataframe de la forma <persona, feature1, feature2,...,...>"
   ]
  },
  {
   "cell_type": "code",
   "execution_count": 13,
   "metadata": {
    "scrolled": true
   },
   "outputs": [
    {
     "data": {
      "text/html": [
       "<div>\n",
       "<style scoped>\n",
       "    .dataframe tbody tr th:only-of-type {\n",
       "        vertical-align: middle;\n",
       "    }\n",
       "\n",
       "    .dataframe tbody tr th {\n",
       "        vertical-align: top;\n",
       "    }\n",
       "\n",
       "    .dataframe thead th {\n",
       "        text-align: right;\n",
       "    }\n",
       "</style>\n",
       "<table border=\"1\" class=\"dataframe\">\n",
       "  <thead>\n",
       "    <tr style=\"text-align: right;\">\n",
       "      <th></th>\n",
       "      <th>person</th>\n",
       "      <th>marca_favorita_apple</th>\n",
       "      <th>marca_favorita_asus</th>\n",
       "      <th>marca_favorita_lenovo</th>\n",
       "      <th>marca_favorita_lg</th>\n",
       "      <th>marca_favorita_motorola</th>\n",
       "      <th>marca_favorita_no tiene</th>\n",
       "      <th>marca_favorita_quantum</th>\n",
       "      <th>marca_favorita_samsung</th>\n",
       "      <th>marca_favorita_sony</th>\n",
       "      <th>...</th>\n",
       "      <th>cantidad_checkouts</th>\n",
       "      <th>cantidad_conversions</th>\n",
       "      <th>tasa_cc</th>\n",
       "      <th>cantidad_lead</th>\n",
       "      <th>cantidad_searchs</th>\n",
       "      <th>month_moda</th>\n",
       "      <th>favorite_device_Computer</th>\n",
       "      <th>favorite_device_Smartphone</th>\n",
       "      <th>favorite_device_Tablet</th>\n",
       "      <th>favorite_device_Unknown</th>\n",
       "    </tr>\n",
       "  </thead>\n",
       "  <tbody>\n",
       "    <tr>\n",
       "      <th>0</th>\n",
       "      <td>0008ed71</td>\n",
       "      <td>1</td>\n",
       "      <td>0</td>\n",
       "      <td>0</td>\n",
       "      <td>0</td>\n",
       "      <td>0</td>\n",
       "      <td>0</td>\n",
       "      <td>0</td>\n",
       "      <td>0</td>\n",
       "      <td>0</td>\n",
       "      <td>...</td>\n",
       "      <td>3.0</td>\n",
       "      <td>NaN</td>\n",
       "      <td>NaN</td>\n",
       "      <td>NaN</td>\n",
       "      <td>NaN</td>\n",
       "      <td>5</td>\n",
       "      <td>1</td>\n",
       "      <td>0</td>\n",
       "      <td>0</td>\n",
       "      <td>0</td>\n",
       "    </tr>\n",
       "    <tr>\n",
       "      <th>1</th>\n",
       "      <td>00091926</td>\n",
       "      <td>1</td>\n",
       "      <td>0</td>\n",
       "      <td>0</td>\n",
       "      <td>0</td>\n",
       "      <td>0</td>\n",
       "      <td>0</td>\n",
       "      <td>0</td>\n",
       "      <td>0</td>\n",
       "      <td>0</td>\n",
       "      <td>...</td>\n",
       "      <td>2.0</td>\n",
       "      <td>NaN</td>\n",
       "      <td>NaN</td>\n",
       "      <td>NaN</td>\n",
       "      <td>NaN</td>\n",
       "      <td>5</td>\n",
       "      <td>1</td>\n",
       "      <td>0</td>\n",
       "      <td>0</td>\n",
       "      <td>0</td>\n",
       "    </tr>\n",
       "    <tr>\n",
       "      <th>2</th>\n",
       "      <td>00091a7a</td>\n",
       "      <td>1</td>\n",
       "      <td>0</td>\n",
       "      <td>0</td>\n",
       "      <td>0</td>\n",
       "      <td>0</td>\n",
       "      <td>0</td>\n",
       "      <td>0</td>\n",
       "      <td>0</td>\n",
       "      <td>0</td>\n",
       "      <td>...</td>\n",
       "      <td>NaN</td>\n",
       "      <td>NaN</td>\n",
       "      <td>NaN</td>\n",
       "      <td>NaN</td>\n",
       "      <td>NaN</td>\n",
       "      <td>3</td>\n",
       "      <td>0</td>\n",
       "      <td>1</td>\n",
       "      <td>0</td>\n",
       "      <td>0</td>\n",
       "    </tr>\n",
       "    <tr>\n",
       "      <th>3</th>\n",
       "      <td>000ba417</td>\n",
       "      <td>0</td>\n",
       "      <td>0</td>\n",
       "      <td>0</td>\n",
       "      <td>0</td>\n",
       "      <td>0</td>\n",
       "      <td>0</td>\n",
       "      <td>0</td>\n",
       "      <td>1</td>\n",
       "      <td>0</td>\n",
       "      <td>...</td>\n",
       "      <td>6.0</td>\n",
       "      <td>1.0</td>\n",
       "      <td>0.166667</td>\n",
       "      <td>NaN</td>\n",
       "      <td>NaN</td>\n",
       "      <td>5</td>\n",
       "      <td>1</td>\n",
       "      <td>0</td>\n",
       "      <td>0</td>\n",
       "      <td>0</td>\n",
       "    </tr>\n",
       "    <tr>\n",
       "      <th>4</th>\n",
       "      <td>000c79fe</td>\n",
       "      <td>1</td>\n",
       "      <td>0</td>\n",
       "      <td>0</td>\n",
       "      <td>0</td>\n",
       "      <td>0</td>\n",
       "      <td>0</td>\n",
       "      <td>0</td>\n",
       "      <td>0</td>\n",
       "      <td>0</td>\n",
       "      <td>...</td>\n",
       "      <td>1.0</td>\n",
       "      <td>NaN</td>\n",
       "      <td>NaN</td>\n",
       "      <td>NaN</td>\n",
       "      <td>9.0</td>\n",
       "      <td>5</td>\n",
       "      <td>0</td>\n",
       "      <td>1</td>\n",
       "      <td>0</td>\n",
       "      <td>0</td>\n",
       "    </tr>\n",
       "  </tbody>\n",
       "</table>\n",
       "<p>5 rows × 58 columns</p>\n",
       "</div>"
      ],
      "text/plain": [
       "     person  marca_favorita_apple  marca_favorita_asus  marca_favorita_lenovo  \\\n",
       "0  0008ed71                     1                    0                      0   \n",
       "1  00091926                     1                    0                      0   \n",
       "2  00091a7a                     1                    0                      0   \n",
       "3  000ba417                     0                    0                      0   \n",
       "4  000c79fe                     1                    0                      0   \n",
       "\n",
       "   marca_favorita_lg  marca_favorita_motorola  marca_favorita_no tiene  \\\n",
       "0                  0                        0                        0   \n",
       "1                  0                        0                        0   \n",
       "2                  0                        0                        0   \n",
       "3                  0                        0                        0   \n",
       "4                  0                        0                        0   \n",
       "\n",
       "   marca_favorita_quantum  marca_favorita_samsung  marca_favorita_sony  \\\n",
       "0                       0                       0                    0   \n",
       "1                       0                       0                    0   \n",
       "2                       0                       0                    0   \n",
       "3                       0                       1                    0   \n",
       "4                       0                       0                    0   \n",
       "\n",
       "            ...             cantidad_checkouts  cantidad_conversions  \\\n",
       "0           ...                            3.0                   NaN   \n",
       "1           ...                            2.0                   NaN   \n",
       "2           ...                            NaN                   NaN   \n",
       "3           ...                            6.0                   1.0   \n",
       "4           ...                            1.0                   NaN   \n",
       "\n",
       "    tasa_cc  cantidad_lead  cantidad_searchs  month_moda  \\\n",
       "0       NaN            NaN               NaN           5   \n",
       "1       NaN            NaN               NaN           5   \n",
       "2       NaN            NaN               NaN           3   \n",
       "3  0.166667            NaN               NaN           5   \n",
       "4       NaN            NaN               9.0           5   \n",
       "\n",
       "   favorite_device_Computer  favorite_device_Smartphone  \\\n",
       "0                         1                           0   \n",
       "1                         1                           0   \n",
       "2                         0                           1   \n",
       "3                         1                           0   \n",
       "4                         0                           1   \n",
       "\n",
       "   favorite_device_Tablet  favorite_device_Unknown  \n",
       "0                       0                        0  \n",
       "1                       0                        0  \n",
       "2                       0                        0  \n",
       "3                       0                        0  \n",
       "4                       0                        0  \n",
       "\n",
       "[5 rows x 58 columns]"
      ]
     },
     "execution_count": 13,
     "metadata": {},
     "output_type": "execute_result"
    }
   ],
   "source": [
    "#model_df = pd.merge(features_gaby, features_gonza, how='inner', on='person')\n",
    "model_df = pd.merge(features_gaby, features_ari, how='inner', on='person')\n",
    "model_df = pd.merge(model_df, features_gonza, how='inner', on='person')\n",
    "model_df = pd.merge(model_df, features_gonza2, how='inner', on='person')\n",
    "#model_df = pd.merge(model_df, features_mati, how='inner', on='person')\n",
    "model_df.head()"
   ]
  },
  {
   "cell_type": "code",
   "execution_count": 14,
   "metadata": {},
   "outputs": [],
   "source": [
    "model_df.fillna(value=0, inplace=True)"
   ]
  },
  {
   "cell_type": "markdown",
   "metadata": {},
   "source": [
    "## Al dataframe de las personas con sus features le agregamos los labels para saber si cada persona o no realizo una compra.\n",
    "\n",
    "## Tambien tenemos un dataframe de test, el cual contiene todas las personas que queremos predecir y sus features ( queremos predecir sus labels)"
   ]
  },
  {
   "cell_type": "code",
   "execution_count": 15,
   "metadata": {},
   "outputs": [],
   "source": [
    "training_set = pd.merge(model_df, labels_training_set, how='inner', on='person')\n",
    "test_set = pd.merge(model_df, test_set, how='inner', on='person')\n",
    "#training_set.drop(columns= 'Unnamed: 0', inplace=True)"
   ]
  },
  {
   "cell_type": "markdown",
   "metadata": {},
   "source": [
    "## Como se puede observar en nuestro set de entrenamiento predomina el label 0, la mayoria de las personas no realizo una conversion, esto debemos balancearlo."
   ]
  },
  {
   "cell_type": "code",
   "execution_count": 16,
   "metadata": {
    "scrolled": false
   },
   "outputs": [
    {
     "data": {
      "text/plain": [
       "0    18434\n",
       "1      980\n",
       "Name: label, dtype: int64"
      ]
     },
     "execution_count": 16,
     "metadata": {},
     "output_type": "execute_result"
    }
   ],
   "source": [
    "training_set['label'].value_counts()"
   ]
  },
  {
   "cell_type": "markdown",
   "metadata": {},
   "source": [
    "## Elimino 17500 filas que contienen el label 0 para balancear el set de entrenamiento.\n",
    "\n",
    "# <font color='red'> Preguntar de cual es la mejor manera de hacer esto</font>"
   ]
  },
  {
   "cell_type": "code",
   "execution_count": 17,
   "metadata": {},
   "outputs": [],
   "source": [
    "#training_set.sort_values(by='month_moda', ascending=True, inplace=True)\n",
    "#r_training_set = training_set.drop(training_set[training_set.label.eq(0)].head(17500).index)"
   ]
  },
  {
   "cell_type": "code",
   "execution_count": 18,
   "metadata": {
    "scrolled": true
   },
   "outputs": [],
   "source": [
    "#r_training_set = training_set.drop(training_set[training_set.label.eq(0)].sample(17454).index)\n",
    "#r_training_set['label'].value_counts()"
   ]
  },
  {
   "cell_type": "code",
   "execution_count": 19,
   "metadata": {
    "scrolled": true
   },
   "outputs": [
    {
     "name": "stdout",
     "output_type": "stream",
     "text": [
      "<class 'pandas.core.frame.DataFrame'>\n",
      "Int64Index: 19414 entries, 0 to 19413\n",
      "Data columns (total 59 columns):\n",
      "person                                   19414 non-null object\n",
      "marca_favorita_apple                     19414 non-null int64\n",
      "marca_favorita_asus                      19414 non-null int64\n",
      "marca_favorita_lenovo                    19414 non-null int64\n",
      "marca_favorita_lg                        19414 non-null int64\n",
      "marca_favorita_motorola                  19414 non-null int64\n",
      "marca_favorita_no tiene                  19414 non-null int64\n",
      "marca_favorita_quantum                   19414 non-null int64\n",
      "marca_favorita_samsung                   19414 non-null int64\n",
      "marca_favorita_sony                      19414 non-null int64\n",
      "nivel_de_actividad_Muy Bajo              19414 non-null int64\n",
      "nivel_de_actividad_Bajo                  19414 non-null int64\n",
      "nivel_de_actividad_Medio                 19414 non-null int64\n",
      "nivel_de_actividad_Alto                  19414 non-null int64\n",
      "nivel_de_actividad_Muy Alto              19414 non-null int64\n",
      "Unnamed: 0_x                             19414 non-null int64\n",
      "cant_accesos_north                       19414 non-null int64\n",
      "cant_accesos_center_west                 19414 non-null int64\n",
      "cant_accesos_southeast                   19414 non-null int64\n",
      "cant_accesos_south                       19414 non-null int64\n",
      "cant_accesos_northeast                   19414 non-null int64\n",
      "time_first_event                         19414 non-null object\n",
      "time_last_event                          19414 non-null object\n",
      "how_long_ago_was_first_event             19414 non-null object\n",
      "how_long_ago_was_last_event              19414 non-null object\n",
      "first_and_last_event_distance            19414 non-null object\n",
      "cant_total_eventos                       19414 non-null int64\n",
      "first_and_last_event_distance_in_days    19414 non-null int64\n",
      "mean_events_per_day                      19414 non-null float64\n",
      "cant_ev_madrugada                        19414 non-null int64\n",
      "cant_ev_tarde                            19414 non-null int64\n",
      "cant_ev_manana                           19414 non-null int64\n",
      "cant_ev_noche                            19414 non-null int64\n",
      "franja_horaria_moda                      19414 non-null object\n",
      "cant_muy_buenos                          19414 non-null int64\n",
      "cant_excelentes                          19414 non-null int64\n",
      "cant_nuevos                              19414 non-null int64\n",
      "cant_buenos                              19414 non-null int64\n",
      "condicion_de_producto_moda               19414 non-null object\n",
      "has_converted_before                     19414 non-null float64\n",
      "most_viewed_sku                          19414 non-null float64\n",
      "most_viewed_color_Preto                  19414 non-null int64\n",
      "most_viewed_color_Branco                 19414 non-null int64\n",
      "most_viewed_color_Dourado                19414 non-null int64\n",
      "region_brasil_Sao Paulo                  19414 non-null int64\n",
      "region_brasil_Unknown                    19414 non-null int64\n",
      "region_brasil_Minas Gerais               19414 non-null int64\n",
      "Unnamed: 0_y                             19414 non-null int64\n",
      "cantidad_checkouts                       19414 non-null float64\n",
      "cantidad_conversions                     19414 non-null float64\n",
      "tasa_cc                                  19414 non-null float64\n",
      "cantidad_lead                            19414 non-null float64\n",
      "cantidad_searchs                         19414 non-null float64\n",
      "month_moda                               19414 non-null int64\n",
      "favorite_device_Computer                 19414 non-null int64\n",
      "favorite_device_Smartphone               19414 non-null int64\n",
      "favorite_device_Tablet                   19414 non-null int64\n",
      "favorite_device_Unknown                  19414 non-null int64\n",
      "label                                    19414 non-null int64\n",
      "dtypes: float64(8), int64(43), object(8)\n",
      "memory usage: 8.9+ MB\n"
     ]
    }
   ],
   "source": [
    "training_set.info()"
   ]
  },
  {
   "cell_type": "markdown",
   "metadata": {},
   "source": [
    "## En el siguiente array incluimos los features que mas aportan para las predicciones"
   ]
  },
  {
   "cell_type": "code",
   "execution_count": 20,
   "metadata": {},
   "outputs": [],
   "source": [
    "features = ['cant_total_eventos', #f1\n",
    "            'marca_favorita_apple',#f2\n",
    "            'mean_events_per_day',#f3\n",
    "            'has_converted_before',#f4\n",
    "            'most_viewed_sku',#f5\n",
    "            'most_viewed_color_Preto',#f6\n",
    "            'most_viewed_color_Branco',#f7\n",
    "            'most_viewed_color_Dourado', #f8\n",
    "            'region_brasil_Sao Paulo',#f9\n",
    "            #'region_brasil_Unknown',#f10\n",
    "            #'region_brasil_Minas Gerais',#f11\n",
    "            'marca_favorita_samsung',#f12\n",
    "            'cant_ev_noche',#f13\n",
    "            'cant_ev_manana',#f14\n",
    "            'cant_ev_tarde',#f15\n",
    "            'cant_ev_madrugada',#f16\n",
    "            'cant_buenos',#f17\n",
    "            'cant_muy_buenos',#f18\n",
    "            'cant_excelentes',#f19\n",
    "            #'nivel_de_actividad_Muy Bajo',#f20\n",
    "            #'nivel_de_actividad_Muy Alto',#f21\n",
    "            #'nivel_de_actividad_Bajo',#f22\n",
    "            #'nivel_de_actividad_Medio',#f23\n",
    "            #'nivel_de_actividad_Alto',#f24\n",
    "            'favorite_device_Smartphone',#f25\n",
    "            'favorite_device_Computer',#f26\n",
    "            'cantidad_checkouts',#f27\n",
    "            'cantidad_conversions',#f28\n",
    "            'tasa_cc',\n",
    "            'cantidad_lead',\n",
    "            'cantidad_searchs',\n",
    "            'first_and_last_event_distance_in_days'\n",
    "            #'month_moda'\n",
    "           ]"
   ]
  },
  {
   "cell_type": "markdown",
   "metadata": {},
   "source": [
    "## Creo dos arrays el llamado X es generado a partir de mi dataframe de entrenamiento y los features que quiero tener en cuenta\n",
    "## Y el segundo Y es generado a partir de sus labels"
   ]
  },
  {
   "cell_type": "code",
   "execution_count": 21,
   "metadata": {},
   "outputs": [],
   "source": [
    "x = np.array(training_set[features])\n",
    "y = np.array(training_set['label'])"
   ]
  },
  {
   "cell_type": "markdown",
   "metadata": {},
   "source": [
    "## Usamos train_test_split para dividir el dataframe de entrenamiento en uno de test y otro de entrenamiento"
   ]
  },
  {
   "cell_type": "code",
   "execution_count": 22,
   "metadata": {
    "scrolled": true
   },
   "outputs": [],
   "source": [
    "X_train, X_test, y_train, y_test = train_test_split(x,y, test_size=0.20)"
   ]
  },
  {
   "cell_type": "markdown",
   "metadata": {},
   "source": [
    "## El primer algoritmo que utilizamos es KNN\n",
    "\n",
    "### En el siguiente loop iremos probando KNN con distintos Ks y nos quedaremos con la que obtuvimos mayor accuracy."
   ]
  },
  {
   "cell_type": "code",
   "execution_count": 23,
   "metadata": {},
   "outputs": [],
   "source": [
    "best_accuracy = 0\n",
    "worst_accuracy = 1\n",
    "best_k = 1\n",
    "worst_k = 0\n",
    "best_prediction = []\n",
    "#acumulated_acuracy = 0\n",
    "#loop_count = 0;\n",
    "\n",
    "for i in xrange(1,203,2):\n",
    "    knn = KNeighborsClassifier(n_neighbors=i)\n",
    "    knn.fit(X_train, y_train)\n",
    "    pred = (knn.predict_proba(X_test)[:,1])\n",
    "    accuracy = accuracy_score(y_test,pred.round(), normalize=False)\n",
    "    if (accuracy > best_accuracy) :\n",
    "        best_k = i\n",
    "        best_accuracy = accuracy\n",
    "        best_prediction = pred\n",
    "    if (accuracy < worst_accuracy) : \n",
    "        worst_accuracy = accuracy\n",
    "        worst_k = i\n",
    "    #loop_count += 1\n",
    "    #acumulated_acuracy += accuracy\n",
    "    #X_train, X_test, y_train, y_test = train_test_split(x,y, test_size=0.10)\n",
    "        "
   ]
  },
  {
   "cell_type": "code",
   "execution_count": 24,
   "metadata": {
    "scrolled": true
   },
   "outputs": [
    {
     "name": "stdout",
     "output_type": "stream",
     "text": [
      "Best accuracy: 0.9518413597733711 with k=9\n",
      "Worst accuracy: 0.000257532835437 with k= 0\n"
     ]
    }
   ],
   "source": [
    "print 'Best accuracy: ' + str(best_accuracy / float(best_prediction.size)) + ' with k='  + str(best_k)\n",
    "print 'Worst accuracy: ' + str(worst_accuracy / float(best_prediction.size)) + ' with k= ' + str(worst_k)\n",
    "#print \"Median accuracy \" + str(acumulated_acuracy / (float(loop_count) * float(best_prediction.size)))"
   ]
  },
  {
   "cell_type": "markdown",
   "metadata": {},
   "source": [
    "## Finalmente corremos KNN con el mejor K obtenido en el entrenamiento y el set que queremos predecir"
   ]
  },
  {
   "cell_type": "code",
   "execution_count": 25,
   "metadata": {},
   "outputs": [],
   "source": [
    "z = np.array(test_set[features])\n",
    "knn = KNeighborsClassifier(n_neighbors=best_k)\n",
    "knn.fit(x,y)\n",
    "pred = knn.predict_proba(z)[:,1]"
   ]
  },
  {
   "cell_type": "markdown",
   "metadata": {},
   "source": [
    "## Le agregamos las predicciones a los IDs de las personas y lo guardamos en un archivo.\n"
   ]
  },
  {
   "cell_type": "code",
   "execution_count": 26,
   "metadata": {
    "scrolled": true
   },
   "outputs": [],
   "source": [
    "persons = test_set['person']\n",
    "submit = pd.DataFrame({'label': pred, 'person': persons})\n",
    "submit = submit[['person', 'label']]\n",
    "submit.to_csv('../submits/knn.csv', index=False)"
   ]
  },
  {
   "cell_type": "markdown",
   "metadata": {},
   "source": [
    "## Revisamos la cantidad de conversiones y no conversiones predichas\n",
    "\n",
    "### Se tienen que repartir en un 50/50"
   ]
  },
  {
   "cell_type": "code",
   "execution_count": 27,
   "metadata": {
    "scrolled": true
   },
   "outputs": [
    {
     "name": "stdout",
     "output_type": "stream",
     "text": [
      "Cantidad de no conversiones: 19411\n",
      "Cantidad de conversiones: 4\n"
     ]
    }
   ],
   "source": [
    "no_conversiones = submit.loc[submit['label'] < 0.5]['label'].count()\n",
    "print 'Cantidad de no conversiones: ' + str(no_conversiones)\n",
    "\n",
    "conversiones = submit.loc[submit['label'] >= 0.5]['label'].count()\n",
    "print 'Cantidad de conversiones: ' + str(conversiones)"
   ]
  },
  {
   "cell_type": "markdown",
   "metadata": {},
   "source": [
    "## XGBoost"
   ]
  },
  {
   "cell_type": "markdown",
   "metadata": {},
   "source": [
    "### En los siguientes arrays, ponemos los posibles hiperparametros que concideramos que mejor funcionarian para las predicciones.\n",
    "\n",
    "### Con grid search probamos todas las combinaciones posibles y nos quedamos con la que mayor accuracy nos dio."
   ]
  },
  {
   "cell_type": "code",
   "execution_count": 28,
   "metadata": {},
   "outputs": [],
   "source": [
    "#n_estimators = [100, 200, 1500, 2000]\n",
    "max_depth = [2, 4, 6, 8]\n",
    "scale_pos_weight = [4, 6, 8, 18]\n",
    "\n",
    "#learning_rate = [0.0001, 0.001, 0.01]\n",
    "#subsample = [0.3, 0.5, 0.7]\n",
    "#gamma = [0.6, 0.7]\n",
    "#colsample_bytree = [0.5, 0.7]\n",
    "\n",
    "#param_grid = dict(max_depth=max_depth, n_estimators=n_estimators,\n",
    "#                 learning_rate=learning_rate, subsample=subsample,\n",
    "#                 gamma=gamma)\n",
    "\n",
    "param_grid = dict(max_depth=max_depth, scale_pos_weight=scale_pos_weight)\n"
   ]
  },
  {
   "cell_type": "code",
   "execution_count": 29,
   "metadata": {
    "scrolled": true
   },
   "outputs": [
    {
     "name": "stdout",
     "output_type": "stream",
     "text": [
      "Fitting 2 folds for each of 16 candidates, totalling 32 fits\n"
     ]
    },
    {
     "ename": "KeyboardInterrupt",
     "evalue": "",
     "output_type": "error",
     "traceback": [
      "\u001b[0;31m---------------------------------------------------------------------------\u001b[0m",
      "\u001b[0;31mKeyboardInterrupt\u001b[0m                         Traceback (most recent call last)",
      "\u001b[0;32m<ipython-input-29-b2fd500a82f9>\u001b[0m in \u001b[0;36m<module>\u001b[0;34m()\u001b[0m\n\u001b[1;32m      2\u001b[0m \u001b[0mkfold\u001b[0m \u001b[0;34m=\u001b[0m \u001b[0mStratifiedKFold\u001b[0m\u001b[0;34m(\u001b[0m\u001b[0mn_splits\u001b[0m \u001b[0;34m=\u001b[0m \u001b[0;36m2\u001b[0m\u001b[0;34m,\u001b[0m \u001b[0mshuffle\u001b[0m\u001b[0;34m=\u001b[0m\u001b[0mTrue\u001b[0m\u001b[0;34m,\u001b[0m \u001b[0mrandom_state\u001b[0m\u001b[0;34m=\u001b[0m\u001b[0;36m7\u001b[0m\u001b[0;34m)\u001b[0m\u001b[0;34m\u001b[0m\u001b[0m\n\u001b[1;32m      3\u001b[0m \u001b[0mgrid_search\u001b[0m \u001b[0;34m=\u001b[0m \u001b[0mGridSearch\u001b[0m\u001b[0;34m(\u001b[0m\u001b[0mxgboost\u001b[0m\u001b[0;34m,\u001b[0m \u001b[0mparam_grid\u001b[0m\u001b[0;34m,\u001b[0m \u001b[0mscoring\u001b[0m\u001b[0;34m=\u001b[0m\u001b[0;34m\"neg_log_loss\"\u001b[0m\u001b[0;34m,\u001b[0m \u001b[0mn_jobs\u001b[0m \u001b[0;34m=\u001b[0m \u001b[0;36m1\u001b[0m\u001b[0;34m,\u001b[0m \u001b[0mcv\u001b[0m\u001b[0;34m=\u001b[0m\u001b[0mkfold\u001b[0m\u001b[0;34m,\u001b[0m \u001b[0mverbose\u001b[0m\u001b[0;34m=\u001b[0m\u001b[0;36m1\u001b[0m\u001b[0;34m)\u001b[0m\u001b[0;34m\u001b[0m\u001b[0m\n\u001b[0;32m----> 4\u001b[0;31m \u001b[0mresult\u001b[0m \u001b[0;34m=\u001b[0m \u001b[0mgrid_search\u001b[0m\u001b[0;34m.\u001b[0m\u001b[0mfit\u001b[0m\u001b[0;34m(\u001b[0m\u001b[0mx\u001b[0m\u001b[0;34m,\u001b[0m\u001b[0my\u001b[0m\u001b[0;34m)\u001b[0m\u001b[0;34m\u001b[0m\u001b[0m\n\u001b[0m",
      "\u001b[0;32m/home/gonzalodiz/anaconda2/lib/python2.7/site-packages/sklearn/model_selection/_search.pyc\u001b[0m in \u001b[0;36mfit\u001b[0;34m(self, X, y, groups, **fit_params)\u001b[0m\n\u001b[1;32m    638\u001b[0m                                   error_score=self.error_score)\n\u001b[1;32m    639\u001b[0m           for parameters, (train, test) in product(candidate_params,\n\u001b[0;32m--> 640\u001b[0;31m                                                    cv.split(X, y, groups)))\n\u001b[0m\u001b[1;32m    641\u001b[0m \u001b[0;34m\u001b[0m\u001b[0m\n\u001b[1;32m    642\u001b[0m         \u001b[0;31m# if one choose to see train score, \"out\" will contain train score info\u001b[0m\u001b[0;34m\u001b[0m\u001b[0;34m\u001b[0m\u001b[0m\n",
      "\u001b[0;32m/home/gonzalodiz/anaconda2/lib/python2.7/site-packages/sklearn/externals/joblib/parallel.pyc\u001b[0m in \u001b[0;36m__call__\u001b[0;34m(self, iterable)\u001b[0m\n\u001b[1;32m    777\u001b[0m             \u001b[0;31m# was dispatched. In particular this covers the edge\u001b[0m\u001b[0;34m\u001b[0m\u001b[0;34m\u001b[0m\u001b[0m\n\u001b[1;32m    778\u001b[0m             \u001b[0;31m# case of Parallel used with an exhausted iterator.\u001b[0m\u001b[0;34m\u001b[0m\u001b[0;34m\u001b[0m\u001b[0m\n\u001b[0;32m--> 779\u001b[0;31m             \u001b[0;32mwhile\u001b[0m \u001b[0mself\u001b[0m\u001b[0;34m.\u001b[0m\u001b[0mdispatch_one_batch\u001b[0m\u001b[0;34m(\u001b[0m\u001b[0miterator\u001b[0m\u001b[0;34m)\u001b[0m\u001b[0;34m:\u001b[0m\u001b[0;34m\u001b[0m\u001b[0m\n\u001b[0m\u001b[1;32m    780\u001b[0m                 \u001b[0mself\u001b[0m\u001b[0;34m.\u001b[0m\u001b[0m_iterating\u001b[0m \u001b[0;34m=\u001b[0m \u001b[0mTrue\u001b[0m\u001b[0;34m\u001b[0m\u001b[0m\n\u001b[1;32m    781\u001b[0m             \u001b[0;32melse\u001b[0m\u001b[0;34m:\u001b[0m\u001b[0;34m\u001b[0m\u001b[0m\n",
      "\u001b[0;32m/home/gonzalodiz/anaconda2/lib/python2.7/site-packages/sklearn/externals/joblib/parallel.pyc\u001b[0m in \u001b[0;36mdispatch_one_batch\u001b[0;34m(self, iterator)\u001b[0m\n\u001b[1;32m    623\u001b[0m                 \u001b[0;32mreturn\u001b[0m \u001b[0mFalse\u001b[0m\u001b[0;34m\u001b[0m\u001b[0m\n\u001b[1;32m    624\u001b[0m             \u001b[0;32melse\u001b[0m\u001b[0;34m:\u001b[0m\u001b[0;34m\u001b[0m\u001b[0m\n\u001b[0;32m--> 625\u001b[0;31m                 \u001b[0mself\u001b[0m\u001b[0;34m.\u001b[0m\u001b[0m_dispatch\u001b[0m\u001b[0;34m(\u001b[0m\u001b[0mtasks\u001b[0m\u001b[0;34m)\u001b[0m\u001b[0;34m\u001b[0m\u001b[0m\n\u001b[0m\u001b[1;32m    626\u001b[0m                 \u001b[0;32mreturn\u001b[0m \u001b[0mTrue\u001b[0m\u001b[0;34m\u001b[0m\u001b[0m\n\u001b[1;32m    627\u001b[0m \u001b[0;34m\u001b[0m\u001b[0m\n",
      "\u001b[0;32m/home/gonzalodiz/anaconda2/lib/python2.7/site-packages/sklearn/externals/joblib/parallel.pyc\u001b[0m in \u001b[0;36m_dispatch\u001b[0;34m(self, batch)\u001b[0m\n\u001b[1;32m    586\u001b[0m         \u001b[0mdispatch_timestamp\u001b[0m \u001b[0;34m=\u001b[0m \u001b[0mtime\u001b[0m\u001b[0;34m.\u001b[0m\u001b[0mtime\u001b[0m\u001b[0;34m(\u001b[0m\u001b[0;34m)\u001b[0m\u001b[0;34m\u001b[0m\u001b[0m\n\u001b[1;32m    587\u001b[0m         \u001b[0mcb\u001b[0m \u001b[0;34m=\u001b[0m \u001b[0mBatchCompletionCallBack\u001b[0m\u001b[0;34m(\u001b[0m\u001b[0mdispatch_timestamp\u001b[0m\u001b[0;34m,\u001b[0m \u001b[0mlen\u001b[0m\u001b[0;34m(\u001b[0m\u001b[0mbatch\u001b[0m\u001b[0;34m)\u001b[0m\u001b[0;34m,\u001b[0m \u001b[0mself\u001b[0m\u001b[0;34m)\u001b[0m\u001b[0;34m\u001b[0m\u001b[0m\n\u001b[0;32m--> 588\u001b[0;31m         \u001b[0mjob\u001b[0m \u001b[0;34m=\u001b[0m \u001b[0mself\u001b[0m\u001b[0;34m.\u001b[0m\u001b[0m_backend\u001b[0m\u001b[0;34m.\u001b[0m\u001b[0mapply_async\u001b[0m\u001b[0;34m(\u001b[0m\u001b[0mbatch\u001b[0m\u001b[0;34m,\u001b[0m \u001b[0mcallback\u001b[0m\u001b[0;34m=\u001b[0m\u001b[0mcb\u001b[0m\u001b[0;34m)\u001b[0m\u001b[0;34m\u001b[0m\u001b[0m\n\u001b[0m\u001b[1;32m    589\u001b[0m         \u001b[0mself\u001b[0m\u001b[0;34m.\u001b[0m\u001b[0m_jobs\u001b[0m\u001b[0;34m.\u001b[0m\u001b[0mappend\u001b[0m\u001b[0;34m(\u001b[0m\u001b[0mjob\u001b[0m\u001b[0;34m)\u001b[0m\u001b[0;34m\u001b[0m\u001b[0m\n\u001b[1;32m    590\u001b[0m \u001b[0;34m\u001b[0m\u001b[0m\n",
      "\u001b[0;32m/home/gonzalodiz/anaconda2/lib/python2.7/site-packages/sklearn/externals/joblib/_parallel_backends.pyc\u001b[0m in \u001b[0;36mapply_async\u001b[0;34m(self, func, callback)\u001b[0m\n\u001b[1;32m    109\u001b[0m     \u001b[0;32mdef\u001b[0m \u001b[0mapply_async\u001b[0m\u001b[0;34m(\u001b[0m\u001b[0mself\u001b[0m\u001b[0;34m,\u001b[0m \u001b[0mfunc\u001b[0m\u001b[0;34m,\u001b[0m \u001b[0mcallback\u001b[0m\u001b[0;34m=\u001b[0m\u001b[0mNone\u001b[0m\u001b[0;34m)\u001b[0m\u001b[0;34m:\u001b[0m\u001b[0;34m\u001b[0m\u001b[0m\n\u001b[1;32m    110\u001b[0m         \u001b[0;34m\"\"\"Schedule a func to be run\"\"\"\u001b[0m\u001b[0;34m\u001b[0m\u001b[0m\n\u001b[0;32m--> 111\u001b[0;31m         \u001b[0mresult\u001b[0m \u001b[0;34m=\u001b[0m \u001b[0mImmediateResult\u001b[0m\u001b[0;34m(\u001b[0m\u001b[0mfunc\u001b[0m\u001b[0;34m)\u001b[0m\u001b[0;34m\u001b[0m\u001b[0m\n\u001b[0m\u001b[1;32m    112\u001b[0m         \u001b[0;32mif\u001b[0m \u001b[0mcallback\u001b[0m\u001b[0;34m:\u001b[0m\u001b[0;34m\u001b[0m\u001b[0m\n\u001b[1;32m    113\u001b[0m             \u001b[0mcallback\u001b[0m\u001b[0;34m(\u001b[0m\u001b[0mresult\u001b[0m\u001b[0;34m)\u001b[0m\u001b[0;34m\u001b[0m\u001b[0m\n",
      "\u001b[0;32m/home/gonzalodiz/anaconda2/lib/python2.7/site-packages/sklearn/externals/joblib/_parallel_backends.pyc\u001b[0m in \u001b[0;36m__init__\u001b[0;34m(self, batch)\u001b[0m\n\u001b[1;32m    330\u001b[0m         \u001b[0;31m# Don't delay the application, to avoid keeping the input\u001b[0m\u001b[0;34m\u001b[0m\u001b[0;34m\u001b[0m\u001b[0m\n\u001b[1;32m    331\u001b[0m         \u001b[0;31m# arguments in memory\u001b[0m\u001b[0;34m\u001b[0m\u001b[0;34m\u001b[0m\u001b[0m\n\u001b[0;32m--> 332\u001b[0;31m         \u001b[0mself\u001b[0m\u001b[0;34m.\u001b[0m\u001b[0mresults\u001b[0m \u001b[0;34m=\u001b[0m \u001b[0mbatch\u001b[0m\u001b[0;34m(\u001b[0m\u001b[0;34m)\u001b[0m\u001b[0;34m\u001b[0m\u001b[0m\n\u001b[0m\u001b[1;32m    333\u001b[0m \u001b[0;34m\u001b[0m\u001b[0m\n\u001b[1;32m    334\u001b[0m     \u001b[0;32mdef\u001b[0m \u001b[0mget\u001b[0m\u001b[0;34m(\u001b[0m\u001b[0mself\u001b[0m\u001b[0;34m)\u001b[0m\u001b[0;34m:\u001b[0m\u001b[0;34m\u001b[0m\u001b[0m\n",
      "\u001b[0;32m/home/gonzalodiz/anaconda2/lib/python2.7/site-packages/sklearn/externals/joblib/parallel.pyc\u001b[0m in \u001b[0;36m__call__\u001b[0;34m(self)\u001b[0m\n\u001b[1;32m    129\u001b[0m \u001b[0;34m\u001b[0m\u001b[0m\n\u001b[1;32m    130\u001b[0m     \u001b[0;32mdef\u001b[0m \u001b[0m__call__\u001b[0m\u001b[0;34m(\u001b[0m\u001b[0mself\u001b[0m\u001b[0;34m)\u001b[0m\u001b[0;34m:\u001b[0m\u001b[0;34m\u001b[0m\u001b[0m\n\u001b[0;32m--> 131\u001b[0;31m         \u001b[0;32mreturn\u001b[0m \u001b[0;34m[\u001b[0m\u001b[0mfunc\u001b[0m\u001b[0;34m(\u001b[0m\u001b[0;34m*\u001b[0m\u001b[0margs\u001b[0m\u001b[0;34m,\u001b[0m \u001b[0;34m**\u001b[0m\u001b[0mkwargs\u001b[0m\u001b[0;34m)\u001b[0m \u001b[0;32mfor\u001b[0m \u001b[0mfunc\u001b[0m\u001b[0;34m,\u001b[0m \u001b[0margs\u001b[0m\u001b[0;34m,\u001b[0m \u001b[0mkwargs\u001b[0m \u001b[0;32min\u001b[0m \u001b[0mself\u001b[0m\u001b[0;34m.\u001b[0m\u001b[0mitems\u001b[0m\u001b[0;34m]\u001b[0m\u001b[0;34m\u001b[0m\u001b[0m\n\u001b[0m\u001b[1;32m    132\u001b[0m \u001b[0;34m\u001b[0m\u001b[0m\n\u001b[1;32m    133\u001b[0m     \u001b[0;32mdef\u001b[0m \u001b[0m__len__\u001b[0m\u001b[0;34m(\u001b[0m\u001b[0mself\u001b[0m\u001b[0;34m)\u001b[0m\u001b[0;34m:\u001b[0m\u001b[0;34m\u001b[0m\u001b[0m\n",
      "\u001b[0;32m/home/gonzalodiz/anaconda2/lib/python2.7/site-packages/sklearn/model_selection/_validation.pyc\u001b[0m in \u001b[0;36m_fit_and_score\u001b[0;34m(estimator, X, y, scorer, train, test, verbose, parameters, fit_params, return_train_score, return_parameters, return_n_test_samples, return_times, error_score)\u001b[0m\n\u001b[1;32m    456\u001b[0m             \u001b[0mestimator\u001b[0m\u001b[0;34m.\u001b[0m\u001b[0mfit\u001b[0m\u001b[0;34m(\u001b[0m\u001b[0mX_train\u001b[0m\u001b[0;34m,\u001b[0m \u001b[0;34m**\u001b[0m\u001b[0mfit_params\u001b[0m\u001b[0;34m)\u001b[0m\u001b[0;34m\u001b[0m\u001b[0m\n\u001b[1;32m    457\u001b[0m         \u001b[0;32melse\u001b[0m\u001b[0;34m:\u001b[0m\u001b[0;34m\u001b[0m\u001b[0m\n\u001b[0;32m--> 458\u001b[0;31m             \u001b[0mestimator\u001b[0m\u001b[0;34m.\u001b[0m\u001b[0mfit\u001b[0m\u001b[0;34m(\u001b[0m\u001b[0mX_train\u001b[0m\u001b[0;34m,\u001b[0m \u001b[0my_train\u001b[0m\u001b[0;34m,\u001b[0m \u001b[0;34m**\u001b[0m\u001b[0mfit_params\u001b[0m\u001b[0;34m)\u001b[0m\u001b[0;34m\u001b[0m\u001b[0m\n\u001b[0m\u001b[1;32m    459\u001b[0m \u001b[0;34m\u001b[0m\u001b[0m\n\u001b[1;32m    460\u001b[0m     \u001b[0;32mexcept\u001b[0m \u001b[0mException\u001b[0m \u001b[0;32mas\u001b[0m \u001b[0me\u001b[0m\u001b[0;34m:\u001b[0m\u001b[0;34m\u001b[0m\u001b[0m\n",
      "\u001b[0;32m/home/gonzalodiz/anaconda2/lib/python2.7/site-packages/xgboost/sklearn.pyc\u001b[0m in \u001b[0;36mfit\u001b[0;34m(self, X, y, sample_weight, eval_set, eval_metric, early_stopping_rounds, verbose, xgb_model, sample_weight_eval_set)\u001b[0m\n\u001b[1;32m    545\u001b[0m                               \u001b[0mearly_stopping_rounds\u001b[0m\u001b[0;34m=\u001b[0m\u001b[0mearly_stopping_rounds\u001b[0m\u001b[0;34m,\u001b[0m\u001b[0;34m\u001b[0m\u001b[0m\n\u001b[1;32m    546\u001b[0m                               \u001b[0mevals_result\u001b[0m\u001b[0;34m=\u001b[0m\u001b[0mevals_result\u001b[0m\u001b[0;34m,\u001b[0m \u001b[0mobj\u001b[0m\u001b[0;34m=\u001b[0m\u001b[0mobj\u001b[0m\u001b[0;34m,\u001b[0m \u001b[0mfeval\u001b[0m\u001b[0;34m=\u001b[0m\u001b[0mfeval\u001b[0m\u001b[0;34m,\u001b[0m\u001b[0;34m\u001b[0m\u001b[0m\n\u001b[0;32m--> 547\u001b[0;31m                               verbose_eval=verbose, xgb_model=None)\n\u001b[0m\u001b[1;32m    548\u001b[0m \u001b[0;34m\u001b[0m\u001b[0m\n\u001b[1;32m    549\u001b[0m         \u001b[0mself\u001b[0m\u001b[0;34m.\u001b[0m\u001b[0mobjective\u001b[0m \u001b[0;34m=\u001b[0m \u001b[0mxgb_options\u001b[0m\u001b[0;34m[\u001b[0m\u001b[0;34m\"objective\"\u001b[0m\u001b[0;34m]\u001b[0m\u001b[0;34m\u001b[0m\u001b[0m\n",
      "\u001b[0;32m/home/gonzalodiz/anaconda2/lib/python2.7/site-packages/xgboost/training.pyc\u001b[0m in \u001b[0;36mtrain\u001b[0;34m(params, dtrain, num_boost_round, evals, obj, feval, maximize, early_stopping_rounds, evals_result, verbose_eval, xgb_model, callbacks, learning_rates)\u001b[0m\n\u001b[1;32m    202\u001b[0m                            \u001b[0mevals\u001b[0m\u001b[0;34m=\u001b[0m\u001b[0mevals\u001b[0m\u001b[0;34m,\u001b[0m\u001b[0;34m\u001b[0m\u001b[0m\n\u001b[1;32m    203\u001b[0m                            \u001b[0mobj\u001b[0m\u001b[0;34m=\u001b[0m\u001b[0mobj\u001b[0m\u001b[0;34m,\u001b[0m \u001b[0mfeval\u001b[0m\u001b[0;34m=\u001b[0m\u001b[0mfeval\u001b[0m\u001b[0;34m,\u001b[0m\u001b[0;34m\u001b[0m\u001b[0m\n\u001b[0;32m--> 204\u001b[0;31m                            xgb_model=xgb_model, callbacks=callbacks)\n\u001b[0m\u001b[1;32m    205\u001b[0m \u001b[0;34m\u001b[0m\u001b[0m\n\u001b[1;32m    206\u001b[0m \u001b[0;34m\u001b[0m\u001b[0m\n",
      "\u001b[0;32m/home/gonzalodiz/anaconda2/lib/python2.7/site-packages/xgboost/training.pyc\u001b[0m in \u001b[0;36m_train_internal\u001b[0;34m(params, dtrain, num_boost_round, evals, obj, feval, xgb_model, callbacks)\u001b[0m\n\u001b[1;32m     72\u001b[0m         \u001b[0;31m# Skip the first update if it is a recovery step.\u001b[0m\u001b[0;34m\u001b[0m\u001b[0;34m\u001b[0m\u001b[0m\n\u001b[1;32m     73\u001b[0m         \u001b[0;32mif\u001b[0m \u001b[0mversion\u001b[0m \u001b[0;34m%\u001b[0m \u001b[0;36m2\u001b[0m \u001b[0;34m==\u001b[0m \u001b[0;36m0\u001b[0m\u001b[0;34m:\u001b[0m\u001b[0;34m\u001b[0m\u001b[0m\n\u001b[0;32m---> 74\u001b[0;31m             \u001b[0mbst\u001b[0m\u001b[0;34m.\u001b[0m\u001b[0mupdate\u001b[0m\u001b[0;34m(\u001b[0m\u001b[0mdtrain\u001b[0m\u001b[0;34m,\u001b[0m \u001b[0mi\u001b[0m\u001b[0;34m,\u001b[0m \u001b[0mobj\u001b[0m\u001b[0;34m)\u001b[0m\u001b[0;34m\u001b[0m\u001b[0m\n\u001b[0m\u001b[1;32m     75\u001b[0m             \u001b[0mbst\u001b[0m\u001b[0;34m.\u001b[0m\u001b[0msave_rabit_checkpoint\u001b[0m\u001b[0;34m(\u001b[0m\u001b[0;34m)\u001b[0m\u001b[0;34m\u001b[0m\u001b[0m\n\u001b[1;32m     76\u001b[0m             \u001b[0mversion\u001b[0m \u001b[0;34m+=\u001b[0m \u001b[0;36m1\u001b[0m\u001b[0;34m\u001b[0m\u001b[0m\n",
      "\u001b[0;32m/home/gonzalodiz/anaconda2/lib/python2.7/site-packages/xgboost/core.pyc\u001b[0m in \u001b[0;36mupdate\u001b[0;34m(self, dtrain, iteration, fobj)\u001b[0m\n\u001b[1;32m   1019\u001b[0m         \u001b[0;32mif\u001b[0m \u001b[0mfobj\u001b[0m \u001b[0;32mis\u001b[0m \u001b[0mNone\u001b[0m\u001b[0;34m:\u001b[0m\u001b[0;34m\u001b[0m\u001b[0m\n\u001b[1;32m   1020\u001b[0m             _check_call(_LIB.XGBoosterUpdateOneIter(self.handle, ctypes.c_int(iteration),\n\u001b[0;32m-> 1021\u001b[0;31m                                                     dtrain.handle))\n\u001b[0m\u001b[1;32m   1022\u001b[0m         \u001b[0;32melse\u001b[0m\u001b[0;34m:\u001b[0m\u001b[0;34m\u001b[0m\u001b[0m\n\u001b[1;32m   1023\u001b[0m             \u001b[0mpred\u001b[0m \u001b[0;34m=\u001b[0m \u001b[0mself\u001b[0m\u001b[0;34m.\u001b[0m\u001b[0mpredict\u001b[0m\u001b[0;34m(\u001b[0m\u001b[0mdtrain\u001b[0m\u001b[0;34m)\u001b[0m\u001b[0;34m\u001b[0m\u001b[0m\n",
      "\u001b[0;31mKeyboardInterrupt\u001b[0m: "
     ]
    }
   ],
   "source": [
    "#xgboost = xgb.XGBClassifier()\n",
    "#kfold = StratifiedKFold(n_splits = 2, shuffle=True, random_state=7)\n",
    "#grid_search = GridSearch(xgboost, param_grid, scoring=\"neg_log_loss\", n_jobs = 1, cv=kfold, verbose=1)\n",
    "#result = grid_search.fit(x,y)"
   ]
  },
  {
   "cell_type": "code",
   "execution_count": 62,
   "metadata": {},
   "outputs": [],
   "source": [
    "#pred = (xgboost.predict_proba(z)[:,1])"
   ]
  },
  {
   "cell_type": "code",
   "execution_count": 63,
   "metadata": {},
   "outputs": [],
   "source": [
    "#pred"
   ]
  },
  {
   "cell_type": "code",
   "execution_count": 64,
   "metadata": {},
   "outputs": [
    {
     "name": "stdout",
     "output_type": "stream",
     "text": [
      "Best: -0.186582 using {'scale_pos_weight': 4, 'max_depth': 8}\n"
     ]
    }
   ],
   "source": [
    "#print(\"Best: %f using %s\" % (result.best_score_, result.best_params_))"
   ]
  },
  {
   "cell_type": "code",
   "execution_count": 30,
   "metadata": {},
   "outputs": [],
   "source": [
    "#means = result.cv_results_['mean_test_score']\n",
    "#stds = result.cv_results_['std_test_score']\n",
    "#params = result.cv_results_['params']\n",
    "#for mean, stdev, param in zip(means, stds, params):\n",
    "#\tprint(\"%f (%f) with: %r\" % (mean, stdev, param))"
   ]
  },
  {
   "cell_type": "markdown",
   "metadata": {},
   "source": [
    "### Corremos XGBoost para el set de entrenamiento y medimos su precision"
   ]
  },
  {
   "cell_type": "code",
   "execution_count": 44,
   "metadata": {
    "scrolled": true
   },
   "outputs": [
    {
     "name": "stdout",
     "output_type": "stream",
     "text": [
      "('Accuracy: ', 0.9518413597733711)\n",
      "---Classification Report---\n",
      "             precision    recall  f1-score   support\n",
      "\n",
      "          0       0.95      1.00      0.98      3696\n",
      "          1       0.00      0.00      0.00       187\n",
      "\n",
      "avg / total       0.91      0.95      0.93      3883\n",
      "\n"
     ]
    },
    {
     "name": "stderr",
     "output_type": "stream",
     "text": [
      "/home/gonzalodiz/anaconda2/lib/python2.7/site-packages/sklearn/metrics/classification.py:1135: UndefinedMetricWarning: Precision and F-score are ill-defined and being set to 0.0 in labels with no predicted samples.\n",
      "  'precision', 'predicted', average, warn_for)\n"
     ]
    },
    {
     "name": "stdout",
     "output_type": "stream",
     "text": [
      "('Accuracy: ', 0.9446304403811486)\n",
      "---Classification Report---\n",
      "             precision    recall  f1-score   support\n",
      "\n",
      "          0       0.95      0.99      0.97      3696\n",
      "          1       0.24      0.07      0.11       187\n",
      "\n",
      "avg / total       0.92      0.94      0.93      3883\n",
      "\n",
      "('Accuracy: ', 0.9196497553438063)\n",
      "---Classification Report---\n",
      "             precision    recall  f1-score   support\n",
      "\n",
      "          0       0.96      0.96      0.96      3696\n",
      "          1       0.18      0.19      0.19       187\n",
      "\n",
      "avg / total       0.92      0.92      0.92      3883\n",
      "\n",
      "('Accuracy: ', 0.8908060777749163)\n",
      "---Classification Report---\n",
      "             precision    recall  f1-score   support\n",
      "\n",
      "          0       0.96      0.92      0.94      3696\n",
      "          1       0.16      0.29      0.20       187\n",
      "\n",
      "avg / total       0.92      0.89      0.91      3883\n",
      "\n",
      "('Accuracy: ', 0.872263713623487)\n",
      "---Classification Report---\n",
      "             precision    recall  f1-score   support\n",
      "\n",
      "          0       0.96      0.90      0.93      3696\n",
      "          1       0.14      0.33      0.20       187\n",
      "\n",
      "avg / total       0.92      0.87      0.90      3883\n",
      "\n",
      "('Accuracy: ', 0.8614473345351532)\n",
      "---Classification Report---\n",
      "             precision    recall  f1-score   support\n",
      "\n",
      "          0       0.97      0.89      0.92      3696\n",
      "          1       0.15      0.39      0.21       187\n",
      "\n",
      "avg / total       0.93      0.86      0.89      3883\n",
      "\n",
      "('Accuracy: ', 0.8223023435488025)\n",
      "---Classification Report---\n",
      "             precision    recall  f1-score   support\n",
      "\n",
      "          0       0.97      0.84      0.90      3696\n",
      "          1       0.13      0.48      0.21       187\n",
      "\n",
      "avg / total       0.93      0.82      0.87      3883\n",
      "\n",
      "('Accuracy: ', 0.7988668555240793)\n",
      "---Classification Report---\n",
      "             precision    recall  f1-score   support\n",
      "\n",
      "          0       0.97      0.81      0.88      3696\n",
      "          1       0.13      0.55      0.21       187\n",
      "\n",
      "avg / total       0.93      0.80      0.85      3883\n",
      "\n"
     ]
    }
   ],
   "source": [
    "#xgboost = xgb.XGBClassifier(learning_rate = 0.001,\\\n",
    "#                            n_estimators= 2000,\\\n",
    "#                            max_depth= 4,\\\n",
    "#                            min_child_weight= 2,\\\n",
    "#                            gamma=0.7,\\\n",
    "#                            subsample=0.7,\\\n",
    "#                            colsample_bytree=0.7,\\\n",
    "#                            objective= 'binary:logistic',\\\n",
    "#                            scale_pos_weight=(negative/positive)\n",
    "#                           )\n",
    "\n",
    "for w in [1,5,10,15,18,20,26,30]:\n",
    "    xgboost = xgb.XGBClassifier(learning_rate = 0.0001,\\\n",
    "                                n_estimators= 2000,\\\n",
    "                                max_depth= 10,\\\n",
    "                                min_child_weight= 2,\\\n",
    "                                gamma=0.7,\\\n",
    "                                subsample=0.7,\\\n",
    "                                colsample_bytree=0.7,\\\n",
    "                                objective= 'binary:logistic',\\\n",
    "                                scale_pos_weight= w\n",
    "                               )\n",
    "\n",
    "    xgboost.fit(X_train, y_train, eval_metric='aucpr')\n",
    "    pred = (xgboost.predict_proba(X_test)[:,1])\n",
    "    accuracy = accuracy_score(y_test, pred.round(), normalize=False)\n",
    "\n",
    "    print(\"Accuracy: \", accuracy / float(pred.size))\n",
    "\n",
    "    for i in xrange(0,pred.size):\n",
    "        if (pred[i] >= 0.5):\n",
    "            pred[i] = 1\n",
    "        else: \n",
    "            pred[i] = 0\n",
    "\n",
    "    print('---Classification Report---')\n",
    "    print('Weight: ' + str(w))\n",
    "    print(classification_report(y_test,pred))"
   ]
  },
  {
   "cell_type": "code",
   "execution_count": 67,
   "metadata": {},
   "outputs": [],
   "source": [
    "x_test_df = pd.DataFrame(data=X_test, columns=features)\n",
    "x_test_df['index'] = x_test_df.index\n",
    "x_label_pred = pd.DataFrame({'label': y_test, 'pred': pred})\n",
    "x_label_pred['index'] = x_label_pred.index"
   ]
  },
  {
   "cell_type": "code",
   "execution_count": 68,
   "metadata": {},
   "outputs": [],
   "source": [
    "merged = pd.merge(x_test_df, x_label_pred, how='inner', on='index')\n",
    "falsos_positivos = merged.loc[(merged['label'] == 1) & (merged['pred'] < 0.5)]['label'].count()\n",
    "falsos_negativos = merged.loc[(merged['label'] == 0) & (merged['pred'] >= 0.5)]['label'].count()\n",
    "unos = merged.loc[(merged['label'] == 1) & (merged['pred'] >= 0.5)]['label'].count()\n",
    "ceros = merged.loc[(merged['label'] == 0) & (merged['pred'] < 0.5)]['label'].count()"
   ]
  },
  {
   "cell_type": "code",
   "execution_count": 69,
   "metadata": {},
   "outputs": [
    {
     "name": "stdout",
     "output_type": "stream",
     "text": [
      "1s predichos como 0s: 35\n",
      "0s predichos como 1s: 261\n",
      "1s bien predichos: 56\n",
      "0s bien predichos: 1590\n"
     ]
    }
   ],
   "source": [
    "print '1s predichos como 0s: '+ str(falsos_positivos)\n",
    "print '0s predichos como 1s: '+ str(falsos_negativos)\n",
    "print '1s bien predichos: ' + str(unos)\n",
    "print '0s bien predichos: ' + str(ceros)"
   ]
  },
  {
   "cell_type": "markdown",
   "metadata": {},
   "source": [
    "## Analizamos cuales son los features que mayor peso tienen para xgboost."
   ]
  },
  {
   "cell_type": "code",
   "execution_count": 70,
   "metadata": {
    "scrolled": true
   },
   "outputs": [
    {
     "name": "stdout",
     "output_type": "stream",
     "text": [
      "[0.09373074 0.0132148  0.10059448 0.00480216 0.13439503 0.01214584\n",
      " 0.00903711 0.0123749  0.01277031 0.0106651  0.0720324  0.03548035\n",
      " 0.07570014 0.05680783 0.0664067  0.06229173 0.06101006 0.01104688\n",
      " 0.01124594 0.0228982  0.00627744 0.01724523 0.00145346 0.04414387\n",
      " 0.05222928]\n"
     ]
    }
   ],
   "source": [
    "print(xgboost.feature_importances_)"
   ]
  },
  {
   "cell_type": "code",
   "execution_count": 89,
   "metadata": {},
   "outputs": [
    {
     "data": {
      "text/plain": [
       "<matplotlib.axes._subplots.AxesSubplot at 0x7f781ebba850>"
      ]
     },
     "execution_count": 89,
     "metadata": {},
     "output_type": "execute_result"
    },
    {
     "data": {
      "image/png": "[encoded data removed]",
      "text/plain": [
       "<Figure size 432x288 with 1 Axes>"
      ]
     },
     "metadata": {
      "needs_background": "light"
     },
     "output_type": "display_data"
    }
   ],
   "source": [
    "fi = pd.DataFrame({'features': features, 'importancia': xgboost.feature_importances_})\n",
    "fi.sort_values(ascending=False, by='importancia').plot.bar("
   ]
  },
  {
   "cell_type": "code",
   "execution_count": 71,
   "metadata": {
    "scrolled": false
   },
   "outputs": [
    {
     "data": {
      "image/png": "[encoded data removed]",
      "text/plain": [
       "<Figure size 432x288 with 1 Axes>"
      ]
     },
     "metadata": {
      "needs_background": "light"
     },
     "output_type": "display_data"
    }
   ],
   "source": [
    "plot = plot_importance(xgboost)\n",
    "#plot.set_yticklabels(features, fontdict=None, minor=False)\n",
    "pyplot.show()"
   ]
  },
  {
   "cell_type": "code",
   "execution_count": 72,
   "metadata": {},
   "outputs": [],
   "source": [
    "negative = training_set.loc[training_set['label'] == 0]['label'].count()\n",
    "positive = training_set.loc[training_set['label'] == 1]['label'].count()"
   ]
  },
  {
   "cell_type": "code",
   "execution_count": 77,
   "metadata": {},
   "outputs": [],
   "source": [
    "xgboost = xgb.XGBClassifier(learning_rate = 0.0001,\\\n",
    "                            n_estimators= 2000,\\\n",
    "                            max_depth= 10,\\\n",
    "                            min_child_weight= 2,\\\n",
    "                            gamma=0.7,\\\n",
    "                            subsample=0.7,\\\n",
    "                            colsample_bytree=0.7,\\\n",
    "                            objective= 'binary:logistic',\\\n",
    "                            scale_pos_weight= 26\n",
    "                           )\n",
    "\n",
    "xgboost.fit(x,y)\n",
    "pred = (xgboost.predict_proba(z)[:,1])"
   ]
  },
  {
   "cell_type": "code",
   "execution_count": 78,
   "metadata": {},
   "outputs": [],
   "source": [
    "submit = pd.DataFrame({'label': pred, 'person': persons})\n",
    "submit = submit[['person', 'label']]\n",
    "submit.to_csv('../submits/xgboost.csv', index=False)"
   ]
  },
  {
   "cell_type": "code",
   "execution_count": 79,
   "metadata": {},
   "outputs": [
    {
     "name": "stdout",
     "output_type": "stream",
     "text": [
      "Cantidad de no conversiones: 15762\n",
      "Cantidad de conversiones: 3653\n"
     ]
    }
   ],
   "source": [
    "no_conversiones = submit.loc[submit['label'] < 0.5]['label'].count()\n",
    "print 'Cantidad de no conversiones: ' + str(no_conversiones)\n",
    "\n",
    "conversiones = submit.loc[submit['label'] >= 0.5]['label'].count()\n",
    "print 'Cantidad de conversiones: ' + str(conversiones)"
   ]
  },
  {
   "cell_type": "code",
   "execution_count": 80,
   "metadata": {},
   "outputs": [
    {
     "data": {
      "text/plain": [
       "0.4632861316204071"
      ]
     },
     "execution_count": 80,
     "metadata": {},
     "output_type": "execute_result"
    }
   ],
   "source": [
    "submit['label'].mean()"
   ]
  },
  {
   "cell_type": "code",
   "execution_count": null,
   "metadata": {},
   "outputs": [],
   "source": []
  }
 ],
 "metadata": {
  "kernelspec": {
   "display_name": "Python 2",
   "language": "python",
   "name": "python2"
  },
  "language_info": {
   "codemirror_mode": {
    "name": "ipython",
    "version": 2
   },
   "file_extension": ".py",
   "mimetype": "text/x-python",
   "name": "python",
   "nbconvert_exporter": "python",
   "pygments_lexer": "ipython2",
   "version": "2.7.15"
  }
 },
 "nbformat": 4,
 "nbformat_minor": 2
}
