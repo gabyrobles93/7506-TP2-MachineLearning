{
 "cells": [
  {
   "cell_type": "code",
   "execution_count": 2,
   "metadata": {},
   "outputs": [
    {
     "name": "stderr",
     "output_type": "stream",
     "text": [
      "/home/gonzalodiz/anaconda2/lib/python2.7/site-packages/sklearn/cross_validation.py:41: DeprecationWarning: This module was deprecated in version 0.18 in favor of the model_selection module into which all the refactored classes and functions are moved. Also note that the interface of the new CV iterators are different from that of this module. This module will be removed in 0.20.\n",
      "  \"This module will be removed in 0.20.\", DeprecationWarning)\n",
      "/home/gonzalodiz/anaconda2/lib/python2.7/site-packages/sklearn/ensemble/weight_boosting.py:29: DeprecationWarning: numpy.core.umath_tests is an internal NumPy module and should not be imported. It will be removed in a future NumPy release.\n",
      "  from numpy.core.umath_tests import inner1d\n"
     ]
    }
   ],
   "source": [
    "# loading libraries\n",
    "\n",
    "import pandas as pd\n",
    "import pandas as pd\n",
    "import numpy as np\n",
    "from sklearn.cross_validation import train_test_split\n",
    "from sklearn.neighbors import KNeighborsClassifier\n",
    "from sklearn.metrics import accuracy_score\n",
    "from sklearn.metrics import log_loss\n",
    "import xgboost as xgb\n",
    "from xgboost import plot_importance\n",
    "from matplotlib import pyplot\n",
    "from sklearn.model_selection import StratifiedKFold\n",
    "from sklearn.model_selection import GridSearchCV as GridSearch\n",
    "from sklearn.ensemble import RandomForestClassifier\n",
    "from sklearn.metrics import classification_report, confusion_matrix, roc_curve, auc, precision_recall_curve,roc_curve\n"
   ]
  },
  {
   "cell_type": "markdown",
   "metadata": {},
   "source": [
    "### Entre cada uno de los integrantes del grupo fuimos obteniendo distintos features que nos parecieron interesantes y que consideramos que podrian servir para las predicciones.\n",
    "\n",
    "#### Leemos los distintos CSVs que contienen los features\n"
   ]
  },
  {
   "cell_type": "code",
   "execution_count": 3,
   "metadata": {},
   "outputs": [],
   "source": [
    "features_gaby = pd.read_csv('../features/features_gaby.csv')\n",
    "features_gonza = pd.read_csv('../features/features_gonza.csv').drop(columns='Unnamed: 0')\n",
    "features_ari = pd.read_csv('../features/features_ariel.csv')\n",
    "features_mati = pd.read_csv('../features/features_frecuencia.csv')\n",
    "labels_training_set = pd.read_csv('../dataset/labels_training_set.csv')\n",
    "test_set = pd.read_csv('../dataset/trocafone_kaggle_test.csv')\n",
    "features_gonza2 = pd.read_csv('../features/features_gonza2.csv')"
   ]
  },
  {
   "cell_type": "markdown",
   "metadata": {},
   "source": [
    "## Mergeamos todos los features en un solo dataframe de la forma <persona, feature1, feature2,...,...>"
   ]
  },
  {
   "cell_type": "code",
   "execution_count": 4,
   "metadata": {
    "scrolled": true
   },
   "outputs": [
    {
     "data": {
      "text/html": [
       "<div>\n",
       "<style scoped>\n",
       "    .dataframe tbody tr th:only-of-type {\n",
       "        vertical-align: middle;\n",
       "    }\n",
       "\n",
       "    .dataframe tbody tr th {\n",
       "        vertical-align: top;\n",
       "    }\n",
       "\n",
       "    .dataframe thead th {\n",
       "        text-align: right;\n",
       "    }\n",
       "</style>\n",
       "<table border=\"1\" class=\"dataframe\">\n",
       "  <thead>\n",
       "    <tr style=\"text-align: right;\">\n",
       "      <th></th>\n",
       "      <th>person</th>\n",
       "      <th>marca_favorita_apple</th>\n",
       "      <th>marca_favorita_asus</th>\n",
       "      <th>marca_favorita_lenovo</th>\n",
       "      <th>marca_favorita_lg</th>\n",
       "      <th>marca_favorita_motorola</th>\n",
       "      <th>marca_favorita_no tiene</th>\n",
       "      <th>marca_favorita_quantum</th>\n",
       "      <th>marca_favorita_samsung</th>\n",
       "      <th>marca_favorita_sony</th>\n",
       "      <th>...</th>\n",
       "      <th>checkout</th>\n",
       "      <th>generic listing</th>\n",
       "      <th>searched products</th>\n",
       "      <th>viewed product</th>\n",
       "      <th>visited site</th>\n",
       "      <th>completa_flujo</th>\n",
       "      <th>favorite_device_Computer</th>\n",
       "      <th>favorite_device_Smartphone</th>\n",
       "      <th>favorite_device_Tablet</th>\n",
       "      <th>favorite_device_Unknown</th>\n",
       "    </tr>\n",
       "  </thead>\n",
       "  <tbody>\n",
       "    <tr>\n",
       "      <th>0</th>\n",
       "      <td>0008ed71</td>\n",
       "      <td>1</td>\n",
       "      <td>0</td>\n",
       "      <td>0</td>\n",
       "      <td>0</td>\n",
       "      <td>0</td>\n",
       "      <td>0</td>\n",
       "      <td>0</td>\n",
       "      <td>0</td>\n",
       "      <td>0</td>\n",
       "      <td>...</td>\n",
       "      <td>3.0</td>\n",
       "      <td>1.0</td>\n",
       "      <td>NaN</td>\n",
       "      <td>NaN</td>\n",
       "      <td>2.0</td>\n",
       "      <td>False</td>\n",
       "      <td>1</td>\n",
       "      <td>0</td>\n",
       "      <td>0</td>\n",
       "      <td>0</td>\n",
       "    </tr>\n",
       "    <tr>\n",
       "      <th>1</th>\n",
       "      <td>00091926</td>\n",
       "      <td>1</td>\n",
       "      <td>0</td>\n",
       "      <td>0</td>\n",
       "      <td>0</td>\n",
       "      <td>0</td>\n",
       "      <td>0</td>\n",
       "      <td>0</td>\n",
       "      <td>0</td>\n",
       "      <td>0</td>\n",
       "      <td>...</td>\n",
       "      <td>2.0</td>\n",
       "      <td>NaN</td>\n",
       "      <td>NaN</td>\n",
       "      <td>372.0</td>\n",
       "      <td>34.0</td>\n",
       "      <td>False</td>\n",
       "      <td>1</td>\n",
       "      <td>0</td>\n",
       "      <td>0</td>\n",
       "      <td>0</td>\n",
       "    </tr>\n",
       "    <tr>\n",
       "      <th>2</th>\n",
       "      <td>00091a7a</td>\n",
       "      <td>1</td>\n",
       "      <td>0</td>\n",
       "      <td>0</td>\n",
       "      <td>0</td>\n",
       "      <td>0</td>\n",
       "      <td>0</td>\n",
       "      <td>0</td>\n",
       "      <td>0</td>\n",
       "      <td>0</td>\n",
       "      <td>...</td>\n",
       "      <td>NaN</td>\n",
       "      <td>NaN</td>\n",
       "      <td>NaN</td>\n",
       "      <td>3.0</td>\n",
       "      <td>1.0</td>\n",
       "      <td>False</td>\n",
       "      <td>0</td>\n",
       "      <td>1</td>\n",
       "      <td>0</td>\n",
       "      <td>0</td>\n",
       "    </tr>\n",
       "    <tr>\n",
       "      <th>3</th>\n",
       "      <td>000ba417</td>\n",
       "      <td>0</td>\n",
       "      <td>0</td>\n",
       "      <td>0</td>\n",
       "      <td>0</td>\n",
       "      <td>0</td>\n",
       "      <td>0</td>\n",
       "      <td>0</td>\n",
       "      <td>1</td>\n",
       "      <td>0</td>\n",
       "      <td>...</td>\n",
       "      <td>6.0</td>\n",
       "      <td>14.0</td>\n",
       "      <td>NaN</td>\n",
       "      <td>153.0</td>\n",
       "      <td>6.0</td>\n",
       "      <td>False</td>\n",
       "      <td>1</td>\n",
       "      <td>0</td>\n",
       "      <td>0</td>\n",
       "      <td>0</td>\n",
       "    </tr>\n",
       "    <tr>\n",
       "      <th>4</th>\n",
       "      <td>000c79fe</td>\n",
       "      <td>1</td>\n",
       "      <td>0</td>\n",
       "      <td>0</td>\n",
       "      <td>0</td>\n",
       "      <td>0</td>\n",
       "      <td>0</td>\n",
       "      <td>0</td>\n",
       "      <td>0</td>\n",
       "      <td>0</td>\n",
       "      <td>...</td>\n",
       "      <td>1.0</td>\n",
       "      <td>1.0</td>\n",
       "      <td>9.0</td>\n",
       "      <td>3.0</td>\n",
       "      <td>1.0</td>\n",
       "      <td>False</td>\n",
       "      <td>0</td>\n",
       "      <td>1</td>\n",
       "      <td>0</td>\n",
       "      <td>0</td>\n",
       "    </tr>\n",
       "  </tbody>\n",
       "</table>\n",
       "<p>5 rows × 64 columns</p>\n",
       "</div>"
      ],
      "text/plain": [
       "     person  marca_favorita_apple  marca_favorita_asus  marca_favorita_lenovo  \\\n",
       "0  0008ed71                     1                    0                      0   \n",
       "1  00091926                     1                    0                      0   \n",
       "2  00091a7a                     1                    0                      0   \n",
       "3  000ba417                     0                    0                      0   \n",
       "4  000c79fe                     1                    0                      0   \n",
       "\n",
       "   marca_favorita_lg  marca_favorita_motorola  marca_favorita_no tiene  \\\n",
       "0                  0                        0                        0   \n",
       "1                  0                        0                        0   \n",
       "2                  0                        0                        0   \n",
       "3                  0                        0                        0   \n",
       "4                  0                        0                        0   \n",
       "\n",
       "   marca_favorita_quantum  marca_favorita_samsung  marca_favorita_sony  \\\n",
       "0                       0                       0                    0   \n",
       "1                       0                       0                    0   \n",
       "2                       0                       0                    0   \n",
       "3                       0                       1                    0   \n",
       "4                       0                       0                    0   \n",
       "\n",
       "            ...             checkout  generic listing  searched products  \\\n",
       "0           ...                  3.0              1.0                NaN   \n",
       "1           ...                  2.0              NaN                NaN   \n",
       "2           ...                  NaN              NaN                NaN   \n",
       "3           ...                  6.0             14.0                NaN   \n",
       "4           ...                  1.0              1.0                9.0   \n",
       "\n",
       "   viewed product  visited site  completa_flujo  favorite_device_Computer  \\\n",
       "0             NaN           2.0           False                         1   \n",
       "1           372.0          34.0           False                         1   \n",
       "2             3.0           1.0           False                         0   \n",
       "3           153.0           6.0           False                         1   \n",
       "4             3.0           1.0           False                         0   \n",
       "\n",
       "   favorite_device_Smartphone  favorite_device_Tablet  favorite_device_Unknown  \n",
       "0                           0                       0                        0  \n",
       "1                           0                       0                        0  \n",
       "2                           1                       0                        0  \n",
       "3                           0                       0                        0  \n",
       "4                           1                       0                        0  \n",
       "\n",
       "[5 rows x 64 columns]"
      ]
     },
     "execution_count": 4,
     "metadata": {},
     "output_type": "execute_result"
    }
   ],
   "source": [
    "#model_df = pd.merge(features_gaby, features_gonza, how='inner', on='person')\n",
    "model_df = pd.merge(features_gaby, features_ari, how='inner', on='person')\n",
    "model_df = pd.merge(model_df, features_gonza, how='inner', on='person')\n",
    "model_df = pd.merge(model_df, features_gonza2, how='inner', on='person')\n",
    "#model_df = pd.merge(model_df, features_mati, how='inner', on='person')\n",
    "model_df.head()"
   ]
  },
  {
   "cell_type": "code",
   "execution_count": 5,
   "metadata": {},
   "outputs": [],
   "source": [
    "model_df.fillna(value=0, inplace=True)"
   ]
  },
  {
   "cell_type": "markdown",
   "metadata": {},
   "source": [
    "## Al dataframe de las personas con sus features le agregamos los labels para saber si cada persona o no realizo una compra.\n",
    "\n",
    "## Tambien tenemos un dataframe de test, el cual contiene todas las personas que queremos predecir y sus features ( queremos predecir sus labels)"
   ]
  },
  {
   "cell_type": "code",
   "execution_count": 6,
   "metadata": {},
   "outputs": [],
   "source": [
    "training_set = pd.merge(model_df, labels_training_set, how='inner', on='person')\n",
    "test_set = pd.merge(model_df, test_set, how='inner', on='person')\n",
    "#training_set.drop(columns= 'Unnamed: 0', inplace=True)"
   ]
  },
  {
   "cell_type": "markdown",
   "metadata": {},
   "source": [
    "## Como se puede observar en nuestro set de entrenamiento predomina el label 0, la mayoria de las personas no realizo una conversion, esto debemos balancearlo."
   ]
  },
  {
   "cell_type": "code",
   "execution_count": 7,
   "metadata": {
    "scrolled": false
   },
   "outputs": [
    {
     "data": {
      "text/plain": [
       "0    18434\n",
       "1      980\n",
       "Name: label, dtype: int64"
      ]
     },
     "execution_count": 7,
     "metadata": {},
     "output_type": "execute_result"
    }
   ],
   "source": [
    "training_set['label'].value_counts()"
   ]
  },
  {
   "cell_type": "markdown",
   "metadata": {},
   "source": [
    "## Elimino 17500 filas que contienen el label 0 para balancear el set de entrenamiento.\n",
    "\n",
    "# <font color='red'> Preguntar de cual es la mejor manera de hacer esto</font>"
   ]
  },
  {
   "cell_type": "code",
   "execution_count": 8,
   "metadata": {},
   "outputs": [],
   "source": [
    "#training_set.sort_values(by='month_moda', ascending=True, inplace=True)\n",
    "#r_training_set = training_set.drop(training_set[training_set.label.eq(0)].head(17500).index)"
   ]
  },
  {
   "cell_type": "code",
   "execution_count": 9,
   "metadata": {
    "scrolled": true
   },
   "outputs": [],
   "source": [
    "#r_training_set = training_set.drop(training_set[training_set.label.eq(0)].sample(17454).index)\n",
    "#r_training_set['label'].value_counts()"
   ]
  },
  {
   "cell_type": "code",
   "execution_count": 10,
   "metadata": {
    "scrolled": false
   },
   "outputs": [
    {
     "name": "stdout",
     "output_type": "stream",
     "text": [
      "<class 'pandas.core.frame.DataFrame'>\n",
      "Int64Index: 19414 entries, 0 to 19413\n",
      "Data columns (total 65 columns):\n",
      "person                                   19414 non-null object\n",
      "marca_favorita_apple                     19414 non-null int64\n",
      "marca_favorita_asus                      19414 non-null int64\n",
      "marca_favorita_lenovo                    19414 non-null int64\n",
      "marca_favorita_lg                        19414 non-null int64\n",
      "marca_favorita_motorola                  19414 non-null int64\n",
      "marca_favorita_no tiene                  19414 non-null int64\n",
      "marca_favorita_quantum                   19414 non-null int64\n",
      "marca_favorita_samsung                   19414 non-null int64\n",
      "marca_favorita_sony                      19414 non-null int64\n",
      "nivel_de_actividad_Muy Bajo              19414 non-null int64\n",
      "nivel_de_actividad_Bajo                  19414 non-null int64\n",
      "nivel_de_actividad_Medio                 19414 non-null int64\n",
      "nivel_de_actividad_Alto                  19414 non-null int64\n",
      "nivel_de_actividad_Muy Alto              19414 non-null int64\n",
      "Unnamed: 0_x                             19414 non-null int64\n",
      "cant_accesos_north                       19414 non-null int64\n",
      "cant_accesos_center_west                 19414 non-null int64\n",
      "cant_accesos_southeast                   19414 non-null int64\n",
      "cant_accesos_south                       19414 non-null int64\n",
      "cant_accesos_northeast                   19414 non-null int64\n",
      "time_first_event                         19414 non-null object\n",
      "time_last_event                          19414 non-null object\n",
      "how_long_ago_was_first_event             19414 non-null object\n",
      "how_long_ago_was_last_event              19414 non-null object\n",
      "first_and_last_event_distance            19414 non-null object\n",
      "cant_total_eventos                       19414 non-null int64\n",
      "first_and_last_event_distance_in_days    19414 non-null int64\n",
      "mean_events_per_day                      19414 non-null float64\n",
      "cant_ev_madrugada                        19414 non-null int64\n",
      "cant_ev_tarde                            19414 non-null int64\n",
      "cant_ev_manana                           19414 non-null int64\n",
      "cant_ev_noche                            19414 non-null int64\n",
      "franja_horaria_moda                      19414 non-null object\n",
      "cant_muy_buenos                          19414 non-null int64\n",
      "cant_excelentes                          19414 non-null int64\n",
      "cant_nuevos                              19414 non-null int64\n",
      "cant_buenos                              19414 non-null int64\n",
      "condicion_de_producto_moda               19414 non-null object\n",
      "has_converted_before                     19414 non-null float64\n",
      "most_viewed_sku                          19414 non-null float64\n",
      "most_viewed_color_Preto                  19414 non-null int64\n",
      "most_viewed_color_Branco                 19414 non-null int64\n",
      "most_viewed_color_Dourado                19414 non-null int64\n",
      "region_brasil_Sao Paulo                  19414 non-null int64\n",
      "region_brasil_Unknown                    19414 non-null int64\n",
      "region_brasil_Minas Gerais               19414 non-null int64\n",
      "Unnamed: 0_y                             19414 non-null int64\n",
      "cantidad_checkouts                       19414 non-null float64\n",
      "cantidad_conversions                     19414 non-null float64\n",
      "tasa_cc                                  19414 non-null float64\n",
      "cantidad_lead                            19414 non-null float64\n",
      "month_moda                               19414 non-null int64\n",
      "brand listing                            19414 non-null float64\n",
      "checkout                                 19414 non-null float64\n",
      "generic listing                          19414 non-null float64\n",
      "searched products                        19414 non-null float64\n",
      "viewed product                           19414 non-null float64\n",
      "visited site                             19414 non-null float64\n",
      "completa_flujo                           19414 non-null object\n",
      "favorite_device_Computer                 19414 non-null int64\n",
      "favorite_device_Smartphone               19414 non-null int64\n",
      "favorite_device_Tablet                   19414 non-null int64\n",
      "favorite_device_Unknown                  19414 non-null int64\n",
      "label                                    19414 non-null int64\n",
      "dtypes: float64(13), int64(43), object(9)\n",
      "memory usage: 9.8+ MB\n"
     ]
    }
   ],
   "source": [
    "training_set.info()"
   ]
  },
  {
   "cell_type": "code",
   "execution_count": 18,
   "metadata": {
    "scrolled": true
   },
   "outputs": [],
   "source": [
    "buyers = training_set.loc[training_set.label == 1]\n",
    "not_buyers = training_set.loc[training_set.label == 0]"
   ]
  },
  {
   "cell_type": "code",
   "execution_count": null,
   "metadata": {},
   "outputs": [],
   "source": [
    "for i in buyers.columns:\n",
    "    print i\n",
    "    print buyers[i].value_counts()"
   ]
  },
  {
   "cell_type": "code",
   "execution_count": 17,
   "metadata": {
    "scrolled": true
   },
   "outputs": [
    {
     "data": {
      "text/plain": [
       "<matplotlib.axes._subplots.AxesSubplot at 0x7f31dc67e0d0>"
      ]
     },
     "execution_count": 17,
     "metadata": {},
     "output_type": "execute_result"
    },
    {
     "data": {
      "image/png": "[encoded data removed]",
      "text/plain": [
       "<Figure size 432x288 with 1 Axes>"
      ]
     },
     "metadata": {
      "needs_background": "light"
     },
     "output_type": "display_data"
    }
   ],
   "source": [
    "buyers['completa_flujo'].value_counts().plot.bar()"
   ]
  },
  {
   "cell_type": "code",
   "execution_count": 19,
   "metadata": {
    "scrolled": true
   },
   "outputs": [
    {
     "data": {
      "text/plain": [
       "<matplotlib.axes._subplots.AxesSubplot at 0x7f31dc4b8cd0>"
      ]
     },
     "execution_count": 19,
     "metadata": {},
     "output_type": "execute_result"
    },
    {
     "data": {
      "image/png": "[encoded data removed]",
      "text/plain": [
       "<Figure size 432x288 with 1 Axes>"
      ]
     },
     "metadata": {
      "needs_background": "light"
     },
     "output_type": "display_data"
    }
   ],
   "source": [
    "not_buyers['completa_flujo'].value_counts().plot.bar()"
   ]
  },
  {
   "cell_type": "code",
   "execution_count": 92,
   "metadata": {},
   "outputs": [
    {
     "data": {
      "text/plain": [
       "0.0     531\n",
       "1.0     161\n",
       "2.0      84\n",
       "3.0      64\n",
       "4.0      41\n",
       "6.0      19\n",
       "5.0      16\n",
       "7.0      12\n",
       "8.0      10\n",
       "9.0       6\n",
       "12.0      5\n",
       "13.0      5\n",
       "10.0      4\n",
       "19.0      3\n",
       "15.0      2\n",
       "47.0      2\n",
       "11.0      2\n",
       "21.0      2\n",
       "14.0      2\n",
       "17.0      2\n",
       "29.0      2\n",
       "27.0      1\n",
       "33.0      1\n",
       "66.0      1\n",
       "24.0      1\n",
       "20.0      1\n",
       "Name: cantidad_checkouts, dtype: int64"
      ]
     },
     "execution_count": 92,
     "metadata": {},
     "output_type": "execute_result"
    }
   ],
   "source": [
    "buyers['cantidad_checkouts'].value_counts()"
   ]
  },
  {
   "cell_type": "code",
   "execution_count": 122,
   "metadata": {
    "scrolled": true
   },
   "outputs": [
    {
     "data": {
      "text/plain": [
       "<matplotlib.axes._subplots.AxesSubplot at 0x7f31e1607f90>"
      ]
     },
     "execution_count": 122,
     "metadata": {},
     "output_type": "execute_result"
    },
    {
     "data": {
      "image/png": "[encoded data removed]",
      "text/plain": [
       "<Figure size 432x288 with 1 Axes>"
      ]
     },
     "metadata": {
      "needs_background": "light"
     },
     "output_type": "display_data"
    }
   ],
   "source": [
    "buyers['completa_flujo'].value_counts(normalize=True).head(15).plot.bar()"
   ]
  },
  {
   "cell_type": "code",
   "execution_count": 123,
   "metadata": {
    "scrolled": true
   },
   "outputs": [
    {
     "data": {
      "text/plain": [
       "<matplotlib.axes._subplots.AxesSubplot at 0x7f31e1233190>"
      ]
     },
     "execution_count": 123,
     "metadata": {},
     "output_type": "execute_result"
    },
    {
     "data": {
      "image/png": "[encoded data removed]",
      "text/plain": [
       "<Figure size 432x288 with 1 Axes>"
      ]
     },
     "metadata": {
      "needs_background": "light"
     },
     "output_type": "display_data"
    }
   ],
   "source": [
    "not_buyers['completa_flujo'].value_counts(normalize=True).head(15).plot.bar()"
   ]
  },
  {
   "cell_type": "markdown",
   "metadata": {},
   "source": [
    "## En el siguiente array incluimos los features que mas aportan para las predicciones"
   ]
  },
  {
   "cell_type": "code",
   "execution_count": 179,
   "metadata": {},
   "outputs": [],
   "source": [
    "features = [#'cant_total_eventos', #f1\n",
    "            'marca_favorita_apple',#f2\n",
    "            'mean_events_per_day',#f3\n",
    "            #'has_converted_before',#f4\n",
    "            #'most_viewed_sku',#f5\n",
    "            #'most_viewed_color_Preto',#f6\n",
    "            #'most_viewed_color_Branco',#f7\n",
    "            #'most_viewed_color_Dourado', #f8\n",
    "            #'region_brasil_Sao Paulo',#f9\n",
    "            #'region_brasil_Unknown',#f10\n",
    "            #'region_brasil_Minas Gerais',#f11\n",
    "            'marca_favorita_samsung',#f12\n",
    "            #'cant_ev_noche',#f13\n",
    "            #'cant_ev_manana',#f14\n",
    "            #'cant_ev_tarde',#f15\n",
    "            #'cant_ev_madrugada',#f16\n",
    "            #'cant_buenos',#f17\n",
    "            #'cant_muy_buenos',#f18\n",
    "            #'cant_excelentes',#f19\n",
    "            #'nivel_de_actividad_Muy Bajo',#f20\n",
    "            #'nivel_de_actividad_Muy Alto',#f21\n",
    "            #'nivel_de_actividad_Bajo',#f22\n",
    "            #'nivel_de_actividad_Medio',#f23\n",
    "            #'nivel_de_actividad_Alto',#f24\n",
    "            #'favorite_device_Smartphone',#f25\n",
    "            'favorite_device_Computer',#f26\n",
    "            'cantidad_checkouts',#f27\n",
    "            'cantidad_conversions',#f28\n",
    "            'tasa_cc',\n",
    "            'viewed product',\n",
    "            #'cantidad_lead',\n",
    "            #'searched products',\n",
    "            #'first_and_last_event_distance_in_days',\n",
    "            #'month_moda',\n",
    "            'completa_flujo'\n",
    "           ]"
   ]
  },
  {
   "cell_type": "markdown",
   "metadata": {},
   "source": [
    "## Creo dos arrays el llamado X es generado a partir de mi dataframe de entrenamiento y los features que quiero tener en cuenta\n",
    "## Y el segundo Y es generado a partir de sus labels"
   ]
  },
  {
   "cell_type": "code",
   "execution_count": 180,
   "metadata": {},
   "outputs": [],
   "source": [
    "x = np.array(training_set[features])\n",
    "y = np.array(training_set['label'])"
   ]
  },
  {
   "cell_type": "markdown",
   "metadata": {},
   "source": [
    "## Usamos train_test_split para dividir el dataframe de entrenamiento en uno de test y otro de entrenamiento"
   ]
  },
  {
   "cell_type": "code",
   "execution_count": 181,
   "metadata": {
    "scrolled": true
   },
   "outputs": [],
   "source": [
    "X_train, X_test, y_train, y_test = train_test_split(x,y, test_size=0.20)"
   ]
  },
  {
   "cell_type": "markdown",
   "metadata": {},
   "source": [
    "## El primer algoritmo que utilizamos es KNN\n",
    "\n",
    "### En el siguiente loop iremos probando KNN con distintos Ks y nos quedaremos con la que obtuvimos mayor accuracy."
   ]
  },
  {
   "cell_type": "code",
   "execution_count": 182,
   "metadata": {},
   "outputs": [],
   "source": [
    "best_accuracy = 0\n",
    "worst_accuracy = 1\n",
    "best_k = 1\n",
    "worst_k = 0\n",
    "best_prediction = []\n",
    "#acumulated_acuracy = 0\n",
    "#loop_count = 0;\n",
    "\n",
    "for i in xrange(1,203,2):\n",
    "    knn = KNeighborsClassifier(n_neighbors=i)\n",
    "    knn.fit(X_train, y_train)\n",
    "    pred = (knn.predict_proba(X_test)[:,1])\n",
    "    accuracy = accuracy_score(y_test,pred.round(), normalize=False)\n",
    "    if (accuracy > best_accuracy) :\n",
    "        best_k = i\n",
    "        best_accuracy = accuracy\n",
    "        best_prediction = pred\n",
    "    if (accuracy < worst_accuracy) : \n",
    "        worst_accuracy = accuracy\n",
    "        worst_k = i\n",
    "    #loop_count += 1\n",
    "    #acumulated_acuracy += accuracy\n",
    "    #X_train, X_test, y_train, y_test = train_test_split(x,y, test_size=0.10)\n",
    "        "
   ]
  },
  {
   "cell_type": "code",
   "execution_count": 183,
   "metadata": {
    "scrolled": true
   },
   "outputs": [
    {
     "name": "stdout",
     "output_type": "stream",
     "text": [
      "Best accuracy: 0.9451455060520216 with k=7\n",
      "Worst accuracy: 0.000257532835437 with k= 0\n"
     ]
    }
   ],
   "source": [
    "print 'Best accuracy: ' + str(best_accuracy / float(best_prediction.size)) + ' with k='  + str(best_k)\n",
    "print 'Worst accuracy: ' + str(worst_accuracy / float(best_prediction.size)) + ' with k= ' + str(worst_k)\n",
    "#print \"Median accuracy \" + str(acumulated_acuracy / (float(loop_count) * float(best_prediction.size)))"
   ]
  },
  {
   "cell_type": "markdown",
   "metadata": {},
   "source": [
    "## Finalmente corremos KNN con el mejor K obtenido en el entrenamiento y el set que queremos predecir"
   ]
  },
  {
   "cell_type": "code",
   "execution_count": 184,
   "metadata": {},
   "outputs": [],
   "source": [
    "z = np.array(test_set[features])\n",
    "knn = KNeighborsClassifier(n_neighbors=best_k)\n",
    "knn.fit(x,y)\n",
    "pred = knn.predict_proba(z)[:,1]"
   ]
  },
  {
   "cell_type": "markdown",
   "metadata": {},
   "source": [
    "## Le agregamos las predicciones a los IDs de las personas y lo guardamos en un archivo.\n"
   ]
  },
  {
   "cell_type": "code",
   "execution_count": 185,
   "metadata": {
    "scrolled": true
   },
   "outputs": [],
   "source": [
    "persons = test_set['person']\n",
    "submit = pd.DataFrame({'label': pred, 'person': persons})\n",
    "submit = submit[['person', 'label']]\n",
    "submit.to_csv('../submits/knn.csv', index=False)"
   ]
  },
  {
   "cell_type": "markdown",
   "metadata": {},
   "source": [
    "## Revisamos la cantidad de conversiones y no conversiones predichas\n",
    "\n",
    "### Se tienen que repartir en un 50/50"
   ]
  },
  {
   "cell_type": "code",
   "execution_count": 186,
   "metadata": {
    "scrolled": true
   },
   "outputs": [
    {
     "name": "stdout",
     "output_type": "stream",
     "text": [
      "Cantidad de no conversiones: 19390\n",
      "Cantidad de conversiones: 25\n"
     ]
    }
   ],
   "source": [
    "no_conversiones = submit.loc[submit['label'] < 0.5]['label'].count()\n",
    "print 'Cantidad de no conversiones: ' + str(no_conversiones)\n",
    "\n",
    "conversiones = submit.loc[submit['label'] >= 0.5]['label'].count()\n",
    "print 'Cantidad de conversiones: ' + str(conversiones)"
   ]
  },
  {
   "cell_type": "markdown",
   "metadata": {},
   "source": [
    "## XGBoost"
   ]
  },
  {
   "cell_type": "markdown",
   "metadata": {},
   "source": [
    "### En los siguientes arrays, ponemos los posibles hiperparametros que concideramos que mejor funcionarian para las predicciones.\n",
    "\n",
    "### Con grid search probamos todas las combinaciones posibles y nos quedamos con la que mayor accuracy nos dio."
   ]
  },
  {
   "cell_type": "code",
   "execution_count": 187,
   "metadata": {},
   "outputs": [],
   "source": [
    "#n_estimators = [100, 200, 1500, 2000]\n",
    "max_depth = [2, 4, 6, 8]\n",
    "scale_pos_weight = [4, 6, 8, 18]\n",
    "\n",
    "#learning_rate = [0.0001, 0.001, 0.01]\n",
    "#subsample = [0.3, 0.5, 0.7]\n",
    "#gamma = [0.6, 0.7]\n",
    "#colsample_bytree = [0.5, 0.7]\n",
    "\n",
    "#param_grid = dict(max_depth=max_depth, n_estimators=n_estimators,\n",
    "#                 learning_rate=learning_rate, subsample=subsample,\n",
    "#                 gamma=gamma)\n",
    "\n",
    "param_grid = dict(max_depth=max_depth, scale_pos_weight=scale_pos_weight)\n"
   ]
  },
  {
   "cell_type": "code",
   "execution_count": 188,
   "metadata": {
    "scrolled": true
   },
   "outputs": [],
   "source": [
    "#xgboost = xgb.XGBClassifier()\n",
    "#kfold = StratifiedKFold(n_splits = 2, shuffle=True, random_state=7)\n",
    "#grid_search = GridSearch(xgboost, param_grid, scoring=\"neg_log_loss\", n_jobs = 1, cv=kfold, verbose=1)\n",
    "#result = grid_search.fit(x,y)"
   ]
  },
  {
   "cell_type": "code",
   "execution_count": 189,
   "metadata": {},
   "outputs": [],
   "source": [
    "#pred = (xgboost.predict_proba(z)[:,1])"
   ]
  },
  {
   "cell_type": "code",
   "execution_count": 190,
   "metadata": {},
   "outputs": [],
   "source": [
    "#pred"
   ]
  },
  {
   "cell_type": "code",
   "execution_count": 191,
   "metadata": {},
   "outputs": [],
   "source": [
    "#print(\"Best: %f using %s\" % (result.best_score_, result.best_params_))"
   ]
  },
  {
   "cell_type": "code",
   "execution_count": 192,
   "metadata": {},
   "outputs": [],
   "source": [
    "#means = result.cv_results_['mean_test_score']\n",
    "#stds = result.cv_results_['std_test_score']\n",
    "#params = result.cv_results_['params']\n",
    "#for mean, stdev, param in zip(means, stds, params):\n",
    "#\tprint(\"%f (%f) with: %r\" % (mean, stdev, param))"
   ]
  },
  {
   "cell_type": "markdown",
   "metadata": {},
   "source": [
    "### Corremos XGBoost para el set de entrenamiento y medimos su precision"
   ]
  },
  {
   "cell_type": "code",
   "execution_count": 198,
   "metadata": {
    "scrolled": true
   },
   "outputs": [
    {
     "name": "stdout",
     "output_type": "stream",
     "text": [
      "('Accuracy: ', 0.8908060777749163)\n",
      "---Classification Report---\n",
      "Weight: 10\n",
      "             precision    recall  f1-score   support\n",
      "\n",
      "          0       0.96      0.92      0.94      3670\n",
      "          1       0.20      0.34      0.25       213\n",
      "\n",
      "avg / total       0.92      0.89      0.90      3883\n",
      "\n",
      "('Accuracy: ', 0.8552665464846768)\n",
      "---Classification Report---\n",
      "Weight: 15\n",
      "             precision    recall  f1-score   support\n",
      "\n",
      "          0       0.97      0.87      0.92      3670\n",
      "          1       0.20      0.53      0.29       213\n",
      "\n",
      "avg / total       0.93      0.86      0.88      3883\n",
      "\n",
      "('Accuracy: ', 0.8326036569662632)\n",
      "---Classification Report---\n",
      "Weight: 18\n",
      "             precision    recall  f1-score   support\n",
      "\n",
      "          0       0.97      0.85      0.91      3670\n",
      "          1       0.18      0.59      0.28       213\n",
      "\n",
      "avg / total       0.93      0.83      0.87      3883\n",
      "\n",
      "('Accuracy: ', 0.816121555498326)\n",
      "---Classification Report---\n",
      "Weight: 20\n",
      "             precision    recall  f1-score   support\n",
      "\n",
      "          0       0.98      0.83      0.89      3670\n",
      "          1       0.18      0.65      0.28       213\n",
      "\n",
      "avg / total       0.93      0.82      0.86      3883\n",
      "\n",
      "('Accuracy: ', 0.772856039144991)\n",
      "---Classification Report---\n",
      "Weight: 26\n",
      "             precision    recall  f1-score   support\n",
      "\n",
      "          0       0.98      0.78      0.87      3670\n",
      "          1       0.16      0.71      0.26       213\n",
      "\n",
      "avg / total       0.93      0.77      0.83      3883\n",
      "\n",
      "('Accuracy: ', 0.7481328869430852)\n",
      "---Classification Report---\n",
      "Weight: 30\n",
      "             precision    recall  f1-score   support\n",
      "\n",
      "          0       0.98      0.75      0.85      3670\n",
      "          1       0.15      0.77      0.25       213\n",
      "\n",
      "avg / total       0.94      0.75      0.82      3883\n",
      "\n"
     ]
    }
   ],
   "source": [
    "#xgboost = xgb.XGBClassifier(learning_rate = 0.001,\\\n",
    "#                            n_estimators= 2000,\\\n",
    "#                            max_depth= 4,\\\n",
    "#                            min_child_weight= 2,\\\n",
    "#                            gamma=0.7,\\\n",
    "#                            subsample=0.7,\\\n",
    "#                            colsample_bytree=0.7,\\\n",
    "#                            objective= 'binary:logistic',\\\n",
    "#                            scale_pos_weight=(negative/positive)\n",
    "#                           )\n",
    "\n",
    "for w in [10,15,18,20,26,30]:\n",
    "    xgboost = xgb.XGBClassifier(learning_rate = 0.1,\\\n",
    "                                n_estimators= 1000,\\\n",
    "                                max_depth= 5,\\\n",
    "                                #min_child_weight= 1,\\\n",
    "                                gamma=0,\\\n",
    "                                subsample=0.8,\\\n",
    "                                colsample_bytree=0.8,\\\n",
    "                                objective= 'binary:logistic',\\\n",
    "                                scale_pos_weight= 1,\n",
    "                                seed=27\n",
    "                               )\n",
    "\n",
    "    xgboost.fit(X_train, y_train, eval_metric='aucpr')\n",
    "    pred = (xgboost.predict_proba(X_test)[:,1])\n",
    "    accuracy = accuracy_score(y_test, pred.round(), normalize=False)\n",
    "\n",
    "    print(\"Accuracy: \", accuracy / float(pred.size))\n",
    "\n",
    "    for i in xrange(0,pred.size):\n",
    "        if (pred[i] >= 0.5):\n",
    "            pred[i] = 1\n",
    "        else: \n",
    "            pred[i] = 0\n",
    "\n",
    "    print('---Classification Report---')\n",
    "    print('Weight: ' + str(w))\n",
    "    print(classification_report(y_test,pred))"
   ]
  },
  {
   "cell_type": "code",
   "execution_count": 196,
   "metadata": {},
   "outputs": [],
   "source": [
    "x_test_df = pd.DataFrame(data=X_test, columns=features)\n",
    "x_test_df['index'] = x_test_df.index\n",
    "x_label_pred = pd.DataFrame({'label': y_test, 'pred': pred})\n",
    "x_label_pred['index'] = x_label_pred.index"
   ]
  },
  {
   "cell_type": "code",
   "execution_count": 96,
   "metadata": {},
   "outputs": [],
   "source": [
    "merged = pd.merge(x_test_df, x_label_pred, how='inner', on='index')\n",
    "falsos_positivos = merged.loc[(merged['label'] == 1) & (merged['pred'] < 0.5)]['label'].count()\n",
    "falsos_negativos = merged.loc[(merged['label'] == 0) & (merged['pred'] >= 0.5)]['label'].count()\n",
    "unos = merged.loc[(merged['label'] == 1) & (merged['pred'] >= 0.5)]['label'].count()\n",
    "ceros = merged.loc[(merged['label'] == 0) & (merged['pred'] < 0.5)]['label'].count()"
   ]
  },
  {
   "cell_type": "code",
   "execution_count": 97,
   "metadata": {},
   "outputs": [
    {
     "name": "stdout",
     "output_type": "stream",
     "text": [
      "1s predichos como 0s: 18\n",
      "0s predichos como 1s: 1458\n",
      "1s bien predichos: 161\n",
      "0s bien predichos: 2246\n"
     ]
    }
   ],
   "source": [
    "print '1s predichos como 0s: '+ str(falsos_positivos)\n",
    "print '0s predichos como 1s: '+ str(falsos_negativos)\n",
    "print '1s bien predichos: ' + str(unos)\n",
    "print '0s bien predichos: ' + str(ceros)"
   ]
  },
  {
   "cell_type": "markdown",
   "metadata": {},
   "source": [
    "## Analizamos cuales son los features que mayor peso tienen para xgboost."
   ]
  },
  {
   "cell_type": "code",
   "execution_count": 98,
   "metadata": {
    "scrolled": true
   },
   "outputs": [
    {
     "name": "stdout",
     "output_type": "stream",
     "text": [
      "[0.1615276  0.00757857 0.10873765 0.00341779 0.00356639 0.00445798\n",
      " 0.00159744 0.00442083 0.04914927 0.02975704 0.04502563 0.04353964\n",
      " 0.06790995 0.03466082 0.03239468 0.03588677 0.05353295 0.06423211\n",
      " 0.05568764 0.07500558 0.02804815 0.08986552]\n"
     ]
    }
   ],
   "source": [
    "print(xgboost.feature_importances_)"
   ]
  },
  {
   "cell_type": "code",
   "execution_count": 99,
   "metadata": {},
   "outputs": [
    {
     "data": {
      "text/html": [
       "<div>\n",
       "<style scoped>\n",
       "    .dataframe tbody tr th:only-of-type {\n",
       "        vertical-align: middle;\n",
       "    }\n",
       "\n",
       "    .dataframe tbody tr th {\n",
       "        vertical-align: top;\n",
       "    }\n",
       "\n",
       "    .dataframe thead th {\n",
       "        text-align: right;\n",
       "    }\n",
       "</style>\n",
       "<table border=\"1\" class=\"dataframe\">\n",
       "  <thead>\n",
       "    <tr style=\"text-align: right;\">\n",
       "      <th></th>\n",
       "      <th>features</th>\n",
       "      <th>importancia</th>\n",
       "    </tr>\n",
       "  </thead>\n",
       "  <tbody>\n",
       "    <tr>\n",
       "      <th>0</th>\n",
       "      <td>cant_total_eventos</td>\n",
       "      <td>0.161528</td>\n",
       "    </tr>\n",
       "    <tr>\n",
       "      <th>2</th>\n",
       "      <td>mean_events_per_day</td>\n",
       "      <td>0.108738</td>\n",
       "    </tr>\n",
       "    <tr>\n",
       "      <th>21</th>\n",
       "      <td>first_and_last_event_distance_in_days</td>\n",
       "      <td>0.089866</td>\n",
       "    </tr>\n",
       "    <tr>\n",
       "      <th>19</th>\n",
       "      <td>tasa_cc</td>\n",
       "      <td>0.075006</td>\n",
       "    </tr>\n",
       "    <tr>\n",
       "      <th>12</th>\n",
       "      <td>cant_buenos</td>\n",
       "      <td>0.067910</td>\n",
       "    </tr>\n",
       "    <tr>\n",
       "      <th>17</th>\n",
       "      <td>cantidad_checkouts</td>\n",
       "      <td>0.064232</td>\n",
       "    </tr>\n",
       "    <tr>\n",
       "      <th>18</th>\n",
       "      <td>cantidad_conversions</td>\n",
       "      <td>0.055688</td>\n",
       "    </tr>\n",
       "    <tr>\n",
       "      <th>16</th>\n",
       "      <td>favorite_device_Computer</td>\n",
       "      <td>0.053533</td>\n",
       "    </tr>\n",
       "    <tr>\n",
       "      <th>8</th>\n",
       "      <td>cant_ev_noche</td>\n",
       "      <td>0.049149</td>\n",
       "    </tr>\n",
       "    <tr>\n",
       "      <th>10</th>\n",
       "      <td>cant_ev_tarde</td>\n",
       "      <td>0.045026</td>\n",
       "    </tr>\n",
       "    <tr>\n",
       "      <th>11</th>\n",
       "      <td>cant_ev_madrugada</td>\n",
       "      <td>0.043540</td>\n",
       "    </tr>\n",
       "    <tr>\n",
       "      <th>15</th>\n",
       "      <td>favorite_device_Smartphone</td>\n",
       "      <td>0.035887</td>\n",
       "    </tr>\n",
       "    <tr>\n",
       "      <th>13</th>\n",
       "      <td>cant_muy_buenos</td>\n",
       "      <td>0.034661</td>\n",
       "    </tr>\n",
       "    <tr>\n",
       "      <th>14</th>\n",
       "      <td>cant_excelentes</td>\n",
       "      <td>0.032395</td>\n",
       "    </tr>\n",
       "    <tr>\n",
       "      <th>9</th>\n",
       "      <td>cant_ev_manana</td>\n",
       "      <td>0.029757</td>\n",
       "    </tr>\n",
       "    <tr>\n",
       "      <th>20</th>\n",
       "      <td>searched products</td>\n",
       "      <td>0.028048</td>\n",
       "    </tr>\n",
       "    <tr>\n",
       "      <th>1</th>\n",
       "      <td>marca_favorita_apple</td>\n",
       "      <td>0.007579</td>\n",
       "    </tr>\n",
       "    <tr>\n",
       "      <th>5</th>\n",
       "      <td>most_viewed_color_Dourado</td>\n",
       "      <td>0.004458</td>\n",
       "    </tr>\n",
       "    <tr>\n",
       "      <th>7</th>\n",
       "      <td>marca_favorita_samsung</td>\n",
       "      <td>0.004421</td>\n",
       "    </tr>\n",
       "    <tr>\n",
       "      <th>4</th>\n",
       "      <td>most_viewed_color_Branco</td>\n",
       "      <td>0.003566</td>\n",
       "    </tr>\n",
       "    <tr>\n",
       "      <th>3</th>\n",
       "      <td>most_viewed_color_Preto</td>\n",
       "      <td>0.003418</td>\n",
       "    </tr>\n",
       "    <tr>\n",
       "      <th>6</th>\n",
       "      <td>region_brasil_Sao Paulo</td>\n",
       "      <td>0.001597</td>\n",
       "    </tr>\n",
       "  </tbody>\n",
       "</table>\n",
       "</div>"
      ],
      "text/plain": [
       "                                 features  importancia\n",
       "0                      cant_total_eventos     0.161528\n",
       "2                     mean_events_per_day     0.108738\n",
       "21  first_and_last_event_distance_in_days     0.089866\n",
       "19                                tasa_cc     0.075006\n",
       "12                            cant_buenos     0.067910\n",
       "17                     cantidad_checkouts     0.064232\n",
       "18                   cantidad_conversions     0.055688\n",
       "16               favorite_device_Computer     0.053533\n",
       "8                           cant_ev_noche     0.049149\n",
       "10                          cant_ev_tarde     0.045026\n",
       "11                      cant_ev_madrugada     0.043540\n",
       "15             favorite_device_Smartphone     0.035887\n",
       "13                        cant_muy_buenos     0.034661\n",
       "14                        cant_excelentes     0.032395\n",
       "9                          cant_ev_manana     0.029757\n",
       "20                      searched products     0.028048\n",
       "1                    marca_favorita_apple     0.007579\n",
       "5               most_viewed_color_Dourado     0.004458\n",
       "7                  marca_favorita_samsung     0.004421\n",
       "4                most_viewed_color_Branco     0.003566\n",
       "3                 most_viewed_color_Preto     0.003418\n",
       "6                 region_brasil_Sao Paulo     0.001597"
      ]
     },
     "execution_count": 99,
     "metadata": {},
     "output_type": "execute_result"
    }
   ],
   "source": [
    "fi = pd.DataFrame({'features': features, 'importancia': xgboost.feature_importances_})\n",
    "#fi.sort_values(ascending=False, by='importancia').plot.bar()\n",
    "fi.sort_values(by='importancia', ascending=False)"
   ]
  },
  {
   "cell_type": "code",
   "execution_count": 100,
   "metadata": {
    "scrolled": false
   },
   "outputs": [
    {
     "data": {
      "image/png": "[encoded data removed]",
      "text/plain": [
       "<Figure size 432x288 with 1 Axes>"
      ]
     },
     "metadata": {
      "needs_background": "light"
     },
     "output_type": "display_data"
    }
   ],
   "source": [
    "plot = plot_importance(xgboost)\n",
    "#plot.set_yticklabels(features, fontdict=None, minor=False)\n",
    "pyplot.show()"
   ]
  },
  {
   "cell_type": "code",
   "execution_count": 70,
   "metadata": {},
   "outputs": [],
   "source": [
    "negative = training_set.loc[training_set['label'] == 0]['label'].count()\n",
    "positive = training_set.loc[training_set['label'] == 1]['label'].count()"
   ]
  },
  {
   "cell_type": "code",
   "execution_count": 149,
   "metadata": {},
   "outputs": [],
   "source": [
    "xgboost = xgb.XGBClassifier(learning_rate = 0.0001,\\\n",
    "                                n_estimators= 2000,\\\n",
    "                                max_depth= 4,\\\n",
    "                                min_child_weight= 2,\\\n",
    "                                gamma=0.9,\\\n",
    "                                subsample=0.7,\\\n",
    "                                colsample_bytree=0.7,\\\n",
    "                                objective= 'binary:logistic',\\\n",
    "                                scale_pos_weight= w\n",
    "                               )\n",
    "\n",
    "xgboost.fit(x,y, eval_metric='aucpr')\n",
    "pred = (xgboost.predict_proba(z)[:,1])"
   ]
  },
  {
   "cell_type": "code",
   "execution_count": 150,
   "metadata": {},
   "outputs": [],
   "source": [
    "submit = pd.DataFrame({'label': pred, 'person': persons})\n",
    "submit = submit[['person', 'label']]\n",
    "submit.to_csv('../submits/xgboost.csv', index=False)"
   ]
  },
  {
   "cell_type": "code",
   "execution_count": 151,
   "metadata": {},
   "outputs": [
    {
     "name": "stdout",
     "output_type": "stream",
     "text": [
      "Cantidad de no conversiones: 11097\n",
      "Cantidad de conversiones: 8318\n"
     ]
    }
   ],
   "source": [
    "no_conversiones = submit.loc[submit['label'] < 0.5]['label'].count()\n",
    "print 'Cantidad de no conversiones: ' + str(no_conversiones)\n",
    "\n",
    "conversiones = submit.loc[submit['label'] >= 0.5]['label'].count()\n",
    "print 'Cantidad de conversiones: ' + str(conversiones)"
   ]
  },
  {
   "cell_type": "code",
   "execution_count": 152,
   "metadata": {},
   "outputs": [
    {
     "data": {
      "text/plain": [
       "0.49179837107658386"
      ]
     },
     "execution_count": 152,
     "metadata": {},
     "output_type": "execute_result"
    }
   ],
   "source": [
    "submit['label'].mean()"
   ]
  },
  {
   "cell_type": "code",
   "execution_count": null,
   "metadata": {},
   "outputs": [],
   "source": []
  }
 ],
 "metadata": {
  "kernelspec": {
   "display_name": "Python 2",
   "language": "python",
   "name": "python2"
  },
  "language_info": {
   "codemirror_mode": {
    "name": "ipython",
    "version": 2
   },
   "file_extension": ".py",
   "mimetype": "text/x-python",
   "name": "python",
   "nbconvert_exporter": "python",
   "pygments_lexer": "ipython2",
   "version": "2.7.15"
  }
 },
 "nbformat": 4,
 "nbformat_minor": 2
}
