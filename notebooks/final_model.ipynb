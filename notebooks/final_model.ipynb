{
 "cells": [
  {
   "cell_type": "code",
   "execution_count": 32,
   "metadata": {},
   "outputs": [],
   "source": [
    "# loading libraries\n",
    "\n",
    "import pandas as pd\n",
    "import pandas as pd\n",
    "import numpy as np\n",
    "from sklearn.cross_validation import train_test_split\n",
    "from sklearn.neighbors import KNeighborsClassifier\n",
    "from sklearn.metrics import accuracy_score"
   ]
  },
  {
   "cell_type": "markdown",
   "metadata": {},
   "source": [
    "## Cargo csvs de features"
   ]
  },
  {
   "cell_type": "code",
   "execution_count": 2,
   "metadata": {},
   "outputs": [],
   "source": [
    "features_gaby = pd.read_csv('../features/features_gaby.csv')\n",
    "#features_gonza = pd.read_csv('../features/most_viewed_sku_per_person.csv').drop(columns='Unnamed: 0')\n",
    "features_ari = pd.read_csv('../features/features_ariel.csv')\n",
    "#features_mati = pd.read_csv('../features/events_qty_per_person.csv')\n",
    "labels_training_set = pd.read_csv('../dataset/labels_training_set.csv')\n",
    "test_set = pd.read_csv('../dataset/trocafone_kaggle_test.csv')"
   ]
  },
  {
   "cell_type": "code",
   "execution_count": 3,
   "metadata": {
    "scrolled": true
   },
   "outputs": [
    {
     "data": {
      "text/html": [
       "<div>\n",
       "<style scoped>\n",
       "    .dataframe tbody tr th:only-of-type {\n",
       "        vertical-align: middle;\n",
       "    }\n",
       "\n",
       "    .dataframe tbody tr th {\n",
       "        vertical-align: top;\n",
       "    }\n",
       "\n",
       "    .dataframe thead th {\n",
       "        text-align: right;\n",
       "    }\n",
       "</style>\n",
       "<table border=\"1\" class=\"dataframe\">\n",
       "  <thead>\n",
       "    <tr style=\"text-align: right;\">\n",
       "      <th></th>\n",
       "      <th>person</th>\n",
       "      <th>marca_favorita_apple</th>\n",
       "      <th>marca_favorita_asus</th>\n",
       "      <th>marca_favorita_lenovo</th>\n",
       "      <th>marca_favorita_lg</th>\n",
       "      <th>marca_favorita_motorola</th>\n",
       "      <th>marca_favorita_no tiene</th>\n",
       "      <th>marca_favorita_quantum</th>\n",
       "      <th>marca_favorita_samsung</th>\n",
       "      <th>marca_favorita_sony</th>\n",
       "      <th>...</th>\n",
       "      <th>cant_ev_madrugada</th>\n",
       "      <th>cant_ev_tarde</th>\n",
       "      <th>cant_ev_manana</th>\n",
       "      <th>cant_ev_noche</th>\n",
       "      <th>franja_horaria_moda</th>\n",
       "      <th>cant_muy_buenos</th>\n",
       "      <th>cant_excelentes</th>\n",
       "      <th>cant_nuevos</th>\n",
       "      <th>cant_buenos</th>\n",
       "      <th>condicion_de_producto_moda</th>\n",
       "    </tr>\n",
       "  </thead>\n",
       "  <tbody>\n",
       "    <tr>\n",
       "      <th>0</th>\n",
       "      <td>0008ed71</td>\n",
       "      <td>1</td>\n",
       "      <td>0</td>\n",
       "      <td>0</td>\n",
       "      <td>0</td>\n",
       "      <td>0</td>\n",
       "      <td>0</td>\n",
       "      <td>0</td>\n",
       "      <td>0</td>\n",
       "      <td>0</td>\n",
       "      <td>...</td>\n",
       "      <td>0</td>\n",
       "      <td>6</td>\n",
       "      <td>0</td>\n",
       "      <td>0</td>\n",
       "      <td>cant_ev_tarde</td>\n",
       "      <td>1</td>\n",
       "      <td>0</td>\n",
       "      <td>0</td>\n",
       "      <td>2</td>\n",
       "      <td>buenos</td>\n",
       "    </tr>\n",
       "    <tr>\n",
       "      <th>1</th>\n",
       "      <td>00091926</td>\n",
       "      <td>1</td>\n",
       "      <td>0</td>\n",
       "      <td>0</td>\n",
       "      <td>0</td>\n",
       "      <td>0</td>\n",
       "      <td>0</td>\n",
       "      <td>0</td>\n",
       "      <td>0</td>\n",
       "      <td>0</td>\n",
       "      <td>...</td>\n",
       "      <td>313</td>\n",
       "      <td>0</td>\n",
       "      <td>0</td>\n",
       "      <td>135</td>\n",
       "      <td>cant_ev_madrugada</td>\n",
       "      <td>163</td>\n",
       "      <td>108</td>\n",
       "      <td>1</td>\n",
       "      <td>102</td>\n",
       "      <td>muy buenos</td>\n",
       "    </tr>\n",
       "    <tr>\n",
       "      <th>2</th>\n",
       "      <td>00091a7a</td>\n",
       "      <td>1</td>\n",
       "      <td>0</td>\n",
       "      <td>0</td>\n",
       "      <td>0</td>\n",
       "      <td>0</td>\n",
       "      <td>0</td>\n",
       "      <td>0</td>\n",
       "      <td>0</td>\n",
       "      <td>0</td>\n",
       "      <td>...</td>\n",
       "      <td>0</td>\n",
       "      <td>10</td>\n",
       "      <td>0</td>\n",
       "      <td>0</td>\n",
       "      <td>cant_ev_tarde</td>\n",
       "      <td>0</td>\n",
       "      <td>2</td>\n",
       "      <td>0</td>\n",
       "      <td>1</td>\n",
       "      <td>excelentes</td>\n",
       "    </tr>\n",
       "    <tr>\n",
       "      <th>3</th>\n",
       "      <td>000ba417</td>\n",
       "      <td>0</td>\n",
       "      <td>0</td>\n",
       "      <td>0</td>\n",
       "      <td>0</td>\n",
       "      <td>0</td>\n",
       "      <td>0</td>\n",
       "      <td>0</td>\n",
       "      <td>1</td>\n",
       "      <td>0</td>\n",
       "      <td>...</td>\n",
       "      <td>0</td>\n",
       "      <td>149</td>\n",
       "      <td>57</td>\n",
       "      <td>0</td>\n",
       "      <td>cant_ev_tarde</td>\n",
       "      <td>34</td>\n",
       "      <td>11</td>\n",
       "      <td>0</td>\n",
       "      <td>115</td>\n",
       "      <td>buenos</td>\n",
       "    </tr>\n",
       "    <tr>\n",
       "      <th>4</th>\n",
       "      <td>000c79fe</td>\n",
       "      <td>1</td>\n",
       "      <td>0</td>\n",
       "      <td>0</td>\n",
       "      <td>0</td>\n",
       "      <td>0</td>\n",
       "      <td>0</td>\n",
       "      <td>0</td>\n",
       "      <td>0</td>\n",
       "      <td>0</td>\n",
       "      <td>...</td>\n",
       "      <td>17</td>\n",
       "      <td>0</td>\n",
       "      <td>0</td>\n",
       "      <td>0</td>\n",
       "      <td>cant_ev_madrugada</td>\n",
       "      <td>0</td>\n",
       "      <td>0</td>\n",
       "      <td>0</td>\n",
       "      <td>4</td>\n",
       "      <td>buenos</td>\n",
       "    </tr>\n",
       "  </tbody>\n",
       "</table>\n",
       "<p>5 rows × 39 columns</p>\n",
       "</div>"
      ],
      "text/plain": [
       "     person  marca_favorita_apple  marca_favorita_asus  marca_favorita_lenovo  \\\n",
       "0  0008ed71                     1                    0                      0   \n",
       "1  00091926                     1                    0                      0   \n",
       "2  00091a7a                     1                    0                      0   \n",
       "3  000ba417                     0                    0                      0   \n",
       "4  000c79fe                     1                    0                      0   \n",
       "\n",
       "   marca_favorita_lg  marca_favorita_motorola  marca_favorita_no tiene  \\\n",
       "0                  0                        0                        0   \n",
       "1                  0                        0                        0   \n",
       "2                  0                        0                        0   \n",
       "3                  0                        0                        0   \n",
       "4                  0                        0                        0   \n",
       "\n",
       "   marca_favorita_quantum  marca_favorita_samsung  marca_favorita_sony  \\\n",
       "0                       0                       0                    0   \n",
       "1                       0                       0                    0   \n",
       "2                       0                       0                    0   \n",
       "3                       0                       1                    0   \n",
       "4                       0                       0                    0   \n",
       "\n",
       "              ...              cant_ev_madrugada  cant_ev_tarde  \\\n",
       "0             ...                              0              6   \n",
       "1             ...                            313              0   \n",
       "2             ...                              0             10   \n",
       "3             ...                              0            149   \n",
       "4             ...                             17              0   \n",
       "\n",
       "   cant_ev_manana  cant_ev_noche  franja_horaria_moda  cant_muy_buenos  \\\n",
       "0               0              0        cant_ev_tarde                1   \n",
       "1               0            135    cant_ev_madrugada              163   \n",
       "2               0              0        cant_ev_tarde                0   \n",
       "3              57              0        cant_ev_tarde               34   \n",
       "4               0              0    cant_ev_madrugada                0   \n",
       "\n",
       "   cant_excelentes  cant_nuevos  cant_buenos  condicion_de_producto_moda  \n",
       "0                0            0            2                      buenos  \n",
       "1              108            1          102                  muy buenos  \n",
       "2                2            0            1                  excelentes  \n",
       "3               11            0          115                      buenos  \n",
       "4                0            0            4                      buenos  \n",
       "\n",
       "[5 rows x 39 columns]"
      ]
     },
     "execution_count": 3,
     "metadata": {},
     "output_type": "execute_result"
    }
   ],
   "source": [
    "#model_df = pd.merge(features_gaby, features_gonza, how='inner', on='person')\n",
    "model_df = pd.merge(features_gaby, features_ari, how='inner', on='person')\n",
    "#model_df = pd.merge(model_df, features_gaby, how='inner', on='person')\n",
    "model_df.head()"
   ]
  },
  {
   "cell_type": "markdown",
   "metadata": {},
   "source": [
    "## Mergeo el model_df con las labesl de entrenamiento y el modelo con las personas que quiero testear\n",
    "\n",
    "### Nos quedan dos dataframes, uno de entrenamiento con todos nuestros features y labels\n",
    "### Y otro tests con todos nuestros features pero sin los labels, los labels es lo que queremos predecir."
   ]
  },
  {
   "cell_type": "code",
   "execution_count": 4,
   "metadata": {},
   "outputs": [],
   "source": [
    "training_set = pd.merge(model_df, labels_training_set, how='inner', on='person')\n",
    "test_set = pd.merge(model_df, test_set, how='inner', on='person')"
   ]
  },
  {
   "cell_type": "code",
   "execution_count": 5,
   "metadata": {},
   "outputs": [],
   "source": [
    "training_set.drop(columns= 'Unnamed: 0', inplace=True)"
   ]
  },
  {
   "cell_type": "code",
   "execution_count": 6,
   "metadata": {
    "scrolled": true
   },
   "outputs": [
    {
     "name": "stdout",
     "output_type": "stream",
     "text": [
      "<class 'pandas.core.frame.DataFrame'>\n",
      "Int64Index: 19414 entries, 0 to 19413\n",
      "Data columns (total 39 columns):\n",
      "person                                   19414 non-null object\n",
      "marca_favorita_apple                     19414 non-null int64\n",
      "marca_favorita_asus                      19414 non-null int64\n",
      "marca_favorita_lenovo                    19414 non-null int64\n",
      "marca_favorita_lg                        19414 non-null int64\n",
      "marca_favorita_motorola                  19414 non-null int64\n",
      "marca_favorita_no tiene                  19414 non-null int64\n",
      "marca_favorita_quantum                   19414 non-null int64\n",
      "marca_favorita_samsung                   19414 non-null int64\n",
      "marca_favorita_sony                      19414 non-null int64\n",
      "nivel_de_actividad_Muy Bajo              19414 non-null int64\n",
      "nivel_de_actividad_Bajo                  19414 non-null int64\n",
      "nivel_de_actividad_Medio                 19414 non-null int64\n",
      "nivel_de_actividad_Alto                  19414 non-null int64\n",
      "nivel_de_actividad_Muy Alto              19414 non-null int64\n",
      "cant_accesos_north                       19414 non-null int64\n",
      "cant_accesos_center_west                 19414 non-null int64\n",
      "cant_accesos_southeast                   19414 non-null int64\n",
      "cant_accesos_south                       19414 non-null int64\n",
      "cant_accesos_northeast                   19414 non-null int64\n",
      "time_first_event                         19414 non-null object\n",
      "time_last_event                          19414 non-null object\n",
      "how_long_ago_was_first_event             19414 non-null object\n",
      "how_long_ago_was_last_event              19414 non-null object\n",
      "first_and_last_event_distance            19414 non-null object\n",
      "cant_total_eventos                       19414 non-null int64\n",
      "first_and_last_event_distance_in_days    19414 non-null int64\n",
      "mean_events_per_day                      19414 non-null float64\n",
      "cant_ev_madrugada                        19414 non-null int64\n",
      "cant_ev_tarde                            19414 non-null int64\n",
      "cant_ev_manana                           19414 non-null int64\n",
      "cant_ev_noche                            19414 non-null int64\n",
      "franja_horaria_moda                      19414 non-null object\n",
      "cant_muy_buenos                          19414 non-null int64\n",
      "cant_excelentes                          19414 non-null int64\n",
      "cant_nuevos                              19414 non-null int64\n",
      "cant_buenos                              19414 non-null int64\n",
      "condicion_de_producto_moda               19414 non-null object\n",
      "label                                    19414 non-null int64\n",
      "dtypes: float64(1), int64(30), object(8)\n",
      "memory usage: 5.9+ MB\n"
     ]
    }
   ],
   "source": [
    "training_set.info()"
   ]
  },
  {
   "cell_type": "markdown",
   "metadata": {},
   "source": [
    "## Como se puede observar en nuestro set de entrenamiento predomina el label 0"
   ]
  },
  {
   "cell_type": "code",
   "execution_count": 7,
   "metadata": {
    "scrolled": false
   },
   "outputs": [
    {
     "data": {
      "text/plain": [
       "0    18434\n",
       "1      980\n",
       "Name: label, dtype: int64"
      ]
     },
     "execution_count": 7,
     "metadata": {},
     "output_type": "execute_result"
    }
   ],
   "source": [
    "training_set['label'].value_counts()"
   ]
  },
  {
   "cell_type": "markdown",
   "metadata": {},
   "source": [
    "### Elimino filas con label igual a 0 para nivelar el dataframe\n",
    "\n",
    "# Preguntar de cual es la mejor manera de hacer esto"
   ]
  },
  {
   "cell_type": "code",
   "execution_count": 8,
   "metadata": {},
   "outputs": [],
   "source": [
    "r_training_set = training_set.drop(training_set[training_set.label.eq(0)].sample(13000).index)"
   ]
  },
  {
   "cell_type": "code",
   "execution_count": 9,
   "metadata": {
    "scrolled": false
   },
   "outputs": [
    {
     "data": {
      "text/plain": [
       "0    5434\n",
       "1     980\n",
       "Name: label, dtype: int64"
      ]
     },
     "execution_count": 9,
     "metadata": {},
     "output_type": "execute_result"
    }
   ],
   "source": [
    "r_training_set['label'].value_counts()"
   ]
  },
  {
   "cell_type": "code",
   "execution_count": 10,
   "metadata": {
    "scrolled": true
   },
   "outputs": [
    {
     "name": "stdout",
     "output_type": "stream",
     "text": [
      "<class 'pandas.core.frame.DataFrame'>\n",
      "Int64Index: 6414 entries, 2 to 19397\n",
      "Data columns (total 39 columns):\n",
      "person                                   6414 non-null object\n",
      "marca_favorita_apple                     6414 non-null int64\n",
      "marca_favorita_asus                      6414 non-null int64\n",
      "marca_favorita_lenovo                    6414 non-null int64\n",
      "marca_favorita_lg                        6414 non-null int64\n",
      "marca_favorita_motorola                  6414 non-null int64\n",
      "marca_favorita_no tiene                  6414 non-null int64\n",
      "marca_favorita_quantum                   6414 non-null int64\n",
      "marca_favorita_samsung                   6414 non-null int64\n",
      "marca_favorita_sony                      6414 non-null int64\n",
      "nivel_de_actividad_Muy Bajo              6414 non-null int64\n",
      "nivel_de_actividad_Bajo                  6414 non-null int64\n",
      "nivel_de_actividad_Medio                 6414 non-null int64\n",
      "nivel_de_actividad_Alto                  6414 non-null int64\n",
      "nivel_de_actividad_Muy Alto              6414 non-null int64\n",
      "cant_accesos_north                       6414 non-null int64\n",
      "cant_accesos_center_west                 6414 non-null int64\n",
      "cant_accesos_southeast                   6414 non-null int64\n",
      "cant_accesos_south                       6414 non-null int64\n",
      "cant_accesos_northeast                   6414 non-null int64\n",
      "time_first_event                         6414 non-null object\n",
      "time_last_event                          6414 non-null object\n",
      "how_long_ago_was_first_event             6414 non-null object\n",
      "how_long_ago_was_last_event              6414 non-null object\n",
      "first_and_last_event_distance            6414 non-null object\n",
      "cant_total_eventos                       6414 non-null int64\n",
      "first_and_last_event_distance_in_days    6414 non-null int64\n",
      "mean_events_per_day                      6414 non-null float64\n",
      "cant_ev_madrugada                        6414 non-null int64\n",
      "cant_ev_tarde                            6414 non-null int64\n",
      "cant_ev_manana                           6414 non-null int64\n",
      "cant_ev_noche                            6414 non-null int64\n",
      "franja_horaria_moda                      6414 non-null object\n",
      "cant_muy_buenos                          6414 non-null int64\n",
      "cant_excelentes                          6414 non-null int64\n",
      "cant_nuevos                              6414 non-null int64\n",
      "cant_buenos                              6414 non-null int64\n",
      "condicion_de_producto_moda               6414 non-null object\n",
      "label                                    6414 non-null int64\n",
      "dtypes: float64(1), int64(30), object(8)\n",
      "memory usage: 2.0+ MB\n"
     ]
    }
   ],
   "source": [
    "r_training_set.info()"
   ]
  },
  {
   "cell_type": "markdown",
   "metadata": {},
   "source": [
    "## Elijo que features quiero utilizar"
   ]
  },
  {
   "cell_type": "code",
   "execution_count": 33,
   "metadata": {},
   "outputs": [],
   "source": [
    "features = ['marca_favorita_apple',\n",
    "           'marca_favorita_asus',\n",
    "           'marca_favorita_lenovo',\n",
    "           'marca_favorita_lg',\n",
    "           'marca_favorita_motorola',\n",
    "           'marca_favorita_no tiene',\n",
    "           'marca_favorita_quantum',\n",
    "           'marca_favorita_samsung',\n",
    "           'marca_favorita_sony',\n",
    "           'nivel_de_actividad_Muy Bajo',\n",
    "           'nivel_de_actividad_Bajo',\n",
    "           'nivel_de_actividad_Medio',\n",
    "           'nivel_de_actividad_Alto',\n",
    "           'nivel_de_actividad_Muy Alto',\n",
    "           'mean_events_per_day',\n",
    "           'cant_total_eventos']"
   ]
  },
  {
   "cell_type": "markdown",
   "metadata": {},
   "source": [
    "## Creo dos arrays el llamado X es generado a partir de mi dataframe de entrenamiento y los features que quiero tener en cuenta\n",
    "## Y el segundo Y es generado a partir de sus labels"
   ]
  },
  {
   "cell_type": "code",
   "execution_count": 12,
   "metadata": {},
   "outputs": [],
   "source": [
    "x = np.array(r_training_set[features])\n",
    "y = np.array(r_training_set['label'])"
   ]
  },
  {
   "cell_type": "markdown",
   "metadata": {},
   "source": [
    "## Preguntar si esto es para cross validation"
   ]
  },
  {
   "cell_type": "code",
   "execution_count": 23,
   "metadata": {
    "scrolled": true
   },
   "outputs": [
    {
     "data": {
      "text/plain": [
       "array([ 0.        ,  0.        ,  0.        ,  0.        ,  0.        ,\n",
       "        0.        ,  0.        ,  1.        ,  0.        ,  0.        ,\n",
       "        1.        ,  0.        ,  0.        ,  0.        ,  6.66666667,\n",
       "       20.        ])"
      ]
     },
     "execution_count": 23,
     "metadata": {},
     "output_type": "execute_result"
    }
   ],
   "source": [
    "X_train, X_test, y_train, y_test = train_test_split(x,y, test_size=0.10, random_state=7506)\n",
    "X_train[1]"
   ]
  },
  {
   "cell_type": "markdown",
   "metadata": {},
   "source": [
    "## Corro KNN para k entre 1 y 203 con paso 2."
   ]
  },
  {
   "cell_type": "code",
   "execution_count": 14,
   "metadata": {},
   "outputs": [],
   "source": [
    "best_accuracy = 0\n",
    "worst_accuracy = 1\n",
    "best_k = 0\n",
    "worst_k = 0\n",
    "best_prediction = []\n",
    "\n",
    "for i in xrange(1,203,2):\n",
    "    knn = KNeighborsClassifier(n_neighbors=i)\n",
    "    knn.fit(X_train, y_train)\n",
    "    pred = knn.predict(X_test)\n",
    "    accuracy = accuracy_score(y_test,pred)\n",
    "    if (accuracy > best_accuracy) :\n",
    "        best_k = i\n",
    "        best_accuracy = accuracy\n",
    "        best_prediction = pred\n",
    "    if (accuracy < worst_accuracy) : \n",
    "        worst_accuracy = accuracy\n",
    "        worst_k = i"
   ]
  },
  {
   "cell_type": "code",
   "execution_count": 15,
   "metadata": {
    "scrolled": true
   },
   "outputs": [
    {
     "name": "stdout",
     "output_type": "stream",
     "text": [
      "Best accuracy: 0.8613707165109035 with k=21\n",
      "Worst accuracy: 0.7881619937694704 with k= 1\n"
     ]
    }
   ],
   "source": [
    "print 'Best accuracy: ' + str(best_accuracy) + ' with k='  + str(best_k)\n",
    "print 'Worst accuracy: ' + str(worst_accuracy) + ' with k= ' + str(worst_k)"
   ]
  },
  {
   "cell_type": "markdown",
   "metadata": {},
   "source": [
    "## Esto lo hago para ver cuantos 0s y 1s me dio"
   ]
  },
  {
   "cell_type": "code",
   "execution_count": 26,
   "metadata": {
    "scrolled": true
   },
   "outputs": [
    {
     "data": {
      "text/plain": [
       "array([0, 1])"
      ]
     },
     "execution_count": 26,
     "metadata": {},
     "output_type": "execute_result"
    }
   ],
   "source": [
    "bunique_elements, counts_elements = np.unique(best_prediction, return_counts=True)\n",
    "bunique_elements"
   ]
  },
  {
   "cell_type": "code",
   "execution_count": 27,
   "metadata": {
    "scrolled": true
   },
   "outputs": [
    {
     "data": {
      "text/plain": [
       "array([639,   3])"
      ]
     },
     "execution_count": 27,
     "metadata": {},
     "output_type": "execute_result"
    }
   ],
   "source": [
    "counts_elements"
   ]
  },
  {
   "cell_type": "markdown",
   "metadata": {},
   "source": [
    "## Corro KNN con el mejor K que obtuvimos antes para el set de test"
   ]
  },
  {
   "cell_type": "code",
   "execution_count": 28,
   "metadata": {},
   "outputs": [],
   "source": [
    "z = np.array(test_set[features])\n",
    "knn = KNeighborsClassifier(n_neighbors=best_k)\n",
    "knn.fit(x,y)\n",
    "pred = knn.predict(z)"
   ]
  },
  {
   "cell_type": "code",
   "execution_count": 29,
   "metadata": {},
   "outputs": [],
   "source": [
    "persons = test_set['person']"
   ]
  },
  {
   "cell_type": "code",
   "execution_count": 30,
   "metadata": {},
   "outputs": [
    {
     "data": {
      "text/plain": [
       "0    19306\n",
       "1      109\n",
       "Name: label, dtype: int64"
      ]
     },
     "execution_count": 30,
     "metadata": {},
     "output_type": "execute_result"
    }
   ],
   "source": [
    "submit = pd.DataFrame({'label': pred, 'person': persons})\n",
    "submit = submit[['person', 'label']]\n",
    "\n",
    "submit.to_csv('../submits/submit_test2_knn.csv', index=False)\n",
    "submit['label'].value_counts()"
   ]
  },
  {
   "cell_type": "code",
   "execution_count": 31,
   "metadata": {},
   "outputs": [
    {
     "data": {
      "text/plain": [
       "0    18188\n",
       "1     1227\n",
       "Name: label, dtype: int64"
      ]
     },
     "execution_count": 31,
     "metadata": {},
     "output_type": "execute_result"
    }
   ],
   "source": [
    "primer = pd.read_csv('../submits/1er_submit.csv')\n",
    "primer['label'].value_counts()"
   ]
  },
  {
   "cell_type": "code",
   "execution_count": null,
   "metadata": {},
   "outputs": [],
   "source": []
  }
 ],
 "metadata": {
  "kernelspec": {
   "display_name": "Python 2",
   "language": "python",
   "name": "python2"
  },
  "language_info": {
   "codemirror_mode": {
    "name": "ipython",
    "version": 2
   },
   "file_extension": ".py",
   "mimetype": "text/x-python",
   "name": "python",
   "nbconvert_exporter": "python",
   "pygments_lexer": "ipython2",
   "version": "2.7.15"
  }
 },
 "nbformat": 4,
 "nbformat_minor": 2
}
