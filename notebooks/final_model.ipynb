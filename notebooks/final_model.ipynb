{
 "cells": [
  {
   "cell_type": "code",
   "execution_count": 1,
   "metadata": {},
   "outputs": [
    {
     "name": "stderr",
     "output_type": "stream",
     "text": [
      "/home/gonza/anaconda2/lib/python2.7/site-packages/sklearn/cross_validation.py:41: DeprecationWarning: This module was deprecated in version 0.18 in favor of the model_selection module into which all the refactored classes and functions are moved. Also note that the interface of the new CV iterators are different from that of this module. This module will be removed in 0.20.\n",
      "  \"This module will be removed in 0.20.\", DeprecationWarning)\n"
     ]
    }
   ],
   "source": [
    "import pandas as pd\n",
    "# loading libraries\n",
    "import pandas as pd\n",
    "import numpy as np\n",
    "from sklearn.cross_validation import train_test_split\n",
    "from sklearn.neighbors import KNeighborsClassifier\n",
    "from sklearn.metrics import accuracy_score"
   ]
  },
  {
   "cell_type": "code",
   "execution_count": 2,
   "metadata": {},
   "outputs": [],
   "source": [
    "features_gaby = pd.read_csv('../features/features_gaby.csv')\n",
    "#features_gonza = pd.read_csv('../features/most_viewed_sku_per_person.csv').drop(columns='Unnamed: 0')\n",
    "features_ari = pd.read_csv('../features/features_ariel.csv')\n",
    "#features_mati = pd.read_csv('../features/events_qty_per_person.csv')\n",
    "labels_training_set = pd.read_csv('../dataset/labels_training_set.csv')\n",
    "test_set = pd.read_csv('../dataset/trocafone_kaggle_test.csv')"
   ]
  },
  {
   "cell_type": "code",
   "execution_count": 3,
   "metadata": {},
   "outputs": [
    {
     "data": {
      "text/html": [
       "<div>\n",
       "<style scoped>\n",
       "    .dataframe tbody tr th:only-of-type {\n",
       "        vertical-align: middle;\n",
       "    }\n",
       "\n",
       "    .dataframe tbody tr th {\n",
       "        vertical-align: top;\n",
       "    }\n",
       "\n",
       "    .dataframe thead th {\n",
       "        text-align: right;\n",
       "    }\n",
       "</style>\n",
       "<table border=\"1\" class=\"dataframe\">\n",
       "  <thead>\n",
       "    <tr style=\"text-align: right;\">\n",
       "      <th></th>\n",
       "      <th>person</th>\n",
       "      <th>marca_favorita</th>\n",
       "      <th>nivel_de_actividad</th>\n",
       "      <th>Unnamed: 0</th>\n",
       "      <th>cant_accesos_north</th>\n",
       "      <th>cant_accesos_center_west</th>\n",
       "      <th>cant_accesos_southeast</th>\n",
       "      <th>cant_accesos_south</th>\n",
       "      <th>cant_accesos_northeast</th>\n",
       "      <th>time_first_event</th>\n",
       "      <th>...</th>\n",
       "      <th>cant_ev_madrugada</th>\n",
       "      <th>cant_ev_tarde</th>\n",
       "      <th>cant_ev_manana</th>\n",
       "      <th>cant_ev_noche</th>\n",
       "      <th>franja_horaria_moda</th>\n",
       "      <th>cant_muy_buenos</th>\n",
       "      <th>cant_excelentes</th>\n",
       "      <th>cant_nuevos</th>\n",
       "      <th>cant_buenos</th>\n",
       "      <th>condicion_de_producto_moda</th>\n",
       "    </tr>\n",
       "  </thead>\n",
       "  <tbody>\n",
       "    <tr>\n",
       "      <th>0</th>\n",
       "      <td>0008ed71</td>\n",
       "      <td>apple</td>\n",
       "      <td>Muy Bajo</td>\n",
       "      <td>35768</td>\n",
       "      <td>0</td>\n",
       "      <td>0</td>\n",
       "      <td>0</td>\n",
       "      <td>0</td>\n",
       "      <td>0</td>\n",
       "      <td>2018-05-17 12:27:47</td>\n",
       "      <td>...</td>\n",
       "      <td>0</td>\n",
       "      <td>6</td>\n",
       "      <td>0</td>\n",
       "      <td>0</td>\n",
       "      <td>cant_ev_tarde</td>\n",
       "      <td>1</td>\n",
       "      <td>0</td>\n",
       "      <td>0</td>\n",
       "      <td>2</td>\n",
       "      <td>buenos</td>\n",
       "    </tr>\n",
       "    <tr>\n",
       "      <th>1</th>\n",
       "      <td>00091926</td>\n",
       "      <td>apple</td>\n",
       "      <td>Muy Alto</td>\n",
       "      <td>44</td>\n",
       "      <td>0</td>\n",
       "      <td>0</td>\n",
       "      <td>0</td>\n",
       "      <td>34</td>\n",
       "      <td>0</td>\n",
       "      <td>2018-05-03 22:08:29</td>\n",
       "      <td>...</td>\n",
       "      <td>313</td>\n",
       "      <td>0</td>\n",
       "      <td>0</td>\n",
       "      <td>135</td>\n",
       "      <td>cant_ev_madrugada</td>\n",
       "      <td>163</td>\n",
       "      <td>108</td>\n",
       "      <td>1</td>\n",
       "      <td>102</td>\n",
       "      <td>muy buenos</td>\n",
       "    </tr>\n",
       "    <tr>\n",
       "      <th>2</th>\n",
       "      <td>00091a7a</td>\n",
       "      <td>apple</td>\n",
       "      <td>Muy Bajo</td>\n",
       "      <td>17713</td>\n",
       "      <td>0</td>\n",
       "      <td>0</td>\n",
       "      <td>1</td>\n",
       "      <td>0</td>\n",
       "      <td>0</td>\n",
       "      <td>2018-03-26 14:51:11</td>\n",
       "      <td>...</td>\n",
       "      <td>0</td>\n",
       "      <td>10</td>\n",
       "      <td>0</td>\n",
       "      <td>0</td>\n",
       "      <td>cant_ev_tarde</td>\n",
       "      <td>0</td>\n",
       "      <td>2</td>\n",
       "      <td>0</td>\n",
       "      <td>1</td>\n",
       "      <td>excelentes</td>\n",
       "    </tr>\n",
       "    <tr>\n",
       "      <th>3</th>\n",
       "      <td>000ba417</td>\n",
       "      <td>samsung</td>\n",
       "      <td>Alto</td>\n",
       "      <td>8818</td>\n",
       "      <td>0</td>\n",
       "      <td>0</td>\n",
       "      <td>6</td>\n",
       "      <td>0</td>\n",
       "      <td>0</td>\n",
       "      <td>2018-05-17 11:11:45</td>\n",
       "      <td>...</td>\n",
       "      <td>0</td>\n",
       "      <td>149</td>\n",
       "      <td>57</td>\n",
       "      <td>0</td>\n",
       "      <td>cant_ev_tarde</td>\n",
       "      <td>34</td>\n",
       "      <td>11</td>\n",
       "      <td>0</td>\n",
       "      <td>115</td>\n",
       "      <td>buenos</td>\n",
       "    </tr>\n",
       "    <tr>\n",
       "      <th>4</th>\n",
       "      <td>000c79fe</td>\n",
       "      <td>apple</td>\n",
       "      <td>Bajo</td>\n",
       "      <td>3967</td>\n",
       "      <td>0</td>\n",
       "      <td>0</td>\n",
       "      <td>1</td>\n",
       "      <td>0</td>\n",
       "      <td>0</td>\n",
       "      <td>2018-05-29 00:27:47</td>\n",
       "      <td>...</td>\n",
       "      <td>17</td>\n",
       "      <td>0</td>\n",
       "      <td>0</td>\n",
       "      <td>0</td>\n",
       "      <td>cant_ev_madrugada</td>\n",
       "      <td>0</td>\n",
       "      <td>0</td>\n",
       "      <td>0</td>\n",
       "      <td>4</td>\n",
       "      <td>buenos</td>\n",
       "    </tr>\n",
       "  </tbody>\n",
       "</table>\n",
       "<p>5 rows × 27 columns</p>\n",
       "</div>"
      ],
      "text/plain": [
       "     person marca_favorita nivel_de_actividad  Unnamed: 0  cant_accesos_north  \\\n",
       "0  0008ed71          apple           Muy Bajo       35768                   0   \n",
       "1  00091926          apple           Muy Alto          44                   0   \n",
       "2  00091a7a          apple           Muy Bajo       17713                   0   \n",
       "3  000ba417        samsung               Alto        8818                   0   \n",
       "4  000c79fe          apple               Bajo        3967                   0   \n",
       "\n",
       "   cant_accesos_center_west  cant_accesos_southeast  cant_accesos_south  \\\n",
       "0                         0                       0                   0   \n",
       "1                         0                       0                  34   \n",
       "2                         0                       1                   0   \n",
       "3                         0                       6                   0   \n",
       "4                         0                       1                   0   \n",
       "\n",
       "   cant_accesos_northeast     time_first_event             ...              \\\n",
       "0                       0  2018-05-17 12:27:47             ...               \n",
       "1                       0  2018-05-03 22:08:29             ...               \n",
       "2                       0  2018-03-26 14:51:11             ...               \n",
       "3                       0  2018-05-17 11:11:45             ...               \n",
       "4                       0  2018-05-29 00:27:47             ...               \n",
       "\n",
       "  cant_ev_madrugada cant_ev_tarde cant_ev_manana cant_ev_noche  \\\n",
       "0                 0             6              0             0   \n",
       "1               313             0              0           135   \n",
       "2                 0            10              0             0   \n",
       "3                 0           149             57             0   \n",
       "4                17             0              0             0   \n",
       "\n",
       "   franja_horaria_moda  cant_muy_buenos  cant_excelentes  cant_nuevos  \\\n",
       "0        cant_ev_tarde                1                0            0   \n",
       "1    cant_ev_madrugada              163              108            1   \n",
       "2        cant_ev_tarde                0                2            0   \n",
       "3        cant_ev_tarde               34               11            0   \n",
       "4    cant_ev_madrugada                0                0            0   \n",
       "\n",
       "   cant_buenos  condicion_de_producto_moda  \n",
       "0            2                      buenos  \n",
       "1          102                  muy buenos  \n",
       "2            1                  excelentes  \n",
       "3          115                      buenos  \n",
       "4            4                      buenos  \n",
       "\n",
       "[5 rows x 27 columns]"
      ]
     },
     "execution_count": 3,
     "metadata": {},
     "output_type": "execute_result"
    }
   ],
   "source": [
    "#model_df = pd.merge(features_gaby, features_gonza, how='inner', on='person')\n",
    "model_df = pd.merge(features_gaby, features_ari, how='inner', on='person')\n",
    "#model_df = pd.merge(model_df, features_gaby, how='inner', on='person')\n",
    "model_df.head()"
   ]
  },
  {
   "cell_type": "code",
   "execution_count": 4,
   "metadata": {},
   "outputs": [],
   "source": [
    "training_set = pd.merge(model_df, labels_training_set, how='inner', on='person')\n",
    "test_set = pd.merge(model_df, test_set, how='inner', on='person')"
   ]
  },
  {
   "cell_type": "code",
   "execution_count": 5,
   "metadata": {},
   "outputs": [],
   "source": [
    "training_set.drop(columns= 'Unnamed: 0', inplace=True)"
   ]
  },
  {
   "cell_type": "code",
   "execution_count": 6,
   "metadata": {},
   "outputs": [
    {
     "name": "stderr",
     "output_type": "stream",
     "text": [
      "/home/gonza/anaconda2/lib/python2.7/site-packages/ipykernel_launcher.py:1: DeprecationWarning: \n",
      ".ix is deprecated. Please use\n",
      ".loc for label based indexing or\n",
      ".iloc for positional indexing\n",
      "\n",
      "See the documentation here:\n",
      "http://pandas.pydata.org/pandas-docs/stable/indexing.html#ix-indexer-is-deprecated\n",
      "  \"\"\"Entry point for launching an IPython kernel.\n"
     ]
    }
   ],
   "source": [
    "X = np.array(training_set.ix[:,1:24])"
   ]
  },
  {
   "cell_type": "code",
   "execution_count": 7,
   "metadata": {},
   "outputs": [
    {
     "name": "stdout",
     "output_type": "stream",
     "text": [
      "<class 'pandas.core.frame.DataFrame'>\n",
      "Int64Index: 19414 entries, 0 to 19413\n",
      "Data columns (total 27 columns):\n",
      "person                                   19414 non-null object\n",
      "marca_favorita                           19414 non-null object\n",
      "nivel_de_actividad                       19414 non-null object\n",
      "cant_accesos_north                       19414 non-null int64\n",
      "cant_accesos_center_west                 19414 non-null int64\n",
      "cant_accesos_southeast                   19414 non-null int64\n",
      "cant_accesos_south                       19414 non-null int64\n",
      "cant_accesos_northeast                   19414 non-null int64\n",
      "time_first_event                         19414 non-null object\n",
      "time_last_event                          19414 non-null object\n",
      "how_long_ago_was_first_event             19414 non-null object\n",
      "how_long_ago_was_last_event              19414 non-null object\n",
      "first_and_last_event_distance            19414 non-null object\n",
      "cant_total_eventos                       19414 non-null int64\n",
      "first_and_last_event_distance_in_days    19414 non-null int64\n",
      "mean_events_per_day                      19414 non-null float64\n",
      "cant_ev_madrugada                        19414 non-null int64\n",
      "cant_ev_tarde                            19414 non-null int64\n",
      "cant_ev_manana                           19414 non-null int64\n",
      "cant_ev_noche                            19414 non-null int64\n",
      "franja_horaria_moda                      19414 non-null object\n",
      "cant_muy_buenos                          19414 non-null int64\n",
      "cant_excelentes                          19414 non-null int64\n",
      "cant_nuevos                              19414 non-null int64\n",
      "cant_buenos                              19414 non-null int64\n",
      "condicion_de_producto_moda               19414 non-null object\n",
      "label                                    19414 non-null int64\n",
      "dtypes: float64(1), int64(16), object(10)\n",
      "memory usage: 4.1+ MB\n"
     ]
    }
   ],
   "source": [
    "training_set.info()"
   ]
  },
  {
   "cell_type": "code",
   "execution_count": 8,
   "metadata": {
    "scrolled": true
   },
   "outputs": [
    {
     "data": {
      "text/plain": [
       "0    18434\n",
       "1      980\n",
       "Name: label, dtype: int64"
      ]
     },
     "execution_count": 8,
     "metadata": {},
     "output_type": "execute_result"
    }
   ],
   "source": [
    "training_set['label'].value_counts()"
   ]
  },
  {
   "cell_type": "code",
   "execution_count": 9,
   "metadata": {},
   "outputs": [],
   "source": [
    "r_training_set = training_set.drop(training_set[training_set.label.eq(0)].sample(10000).index)"
   ]
  },
  {
   "cell_type": "code",
   "execution_count": 10,
   "metadata": {
    "scrolled": false
   },
   "outputs": [
    {
     "data": {
      "text/plain": [
       "0    8434\n",
       "1     980\n",
       "Name: label, dtype: int64"
      ]
     },
     "execution_count": 10,
     "metadata": {},
     "output_type": "execute_result"
    }
   ],
   "source": [
    "r_training_set['label'].value_counts()"
   ]
  },
  {
   "cell_type": "code",
   "execution_count": 11,
   "metadata": {},
   "outputs": [
    {
     "name": "stdout",
     "output_type": "stream",
     "text": [
      "<class 'pandas.core.frame.DataFrame'>\n",
      "Int64Index: 9414 entries, 0 to 19412\n",
      "Data columns (total 27 columns):\n",
      "person                                   9414 non-null object\n",
      "marca_favorita                           9414 non-null object\n",
      "nivel_de_actividad                       9414 non-null object\n",
      "cant_accesos_north                       9414 non-null int64\n",
      "cant_accesos_center_west                 9414 non-null int64\n",
      "cant_accesos_southeast                   9414 non-null int64\n",
      "cant_accesos_south                       9414 non-null int64\n",
      "cant_accesos_northeast                   9414 non-null int64\n",
      "time_first_event                         9414 non-null object\n",
      "time_last_event                          9414 non-null object\n",
      "how_long_ago_was_first_event             9414 non-null object\n",
      "how_long_ago_was_last_event              9414 non-null object\n",
      "first_and_last_event_distance            9414 non-null object\n",
      "cant_total_eventos                       9414 non-null int64\n",
      "first_and_last_event_distance_in_days    9414 non-null int64\n",
      "mean_events_per_day                      9414 non-null float64\n",
      "cant_ev_madrugada                        9414 non-null int64\n",
      "cant_ev_tarde                            9414 non-null int64\n",
      "cant_ev_manana                           9414 non-null int64\n",
      "cant_ev_noche                            9414 non-null int64\n",
      "franja_horaria_moda                      9414 non-null object\n",
      "cant_muy_buenos                          9414 non-null int64\n",
      "cant_excelentes                          9414 non-null int64\n",
      "cant_nuevos                              9414 non-null int64\n",
      "cant_buenos                              9414 non-null int64\n",
      "condicion_de_producto_moda               9414 non-null object\n",
      "label                                    9414 non-null int64\n",
      "dtypes: float64(1), int64(16), object(10)\n",
      "memory usage: 2.0+ MB\n"
     ]
    }
   ],
   "source": [
    "r_training_set.info()"
   ]
  },
  {
   "cell_type": "code",
   "execution_count": 12,
   "metadata": {},
   "outputs": [],
   "source": [
    "features = ['cant_total_eventos',\n",
    "           'cant_ev_madrugada',\n",
    "           'cant_ev_tarde',\n",
    "           'cant_ev_noche',\n",
    "           'cant_ev_manana',\n",
    "           'cant_excelentes',\n",
    "           'cant_nuevos',\n",
    "           'cant_buenos',\n",
    "           'first_and_last_event_distance_in_days',\n",
    "           'mean_events_per_day']"
   ]
  },
  {
   "cell_type": "code",
   "execution_count": 13,
   "metadata": {},
   "outputs": [],
   "source": [
    "x = np.array(r_training_set[features])\n",
    "y = np.array(r_training_set['label'])"
   ]
  },
  {
   "cell_type": "code",
   "execution_count": 14,
   "metadata": {},
   "outputs": [],
   "source": [
    "X_train, X_test, y_train, y_test = train_test_split(x,y, test_size=0.20, random_state=7506)"
   ]
  },
  {
   "cell_type": "code",
   "execution_count": 15,
   "metadata": {},
   "outputs": [],
   "source": [
    "best_accuracy = 0\n",
    "worst_accuracy = 1\n",
    "best_k = 0\n",
    "worst_k = 0\n",
    "best_prediction = []\n",
    "for i in xrange(1,1001,2):\n",
    "    knn = KNeighborsClassifier(n_neighbors=i)\n",
    "    knn.fit(X_train, y_train)\n",
    "    pred = knn.predict(X_test)\n",
    "    accuracy = accuracy_score(y_test,pred)\n",
    "    if (accuracy > best_accuracy) :\n",
    "        best_k = i\n",
    "        best_accuracy = accuracy\n",
    "        best_prediction = pred\n",
    "    if (accuracy < worst_accuracy) : \n",
    "        worst_accuracy = accuracy\n",
    "        worst_k = i"
   ]
  },
  {
   "cell_type": "code",
   "execution_count": 16,
   "metadata": {},
   "outputs": [
    {
     "name": "stdout",
     "output_type": "stream",
     "text": [
      "Best accuracy: 0.8911311736590547 with k=21\n",
      "Worst accuracy: 0.816250663834307 with k= 1\n"
     ]
    }
   ],
   "source": [
    "print 'Best accuracy: ' + str(best_accuracy) + ' with k='  + str(best_k)\n",
    "print 'Worst accuracy: ' + str(worst_accuracy) + ' with k= ' + str(worst_k)"
   ]
  },
  {
   "cell_type": "code",
   "execution_count": 17,
   "metadata": {
    "scrolled": true
   },
   "outputs": [
    {
     "data": {
      "text/plain": [
       "array([0])"
      ]
     },
     "execution_count": 17,
     "metadata": {},
     "output_type": "execute_result"
    }
   ],
   "source": [
    "bunique_elements, counts_elements = np.unique(best_prediction, return_counts=True)\n",
    "bunique_elements\n"
   ]
  },
  {
   "cell_type": "code",
   "execution_count": 18,
   "metadata": {},
   "outputs": [
    {
     "data": {
      "text/plain": [
       "array([1883])"
      ]
     },
     "execution_count": 18,
     "metadata": {},
     "output_type": "execute_result"
    }
   ],
   "source": [
    "counts_elements"
   ]
  },
  {
   "cell_type": "code",
   "execution_count": 19,
   "metadata": {},
   "outputs": [],
   "source": [
    "z = np.array(test_set[features])\n",
    "pred = knn.predict(z)"
   ]
  },
  {
   "cell_type": "code",
   "execution_count": 20,
   "metadata": {},
   "outputs": [],
   "source": [
    "persons = test_set['person']"
   ]
  },
  {
   "cell_type": "code",
   "execution_count": 21,
   "metadata": {},
   "outputs": [
    {
     "data": {
      "text/plain": [
       "0    19415\n",
       "Name: label, dtype: int64"
      ]
     },
     "execution_count": 21,
     "metadata": {},
     "output_type": "execute_result"
    }
   ],
   "source": [
    "submit = pd.DataFrame({'label': pred, 'person': persons})\n",
    "submit = submit[['person', 'label']]\n",
    "\n",
    "submit.to_csv('../submits/submit_test2_knn.csv', index=False)\n",
    "submit['label'].value_counts()"
   ]
  },
  {
   "cell_type": "code",
   "execution_count": null,
   "metadata": {},
   "outputs": [],
   "source": []
  }
 ],
 "metadata": {
  "kernelspec": {
   "display_name": "Python 2",
   "language": "python",
   "name": "python2"
  },
  "language_info": {
   "codemirror_mode": {
    "name": "ipython",
    "version": 2
   },
   "file_extension": ".py",
   "mimetype": "text/x-python",
   "name": "python",
   "nbconvert_exporter": "python",
   "pygments_lexer": "ipython2",
   "version": "2.7.15"
  }
 },
 "nbformat": 4,
 "nbformat_minor": 2
}
