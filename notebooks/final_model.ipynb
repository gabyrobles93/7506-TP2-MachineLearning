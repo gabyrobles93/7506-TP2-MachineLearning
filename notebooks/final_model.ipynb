{
 "cells": [
  {
   "cell_type": "code",
   "execution_count": 1,
   "metadata": {},
   "outputs": [
    {
     "name": "stderr",
     "output_type": "stream",
     "text": [
      "/home/gonzalodiz/anaconda2/lib/python2.7/site-packages/sklearn/cross_validation.py:41: DeprecationWarning: This module was deprecated in version 0.18 in favor of the model_selection module into which all the refactored classes and functions are moved. Also note that the interface of the new CV iterators are different from that of this module. This module will be removed in 0.20.\n",
      "  \"This module will be removed in 0.20.\", DeprecationWarning)\n"
     ]
    }
   ],
   "source": [
    "# loading libraries\n",
    "\n",
    "import pandas as pd\n",
    "import pandas as pd\n",
    "import numpy as np\n",
    "from sklearn.cross_validation import train_test_split\n",
    "from sklearn.neighbors import KNeighborsClassifier\n",
    "from sklearn.metrics import accuracy_score\n",
    "from sklearn.metrics import log_loss\n",
    "import xgboost as xgb\n",
    "from xgboost import plot_importance\n",
    "from matplotlib import pyplot\n",
    "from sklearn.model_selection import StratifiedKFold\n",
    "from sklearn.model_selection import GridSearchCV as GridSearch"
   ]
  },
  {
   "cell_type": "markdown",
   "metadata": {},
   "source": [
    "### Entre cada uno de los integrantes del grupo fuimos obteniendo distintos features que nos parecieron interesantes y que consideramos que podrian servir para las predicciones.\n",
    "\n",
    "#### Leemos los distintos CSVs que contienen los features\n"
   ]
  },
  {
   "cell_type": "code",
   "execution_count": 2,
   "metadata": {},
   "outputs": [],
   "source": [
    "features_gaby = pd.read_csv('../features/features_gaby.csv')\n",
    "features_gonza = pd.read_csv('../features/features_gonza.csv').drop(columns='Unnamed: 0')\n",
    "features_ari = pd.read_csv('../features/features_ariel.csv')\n",
    "#features_mati = pd.read_csv('../features/events_qty_per_person.csv')\n",
    "labels_training_set = pd.read_csv('../dataset/labels_training_set.csv')\n",
    "test_set = pd.read_csv('../dataset/trocafone_kaggle_test.csv')"
   ]
  },
  {
   "cell_type": "markdown",
   "metadata": {},
   "source": [
    "## Mergeamos todos los features en un solo dataframe de la forma <persona, feature1, feature2,...,...>"
   ]
  },
  {
   "cell_type": "code",
   "execution_count": 3,
   "metadata": {
    "scrolled": true
   },
   "outputs": [
    {
     "data": {
      "text/html": [
       "<div>\n",
       "<style scoped>\n",
       "    .dataframe tbody tr th:only-of-type {\n",
       "        vertical-align: middle;\n",
       "    }\n",
       "\n",
       "    .dataframe tbody tr th {\n",
       "        vertical-align: top;\n",
       "    }\n",
       "\n",
       "    .dataframe thead th {\n",
       "        text-align: right;\n",
       "    }\n",
       "</style>\n",
       "<table border=\"1\" class=\"dataframe\">\n",
       "  <thead>\n",
       "    <tr style=\"text-align: right;\">\n",
       "      <th></th>\n",
       "      <th>person</th>\n",
       "      <th>marca_favorita_apple</th>\n",
       "      <th>marca_favorita_asus</th>\n",
       "      <th>marca_favorita_lenovo</th>\n",
       "      <th>marca_favorita_lg</th>\n",
       "      <th>marca_favorita_motorola</th>\n",
       "      <th>marca_favorita_no tiene</th>\n",
       "      <th>marca_favorita_quantum</th>\n",
       "      <th>marca_favorita_samsung</th>\n",
       "      <th>marca_favorita_sony</th>\n",
       "      <th>...</th>\n",
       "      <th>cant_buenos</th>\n",
       "      <th>condicion_de_producto_moda</th>\n",
       "      <th>has_converted_before</th>\n",
       "      <th>most_viewed_sku</th>\n",
       "      <th>most_viewed_color_Preto</th>\n",
       "      <th>most_viewed_color_Branco</th>\n",
       "      <th>most_viewed_color_Dourado</th>\n",
       "      <th>region_brasil_Sao Paulo</th>\n",
       "      <th>region_brasil_Unknown</th>\n",
       "      <th>region_brasil_Minas Gerais</th>\n",
       "    </tr>\n",
       "  </thead>\n",
       "  <tbody>\n",
       "    <tr>\n",
       "      <th>0</th>\n",
       "      <td>0008ed71</td>\n",
       "      <td>1</td>\n",
       "      <td>0</td>\n",
       "      <td>0</td>\n",
       "      <td>0</td>\n",
       "      <td>0</td>\n",
       "      <td>0</td>\n",
       "      <td>0</td>\n",
       "      <td>0</td>\n",
       "      <td>0</td>\n",
       "      <td>...</td>\n",
       "      <td>2</td>\n",
       "      <td>buenos</td>\n",
       "      <td>0.0</td>\n",
       "      <td>3372.0</td>\n",
       "      <td>1</td>\n",
       "      <td>0</td>\n",
       "      <td>0</td>\n",
       "      <td>0</td>\n",
       "      <td>1</td>\n",
       "      <td>0</td>\n",
       "    </tr>\n",
       "    <tr>\n",
       "      <th>1</th>\n",
       "      <td>00091926</td>\n",
       "      <td>1</td>\n",
       "      <td>0</td>\n",
       "      <td>0</td>\n",
       "      <td>0</td>\n",
       "      <td>0</td>\n",
       "      <td>0</td>\n",
       "      <td>0</td>\n",
       "      <td>0</td>\n",
       "      <td>0</td>\n",
       "      <td>...</td>\n",
       "      <td>102</td>\n",
       "      <td>muy buenos</td>\n",
       "      <td>0.0</td>\n",
       "      <td>8568.0</td>\n",
       "      <td>0</td>\n",
       "      <td>0</td>\n",
       "      <td>1</td>\n",
       "      <td>0</td>\n",
       "      <td>0</td>\n",
       "      <td>0</td>\n",
       "    </tr>\n",
       "    <tr>\n",
       "      <th>2</th>\n",
       "      <td>00091a7a</td>\n",
       "      <td>1</td>\n",
       "      <td>0</td>\n",
       "      <td>0</td>\n",
       "      <td>0</td>\n",
       "      <td>0</td>\n",
       "      <td>0</td>\n",
       "      <td>0</td>\n",
       "      <td>0</td>\n",
       "      <td>0</td>\n",
       "      <td>...</td>\n",
       "      <td>1</td>\n",
       "      <td>excelentes</td>\n",
       "      <td>0.0</td>\n",
       "      <td>1357.0</td>\n",
       "      <td>0</td>\n",
       "      <td>0</td>\n",
       "      <td>0</td>\n",
       "      <td>0</td>\n",
       "      <td>0</td>\n",
       "      <td>1</td>\n",
       "    </tr>\n",
       "    <tr>\n",
       "      <th>3</th>\n",
       "      <td>000ba417</td>\n",
       "      <td>0</td>\n",
       "      <td>0</td>\n",
       "      <td>0</td>\n",
       "      <td>0</td>\n",
       "      <td>0</td>\n",
       "      <td>0</td>\n",
       "      <td>0</td>\n",
       "      <td>1</td>\n",
       "      <td>0</td>\n",
       "      <td>...</td>\n",
       "      <td>115</td>\n",
       "      <td>buenos</td>\n",
       "      <td>1.0</td>\n",
       "      <td>2988.0</td>\n",
       "      <td>1</td>\n",
       "      <td>0</td>\n",
       "      <td>0</td>\n",
       "      <td>1</td>\n",
       "      <td>0</td>\n",
       "      <td>0</td>\n",
       "    </tr>\n",
       "    <tr>\n",
       "      <th>4</th>\n",
       "      <td>000c79fe</td>\n",
       "      <td>1</td>\n",
       "      <td>0</td>\n",
       "      <td>0</td>\n",
       "      <td>0</td>\n",
       "      <td>0</td>\n",
       "      <td>0</td>\n",
       "      <td>0</td>\n",
       "      <td>0</td>\n",
       "      <td>0</td>\n",
       "      <td>...</td>\n",
       "      <td>4</td>\n",
       "      <td>buenos</td>\n",
       "      <td>0.0</td>\n",
       "      <td>9944.0</td>\n",
       "      <td>0</td>\n",
       "      <td>0</td>\n",
       "      <td>0</td>\n",
       "      <td>0</td>\n",
       "      <td>0</td>\n",
       "      <td>1</td>\n",
       "    </tr>\n",
       "  </tbody>\n",
       "</table>\n",
       "<p>5 rows × 47 columns</p>\n",
       "</div>"
      ],
      "text/plain": [
       "     person  marca_favorita_apple  marca_favorita_asus  marca_favorita_lenovo  \\\n",
       "0  0008ed71                     1                    0                      0   \n",
       "1  00091926                     1                    0                      0   \n",
       "2  00091a7a                     1                    0                      0   \n",
       "3  000ba417                     0                    0                      0   \n",
       "4  000c79fe                     1                    0                      0   \n",
       "\n",
       "   marca_favorita_lg  marca_favorita_motorola  marca_favorita_no tiene  \\\n",
       "0                  0                        0                        0   \n",
       "1                  0                        0                        0   \n",
       "2                  0                        0                        0   \n",
       "3                  0                        0                        0   \n",
       "4                  0                        0                        0   \n",
       "\n",
       "   marca_favorita_quantum  marca_favorita_samsung  marca_favorita_sony  \\\n",
       "0                       0                       0                    0   \n",
       "1                       0                       0                    0   \n",
       "2                       0                       0                    0   \n",
       "3                       0                       1                    0   \n",
       "4                       0                       0                    0   \n",
       "\n",
       "              ...              cant_buenos  condicion_de_producto_moda  \\\n",
       "0             ...                        2                      buenos   \n",
       "1             ...                      102                  muy buenos   \n",
       "2             ...                        1                  excelentes   \n",
       "3             ...                      115                      buenos   \n",
       "4             ...                        4                      buenos   \n",
       "\n",
       "   has_converted_before  most_viewed_sku  most_viewed_color_Preto  \\\n",
       "0                   0.0           3372.0                        1   \n",
       "1                   0.0           8568.0                        0   \n",
       "2                   0.0           1357.0                        0   \n",
       "3                   1.0           2988.0                        1   \n",
       "4                   0.0           9944.0                        0   \n",
       "\n",
       "   most_viewed_color_Branco  most_viewed_color_Dourado  \\\n",
       "0                         0                          0   \n",
       "1                         0                          1   \n",
       "2                         0                          0   \n",
       "3                         0                          0   \n",
       "4                         0                          0   \n",
       "\n",
       "   region_brasil_Sao Paulo  region_brasil_Unknown  region_brasil_Minas Gerais  \n",
       "0                        0                      1                           0  \n",
       "1                        0                      0                           0  \n",
       "2                        0                      0                           1  \n",
       "3                        1                      0                           0  \n",
       "4                        0                      0                           1  \n",
       "\n",
       "[5 rows x 47 columns]"
      ]
     },
     "execution_count": 3,
     "metadata": {},
     "output_type": "execute_result"
    }
   ],
   "source": [
    "#model_df = pd.merge(features_gaby, features_gonza, how='inner', on='person')\n",
    "model_df = pd.merge(features_gaby, features_ari, how='inner', on='person')\n",
    "model_df = pd.merge(model_df, features_gonza, how='inner', on='person')\n",
    "model_df.head()"
   ]
  },
  {
   "cell_type": "markdown",
   "metadata": {},
   "source": [
    "## Al dataframe de las personas con sus features le agregamos los labels para saber si cada persona o no realizo una compra.\n",
    "\n",
    "## Tambien tenemos un dataframe de test, el cual contiene todas las personas que queremos predecir y sus features ( queremos predecir sus labels)"
   ]
  },
  {
   "cell_type": "code",
   "execution_count": 4,
   "metadata": {},
   "outputs": [],
   "source": [
    "training_set = pd.merge(model_df, labels_training_set, how='inner', on='person')\n",
    "test_set = pd.merge(model_df, test_set, how='inner', on='person')\n",
    "training_set.drop(columns= 'Unnamed: 0', inplace=True)"
   ]
  },
  {
   "cell_type": "markdown",
   "metadata": {},
   "source": [
    "## Como se puede observar en nuestro set de entrenamiento predomina el label 0, la mayoria de las personas no realizo una conversion, esto debemos balancearlo."
   ]
  },
  {
   "cell_type": "code",
   "execution_count": 5,
   "metadata": {
    "scrolled": false
   },
   "outputs": [
    {
     "data": {
      "text/plain": [
       "0    18434\n",
       "1      980\n",
       "Name: label, dtype: int64"
      ]
     },
     "execution_count": 5,
     "metadata": {},
     "output_type": "execute_result"
    }
   ],
   "source": [
    "training_set['label'].value_counts()"
   ]
  },
  {
   "cell_type": "markdown",
   "metadata": {},
   "source": [
    "## Elimino 17500 filas que contienen el label 0 para balancear el set de entrenamiento.\n",
    "\n",
    "# <font color='red'> Preguntar de cual es la mejor manera de hacer esto</font>"
   ]
  },
  {
   "cell_type": "code",
   "execution_count": 6,
   "metadata": {},
   "outputs": [
    {
     "data": {
      "text/plain": [
       "1    980\n",
       "0    934\n",
       "Name: label, dtype: int64"
      ]
     },
     "execution_count": 6,
     "metadata": {},
     "output_type": "execute_result"
    }
   ],
   "source": [
    "r_training_set = training_set.drop(training_set[training_set.label.eq(0)].sample(17500).index)\n",
    "r_training_set['label'].value_counts()"
   ]
  },
  {
   "cell_type": "code",
   "execution_count": 7,
   "metadata": {
    "scrolled": true
   },
   "outputs": [
    {
     "name": "stdout",
     "output_type": "stream",
     "text": [
      "<class 'pandas.core.frame.DataFrame'>\n",
      "Int64Index: 1914 entries, 13 to 19409\n",
      "Data columns (total 47 columns):\n",
      "person                                   1914 non-null object\n",
      "marca_favorita_apple                     1914 non-null int64\n",
      "marca_favorita_asus                      1914 non-null int64\n",
      "marca_favorita_lenovo                    1914 non-null int64\n",
      "marca_favorita_lg                        1914 non-null int64\n",
      "marca_favorita_motorola                  1914 non-null int64\n",
      "marca_favorita_no tiene                  1914 non-null int64\n",
      "marca_favorita_quantum                   1914 non-null int64\n",
      "marca_favorita_samsung                   1914 non-null int64\n",
      "marca_favorita_sony                      1914 non-null int64\n",
      "nivel_de_actividad_Muy Bajo              1914 non-null int64\n",
      "nivel_de_actividad_Bajo                  1914 non-null int64\n",
      "nivel_de_actividad_Medio                 1914 non-null int64\n",
      "nivel_de_actividad_Alto                  1914 non-null int64\n",
      "nivel_de_actividad_Muy Alto              1914 non-null int64\n",
      "cant_accesos_north                       1914 non-null int64\n",
      "cant_accesos_center_west                 1914 non-null int64\n",
      "cant_accesos_southeast                   1914 non-null int64\n",
      "cant_accesos_south                       1914 non-null int64\n",
      "cant_accesos_northeast                   1914 non-null int64\n",
      "time_first_event                         1914 non-null object\n",
      "time_last_event                          1914 non-null object\n",
      "how_long_ago_was_first_event             1914 non-null object\n",
      "how_long_ago_was_last_event              1914 non-null object\n",
      "first_and_last_event_distance            1914 non-null object\n",
      "cant_total_eventos                       1914 non-null int64\n",
      "first_and_last_event_distance_in_days    1914 non-null int64\n",
      "mean_events_per_day                      1914 non-null float64\n",
      "cant_ev_madrugada                        1914 non-null int64\n",
      "cant_ev_tarde                            1914 non-null int64\n",
      "cant_ev_manana                           1914 non-null int64\n",
      "cant_ev_noche                            1914 non-null int64\n",
      "franja_horaria_moda                      1914 non-null object\n",
      "cant_muy_buenos                          1914 non-null int64\n",
      "cant_excelentes                          1914 non-null int64\n",
      "cant_nuevos                              1914 non-null int64\n",
      "cant_buenos                              1914 non-null int64\n",
      "condicion_de_producto_moda               1914 non-null object\n",
      "has_converted_before                     1914 non-null float64\n",
      "most_viewed_sku                          1914 non-null float64\n",
      "most_viewed_color_Preto                  1914 non-null int64\n",
      "most_viewed_color_Branco                 1914 non-null int64\n",
      "most_viewed_color_Dourado                1914 non-null int64\n",
      "region_brasil_Sao Paulo                  1914 non-null int64\n",
      "region_brasil_Unknown                    1914 non-null int64\n",
      "region_brasil_Minas Gerais               1914 non-null int64\n",
      "label                                    1914 non-null int64\n",
      "dtypes: float64(3), int64(36), object(8)\n",
      "memory usage: 717.8+ KB\n"
     ]
    }
   ],
   "source": [
    "r_training_set.info()"
   ]
  },
  {
   "cell_type": "markdown",
   "metadata": {},
   "source": [
    "## En el siguiente array incluimos los features que mas aportan para las predicciones"
   ]
  },
  {
   "cell_type": "code",
   "execution_count": 8,
   "metadata": {},
   "outputs": [],
   "source": [
    "features = ['cant_total_eventos', #0\n",
    "            'marca_favorita_apple',#1\n",
    "            'mean_events_per_day',#2\n",
    "            'has_converted_before',#3\n",
    "            'most_viewed_sku',#4\n",
    "            'most_viewed_color_Preto',#5\n",
    "            'most_viewed_color_Branco',#6\n",
    "            #'most_viewed_color_Dourado', #7\n",
    "            #'region_brasil_Sao Paulo',#8\n",
    "            #'region_brasil_Unknown',#9\n",
    "            #'region_brasil_Minas Gerais',#10\n",
    "            'marca_favorita_samsung',#11\n",
    "            'cant_ev_noche',#12\n",
    "            'cant_ev_manana',\n",
    "            'cant_ev_tarde',\n",
    "            'cant_ev_madrugada',\n",
    "            'cant_buenos',\n",
    "            'cant_muy_buenos',\n",
    "            'cant_excelentes'\n",
    "            #'nivel_de_actividad_Muy Bajo',#13\n",
    "            #'nivel_de_actividad_Muy Alto',#14\n",
    "            #'nivel_de_actividad_Bajo',#15\n",
    "            #'nivel_de_actividad_Medio',#16\n",
    "            #'nivel_de_actividad_Alto'#17\n",
    "           ]"
   ]
  },
  {
   "cell_type": "markdown",
   "metadata": {},
   "source": [
    "## Creo dos arrays el llamado X es generado a partir de mi dataframe de entrenamiento y los features que quiero tener en cuenta\n",
    "## Y el segundo Y es generado a partir de sus labels"
   ]
  },
  {
   "cell_type": "code",
   "execution_count": 9,
   "metadata": {},
   "outputs": [],
   "source": [
    "x = np.array(r_training_set[features])\n",
    "y = np.array(r_training_set['label'])"
   ]
  },
  {
   "cell_type": "markdown",
   "metadata": {},
   "source": [
    "## Usamos train_test_split para dividir el dataframe de entrenamiento en uno de test y otro de entrenamiento"
   ]
  },
  {
   "cell_type": "code",
   "execution_count": 10,
   "metadata": {
    "scrolled": true
   },
   "outputs": [],
   "source": [
    "X_train, X_test, y_train, y_test = train_test_split(x,y, test_size=0.10)"
   ]
  },
  {
   "cell_type": "markdown",
   "metadata": {},
   "source": [
    "## El primer algoritmo que utilizamos es KNN\n",
    "\n",
    "### En el siguiente loop iremos probando KNN con distintos Ks y nos quedaremos con la que obtuvimos mayor accuracy."
   ]
  },
  {
   "cell_type": "code",
   "execution_count": 11,
   "metadata": {},
   "outputs": [],
   "source": [
    "best_accuracy = 0\n",
    "worst_accuracy = 1\n",
    "best_k = 1\n",
    "worst_k = 0\n",
    "best_prediction = []\n",
    "#acumulated_acuracy = 0\n",
    "#loop_count = 0;\n",
    "\n",
    "for i in xrange(1,203,2):\n",
    "    knn = KNeighborsClassifier(n_neighbors=i)\n",
    "    knn.fit(X_train, y_train)\n",
    "    pred = (knn.predict_proba(X_test)[:,1])\n",
    "    accuracy = accuracy_score(y_test,pred.round(), normalize=False)\n",
    "    if (accuracy > best_accuracy) :\n",
    "        best_k = i\n",
    "        best_accuracy = accuracy\n",
    "        best_prediction = pred\n",
    "    if (accuracy < worst_accuracy) : \n",
    "        worst_accuracy = accuracy\n",
    "        worst_k = i\n",
    "    #loop_count += 1\n",
    "    #acumulated_acuracy += accuracy\n",
    "    #X_train, X_test, y_train, y_test = train_test_split(x,y, test_size=0.10)\n",
    "        "
   ]
  },
  {
   "cell_type": "code",
   "execution_count": 12,
   "metadata": {
    "scrolled": true
   },
   "outputs": [
    {
     "name": "stdout",
     "output_type": "stream",
     "text": [
      "Best accuracy: 0.6458333333333334 with k=99\n",
      "Worst accuracy: 0.00520833333333 with k= 0\n"
     ]
    }
   ],
   "source": [
    "print 'Best accuracy: ' + str(best_accuracy / float(best_prediction.size)) + ' with k='  + str(best_k)\n",
    "print 'Worst accuracy: ' + str(worst_accuracy / float(best_prediction.size)) + ' with k= ' + str(worst_k)\n",
    "#print \"Median accuracy \" + str(acumulated_acuracy / (float(loop_count) * float(best_prediction.size)))"
   ]
  },
  {
   "cell_type": "markdown",
   "metadata": {},
   "source": [
    "## Finalmente corremos KNN con el mejor K obtenido en el entrenamiento y el set que queremos predecir"
   ]
  },
  {
   "cell_type": "code",
   "execution_count": 13,
   "metadata": {},
   "outputs": [],
   "source": [
    "z = np.array(test_set[features])\n",
    "knn = KNeighborsClassifier(n_neighbors=best_k)\n",
    "knn.fit(x,y)\n",
    "pred = knn.predict_proba(z)[:,1]"
   ]
  },
  {
   "cell_type": "markdown",
   "metadata": {},
   "source": [
    "## Le agregamos las predicciones a los IDs de las personas y lo guardamos en un archivo.\n"
   ]
  },
  {
   "cell_type": "code",
   "execution_count": 14,
   "metadata": {
    "scrolled": true
   },
   "outputs": [],
   "source": [
    "persons = test_set['person']\n",
    "submit = pd.DataFrame({'label': pred, 'person': persons})\n",
    "submit = submit[['person', 'label']]\n",
    "submit.to_csv('../submits/knn.csv', index=False)"
   ]
  },
  {
   "cell_type": "markdown",
   "metadata": {},
   "source": [
    "## Revisamos la cantidad de conversiones y no conversiones predichas\n",
    "\n",
    "### Se tienen que repartir en un 50/50"
   ]
  },
  {
   "cell_type": "code",
   "execution_count": 15,
   "metadata": {
    "scrolled": true
   },
   "outputs": [
    {
     "name": "stdout",
     "output_type": "stream",
     "text": [
      "Cantidad de conversiones: 11006\n",
      "Cantidad de no conversiones: 8409\n"
     ]
    }
   ],
   "source": [
    "conversiones = submit.loc[submit['label'] < 0.5]['label'].count()\n",
    "print 'Cantidad de conversiones: ' + str(conversiones)\n",
    "\n",
    "no_conversiones = submit.loc[submit['label'] >= 0.5]['label'].count()\n",
    "print 'Cantidad de no conversiones: ' + str(no_conversiones)"
   ]
  },
  {
   "cell_type": "markdown",
   "metadata": {},
   "source": [
    "## XGBoost"
   ]
  },
  {
   "cell_type": "markdown",
   "metadata": {},
   "source": [
    "### En los siguientes arrays, ponemos los posibles hiperparametros que concideramos que mejor funcionarian para las predicciones.\n",
    "\n",
    "### Con grid search probamos todas las combinaciones posibles y nos quedamos con la que mayor accuracy nos dio."
   ]
  },
  {
   "cell_type": "code",
   "execution_count": 16,
   "metadata": {},
   "outputs": [],
   "source": [
    "n_estimators = [100, 200, 1500, 2000]\n",
    "max_depth = [2, 4, 6, 8]\n",
    "learning_rate = [0.0001, 0.001, 0.01]\n",
    "subsample = [0.3, 0.5, 0.7]\n",
    "gamma = [0.6, 0.7]\n",
    "colsample_bytree = [0.5, 0.7]\n",
    "\n",
    "\n",
    "param_grid = dict(max_depth=max_depth, n_estimators=n_estimators,\n",
    "                 learning_rate=learning_rate, subsample=subsample,\n",
    "                 gamma=gamma)\n"
   ]
  },
  {
   "cell_type": "code",
   "execution_count": 17,
   "metadata": {
    "scrolled": true
   },
   "outputs": [],
   "source": [
    "#kfold = StratifiedKFold(n_splits = 3, shuffle=True, random_state=7)\n",
    "#grid_search = GridSearch(xgboost, param_grid, scoring=\"neg_log_loss\", n_jobs = 1, cv=kfold, verbose=1)\n",
    "#result = grid_search.fit(x,y)"
   ]
  },
  {
   "cell_type": "code",
   "execution_count": 18,
   "metadata": {},
   "outputs": [],
   "source": [
    "#print(\"Best: %f using %s\" % (result.best_score_, result.best_params_))"
   ]
  },
  {
   "cell_type": "code",
   "execution_count": 19,
   "metadata": {},
   "outputs": [],
   "source": [
    "#means = result.cv_results_['mean_test_score']\n",
    "#stds = result.cv_results_['std_test_score']\n",
    "#params = result.cv_results_['params']\n",
    "#for mean, stdev, param in zip(means, stds, params):\n",
    "#\tprint(\"%f (%f) with: %r\" % (mean, stdev, param))"
   ]
  },
  {
   "cell_type": "markdown",
   "metadata": {},
   "source": [
    "### Corremos XGBoost para el set de entrenamiento y medimos su precision"
   ]
  },
  {
   "cell_type": "code",
   "execution_count": 20,
   "metadata": {
    "scrolled": true
   },
   "outputs": [
    {
     "name": "stdout",
     "output_type": "stream",
     "text": [
      "('Accuracy: ', 0.6354166666666666)\n"
     ]
    }
   ],
   "source": [
    "xgboost = xgb.XGBClassifier(learning_rate = 0.001,\\\n",
    "                            n_estimators= 2000,\\\n",
    "                            max_depth= 4,\\\n",
    "                            min_child_weight= 2,\\\n",
    "                            gamma=0.6,\\\n",
    "                            subsample=0.7,\\\n",
    "                            colsample_bytree=0.7,\\\n",
    "                            objective= 'binary:logistic',\\\n",
    "                            scale_pos_weight=1)\n",
    "\n",
    "xgboost.fit(X_train, y_train)\n",
    "pred = (xgboost.predict_proba(X_test)[:,1])\n",
    "accuracy = accuracy_score(y_test, pred.round(), normalize=False)\n",
    "\n",
    "print(\"Accuracy: \", accuracy / float(pred.size))"
   ]
  },
  {
   "cell_type": "markdown",
   "metadata": {},
   "source": [
    "## Analizamos cuales son los features que mayor peso tienen para xgboost."
   ]
  },
  {
   "cell_type": "code",
   "execution_count": 21,
   "metadata": {},
   "outputs": [
    {
     "name": "stdout",
     "output_type": "stream",
     "text": [
      "[0.13749027 0.02011553 0.15547544 0.0231472  0.15895776 0.01102053\n",
      " 0.00528494 0.01327379 0.10856652 0.02654758 0.07583269 0.04076365\n",
      " 0.08005244 0.08386251 0.05960916]\n"
     ]
    }
   ],
   "source": [
    "print(xgboost.feature_importances_)"
   ]
  },
  {
   "cell_type": "code",
   "execution_count": 22,
   "metadata": {
    "scrolled": true
   },
   "outputs": [
    {
     "data": {
      "image/png": "[encoded data removed]",
      "text/plain": [
       "<Figure size 432x288 with 1 Axes>"
      ]
     },
     "metadata": {
      "needs_background": "light"
     },
     "output_type": "display_data"
    }
   ],
   "source": [
    "plot_importance(xgboost)\n",
    "pyplot.show()"
   ]
  },
  {
   "cell_type": "code",
   "execution_count": 23,
   "metadata": {},
   "outputs": [],
   "source": [
    "xgboost = xgb.XGBClassifier(learning_rate = 0.001,\\\n",
    "                            n_estimators= 2000,\\\n",
    "                            max_depth= 4,\\\n",
    "                            min_child_weight= 2,\\\n",
    "                            gamma=0.6,\\\n",
    "                            subsample=0.7,\\\n",
    "                            colsample_bytree=0.7,\\\n",
    "                            objective= 'binary:logistic',\\\n",
    "                            scale_pos_weight=1)\n",
    "xgboost.fit(x,y)\n",
    "pred = (xgboost.predict_proba(z)[:,1])"
   ]
  },
  {
   "cell_type": "code",
   "execution_count": 24,
   "metadata": {},
   "outputs": [],
   "source": [
    "submit = pd.DataFrame({'label': pred, 'person': persons})\n",
    "submit = submit[['person', 'label']]\n",
    "submit.to_csv('../submits/xgboost.csv', index=False)"
   ]
  },
  {
   "cell_type": "code",
   "execution_count": 25,
   "metadata": {},
   "outputs": [
    {
     "name": "stdout",
     "output_type": "stream",
     "text": [
      "Cantidad de conversiones: 11883\n",
      "Cantidad de no conversiones: 7532\n"
     ]
    }
   ],
   "source": [
    "conversiones = submit.loc[submit['label'] < 0.5]['label'].count()\n",
    "print 'Cantidad de conversiones: ' + str(conversiones)\n",
    "\n",
    "no_conversiones = submit.loc[submit['label'] >= 0.5]['label'].count()\n",
    "print 'Cantidad de no conversiones: ' + str(no_conversiones)"
   ]
  },
  {
   "cell_type": "code",
   "execution_count": null,
   "metadata": {},
   "outputs": [],
   "source": []
  }
 ],
 "metadata": {
  "kernelspec": {
   "display_name": "Python 2",
   "language": "python",
   "name": "python2"
  },
  "language_info": {
   "codemirror_mode": {
    "name": "ipython",
    "version": 2
   },
   "file_extension": ".py",
   "mimetype": "text/x-python",
   "name": "python",
   "nbconvert_exporter": "python",
   "pygments_lexer": "ipython2",
   "version": "2.7.15"
  }
 },
 "nbformat": 4,
 "nbformat_minor": 2
}
